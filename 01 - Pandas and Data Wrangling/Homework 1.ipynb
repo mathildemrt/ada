{
 "cells": [
  {
   "cell_type": "markdown",
   "metadata": {},
   "source": [
    "# Table of Contents\n",
    " <p><div class=\"lev1\"><a href=\"#Task-1.-Compiling-Ebola-Data\"><span class=\"toc-item-num\">Task 1.&nbsp;&nbsp;</span>Compiling Ebola Data</a></div>\n",
    " <div class=\"lev1\"><a href=\"#Task-2.-RNA-Sequences\"><span class=\"toc-item-num\">Task 2.&nbsp;&nbsp;</span>RNA Sequences</a></div>\n",
    " <div class=\"lev1\"><a href=\"#Task-3.-Class-War-in-Titanic\"><span class=\"toc-item-num\">Task 3.&nbsp;&nbsp;</span>Class War in Titanic</a></div></p>"
   ]
  },
  {
   "cell_type": "code",
   "execution_count": 102,
   "metadata": {
    "collapsed": true
   },
   "outputs": [],
   "source": [
    "#DATA_FOLDER = '../../02 - Intro to Pandas/Data' # Use the data folder provided in Tutorial 02 - Intro to Pandas.\n",
    "DATA_FOLDER = '../../ADA2017-Tutorials/02 - Intro to Pandas/Data' # Use the data folder provided in Tutorial 02 - Intro to Pandas."
   ]
  },
  {
   "cell_type": "code",
   "execution_count": 2,
   "metadata": {},
   "outputs": [],
   "source": [
    "#all imports\n",
    "import seaborn as sns\n",
    "import pandas as pd\n",
    "import os\n",
    "import glob\n",
    "import numpy as np\n",
    "import re\n",
    "import matplotlib.pyplot as plt\n",
    "pd.options.mode.chained_assignment = None  #"
   ]
  },
  {
   "cell_type": "markdown",
   "metadata": {},
   "source": [
    "## Task 1. Compiling Ebola Data\n",
    "\n",
    "The `DATA_FOLDER/ebola` folder contains summarized reports of Ebola cases from three countries (Guinea, Liberia and Sierra Leone) during the recent outbreak of the disease in West Africa. For each country, there are daily reports that contain various information about the outbreak in several cities in each country.\n",
    "\n",
    "Use pandas to import these data files into a single `Dataframe`.\n",
    "Using this `DataFrame`, calculate for *each country*, the *daily average per month* of *new cases* and *deaths*.\n",
    "Make sure you handle all the different expressions for *new cases* and *deaths* that are used in the reports."
   ]
  },
  {
   "cell_type": "markdown",
   "metadata": {},
   "source": [
    "\n",
    "## Find the number of new deaths :\n",
    "\n",
    "\n",
    "Each `csv` is red and transformed in dataframe called `df`.\n",
    "\n",
    "To obtain the number of new deaths reported in this dataframe, we created a function `find_new_death` which takes as \n",
    "\n",
    "`Input`:\n",
    "\n",
    " - `df` the dataframe \n",
    " \n",
    " - `list_` the list of the previous dataframe\n",
    " \n",
    " - `country` the country name of the corresponding dataframe\n",
    " \n",
    "`Output`:\n",
    "\n",
    " - `df` the dataframe after some transformations\n",
    " \n",
    " - `new_death` the number of new deaths\n",
    " \n",
    "<br/>\n",
    " \n",
    " \n",
    "As for each country the data were reported under different name, we find the number a new deaths in a different way dependending on the country name:\n",
    " \n",
    "- ### Liberia ( `liberia` ):\n",
    "\n",
    " We took the number of new deaths as the `Totals` *value* of the `Variable` *Newly reported deaths*.  And we took care that this number was an `int`.\n",
    " \n",
    "- ### Guinea ( `guinea` ):\n",
    "\n",
    " We took the number of new deaths as the `Totals` value of the `Variable` *New deaths registered*.  And we took care that this number was an `int`.\n",
    "\n",
    " As sometimes the `Variable` name was *New deaths registered today* and not *New deaths registered*. We first renamed the `Variable` name in the same way: *New deaths registered*\n",
    " \n",
    "- ### Sierra Leone ( `sl` ):\n",
    "\n",
    " We took the number of new deaths as the sum of the `Totals` value of the `Variable` *death_suspected*, *death_probable*, *death_confirmed*.  And we took care that this number was an `int`.\n",
    " \n",
    " As for this country it was a cumulative number, we substracted the previous cumulative value of new deaths, (obtained from the the previous data frame saved in `list_` :  `list_[-1]`). For the first dataframe of Sierra Leone we choose to set the value of new death to 24, corresponding to the average value of August 2014. In this way it has no impact in the computation of the daily average per month. \n",
    " \n",
    " For the files with `NaN` value of new deaths the function return `new_death`= `NaN` \n",
    " \n",
    " \n",
    " "
   ]
  },
  {
   "cell_type": "code",
   "execution_count": 104,
   "metadata": {
    "collapsed": true
   },
   "outputs": [],
   "source": [
    "def find_new_death(df,list_, country):\n",
    "    if country=='liberia':\n",
    " \n",
    "        #NEW DEATH \n",
    "        new_death=int(df.loc[df['Variable'] == 'Newly reported deaths']['Totals'].values[0])\n",
    "            \n",
    "            \n",
    "    elif country=='guinea':\n",
    "        \n",
    "        df['Variable']=df['Variable'].replace(['New deaths registered today'], 'New deaths registered')\n",
    "            \n",
    "        #NEW DEATH\n",
    "        new_death=int(df.loc[df['Variable'] == 'New deaths registered']['Totals'].values[0])\n",
    "            \n",
    "            \n",
    "    elif country=='sl':\n",
    "           \n",
    "        #NEW DEATH\n",
    "        new_death=int((df.loc[df['Variable'] == 'death_suspected']['Totals'].values)[0])+int((df.loc[df['Variable'] == 'death_probable']['Totals'].values)[0])+int((df.loc[df['Variable'] == 'death_confirmed']['Totals'].values)[0])\n",
    "            \n",
    "            \n",
    "        if new_death!=0:\n",
    "\n",
    "            if list_==[]:\n",
    "\n",
    "                new_death==24  # average of August 2014 \n",
    "                    \n",
    "            else:\n",
    "\n",
    "                old_df=list_[-1]  # olf_dataframe\n",
    "                previous_death= int((old_df.loc[old_df['Variable'] == 'death_suspected']['Totals'].values)[0])+int((old_df.loc[old_df['Variable'] == 'death_probable']['Totals'].values)[0])+int((old_df.loc[old_df['Variable'] == 'death_confirmed']['Totals'].values)[0])\n",
    "            \n",
    "                new_death-=previous_death \n",
    "                    \n",
    "        else:\n",
    "            new_death=None\n",
    "    \n",
    "    \n",
    "    return df,new_death\n",
    "\n"
   ]
  },
  {
   "cell_type": "markdown",
   "metadata": {},
   "source": [
    "## Find the number of new cases :\n",
    "\n",
    "\n",
    "Each `csv` is red and transformed in dataframe called `df`.\n",
    "\n",
    "As for the number of new deaths, to obtain the number of new deaths reported in this dataframe, we created a function `find_new_death` which take as \n",
    "\n",
    "`Input`:\n",
    "\n",
    " - `df` the dataframe \n",
    " \n",
    " - `list_` the list of the previous dataframe\n",
    " \n",
    " - `country` the country name of the corresponding dataframe\n",
    " \n",
    "`Output`:\n",
    "\n",
    " - `df` the dataframe after some transformations\n",
    " \n",
    " - `new_cases` the number of new cases\n",
    " \n",
    "<br/>\n",
    " \n",
    " \n",
    "As for the number of new deaths, we found the number of new deaths in a differerent way for each country:\n",
    " \n",
    "- ### Liberia ( `liberia` ):\n",
    "\n",
    " We took the number of new cases as the sum of the `Totals` value of the `Variable` *New Case/s (Suspected)*, *New Case/s (Probable)*, *'New case/s (confirmed)*. And we took care that this number was an `int`.\n",
    " \n",
    " We noticed that for some file we had as `Totals` value of the `Variable` *New Case/s (Suspected)* the cumulative value corresponding to the `Variable` *Total suspected cases*. So when the `Totals` value of the `Variable` *New Case/s (Suspected)* was greater than 1000 (really unlikely compared to the others data) we set this value to the `Variable` *Total suspected cases*. And we set the ` Totals` value of the `Variable` *New Case/s (Suspected)* to 0. \n",
    " \n",
    " Then when `Totals` value of the `Variable` *New Case/s (Suspected)* was equal to 0, we recalculated this value as the difference between the  `Totals` value of the  `Variable` *Total suspected cases* of this dataframe and the one of the previous dataframe ( `previous_df =list_[-1]` ). In this way we obtained the correct value of *New Case/s (Suspected)*  for the dataframe for which we set it to 0 (when *New Case/s (Suspected)* was greater than 1000) but also for the dataframe where this value was missing.\n",
    " \n",
    " We did the same for *New Case/s (Probable)* and *New case/s (confirmed)*\n",
    " \n",
    "\n",
    "- ### Guinea ( `guinea` ):\n",
    "\n",
    " We took the number of new cases as the sum of the `Totals` value of the `Variable` *New cases of suspects*, *New cases of probables*, *New cases of confirmed*.  And we took care that this number was an `int`.\n",
    "\n",
    "\n",
    "- ### Sierra Leone ( `sl` ):\n",
    "\n",
    " We took the number of new deaths as the sum of the `Totals` value of the `Variable` *new_suspected'*, *new_probable*, *new_confirmed*.  And we took care that this number was an `int`.\n",
    "\n"
   ]
  },
  {
   "cell_type": "code",
   "execution_count": 61,
   "metadata": {
    "collapsed": true
   },
   "outputs": [],
   "source": [
    "def find_new_cases(df,list_, country):\n",
    "\n",
    "    \n",
    "    if country=='liberia':\n",
    "            \n",
    "        #NEW CASES\n",
    "        \n",
    "        # if New Case/s (Suspected) >1000 -> reset those Value to 'Total suspected cases'\n",
    "        # we aplly this also to probable and confirmed case\n",
    "        if int((df.loc[df['Variable'] == 'New Case/s (Suspected)']['Totals'].values)[0])>1000:\n",
    "                \n",
    "            ns= int((df.loc[df['Variable'] == 'New Case/s (Suspected)']['Totals'].values)[0])\n",
    "            df.Totals[df.index[df['Variable'] == 'Total suspected cases'][0]]=ns\n",
    "            df.Totals[df.index[df['Variable'] == 'New Case/s (Suspected)'][0]]=0\n",
    "                \n",
    "            np= int((df.loc[df['Variable'] == 'New Case/s (Probable)']['Totals'].values)[0])\n",
    "            df.Totals[df.index[df['Variable'] == 'Total probable cases'][0]]=np\n",
    "            df.Totals[df.index[df['Variable'] == 'New Case/s (Probable)'][0]]=0\n",
    "                \n",
    "            nc= int((df.loc[df['Variable'] == 'New case/s (confirmed)']['Totals'].values)[0])\n",
    "            df.Totals[df.index[df['Variable'] == 'Total confirmed cases'][0]]=nc\n",
    "            df.Totals[df.index[df['Variable'] == 'New case/s (confirmed)'][0]]=0\n",
    "             \n",
    "        if int((df.loc[df['Variable'] == 'New Case/s (Suspected)']['Totals'].values)[0])==0:\n",
    "            old_df=list_[-1]\n",
    "                \n",
    "            ts= int((df.loc[df['Variable'] == 'Total suspected cases']['Totals'].values)[0])\n",
    "            old_ts= int((old_df.loc[old_df['Variable'] == 'Total suspected cases']['Totals'].values)[0])\n",
    "            df.Totals[df.index[df['Variable'] == 'New Case/s (Suspected)'][0]]=ts-old_ts\n",
    "    \n",
    "                \n",
    "            tp= int((df.loc[df['Variable'] == 'Total probable cases']['Totals'].values)[0])\n",
    "            old_tp= int((old_df.loc[old_df['Variable'] == 'Total probable cases']['Totals'].values)[0])\n",
    "            df.Totals[df.index[df['Variable'] == 'New Case/s (Probable)'][0]]=tp-old_tp\n",
    "                \n",
    "            tc= int((df.loc[df['Variable'] == 'Total confirmed cases']['Totals'].values)[0])\n",
    "            old_tc= int((old_df.loc[old_df['Variable'] == 'Total confirmed cases']['Totals'].values)[0])\n",
    "            df.Totals[df.index[df['Variable'] == 'New case/s (confirmed)'][0]]=tc-old_tc\n",
    "                \n",
    "                \n",
    "            \n",
    "        new_cases=int((df.loc[df['Variable'] == 'New Case/s (Suspected)']['Totals'].values)[0])+int((df.loc[df['Variable'] == 'New Case/s (Probable)']['Totals'].values)[0])+int((df.loc[df['Variable'] == 'New case/s (confirmed)']['Totals'].values)[0])\n",
    "            \n",
    "            \n",
    "\n",
    "    elif country=='guinea':\n",
    "     \n",
    "        \n",
    "        #NEW CASES\n",
    "        new_cases= int(df.loc[df['Variable'] == 'New cases of suspects']['Totals'].values[0])+int(df.loc[df['Variable'] == 'New cases of probables']['Totals'].values[0])+int(df.loc[df['Variable'] == 'New cases of confirmed']['Totals'].values[0])\n",
    "            \n",
    "            \n",
    "           \n",
    "    elif country=='sl':\n",
    "   \n",
    "        #NEW CASES\n",
    "        new_cases=int((df.loc[df['Variable'] == 'new_suspected']['Totals'].values)[0])+int((df.loc[df['Variable'] == 'new_probable']['Totals'].values)[0])+int((df.loc[df['Variable'] == 'new_confirmed']['Totals'].values)[0])\n",
    "        \n",
    "\n",
    "    \n",
    "    \n",
    "    return df,new_cases"
   ]
  },
  {
   "cell_type": "markdown",
   "metadata": {},
   "source": [
    "## Create a new DataFrame\n",
    "\n",
    "path to the folder ebola:"
   ]
  },
  {
   "cell_type": "code",
   "execution_count": 62,
   "metadata": {
    "collapsed": true
   },
   "outputs": [],
   "source": [
    "path=DATA_FOLDER+'/ebola/'"
   ]
  },
  {
   "cell_type": "markdown",
   "metadata": {},
   "source": [
    "Read the name of the different folder, and keep those whose ending with data, in a `list` called *country_dir*:"
   ]
  },
  {
   "cell_type": "code",
   "execution_count": 63,
   "metadata": {
    "collapsed": true
   },
   "outputs": [],
   "source": [
    "#read the name of different folder, and keep those whose end with data\n",
    "list_dir=np.copy(os.listdir(path))\n",
    "country_dir=list_dir[[name.endswith('data') for name in list_dir]]"
   ]
  },
  {
   "cell_type": "markdown",
   "metadata": {},
   "source": [
    "For each country folder, all the `cvs` files names are read using `glob`, and the corresponding path is saved in `cvsFiles`. Then each `cvs` is red and transformed in a dataframe `df` . We renamed the columns index in the same way : `Variable` (and not `Description` etc...), `Date`, `Totals` ...\n",
    "\n",
    "Then we computed the number of `new_cases` and `new_death` using the function `find_new_cases` and  `find_new_death`. and if those number were not `NaN` then we created a new dataframe `df_cleaned`, which has for attribute `Date`,`Month`, `newdeaths`, `newdeaths`.\n",
    "\n",
    "For each country all those new datframes are concatenate in a `country frame`,the daily average per month is computed using the function `DataFrameresample('M').mean()`, and the name of the country is added as an attribute of `country frame`\n",
    "\n",
    "Finally all the country frame are concatenated to obtain the `country frame`."
   ]
  },
  {
   "cell_type": "code",
   "execution_count": 64,
   "metadata": {
    "collapsed": true
   },
   "outputs": [],
   "source": [
    "\n",
    "#list to store the data-frame of each coutry\n",
    "final_list=[]\n",
    "\n",
    "for country_name in country_dir:\n",
    "    \n",
    "    #country is the name of the folder without data\n",
    "    country=country_name.replace('_data', '')\n",
    "   \n",
    "    csvFiles = glob.glob( path+country_name+'/' \"/*.csv\")\n",
    "    \n",
    "    \n",
    "    list_ = []  #list cointaining each dataframe of a folder\n",
    "    list_cleaned=[]   #list cointaining each new dataframe of a folder\n",
    "\n",
    "    for files in csvFiles:\n",
    "        \n",
    "        df = pd.read_csv(files)\n",
    "\n",
    "        #to have the same columns name\n",
    "        df=df.rename(index=str, columns={\"Description\": \"Variable\", \n",
    "                                         \"date\": \"Date\",\n",
    "                                         \"variable\": \"Variable\", \n",
    "                                         \"National\":\"Totals\"})  \n",
    "        \n",
    "        df=df.fillna(0)\n",
    "        \n",
    "        df,new_death=find_new_death(df,list_, country)\n",
    "    \n",
    "        df,new_cases=find_new_cases(df,list_, country)\n",
    "           \n",
    "\n",
    "        if (new_death!=None and new_cases!=None):\n",
    "            #Create a new DataFrame\n",
    "            df_cleaned=pd.DataFrame({\n",
    "                    'Date':pd.to_datetime([df.Date[0]]),\n",
    "                    'Month': pd.to_datetime([df.Date[0]]).month,\n",
    "                    'newdeaths': new_death, \n",
    "                    'newcases': new_cases })\n",
    "            \n",
    "        \n",
    "            list_.append(df)\n",
    "            list_cleaned.append(df_cleaned)\n",
    "            \n",
    "    \n",
    "    #create country_frame\n",
    "    country_frame= pd.concat(list_cleaned)\n",
    "    \n",
    "    #Compute the daily average per month\n",
    "    country_frame=country_frame.set_index(['Date'])\n",
    "    country_frame.index = pd.to_datetime(country_frame.index)\n",
    "    country_frame=country_frame.resample('M').mean()\n",
    "    \n",
    "    #country name as an attribute\n",
    "    country_frame['Country']=country\n",
    "    #country_frame.reset_index()\n",
    "    \n",
    "    final_list.append(country_frame)\n",
    "\n",
    "\n",
    "#Create the final data frame\n",
    "finalframe=pd.concat(final_list)\n",
    "\n",
    "finalframe=finalframe.reset_index()\n",
    "finalframe.drop('Date', axis=1, inplace=True)"
   ]
  },
  {
   "cell_type": "markdown",
   "metadata": {},
   "source": [
    "### for *each country*, the *daily average per month* of *new cases* and *deaths*: "
   ]
  },
  {
   "cell_type": "code",
   "execution_count": 98,
   "metadata": {},
   "outputs": [
    {
     "data": {
      "text/html": [
       "<div>\n",
       "<style>\n",
       "    .dataframe thead tr:only-child th {\n",
       "        text-align: right;\n",
       "    }\n",
       "\n",
       "    .dataframe thead th {\n",
       "        text-align: left;\n",
       "    }\n",
       "\n",
       "    .dataframe tbody tr th {\n",
       "        vertical-align: top;\n",
       "    }\n",
       "</style>\n",
       "<table border=\"1\" class=\"dataframe\">\n",
       "  <thead>\n",
       "    <tr style=\"text-align: right;\">\n",
       "      <th></th>\n",
       "      <th></th>\n",
       "      <th>newcases</th>\n",
       "      <th>newdeaths</th>\n",
       "    </tr>\n",
       "    <tr>\n",
       "      <th>Country</th>\n",
       "      <th>Month</th>\n",
       "      <th></th>\n",
       "      <th></th>\n",
       "    </tr>\n",
       "  </thead>\n",
       "  <tbody>\n",
       "    <tr>\n",
       "      <th rowspan=\"3\" valign=\"top\">guinea</th>\n",
       "      <th>8.0</th>\n",
       "      <td>25.800000</td>\n",
       "      <td>3.400000</td>\n",
       "    </tr>\n",
       "    <tr>\n",
       "      <th>9.0</th>\n",
       "      <td>19.625000</td>\n",
       "      <td>3.562500</td>\n",
       "    </tr>\n",
       "    <tr>\n",
       "      <th>10.0</th>\n",
       "      <td>34.000000</td>\n",
       "      <td>15.000000</td>\n",
       "    </tr>\n",
       "    <tr>\n",
       "      <th rowspan=\"7\" valign=\"top\">liberia</th>\n",
       "      <th>6.0</th>\n",
       "      <td>5.714286</td>\n",
       "      <td>2.000000</td>\n",
       "    </tr>\n",
       "    <tr>\n",
       "      <th>7.0</th>\n",
       "      <td>11.909091</td>\n",
       "      <td>4.272727</td>\n",
       "    </tr>\n",
       "    <tr>\n",
       "      <th>8.0</th>\n",
       "      <td>37.222222</td>\n",
       "      <td>23.222222</td>\n",
       "    </tr>\n",
       "    <tr>\n",
       "      <th>9.0</th>\n",
       "      <td>63.833333</td>\n",
       "      <td>36.041667</td>\n",
       "    </tr>\n",
       "    <tr>\n",
       "      <th>10.0</th>\n",
       "      <td>45.560000</td>\n",
       "      <td>28.040000</td>\n",
       "    </tr>\n",
       "    <tr>\n",
       "      <th>11.0</th>\n",
       "      <td>49.333333</td>\n",
       "      <td>13.466667</td>\n",
       "    </tr>\n",
       "    <tr>\n",
       "      <th>12.0</th>\n",
       "      <td>19.888889</td>\n",
       "      <td>0.000000</td>\n",
       "    </tr>\n",
       "    <tr>\n",
       "      <th rowspan=\"5\" valign=\"top\">sl</th>\n",
       "      <th>8.0</th>\n",
       "      <td>27.944444</td>\n",
       "      <td>24.166667</td>\n",
       "    </tr>\n",
       "    <tr>\n",
       "      <th>9.0</th>\n",
       "      <td>43.703704</td>\n",
       "      <td>6.037037</td>\n",
       "    </tr>\n",
       "    <tr>\n",
       "      <th>10.0</th>\n",
       "      <td>70.928571</td>\n",
       "      <td>29.892857</td>\n",
       "    </tr>\n",
       "    <tr>\n",
       "      <th>11.0</th>\n",
       "      <td>83.157895</td>\n",
       "      <td>22.473684</td>\n",
       "    </tr>\n",
       "    <tr>\n",
       "      <th>12.0</th>\n",
       "      <td>51.250000</td>\n",
       "      <td>53.000000</td>\n",
       "    </tr>\n",
       "  </tbody>\n",
       "</table>\n",
       "</div>"
      ],
      "text/plain": [
       "                newcases  newdeaths\n",
       "Country Month                      \n",
       "guinea  8.0    25.800000   3.400000\n",
       "        9.0    19.625000   3.562500\n",
       "        10.0   34.000000  15.000000\n",
       "liberia 6.0     5.714286   2.000000\n",
       "        7.0    11.909091   4.272727\n",
       "        8.0    37.222222  23.222222\n",
       "        9.0    63.833333  36.041667\n",
       "        10.0   45.560000  28.040000\n",
       "        11.0   49.333333  13.466667\n",
       "        12.0   19.888889   0.000000\n",
       "sl      8.0    27.944444  24.166667\n",
       "        9.0    43.703704   6.037037\n",
       "        10.0   70.928571  29.892857\n",
       "        11.0   83.157895  22.473684\n",
       "        12.0   51.250000  53.000000"
      ]
     },
     "execution_count": 98,
     "metadata": {},
     "output_type": "execute_result"
    }
   ],
   "source": [
    "\n",
    "finalframe.set_index(['Country','Month'])\n"
   ]
  },
  {
   "cell_type": "markdown",
   "metadata": {},
   "source": [
    "\n",
    "### Plot of the *daily average per month* of *new cases* and *deaths*"
   ]
  },
  {
   "cell_type": "code",
   "execution_count": 101,
   "metadata": {},
   "outputs": [
    {
     "data": {
      "text/plain": [
       "<function matplotlib.pyplot.show>"
      ]
     },
     "execution_count": 101,
     "metadata": {},
     "output_type": "execute_result"
    },
    {
     "data": {
      "image/png": "iVBORw0KGgoAAAANSUhEUgAAAeIAAAEKCAYAAADO/lZMAAAABHNCSVQICAgIfAhkiAAAAAlwSFlz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\nQmCC\n",
      "text/plain": [
       "<matplotlib.figure.Figure at 0x112c07470>"
      ]
     },
     "metadata": {},
     "output_type": "display_data"
    },
    {
     "data": {
      "image/png": "iVBORw0KGgoAAAANSUhEUgAAAewAAAEKCAYAAADQN2b/AAAABHNCSVQICAgIfAhkiAAAAAlwSFlz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\nB3jBds4553KAF2znnHMuB/wfCCSP3ic0xbsAAAAASUVORK5CYII=\n",
      "text/plain": [
       "<matplotlib.figure.Figure at 0x112bc44a8>"
      ]
     },
     "metadata": {},
     "output_type": "display_data"
    }
   ],
   "source": [
    "finalframe.Country  = finalframe.Country.astype('category')\n",
    "groups = finalframe.groupby('Country')\n",
    "\n",
    "fig, ax1 = plt.subplots()\n",
    "ax1.margins(0.05)\n",
    "for name, group in groups:\n",
    "    ax1.plot(group.Month, group['newcases'], marker='o', linestyle='--', ms=8, label=name)\n",
    "ax1.legend()\n",
    "plt.xticks([6,7,8,9,10,11,12],\n",
    "        ['June','July','Aug','Sept','Oct','Nov','Dec'])\n",
    "\n",
    "ax1.set_title( 'Daily average per month of new cases for each country', fontsize=15, fontweight='bold')\n",
    "\n",
    "\n",
    "fig, ax2 = plt.subplots()\n",
    "ax2.set_title( 'Daily average per month of new deaths for each country', fontsize=15, fontweight='bold')\n",
    "ax2.margins(0.05)\n",
    "for name, group in groups:\n",
    "    ax2.plot(group.Month, group['newdeaths'], marker='o', linestyle='--', ms=8, label=name)\n",
    "ax2.legend()\n",
    "plt.xticks([6,7,8,9,10,11,12],\n",
    "        ['June','July','Aug','Sept','Oct','Nov','Dec'])\n",
    "\n",
    "\n",
    "plt.show\n"
   ]
  },
  {
   "cell_type": "markdown",
   "metadata": {},
   "source": [
    "## Task 2. RNA Sequences\n",
    "\n",
    "In the `DATA_FOLDER/microbiome` subdirectory, there are 9 spreadsheets of microbiome data that was acquired from high-throughput RNA sequencing procedures, along with a 10<sup>th</sup> file that describes the content of each. \n",
    "\n",
    "Use pandas to import the first 9 spreadsheets into a single `DataFrame`.\n",
    "Then, add the metadata information from the 10<sup>th</sup> spreadsheet as columns in the combined `DataFrame`.\n",
    "Make sure that the final `DataFrame` has a unique index and all the `NaN` values have been replaced by the tag `unknown`."
   ]
  },
  {
   "cell_type": "code",
   "execution_count": null,
   "metadata": {
    "collapsed": true
   },
   "outputs": [],
   "source": []
  },
  {
   "cell_type": "code",
   "execution_count": 34,
   "metadata": {
    "collapsed": true
   },
   "outputs": [],
   "source": [
    "def merge_xls_files(regex):\n",
    "    all_data = pd.DataFrame()\n",
    "    list_ = glob.glob(regex)\n",
    "    for f in list_:\n",
    "        df = pd.read_excel(f,names = [\"MICROBIOME\", \"DATA\"])\n",
    "        # added the origin. It will be usefull to add the metadata from the 10th spreadshee\n",
    "        df['BARCODE']=re.search('MID[1-9]', f).group()\n",
    "        all_data = all_data.append(df)\n",
    "    return all_data"
   ]
  },
  {
   "cell_type": "markdown",
   "metadata": {},
   "source": [
    "We import the 9 MID files"
   ]
  },
  {
   "cell_type": "code",
   "execution_count": 35,
   "metadata": {},
   "outputs": [
    {
     "ename": "ImportError",
     "evalue": "No module named 'xlrd'",
     "output_type": "error",
     "traceback": [
      "\u001b[0;31m---------------------------------------------------------------------------\u001b[0m",
      "\u001b[0;31mImportError\u001b[0m                               Traceback (most recent call last)",
      "\u001b[0;32m<ipython-input-35-db70d85016be>\u001b[0m in \u001b[0;36m<module>\u001b[0;34m()\u001b[0m\n\u001b[0;32m----> 1\u001b[0;31m \u001b[0mmid\u001b[0m \u001b[0;34m=\u001b[0m \u001b[0mmerge_xls_files\u001b[0m\u001b[0;34m(\u001b[0m\u001b[0mDATA_FOLDER\u001b[0m\u001b[0;34m+\u001b[0m\u001b[0;34m'/microbiome/MID*.xls'\u001b[0m\u001b[0;34m)\u001b[0m\u001b[0;34m\u001b[0m\u001b[0m\n\u001b[0m\u001b[1;32m      2\u001b[0m \u001b[0mmid\u001b[0m\u001b[0;34m.\u001b[0m\u001b[0mhead\u001b[0m\u001b[0;34m(\u001b[0m\u001b[0;36m10\u001b[0m\u001b[0;34m)\u001b[0m\u001b[0;34m\u001b[0m\u001b[0m\n",
      "\u001b[0;32m<ipython-input-34-65aa5fd9dfdd>\u001b[0m in \u001b[0;36mmerge_xls_files\u001b[0;34m(regex)\u001b[0m\n\u001b[1;32m      3\u001b[0m     \u001b[0mlist_\u001b[0m \u001b[0;34m=\u001b[0m \u001b[0mglob\u001b[0m\u001b[0;34m.\u001b[0m\u001b[0mglob\u001b[0m\u001b[0;34m(\u001b[0m\u001b[0mregex\u001b[0m\u001b[0;34m)\u001b[0m\u001b[0;34m\u001b[0m\u001b[0m\n\u001b[1;32m      4\u001b[0m     \u001b[0;32mfor\u001b[0m \u001b[0mf\u001b[0m \u001b[0;32min\u001b[0m \u001b[0mlist_\u001b[0m\u001b[0;34m:\u001b[0m\u001b[0;34m\u001b[0m\u001b[0m\n\u001b[0;32m----> 5\u001b[0;31m         \u001b[0mdf\u001b[0m \u001b[0;34m=\u001b[0m \u001b[0mpd\u001b[0m\u001b[0;34m.\u001b[0m\u001b[0mread_excel\u001b[0m\u001b[0;34m(\u001b[0m\u001b[0mf\u001b[0m\u001b[0;34m,\u001b[0m\u001b[0mnames\u001b[0m \u001b[0;34m=\u001b[0m \u001b[0;34m[\u001b[0m\u001b[0;34m\"MICROBIOME\"\u001b[0m\u001b[0;34m,\u001b[0m \u001b[0;34m\"DATA\"\u001b[0m\u001b[0;34m]\u001b[0m\u001b[0;34m)\u001b[0m\u001b[0;34m\u001b[0m\u001b[0m\n\u001b[0m\u001b[1;32m      6\u001b[0m         \u001b[0;31m# added the origin. It will be usefull to add the metadata from the 10th spreadshee\u001b[0m\u001b[0;34m\u001b[0m\u001b[0;34m\u001b[0m\u001b[0m\n\u001b[1;32m      7\u001b[0m         \u001b[0mdf\u001b[0m\u001b[0;34m[\u001b[0m\u001b[0;34m'BARCODE'\u001b[0m\u001b[0;34m]\u001b[0m\u001b[0;34m=\u001b[0m\u001b[0mre\u001b[0m\u001b[0;34m.\u001b[0m\u001b[0msearch\u001b[0m\u001b[0;34m(\u001b[0m\u001b[0;34m'MID[1-9]'\u001b[0m\u001b[0;34m,\u001b[0m \u001b[0mf\u001b[0m\u001b[0;34m)\u001b[0m\u001b[0;34m.\u001b[0m\u001b[0mgroup\u001b[0m\u001b[0;34m(\u001b[0m\u001b[0;34m)\u001b[0m\u001b[0;34m\u001b[0m\u001b[0m\n",
      "\u001b[0;32m~/anaconda/envs/ada/lib/python3.5/site-packages/pandas/io/excel.py\u001b[0m in \u001b[0;36mread_excel\u001b[0;34m(io, sheetname, header, skiprows, skip_footer, index_col, names, parse_cols, parse_dates, date_parser, na_values, thousands, convert_float, has_index_names, converters, dtype, true_values, false_values, engine, squeeze, **kwds)\u001b[0m\n\u001b[1;32m    201\u001b[0m \u001b[0;34m\u001b[0m\u001b[0m\n\u001b[1;32m    202\u001b[0m     \u001b[0;32mif\u001b[0m \u001b[0;32mnot\u001b[0m \u001b[0misinstance\u001b[0m\u001b[0;34m(\u001b[0m\u001b[0mio\u001b[0m\u001b[0;34m,\u001b[0m \u001b[0mExcelFile\u001b[0m\u001b[0;34m)\u001b[0m\u001b[0;34m:\u001b[0m\u001b[0;34m\u001b[0m\u001b[0m\n\u001b[0;32m--> 203\u001b[0;31m         \u001b[0mio\u001b[0m \u001b[0;34m=\u001b[0m \u001b[0mExcelFile\u001b[0m\u001b[0;34m(\u001b[0m\u001b[0mio\u001b[0m\u001b[0;34m,\u001b[0m \u001b[0mengine\u001b[0m\u001b[0;34m=\u001b[0m\u001b[0mengine\u001b[0m\u001b[0;34m)\u001b[0m\u001b[0;34m\u001b[0m\u001b[0m\n\u001b[0m\u001b[1;32m    204\u001b[0m \u001b[0;34m\u001b[0m\u001b[0m\n\u001b[1;32m    205\u001b[0m     return io._parse_excel(\n",
      "\u001b[0;32m~/anaconda/envs/ada/lib/python3.5/site-packages/pandas/io/excel.py\u001b[0m in \u001b[0;36m__init__\u001b[0;34m(self, io, **kwds)\u001b[0m\n\u001b[1;32m    230\u001b[0m     \u001b[0;32mdef\u001b[0m \u001b[0m__init__\u001b[0m\u001b[0;34m(\u001b[0m\u001b[0mself\u001b[0m\u001b[0;34m,\u001b[0m \u001b[0mio\u001b[0m\u001b[0;34m,\u001b[0m \u001b[0;34m**\u001b[0m\u001b[0mkwds\u001b[0m\u001b[0;34m)\u001b[0m\u001b[0;34m:\u001b[0m\u001b[0;34m\u001b[0m\u001b[0m\n\u001b[1;32m    231\u001b[0m \u001b[0;34m\u001b[0m\u001b[0m\n\u001b[0;32m--> 232\u001b[0;31m         \u001b[0;32mimport\u001b[0m \u001b[0mxlrd\u001b[0m  \u001b[0;31m# throw an ImportError if we need to\u001b[0m\u001b[0;34m\u001b[0m\u001b[0m\n\u001b[0m\u001b[1;32m    233\u001b[0m \u001b[0;34m\u001b[0m\u001b[0m\n\u001b[1;32m    234\u001b[0m         \u001b[0mver\u001b[0m \u001b[0;34m=\u001b[0m \u001b[0mtuple\u001b[0m\u001b[0;34m(\u001b[0m\u001b[0mmap\u001b[0m\u001b[0;34m(\u001b[0m\u001b[0mint\u001b[0m\u001b[0;34m,\u001b[0m \u001b[0mxlrd\u001b[0m\u001b[0;34m.\u001b[0m\u001b[0m__VERSION__\u001b[0m\u001b[0;34m.\u001b[0m\u001b[0msplit\u001b[0m\u001b[0;34m(\u001b[0m\u001b[0;34m\".\"\u001b[0m\u001b[0;34m)\u001b[0m\u001b[0;34m[\u001b[0m\u001b[0;34m:\u001b[0m\u001b[0;36m2\u001b[0m\u001b[0;34m]\u001b[0m\u001b[0;34m)\u001b[0m\u001b[0;34m)\u001b[0m\u001b[0;34m\u001b[0m\u001b[0m\n",
      "\u001b[0;31mImportError\u001b[0m: No module named 'xlrd'"
     ]
    }
   ],
   "source": [
    "mid = merge_xls_files(DATA_FOLDER+'/microbiome/MID*.xls')\n",
    "mid.head(10)"
   ]
  },
  {
   "cell_type": "markdown",
   "metadata": {},
   "source": [
    "We import the metadata and fill the NaN values with unknown"
   ]
  },
  {
   "cell_type": "code",
   "execution_count": null,
   "metadata": {
    "collapsed": true
   },
   "outputs": [],
   "source": [
    "metadata = pd.read_excel(DATA_FOLDER+'/microbiome/metadata.xls')\n",
    "metadata = metadata.fillna('unknown')\n",
    "metadata.head(10)"
   ]
  },
  {
   "cell_type": "markdown",
   "metadata": {},
   "source": [
    "We merge the 2 datasets on the BARCODE"
   ]
  },
  {
   "cell_type": "code",
   "execution_count": null,
   "metadata": {
    "collapsed": true
   },
   "outputs": [],
   "source": [
    "df = pd.DataFrame()\n",
    "df = pd.merge(mid, metadata,on='BARCODE')\n",
    "df.head(10)"
   ]
  },
  {
   "cell_type": "markdown",
   "metadata": {},
   "source": [
    "Then we drop the BARCODE colunm because it is not usefull anymore"
   ]
  },
  {
   "cell_type": "code",
   "execution_count": null,
   "metadata": {
    "collapsed": true
   },
   "outputs": [],
   "source": [
    "df = df.drop('BARCODE', 1)"
   ]
  },
  {
   "cell_type": "markdown",
   "metadata": {},
   "source": [
    "We pivot the table to have MICROBIOME in index and have the GROUP and SAMPLE in colunm. We also replace all the NaN values by the tag unknown."
   ]
  },
  {
   "cell_type": "code",
   "execution_count": 40,
   "metadata": {},
   "outputs": [
    {
     "data": {
      "text/html": [
       "<div>\n",
       "<style>\n",
       "    .dataframe thead tr:only-child th {\n",
       "        text-align: right;\n",
       "    }\n",
       "\n",
       "    .dataframe thead th {\n",
       "        text-align: left;\n",
       "    }\n",
       "\n",
       "    .dataframe tbody tr th {\n",
       "        vertical-align: top;\n",
       "    }\n",
       "</style>\n",
       "<table border=\"1\" class=\"dataframe\">\n",
       "  <thead>\n",
       "    <tr>\n",
       "      <th>GROUP</th>\n",
       "      <th colspan=\"2\" halign=\"left\">Control 1</th>\n",
       "      <th colspan=\"2\" halign=\"left\">Control 2</th>\n",
       "      <th>EXTRACTION CONTROL</th>\n",
       "      <th colspan=\"2\" halign=\"left\">NEC 1</th>\n",
       "      <th colspan=\"2\" halign=\"left\">NEC 2</th>\n",
       "    </tr>\n",
       "    <tr>\n",
       "      <th>SAMPLE</th>\n",
       "      <th>stool</th>\n",
       "      <th>tissue</th>\n",
       "      <th>stool</th>\n",
       "      <th>tissue</th>\n",
       "      <th>unknown</th>\n",
       "      <th>stool</th>\n",
       "      <th>tissue</th>\n",
       "      <th>stool</th>\n",
       "      <th>tissue</th>\n",
       "    </tr>\n",
       "    <tr>\n",
       "      <th>MICROBIOME</th>\n",
       "      <th></th>\n",
       "      <th></th>\n",
       "      <th></th>\n",
       "      <th></th>\n",
       "      <th></th>\n",
       "      <th></th>\n",
       "      <th></th>\n",
       "      <th></th>\n",
       "      <th></th>\n",
       "    </tr>\n",
       "  </thead>\n",
       "  <tbody>\n",
       "    <tr>\n",
       "      <th>Archaea \"Crenarchaeota\" Thermoprotei Acidilobales Caldisphaeraceae Caldisphaera</th>\n",
       "      <td>unnkown</td>\n",
       "      <td>15</td>\n",
       "      <td>unnkown</td>\n",
       "      <td>26</td>\n",
       "      <td>unnkown</td>\n",
       "      <td>unnkown</td>\n",
       "      <td>14</td>\n",
       "      <td>unnkown</td>\n",
       "      <td>unnkown</td>\n",
       "    </tr>\n",
       "    <tr>\n",
       "      <th>Archaea \"Crenarchaeota\" Thermoprotei Desulfurococcales Desulfurococcaceae Ignisphaera</th>\n",
       "      <td>8</td>\n",
       "      <td>14</td>\n",
       "      <td>16</td>\n",
       "      <td>28</td>\n",
       "      <td>unnkown</td>\n",
       "      <td>unnkown</td>\n",
       "      <td>23</td>\n",
       "      <td>unnkown</td>\n",
       "      <td>unnkown</td>\n",
       "    </tr>\n",
       "    <tr>\n",
       "      <th>Archaea \"Crenarchaeota\" Thermoprotei Desulfurococcales Desulfurococcaceae Stetteria</th>\n",
       "      <td>unnkown</td>\n",
       "      <td>unnkown</td>\n",
       "      <td>unnkown</td>\n",
       "      <td>1</td>\n",
       "      <td>unnkown</td>\n",
       "      <td>unnkown</td>\n",
       "      <td>unnkown</td>\n",
       "      <td>unnkown</td>\n",
       "      <td>unnkown</td>\n",
       "    </tr>\n",
       "    <tr>\n",
       "      <th>Archaea \"Crenarchaeota\" Thermoprotei Desulfurococcales Desulfurococcaceae Sulfophobococcus</th>\n",
       "      <td>2</td>\n",
       "      <td>4</td>\n",
       "      <td>2</td>\n",
       "      <td>5</td>\n",
       "      <td>unnkown</td>\n",
       "      <td>1</td>\n",
       "      <td>1</td>\n",
       "      <td>unnkown</td>\n",
       "      <td>unnkown</td>\n",
       "    </tr>\n",
       "    <tr>\n",
       "      <th>Archaea \"Crenarchaeota\" Thermoprotei Desulfurococcales Desulfurococcaceae Thermodiscus</th>\n",
       "      <td>unnkown</td>\n",
       "      <td>1</td>\n",
       "      <td>unnkown</td>\n",
       "      <td>unnkown</td>\n",
       "      <td>unnkown</td>\n",
       "      <td>unnkown</td>\n",
       "      <td>unnkown</td>\n",
       "      <td>unnkown</td>\n",
       "      <td>unnkown</td>\n",
       "    </tr>\n",
       "    <tr>\n",
       "      <th>Archaea \"Crenarchaeota\" Thermoprotei Desulfurococcales Desulfurococcaceae Thermosphaera</th>\n",
       "      <td>1</td>\n",
       "      <td>1</td>\n",
       "      <td>unnkown</td>\n",
       "      <td>2</td>\n",
       "      <td>unnkown</td>\n",
       "      <td>unnkown</td>\n",
       "      <td>2</td>\n",
       "      <td>unnkown</td>\n",
       "      <td>unnkown</td>\n",
       "    </tr>\n",
       "    <tr>\n",
       "      <th>Archaea \"Crenarchaeota\" Thermoprotei Desulfurococcales Pyrodictiaceae Hyperthermus</th>\n",
       "      <td>unnkown</td>\n",
       "      <td>unnkown</td>\n",
       "      <td>unnkown</td>\n",
       "      <td>unnkown</td>\n",
       "      <td>unnkown</td>\n",
       "      <td>unnkown</td>\n",
       "      <td>1</td>\n",
       "      <td>unnkown</td>\n",
       "      <td>unnkown</td>\n",
       "    </tr>\n",
       "    <tr>\n",
       "      <th>Archaea \"Crenarchaeota\" Thermoprotei Desulfurococcales Pyrodictiaceae Pyrodictium</th>\n",
       "      <td>1</td>\n",
       "      <td>3</td>\n",
       "      <td>5</td>\n",
       "      <td>2</td>\n",
       "      <td>unnkown</td>\n",
       "      <td>1</td>\n",
       "      <td>unnkown</td>\n",
       "      <td>unnkown</td>\n",
       "      <td>unnkown</td>\n",
       "    </tr>\n",
       "    <tr>\n",
       "      <th>Archaea \"Crenarchaeota\" Thermoprotei Desulfurococcales Pyrodictiaceae Pyrolobus</th>\n",
       "      <td>1</td>\n",
       "      <td>unnkown</td>\n",
       "      <td>unnkown</td>\n",
       "      <td>3</td>\n",
       "      <td>2</td>\n",
       "      <td>2</td>\n",
       "      <td>2</td>\n",
       "      <td>unnkown</td>\n",
       "      <td>unnkown</td>\n",
       "    </tr>\n",
       "    <tr>\n",
       "      <th>Archaea \"Crenarchaeota\" Thermoprotei Sulfolobales Sulfolobaceae Stygiolobus</th>\n",
       "      <td>5</td>\n",
       "      <td>4</td>\n",
       "      <td>6</td>\n",
       "      <td>14</td>\n",
       "      <td>3</td>\n",
       "      <td>5</td>\n",
       "      <td>10</td>\n",
       "      <td>unnkown</td>\n",
       "      <td>unnkown</td>\n",
       "    </tr>\n",
       "  </tbody>\n",
       "</table>\n",
       "</div>"
      ],
      "text/plain": [
       "GROUP                                              Control 1           \\\n",
       "SAMPLE                                                 stool   tissue   \n",
       "MICROBIOME                                                              \n",
       "Archaea \"Crenarchaeota\" Thermoprotei Acidilobal...   unnkown       15   \n",
       "Archaea \"Crenarchaeota\" Thermoprotei Desulfuroc...         8       14   \n",
       "Archaea \"Crenarchaeota\" Thermoprotei Desulfuroc...   unnkown  unnkown   \n",
       "Archaea \"Crenarchaeota\" Thermoprotei Desulfuroc...         2        4   \n",
       "Archaea \"Crenarchaeota\" Thermoprotei Desulfuroc...   unnkown        1   \n",
       "Archaea \"Crenarchaeota\" Thermoprotei Desulfuroc...         1        1   \n",
       "Archaea \"Crenarchaeota\" Thermoprotei Desulfuroc...   unnkown  unnkown   \n",
       "Archaea \"Crenarchaeota\" Thermoprotei Desulfuroc...         1        3   \n",
       "Archaea \"Crenarchaeota\" Thermoprotei Desulfuroc...         1  unnkown   \n",
       "Archaea \"Crenarchaeota\" Thermoprotei Sulfolobal...         5        4   \n",
       "\n",
       "GROUP                                              Control 2           \\\n",
       "SAMPLE                                                 stool   tissue   \n",
       "MICROBIOME                                                              \n",
       "Archaea \"Crenarchaeota\" Thermoprotei Acidilobal...   unnkown       26   \n",
       "Archaea \"Crenarchaeota\" Thermoprotei Desulfuroc...        16       28   \n",
       "Archaea \"Crenarchaeota\" Thermoprotei Desulfuroc...   unnkown        1   \n",
       "Archaea \"Crenarchaeota\" Thermoprotei Desulfuroc...         2        5   \n",
       "Archaea \"Crenarchaeota\" Thermoprotei Desulfuroc...   unnkown  unnkown   \n",
       "Archaea \"Crenarchaeota\" Thermoprotei Desulfuroc...   unnkown        2   \n",
       "Archaea \"Crenarchaeota\" Thermoprotei Desulfuroc...   unnkown  unnkown   \n",
       "Archaea \"Crenarchaeota\" Thermoprotei Desulfuroc...         5        2   \n",
       "Archaea \"Crenarchaeota\" Thermoprotei Desulfuroc...   unnkown        3   \n",
       "Archaea \"Crenarchaeota\" Thermoprotei Sulfolobal...         6       14   \n",
       "\n",
       "GROUP                                              EXTRACTION CONTROL  \\\n",
       "SAMPLE                                                        unknown   \n",
       "MICROBIOME                                                              \n",
       "Archaea \"Crenarchaeota\" Thermoprotei Acidilobal...            unnkown   \n",
       "Archaea \"Crenarchaeota\" Thermoprotei Desulfuroc...            unnkown   \n",
       "Archaea \"Crenarchaeota\" Thermoprotei Desulfuroc...            unnkown   \n",
       "Archaea \"Crenarchaeota\" Thermoprotei Desulfuroc...            unnkown   \n",
       "Archaea \"Crenarchaeota\" Thermoprotei Desulfuroc...            unnkown   \n",
       "Archaea \"Crenarchaeota\" Thermoprotei Desulfuroc...            unnkown   \n",
       "Archaea \"Crenarchaeota\" Thermoprotei Desulfuroc...            unnkown   \n",
       "Archaea \"Crenarchaeota\" Thermoprotei Desulfuroc...            unnkown   \n",
       "Archaea \"Crenarchaeota\" Thermoprotei Desulfuroc...                  2   \n",
       "Archaea \"Crenarchaeota\" Thermoprotei Sulfolobal...                  3   \n",
       "\n",
       "GROUP                                                 NEC 1             NEC 2  \\\n",
       "SAMPLE                                                stool   tissue    stool   \n",
       "MICROBIOME                                                                      \n",
       "Archaea \"Crenarchaeota\" Thermoprotei Acidilobal...  unnkown       14  unnkown   \n",
       "Archaea \"Crenarchaeota\" Thermoprotei Desulfuroc...  unnkown       23  unnkown   \n",
       "Archaea \"Crenarchaeota\" Thermoprotei Desulfuroc...  unnkown  unnkown  unnkown   \n",
       "Archaea \"Crenarchaeota\" Thermoprotei Desulfuroc...        1        1  unnkown   \n",
       "Archaea \"Crenarchaeota\" Thermoprotei Desulfuroc...  unnkown  unnkown  unnkown   \n",
       "Archaea \"Crenarchaeota\" Thermoprotei Desulfuroc...  unnkown        2  unnkown   \n",
       "Archaea \"Crenarchaeota\" Thermoprotei Desulfuroc...  unnkown        1  unnkown   \n",
       "Archaea \"Crenarchaeota\" Thermoprotei Desulfuroc...        1  unnkown  unnkown   \n",
       "Archaea \"Crenarchaeota\" Thermoprotei Desulfuroc...        2        2  unnkown   \n",
       "Archaea \"Crenarchaeota\" Thermoprotei Sulfolobal...        5       10  unnkown   \n",
       "\n",
       "GROUP                                                        \n",
       "SAMPLE                                               tissue  \n",
       "MICROBIOME                                                   \n",
       "Archaea \"Crenarchaeota\" Thermoprotei Acidilobal...  unnkown  \n",
       "Archaea \"Crenarchaeota\" Thermoprotei Desulfuroc...  unnkown  \n",
       "Archaea \"Crenarchaeota\" Thermoprotei Desulfuroc...  unnkown  \n",
       "Archaea \"Crenarchaeota\" Thermoprotei Desulfuroc...  unnkown  \n",
       "Archaea \"Crenarchaeota\" Thermoprotei Desulfuroc...  unnkown  \n",
       "Archaea \"Crenarchaeota\" Thermoprotei Desulfuroc...  unnkown  \n",
       "Archaea \"Crenarchaeota\" Thermoprotei Desulfuroc...  unnkown  \n",
       "Archaea \"Crenarchaeota\" Thermoprotei Desulfuroc...  unnkown  \n",
       "Archaea \"Crenarchaeota\" Thermoprotei Desulfuroc...  unnkown  \n",
       "Archaea \"Crenarchaeota\" Thermoprotei Sulfolobal...  unnkown  "
      ]
     },
     "execution_count": 40,
     "metadata": {},
     "output_type": "execute_result"
    }
   ],
   "source": [
    "df = df.pivot_table('DATA','MICROBIOME',['GROUP','SAMPLE'],fill_value='unnkown')\n",
    "df.head(10)"
   ]
  },
  {
   "cell_type": "markdown",
   "metadata": {},
   "source": [
    "Now we check if the index is unique"
   ]
  },
  {
   "cell_type": "code",
<<<<<<< HEAD
   "execution_count": 37,
=======
   "execution_count": 41,
>>>>>>> 54a221fa7923bec8d0a47bfbe4809021b011c0fe
   "metadata": {},
   "outputs": [
    {
     "data": {
      "text/plain": [
       "True"
      ]
     },
<<<<<<< HEAD
     "execution_count": 37,
=======
     "execution_count": 41,
>>>>>>> 54a221fa7923bec8d0a47bfbe4809021b011c0fe
     "metadata": {},
     "output_type": "execute_result"
    }
   ],
   "source": [
    "df.index.is_unique"
   ]
  },
  {
   "cell_type": "markdown",
   "metadata": {},
   "source": [
    "Alright, everithing is great"
   ]
  },
  {
   "cell_type": "markdown",
   "metadata": {},
   "source": [
    "## Task 3. Class War in Titanic\n",
    "\n",
    "Use pandas to import the data file `Data/titanic.xls`. It contains data on all the passengers that travelled on the Titanic."
   ]
  },
  {
   "cell_type": "code",
   "execution_count": 38,
   "metadata": {},
   "outputs": [
    {
     "data": {
      "text/html": [
       "<hr><h2>Data frame:titanic3</h2>1309 observations and 14 variables, maximum # NAs:1188<hr>\n",
       "<TABLE BORDER>\n",
       "<tr><td>Name</td><td>Labels</td><td>Units</td><td>Levels</td><td>Storage</td><td>NAs</td></tr>\n",
       "<tr><td>pclass</td><td></td><td></td><td><a href=\"#pclass\"><div align=right>  3</div></a></td><td>integer</td><td><div align=right>   0</div></td></tr>\n",
       "<tr><td>survived</td><td>Survived</td><td></td><td><div align=right></div></td><td>double</td><td><div align=right>   0</div></td></tr>\n",
       "<tr><td>name</td><td>Name</td><td></td><td><div align=right></div></td><td>character</td><td><div align=right>   0</div></td></tr>\n",
       "<tr><td>sex</td><td></td><td></td><td><a href=\"#sex\"><div align=right>  2</div></a></td><td>integer</td><td><div align=right>   0</div></td></tr>\n",
       "<tr><td>age</td><td>Age</td><td>Year</td><td><div align=right></div></td><td>double</td><td><div align=right> 263</div></td></tr>\n",
       "<tr><td>sibsp</td><td>Number of Siblings/Spouses Aboard</td><td></td><td><div align=right></div></td><td>double</td><td><div align=right>   0</div></td></tr>\n",
       "<tr><td>parch</td><td>Number of Parents/Children Aboard</td><td></td><td><div align=right></div></td><td>double</td><td><div align=right>   0</div></td></tr>\n",
       "<tr><td>ticket</td><td>Ticket Number</td><td></td><td><div align=right></div></td><td>character</td><td><div align=right>   0</div></td></tr>\n",
       "<tr><td>fare</td><td>Passenger Fare</td><td>British Pound (\\243)</td><td><div align=right></div></td><td>double</td><td><div align=right>   1</div></td></tr>\n",
       "<tr><td>cabin</td><td></td><td></td><td><a href=\"#cabin\"><div align=right>187</div></a></td><td>integer</td><td><div align=right>   0</div></td></tr>\n",
       "<tr><td>embarked</td><td></td><td></td><td><a href=\"#embarked\"><div align=right>  3</div></a></td><td>integer</td><td><div align=right>   2</div></td></tr>\n",
       "<tr><td>boat</td><td></td><td></td><td><a href=\"#boat\"><div align=right> 28</div></a></td><td>integer</td><td><div align=right>   0</div></td></tr>\n",
       "<tr><td>body</td><td>Body Identification Number</td><td></td><td><div align=right></div></td><td>double</td><td><div align=right>1188</div></td></tr>\n",
       "<tr><td>home.dest</td><td>Home/Destination</td><td></td><td><div align=right></div></td><td>character</td><td><div align=right>   0</div></td></tr>\n",
       "</TABLE>\n",
       "<hr>\n",
       "<TABLE BORDER>\n",
       "<tr><td>Variable</td><td>Levels</td></tr>\n",
       "<tr><td><a name=\"pclass\">pclass</a></td><td>1st</td></tr>\n",
       "<tr><td></td><td>2nd</td></tr>\n",
       "<tr><td></td><td>3rd</td></tr>\n",
       "<tr><td><a name=\"sex\">sex</a></td><td>female</td></tr>\n",
       "<tr><td></td><td>male</td></tr>\n",
       "<tr><td><a name=\"cabin\">cabin</a></td><td></td></tr>\n",
       "<tr><td></td><td>A10</td></tr>\n",
       "<tr><td></td><td>A11</td></tr>\n",
       "<tr><td></td><td>A14</td></tr>\n",
       "<tr><td></td><td>A16</td></tr>\n",
       "<tr><td></td><td>A18</td></tr>\n",
       "<tr><td></td><td>A19</td></tr>\n",
       "<tr><td></td><td>A20</td></tr>\n",
       "<tr><td></td><td>A21</td></tr>\n",
       "<tr><td></td><td>A23</td></tr>\n",
       "<tr><td></td><td>A24</td></tr>\n",
       "<tr><td></td><td>A26</td></tr>\n",
       "<tr><td></td><td>A29</td></tr>\n",
       "<tr><td></td><td>A31</td></tr>\n",
       "<tr><td></td><td>A32</td></tr>\n",
       "<tr><td></td><td>A34</td></tr>\n",
       "<tr><td></td><td>A36</td></tr>\n",
       "<tr><td></td><td>A5</td></tr>\n",
       "<tr><td></td><td>A6</td></tr>\n",
       "<tr><td></td><td>A7</td></tr>\n",
       "<tr><td></td><td>A9</td></tr>\n",
       "<tr><td></td><td>B10</td></tr>\n",
       "<tr><td></td><td>B101</td></tr>\n",
       "<tr><td></td><td>B102</td></tr>\n",
       "<tr><td></td><td>B11</td></tr>\n",
       "<tr><td></td><td>B18</td></tr>\n",
       "<tr><td></td><td>B19</td></tr>\n",
       "<tr><td></td><td>B20</td></tr>\n",
       "<tr><td></td><td>B22</td></tr>\n",
       "<tr><td></td><td>B24</td></tr>\n",
       "<tr><td></td><td>B26</td></tr>\n",
       "<tr><td></td><td>B28</td></tr>\n",
       "<tr><td></td><td>B3</td></tr>\n",
       "<tr><td></td><td>B30</td></tr>\n",
       "<tr><td></td><td>B35</td></tr>\n",
       "<tr><td></td><td>B36</td></tr>\n",
       "<tr><td></td><td>B37</td></tr>\n",
       "<tr><td></td><td>B38</td></tr>\n",
       "<tr><td></td><td>B39</td></tr>\n",
       "<tr><td></td><td>B4</td></tr>\n",
       "<tr><td></td><td>B41</td></tr>\n",
       "<tr><td></td><td>B42</td></tr>\n",
       "<tr><td></td><td>B45</td></tr>\n",
       "<tr><td></td><td>B49</td></tr>\n",
       "<tr><td></td><td>B5</td></tr>\n",
       "<tr><td></td><td>B50</td></tr>\n",
       "<tr><td></td><td>B51 B53 B55</td></tr>\n",
       "<tr><td></td><td>B52 B54 B56</td></tr>\n",
       "<tr><td></td><td>B57 B59 B63 B66</td></tr>\n",
       "<tr><td></td><td>B58 B60</td></tr>\n",
       "<tr><td></td><td>B61</td></tr>\n",
       "<tr><td></td><td>B69</td></tr>\n",
       "<tr><td></td><td>B71</td></tr>\n",
       "<tr><td></td><td>B73</td></tr>\n",
       "<tr><td></td><td>B77</td></tr>\n",
       "<tr><td></td><td>B78</td></tr>\n",
       "<tr><td></td><td>B79</td></tr>\n",
       "<tr><td></td><td>B80</td></tr>\n",
       "<tr><td></td><td>B82 B84</td></tr>\n",
       "<tr><td></td><td>B86</td></tr>\n",
       "<tr><td></td><td>B94</td></tr>\n",
       "<tr><td></td><td>B96 B98</td></tr>\n",
       "<tr><td></td><td>C101</td></tr>\n",
       "<tr><td></td><td>C103</td></tr>\n",
       "<tr><td></td><td>C104</td></tr>\n",
       "<tr><td></td><td>C105</td></tr>\n",
       "<tr><td></td><td>C106</td></tr>\n",
       "<tr><td></td><td>C110</td></tr>\n",
       "<tr><td></td><td>C111</td></tr>\n",
       "<tr><td></td><td>C116</td></tr>\n",
       "<tr><td></td><td>C118</td></tr>\n",
       "<tr><td></td><td>C123</td></tr>\n",
       "<tr><td></td><td>C124</td></tr>\n",
       "<tr><td></td><td>C125</td></tr>\n",
       "<tr><td></td><td>C126</td></tr>\n",
       "<tr><td></td><td>C128</td></tr>\n",
       "<tr><td></td><td>C130</td></tr>\n",
       "<tr><td></td><td>C132</td></tr>\n",
       "<tr><td></td><td>C148</td></tr>\n",
       "<tr><td></td><td>C2</td></tr>\n",
       "<tr><td></td><td>C22 C26</td></tr>\n",
       "<tr><td></td><td>C23 C25 C27</td></tr>\n",
       "<tr><td></td><td>C28</td></tr>\n",
       "<tr><td></td><td>C30</td></tr>\n",
       "<tr><td></td><td>C31</td></tr>\n",
       "<tr><td></td><td>C32</td></tr>\n",
       "<tr><td></td><td>C39</td></tr>\n",
       "<tr><td></td><td>C45</td></tr>\n",
       "<tr><td></td><td>C46</td></tr>\n",
       "<tr><td></td><td>C47</td></tr>\n",
       "<tr><td></td><td>C49</td></tr>\n",
       "<tr><td></td><td>C50</td></tr>\n",
       "<tr><td></td><td>C51</td></tr>\n",
       "<tr><td></td><td>C52</td></tr>\n",
       "<tr><td></td><td>C53</td></tr>\n",
       "<tr><td></td><td>C54</td></tr>\n",
       "<tr><td></td><td>C55 C57</td></tr>\n",
       "<tr><td></td><td>C6</td></tr>\n",
       "<tr><td></td><td>C62 C64</td></tr>\n",
       "<tr><td></td><td>C65</td></tr>\n",
       "<tr><td></td><td>C68</td></tr>\n",
       "<tr><td></td><td>C7</td></tr>\n",
       "<tr><td></td><td>C70</td></tr>\n",
       "<tr><td></td><td>C78</td></tr>\n",
       "<tr><td></td><td>C80</td></tr>\n",
       "<tr><td></td><td>C82</td></tr>\n",
       "<tr><td></td><td>C83</td></tr>\n",
       "<tr><td></td><td>C85</td></tr>\n",
       "<tr><td></td><td>C86</td></tr>\n",
       "<tr><td></td><td>C87</td></tr>\n",
       "<tr><td></td><td>C89</td></tr>\n",
       "<tr><td></td><td>C90</td></tr>\n",
       "<tr><td></td><td>C91</td></tr>\n",
       "<tr><td></td><td>C92</td></tr>\n",
       "<tr><td></td><td>C93</td></tr>\n",
       "<tr><td></td><td>C95</td></tr>\n",
       "<tr><td></td><td>C97</td></tr>\n",
       "<tr><td></td><td>C99</td></tr>\n",
       "<tr><td></td><td>D</td></tr>\n",
       "<tr><td></td><td>D10 D12</td></tr>\n",
       "<tr><td></td><td>D11</td></tr>\n",
       "<tr><td></td><td>D15</td></tr>\n",
       "<tr><td></td><td>D17</td></tr>\n",
       "<tr><td></td><td>D19</td></tr>\n",
       "<tr><td></td><td>D20</td></tr>\n",
       "<tr><td></td><td>D21</td></tr>\n",
       "<tr><td></td><td>D22</td></tr>\n",
       "<tr><td></td><td>D26</td></tr>\n",
       "<tr><td></td><td>D28</td></tr>\n",
       "<tr><td></td><td>D30</td></tr>\n",
       "<tr><td></td><td>D33</td></tr>\n",
       "<tr><td></td><td>D34</td></tr>\n",
       "<tr><td></td><td>D35</td></tr>\n",
       "<tr><td></td><td>D36</td></tr>\n",
       "<tr><td></td><td>D37</td></tr>\n",
       "<tr><td></td><td>D38</td></tr>\n",
       "<tr><td></td><td>D40</td></tr>\n",
       "<tr><td></td><td>D43</td></tr>\n",
       "<tr><td></td><td>D45</td></tr>\n",
       "<tr><td></td><td>D46</td></tr>\n",
       "<tr><td></td><td>D47</td></tr>\n",
       "<tr><td></td><td>D48</td></tr>\n",
       "<tr><td></td><td>D49</td></tr>\n",
       "<tr><td></td><td>D50</td></tr>\n",
       "<tr><td></td><td>D56</td></tr>\n",
       "<tr><td></td><td>D6</td></tr>\n",
       "<tr><td></td><td>D7</td></tr>\n",
       "<tr><td></td><td>D9</td></tr>\n",
       "<tr><td></td><td>E10</td></tr>\n",
       "<tr><td></td><td>E101</td></tr>\n",
       "<tr><td></td><td>E12</td></tr>\n",
       "<tr><td></td><td>E121</td></tr>\n",
       "<tr><td></td><td>E17</td></tr>\n",
       "<tr><td></td><td>E24</td></tr>\n",
       "<tr><td></td><td>E25</td></tr>\n",
       "<tr><td></td><td>E31</td></tr>\n",
       "<tr><td></td><td>E33</td></tr>\n",
       "<tr><td></td><td>E34</td></tr>\n",
       "<tr><td></td><td>E36</td></tr>\n",
       "<tr><td></td><td>E38</td></tr>\n",
       "<tr><td></td><td>E39 E41</td></tr>\n",
       "<tr><td></td><td>E40</td></tr>\n",
       "<tr><td></td><td>E44</td></tr>\n",
       "<tr><td></td><td>E45</td></tr>\n",
       "<tr><td></td><td>E46</td></tr>\n",
       "<tr><td></td><td>E49</td></tr>\n",
       "<tr><td></td><td>E50</td></tr>\n",
       "<tr><td></td><td>E52</td></tr>\n",
       "<tr><td></td><td>E58</td></tr>\n",
       "<tr><td></td><td>E60</td></tr>\n",
       "<tr><td></td><td>E63</td></tr>\n",
       "<tr><td></td><td>E67</td></tr>\n",
       "<tr><td></td><td>E68</td></tr>\n",
       "<tr><td></td><td>E77</td></tr>\n",
       "<tr><td></td><td>E8</td></tr>\n",
       "<tr><td></td><td>F</td></tr>\n",
       "<tr><td></td><td>F E46</td></tr>\n",
       "<tr><td></td><td>F E57</td></tr>\n",
       "<tr><td></td><td>F E69</td></tr>\n",
       "<tr><td></td><td>F G63</td></tr>\n",
       "<tr><td></td><td>F G73</td></tr>\n",
       "<tr><td></td><td>F2</td></tr>\n",
       "<tr><td></td><td>F33</td></tr>\n",
       "<tr><td></td><td>F38</td></tr>\n",
       "<tr><td></td><td>F4</td></tr>\n",
       "<tr><td></td><td>G6</td></tr>\n",
       "<tr><td></td><td>T</td></tr>\n",
       "<tr><td><a name=\"embarked\">embarked</a></td><td>Cherbourg</td></tr>\n",
       "<tr><td></td><td>Queenstown</td></tr>\n",
       "<tr><td></td><td>Southampton</td></tr>\n",
       "<tr><td><a name=\"boat\">boat</a></td><td></td></tr>\n",
       "<tr><td></td><td>1</td></tr>\n",
       "<tr><td></td><td>10</td></tr>\n",
       "<tr><td></td><td>11</td></tr>\n",
       "<tr><td></td><td>12</td></tr>\n",
       "<tr><td></td><td>13</td></tr>\n",
       "<tr><td></td><td>13 15</td></tr>\n",
       "<tr><td></td><td>13 15 B</td></tr>\n",
       "<tr><td></td><td>14</td></tr>\n",
       "<tr><td></td><td>15</td></tr>\n",
       "<tr><td></td><td>15 16</td></tr>\n",
       "<tr><td></td><td>16</td></tr>\n",
       "<tr><td></td><td>2</td></tr>\n",
       "<tr><td></td><td>3</td></tr>\n",
       "<tr><td></td><td>4</td></tr>\n",
       "<tr><td></td><td>5</td></tr>\n",
       "<tr><td></td><td>5 7</td></tr>\n",
       "<tr><td></td><td>5 9</td></tr>\n",
       "<tr><td></td><td>6</td></tr>\n",
       "<tr><td></td><td>7</td></tr>\n",
       "<tr><td></td><td>8</td></tr>\n",
       "<tr><td></td><td>8 10</td></tr>\n",
       "<tr><td></td><td>9</td></tr>\n",
       "<tr><td></td><td>A</td></tr>\n",
       "<tr><td></td><td>B</td></tr>\n",
       "<tr><td></td><td>C</td></tr>\n",
       "<tr><td></td><td>C D</td></tr>\n",
       "<tr><td></td><td>D</td></tr>\n",
       "</TABLE>\n",
       "<hr>\n"
      ],
      "text/plain": [
       "<IPython.core.display.HTML object>"
      ]
     },
     "execution_count": 38,
     "metadata": {},
     "output_type": "execute_result"
    }
   ],
   "source": [
    "from IPython.core.display import HTML\n",
    "HTML(filename=DATA_FOLDER+'/titanic.html')"
   ]
  },
  {
   "cell_type": "markdown",
   "metadata": {},
   "source": [
    "For each of the following questions state clearly your assumptions and discuss your findings:\n",
    "1. Describe the *type* and the *value range* of each attribute. Indicate and transform the attributes that can be `Categorical`. \n",
    "2. Plot histograms for the *travel class*, *embarkation port*, *sex* and *age* attributes. For the latter one, use *discrete decade intervals*. \n",
    "3. Calculate the proportion of passengers by *cabin floor*. Present your results in a *pie chart*.\n",
    "4. For each *travel class*, calculate the proportion of the passengers that survived. Present your results in *pie charts*.\n",
    "5. Calculate the proportion of the passengers that survived by *travel class* and *sex*. Present your results in *a single histogram*.\n",
    "6. Create 2 equally populated *age categories* and calculate survival proportions by *age category*, *travel class* and *sex*. Present your results in a `DataFrame` with unique index."
   ]
  },
  {
   "cell_type": "markdown",
   "metadata": {
    "collapsed": true
   },
   "source": [
    "### Answer :"
   ]
  },
  {
   "cell_type": "markdown",
   "metadata": {},
   "source": [
    "* Import the needed libraries and data from titanic.xls using pandas in a data frame called `passengers`"
   ]
  },
  {
   "cell_type": "code",
   "execution_count": 39,
   "metadata": {},
   "outputs": [
    {
     "ename": "ImportError",
     "evalue": "No module named 'xlrd'",
     "output_type": "error",
     "traceback": [
      "\u001b[0;31m---------------------------------------------------------------------------\u001b[0m",
      "\u001b[0;31mImportError\u001b[0m                               Traceback (most recent call last)",
      "\u001b[0;32m<ipython-input-39-09e6d00516ff>\u001b[0m in \u001b[0;36m<module>\u001b[0;34m()\u001b[0m\n\u001b[1;32m      8\u001b[0m \u001b[0;34m\u001b[0m\u001b[0m\n\u001b[1;32m      9\u001b[0m \u001b[0mpassengers\u001b[0m \u001b[0;34m=\u001b[0m \u001b[0mpd\u001b[0m\u001b[0;34m.\u001b[0m\u001b[0mDataFrame\u001b[0m\u001b[0;34m(\u001b[0m\u001b[0;34m)\u001b[0m\u001b[0;34m\u001b[0m\u001b[0m\n\u001b[0;32m---> 10\u001b[0;31m \u001b[0mpassengers\u001b[0m \u001b[0;34m=\u001b[0m \u001b[0mpd\u001b[0m\u001b[0;34m.\u001b[0m\u001b[0mread_excel\u001b[0m\u001b[0;34m(\u001b[0m\u001b[0mDATA_FOLDER\u001b[0m \u001b[0;34m+\u001b[0m \u001b[0;34m'/titanic.xls'\u001b[0m\u001b[0;34m)\u001b[0m\u001b[0;34m\u001b[0m\u001b[0m\n\u001b[0m",
      "\u001b[0;32m~/anaconda/envs/ada/lib/python3.5/site-packages/pandas/io/excel.py\u001b[0m in \u001b[0;36mread_excel\u001b[0;34m(io, sheetname, header, skiprows, skip_footer, index_col, names, parse_cols, parse_dates, date_parser, na_values, thousands, convert_float, has_index_names, converters, dtype, true_values, false_values, engine, squeeze, **kwds)\u001b[0m\n\u001b[1;32m    201\u001b[0m \u001b[0;34m\u001b[0m\u001b[0m\n\u001b[1;32m    202\u001b[0m     \u001b[0;32mif\u001b[0m \u001b[0;32mnot\u001b[0m \u001b[0misinstance\u001b[0m\u001b[0;34m(\u001b[0m\u001b[0mio\u001b[0m\u001b[0;34m,\u001b[0m \u001b[0mExcelFile\u001b[0m\u001b[0;34m)\u001b[0m\u001b[0;34m:\u001b[0m\u001b[0;34m\u001b[0m\u001b[0m\n\u001b[0;32m--> 203\u001b[0;31m         \u001b[0mio\u001b[0m \u001b[0;34m=\u001b[0m \u001b[0mExcelFile\u001b[0m\u001b[0;34m(\u001b[0m\u001b[0mio\u001b[0m\u001b[0;34m,\u001b[0m \u001b[0mengine\u001b[0m\u001b[0;34m=\u001b[0m\u001b[0mengine\u001b[0m\u001b[0;34m)\u001b[0m\u001b[0;34m\u001b[0m\u001b[0m\n\u001b[0m\u001b[1;32m    204\u001b[0m \u001b[0;34m\u001b[0m\u001b[0m\n\u001b[1;32m    205\u001b[0m     return io._parse_excel(\n",
      "\u001b[0;32m~/anaconda/envs/ada/lib/python3.5/site-packages/pandas/io/excel.py\u001b[0m in \u001b[0;36m__init__\u001b[0;34m(self, io, **kwds)\u001b[0m\n\u001b[1;32m    230\u001b[0m     \u001b[0;32mdef\u001b[0m \u001b[0m__init__\u001b[0m\u001b[0;34m(\u001b[0m\u001b[0mself\u001b[0m\u001b[0;34m,\u001b[0m \u001b[0mio\u001b[0m\u001b[0;34m,\u001b[0m \u001b[0;34m**\u001b[0m\u001b[0mkwds\u001b[0m\u001b[0;34m)\u001b[0m\u001b[0;34m:\u001b[0m\u001b[0;34m\u001b[0m\u001b[0m\n\u001b[1;32m    231\u001b[0m \u001b[0;34m\u001b[0m\u001b[0m\n\u001b[0;32m--> 232\u001b[0;31m         \u001b[0;32mimport\u001b[0m \u001b[0mxlrd\u001b[0m  \u001b[0;31m# throw an ImportError if we need to\u001b[0m\u001b[0;34m\u001b[0m\u001b[0m\n\u001b[0m\u001b[1;32m    233\u001b[0m \u001b[0;34m\u001b[0m\u001b[0m\n\u001b[1;32m    234\u001b[0m         \u001b[0mver\u001b[0m \u001b[0;34m=\u001b[0m \u001b[0mtuple\u001b[0m\u001b[0;34m(\u001b[0m\u001b[0mmap\u001b[0m\u001b[0;34m(\u001b[0m\u001b[0mint\u001b[0m\u001b[0;34m,\u001b[0m \u001b[0mxlrd\u001b[0m\u001b[0;34m.\u001b[0m\u001b[0m__VERSION__\u001b[0m\u001b[0;34m.\u001b[0m\u001b[0msplit\u001b[0m\u001b[0;34m(\u001b[0m\u001b[0;34m\".\"\u001b[0m\u001b[0;34m)\u001b[0m\u001b[0;34m[\u001b[0m\u001b[0;34m:\u001b[0m\u001b[0;36m2\u001b[0m\u001b[0;34m]\u001b[0m\u001b[0;34m)\u001b[0m\u001b[0;34m)\u001b[0m\u001b[0;34m\u001b[0m\u001b[0m\n",
      "\u001b[0;31mImportError\u001b[0m: No module named 'xlrd'"
     ]
    }
   ],
   "source": [
    "passengers = pd.DataFrame()\n",
    "passengers = pd.read_excel(DATA_FOLDER + '/titanic.xls')"
   ]
  },
  {
   "cell_type": "markdown",
   "metadata": {},
   "source": [
    "* **Describe the type and the value range of each attribute. Indicate and transform the attributes that can be `Categorical`.**"
   ]
  },
  {
   "cell_type": "code",
   "execution_count": 40,
   "metadata": {},
   "outputs": [
    {
     "data": {
      "text/plain": [
       "Series([], dtype: object)"
      ]
     },
     "execution_count": 40,
     "metadata": {},
     "output_type": "execute_result"
    }
   ],
   "source": [
    "passengers.dtypes"
   ]
  },
  {
   "cell_type": "code",
   "execution_count": 327,
   "metadata": {},
   "outputs": [
    {
     "data": {
      "text/html": [
       "<div>\n",
       "<style>\n",
       "    .dataframe thead tr:only-child th {\n",
       "        text-align: right;\n",
       "    }\n",
       "\n",
       "    .dataframe thead th {\n",
       "        text-align: left;\n",
       "    }\n",
       "\n",
       "    .dataframe tbody tr th {\n",
       "        vertical-align: top;\n",
       "    }\n",
       "</style>\n",
       "<table border=\"1\" class=\"dataframe\">\n",
       "  <thead>\n",
       "    <tr style=\"text-align: right;\">\n",
       "      <th></th>\n",
       "      <th>pclass</th>\n",
       "      <th>survived</th>\n",
       "      <th>age</th>\n",
       "      <th>sibsp</th>\n",
       "      <th>parch</th>\n",
       "      <th>fare</th>\n",
       "      <th>body</th>\n",
       "    </tr>\n",
       "  </thead>\n",
       "  <tbody>\n",
       "    <tr>\n",
       "      <th>count</th>\n",
       "      <td>1309.000000</td>\n",
       "      <td>1309.000000</td>\n",
       "      <td>1046.000000</td>\n",
       "      <td>1309.000000</td>\n",
       "      <td>1309.000000</td>\n",
       "      <td>1308.000000</td>\n",
       "      <td>121.000000</td>\n",
       "    </tr>\n",
       "    <tr>\n",
       "      <th>mean</th>\n",
       "      <td>2.294882</td>\n",
       "      <td>0.381971</td>\n",
       "      <td>29.881135</td>\n",
       "      <td>0.498854</td>\n",
       "      <td>0.385027</td>\n",
       "      <td>33.295479</td>\n",
       "      <td>160.809917</td>\n",
       "    </tr>\n",
       "    <tr>\n",
       "      <th>std</th>\n",
       "      <td>0.837836</td>\n",
       "      <td>0.486055</td>\n",
       "      <td>14.413500</td>\n",
       "      <td>1.041658</td>\n",
       "      <td>0.865560</td>\n",
       "      <td>51.758668</td>\n",
       "      <td>97.696922</td>\n",
       "    </tr>\n",
       "    <tr>\n",
       "      <th>min</th>\n",
       "      <td>1.000000</td>\n",
       "      <td>0.000000</td>\n",
       "      <td>0.166700</td>\n",
       "      <td>0.000000</td>\n",
       "      <td>0.000000</td>\n",
       "      <td>0.000000</td>\n",
       "      <td>1.000000</td>\n",
       "    </tr>\n",
       "    <tr>\n",
       "      <th>25%</th>\n",
       "      <td>2.000000</td>\n",
       "      <td>0.000000</td>\n",
       "      <td>21.000000</td>\n",
       "      <td>0.000000</td>\n",
       "      <td>0.000000</td>\n",
       "      <td>7.895800</td>\n",
       "      <td>72.000000</td>\n",
       "    </tr>\n",
       "    <tr>\n",
       "      <th>50%</th>\n",
       "      <td>3.000000</td>\n",
       "      <td>0.000000</td>\n",
       "      <td>28.000000</td>\n",
       "      <td>0.000000</td>\n",
       "      <td>0.000000</td>\n",
       "      <td>14.454200</td>\n",
       "      <td>155.000000</td>\n",
       "    </tr>\n",
       "    <tr>\n",
       "      <th>75%</th>\n",
       "      <td>3.000000</td>\n",
       "      <td>1.000000</td>\n",
       "      <td>39.000000</td>\n",
       "      <td>1.000000</td>\n",
       "      <td>0.000000</td>\n",
       "      <td>31.275000</td>\n",
       "      <td>256.000000</td>\n",
       "    </tr>\n",
       "    <tr>\n",
       "      <th>max</th>\n",
       "      <td>3.000000</td>\n",
       "      <td>1.000000</td>\n",
       "      <td>80.000000</td>\n",
       "      <td>8.000000</td>\n",
       "      <td>9.000000</td>\n",
       "      <td>512.329200</td>\n",
       "      <td>328.000000</td>\n",
       "    </tr>\n",
       "  </tbody>\n",
       "</table>\n",
       "</div>"
      ],
      "text/plain": [
       "            pclass     survived          age        sibsp        parch  \\\n",
       "count  1309.000000  1309.000000  1046.000000  1309.000000  1309.000000   \n",
       "mean      2.294882     0.381971    29.881135     0.498854     0.385027   \n",
       "std       0.837836     0.486055    14.413500     1.041658     0.865560   \n",
       "min       1.000000     0.000000     0.166700     0.000000     0.000000   \n",
       "25%       2.000000     0.000000    21.000000     0.000000     0.000000   \n",
       "50%       3.000000     0.000000    28.000000     0.000000     0.000000   \n",
       "75%       3.000000     1.000000    39.000000     1.000000     0.000000   \n",
       "max       3.000000     1.000000    80.000000     8.000000     9.000000   \n",
       "\n",
       "              fare        body  \n",
       "count  1308.000000  121.000000  \n",
       "mean     33.295479  160.809917  \n",
       "std      51.758668   97.696922  \n",
       "min       0.000000    1.000000  \n",
       "25%       7.895800   72.000000  \n",
       "50%      14.454200  155.000000  \n",
       "75%      31.275000  256.000000  \n",
       "max     512.329200  328.000000  "
      ]
     },
     "execution_count": 327,
     "metadata": {},
     "output_type": "execute_result"
    }
   ],
   "source": [
    "passengers.describe()"
   ]
  },
  {
   "cell_type": "markdown",
   "metadata": {},
   "source": [
    "Based from the observations of the types and value of the attributes of the dataframe `passengers`, we can convert the attibute `body` to an integer. We need to fill the NaN values first."
   ]
  },
  {
   "cell_type": "code",
   "execution_count": 328,
   "metadata": {
    "collapsed": true
   },
   "outputs": [],
   "source": [
    "passengers.body = passengers.body.fillna(\"0\")\n",
    "passengers.body = passengers.body.astype(int)"
   ]
  },
  {
   "cell_type": "markdown",
   "metadata": {},
   "source": [
    "Transform `sex`, `pclass`,`embarked` and `survived` atibutes to `Categorical` attibutes : "
   ]
  },
  {
   "cell_type": "code",
   "execution_count": 46,
   "metadata": {
    "collapsed": true
   },
   "outputs": [],
   "source": [
    "passengers.sex  = passengers.sex.astype('category')\n",
    "passengers.pclass  = passengers.pclass.astype('category')\n",
    "passengers.embarked = passengers.embarked.astype('category')"
   ]
  },
  {
   "cell_type": "markdown",
   "metadata": {},
   "source": [
    "* **Plot histograms for the travel class, embarkation port, sex and age attributes. For the latter one, use discrete decade intervals.**\n",
    "\n",
    "A bar chart is the best way of representing categorical data. Regarding the age of the passengers, we will represent it in a histogram since it gives a discretized display of value frequency which is more suitable to represent non-categorical data.\n",
    "\n",
    "First, let's define a function to display a bar plot. We will reuse the same function to plot the `travel class`,`embarkation port` and `sex`."
   ]
  },
  {
   "cell_type": "code",
   "execution_count": 47,
   "metadata": {
    "collapsed": true
   },
   "outputs": [],
   "source": [
    "def bar_plot(xlbl, data, n):\n",
    "    fig, ax = plt.subplots()\n",
    "    ax.set_title( xlbl, fontsize=15, fontweight='bold')\n",
    "    sns.barplot(data[:n].keys(), data[:n], ax=ax)\n",
    "    locs, labels = plt.xticks()\n",
    "    plt.setp(labels,rotation=0)    "
   ]
  },
  {
   "cell_type": "code",
   "execution_count": 48,
   "metadata": {},
   "outputs": [
    {
     "data": {
      "image/png": "iVBORw0KGgoAAAANSUhEUgAAAXUAAAEWCAYAAACZnQc8AAAABHNCSVQICAgIfAhkiAAAAAlwSFlz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\nAAAASUVORK5CYII=\n",
      "text/plain": [
       "<matplotlib.figure.Figure at 0x11b1e9e10>"
      ]
     },
     "metadata": {},
     "output_type": "display_data"
    }
   ],
   "source": [
    "bar_plot('Titanic passengers per travel classes', passengers.groupby('pclass').size(), len(passengers.groupby('pclass')))    "
   ]
  },
  {
   "cell_type": "markdown",
   "metadata": {},
   "source": [
    "This bar chart tells us that the passengers in class 3 are almost equal to the numbers of passengers travelling in classes 1 and 2 combined.\n",
    "\n",
    "Now, let's plot a bar chart of the number of passengers having embarked in the diferents ports :"
   ]
  },
  {
   "cell_type": "code",
   "execution_count": 49,
   "metadata": {},
   "outputs": [
    {
     "data": {
      "image/png": "iVBORw0KGgoAAAANSUhEUgAAAXUAAAEWCAYAAACZnQc8AAAABHNCSVQICAgIfAhkiAAAAAlwSFlz\nAAALEgAACxIB0t1+/AAAGMlJREFUeJzt3Xm4XFWZ7/FvQkiil4BTKyooarevIET0IKIYBmVuGvSq\ndCsq4BVRsRVEVAwKIkMLiooI2qERaPXaCrZoDMqVIQQaBQ5wFYFXkQYU54FRgpKc/mOtMkVxhgqc\nk4KV7+d58lTVHt/ateu31157n8q0kZERJEltmD7oAiRJk8dQl6SGGOqS1BBDXZIaYqhLUkMMdUlq\nyIxBF9CiiLgJeHrXoGXAncBFwDsy82cDKEsTiIjDgcOAf8vMN0/B8jv3D6+fmT+fpGWuB/wMIDOn\nTcYyH+4iYhZwUGYePehaHo5sqU+tJcA3gAuAmcBuwLcjwu0uPQgR8RjgOuCoQdfycGW4TK0PZObu\nmbk98FJgBNioPpe08tYCnjHoIh7O7H5ZRTLzqoj4DfAk4CkAEbEB8AlgHjAH+AVwOvDhzByJiMcD\nxwE7Ao8Hfg18hXKw+EtdxluBf6bs6PcAl1FOTa+t46cDHwTeUpfxI2B+Zn67jt8b+DxwUl3/O4C1\nKWcY+2bmXXW65wKfAbYAbgIOrPM9qXPaX+v9JPAPlH1rMXBgZv64jj8N2As4EngV8GTgH+v7OhYY\nAh4N3Agcn5mnjrU9I+J5ddu9mNK19TXg4My8s44fAW4H/qlOtwHwnbodDgXeCPwFODEzP9yz+FkR\ncTLweuBPwCnAhzJzWV32a4D5wLOB5cA1wPsyc3EdfxOl++3dwHsp3W9ze+p/LHApEMBnM/Ntdfjb\ngYOA9YCfAsdk5r93zTcEfBp4AfAT4F/G2kZd83Tq+XtK99LzKK3dd2bmkjpNv/vJFyj78IuB4zLz\niJ51daY7BfgdsC+wRp3voMz8c51uDnAE8GrgiZTP/NOZeVIdvwHw37WO7wJ7A9+jfBc66xoB9qF8\nZw6l7FvrAXcAFwIHZOYvJto+rbGlvopExJaUnRdqHyjwdeAV9fVFlLA/jNJNAyVE9wHuAs6nBN57\ngI/UZe4EnEzZkRfX5exE6eKZWZfxQeBwyhfrIuA5wMJaT7fXAQdQgmI2JQzfXdfzaODbwNbArygh\n/DXgMT3L+ColCH8JDAM7AxfWAOs2v76nW4HvA4uAHeq6Lwb+Fvi3+v4eICIeB5wHbFvX82tgv7r+\nbmvVYb+ghO/uQAKvAX4IPAE4PCK265nvtZTP5QpKwH2ga1sMAV+mbMcllOB9EXBWRKzRs5yPAtcC\nV2bmH7qGr0nZfgGcBexfl70X5TN/PCWUngScERH/VMevDZxDCdRfArdRAq1fX6EcbG8ENgUWRcS6\ndVy/+8melM/nOuCScdb1WuCtwA+AWZTGwtH1fcygHGAPqNviYspB5zMRcUzPcjaihPUw8F91vo6z\ngVson/0RlMbI+cAfKZ/x18apr1mG+tQ6OiLOjojFlNbGNMrOeWm92PNpypfpBbWLZkGd7zn18e/q\n4yHArsCWlC/CN3rGfwvYg9J6O4ASQGtGxGzgfcBSYOPM3IESbGsAB/fUuiYwNzO3Ak6owzavj6+j\nHDiuBZ6TmVtTDi6zOjNHxFaUkL0M2KhOczSlNb5Xz7quyMzNM3NjSpfUkylfxL1qjbtRWng/HW2j\nUgLi8cDHMvOlmbkJJRh2jIhNu6ZbA3hvZr6ccnZArfn5mTmPcq0DSsB1+119D9tSWq5QzkygHIze\nB7w6M3cENqu1P55ykOj2qcx8eWbu1jP8ZGAbSnDvmZnL6/DD6uOWddkvqq/fXx9fD/wN5YD0nPoe\n7tdSnsCXM3MI2ITy3tcC3r6S+8mfgRfWz++8cdY1A9gsM19GOUMA+Oe6rv9NOTDdXN/Hy4GtKGc0\nB9eLvx3TgNfX7XgE8NcL2Jn5isw8nxXfg9PrsjetdR8zyoG2eYb61JpHCagtKF/804GdM3N5Zt5L\naTndCpwaEddRW2yUljLA8ZQW5lmUoDkWuJtyYAA4k3KK+lrgD5TT+b8BhjPzbkqL6lF1eb+tp6v/\nr867RU+t12TmL+vzH9XHTmhvWB+/lZlL6/Mv9czf6V7YHFhe1zV/jHVd3HmSmXcA/wo8FsjaVfBa\n4BeZ+RNG11nXeyJipK6rc52id13frY+3dt5bZv6qPu/cgTL7/rNwYWb+sT7vtPaeHBFzMjOBhcDz\nImIhpcX82DGWs2SM+jtdCEvrfkBEdPcVX1PfU+f9z61nS53wWtSZj5VrjZ4JULuRvl6HbcjK7SfX\nZubv+1jX1Zn507q+Cyj7/0zgWaz4rM7KzNvqNFcA/59yIOld51jbseNU4PeUhsYfKWeVM4FLO11m\nqxP71KfWvMy8eLQR9VT6Sspp50mUltL2lFboNIDM/GJEfI/S77ht/bc78H+AF2fmLyNiE0pXwQ6U\nL8t8Sti9iBUH7XuAc3tKuK/n9d2jjOvcIjej5zWUFna3Nevjz+r76nZ9z+vbu19k5lsj4gzKe5tH\nOcXfOyI+mpnv54E667qKcvrd7Xc9r++pj53WcPf7XM7our8XnVAYAf4SEbtRgvRmyud2FKWL56nc\nf/tAz/vsclNd3k4RsUNmnsuK9wSlW6HXbFZs8+7G2FjvYTQzu553al3Wte5+9pOx3tN46+pd30Q/\nDds9fqQe+MeUmT+KiGdTrtNsRzmjPQo4KCI2Wd361W2pD84OlFbLtZn5LuCblAtvQLkXNyI+SekK\n+Xxm7gQ8jfIl3iIiHhcRb6C0UqZn5l6Z+SxK4MwCXg7cANxLCakDMvMVlH7eG3lgS3u8L9o19XGX\nevoM8IYxprkDeE1d19mUroJv9Uz719ZTFP9KOa0+JDNfQvlyAuwyQT1X1FPwV1DOLr5POVt5qF4W\nEU+pzztdJzfVs5S3UFqTJ2bmxyn9+b3dLh1jtRJfRelSA/h4RKxRzww64XNsfU8HUw6SZ9c++c4Z\n1C4R8aj6fI+VeF+dvvnprOgSuZaV20/6bfnOrRfXiYiXUq6/LKWcWV5ep3lVvUWRiNiMcgH3Pu7/\nGfYetP76unNrcEQcQLkwe1Nm/mNmrkc5m30cD2z1N89QH5wb6+Pc2hq/lhL0AGvV0+unU4LtBxGx\niHLhbjpwVf2S30m5IHRqRFwQERdRWu33AYvrnSCfpbTEroqI8ygtsQMp/dj9+hLlAulGwHURsYQH\n3nXxXUrL+bnAj+s0Cyh3f/S29rrdSrmgug/wo4g4h3L3RGeZozmZ0uLeNyKuiIgfUi5mvpVy+v1Q\nTads8wu6ajm2PnY+tyMj4lzKWUmnm2qtPpf/G0rX2+XAxqzoJz6uPn43Ir5LCbd3ULY7lM/hFso2\nvi4iLmbF3TX92CMirqZ0c2xPOQCfPIn7Sa9L67K+XV9/ou7XZwJXU/bv6+s0F1EOlv8yQcv6Nlbs\nT0si4nWUBskrgbMj4tyIuIxyJ9WdlAP9asVQH5DMvBJ4F6VfdxPKBbhD6+it6uOewMcpp8Uvo9z9\ncgbllkEy8+uUltqVlJ14LuW2r90ys9PvfjDlguWdlO6ZX1JuZfvMStR6N6Uf+FLKl/wxlAtSUC6c\nkZkjlNbfFyl3IQxRWkt/n5lXjbPsuyh31fwHpW96G8oX9yOsuEDYO8/P6/a4gNInvD7l4vG2mfmn\nft/XOI6j3OHyAspB4kPA5+q4wyjXOO6jXJA7h9pXzYrPbUJ1e72nvjwiItbOzE9Sbme8ldINdTfl\nQuj76zz3UA6AFwHrUrbzrpQWcD/eRtmXnk3ZZ3bKzN/WcQ95P+mxGPgYZRv9hXKr62H1fSyldCWe\nUMfNo3RnvS0zPzjeQuvnexilD31jSgPoU/W93UDpenkm5ZrADpl561jLatU0/+cjTaTeUfIPlC/6\nlzLzTxHxHMptbbdk5tPHXYAGqus+9TGv8UziuvamnN2cl5m9t4pqFfBCqfpxN6W1OgM4ICJuYcXt\njqNd1JM0IHa/aEL11sLXUPr0n0Hp+78H+BRjdJFIGgy7XySpIbbUJakhA+1THx4e9jRBkh6EoaGh\nUX8/f+AXSoeGhgZdgiQ9ogwPD485zu4XSWqIoS5JDTHUJakhhrokNcRQl6SGGOqS1BBDXZIaYqhL\nUkMMdUlqyMD/olTSw9uiN+4z6BJWC7uc8fmJJ+qDLXVJaoihLkkNMdQlqSGGuiQ1xFCXpIYY6pLU\nEENdkhpiqEtSQwx1SWqIoS5JDTHUJakhhrokNcRQl6SGGOqS1BBDXZIaYqhLUkMMdUlqiKEuSQ0x\n1CWpIYa6JDXEUJekhhjqktSQGRNNEBFrAqcDGwDLgH2B+4DTgBHgGmD/zFweEfsC+9XxR2bmwqkp\nW5I0mn5a6rsAMzLzJcARwFHA8cChmTkPmAbsHhHrAu8EtgR2BI6JiFlTU7YkaTT9hPqPgRkRMR1Y\nG/gLMAQsruPPAbYDNgcuycx7M/N24AZg7uSXLEkay4TdL8BdlK6X64EnALsCW2XmSB1/J7AOJfBv\n75qvM3xcw8PDK1GuJLVpsrKwn1A/EPhOZh4SEesD5wMzu8bPAW4D7qjPe4ePa2hoqP9qJa1yiwZd\nwGpiZbJwvANAP90vf2RFC/wPwJrAVRGxTR22M7AEuAyYFxGzI2IdYEPKRVRJ0irST0v9E8CpEbGE\n0kL/AHAFsCAiZgLXAWdm5rKIOIES8NOB+Zm5dIrqliSNYsJQz8y7gD1GGbX1KNMuABZMQl2SpAfB\nPz6SpIYY6pLUEENdkhpiqEtSQwx1SWqIoS5JDTHUJakhhrokNcRQl6SGGOqS1BBDXZIaYqhLUkMM\ndUlqiKEuSQ0x1CWpIYa6JDXEUJekhhjqktQQQ12SGmKoS1JDDHVJaoihLkkNMdQlqSGGuiQ1xFCX\npIYY6pLUEENdkhpiqEtSQwx1SWqIoS5JDTHUJakhhrokNcRQl6SGGOqS1BBDXZIaYqhLUkMMdUlq\nyIx+JoqIQ4DdgJnAScBi4DRgBLgG2D8zl0fEvsB+wH3AkZm5cCqKliSNbsKWekRsA7wE2BLYGlgf\nOB44NDPnAdOA3SNiXeCddbodgWMiYtYU1S1JGkU/3S87Aj8E/hP4JrAQGKK01gHOAbYDNgcuycx7\nM/N24AZg7qRXLEkaUz/dL08Ang7sCjwD+AYwPTNH6vg7gXWAtYHbu+brDB/X8PDwytQrSU2arCzs\nJ9R/D1yfmX8GMiKWUrpgOuYAtwF31Oe9w8c1NDTUf7WSVrlFgy5gNbEyWTjeAaCf7peLgZ0iYlpE\nPAX4X8B5ta8dYGdgCXAZMC8iZkfEOsCGlIuokqRVZMKWemYujIitKKE9Hdgf+G9gQUTMBK4DzszM\nZRFxAiXgpwPzM3Pp1JUuSerV1y2NmfneUQZvPcp0C4AFD7UoSdKD4x8fSVJDDHVJaoihLkkNMdQl\nqSGGuiQ1xFCXpIYY6pLUEENdkhpiqEtSQwx1SWqIoS5JDTHUJakhhrokNcRQl6SGGOqS1BBDXZIa\nYqhLUkMMdUlqiKEuSQ0x1CWpIYa6JDXEUJekhhjqktQQQ12SGmKoS1JDDHVJaoihLkkNMdQlqSGG\nuiQ1xFCXpIYY6pLUEENdkhpiqEtSQwx1SWqIoS5JDTHUJakhhrokNcRQl6SGzOhnooh4IjAMbA/c\nB5wGjADXAPtn5vKI2BfYr44/MjMXTknFkqQxTdhSj4g1gc8B99RBxwOHZuY8YBqwe0SsC7wT2BLY\nETgmImZNTcmSpLH001L/GPBZ4JD6eghYXJ+fA+wALAMuycx7gXsj4gZgLnD5RAsfHh5e2ZolqTmT\nlYXjhnpE7A38NjO/ExGdUJ+WmSP1+Z3AOsDawO1ds3aGT2hoaGilCpa0ai0adAGriZXJwvEOABO1\n1N8EjETEdsCmwBnAE7vGzwFuA+6oz3uHS5JWoXFDPTO36jyPiAuBtwLHRcQ2mXkhsDNwAXAZcFRE\nzAZmARtSLqJKklahvu5+6XEQsCAiZgLXAWdm5rKIOAFYQrn4Oj8zl05inZKkPvQd6pm5TdfLrUcZ\nvwBYMAk1SZIeJP/4SJIaYqhLUkMMdUlqiKEuSQ0x1CWpIYa6JDXEUJekhhjqktQQQ12SGmKoS1JD\nDHVJaoihLkkNMdQlqSGGuiQ1xFCXpIYY6pLUEENdkhpiqEtSQwx1SWqIoS5JDTHUJakhhrokNcRQ\nl6SGGOqS1JAZgy6gX6977xcHXcJq4UvH7jnoEiQ9BLbUJakhhrokNcRQl6SGGOqS1BBDXZIaYqhL\nUkMMdUlqiKEuSQ0x1CWpIYa6JDXEUJekhhjqktSQcX/QKyLWBE4FNgBmAUcC1wKnASPANcD+mbk8\nIvYF9gPuA47MzIVTV7YkaTQTtdRfD/w+M+cBOwEnAscDh9Zh04DdI2Jd4J3AlsCOwDERMWvqypYk\njWain979KnBmfT6N0gofAhbXYecAOwDLgEsy817g3oi4AZgLXD5RAcPDww+ibE0VPw9pMCbruzdu\nqGfmXQARMYcS7ocCH8vMkTrJncA6wNrA7V2zdoZPaGhoqL9K/+P6/qbTQ9L356HVxqJBF7CaWJnv\n3ngHgAkvlEbE+sAFwL9n5peA5V2j5wC3AXfU573DJUmr0LihHhFPAs4F3peZp9bBV0XENvX5zsAS\n4DJgXkTMjoh1gA0pF1ElSavQRH3qHwAeC3wwIj5Yh70LOCEiZgLXAWdm5rKIOIES8NOB+Zm5dKqK\nliSNbqI+9XdRQrzX1qNMuwBYMEl1SZIeBP/4SJIaYqhLUkMMdUlqiKEuSQ0x1CWpIYa6JDXEUJek\nhhjqktQQQ12SGmKoS1JDDHVJaoihLkkNmehXGqVJsffnR/tdOE2m0/b51KBL0MOALXVJaoihLkkN\nMdQlqSGGuiQ1xFCXpIYY6pLUEENdkhpiqEtSQwx1SWqIoS5JDTHUJakhhrokNcRQl6SGGOqS1BBD\nXZIaYqhLUkMMdUlqiKEuSQ0x1CWpIYa6JDXEUJekhhjqktQQQ12SGmKoS1JDZkzmwiJiOnAS8Dzg\nXuDNmXnDZK5DkjS2yW6pvwKYnZkvBt4PfHySly9JGsdkh/pLgW8DZOb3gM0mefmSpHFMGxkZmbSF\nRcQpwFmZeU59fQvwzMy8b7Tph4eHJ2/lkrQaGRoamjba8EntUwfuAOZ0vZ4+VqCPV5Qk6cGZ7O6X\nS4BdACJiC+CHk7x8SdI4Jrul/p/A9hHxX8A0YJ9JXr4kaRyT2qcuSRos//hIkhpiqEtSQwx1SWrI\nZF8oFRARzwWOBR4NrAUsAg7PTC9gPMxFxBBwDOWzmw5cAHw4M/880MLUl4h4P7AdsCawHHhPZg4P\ntqpVy5b6JIuIxwBfBg7IzG2BLYBNgP0GWpgmFBHrAV8A3pGZLwW2pPyG0ScGWpj6EhEbAbsB22fm\n1sCBwKmDrWrVM9Qn3+7A+Zn5E4DMXAa8kdVw53oEegNwSmb+GKCeWX0E2CUiHjXQytSP24GnAW+K\niKdm5tXA5gOuaZUz1CffU4Abuwdk5l2evj8ibMADP7sR4NfAuoMoSP3LzFspLfUtgUsj4npg18FW\nteoZ6pPvZmD97gER8YyI2GpA9ah/twDP7B5Qf076acBvBlKR+hYRfwvckZlvysynAa8HPhsRjxtw\naauUoT75FgI7RcSzACJiTeB4YOOBVqV+nAG8OSL+LiIeExHnAqcACzPz7gHXponNBU6MiJn19Y+B\n24Blgytp1fMvSqdAvYPiOMpBcw7wTcodFG7sh7n62R1NuWvp0cCvKN0v787MPwyyNk0sIuYDewB3\nUb5/H83Mrw+2qlXLUJcmEBFzgRsz865B1yJNxFCXpIbYpy5JDTHUJakhhrokNcRQl6SGGOpa7UTE\nTRGxwUOY/8KI2OZBznt4RBz+YNctTcRQl6SG+NO7esSqP7O6B7AG8B3gZMr/k3sj5ZcxrwAuBPYG\nHgu8MjOvq7MfHhHPA5YC+2XmDyJiY+DTlD88eiLw8cw8obast6D8XMCJXet/InA+MD8zzx6lnvdl\n5khEHAy8Bfgd8EfgsinZIBK21PUIFRE7AUPAC4HnA08F9qT8qfhHgKjjNsjMFwP/lxKsHT/JzOfX\naU+vw94MHJmZLwS2BY7qmn52Zm6UmSfV1+sA36L8Tv7ZY9UTEZsBb6rDtgPWm7ytID2QLXU9Um0H\nvAjo/AcIj6I0Un6VmVcBRMTPgfPq+JuBZ3TNfwpAZi6KiC/U38E/iPK7PYdQDg5rdU3//Z71f47y\nEwJfG6eeWyi/7rio89eoEfFVSktemhK21PVItQbwyczcNDM3pQTqUUDvTxzfN8b8vcP/DHwFeCVw\nLfCBnvH39Lz+KPBb4G0T1DPC/b9nY9UjTQpDXY9U5wNviIi1ImIG8HVgs5WYf0+AiHglcH1m/gnY\nHvhQZp4NbF3Hj9Wqvgp4O3BYRDx1jHpeTTlT2DUi1omI2ZSDhjRlDHU9ImXmN4GzKN0i1wBXA4tX\nYhHPjoirgXcDe9VhhwMXR8SVwI7ATdy/y6a3hp8AnwFOHKOe0+v/vvNJ4PJa380rUaO00vxBL0lq\niC11SWqIoS5JDTHUJakhhrokNcRQl6SGGOqS1BBDXZIa8j/LKAlIMYZUbgAAAABJRU5ErkJggg==\n",
      "text/plain": [
       "<matplotlib.figure.Figure at 0x11adfe940>"
      ]
     },
     "metadata": {},
     "output_type": "display_data"
    }
   ],
   "source": [
    "bar_plot('Passengers embarked per ports', passengers.groupby('embarked').size(), len(passengers.groupby('embarked')))    "
   ]
  },
  {
   "cell_type": "markdown",
   "metadata": {},
   "source": [
    "We can clearly see in this bar char that a large portion of the passengers have embarked from the port of Southhampton.\n"
   ]
  },
  {
   "cell_type": "code",
   "execution_count": 50,
   "metadata": {},
   "outputs": [
    {
     "data": {
      "image/png": "iVBORw0KGgoAAAANSUhEUgAAAXUAAAEWCAYAAACZnQc8AAAABHNCSVQICAgIfAhkiAAAAAlwSFlz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\n",
      "text/plain": [
       "<matplotlib.figure.Figure at 0x11b0e3908>"
      ]
     },
     "metadata": {},
     "output_type": "display_data"
    }
   ],
   "source": [
    "bar_plot('passengers gender', passengers.groupby('sex').size(), len(passengers.groupby('sex')))"
   ]
  },
  {
   "cell_type": "markdown",
   "metadata": {},
   "source": [
    "The major portion of the passergers of the Titanic where men. We could see it even more clearer in a stacked bar chart."
   ]
  },
  {
   "cell_type": "code",
   "execution_count": 51,
   "metadata": {},
   "outputs": [
    {
     "data": {
      "image/png": "iVBORw0KGgoAAAANSUhEUgAAAX0AAAETCAYAAADah9Z7AAAABHNCSVQICAgIfAhkiAAAAAlwSFlz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\nZlYhTvpmZhXy/wES4RZ4VXAbJgAAAABJRU5ErkJggg==\n",
      "text/plain": [
       "<matplotlib.figure.Figure at 0x11aa3b710>"
      ]
     },
     "metadata": {},
     "output_type": "display_data"
    }
   ],
   "source": [
    "passengers.loc[passengers['age']<1,'age'] = None\n",
    "\n",
    "passengers.age.hist(bins=40)\n",
    "plt.xlabel(\"Age\")\n",
    "plt.ylabel(\"Number of Person\")\n",
    "plt.title(\"Histogram of Passenger Age\");\n",
    "plt.show()"
   ]
  },
  {
   "cell_type": "markdown",
   "metadata": {},
   "source": [
    "We choose bins=40 because we can see from the describtion of the dataframe that the age max is 80 years old, so the discret intervals will perfectily fit to the edge of the histogram.\n",
    "\n",
    "This histogram have an almost normal distribution. The earlier statistics show that median is 28 year old, and mean is 30 year old. You can also tell that the distribution is normal when you have similar median and mean.\n",
    "\n",
    "Overall the plot tells us that the passengers' age is distributed around mid-end 20's."
   ]
  },
  {
   "cell_type": "markdown",
   "metadata": {},
   "source": [
    "* **Calculate the proportion of passengers by cabin floor. Present your results in a pie chart.**"
   ]
  },
  {
   "cell_type": "code",
   "execution_count": 52,
   "metadata": {
    "collapsed": true
   },
   "outputs": [],
   "source": [
    "def string_to_floor(x):\n",
    "    x=re.sub('[^a-zA-Z]+', '',x)\n",
    "    x=x[-1]\n",
    "    \n",
    "    floor_list=['A','B','C','D','E','F']\n",
    "    \n",
    "    if (x in  floor_list):\n",
    "        return x\n",
    "    else:\n",
    "        return None"
   ]
  },
  {
   "cell_type": "code",
   "execution_count": 53,
   "metadata": {
    "collapsed": true
   },
   "outputs": [],
   "source": [
    "passengers.cabin = passengers.cabin.fillna('Unknown')\n",
    "passengers.floor = passengers.cabin.apply(lambda x : string_to_floor(x))\n",
    "passengers.floor = passengers.floor.astype('category')"
   ]
  },
  {
   "cell_type": "code",
   "execution_count": 54,
   "metadata": {},
   "outputs": [
    {
     "data": {
      "image/png": "iVBORw0KGgoAAAANSUhEUgAAAV0AAADnCAYAAAC9roUQAAAABHNCSVQICAgIfAhkiAAAAAlwSFlz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\n6BJCiIIodAkhREEUuoQQoqD/AgYskwilKocRAAAAAElFTkSuQmCC\n",
      "text/plain": [
       "<matplotlib.figure.Figure at 0x11b273208>"
      ]
     },
     "metadata": {},
     "output_type": "display_data"
    }
   ],
   "source": [
    "explode = [0.1]*6\n",
    "labels = passengers.floor.value_counts().sort_index().index.categories\n",
    "\n",
    "fig1, ax1 = plt.subplots()\n",
    "ax1.pie(passengers.floor.value_counts().sort_index(), \n",
    "        explode=explode,\n",
    "        labels=labels, \n",
    "        autopct='%1.1f%%',\n",
    "        shadow=True, startangle=180,counterclock=False)\n",
    "\n",
    "plt.show()"
   ]
  },
  {
   "cell_type": "markdown",
   "metadata": {},
   "source": [
    "* **For each travel class, calculate the proportion of the passengers that survived. Present your results in pie charts.**"
   ]
  },
  {
   "cell_type": "code",
   "execution_count": 55,
   "metadata": {},
   "outputs": [
    {
     "data": {
      "text/html": [
       "<div>\n",
       "<style>\n",
       "    .dataframe thead tr:only-child th {\n",
       "        text-align: right;\n",
       "    }\n",
       "\n",
       "    .dataframe thead th {\n",
       "        text-align: left;\n",
       "    }\n",
       "\n",
       "    .dataframe tbody tr th {\n",
       "        vertical-align: top;\n",
       "    }\n",
       "</style>\n",
       "<table border=\"1\" class=\"dataframe\">\n",
       "  <thead>\n",
       "    <tr style=\"text-align: right;\">\n",
       "      <th>survived</th>\n",
       "      <th>0</th>\n",
       "      <th>1</th>\n",
       "    </tr>\n",
       "    <tr>\n",
       "      <th>pclass</th>\n",
       "      <th></th>\n",
       "      <th></th>\n",
       "    </tr>\n",
       "  </thead>\n",
       "  <tbody>\n",
       "    <tr>\n",
       "      <th>1</th>\n",
       "      <td>123</td>\n",
       "      <td>200</td>\n",
       "    </tr>\n",
       "    <tr>\n",
       "      <th>2</th>\n",
       "      <td>158</td>\n",
       "      <td>119</td>\n",
       "    </tr>\n",
       "    <tr>\n",
       "      <th>3</th>\n",
       "      <td>528</td>\n",
       "      <td>181</td>\n",
       "    </tr>\n",
       "  </tbody>\n",
       "</table>\n",
       "</div>"
      ],
      "text/plain": [
       "survived    0    1\n",
       "pclass            \n",
       "1         123  200\n",
       "2         158  119\n",
       "3         528  181"
      ]
     },
     "execution_count": 55,
     "metadata": {},
     "output_type": "execute_result"
    }
   ],
   "source": [
    "survivors = pd.crosstab(passengers['pclass'],passengers['survived'])\n",
    "survivors"
   ]
  },
  {
   "cell_type": "code",
   "execution_count": 56,
   "metadata": {},
   "outputs": [
    {
     "data": {
      "image/png": "iVBORw0KGgoAAAANSUhEUgAAA3UAAAFFCAYAAABL68SkAAAABHNCSVQICAgIfAhkiAAAAAlwSFlz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\n",
      "text/plain": [
       "<matplotlib.figure.Figure at 0x11ac40ef0>"
      ]
     },
     "metadata": {},
     "output_type": "display_data"
    }
   ],
   "source": [
    "def pie_chart(data, subplot, title):\n",
    "    ax = subplot\n",
    "    ax.pie( data, explode = (0, 0.1), shadow = True,\n",
    "           autopct = '%1.1f%%',\n",
    "           labels = labels,\n",
    "         startangle=90, counterclock=False)\n",
    "    plt.title(title, y = 0)\n",
    "    \n",
    "    \n",
    "fig = plt.figure(figsize=(15,5))\n",
    "labels = ['Died', 'Survived']\n",
    "\n",
    "pie_chart(survivors.loc[1,], plt.subplot(1,3,1), '1st class')\n",
    "pie_chart(survivors.loc[2,], plt.subplot(1,3,2), '2nd class')\n",
    "pie_chart(survivors.loc[3,], plt.subplot(1,3,3), '3rd class')\n",
    "\n",
    "fig.suptitle('Proportion of passengers that surived per travel class', fontsize=16)\n",
    "plt.show()"
   ]
  },
  {
   "cell_type": "markdown",
   "metadata": {},
   "source": [
    "Calculate the proportion of the passengers that survived by travel class and sex. Present your results in a single histogram."
   ]
  },
  {
   "cell_type": "code",
   "execution_count": 340,
   "metadata": {},
   "outputs": [
    {
     "data": {
      "text/html": [
       "<div>\n",
       "<style>\n",
       "    .dataframe thead tr:only-child th {\n",
       "        text-align: right;\n",
       "    }\n",
       "\n",
       "    .dataframe thead th {\n",
       "        text-align: left;\n",
       "    }\n",
       "\n",
       "    .dataframe tbody tr th {\n",
       "        vertical-align: top;\n",
       "    }\n",
       "</style>\n",
       "<table border=\"1\" class=\"dataframe\">\n",
       "  <thead>\n",
       "    <tr style=\"text-align: right;\">\n",
       "      <th></th>\n",
       "      <th>pclass</th>\n",
       "      <th>sex</th>\n",
       "      <th>survived</th>\n",
       "    </tr>\n",
       "  </thead>\n",
       "  <tbody>\n",
       "    <tr>\n",
       "      <th>0</th>\n",
       "      <td>1</td>\n",
       "      <td>female</td>\n",
       "      <td>96.527778</td>\n",
       "    </tr>\n",
       "    <tr>\n",
       "      <th>1</th>\n",
       "      <td>1</td>\n",
       "      <td>male</td>\n",
       "      <td>34.078212</td>\n",
       "    </tr>\n",
       "    <tr>\n",
       "      <th>2</th>\n",
       "      <td>2</td>\n",
       "      <td>female</td>\n",
       "      <td>88.679245</td>\n",
       "    </tr>\n",
       "    <tr>\n",
       "      <th>3</th>\n",
       "      <td>2</td>\n",
       "      <td>male</td>\n",
       "      <td>14.619883</td>\n",
       "    </tr>\n",
       "    <tr>\n",
       "      <th>4</th>\n",
       "      <td>3</td>\n",
       "      <td>female</td>\n",
       "      <td>49.074074</td>\n",
       "    </tr>\n",
       "    <tr>\n",
       "      <th>5</th>\n",
       "      <td>3</td>\n",
       "      <td>male</td>\n",
       "      <td>15.212982</td>\n",
       "    </tr>\n",
       "  </tbody>\n",
       "</table>\n",
       "</div>"
      ],
      "text/plain": [
       "  pclass     sex   survived\n",
       "0      1  female  96.527778\n",
       "1      1    male  34.078212\n",
       "2      2  female  88.679245\n",
       "3      2    male  14.619883\n",
       "4      3  female  49.074074\n",
       "5      3    male  15.212982"
      ]
     },
     "execution_count": 340,
     "metadata": {},
     "output_type": "execute_result"
    }
   ],
   "source": [
    "survivor_by_travel_and_sex = passengers[['pclass','sex','survived']].groupby(['pclass','sex']).mean().reset_index()\n",
    "survivor_by_travel_and_sex['survived'] = survivor_by_travel_and_sex['survived']*100\n",
    "survivor_by_travel_and_sex"
   ]
  },
  {
   "cell_type": "code",
   "execution_count": 341,
   "metadata": {},
   "outputs": [
    {
     "data": {
      "image/png": "iVBORw0KGgoAAAANSUhEUgAAAYMAAAEGCAYAAACHGfl5AAAABHNCSVQICAgIfAhkiAAAAAlwSFlz\nAAALEgAACxIB0t1+/AAAFVdJREFUeJzt3X2UVdWZ5/FvETAGRYQYzWIGBaTzmJc2Y8qVSFQg3Zqo\nSdAh3S2KMNCi7bRJw5gRNOIAraRjRLtDXEyiDJaiTARFOyIkjuJbZ2LsVNsKnfgQNGoPtvElokCD\n8lLzx71FSkPBqaLuvfXy/azF4ta55+7zXM5a/Grvfc4+dU1NTUiSerZetS5AklR7hoEkyTCQJBkG\nkiQMA0kShoEkCehdycYj4jPANZk5OiKGAw1AE7AWuDgzd0XEBcBfADuAqzNzxb7abWxs9HpYSWqH\n+vr6uj1tr1gYRMR0YAKwpbzpemBmZj4cEd8DzoyInwJ/BRwPHAj8Q0T8n8x8e1/t19fXV6hySeqe\nGhsbW32vksNEzwJjW/xcDzxSfr0KOAX4NPCTzHw7M98E1gPHVrAmSdIeVKxnkJl3RcSQFpvqMrN5\neGcT0B84BHizxT7N2/dpbwknSWqbis4ZvMeuFq/7ARuBt8qv37t9nxwmkqS2qdUw0Xs9GRGjy69P\nBx4DngBOjogDI6I/8FFKk8uSpCqqZs/g68BNEXEA8EvgzszcGRHzKQVDL+CKzNxWxZokSUBdV1y1\ntLGxsclhIklqm8bGxlYvLfWmM0mSYSBJMgwkSVR3Arkmzp1+e61LaLMl3x5f6xIk9TD2DCSpHZ54\n4gnOPvtsxo0bx3XXXcfatWsZP34848eP5+qrrwZgzpw5LF68mI0bN3LWWWfx2muv1bjq1hkGktQO\nq1evZvz48fzgBz/gyCOP5KqrrmLevHncfvvt7Ny5k0cffZRLL72U5cuXM2PGDKZOncphhx1W67Jb\nZRhIUjtceOGFrFmzhokTJ/Liiy/y3HPPMX36dCZMmMBTTz3Fhg0b6Nu3L1/84hd57rnnGDVqVK1L\n3qtuP2cgSZWwYsUKzj77bIYPH85FF11Er169mD9/PgMGDGDlypUcddRR/OY3v2HlypWcdtppLFy4\nkAsvvLDWZbfKMJCkdvjYxz7GZZddxkEHHcQRRxzBggUL+NrXvsb27dv54Ac/yLXXXsu0adO49NJL\nOf744xk3bhwjR47kmGOOqXXpe9Tt70D2aiJJKvEOZEnSXhkGkiTDQJJkGEiSMAwkSXhpqaRurqOv\nKOyuV/vZM5CkDrRjxw4mTJjAuHHjePPNNzus3RNPPLHD2toTewaS1IFeeeUVtmzZwvLly2tdSpsY\nBpLUgWbNmsXzzz/P5ZdfzpYtW3jjjTcAmDlzJhHBqaeeynHHHcfzzz/PiBEj2LRpE08//TRDhw7l\n2muvZd26dXzrW99i586dvPHGG8yePZtPfepTu9vPzN2roh566KF885vfpF+/fvtdt8NEktSBZs2a\nxfDhwxk4cCAnnHACixcv5qqrrmL27NkAbNiwgWnTpnH77bdz6623cu6557Js2TIaGxt56623WL9+\nPTNmzOCWW27hggsu+L0expVXXsmsWbNYvHgxI0eOZOHChR1Stz0DdWpdbTmR7jq5qLZbt24djz/+\nOKtWrQLYPX9w6KGHMmjQIAD69u3L8OHDAejXrx9vv/02hx9+OAsWLODAAw9ky5YtHHzwwe9q99ln\nn2XOnDkAbN++nSFDhnRIvYaBJFXAsGHDGDNmDF/+8pd5/fXXWbZsGQB1dXtcGmi3uXPnMm/ePI4+\n+mjmz5/Phg0b3vX+0KFDueaaaxg0aBCNjY28+uqrHVKvYSCpW6tVb+2iiy7iiiuuYOnSpWzevJmv\nfvWrhT43ZswYpk6dyiGHHMKHP/zh3XMOzWbPns2MGTPYsWMHdXV1zJ07t0PqddXSTsihht/paufP\nc6fOzFVLJUl7ZRhIkgwDSZJhIEnCMJAk4aWlkrq5STdP7dD2GiZ/p0Pb6yzsGUhSjS1fvpx58+bV\ntAbDQJLkMJEkdaTly5fz0EMPsW3bNl599VUmTpzIgw8+yK9+9SumT5/Oyy+/zP3338/WrVsZMGAA\nN9xww7s+v3jxYlasWEFdXR1nnHEGEydOrErdhoEkdbAtW7awaNEi7rvvPhoaGli6dCk/+9nPaGho\n4BOf+AQNDQ306tWL888/nzVr1uz+3Pr161m5ciVLliwBYPLkyZx00kkMGzas4jUbBpLUwT760Y8C\npZVIjz76aOrq6ujfvz/bt2+nT58+XHLJJfTt25eXX36ZHTt27P7cunXreOmll5g0aRJQWun0hRde\n6H5hEBF9gFuAIcBO4AJgB9AANAFrgYszc1c165KkjtTayqTbt2/ngQceYNmyZWzdupWxY8fScn24\nYcOGMXz4cBYuXEhdXR0NDQ1ERFVqrnbP4Aygd2Z+NiJOBeYCfYCZmflwRHwPOBO4u8p1SeqmOtOl\noL179+YDH/gA48aNA+BDH/oQr7zyyu73jznmGEaMGME555zDO++8w7HHHssRRxxRndqqcpTfWQf0\njohewCHAduAE4JHy+6uAz2MYSOqixo4du/v1yJEjGTlyJFAaOlq0aNE+Pz9lyhSmTJlSsfpaU+0w\n2ExpiOgZ4DDgS8DIzGzuJ20C+hdpqLGxsRL1dQrd+bt1d547dVXVDoP/Bvw4My+PiMHAauCAFu/3\nAzYWaajo8wy445k2llh7hb9bT9DFzp/nTp3Z3n5ZqfZNZ28Ab5Zf/5bSfMGTETG6vO104LEq1yRJ\nPV61ewZ/CyyKiMco9Qi+AfwcuCkiDgB+CdxZ5Zokqcerahhk5mbgz/bw1qhq1iFJejfXJpIkGQaS\nJMNAkoRhIEnCMJAkYRhIkjAMJEkYBpIkDANJEoaBJAnDQJKEYSBJwjCQJGEYSJIwDCRJGAaSJAwD\nSRKGgSQJw0CShGEgScIwkCRhGEiSgN5FdoqIg4HPAX8A7ALWAw9k5rYK1iZJqpK9hkFE9AVmAWOB\np4EXgO3AZ4G/jYjlwFWZubnShUqSKmdfPYPbgBuByzNzV8s3IqIX8KXyPmdVpjxJUjXsKwy+kplN\ne3qjHA4/jIh7O74sSVI17SsMroyIVt/MzL9uLSwkSV3Hvq4mqiv/+QzwFUqTx+8AXwQ+XtnSJEnV\nsteeQWbOAYiInwAjMvPfyz//HfBQ5cuTJFVD0fsMPgS0HA7qAwzs+HIkSbVQ6D4D4Cbg5xGxklKA\nfAn4u4pVJUmqqkI9g8y8FpgIvAxsAP4sM/9nJQuTJFVPW5ajCEpDQ98HPlmZciRJtVAoDCLiW8AZ\nlO5Efh8wOSKuq2RhkqTqKdoz+AIwAdiWmW8BpwKnV6wqSVJVFZ1Abl6KovmKove32NYmEXE5MAY4\nAFgAPAI0lNteC1z83qUvJEmVVbRnsBS4AxgYEdOAR4ElbT1YRIymtMjdicAoYDBwPTAzM0+mdIPb\nmW1tV5K0f4peTXQN8L+AZcCRwKzM/GY7jvcFYA1wN3AvsAKop9Q7AFgFnNKOdiVJ+6Ho8wzuobQ6\n6RWZ+c5+HO8w4ChK9ykMBX4I9GqxvtEmoH+RhhobG/ejjM6tO3+37s5zp66qLTednUPpGQY/Bm7L\nzIfbcbzXgWfKgZIRsY3SUFGzfsDGIg3V19cXO+Idz7SxxNor/N16gi52/jx36sz29stK0WGi+zLz\nPOAjwI+A6yLihXbU8g/AaRFRFxGDgIOAB8tzCVC6QumxdrQrSdoPRXsGRMTHgHHAnwL/SjuWo8jM\nFRExEniCUhBdDPwauCkiDgB+CdzZ1nYlSfun6JzBGmAHpXmDP8rMf2vvATNz+h42j2pve5Kk/Ve0\nZ3BuZq6paCWSpJrZaxhExI2ZeSEwPyJ+74lmmflHFatMklQ1++oZfL/89+wK1yFJqqF9Pems+Tqk\nS4DFwA/38z4DSVInVHQ5ihuBs4BnI2Jhi0tBJUndQLXvM5AkdUJVvc9AktQ5tfU+g8Xs530GkqTO\np2jP4MbM/G5FK5Ek1UzRCeS/qGgVkqSaKtoz+NeIWA38DNjavDEz/7oiVUmSqqpoGDze4nVdJQqR\nJNVOoTDIzDmVLkSSVDtFrybaRemB9S29lJmD97S/JKlrKdoz2D3RHBF9KN2NPKJSRUmSqqvo1US7\nZeb2zFwGuGKpJHUTRYeJJrb4sQ74OOCCdZLUTRS9muhzLV43Aa8BZ3d8OZKkWig6ZzC5+XVEHAIM\nzsxfV6wqSVJVFR0mOh84EZgBPAlsioi7MnNmJYuT1HWdO/32WpfQZku+Pb7WJdRM0QnkvwT+O3AO\n8PfAHwKnVaooSVJ1Fb6aKDN/C5wB3JeZO4APVKwqSVJVFQ2Df4mIFcAw4IGIWAr8Y+XKkiRVU9Ew\n+HPg28AJ5WcgLwamVKwqSVJV7XUCOSL+BrgmMzcCjzZvz8x7y+8PBGZk5oyKVilJqqh9XU20FLgn\nIl6iFAb/j9ITz46idAfyIGBaRSuUJFXcXsMgM58ERkfE54AxwJeAXcCzwPczc3XlS5QkVVrRm84e\nAh6qcC2SpBopetPZF4CrgYG0eLhNZg6rUF2SpCoqujbRd4FLgLX8/nMNJEldXNEweC0zV1S0EklS\nzRQNg8ci4nrgR8C25o2Z+WjrH5EkdRVFw+DT5b+Pa7GtCR9wI0ndQtGriT63770kSV1V0auJTgIu\nBQ6mdDXR+4CjMnNI5UqTJFVL0WGihcA1wCRgPnA68E/tPWhEHA40AqdSuqO5gdKw01rg4szc1d62\nJUltV3Shuq2ZeTPwMPAGcAEwqj0HjIg+wPeBreVN1wMzM/NkSr2OM9vTriSp/YqGwbbyonRJaeXS\nJuCgdh5zHvA94KXyz/XAI+XXq4BT2tmuJKmdig4TXQ/cAYwF/jEixgM/b+vBImIS8Gpm/jgiLi9v\nriuHC8AmoH+RthobG9t6+C6jO3+37s5z17X15PNX9GqiZRFxZ2Y2RUQ98BHgqXYc78+Bpog4BfhP\nwK3A4S3e7wdsLNJQfX19sSPe8UzbKuwECn+3nqCLnT/PXQtd7NxB9z9/ewu7QsNEETEAuDEiVgMH\nAl+j4G/wLWXmyMwclZmjgX8GJgKrImJ0eZfTgcfa2q4kaf8UnTO4idJjLj9IaSjn34DbOqiGrwNz\nIuKnwAHAnR3UriSpoKJzBkMz88aI+K/lx15eERHtGSbardw7aNauK5MkSR2jaM9gR0T0p7xiaUT8\nAaWH3EiSuoGiPYNZlO4xGBwR9wAjKE0GS5K6gaI9g0bgbuDXwJHAckr3B0iSuoGiPYOVwNNAy2ca\n1LWyrySpiykaBmTm+ZUsRJJUO0XD4J6ImAKsprSwHACZ+WJFqpIkVVXRMOgPXAa81mJbEzCswyuS\nJFVd0TD4CnB4Zm7d556SpC6naBg8Bwzgd8tOq4Im3Ty11iW0WcPk79S6BEn7oWgYNAG/iIi1wDvN\nGzPTZyBLUjdQNAzmVrQKSVJNFV3C+pF97yVJ6qqK3oEsSerGDANJkmEgSTIMJEkYBpIkDANJEoaB\nJAnDQJKEYSBJwjCQJGEYSJIwDCRJGAaSJAwDSRKGgSQJw0CShGEgScIwkCRhGEiSMAwkSRgGkiQM\nA0kShoEkCehdzYNFRB9gETAEeD9wNfALoAFoAtYCF2fmrmrWJUk9XbV7BucBr2fmycBpwA3A9cDM\n8rY64Mwq1yRJPV61w2AZcGX5dR2wA6gHHilvWwWcUuWaJKnHq+owUWZuBoiIfsCdwExgXmY2lXfZ\nBPQv0lZjY2NFalT7eD5K/Hfo2nry+atqGABExGDgbmBBZi6JiG+3eLsfsLFIO/X19cUOeMczbS1R\n7VD4fLRVFzt/Fft36Iq62LmD7n/+9hZ2VR0miogjgPuBGZm5qLz5yYgYXX59OvBYNWuSJFW/Z/AN\nYABwZUQ0zx1MBeZHxAHALykNH0mSqqjacwZTKf3n/16jqlmHJOndvOlMkmQYSJIMA0kShoEkCcNA\nkkQNbjqTpM5q0s17utixc2uY/J0OaccwkDpQT/7PRF2bw0SSJMNAkmQYSJIwDCRJGAaSJAwDSRKG\ngSQJw0CShGEgScIwkCRhGEiSMAwkSRgGkiQMA0kShoEkCcNAkoRhIEnCMJAkYRhIkjAMJEkYBpIk\nDANJEoaBJAnDQJKEYSBJwjCQJGEYSJIwDCRJQO9aFwAQEb2ABcAngbeBKZm5vrZVSVLP0Vl6BmcB\nB2bmCOAy4Loa1yNJPUpnCYOTgB8BZObjwPG1LUeSepa6pqamWtdARCwE7srMVeWfXwSGZeaOPe3f\n2NhY+6IlqQuqr6+v29P2TjFnALwF9Gvxc6/WggBa/zKSpPbpLMNEPwHOAIiIE4A1tS1HknqWztIz\nuBs4NSL+L1AHTK5xPZLUo3SKOQNJUm11lmEiSVINGQaSpE4zZ6CyiPgMcE1mjq51LSouIvoAi4Ah\nwPuBqzPzhzUtSoVFxPuAm4AAmoCLMnNtbauqLnsGnUhETAcWAgfWuha12XnA65l5MnAacEON61Hb\nfBkgM08EZgJza1tO9RkGncuzwNhaF6F2WQZcWX5dB7R6n4w6n8y8B7iw/ONRwMYallMTDhN1Ipl5\nV0QMqXUdarvM3AwQEf2AOyn9dqkuJDN3RMQtwH8G/qTW9VSbPQOpg0TEYOAhYHFmLql1PWq7zPwv\nwEeAmyLioFrXU032DKQOEBFHAPcDX83MB2tdj9omIiYA/zEz/wb4d2BX+U+PYRhIHeMbwADgyoho\nnjs4PTO31rAmFbccuDkiHgX6ANN62rnzDmRJknMGkiTDQJKEYSBJwjCQJGEYSJIwDKT9FhENETGp\n1nVI+8MwkCR505m0JxExGpgDbAcGA08AU4C/BC4CdgL3ZuaM93xuLvDHwEDgNUoLD75OaXnrT5R3\nW5CZN0XEucD0clu/Bs7LzG2V/WbSntkzkFr3aeBi4BhKy4pPpRQGnwaOBeojor5554gYXt73s5n5\nEWA9MB74LDAwM48DTgFOLH/kauDzmVkPPFP+rFQT9gyk1j2amQkQEYuBJcCNmflm+f1Tyu8BkJnr\nI+LrwJQobRxBaVnytaXd4sfASqC5N3Ev8JOIuAe4KzP/uTpfS/p99gyk1rV8JkEv4F2rWEbEoIg4\ntMXP9ZQWq+tFaRnru4G6zHwd+DjwXUpP0vqniDg0M6cCXwF+C9wWEedV8stIe2MYSK07KSL+Q0T0\nAiYClwGnR8TBEdEb+N/A8S32HwU8nJnfA34BfB54X0SMAW4D7gP+CtgMDI6IXwGvlVfKvBU4rlpf\nTHovw0Bq3UuU/pP+BbABmEfpcZY/BZ6iNIz0QIv97wA+GRFPA6uBp4GhwCpgK/AvlCail2fmGuB/\nAA9ExM+BkcD11fhS0p64aqm0B+WriWZn5ugalyJVhT0DSZI9A0mSPQNJEoaBJAnDQJKEYSBJwjCQ\nJGEYSJKA/w/sbNDX+ZHLWAAAAABJRU5ErkJggg==\n",
      "text/plain": [
       "<matplotlib.figure.Figure at 0x134e017b8>"
      ]
     },
     "metadata": {},
     "output_type": "display_data"
    }
   ],
   "source": [
    "sns.barplot(x=\"pclass\", y=\"survived\", hue=\"sex\", data=survivor_by_travel_and_sex);"
   ]
  },
  {
   "cell_type": "code",
   "execution_count": 342,
   "metadata": {},
   "outputs": [
    {
     "data": {
      "image/png": "iVBORw0KGgoAAAANSUhEUgAAAYMAAAEFCAYAAAABjYvXAAAABHNCSVQICAgIfAhkiAAAAAlwSFlz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\nNXjlAAAAAElFTkSuQmCC\n",
      "text/plain": [
       "<matplotlib.figure.Figure at 0x132d54908>"
      ]
     },
     "metadata": {},
     "output_type": "display_data"
    }
   ],
   "source": [
    "import seaborn as sns\n",
    "#We reset the index to plot\n",
    "percentage_survivor_by_class_and_sex = percentage_survivor_by_class_and_sex.reset_index()\n",
    "\n",
    "sns.barplot(x=\"pclass\", y=\"survivor in percentage\", hue=\"sex\", data=percentage_survivor_by_class_and_sex);"
   ]
  },
  {
   "cell_type": "markdown",
   "metadata": {},
   "source": [
    "* Create 2 equally populated age categories and calculate survival proportions by age category, travel class and sex. Present your results in a DataFrame with unique index"
   ]
  },
  {
   "cell_type": "code",
   "execution_count": 57,
   "metadata": {
    "collapsed": true
   },
   "outputs": [],
   "source": [
    "median_age=passengers.age.median()\n",
    "\n",
    "def old_or_young(age,median_age):\n",
    "    if age <median_age:\n",
    "        return 'young'\n",
    "    elif  age >= median_age:\n",
    "        return 'old'\n",
    "    else:\n",
    "        return None\n",
    "\n",
    "\n",
    "passengers['age_category']= passengers.age.apply(lambda x : old_or_young(x,median_age))\n",
    "passengers.age_category  = passengers.age_category.astype('category')"
   ]
  },
  {
   "cell_type": "code",
   "execution_count": 344,
   "metadata": {},
   "outputs": [
    {
     "data": {
      "text/html": [
       "<div>\n",
       "<style>\n",
       "    .dataframe thead tr:only-child th {\n",
       "        text-align: right;\n",
       "    }\n",
       "\n",
       "    .dataframe thead th {\n",
       "        text-align: left;\n",
       "    }\n",
       "\n",
       "    .dataframe tbody tr th {\n",
       "        vertical-align: top;\n",
       "    }\n",
       "</style>\n",
       "<table border=\"1\" class=\"dataframe\">\n",
       "  <thead>\n",
       "    <tr style=\"text-align: right;\">\n",
       "      <th></th>\n",
       "      <th>pclass</th>\n",
       "      <th>age_category</th>\n",
       "      <th>sex</th>\n",
       "      <th>survived</th>\n",
       "    </tr>\n",
       "  </thead>\n",
       "  <tbody>\n",
       "    <tr>\n",
       "      <th>0</th>\n",
       "      <td>1</td>\n",
       "      <td>old</td>\n",
       "      <td>female</td>\n",
       "      <td>96.774194</td>\n",
       "    </tr>\n",
       "    <tr>\n",
       "      <th>1</th>\n",
       "      <td>1</td>\n",
       "      <td>old</td>\n",
       "      <td>male</td>\n",
       "      <td>30.894309</td>\n",
       "    </tr>\n",
       "    <tr>\n",
       "      <th>2</th>\n",
       "      <td>1</td>\n",
       "      <td>young</td>\n",
       "      <td>female</td>\n",
       "      <td>95.000000</td>\n",
       "    </tr>\n",
       "    <tr>\n",
       "      <th>3</th>\n",
       "      <td>1</td>\n",
       "      <td>young</td>\n",
       "      <td>male</td>\n",
       "      <td>51.851852</td>\n",
       "    </tr>\n",
       "    <tr>\n",
       "      <th>4</th>\n",
       "      <td>2</td>\n",
       "      <td>old</td>\n",
       "      <td>female</td>\n",
       "      <td>88.461538</td>\n",
       "    </tr>\n",
       "    <tr>\n",
       "      <th>5</th>\n",
       "      <td>2</td>\n",
       "      <td>old</td>\n",
       "      <td>male</td>\n",
       "      <td>7.777778</td>\n",
       "    </tr>\n",
       "    <tr>\n",
       "      <th>6</th>\n",
       "      <td>2</td>\n",
       "      <td>young</td>\n",
       "      <td>female</td>\n",
       "      <td>90.000000</td>\n",
       "    </tr>\n",
       "    <tr>\n",
       "      <th>7</th>\n",
       "      <td>2</td>\n",
       "      <td>young</td>\n",
       "      <td>male</td>\n",
       "      <td>20.000000</td>\n",
       "    </tr>\n",
       "    <tr>\n",
       "      <th>8</th>\n",
       "      <td>3</td>\n",
       "      <td>old</td>\n",
       "      <td>female</td>\n",
       "      <td>34.782609</td>\n",
       "    </tr>\n",
       "    <tr>\n",
       "      <th>9</th>\n",
       "      <td>3</td>\n",
       "      <td>old</td>\n",
       "      <td>male</td>\n",
       "      <td>13.043478</td>\n",
       "    </tr>\n",
       "    <tr>\n",
       "      <th>10</th>\n",
       "      <td>3</td>\n",
       "      <td>young</td>\n",
       "      <td>female</td>\n",
       "      <td>51.456311</td>\n",
       "    </tr>\n",
       "    <tr>\n",
       "      <th>11</th>\n",
       "      <td>3</td>\n",
       "      <td>young</td>\n",
       "      <td>male</td>\n",
       "      <td>18.840580</td>\n",
       "    </tr>\n",
       "  </tbody>\n",
       "</table>\n",
       "</div>"
      ],
      "text/plain": [
       "   pclass age_category     sex   survived\n",
       "0       1          old  female  96.774194\n",
       "1       1          old    male  30.894309\n",
       "2       1        young  female  95.000000\n",
       "3       1        young    male  51.851852\n",
       "4       2          old  female  88.461538\n",
       "5       2          old    male   7.777778\n",
       "6       2        young  female  90.000000\n",
       "7       2        young    male  20.000000\n",
       "8       3          old  female  34.782609\n",
       "9       3          old    male  13.043478\n",
       "10      3        young  female  51.456311\n",
       "11      3        young    male  18.840580"
      ]
     },
     "execution_count": 344,
     "metadata": {},
     "output_type": "execute_result"
    }
   ],
   "source": [
    "survivor_by_travel_and_sex_and_age = passengers[['pclass','age_category','sex','survived']].groupby(['pclass','age_category','sex']).mean().reset_index()\n",
    "survivor_by_travel_and_sex_and_age['survived'] = survivor_by_travel_and_sex_and_age['survived']*100\n",
    "survivor_by_travel_and_sex_and_age"
   ]
  },
  {
   "cell_type": "code",
   "execution_count": 345,
   "metadata": {},
   "outputs": [
    {
     "data": {
      "image/png": "iVBORw0KGgoAAAANSUhEUgAAAnsAAAEYCAYAAAAkvDD+AAAABHNCSVQICAgIfAhkiAAAAAlwSFlz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\nSUVORK5CYII=\n",
      "text/plain": [
       "<matplotlib.figure.Figure at 0x1339ff5f8>"
      ]
     },
     "metadata": {},
     "output_type": "display_data"
    }
   ],
   "source": [
    "sns.factorplot(x=\"pclass\", y=\"survived\", hue=\"sex\",col=\"age_category\",kind='bar', data=survivor_by_travel_and_sex_and_age);"
   ]
  }
 ],
 "metadata": {
  "kernelspec": {
   "display_name": "Python [default]",
   "language": "python",
   "name": "python3"
  },
  "language_info": {
   "codemirror_mode": {
    "name": "ipython",
    "version": 3
   },
   "file_extension": ".py",
   "mimetype": "text/x-python",
   "name": "python",
   "nbconvert_exporter": "python",
   "pygments_lexer": "ipython3",
   "version": "3.5.4"
  }
 },
 "nbformat": 4,
 "nbformat_minor": 2
}
