{
 "cells": [
  {
   "cell_type": "markdown",
   "metadata": {},
   "source": [
    "# Table of Contents\n",
    " <p><div class=\"lev1\"><a href=\"#Task-1.-Compiling-Ebola-Data\"><span class=\"toc-item-num\">Task 1.&nbsp;&nbsp;</span>Compiling Ebola Data</a></div>\n",
    " <div class=\"lev1\"><a href=\"#Task-2.-RNA-Sequences\"><span class=\"toc-item-num\">Task 2.&nbsp;&nbsp;</span>RNA Sequences</a></div>\n",
    " <div class=\"lev1\"><a href=\"#Task-3.-Class-War-in-Titanic\"><span class=\"toc-item-num\">Task 3.&nbsp;&nbsp;</span>Class War in Titanic</a></div></p>"
   ]
  },
  {
   "cell_type": "code",
   "execution_count": 1,
   "metadata": {
    "collapsed": true
   },
   "outputs": [],
   "source": [
    "#DATA_FOLDER = '../../02 - Intro to Pandas/Data' # Use the data folder provided in Tutorial 02 - Intro to Pandas.\n",
    "DATA_FOLDER = '../../ADA2017-Tutorials/02 - Intro to Pandas/Data' # Use the data folder provided in Tutorial 02 - Intro to Pandas."
   ]
  },
  {
   "cell_type": "code",
   "execution_count": 2,
   "metadata": {},
   "outputs": [
    {
     "name": "stderr",
     "output_type": "stream",
     "text": [
      "/Users/thibautchamard/anaconda/lib/python3.6/site-packages/numexpr/cpuinfo.py:76: UserWarning: [Errno 2] No such file or directory: 'sysctl'\n",
      "  stacklevel=stacklevel + 1):\n"
     ]
    }
   ],
   "source": [
    "#all imports\n",
    "import seaborn as sns\n",
    "import pandas as pd\n",
    "import os\n",
    "import glob\n",
    "import numpy as np\n",
    "import re\n",
    "import matplotlib.pyplot as plt\n",
    "pd.options.mode.chained_assignment = None  #"
   ]
  },
  {
   "cell_type": "markdown",
   "metadata": {},
   "source": [
    "## Task 1. Compiling Ebola Data\n",
    "\n",
    "The `DATA_FOLDER/ebola` folder contains summarized reports of Ebola cases from three countries (Guinea, Liberia and Sierra Leone) during the recent outbreak of the disease in West Africa. For each country, there are daily reports that contain various information about the outbreak in several cities in each country.\n",
    "\n",
    "Use pandas to import these data files into a single `Dataframe`.\n",
    "Using this `DataFrame`, calculate for *each country*, the *daily average per month* of *new cases* and *deaths*.\n",
    "Make sure you handle all the different expressions for *new cases* and *deaths* that are used in the reports."
   ]
  },
  {
   "cell_type": "markdown",
   "metadata": {},
   "source": [
    "\n",
    "## Find the number of new deaths :\n",
    "\n",
    "\n",
    "Each `csv` is red and transformed in dataframe called `df`.\n",
    "\n",
    "To obtain the number of new deaths reported in this dataframe, we created a function `find_new_death` which takes as \n",
    "\n",
    "`Input`:\n",
    "\n",
    " - `df` the dataframe \n",
    " \n",
    " - `list_` the list of the previous dataframe\n",
    " \n",
    " - `country` the country name of the corresponding dataframe\n",
    " \n",
    "`Output`:\n",
    "\n",
    " - `df` the dataframe after some transformations\n",
    " \n",
    " - `new_death` the number of new deaths\n",
    " \n",
    "<br/>\n",
    " \n",
    " \n",
    "As for each country the data were reported under different name, we find the number a new deaths in a different way dependending on the country name:\n",
    " \n",
    "- ### Liberia ( `liberia` ):\n",
    "\n",
    " We took the number of new deaths as the `Totals` *value* of the `Variable` *Newly reported deaths*.  And we took care that this number was an `int`.\n",
    " \n",
    "- ### Guinea ( `guinea` ):\n",
    "\n",
    " We took the number of new deaths as the `Totals` value of the `Variable` *New deaths registered*.  And we took care that this number was an `int`.\n",
    "\n",
    " As sometimes the `Variable` name was *New deaths registered today* and not *New deaths registered*. We first renamed the `Variable` name in the same way: *New deaths registered*\n",
    " \n",
    "- ### Sierra Leone ( `sl` ):\n",
    "\n",
    " We took the number of new deaths as the sum of the `Totals` value of the `Variable` *death_suspected*, *death_probable*, *death_confirmed*.  And we took care that this number was an `int`.\n",
    " \n",
    " As for this country it was a cumulative number, we substracted the previous cumulative value of new deaths, (obtained from the the previous data frame saved in `list_` :  `list_[-1]`). For the first dataframe of Sierra Leone we choose to set the value of new death to 24, corresponding to the average value of August 2014. In this way it has no impact in the computation of the daily average per month. \n",
    " \n",
    " For the files with `NaN` value of new deaths the function return `new_death`= `NaN` \n",
    " \n",
    " \n",
    " "
   ]
  },
  {
   "cell_type": "code",
   "execution_count": 3,
   "metadata": {
    "collapsed": true
   },
   "outputs": [],
   "source": [
    "def find_new_death(df,list_, country):\n",
    "    if country=='liberia':\n",
    " \n",
    "        #NEW DEATH \n",
    "        new_death=int(df.loc[df['Variable'] == 'Newly reported deaths']['Totals'].values[0])\n",
    "            \n",
    "            \n",
    "    elif country=='guinea':\n",
    "        \n",
    "        df['Variable']=df['Variable'].replace(['New deaths registered today'], 'New deaths registered')\n",
    "            \n",
    "        #NEW DEATH\n",
    "        new_death=int(df.loc[df['Variable'] == 'New deaths registered']['Totals'].values[0])\n",
    "            \n",
    "            \n",
    "    elif country=='sl':\n",
    "           \n",
    "        #NEW DEATH\n",
    "        new_death=int((df.loc[df['Variable'] == 'death_suspected']['Totals'].values)[0])+int((df.loc[df['Variable'] == 'death_probable']['Totals'].values)[0])+int((df.loc[df['Variable'] == 'death_confirmed']['Totals'].values)[0])\n",
    "            \n",
    "            \n",
    "        if new_death!=0:\n",
    "\n",
    "            if list_==[]:\n",
    "\n",
    "                new_death==24  # average of August 2014 \n",
    "                    \n",
    "            else:\n",
    "\n",
    "                old_df=list_[-1]  # olf_dataframe\n",
    "                previous_death= int((old_df.loc[old_df['Variable'] == 'death_suspected']['Totals'].values)[0])+int((old_df.loc[old_df['Variable'] == 'death_probable']['Totals'].values)[0])+int((old_df.loc[old_df['Variable'] == 'death_confirmed']['Totals'].values)[0])\n",
    "            \n",
    "                new_death-=previous_death \n",
    "                    \n",
    "        else:\n",
    "            new_death=None\n",
    "    \n",
    "    \n",
    "    return df,new_death\n",
    "\n"
   ]
  },
  {
   "cell_type": "markdown",
   "metadata": {},
   "source": [
    "## Find the number of new cases :\n",
    "\n",
    "\n",
    "Each `csv` is red and transformed in dataframe called `df`.\n",
    "\n",
    "As for the number of new deaths, to obtain the number of new deaths reported in this dataframe, we created a function `find_new_death` which take as \n",
    "\n",
    "`Input`:\n",
    "\n",
    " - `df` the dataframe \n",
    " \n",
    " - `list_` the list of the previous dataframe\n",
    " \n",
    " - `country` the country name of the corresponding dataframe\n",
    " \n",
    "`Output`:\n",
    "\n",
    " - `df` the dataframe after some transformations\n",
    " \n",
    " - `new_cases` the number of new cases\n",
    " \n",
    "<br/>\n",
    " \n",
    " \n",
    "As for the number of new deaths, we found the number of new deaths in a differerent way for each country:\n",
    " \n",
    "- ### Liberia ( `liberia` ):\n",
    "\n",
    " We took the number of new cases as the sum of the `Totals` value of the `Variable` *New Case/s (Suspected)*, *New Case/s (Probable)*, *'New case/s (confirmed)*. And we took care that this number was an `int`.\n",
    " \n",
    " We noticed that for some file we had as `Totals` value of the `Variable` *New Case/s (Suspected)* the cumulative value corresponding to the `Variable` *Total suspected cases*. So when the `Totals` value of the `Variable` *New Case/s (Suspected)* was greater than 1000 (really unlikely compared to the others data) we set this value to the `Variable` *Total suspected cases*. And we set the ` Totals` value of the `Variable` *New Case/s (Suspected)* to 0. \n",
    " \n",
    " Then when `Totals` value of the `Variable` *New Case/s (Suspected)* was equal to 0, we recalculated this value as the difference between the  `Totals` value of the  `Variable` *Total suspected cases* of this dataframe and the one of the previous dataframe ( `previous_df =list_[-1]` ). In this way we obtained the correct value of *New Case/s (Suspected)*  for the dataframe for which we set it to 0 (when *New Case/s (Suspected)* was greater than 1000) but also for the dataframe where this value was missing.\n",
    " \n",
    " We did the same for *New Case/s (Probable)* and *New case/s (confirmed)*\n",
    " \n",
    "\n",
    "- ### Guinea ( `guinea` ):\n",
    "\n",
    " We took the number of new cases as the sum of the `Totals` value of the `Variable` *New cases of suspects*, *New cases of probables*, *New cases of confirmed*.  And we took care that this number was an `int`.\n",
    "\n",
    "\n",
    "- ### Sierra Leone ( `sl` ):\n",
    "\n",
    " We took the number of new deaths as the sum of the `Totals` value of the `Variable` *new_suspected'*, *new_probable*, *new_confirmed*.  And we took care that this number was an `int`.\n",
    "\n"
   ]
  },
  {
   "cell_type": "code",
   "execution_count": 4,
   "metadata": {
    "collapsed": true
   },
   "outputs": [],
   "source": [
    "def find_new_cases(df,list_, country):\n",
    "\n",
    "    \n",
    "    if country=='liberia':\n",
    "            \n",
    "        #NEW CASES\n",
    "        \n",
    "        # if New Case/s (Suspected) >1000 -> reset those Value to 'Total suspected cases'\n",
    "        # we aplly this also to probable and confirmed case\n",
    "        if int((df.loc[df['Variable'] == 'New Case/s (Suspected)']['Totals'].values)[0])>1000:\n",
    "                \n",
    "            ns= int((df.loc[df['Variable'] == 'New Case/s (Suspected)']['Totals'].values)[0])\n",
    "            df.Totals[df.index[df['Variable'] == 'Total suspected cases'][0]]=ns\n",
    "            df.Totals[df.index[df['Variable'] == 'New Case/s (Suspected)'][0]]=0\n",
    "                \n",
    "            np= int((df.loc[df['Variable'] == 'New Case/s (Probable)']['Totals'].values)[0])\n",
    "            df.Totals[df.index[df['Variable'] == 'Total probable cases'][0]]=np\n",
    "            df.Totals[df.index[df['Variable'] == 'New Case/s (Probable)'][0]]=0\n",
    "                \n",
    "            nc= int((df.loc[df['Variable'] == 'New case/s (confirmed)']['Totals'].values)[0])\n",
    "            df.Totals[df.index[df['Variable'] == 'Total confirmed cases'][0]]=nc\n",
    "            df.Totals[df.index[df['Variable'] == 'New case/s (confirmed)'][0]]=0\n",
    "             \n",
    "        if int((df.loc[df['Variable'] == 'New Case/s (Suspected)']['Totals'].values)[0])==0:\n",
    "            old_df=list_[-1]\n",
    "                \n",
    "            ts= int((df.loc[df['Variable'] == 'Total suspected cases']['Totals'].values)[0])\n",
    "            old_ts= int((old_df.loc[old_df['Variable'] == 'Total suspected cases']['Totals'].values)[0])\n",
    "            df.Totals[df.index[df['Variable'] == 'New Case/s (Suspected)'][0]]=ts-old_ts\n",
    "    \n",
    "                \n",
    "            tp= int((df.loc[df['Variable'] == 'Total probable cases']['Totals'].values)[0])\n",
    "            old_tp= int((old_df.loc[old_df['Variable'] == 'Total probable cases']['Totals'].values)[0])\n",
    "            df.Totals[df.index[df['Variable'] == 'New Case/s (Probable)'][0]]=tp-old_tp\n",
    "                \n",
    "            tc= int((df.loc[df['Variable'] == 'Total confirmed cases']['Totals'].values)[0])\n",
    "            old_tc= int((old_df.loc[old_df['Variable'] == 'Total confirmed cases']['Totals'].values)[0])\n",
    "            df.Totals[df.index[df['Variable'] == 'New case/s (confirmed)'][0]]=tc-old_tc\n",
    "                \n",
    "                \n",
    "            \n",
    "        new_cases=int((df.loc[df['Variable'] == 'New Case/s (Suspected)']['Totals'].values)[0])+int((df.loc[df['Variable'] == 'New Case/s (Probable)']['Totals'].values)[0])+int((df.loc[df['Variable'] == 'New case/s (confirmed)']['Totals'].values)[0])\n",
    "            \n",
    "            \n",
    "\n",
    "    elif country=='guinea':\n",
    "     \n",
    "        \n",
    "        #NEW CASES\n",
    "        new_cases= int(df.loc[df['Variable'] == 'New cases of suspects']['Totals'].values[0])+int(df.loc[df['Variable'] == 'New cases of probables']['Totals'].values[0])+int(df.loc[df['Variable'] == 'New cases of confirmed']['Totals'].values[0])\n",
    "            \n",
    "            \n",
    "           \n",
    "    elif country=='sl':\n",
    "   \n",
    "        #NEW CASES\n",
    "        new_cases=int((df.loc[df['Variable'] == 'new_suspected']['Totals'].values)[0])+int((df.loc[df['Variable'] == 'new_probable']['Totals'].values)[0])+int((df.loc[df['Variable'] == 'new_confirmed']['Totals'].values)[0])\n",
    "        \n",
    "\n",
    "    \n",
    "    \n",
    "    return df,new_cases"
   ]
  },
  {
   "cell_type": "markdown",
   "metadata": {},
   "source": [
    "## Create a new DataFrame\n",
    "\n",
    "path to the folder ebola:"
   ]
  },
  {
   "cell_type": "code",
   "execution_count": 5,
   "metadata": {
    "collapsed": true
   },
   "outputs": [],
   "source": [
    "path=DATA_FOLDER+'/ebola/'"
   ]
  },
  {
   "cell_type": "markdown",
   "metadata": {},
   "source": [
    "Read the name of the different folder, and keep those whose ending with data, in a `list` called *country_dir*:"
   ]
  },
  {
   "cell_type": "code",
   "execution_count": 6,
   "metadata": {
    "collapsed": true
   },
   "outputs": [],
   "source": [
    "#read the name of different folder, and keep those whose end with data\n",
    "list_dir=np.copy(os.listdir(path))\n",
    "country_dir=list_dir[[name.endswith('data') for name in list_dir]]"
   ]
  },
  {
   "cell_type": "markdown",
   "metadata": {},
   "source": [
    "For each country folder, all the `cvs` files names are read using `glob`, and the corresponding path is saved in `cvsFiles`. Then each `cvs` is red and transformed in a dataframe `df` . We renamed the columns index in the same way : `Variable` (and not `Description` etc...), `Date`, `Totals` ...\n",
    "\n",
    "Then we computed the number of `new_cases` and `new_death` using the function `find_new_cases` and  `find_new_death`. and if those number were not `NaN` then we created a new dataframe `df_cleaned`, which has for attribute `Date`,`Month`, `newdeaths`, `newdeaths`.\n",
    "\n",
    "For each country all those new datframes are concatenate in a `country frame`,the daily average per month is computed using the function `DataFrameresample('M').mean()`, and the name of the country is added as an attribute of `country frame`\n",
    "\n",
    "Finally all the country frame are concatenated to obtain the `country frame`."
   ]
  },
  {
   "cell_type": "code",
   "execution_count": 7,
   "metadata": {
    "collapsed": true
   },
   "outputs": [],
   "source": [
    "\n",
    "#list to store the data-frame of each coutry\n",
    "final_list=[]\n",
    "\n",
    "for country_name in country_dir:\n",
    "    \n",
    "    #country is the name of the folder without data\n",
    "    country=country_name.replace('_data', '')\n",
    "   \n",
    "    csvFiles = glob.glob( path+country_name+'/' \"/*.csv\")\n",
    "    \n",
    "    \n",
    "    list_ = []  #list cointaining each dataframe of a folder\n",
    "    list_cleaned=[]   #list cointaining each new dataframe of a folder\n",
    "\n",
    "    for files in csvFiles:\n",
    "        \n",
    "        df = pd.read_csv(files)\n",
    "\n",
    "        #to have the same columns name\n",
    "        df=df.rename(index=str, columns={\"Description\": \"Variable\", \n",
    "                                         \"date\": \"Date\",\n",
    "                                         \"variable\": \"Variable\", \n",
    "                                         \"National\":\"Totals\"})  \n",
    "        \n",
    "        df=df.fillna(0)\n",
    "        \n",
    "        df,new_death=find_new_death(df,list_, country)\n",
    "    \n",
    "        df,new_cases=find_new_cases(df,list_, country)\n",
    "           \n",
    "\n",
    "        if (new_death!=None and new_cases!=None):\n",
    "            #Create a new DataFrame\n",
    "            df_cleaned=pd.DataFrame({\n",
    "                    'Date':pd.to_datetime([df.Date[0]]),\n",
    "                    'Month': pd.to_datetime([df.Date[0]]).month,\n",
    "                    'newdeaths': new_death, \n",
    "                    'newcases': new_cases })\n",
    "            \n",
    "        \n",
    "            list_.append(df)\n",
    "            list_cleaned.append(df_cleaned)\n",
    "            \n",
    "    \n",
    "    #create country_frame\n",
    "    country_frame= pd.concat(list_cleaned)\n",
    "    \n",
    "    #Compute the daily average per month\n",
    "    country_frame=country_frame.set_index(['Date'])\n",
    "    country_frame.index = pd.to_datetime(country_frame.index)\n",
    "    country_frame=country_frame.resample('M').mean()\n",
    "    \n",
    "    #country name as an attribute\n",
    "    country_frame['Country']=country\n",
    "    #country_frame.reset_index()\n",
    "    \n",
    "    final_list.append(country_frame)\n",
    "\n",
    "\n",
    "#Create the final data frame\n",
    "finalframe=pd.concat(final_list)\n",
    "\n",
    "finalframe=finalframe.reset_index()\n",
    "finalframe.drop('Date', axis=1, inplace=True)"
   ]
  },
  {
   "cell_type": "markdown",
   "metadata": {},
   "source": [
    "### for *each country*, the *daily average per month* of *new cases* and *deaths*: "
   ]
  },
  {
   "cell_type": "code",
   "execution_count": 8,
   "metadata": {},
   "outputs": [
    {
     "data": {
      "text/html": [
       "<div>\n",
       "<style>\n",
       "    .dataframe thead tr:only-child th {\n",
       "        text-align: right;\n",
       "    }\n",
       "\n",
       "    .dataframe thead th {\n",
       "        text-align: left;\n",
       "    }\n",
       "\n",
       "    .dataframe tbody tr th {\n",
       "        vertical-align: top;\n",
       "    }\n",
       "</style>\n",
       "<table border=\"1\" class=\"dataframe\">\n",
       "  <thead>\n",
       "    <tr style=\"text-align: right;\">\n",
       "      <th></th>\n",
       "      <th></th>\n",
       "      <th>newcases</th>\n",
       "      <th>newdeaths</th>\n",
       "    </tr>\n",
       "    <tr>\n",
       "      <th>Country</th>\n",
       "      <th>Month</th>\n",
       "      <th></th>\n",
       "      <th></th>\n",
       "    </tr>\n",
       "  </thead>\n",
       "  <tbody>\n",
       "    <tr>\n",
       "      <th rowspan=\"3\" valign=\"top\">guinea</th>\n",
       "      <th>8.0</th>\n",
       "      <td>25.800000</td>\n",
       "      <td>3.400000</td>\n",
       "    </tr>\n",
       "    <tr>\n",
       "      <th>9.0</th>\n",
       "      <td>19.625000</td>\n",
       "      <td>3.562500</td>\n",
       "    </tr>\n",
       "    <tr>\n",
       "      <th>10.0</th>\n",
       "      <td>34.000000</td>\n",
       "      <td>15.000000</td>\n",
       "    </tr>\n",
       "    <tr>\n",
       "      <th rowspan=\"7\" valign=\"top\">liberia</th>\n",
       "      <th>6.0</th>\n",
       "      <td>5.714286</td>\n",
       "      <td>2.000000</td>\n",
       "    </tr>\n",
       "    <tr>\n",
       "      <th>7.0</th>\n",
       "      <td>11.909091</td>\n",
       "      <td>4.272727</td>\n",
       "    </tr>\n",
       "    <tr>\n",
       "      <th>8.0</th>\n",
       "      <td>37.222222</td>\n",
       "      <td>23.222222</td>\n",
       "    </tr>\n",
       "    <tr>\n",
       "      <th>9.0</th>\n",
       "      <td>63.833333</td>\n",
       "      <td>36.041667</td>\n",
       "    </tr>\n",
       "    <tr>\n",
       "      <th>10.0</th>\n",
       "      <td>45.560000</td>\n",
       "      <td>28.040000</td>\n",
       "    </tr>\n",
       "    <tr>\n",
       "      <th>11.0</th>\n",
       "      <td>49.333333</td>\n",
       "      <td>13.466667</td>\n",
       "    </tr>\n",
       "    <tr>\n",
       "      <th>12.0</th>\n",
       "      <td>19.888889</td>\n",
       "      <td>0.000000</td>\n",
       "    </tr>\n",
       "    <tr>\n",
       "      <th rowspan=\"5\" valign=\"top\">sl</th>\n",
       "      <th>8.0</th>\n",
       "      <td>27.944444</td>\n",
       "      <td>24.166667</td>\n",
       "    </tr>\n",
       "    <tr>\n",
       "      <th>9.0</th>\n",
       "      <td>43.703704</td>\n",
       "      <td>6.037037</td>\n",
       "    </tr>\n",
       "    <tr>\n",
       "      <th>10.0</th>\n",
       "      <td>70.928571</td>\n",
       "      <td>29.892857</td>\n",
       "    </tr>\n",
       "    <tr>\n",
       "      <th>11.0</th>\n",
       "      <td>83.157895</td>\n",
       "      <td>22.473684</td>\n",
       "    </tr>\n",
       "    <tr>\n",
       "      <th>12.0</th>\n",
       "      <td>51.250000</td>\n",
       "      <td>53.000000</td>\n",
       "    </tr>\n",
       "  </tbody>\n",
       "</table>\n",
       "</div>"
      ],
      "text/plain": [
       "                newcases  newdeaths\n",
       "Country Month                      \n",
       "guinea  8.0    25.800000   3.400000\n",
       "        9.0    19.625000   3.562500\n",
       "        10.0   34.000000  15.000000\n",
       "liberia 6.0     5.714286   2.000000\n",
       "        7.0    11.909091   4.272727\n",
       "        8.0    37.222222  23.222222\n",
       "        9.0    63.833333  36.041667\n",
       "        10.0   45.560000  28.040000\n",
       "        11.0   49.333333  13.466667\n",
       "        12.0   19.888889   0.000000\n",
       "sl      8.0    27.944444  24.166667\n",
       "        9.0    43.703704   6.037037\n",
       "        10.0   70.928571  29.892857\n",
       "        11.0   83.157895  22.473684\n",
       "        12.0   51.250000  53.000000"
      ]
     },
     "execution_count": 8,
     "metadata": {},
     "output_type": "execute_result"
    }
   ],
   "source": [
    "\n",
    "finalframe.set_index(['Country','Month'])\n"
   ]
  },
  {
   "cell_type": "markdown",
   "metadata": {},
   "source": [
    "\n",
    "### Plot of the *daily average per month* of *new cases* and *deaths*"
   ]
  },
  {
   "cell_type": "code",
   "execution_count": 9,
   "metadata": {},
   "outputs": [
    {
     "data": {
      "image/png": "[encoded data removed]",
      "text/plain": [
       "<matplotlib.figure.Figure at 0x11ae64f28>"
      ]
     },
     "metadata": {},
     "output_type": "display_data"
    },
    {
     "data": {
      "image/png": "[encoded data removed]",
      "text/plain": [
       "<matplotlib.figure.Figure at 0x11e216c88>"
      ]
     },
     "metadata": {},
     "output_type": "display_data"
    }
   ],
   "source": [
    "finalframe.Country  = finalframe.Country.astype('category')\n",
    "groups = finalframe.groupby('Country')\n",
    "\n",
    "fig, ax1 = plt.subplots()\n",
    "ax1.margins(0.05)\n",
    "for name, group in groups:\n",
    "    ax1.plot(group.Month, group['newcases'], marker='o', linestyle='--', ms=8, label=name)\n",
    "ax1.legend()\n",
    "plt.xticks([6,7,8,9,10,11,12],\n",
    "        ['June','July','Aug','Sept','Oct','Nov','Dec'])\n",
    "\n",
    "ax1.set_title( 'Daily average per month of new cases for each country', fontsize=15, fontweight='bold')\n",
    "\n",
    "\n",
    "fig, ax2 = plt.subplots()\n",
    "ax2.set_title( 'Daily average per month of new deaths for each country', fontsize=15, fontweight='bold')\n",
    "ax2.margins(0.05)\n",
    "for name, group in groups:\n",
    "    ax2.plot(group.Month, group['newdeaths'], marker='o', linestyle='--', ms=8, label=name)\n",
    "ax2.legend()\n",
    "plt.xticks([6,7,8,9,10,11,12],\n",
    "        ['June','July','Aug','Sept','Oct','Nov','Dec'])\n",
    "\n",
    "\n",
    "plt.show()"
   ]
  },
  {
   "cell_type": "markdown",
   "metadata": {},
   "source": [
    "## Task 2. RNA Sequences\n",
    "\n",
    "In the `DATA_FOLDER/microbiome` subdirectory, there are 9 spreadsheets of microbiome data that was acquired from high-throughput RNA sequencing procedures, along with a 10<sup>th</sup> file that describes the content of each. \n",
    "\n",
    "Use pandas to import the first 9 spreadsheets into a single `DataFrame`.\n",
    "Then, add the metadata information from the 10<sup>th</sup> spreadsheet as columns in the combined `DataFrame`.\n",
    "Make sure that the final `DataFrame` has a unique index and all the `NaN` values have been replaced by the tag `unknown`."
   ]
  },
  {
   "cell_type": "code",
   "execution_count": null,
   "metadata": {
    "collapsed": true
   },
   "outputs": [],
   "source": []
  },
  {
   "cell_type": "code",
   "execution_count": 10,
   "metadata": {
    "collapsed": true
   },
   "outputs": [],
   "source": [
    "def merge_xls_files(regex):\n",
    "    all_data = pd.DataFrame()\n",
    "    list_ = glob.glob(regex)\n",
    "    for f in list_:\n",
    "        df = pd.read_excel(f,names = [\"MICROBIOME\", \"DATA\"])\n",
    "        # added the origin. It will be usefull to add the metadata from the 10th spreadshee\n",
    "        df['BARCODE']=re.search('MID[1-9]', f).group()\n",
    "        all_data = all_data.append(df)\n",
    "    return all_data"
   ]
  },
  {
   "cell_type": "markdown",
   "metadata": {},
   "source": [
    "We import the 9 MID files"
   ]
  },
  {
   "cell_type": "code",
   "execution_count": 11,
   "metadata": {},
   "outputs": [
    {
     "data": {
      "text/html": [
       "<div>\n",
       "<style>\n",
       "    .dataframe thead tr:only-child th {\n",
       "        text-align: right;\n",
       "    }\n",
       "\n",
       "    .dataframe thead th {\n",
       "        text-align: left;\n",
       "    }\n",
       "\n",
       "    .dataframe tbody tr th {\n",
       "        vertical-align: top;\n",
       "    }\n",
       "</style>\n",
       "<table border=\"1\" class=\"dataframe\">\n",
       "  <thead>\n",
       "    <tr style=\"text-align: right;\">\n",
       "      <th></th>\n",
       "      <th>MICROBIOME</th>\n",
       "      <th>DATA</th>\n",
       "      <th>BARCODE</th>\n",
       "    </tr>\n",
       "  </thead>\n",
       "  <tbody>\n",
       "    <tr>\n",
       "      <th>0</th>\n",
       "      <td>Archaea \"Crenarchaeota\" Thermoprotei Desulfuro...</td>\n",
       "      <td>2</td>\n",
       "      <td>MID1</td>\n",
       "    </tr>\n",
       "    <tr>\n",
       "      <th>1</th>\n",
       "      <td>Archaea \"Crenarchaeota\" Thermoprotei Sulfoloba...</td>\n",
       "      <td>3</td>\n",
       "      <td>MID1</td>\n",
       "    </tr>\n",
       "    <tr>\n",
       "      <th>2</th>\n",
       "      <td>Archaea \"Crenarchaeota\" Thermoprotei Thermopro...</td>\n",
       "      <td>3</td>\n",
       "      <td>MID1</td>\n",
       "    </tr>\n",
       "    <tr>\n",
       "      <th>3</th>\n",
       "      <td>Archaea \"Euryarchaeota\" \"Methanomicrobia\" Meth...</td>\n",
       "      <td>7</td>\n",
       "      <td>MID1</td>\n",
       "    </tr>\n",
       "    <tr>\n",
       "      <th>4</th>\n",
       "      <td>Archaea \"Euryarchaeota\" \"Methanomicrobia\" Meth...</td>\n",
       "      <td>1</td>\n",
       "      <td>MID1</td>\n",
       "    </tr>\n",
       "    <tr>\n",
       "      <th>5</th>\n",
       "      <td>Archaea \"Euryarchaeota\" \"Methanomicrobia\" Meth...</td>\n",
       "      <td>1</td>\n",
       "      <td>MID1</td>\n",
       "    </tr>\n",
       "    <tr>\n",
       "      <th>6</th>\n",
       "      <td>Archaea \"Euryarchaeota\" Archaeoglobi Archaeogl...</td>\n",
       "      <td>1</td>\n",
       "      <td>MID1</td>\n",
       "    </tr>\n",
       "    <tr>\n",
       "      <th>7</th>\n",
       "      <td>Archaea \"Euryarchaeota\" Archaeoglobi Archaeogl...</td>\n",
       "      <td>1</td>\n",
       "      <td>MID1</td>\n",
       "    </tr>\n",
       "    <tr>\n",
       "      <th>8</th>\n",
       "      <td>Archaea \"Euryarchaeota\" Halobacteria Halobacte...</td>\n",
       "      <td>1</td>\n",
       "      <td>MID1</td>\n",
       "    </tr>\n",
       "    <tr>\n",
       "      <th>9</th>\n",
       "      <td>Archaea \"Euryarchaeota\" Halobacteria Halobacte...</td>\n",
       "      <td>4</td>\n",
       "      <td>MID1</td>\n",
       "    </tr>\n",
       "  </tbody>\n",
       "</table>\n",
       "</div>"
      ],
      "text/plain": [
       "                                          MICROBIOME  DATA BARCODE\n",
       "0  Archaea \"Crenarchaeota\" Thermoprotei Desulfuro...     2    MID1\n",
       "1  Archaea \"Crenarchaeota\" Thermoprotei Sulfoloba...     3    MID1\n",
       "2  Archaea \"Crenarchaeota\" Thermoprotei Thermopro...     3    MID1\n",
       "3  Archaea \"Euryarchaeota\" \"Methanomicrobia\" Meth...     7    MID1\n",
       "4  Archaea \"Euryarchaeota\" \"Methanomicrobia\" Meth...     1    MID1\n",
       "5  Archaea \"Euryarchaeota\" \"Methanomicrobia\" Meth...     1    MID1\n",
       "6  Archaea \"Euryarchaeota\" Archaeoglobi Archaeogl...     1    MID1\n",
       "7  Archaea \"Euryarchaeota\" Archaeoglobi Archaeogl...     1    MID1\n",
       "8  Archaea \"Euryarchaeota\" Halobacteria Halobacte...     1    MID1\n",
       "9  Archaea \"Euryarchaeota\" Halobacteria Halobacte...     4    MID1"
      ]
     },
     "execution_count": 11,
     "metadata": {},
     "output_type": "execute_result"
    }
   ],
   "source": [
    "mid = merge_xls_files(DATA_FOLDER+'/microbiome/MID*.xls')\n",
    "mid.head(10)"
   ]
  },
  {
   "cell_type": "markdown",
   "metadata": {},
   "source": [
    "We import the metadata and fill the NaN values with unknown"
   ]
  },
  {
   "cell_type": "code",
   "execution_count": 12,
   "metadata": {},
   "outputs": [
    {
     "data": {
      "text/html": [
       "<div>\n",
       "<style>\n",
       "    .dataframe thead tr:only-child th {\n",
       "        text-align: right;\n",
       "    }\n",
       "\n",
       "    .dataframe thead th {\n",
       "        text-align: left;\n",
       "    }\n",
       "\n",
       "    .dataframe tbody tr th {\n",
       "        vertical-align: top;\n",
       "    }\n",
       "</style>\n",
       "<table border=\"1\" class=\"dataframe\">\n",
       "  <thead>\n",
       "    <tr style=\"text-align: right;\">\n",
       "      <th></th>\n",
       "      <th>BARCODE</th>\n",
       "      <th>GROUP</th>\n",
       "      <th>SAMPLE</th>\n",
       "    </tr>\n",
       "  </thead>\n",
       "  <tbody>\n",
       "    <tr>\n",
       "      <th>0</th>\n",
       "      <td>MID1</td>\n",
       "      <td>EXTRACTION CONTROL</td>\n",
       "      <td>unknown</td>\n",
       "    </tr>\n",
       "    <tr>\n",
       "      <th>1</th>\n",
       "      <td>MID2</td>\n",
       "      <td>NEC 1</td>\n",
       "      <td>tissue</td>\n",
       "    </tr>\n",
       "    <tr>\n",
       "      <th>2</th>\n",
       "      <td>MID3</td>\n",
       "      <td>Control 1</td>\n",
       "      <td>tissue</td>\n",
       "    </tr>\n",
       "    <tr>\n",
       "      <th>3</th>\n",
       "      <td>MID4</td>\n",
       "      <td>NEC 2</td>\n",
       "      <td>tissue</td>\n",
       "    </tr>\n",
       "    <tr>\n",
       "      <th>4</th>\n",
       "      <td>MID5</td>\n",
       "      <td>Control 2</td>\n",
       "      <td>tissue</td>\n",
       "    </tr>\n",
       "    <tr>\n",
       "      <th>5</th>\n",
       "      <td>MID6</td>\n",
       "      <td>NEC 1</td>\n",
       "      <td>stool</td>\n",
       "    </tr>\n",
       "    <tr>\n",
       "      <th>6</th>\n",
       "      <td>MID7</td>\n",
       "      <td>Control 1</td>\n",
       "      <td>stool</td>\n",
       "    </tr>\n",
       "    <tr>\n",
       "      <th>7</th>\n",
       "      <td>MID8</td>\n",
       "      <td>NEC 2</td>\n",
       "      <td>stool</td>\n",
       "    </tr>\n",
       "    <tr>\n",
       "      <th>8</th>\n",
       "      <td>MID9</td>\n",
       "      <td>Control 2</td>\n",
       "      <td>stool</td>\n",
       "    </tr>\n",
       "  </tbody>\n",
       "</table>\n",
       "</div>"
      ],
      "text/plain": [
       "  BARCODE               GROUP   SAMPLE\n",
       "0    MID1  EXTRACTION CONTROL  unknown\n",
       "1    MID2               NEC 1   tissue\n",
       "2    MID3           Control 1   tissue\n",
       "3    MID4               NEC 2   tissue\n",
       "4    MID5           Control 2   tissue\n",
       "5    MID6               NEC 1    stool\n",
       "6    MID7           Control 1    stool\n",
       "7    MID8               NEC 2    stool\n",
       "8    MID9           Control 2    stool"
      ]
     },
     "execution_count": 12,
     "metadata": {},
     "output_type": "execute_result"
    }
   ],
   "source": [
    "metadata = pd.read_excel(DATA_FOLDER+'/microbiome/metadata.xls')\n",
    "metadata = metadata.fillna('unknown')\n",
    "metadata.head(10)"
   ]
  },
  {
   "cell_type": "markdown",
   "metadata": {},
   "source": [
    "We merge the 2 datasets on the BARCODE"
   ]
  },
  {
   "cell_type": "code",
   "execution_count": 13,
   "metadata": {},
   "outputs": [
    {
     "data": {
      "text/html": [
       "<div>\n",
       "<style>\n",
       "    .dataframe thead tr:only-child th {\n",
       "        text-align: right;\n",
       "    }\n",
       "\n",
       "    .dataframe thead th {\n",
       "        text-align: left;\n",
       "    }\n",
       "\n",
       "    .dataframe tbody tr th {\n",
       "        vertical-align: top;\n",
       "    }\n",
       "</style>\n",
       "<table border=\"1\" class=\"dataframe\">\n",
       "  <thead>\n",
       "    <tr style=\"text-align: right;\">\n",
       "      <th></th>\n",
       "      <th>MICROBIOME</th>\n",
       "      <th>DATA</th>\n",
       "      <th>BARCODE</th>\n",
       "      <th>GROUP</th>\n",
       "      <th>SAMPLE</th>\n",
       "    </tr>\n",
       "  </thead>\n",
       "  <tbody>\n",
       "    <tr>\n",
       "      <th>0</th>\n",
       "      <td>Archaea \"Crenarchaeota\" Thermoprotei Desulfuro...</td>\n",
       "      <td>2</td>\n",
       "      <td>MID1</td>\n",
       "      <td>EXTRACTION CONTROL</td>\n",
       "      <td>unknown</td>\n",
       "    </tr>\n",
       "    <tr>\n",
       "      <th>1</th>\n",
       "      <td>Archaea \"Crenarchaeota\" Thermoprotei Sulfoloba...</td>\n",
       "      <td>3</td>\n",
       "      <td>MID1</td>\n",
       "      <td>EXTRACTION CONTROL</td>\n",
       "      <td>unknown</td>\n",
       "    </tr>\n",
       "    <tr>\n",
       "      <th>2</th>\n",
       "      <td>Archaea \"Crenarchaeota\" Thermoprotei Thermopro...</td>\n",
       "      <td>3</td>\n",
       "      <td>MID1</td>\n",
       "      <td>EXTRACTION CONTROL</td>\n",
       "      <td>unknown</td>\n",
       "    </tr>\n",
       "    <tr>\n",
       "      <th>3</th>\n",
       "      <td>Archaea \"Euryarchaeota\" \"Methanomicrobia\" Meth...</td>\n",
       "      <td>7</td>\n",
       "      <td>MID1</td>\n",
       "      <td>EXTRACTION CONTROL</td>\n",
       "      <td>unknown</td>\n",
       "    </tr>\n",
       "    <tr>\n",
       "      <th>4</th>\n",
       "      <td>Archaea \"Euryarchaeota\" \"Methanomicrobia\" Meth...</td>\n",
       "      <td>1</td>\n",
       "      <td>MID1</td>\n",
       "      <td>EXTRACTION CONTROL</td>\n",
       "      <td>unknown</td>\n",
       "    </tr>\n",
       "    <tr>\n",
       "      <th>5</th>\n",
       "      <td>Archaea \"Euryarchaeota\" \"Methanomicrobia\" Meth...</td>\n",
       "      <td>1</td>\n",
       "      <td>MID1</td>\n",
       "      <td>EXTRACTION CONTROL</td>\n",
       "      <td>unknown</td>\n",
       "    </tr>\n",
       "    <tr>\n",
       "      <th>6</th>\n",
       "      <td>Archaea \"Euryarchaeota\" Archaeoglobi Archaeogl...</td>\n",
       "      <td>1</td>\n",
       "      <td>MID1</td>\n",
       "      <td>EXTRACTION CONTROL</td>\n",
       "      <td>unknown</td>\n",
       "    </tr>\n",
       "    <tr>\n",
       "      <th>7</th>\n",
       "      <td>Archaea \"Euryarchaeota\" Archaeoglobi Archaeogl...</td>\n",
       "      <td>1</td>\n",
       "      <td>MID1</td>\n",
       "      <td>EXTRACTION CONTROL</td>\n",
       "      <td>unknown</td>\n",
       "    </tr>\n",
       "    <tr>\n",
       "      <th>8</th>\n",
       "      <td>Archaea \"Euryarchaeota\" Halobacteria Halobacte...</td>\n",
       "      <td>1</td>\n",
       "      <td>MID1</td>\n",
       "      <td>EXTRACTION CONTROL</td>\n",
       "      <td>unknown</td>\n",
       "    </tr>\n",
       "    <tr>\n",
       "      <th>9</th>\n",
       "      <td>Archaea \"Euryarchaeota\" Halobacteria Halobacte...</td>\n",
       "      <td>4</td>\n",
       "      <td>MID1</td>\n",
       "      <td>EXTRACTION CONTROL</td>\n",
       "      <td>unknown</td>\n",
       "    </tr>\n",
       "  </tbody>\n",
       "</table>\n",
       "</div>"
      ],
      "text/plain": [
       "                                          MICROBIOME  DATA BARCODE  \\\n",
       "0  Archaea \"Crenarchaeota\" Thermoprotei Desulfuro...     2    MID1   \n",
       "1  Archaea \"Crenarchaeota\" Thermoprotei Sulfoloba...     3    MID1   \n",
       "2  Archaea \"Crenarchaeota\" Thermoprotei Thermopro...     3    MID1   \n",
       "3  Archaea \"Euryarchaeota\" \"Methanomicrobia\" Meth...     7    MID1   \n",
       "4  Archaea \"Euryarchaeota\" \"Methanomicrobia\" Meth...     1    MID1   \n",
       "5  Archaea \"Euryarchaeota\" \"Methanomicrobia\" Meth...     1    MID1   \n",
       "6  Archaea \"Euryarchaeota\" Archaeoglobi Archaeogl...     1    MID1   \n",
       "7  Archaea \"Euryarchaeota\" Archaeoglobi Archaeogl...     1    MID1   \n",
       "8  Archaea \"Euryarchaeota\" Halobacteria Halobacte...     1    MID1   \n",
       "9  Archaea \"Euryarchaeota\" Halobacteria Halobacte...     4    MID1   \n",
       "\n",
       "                GROUP   SAMPLE  \n",
       "0  EXTRACTION CONTROL  unknown  \n",
       "1  EXTRACTION CONTROL  unknown  \n",
       "2  EXTRACTION CONTROL  unknown  \n",
       "3  EXTRACTION CONTROL  unknown  \n",
       "4  EXTRACTION CONTROL  unknown  \n",
       "5  EXTRACTION CONTROL  unknown  \n",
       "6  EXTRACTION CONTROL  unknown  \n",
       "7  EXTRACTION CONTROL  unknown  \n",
       "8  EXTRACTION CONTROL  unknown  \n",
       "9  EXTRACTION CONTROL  unknown  "
      ]
     },
     "execution_count": 13,
     "metadata": {},
     "output_type": "execute_result"
    }
   ],
   "source": [
    "df = pd.DataFrame()\n",
    "df = pd.merge(mid, metadata,on='BARCODE')\n",
    "df.head(10)"
   ]
  },
  {
   "cell_type": "markdown",
   "metadata": {},
   "source": [
    "Then we drop the BARCODE colunm because it is not usefull anymore"
   ]
  },
  {
   "cell_type": "code",
   "execution_count": 14,
   "metadata": {
    "collapsed": true
   },
   "outputs": [],
   "source": [
    "df = df.drop('BARCODE', 1)"
   ]
  },
  {
   "cell_type": "markdown",
   "metadata": {},
   "source": [
    "We pivot the table to have MICROBIOME in index and have the GROUP and SAMPLE in colunm. We also replace all the NaN values by the tag unknown."
   ]
  },
  {
   "cell_type": "code",
   "execution_count": 15,
   "metadata": {},
   "outputs": [
    {
     "data": {
      "text/html": [
       "<div>\n",
       "<style>\n",
       "    .dataframe thead tr:only-child th {\n",
       "        text-align: right;\n",
       "    }\n",
       "\n",
       "    .dataframe thead th {\n",
       "        text-align: left;\n",
       "    }\n",
       "\n",
       "    .dataframe tbody tr th {\n",
       "        vertical-align: top;\n",
       "    }\n",
       "</style>\n",
       "<table border=\"1\" class=\"dataframe\">\n",
       "  <thead>\n",
       "    <tr>\n",
       "      <th>GROUP</th>\n",
       "      <th colspan=\"2\" halign=\"left\">Control 1</th>\n",
       "      <th colspan=\"2\" halign=\"left\">Control 2</th>\n",
       "      <th>EXTRACTION CONTROL</th>\n",
       "      <th colspan=\"2\" halign=\"left\">NEC 1</th>\n",
       "      <th colspan=\"2\" halign=\"left\">NEC 2</th>\n",
       "    </tr>\n",
       "    <tr>\n",
       "      <th>SAMPLE</th>\n",
       "      <th>stool</th>\n",
       "      <th>tissue</th>\n",
       "      <th>stool</th>\n",
       "      <th>tissue</th>\n",
       "      <th>unknown</th>\n",
       "      <th>stool</th>\n",
       "      <th>tissue</th>\n",
       "      <th>stool</th>\n",
       "      <th>tissue</th>\n",
       "    </tr>\n",
       "    <tr>\n",
       "      <th>MICROBIOME</th>\n",
       "      <th></th>\n",
       "      <th></th>\n",
       "      <th></th>\n",
       "      <th></th>\n",
       "      <th></th>\n",
       "      <th></th>\n",
       "      <th></th>\n",
       "      <th></th>\n",
       "      <th></th>\n",
       "    </tr>\n",
       "  </thead>\n",
       "  <tbody>\n",
       "    <tr>\n",
       "      <th>Archaea \"Crenarchaeota\" Thermoprotei Acidilobales Caldisphaeraceae Caldisphaera</th>\n",
       "      <td>unnkown</td>\n",
       "      <td>15</td>\n",
       "      <td>unnkown</td>\n",
       "      <td>26</td>\n",
       "      <td>unnkown</td>\n",
       "      <td>unnkown</td>\n",
       "      <td>14</td>\n",
       "      <td>unnkown</td>\n",
       "      <td>unnkown</td>\n",
       "    </tr>\n",
       "    <tr>\n",
       "      <th>Archaea \"Crenarchaeota\" Thermoprotei Desulfurococcales Desulfurococcaceae Ignisphaera</th>\n",
       "      <td>8</td>\n",
       "      <td>14</td>\n",
       "      <td>16</td>\n",
       "      <td>28</td>\n",
       "      <td>unnkown</td>\n",
       "      <td>unnkown</td>\n",
       "      <td>23</td>\n",
       "      <td>unnkown</td>\n",
       "      <td>unnkown</td>\n",
       "    </tr>\n",
       "    <tr>\n",
       "      <th>Archaea \"Crenarchaeota\" Thermoprotei Desulfurococcales Desulfurococcaceae Stetteria</th>\n",
       "      <td>unnkown</td>\n",
       "      <td>unnkown</td>\n",
       "      <td>unnkown</td>\n",
       "      <td>1</td>\n",
       "      <td>unnkown</td>\n",
       "      <td>unnkown</td>\n",
       "      <td>unnkown</td>\n",
       "      <td>unnkown</td>\n",
       "      <td>unnkown</td>\n",
       "    </tr>\n",
       "    <tr>\n",
       "      <th>Archaea \"Crenarchaeota\" Thermoprotei Desulfurococcales Desulfurococcaceae Sulfophobococcus</th>\n",
       "      <td>2</td>\n",
       "      <td>4</td>\n",
       "      <td>2</td>\n",
       "      <td>5</td>\n",
       "      <td>unnkown</td>\n",
       "      <td>1</td>\n",
       "      <td>1</td>\n",
       "      <td>unnkown</td>\n",
       "      <td>unnkown</td>\n",
       "    </tr>\n",
       "    <tr>\n",
       "      <th>Archaea \"Crenarchaeota\" Thermoprotei Desulfurococcales Desulfurococcaceae Thermodiscus</th>\n",
       "      <td>unnkown</td>\n",
       "      <td>1</td>\n",
       "      <td>unnkown</td>\n",
       "      <td>unnkown</td>\n",
       "      <td>unnkown</td>\n",
       "      <td>unnkown</td>\n",
       "      <td>unnkown</td>\n",
       "      <td>unnkown</td>\n",
       "      <td>unnkown</td>\n",
       "    </tr>\n",
       "    <tr>\n",
       "      <th>Archaea \"Crenarchaeota\" Thermoprotei Desulfurococcales Desulfurococcaceae Thermosphaera</th>\n",
       "      <td>1</td>\n",
       "      <td>1</td>\n",
       "      <td>unnkown</td>\n",
       "      <td>2</td>\n",
       "      <td>unnkown</td>\n",
       "      <td>unnkown</td>\n",
       "      <td>2</td>\n",
       "      <td>unnkown</td>\n",
       "      <td>unnkown</td>\n",
       "    </tr>\n",
       "    <tr>\n",
       "      <th>Archaea \"Crenarchaeota\" Thermoprotei Desulfurococcales Pyrodictiaceae Hyperthermus</th>\n",
       "      <td>unnkown</td>\n",
       "      <td>unnkown</td>\n",
       "      <td>unnkown</td>\n",
       "      <td>unnkown</td>\n",
       "      <td>unnkown</td>\n",
       "      <td>unnkown</td>\n",
       "      <td>1</td>\n",
       "      <td>unnkown</td>\n",
       "      <td>unnkown</td>\n",
       "    </tr>\n",
       "    <tr>\n",
       "      <th>Archaea \"Crenarchaeota\" Thermoprotei Desulfurococcales Pyrodictiaceae Pyrodictium</th>\n",
       "      <td>1</td>\n",
       "      <td>3</td>\n",
       "      <td>5</td>\n",
       "      <td>2</td>\n",
       "      <td>unnkown</td>\n",
       "      <td>1</td>\n",
       "      <td>unnkown</td>\n",
       "      <td>unnkown</td>\n",
       "      <td>unnkown</td>\n",
       "    </tr>\n",
       "    <tr>\n",
       "      <th>Archaea \"Crenarchaeota\" Thermoprotei Desulfurococcales Pyrodictiaceae Pyrolobus</th>\n",
       "      <td>1</td>\n",
       "      <td>unnkown</td>\n",
       "      <td>unnkown</td>\n",
       "      <td>3</td>\n",
       "      <td>2</td>\n",
       "      <td>2</td>\n",
       "      <td>2</td>\n",
       "      <td>unnkown</td>\n",
       "      <td>unnkown</td>\n",
       "    </tr>\n",
       "    <tr>\n",
       "      <th>Archaea \"Crenarchaeota\" Thermoprotei Sulfolobales Sulfolobaceae Stygiolobus</th>\n",
       "      <td>5</td>\n",
       "      <td>4</td>\n",
       "      <td>6</td>\n",
       "      <td>14</td>\n",
       "      <td>3</td>\n",
       "      <td>5</td>\n",
       "      <td>10</td>\n",
       "      <td>unnkown</td>\n",
       "      <td>unnkown</td>\n",
       "    </tr>\n",
       "  </tbody>\n",
       "</table>\n",
       "</div>"
      ],
      "text/plain": [
       "GROUP                                              Control 1           \\\n",
       "SAMPLE                                                 stool   tissue   \n",
       "MICROBIOME                                                              \n",
       "Archaea \"Crenarchaeota\" Thermoprotei Acidilobal...   unnkown       15   \n",
       "Archaea \"Crenarchaeota\" Thermoprotei Desulfuroc...         8       14   \n",
       "Archaea \"Crenarchaeota\" Thermoprotei Desulfuroc...   unnkown  unnkown   \n",
       "Archaea \"Crenarchaeota\" Thermoprotei Desulfuroc...         2        4   \n",
       "Archaea \"Crenarchaeota\" Thermoprotei Desulfuroc...   unnkown        1   \n",
       "Archaea \"Crenarchaeota\" Thermoprotei Desulfuroc...         1        1   \n",
       "Archaea \"Crenarchaeota\" Thermoprotei Desulfuroc...   unnkown  unnkown   \n",
       "Archaea \"Crenarchaeota\" Thermoprotei Desulfuroc...         1        3   \n",
       "Archaea \"Crenarchaeota\" Thermoprotei Desulfuroc...         1  unnkown   \n",
       "Archaea \"Crenarchaeota\" Thermoprotei Sulfolobal...         5        4   \n",
       "\n",
       "GROUP                                              Control 2           \\\n",
       "SAMPLE                                                 stool   tissue   \n",
       "MICROBIOME                                                              \n",
       "Archaea \"Crenarchaeota\" Thermoprotei Acidilobal...   unnkown       26   \n",
       "Archaea \"Crenarchaeota\" Thermoprotei Desulfuroc...        16       28   \n",
       "Archaea \"Crenarchaeota\" Thermoprotei Desulfuroc...   unnkown        1   \n",
       "Archaea \"Crenarchaeota\" Thermoprotei Desulfuroc...         2        5   \n",
       "Archaea \"Crenarchaeota\" Thermoprotei Desulfuroc...   unnkown  unnkown   \n",
       "Archaea \"Crenarchaeota\" Thermoprotei Desulfuroc...   unnkown        2   \n",
       "Archaea \"Crenarchaeota\" Thermoprotei Desulfuroc...   unnkown  unnkown   \n",
       "Archaea \"Crenarchaeota\" Thermoprotei Desulfuroc...         5        2   \n",
       "Archaea \"Crenarchaeota\" Thermoprotei Desulfuroc...   unnkown        3   \n",
       "Archaea \"Crenarchaeota\" Thermoprotei Sulfolobal...         6       14   \n",
       "\n",
       "GROUP                                              EXTRACTION CONTROL  \\\n",
       "SAMPLE                                                        unknown   \n",
       "MICROBIOME                                                              \n",
       "Archaea \"Crenarchaeota\" Thermoprotei Acidilobal...            unnkown   \n",
       "Archaea \"Crenarchaeota\" Thermoprotei Desulfuroc...            unnkown   \n",
       "Archaea \"Crenarchaeota\" Thermoprotei Desulfuroc...            unnkown   \n",
       "Archaea \"Crenarchaeota\" Thermoprotei Desulfuroc...            unnkown   \n",
       "Archaea \"Crenarchaeota\" Thermoprotei Desulfuroc...            unnkown   \n",
       "Archaea \"Crenarchaeota\" Thermoprotei Desulfuroc...            unnkown   \n",
       "Archaea \"Crenarchaeota\" Thermoprotei Desulfuroc...            unnkown   \n",
       "Archaea \"Crenarchaeota\" Thermoprotei Desulfuroc...            unnkown   \n",
       "Archaea \"Crenarchaeota\" Thermoprotei Desulfuroc...                  2   \n",
       "Archaea \"Crenarchaeota\" Thermoprotei Sulfolobal...                  3   \n",
       "\n",
       "GROUP                                                 NEC 1             NEC 2  \\\n",
       "SAMPLE                                                stool   tissue    stool   \n",
       "MICROBIOME                                                                      \n",
       "Archaea \"Crenarchaeota\" Thermoprotei Acidilobal...  unnkown       14  unnkown   \n",
       "Archaea \"Crenarchaeota\" Thermoprotei Desulfuroc...  unnkown       23  unnkown   \n",
       "Archaea \"Crenarchaeota\" Thermoprotei Desulfuroc...  unnkown  unnkown  unnkown   \n",
       "Archaea \"Crenarchaeota\" Thermoprotei Desulfuroc...        1        1  unnkown   \n",
       "Archaea \"Crenarchaeota\" Thermoprotei Desulfuroc...  unnkown  unnkown  unnkown   \n",
       "Archaea \"Crenarchaeota\" Thermoprotei Desulfuroc...  unnkown        2  unnkown   \n",
       "Archaea \"Crenarchaeota\" Thermoprotei Desulfuroc...  unnkown        1  unnkown   \n",
       "Archaea \"Crenarchaeota\" Thermoprotei Desulfuroc...        1  unnkown  unnkown   \n",
       "Archaea \"Crenarchaeota\" Thermoprotei Desulfuroc...        2        2  unnkown   \n",
       "Archaea \"Crenarchaeota\" Thermoprotei Sulfolobal...        5       10  unnkown   \n",
       "\n",
       "GROUP                                                        \n",
       "SAMPLE                                               tissue  \n",
       "MICROBIOME                                                   \n",
       "Archaea \"Crenarchaeota\" Thermoprotei Acidilobal...  unnkown  \n",
       "Archaea \"Crenarchaeota\" Thermoprotei Desulfuroc...  unnkown  \n",
       "Archaea \"Crenarchaeota\" Thermoprotei Desulfuroc...  unnkown  \n",
       "Archaea \"Crenarchaeota\" Thermoprotei Desulfuroc...  unnkown  \n",
       "Archaea \"Crenarchaeota\" Thermoprotei Desulfuroc...  unnkown  \n",
       "Archaea \"Crenarchaeota\" Thermoprotei Desulfuroc...  unnkown  \n",
       "Archaea \"Crenarchaeota\" Thermoprotei Desulfuroc...  unnkown  \n",
       "Archaea \"Crenarchaeota\" Thermoprotei Desulfuroc...  unnkown  \n",
       "Archaea \"Crenarchaeota\" Thermoprotei Desulfuroc...  unnkown  \n",
       "Archaea \"Crenarchaeota\" Thermoprotei Sulfolobal...  unnkown  "
      ]
     },
     "execution_count": 15,
     "metadata": {},
     "output_type": "execute_result"
    }
   ],
   "source": [
    "df = df.pivot_table('DATA','MICROBIOME',['GROUP','SAMPLE'],fill_value='unnkown')\n",
    "df.head(10)"
   ]
  },
  {
   "cell_type": "markdown",
   "metadata": {},
   "source": [
    "Now we check if the index is unique"
   ]
  },
  {
   "cell_type": "code",
   "execution_count": 16,
   "metadata": {},
   "outputs": [
    {
     "data": {
      "text/plain": [
       "True"
      ]
     },
     "execution_count": 16,
     "metadata": {},
     "output_type": "execute_result"
    }
   ],
   "source": [
    "df.index.is_unique"
   ]
  },
  {
   "cell_type": "markdown",
   "metadata": {},
   "source": [
    "Alright, everithing is great"
   ]
  },
  {
   "cell_type": "markdown",
   "metadata": {},
   "source": [
    "## Task 3. Class War in Titanic\n",
    "\n",
    "Use pandas to import the data file `Data/titanic.xls`. It contains data on all the passengers that travelled on the Titanic."
   ]
  },
  {
   "cell_type": "code",
   "execution_count": 17,
   "metadata": {},
   "outputs": [
    {
     "data": {
      "text/html": [
       "<hr><h2>Data frame:titanic3</h2>1309 observations and 14 variables, maximum # NAs:1188<hr>\n",
       "<TABLE BORDER>\n",
       "<tr><td>Name</td><td>Labels</td><td>Units</td><td>Levels</td><td>Storage</td><td>NAs</td></tr>\n",
       "<tr><td>pclass</td><td></td><td></td><td><a href=\"#pclass\"><div align=right>  3</div></a></td><td>integer</td><td><div align=right>   0</div></td></tr>\n",
       "<tr><td>survived</td><td>Survived</td><td></td><td><div align=right></div></td><td>double</td><td><div align=right>   0</div></td></tr>\n",
       "<tr><td>name</td><td>Name</td><td></td><td><div align=right></div></td><td>character</td><td><div align=right>   0</div></td></tr>\n",
       "<tr><td>sex</td><td></td><td></td><td><a href=\"#sex\"><div align=right>  2</div></a></td><td>integer</td><td><div align=right>   0</div></td></tr>\n",
       "<tr><td>age</td><td>Age</td><td>Year</td><td><div align=right></div></td><td>double</td><td><div align=right> 263</div></td></tr>\n",
       "<tr><td>sibsp</td><td>Number of Siblings/Spouses Aboard</td><td></td><td><div align=right></div></td><td>double</td><td><div align=right>   0</div></td></tr>\n",
       "<tr><td>parch</td><td>Number of Parents/Children Aboard</td><td></td><td><div align=right></div></td><td>double</td><td><div align=right>   0</div></td></tr>\n",
       "<tr><td>ticket</td><td>Ticket Number</td><td></td><td><div align=right></div></td><td>character</td><td><div align=right>   0</div></td></tr>\n",
       "<tr><td>fare</td><td>Passenger Fare</td><td>British Pound (\\243)</td><td><div align=right></div></td><td>double</td><td><div align=right>   1</div></td></tr>\n",
       "<tr><td>cabin</td><td></td><td></td><td><a href=\"#cabin\"><div align=right>187</div></a></td><td>integer</td><td><div align=right>   0</div></td></tr>\n",
       "<tr><td>embarked</td><td></td><td></td><td><a href=\"#embarked\"><div align=right>  3</div></a></td><td>integer</td><td><div align=right>   2</div></td></tr>\n",
       "<tr><td>boat</td><td></td><td></td><td><a href=\"#boat\"><div align=right> 28</div></a></td><td>integer</td><td><div align=right>   0</div></td></tr>\n",
       "<tr><td>body</td><td>Body Identification Number</td><td></td><td><div align=right></div></td><td>double</td><td><div align=right>1188</div></td></tr>\n",
       "<tr><td>home.dest</td><td>Home/Destination</td><td></td><td><div align=right></div></td><td>character</td><td><div align=right>   0</div></td></tr>\n",
       "</TABLE>\n",
       "<hr>\n",
       "<TABLE BORDER>\n",
       "<tr><td>Variable</td><td>Levels</td></tr>\n",
       "<tr><td><a name=\"pclass\">pclass</a></td><td>1st</td></tr>\n",
       "<tr><td></td><td>2nd</td></tr>\n",
       "<tr><td></td><td>3rd</td></tr>\n",
       "<tr><td><a name=\"sex\">sex</a></td><td>female</td></tr>\n",
       "<tr><td></td><td>male</td></tr>\n",
       "<tr><td><a name=\"cabin\">cabin</a></td><td></td></tr>\n",
       "<tr><td></td><td>A10</td></tr>\n",
       "<tr><td></td><td>A11</td></tr>\n",
       "<tr><td></td><td>A14</td></tr>\n",
       "<tr><td></td><td>A16</td></tr>\n",
       "<tr><td></td><td>A18</td></tr>\n",
       "<tr><td></td><td>A19</td></tr>\n",
       "<tr><td></td><td>A20</td></tr>\n",
       "<tr><td></td><td>A21</td></tr>\n",
       "<tr><td></td><td>A23</td></tr>\n",
       "<tr><td></td><td>A24</td></tr>\n",
       "<tr><td></td><td>A26</td></tr>\n",
       "<tr><td></td><td>A29</td></tr>\n",
       "<tr><td></td><td>A31</td></tr>\n",
       "<tr><td></td><td>A32</td></tr>\n",
       "<tr><td></td><td>A34</td></tr>\n",
       "<tr><td></td><td>A36</td></tr>\n",
       "<tr><td></td><td>A5</td></tr>\n",
       "<tr><td></td><td>A6</td></tr>\n",
       "<tr><td></td><td>A7</td></tr>\n",
       "<tr><td></td><td>A9</td></tr>\n",
       "<tr><td></td><td>B10</td></tr>\n",
       "<tr><td></td><td>B101</td></tr>\n",
       "<tr><td></td><td>B102</td></tr>\n",
       "<tr><td></td><td>B11</td></tr>\n",
       "<tr><td></td><td>B18</td></tr>\n",
       "<tr><td></td><td>B19</td></tr>\n",
       "<tr><td></td><td>B20</td></tr>\n",
       "<tr><td></td><td>B22</td></tr>\n",
       "<tr><td></td><td>B24</td></tr>\n",
       "<tr><td></td><td>B26</td></tr>\n",
       "<tr><td></td><td>B28</td></tr>\n",
       "<tr><td></td><td>B3</td></tr>\n",
       "<tr><td></td><td>B30</td></tr>\n",
       "<tr><td></td><td>B35</td></tr>\n",
       "<tr><td></td><td>B36</td></tr>\n",
       "<tr><td></td><td>B37</td></tr>\n",
       "<tr><td></td><td>B38</td></tr>\n",
       "<tr><td></td><td>B39</td></tr>\n",
       "<tr><td></td><td>B4</td></tr>\n",
       "<tr><td></td><td>B41</td></tr>\n",
       "<tr><td></td><td>B42</td></tr>\n",
       "<tr><td></td><td>B45</td></tr>\n",
       "<tr><td></td><td>B49</td></tr>\n",
       "<tr><td></td><td>B5</td></tr>\n",
       "<tr><td></td><td>B50</td></tr>\n",
       "<tr><td></td><td>B51 B53 B55</td></tr>\n",
       "<tr><td></td><td>B52 B54 B56</td></tr>\n",
       "<tr><td></td><td>B57 B59 B63 B66</td></tr>\n",
       "<tr><td></td><td>B58 B60</td></tr>\n",
       "<tr><td></td><td>B61</td></tr>\n",
       "<tr><td></td><td>B69</td></tr>\n",
       "<tr><td></td><td>B71</td></tr>\n",
       "<tr><td></td><td>B73</td></tr>\n",
       "<tr><td></td><td>B77</td></tr>\n",
       "<tr><td></td><td>B78</td></tr>\n",
       "<tr><td></td><td>B79</td></tr>\n",
       "<tr><td></td><td>B80</td></tr>\n",
       "<tr><td></td><td>B82 B84</td></tr>\n",
       "<tr><td></td><td>B86</td></tr>\n",
       "<tr><td></td><td>B94</td></tr>\n",
       "<tr><td></td><td>B96 B98</td></tr>\n",
       "<tr><td></td><td>C101</td></tr>\n",
       "<tr><td></td><td>C103</td></tr>\n",
       "<tr><td></td><td>C104</td></tr>\n",
       "<tr><td></td><td>C105</td></tr>\n",
       "<tr><td></td><td>C106</td></tr>\n",
       "<tr><td></td><td>C110</td></tr>\n",
       "<tr><td></td><td>C111</td></tr>\n",
       "<tr><td></td><td>C116</td></tr>\n",
       "<tr><td></td><td>C118</td></tr>\n",
       "<tr><td></td><td>C123</td></tr>\n",
       "<tr><td></td><td>C124</td></tr>\n",
       "<tr><td></td><td>C125</td></tr>\n",
       "<tr><td></td><td>C126</td></tr>\n",
       "<tr><td></td><td>C128</td></tr>\n",
       "<tr><td></td><td>C130</td></tr>\n",
       "<tr><td></td><td>C132</td></tr>\n",
       "<tr><td></td><td>C148</td></tr>\n",
       "<tr><td></td><td>C2</td></tr>\n",
       "<tr><td></td><td>C22 C26</td></tr>\n",
       "<tr><td></td><td>C23 C25 C27</td></tr>\n",
       "<tr><td></td><td>C28</td></tr>\n",
       "<tr><td></td><td>C30</td></tr>\n",
       "<tr><td></td><td>C31</td></tr>\n",
       "<tr><td></td><td>C32</td></tr>\n",
       "<tr><td></td><td>C39</td></tr>\n",
       "<tr><td></td><td>C45</td></tr>\n",
       "<tr><td></td><td>C46</td></tr>\n",
       "<tr><td></td><td>C47</td></tr>\n",
       "<tr><td></td><td>C49</td></tr>\n",
       "<tr><td></td><td>C50</td></tr>\n",
       "<tr><td></td><td>C51</td></tr>\n",
       "<tr><td></td><td>C52</td></tr>\n",
       "<tr><td></td><td>C53</td></tr>\n",
       "<tr><td></td><td>C54</td></tr>\n",
       "<tr><td></td><td>C55 C57</td></tr>\n",
       "<tr><td></td><td>C6</td></tr>\n",
       "<tr><td></td><td>C62 C64</td></tr>\n",
       "<tr><td></td><td>C65</td></tr>\n",
       "<tr><td></td><td>C68</td></tr>\n",
       "<tr><td></td><td>C7</td></tr>\n",
       "<tr><td></td><td>C70</td></tr>\n",
       "<tr><td></td><td>C78</td></tr>\n",
       "<tr><td></td><td>C80</td></tr>\n",
       "<tr><td></td><td>C82</td></tr>\n",
       "<tr><td></td><td>C83</td></tr>\n",
       "<tr><td></td><td>C85</td></tr>\n",
       "<tr><td></td><td>C86</td></tr>\n",
       "<tr><td></td><td>C87</td></tr>\n",
       "<tr><td></td><td>C89</td></tr>\n",
       "<tr><td></td><td>C90</td></tr>\n",
       "<tr><td></td><td>C91</td></tr>\n",
       "<tr><td></td><td>C92</td></tr>\n",
       "<tr><td></td><td>C93</td></tr>\n",
       "<tr><td></td><td>C95</td></tr>\n",
       "<tr><td></td><td>C97</td></tr>\n",
       "<tr><td></td><td>C99</td></tr>\n",
       "<tr><td></td><td>D</td></tr>\n",
       "<tr><td></td><td>D10 D12</td></tr>\n",
       "<tr><td></td><td>D11</td></tr>\n",
       "<tr><td></td><td>D15</td></tr>\n",
       "<tr><td></td><td>D17</td></tr>\n",
       "<tr><td></td><td>D19</td></tr>\n",
       "<tr><td></td><td>D20</td></tr>\n",
       "<tr><td></td><td>D21</td></tr>\n",
       "<tr><td></td><td>D22</td></tr>\n",
       "<tr><td></td><td>D26</td></tr>\n",
       "<tr><td></td><td>D28</td></tr>\n",
       "<tr><td></td><td>D30</td></tr>\n",
       "<tr><td></td><td>D33</td></tr>\n",
       "<tr><td></td><td>D34</td></tr>\n",
       "<tr><td></td><td>D35</td></tr>\n",
       "<tr><td></td><td>D36</td></tr>\n",
       "<tr><td></td><td>D37</td></tr>\n",
       "<tr><td></td><td>D38</td></tr>\n",
       "<tr><td></td><td>D40</td></tr>\n",
       "<tr><td></td><td>D43</td></tr>\n",
       "<tr><td></td><td>D45</td></tr>\n",
       "<tr><td></td><td>D46</td></tr>\n",
       "<tr><td></td><td>D47</td></tr>\n",
       "<tr><td></td><td>D48</td></tr>\n",
       "<tr><td></td><td>D49</td></tr>\n",
       "<tr><td></td><td>D50</td></tr>\n",
       "<tr><td></td><td>D56</td></tr>\n",
       "<tr><td></td><td>D6</td></tr>\n",
       "<tr><td></td><td>D7</td></tr>\n",
       "<tr><td></td><td>D9</td></tr>\n",
       "<tr><td></td><td>E10</td></tr>\n",
       "<tr><td></td><td>E101</td></tr>\n",
       "<tr><td></td><td>E12</td></tr>\n",
       "<tr><td></td><td>E121</td></tr>\n",
       "<tr><td></td><td>E17</td></tr>\n",
       "<tr><td></td><td>E24</td></tr>\n",
       "<tr><td></td><td>E25</td></tr>\n",
       "<tr><td></td><td>E31</td></tr>\n",
       "<tr><td></td><td>E33</td></tr>\n",
       "<tr><td></td><td>E34</td></tr>\n",
       "<tr><td></td><td>E36</td></tr>\n",
       "<tr><td></td><td>E38</td></tr>\n",
       "<tr><td></td><td>E39 E41</td></tr>\n",
       "<tr><td></td><td>E40</td></tr>\n",
       "<tr><td></td><td>E44</td></tr>\n",
       "<tr><td></td><td>E45</td></tr>\n",
       "<tr><td></td><td>E46</td></tr>\n",
       "<tr><td></td><td>E49</td></tr>\n",
       "<tr><td></td><td>E50</td></tr>\n",
       "<tr><td></td><td>E52</td></tr>\n",
       "<tr><td></td><td>E58</td></tr>\n",
       "<tr><td></td><td>E60</td></tr>\n",
       "<tr><td></td><td>E63</td></tr>\n",
       "<tr><td></td><td>E67</td></tr>\n",
       "<tr><td></td><td>E68</td></tr>\n",
       "<tr><td></td><td>E77</td></tr>\n",
       "<tr><td></td><td>E8</td></tr>\n",
       "<tr><td></td><td>F</td></tr>\n",
       "<tr><td></td><td>F E46</td></tr>\n",
       "<tr><td></td><td>F E57</td></tr>\n",
       "<tr><td></td><td>F E69</td></tr>\n",
       "<tr><td></td><td>F G63</td></tr>\n",
       "<tr><td></td><td>F G73</td></tr>\n",
       "<tr><td></td><td>F2</td></tr>\n",
       "<tr><td></td><td>F33</td></tr>\n",
       "<tr><td></td><td>F38</td></tr>\n",
       "<tr><td></td><td>F4</td></tr>\n",
       "<tr><td></td><td>G6</td></tr>\n",
       "<tr><td></td><td>T</td></tr>\n",
       "<tr><td><a name=\"embarked\">embarked</a></td><td>Cherbourg</td></tr>\n",
       "<tr><td></td><td>Queenstown</td></tr>\n",
       "<tr><td></td><td>Southampton</td></tr>\n",
       "<tr><td><a name=\"boat\">boat</a></td><td></td></tr>\n",
       "<tr><td></td><td>1</td></tr>\n",
       "<tr><td></td><td>10</td></tr>\n",
       "<tr><td></td><td>11</td></tr>\n",
       "<tr><td></td><td>12</td></tr>\n",
       "<tr><td></td><td>13</td></tr>\n",
       "<tr><td></td><td>13 15</td></tr>\n",
       "<tr><td></td><td>13 15 B</td></tr>\n",
       "<tr><td></td><td>14</td></tr>\n",
       "<tr><td></td><td>15</td></tr>\n",
       "<tr><td></td><td>15 16</td></tr>\n",
       "<tr><td></td><td>16</td></tr>\n",
       "<tr><td></td><td>2</td></tr>\n",
       "<tr><td></td><td>3</td></tr>\n",
       "<tr><td></td><td>4</td></tr>\n",
       "<tr><td></td><td>5</td></tr>\n",
       "<tr><td></td><td>5 7</td></tr>\n",
       "<tr><td></td><td>5 9</td></tr>\n",
       "<tr><td></td><td>6</td></tr>\n",
       "<tr><td></td><td>7</td></tr>\n",
       "<tr><td></td><td>8</td></tr>\n",
       "<tr><td></td><td>8 10</td></tr>\n",
       "<tr><td></td><td>9</td></tr>\n",
       "<tr><td></td><td>A</td></tr>\n",
       "<tr><td></td><td>B</td></tr>\n",
       "<tr><td></td><td>C</td></tr>\n",
       "<tr><td></td><td>C D</td></tr>\n",
       "<tr><td></td><td>D</td></tr>\n",
       "</TABLE>\n",
       "<hr>\n"
      ],
      "text/plain": [
       "<IPython.core.display.HTML object>"
      ]
     },
     "execution_count": 17,
     "metadata": {},
     "output_type": "execute_result"
    }
   ],
   "source": [
    "from IPython.core.display import HTML\n",
    "HTML(filename=DATA_FOLDER+'/titanic.html')"
   ]
  },
  {
   "cell_type": "markdown",
   "metadata": {},
   "source": [
    "For each of the following questions state clearly your assumptions and discuss your findings:\n",
    "1. Describe the *type* and the *value range* of each attribute. Indicate and transform the attributes that can be `Categorical`. \n",
    "2. Plot histograms for the *travel class*, *embarkation port*, *sex* and *age* attributes. For the latter one, use *discrete decade intervals*. \n",
    "3. Calculate the proportion of passengers by *cabin floor*. Present your results in a *pie chart*.\n",
    "4. For each *travel class*, calculate the proportion of the passengers that survived. Present your results in *pie charts*.\n",
    "5. Calculate the proportion of the passengers that survived by *travel class* and *sex*. Present your results in *a single histogram*.\n",
    "6. Create 2 equally populated *age categories* and calculate survival proportions by *age category*, *travel class* and *sex*. Present your results in a `DataFrame` with unique index."
   ]
  },
  {
   "cell_type": "markdown",
   "metadata": {
    "collapsed": true
   },
   "source": [
    "### Answer :"
   ]
  },
  {
   "cell_type": "markdown",
   "metadata": {},
   "source": [
    "* Import the needed libraries and data from titanic.xls using pandas in a data frame called `passengers`"
   ]
  },
  {
   "cell_type": "code",
   "execution_count": 18,
   "metadata": {},
   "outputs": [],
   "source": [
    "passengers = pd.DataFrame()\n",
    "passengers = pd.read_excel(DATA_FOLDER + '/titanic.xls')"
   ]
  },
  {
   "cell_type": "markdown",
   "metadata": {},
   "source": [
    "* **Describe the type and the value range of each attribute. Indicate and transform the attributes that can be `Categorical`.**"
   ]
  },
  {
   "cell_type": "code",
   "execution_count": 19,
   "metadata": {},
   "outputs": [
    {
     "data": {
      "text/plain": [
       "pclass         int64\n",
       "survived       int64\n",
       "name          object\n",
       "sex           object\n",
       "age          float64\n",
       "sibsp          int64\n",
       "parch          int64\n",
       "ticket        object\n",
       "fare         float64\n",
       "cabin         object\n",
       "embarked      object\n",
       "boat          object\n",
       "body         float64\n",
       "home.dest     object\n",
       "dtype: object"
      ]
     },
     "execution_count": 19,
     "metadata": {},
     "output_type": "execute_result"
    }
   ],
   "source": [
    "passengers.dtypes"
   ]
  },
  {
   "cell_type": "code",
   "execution_count": 20,
   "metadata": {},
   "outputs": [
    {
     "data": {
      "text/html": [
       "<div>\n",
       "<style>\n",
       "    .dataframe thead tr:only-child th {\n",
       "        text-align: right;\n",
       "    }\n",
       "\n",
       "    .dataframe thead th {\n",
       "        text-align: left;\n",
       "    }\n",
       "\n",
       "    .dataframe tbody tr th {\n",
       "        vertical-align: top;\n",
       "    }\n",
       "</style>\n",
       "<table border=\"1\" class=\"dataframe\">\n",
       "  <thead>\n",
       "    <tr style=\"text-align: right;\">\n",
       "      <th></th>\n",
       "      <th>pclass</th>\n",
       "      <th>survived</th>\n",
       "      <th>age</th>\n",
       "      <th>sibsp</th>\n",
       "      <th>parch</th>\n",
       "      <th>fare</th>\n",
       "      <th>body</th>\n",
       "    </tr>\n",
       "  </thead>\n",
       "  <tbody>\n",
       "    <tr>\n",
       "      <th>count</th>\n",
       "      <td>1309.000000</td>\n",
       "      <td>1309.000000</td>\n",
       "      <td>1046.000000</td>\n",
       "      <td>1309.000000</td>\n",
       "      <td>1309.000000</td>\n",
       "      <td>1308.000000</td>\n",
       "      <td>121.000000</td>\n",
       "    </tr>\n",
       "    <tr>\n",
       "      <th>mean</th>\n",
       "      <td>2.294882</td>\n",
       "      <td>0.381971</td>\n",
       "      <td>29.881135</td>\n",
       "      <td>0.498854</td>\n",
       "      <td>0.385027</td>\n",
       "      <td>33.295479</td>\n",
       "      <td>160.809917</td>\n",
       "    </tr>\n",
       "    <tr>\n",
       "      <th>std</th>\n",
       "      <td>0.837836</td>\n",
       "      <td>0.486055</td>\n",
       "      <td>14.413500</td>\n",
       "      <td>1.041658</td>\n",
       "      <td>0.865560</td>\n",
       "      <td>51.758668</td>\n",
       "      <td>97.696922</td>\n",
       "    </tr>\n",
       "    <tr>\n",
       "      <th>min</th>\n",
       "      <td>1.000000</td>\n",
       "      <td>0.000000</td>\n",
       "      <td>0.166700</td>\n",
       "      <td>0.000000</td>\n",
       "      <td>0.000000</td>\n",
       "      <td>0.000000</td>\n",
       "      <td>1.000000</td>\n",
       "    </tr>\n",
       "    <tr>\n",
       "      <th>25%</th>\n",
       "      <td>2.000000</td>\n",
       "      <td>0.000000</td>\n",
       "      <td>21.000000</td>\n",
       "      <td>0.000000</td>\n",
       "      <td>0.000000</td>\n",
       "      <td>7.895800</td>\n",
       "      <td>72.000000</td>\n",
       "    </tr>\n",
       "    <tr>\n",
       "      <th>50%</th>\n",
       "      <td>3.000000</td>\n",
       "      <td>0.000000</td>\n",
       "      <td>28.000000</td>\n",
       "      <td>0.000000</td>\n",
       "      <td>0.000000</td>\n",
       "      <td>14.454200</td>\n",
       "      <td>155.000000</td>\n",
       "    </tr>\n",
       "    <tr>\n",
       "      <th>75%</th>\n",
       "      <td>3.000000</td>\n",
       "      <td>1.000000</td>\n",
       "      <td>39.000000</td>\n",
       "      <td>1.000000</td>\n",
       "      <td>0.000000</td>\n",
       "      <td>31.275000</td>\n",
       "      <td>256.000000</td>\n",
       "    </tr>\n",
       "    <tr>\n",
       "      <th>max</th>\n",
       "      <td>3.000000</td>\n",
       "      <td>1.000000</td>\n",
       "      <td>80.000000</td>\n",
       "      <td>8.000000</td>\n",
       "      <td>9.000000</td>\n",
       "      <td>512.329200</td>\n",
       "      <td>328.000000</td>\n",
       "    </tr>\n",
       "  </tbody>\n",
       "</table>\n",
       "</div>"
      ],
      "text/plain": [
       "            pclass     survived          age        sibsp        parch  \\\n",
       "count  1309.000000  1309.000000  1046.000000  1309.000000  1309.000000   \n",
       "mean      2.294882     0.381971    29.881135     0.498854     0.385027   \n",
       "std       0.837836     0.486055    14.413500     1.041658     0.865560   \n",
       "min       1.000000     0.000000     0.166700     0.000000     0.000000   \n",
       "25%       2.000000     0.000000    21.000000     0.000000     0.000000   \n",
       "50%       3.000000     0.000000    28.000000     0.000000     0.000000   \n",
       "75%       3.000000     1.000000    39.000000     1.000000     0.000000   \n",
       "max       3.000000     1.000000    80.000000     8.000000     9.000000   \n",
       "\n",
       "              fare        body  \n",
       "count  1308.000000  121.000000  \n",
       "mean     33.295479  160.809917  \n",
       "std      51.758668   97.696922  \n",
       "min       0.000000    1.000000  \n",
       "25%       7.895800   72.000000  \n",
       "50%      14.454200  155.000000  \n",
       "75%      31.275000  256.000000  \n",
       "max     512.329200  328.000000  "
      ]
     },
     "execution_count": 20,
     "metadata": {},
     "output_type": "execute_result"
    }
   ],
   "source": [
    "passengers.describe()"
   ]
  },
  {
   "cell_type": "markdown",
   "metadata": {},
   "source": [
    "Based from the observations of the types and value of the attributes of the dataframe `passengers`, we can convert the attibute `body` to an integer. We need to fill the NaN values first."
   ]
  },
  {
   "cell_type": "code",
   "execution_count": 21,
   "metadata": {
    "collapsed": true
   },
   "outputs": [],
   "source": [
    "passengers.body = passengers.body.fillna(\"0\")\n",
    "passengers.body = passengers.body.astype(int)"
   ]
  },
  {
   "cell_type": "markdown",
   "metadata": {},
   "source": [
    "Transform `sex`, `pclass` and `embarked` atibutes to `Categorical` attibutes : "
   ]
  },
  {
   "cell_type": "code",
   "execution_count": 22,
   "metadata": {
    "collapsed": true
   },
   "outputs": [],
   "source": [
    "passengers.sex  = passengers.sex.astype('category')\n",
    "passengers.pclass  = passengers.pclass.astype('category')\n",
    "passengers.embarked = passengers.embarked.astype('category')"
   ]
  },
  {
   "cell_type": "markdown",
   "metadata": {},
   "source": [
    "* **Plot histograms for the travel class, embarkation port, sex and age attributes. For the latter one, use discrete decade intervals.**\n",
    "\n",
    "A bar chart is the best way of representing categorical data. Regarding the age of the passengers, we will represent it in a histogram since it gives a discretized display of value frequency which is more suitable to represent non-categorical data.\n",
    "\n",
    "First, let's define a function to display a bar plot. We will reuse the same function to plot the `travel class`,`embarkation port` and `sex`."
   ]
  },
  {
   "cell_type": "code",
   "execution_count": 23,
   "metadata": {
    "collapsed": true
   },
   "outputs": [],
   "source": [
    "def bar_plot(xlbl, data, n):\n",
    "    fig, ax = plt.subplots()\n",
    "    ax.set_title( xlbl, fontsize=15, fontweight='bold')\n",
    "    sns.barplot(data[:n].keys(), data[:n], ax=ax)\n",
    "    locs, labels = plt.xticks()\n",
    "    plt.setp(labels,rotation=0) \n",
    "    plt.show()"
   ]
  },
  {
   "cell_type": "code",
   "execution_count": 24,
   "metadata": {},
   "outputs": [
    {
     "data": {
      "image/png": "[encoded data removed]",
      "text/plain": [
       "<matplotlib.figure.Figure at 0x11e714ac8>"
      ]
     },
     "metadata": {},
     "output_type": "display_data"
    }
   ],
   "source": [
    "bar_plot('Titanic passengers per travel classes', passengers.groupby('pclass').size(), len(passengers.groupby('pclass')))    "
   ]
  },
  {
   "cell_type": "markdown",
   "metadata": {},
   "source": [
    "This bar chart tells us that the passengers in class 3 are almost equal to the numbers of passengers travelling in classes 1 and 2 combined.\n",
    "\n",
    "Now, let's plot a bar chart of the number of passengers having embarked in the diferents ports :"
   ]
  },
  {
   "cell_type": "code",
   "execution_count": 25,
   "metadata": {},
   "outputs": [
    {
     "data": {
      "image/png": "[encoded data removed]",
      "text/plain": [
       "<matplotlib.figure.Figure at 0x11e66af28>"
      ]
     },
     "metadata": {},
     "output_type": "display_data"
    }
   ],
   "source": [
    "bar_plot('Passengers embarked per ports', passengers.groupby('embarked').size(), len(passengers.groupby('embarked')))    "
   ]
  },
  {
   "cell_type": "markdown",
   "metadata": {},
   "source": [
    "We can clearly see in this bar char that a large portion of the passengers have embarked from the port of Southhampton.\n"
   ]
  },
  {
   "cell_type": "code",
   "execution_count": 26,
   "metadata": {},
   "outputs": [
    {
     "data": {
      "image/png": "[encoded data removed]",
      "text/plain": [
       "<matplotlib.figure.Figure at 0x11e6a2668>"
      ]
     },
     "metadata": {},
     "output_type": "display_data"
    }
   ],
   "source": [
    "bar_plot('passengers gender', passengers.groupby('sex').size(), len(passengers.groupby('sex')))"
   ]
  },
  {
   "cell_type": "markdown",
   "metadata": {},
   "source": [
    "The major portion of the passergers of the Titanic where men. We could see it even more clearer in a stacked bar chart."
   ]
  },
  {
   "cell_type": "code",
   "execution_count": 40,
   "metadata": {},
   "outputs": [
    {
     "data": {
      "image/png": "[encoded data removed]",
      "text/plain": [
       "<matplotlib.figure.Figure at 0x11e6e6b38>"
      ]
     },
     "metadata": {},
     "output_type": "display_data"
    }
   ],
   "source": [
    "passengers.loc[passengers['age']<1,'age'] = None\n",
    "\n",
    "passengers.age.hist(bins=40)\n",
    "plt.xlabel(\"Age\")\n",
    "plt.ylabel(\"Number of Person\")\n",
    "plt.title(\"Histogram of Passenger Age\");\n",
    "plt.show()"
   ]
  },
  {
   "cell_type": "markdown",
   "metadata": {},
   "source": [
    "We choose bins=40 because we can see from the describtion of the dataframe that the age max is 80 years old, so the discret intervals will perfectily fit to the edge of the histogram.\n",
    "\n",
    "This histogram have an almost normal distribution. The earlier statistics show that median is 28 year old, and mean is 30 year old. You can also tell that the distribution is normal when you have similar median and mean.\n",
    "\n",
    "Overall the plot tells us that the passengers' age is distributed around mid-end 20's."
   ]
  },
  {
   "cell_type": "markdown",
   "metadata": {},
   "source": [
    "* **Calculate the proportion of passengers by cabin floor. Present your results in a pie chart.**"
   ]
  },
  {
   "cell_type": "code",
   "execution_count": 42,
   "metadata": {
    "collapsed": true
   },
   "outputs": [],
   "source": [
    "def string_to_floor(x):\n",
    "    #We keep just the last letter of the cabin the avoid the exception (e.g. for F G63 we just keep G)\n",
    "    x=re.sub('[^a-zA-Z]+', '',x)\n",
    "    x=x[-1]\n",
    "    \n",
    "    floor_list=['A','B','C','D','E','F','G']\n",
    "    \n",
    "    #If x does not belong to the floor list, we return None\n",
    "    if (x in  floor_list):\n",
    "        return x\n",
    "    else:\n",
    "        return None"
   ]
  },
  {
   "cell_type": "code",
   "execution_count": 43,
   "metadata": {
    "collapsed": true
   },
   "outputs": [],
   "source": [
    "passengers.cabin = passengers.cabin.fillna('Unknown')\n",
    "passengers.floor = passengers.cabin.apply(lambda x : string_to_floor(x))\n",
    "passengers.floor = passengers.floor.astype('category')"
   ]
  },
  {
   "cell_type": "code",
   "execution_count": 46,
   "metadata": {},
   "outputs": [
    {
     "data": {
      "image/png": "[encoded data removed]",
      "text/plain": [
       "<matplotlib.figure.Figure at 0x11f0912e8>"
      ]
     },
     "metadata": {},
     "output_type": "display_data"
    }
   ],
   "source": [
    "explode = [0.1]*7\n",
    "labels = passengers.floor.value_counts().sort_index().index.categories\n",
    "\n",
    "fig1, ax1 = plt.subplots()\n",
    "ax1.pie(passengers.floor.value_counts().sort_index(), \n",
    "        explode=explode,\n",
    "        labels=labels, \n",
    "        autopct='%1.1f%%',\n",
    "        shadow=True, startangle=180,counterclock=False)\n",
    "\n",
    "plt.show()"
   ]
  },
  {
   "cell_type": "markdown",
   "metadata": {},
   "source": [
    "* **For each travel class, calculate the proportion of the passengers that survived. Present your results in pie charts.**"
   ]
  },
  {
   "cell_type": "code",
   "execution_count": 47,
   "metadata": {},
   "outputs": [
    {
     "data": {
      "text/html": [
       "<div>\n",
       "<style>\n",
       "    .dataframe thead tr:only-child th {\n",
       "        text-align: right;\n",
       "    }\n",
       "\n",
       "    .dataframe thead th {\n",
       "        text-align: left;\n",
       "    }\n",
       "\n",
       "    .dataframe tbody tr th {\n",
       "        vertical-align: top;\n",
       "    }\n",
       "</style>\n",
       "<table border=\"1\" class=\"dataframe\">\n",
       "  <thead>\n",
       "    <tr style=\"text-align: right;\">\n",
       "      <th>pclass</th>\n",
       "      <th>1</th>\n",
       "      <th>2</th>\n",
       "      <th>3</th>\n",
       "    </tr>\n",
       "  </thead>\n",
       "  <tbody>\n",
       "    <tr>\n",
       "      <th>survived</th>\n",
       "      <td>0.619195</td>\n",
       "      <td>0.429603</td>\n",
       "      <td>0.255289</td>\n",
       "    </tr>\n",
       "    <tr>\n",
       "      <th>died</th>\n",
       "      <td>0.380805</td>\n",
       "      <td>0.570397</td>\n",
       "      <td>0.744711</td>\n",
       "    </tr>\n",
       "  </tbody>\n",
       "</table>\n",
       "</div>"
      ],
      "text/plain": [
       "pclass           1         2         3\n",
       "survived  0.619195  0.429603  0.255289\n",
       "died      0.380805  0.570397  0.744711"
      ]
     },
     "execution_count": 47,
     "metadata": {},
     "output_type": "execute_result"
    }
   ],
   "source": [
    "survivors_by_class = passengers[['pclass','survived']].groupby(['pclass']).mean()\n",
    "\n",
    "survivors_by_class['died']= 1-survivors_by_class['survived']\n",
    "#survivors_by_class.pivot_table(survivors_by_class,['survived','died'],'pclass')\n",
    "survivors_by_class = survivors_by_class.transpose()\n",
    "survivors_by_class"
   ]
  },
  {
   "cell_type": "code",
   "execution_count": 48,
   "metadata": {},
   "outputs": [
    {
     "data": {
      "image/png": "[encoded data removed]",
      "text/plain": [
       "<matplotlib.figure.Figure at 0x11f1ea780>"
      ]
     },
     "metadata": {},
     "output_type": "display_data"
    }
   ],
   "source": [
    "f, axes = plt.subplots(1,3, figsize=(15,5))\n",
    "for ax, col in zip(axes, survivors_by_class.columns):\n",
    "    survivors_by_class[col].plot(kind='pie',explode = (0, 0.1),startangle=90, shadow = True,autopct = '%1.1f%%',title=str(col)+\"° class\",  ax=ax, fontsize=10)\n",
    "f.suptitle('Proportion of passengers that surived per travel class', fontsize=16)\n",
    "plt.show()"
   ]
  },
  {
   "cell_type": "markdown",
   "metadata": {},
   "source": [
    "Calculate the proportion of the passengers that survived by travel class and sex. Present your results in a single histogram."
   ]
  },
  {
   "cell_type": "code",
   "execution_count": 49,
   "metadata": {},
   "outputs": [
    {
     "data": {
      "text/html": [
       "<div>\n",
       "<style>\n",
       "    .dataframe thead tr:only-child th {\n",
       "        text-align: right;\n",
       "    }\n",
       "\n",
       "    .dataframe thead th {\n",
       "        text-align: left;\n",
       "    }\n",
       "\n",
       "    .dataframe tbody tr th {\n",
       "        vertical-align: top;\n",
       "    }\n",
       "</style>\n",
       "<table border=\"1\" class=\"dataframe\">\n",
       "  <thead>\n",
       "    <tr style=\"text-align: right;\">\n",
       "      <th></th>\n",
       "      <th>pclass</th>\n",
       "      <th>sex</th>\n",
       "      <th>survived</th>\n",
       "    </tr>\n",
       "  </thead>\n",
       "  <tbody>\n",
       "    <tr>\n",
       "      <th>0</th>\n",
       "      <td>1</td>\n",
       "      <td>female</td>\n",
       "      <td>96.527778</td>\n",
       "    </tr>\n",
       "    <tr>\n",
       "      <th>1</th>\n",
       "      <td>1</td>\n",
       "      <td>male</td>\n",
       "      <td>34.078212</td>\n",
       "    </tr>\n",
       "    <tr>\n",
       "      <th>2</th>\n",
       "      <td>2</td>\n",
       "      <td>female</td>\n",
       "      <td>88.679245</td>\n",
       "    </tr>\n",
       "    <tr>\n",
       "      <th>3</th>\n",
       "      <td>2</td>\n",
       "      <td>male</td>\n",
       "      <td>14.619883</td>\n",
       "    </tr>\n",
       "    <tr>\n",
       "      <th>4</th>\n",
       "      <td>3</td>\n",
       "      <td>female</td>\n",
       "      <td>49.074074</td>\n",
       "    </tr>\n",
       "    <tr>\n",
       "      <th>5</th>\n",
       "      <td>3</td>\n",
       "      <td>male</td>\n",
       "      <td>15.212982</td>\n",
       "    </tr>\n",
       "  </tbody>\n",
       "</table>\n",
       "</div>"
      ],
      "text/plain": [
       "  pclass     sex   survived\n",
       "0      1  female  96.527778\n",
       "1      1    male  34.078212\n",
       "2      2  female  88.679245\n",
       "3      2    male  14.619883\n",
       "4      3  female  49.074074\n",
       "5      3    male  15.212982"
      ]
     },
     "execution_count": 49,
     "metadata": {},
     "output_type": "execute_result"
    }
   ],
   "source": [
    "survivor_by_travel_and_sex = passengers[['pclass','sex','survived']].groupby(['pclass','sex']).mean().reset_index()\n",
    "survivor_by_travel_and_sex['survived'] = survivor_by_travel_and_sex['survived']*100\n",
    "survivor_by_travel_and_sex"
   ]
  },
  {
   "cell_type": "code",
   "execution_count": 51,
   "metadata": {},
   "outputs": [
    {
     "data": {
      "image/png": "[encoded data removed]",
      "text/plain": [
       "<matplotlib.figure.Figure at 0x11ef064e0>"
      ]
     },
     "metadata": {},
     "output_type": "display_data"
    }
   ],
   "source": [
    "sns.barplot(x=\"pclass\", y=\"survived\", hue=\"sex\", data=survivor_by_travel_and_sex);\n",
    "plt.suptitle('proportion of the passengers that survived by travel class and sex', fontsize=16)\n",
    "plt.show()"
   ]
  },
  {
   "cell_type": "markdown",
   "metadata": {},
   "source": [
    "* Create 2 equally populated age categories and calculate survival proportions by age category, travel class and sex. Present your results in a DataFrame with unique index"
   ]
  },
  {
   "cell_type": "code",
   "execution_count": 52,
   "metadata": {
    "collapsed": true
   },
   "outputs": [],
   "source": [
    "median_age=passengers.age.median()\n",
    "\n",
    "def old_or_young(age,median_age):\n",
    "    if age <median_age:\n",
    "        return 'young'\n",
    "    elif  age >= median_age:\n",
    "        return 'old'\n",
    "    else:\n",
    "        return None\n",
    "\n",
    "\n",
    "passengers['age_category']= passengers.age.apply(lambda x : old_or_young(x,median_age))\n",
    "passengers.age_category  = passengers.age_category.astype('category')"
   ]
  },
  {
   "cell_type": "code",
   "execution_count": 53,
   "metadata": {},
   "outputs": [
    {
     "data": {
      "text/html": [
       "<div>\n",
       "<style>\n",
       "    .dataframe thead tr:only-child th {\n",
       "        text-align: right;\n",
       "    }\n",
       "\n",
       "    .dataframe thead th {\n",
       "        text-align: left;\n",
       "    }\n",
       "\n",
       "    .dataframe tbody tr th {\n",
       "        vertical-align: top;\n",
       "    }\n",
       "</style>\n",
       "<table border=\"1\" class=\"dataframe\">\n",
       "  <thead>\n",
       "    <tr style=\"text-align: right;\">\n",
       "      <th></th>\n",
       "      <th>pclass</th>\n",
       "      <th>age_category</th>\n",
       "      <th>sex</th>\n",
       "      <th>survived</th>\n",
       "    </tr>\n",
       "  </thead>\n",
       "  <tbody>\n",
       "    <tr>\n",
       "      <th>0</th>\n",
       "      <td>1</td>\n",
       "      <td>old</td>\n",
       "      <td>female</td>\n",
       "      <td>96.774194</td>\n",
       "    </tr>\n",
       "    <tr>\n",
       "      <th>1</th>\n",
       "      <td>1</td>\n",
       "      <td>old</td>\n",
       "      <td>male</td>\n",
       "      <td>30.894309</td>\n",
       "    </tr>\n",
       "    <tr>\n",
       "      <th>2</th>\n",
       "      <td>1</td>\n",
       "      <td>young</td>\n",
       "      <td>female</td>\n",
       "      <td>95.000000</td>\n",
       "    </tr>\n",
       "    <tr>\n",
       "      <th>3</th>\n",
       "      <td>1</td>\n",
       "      <td>young</td>\n",
       "      <td>male</td>\n",
       "      <td>51.851852</td>\n",
       "    </tr>\n",
       "    <tr>\n",
       "      <th>4</th>\n",
       "      <td>2</td>\n",
       "      <td>old</td>\n",
       "      <td>female</td>\n",
       "      <td>88.461538</td>\n",
       "    </tr>\n",
       "    <tr>\n",
       "      <th>5</th>\n",
       "      <td>2</td>\n",
       "      <td>old</td>\n",
       "      <td>male</td>\n",
       "      <td>7.777778</td>\n",
       "    </tr>\n",
       "    <tr>\n",
       "      <th>6</th>\n",
       "      <td>2</td>\n",
       "      <td>young</td>\n",
       "      <td>female</td>\n",
       "      <td>90.000000</td>\n",
       "    </tr>\n",
       "    <tr>\n",
       "      <th>7</th>\n",
       "      <td>2</td>\n",
       "      <td>young</td>\n",
       "      <td>male</td>\n",
       "      <td>20.000000</td>\n",
       "    </tr>\n",
       "    <tr>\n",
       "      <th>8</th>\n",
       "      <td>3</td>\n",
       "      <td>old</td>\n",
       "      <td>female</td>\n",
       "      <td>34.782609</td>\n",
       "    </tr>\n",
       "    <tr>\n",
       "      <th>9</th>\n",
       "      <td>3</td>\n",
       "      <td>old</td>\n",
       "      <td>male</td>\n",
       "      <td>13.043478</td>\n",
       "    </tr>\n",
       "    <tr>\n",
       "      <th>10</th>\n",
       "      <td>3</td>\n",
       "      <td>young</td>\n",
       "      <td>female</td>\n",
       "      <td>51.456311</td>\n",
       "    </tr>\n",
       "    <tr>\n",
       "      <th>11</th>\n",
       "      <td>3</td>\n",
       "      <td>young</td>\n",
       "      <td>male</td>\n",
       "      <td>18.840580</td>\n",
       "    </tr>\n",
       "  </tbody>\n",
       "</table>\n",
       "</div>"
      ],
      "text/plain": [
       "   pclass age_category     sex   survived\n",
       "0       1          old  female  96.774194\n",
       "1       1          old    male  30.894309\n",
       "2       1        young  female  95.000000\n",
       "3       1        young    male  51.851852\n",
       "4       2          old  female  88.461538\n",
       "5       2          old    male   7.777778\n",
       "6       2        young  female  90.000000\n",
       "7       2        young    male  20.000000\n",
       "8       3          old  female  34.782609\n",
       "9       3          old    male  13.043478\n",
       "10      3        young  female  51.456311\n",
       "11      3        young    male  18.840580"
      ]
     },
     "execution_count": 53,
     "metadata": {},
     "output_type": "execute_result"
    }
   ],
   "source": [
    "survivor_by_travel_and_sex_and_age = passengers[['pclass','age_category','sex','survived']].groupby(['pclass','age_category','sex']).mean().reset_index()\n",
    "survivor_by_travel_and_sex_and_age['survived'] = survivor_by_travel_and_sex_and_age['survived']*100\n",
    "survivor_by_travel_and_sex_and_age"
   ]
  },
  {
   "cell_type": "code",
   "execution_count": 63,
   "metadata": {},
   "outputs": [
    {
     "data": {
      "image/png": "[encoded data removed]",
      "text/plain": [
       "<matplotlib.figure.Figure at 0x11ea8b9e8>"
      ]
     },
     "metadata": {},
     "output_type": "display_data"
    }
   ],
   "source": [
    "sns.factorplot(x=\"pclass\", y=\"survived\", hue=\"sex\",col=\"age_category\",kind='bar', data=survivor_by_travel_and_sex_and_age);\n",
    "plt.suptitle('Survival proportions by age category, travel class and sex', fontsize=10)\n",
    "plt.show()"
   ]
  },
  {
   "cell_type": "code",
   "execution_count": 64,
   "metadata": {},
   "outputs": [
    {
     "data": {
      "text/plain": [
       "True"
      ]
     },
     "execution_count": 64,
     "metadata": {},
     "output_type": "execute_result"
    }
   ],
   "source": [
    "survivor_by_travel_and_sex_and_age.index.is_unique"
   ]
  },
  {
   "cell_type": "markdown",
   "metadata": {},
   "source": [
    "his index is "
   ]
  }
 ],
 "metadata": {
  "kernelspec": {
   "display_name": "Python 3",
   "language": "python",
   "name": "python3"
  },
  "language_info": {
   "codemirror_mode": {
    "name": "ipython",
    "version": 3
   },
   "file_extension": ".py",
   "mimetype": "text/x-python",
   "name": "python",
   "nbconvert_exporter": "python",
   "pygments_lexer": "ipython3",
   "version": "3.6.1"
  }
 },
 "nbformat": 4,
 "nbformat_minor": 2
}
