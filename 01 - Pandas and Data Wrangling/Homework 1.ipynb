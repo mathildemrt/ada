{
 "cells": [
  {
   "cell_type": "markdown",
   "metadata": {},
   "source": [
    "# Table of Contents\n",
    " <p><div class=\"lev1\"><a href=\"#Task-1.-Compiling-Ebola-Data\"><span class=\"toc-item-num\">Task 1.&nbsp;&nbsp;</span>Compiling Ebola Data</a></div>\n",
    " <div class=\"lev1\"><a href=\"#Task-2.-RNA-Sequences\"><span class=\"toc-item-num\">Task 2.&nbsp;&nbsp;</span>RNA Sequences</a></div>\n",
    " <div class=\"lev1\"><a href=\"#Task-3.-Class-War-in-Titanic\"><span class=\"toc-item-num\">Task 3.&nbsp;&nbsp;</span>Class War in Titanic</a></div></p>"
   ]
  },
  {
   "cell_type": "code",
<<<<<<< HEAD
   "execution_count": 1,
=======
   "execution_count": 94,
>>>>>>> 5b8da627f3dde85c6b0a7a12d0b5e00d03bdfe9b
   "metadata": {},
   "outputs": [],
   "source": [
    "#DATA_FOLDER = '../../02 - Intro to Pandas/Data' # Use the data folder provided in Tutorial 02 - Intro to Pandas.\n",
    "DATA_FOLDER = '../../ADA2017-Tutorials/02 - Intro to Pandas/Data' # Use the data folder provided in Tutorial 02 - Intro to Pandas."
   ]
  },
  {
   "cell_type": "code",
   "execution_count": 95,
   "metadata": {},
   "outputs": [],
   "source": [
    "#all imports\n",
    "import seaborn as sns\n",
    "import pandas as pd\n",
    "import os\n",
    "import glob\n",
    "import numpy as np\n",
    "import re\n",
    "import matplotlib.pyplot as plt\n",
    "pd.options.mode.chained_assignment = None  #"
   ]
  },
  {
   "cell_type": "markdown",
   "metadata": {},
   "source": [
    "## Task 1. Compiling Ebola Data\n",
    "\n",
    "The `DATA_FOLDER/ebola` folder contains summarized reports of Ebola cases from three countries (Guinea, Liberia and Sierra Leone) during the recent outbreak of the disease in West Africa. For each country, there are daily reports that contain various information about the outbreak in several cities in each country.\n",
    "\n",
    "Use pandas to import these data files into a single `Dataframe`.\n",
    "Using this `DataFrame`, calculate for *each country*, the *daily average per month* of *new cases* and *deaths*.\n",
    "Make sure you handle all the different expressions for *new cases* and *deaths* that are used in the reports."
   ]
  },
  {
   "cell_type": "markdown",
   "metadata": {},
   "source": [
    "\n",
    "## Find the number of new deaths :\n",
    "\n",
    "\n",
    "Each `csv` is red and transformed in dataframe called `df`.\n",
    "\n",
    "To obtain the number of new deaths reported in this dataframe, we created a function `find_new_death` which takes as \n",
    "\n",
    "`Input`:\n",
    "\n",
    " - `df` the dataframe \n",
    " \n",
    " - `list_` the list of the previous dataframe\n",
    " \n",
    " - `country` the country name of the corresponding dataframe\n",
    " \n",
    "`Output`:\n",
    "\n",
    " - `df` the dataframe after some transformations\n",
    " \n",
    " - `new_death` the number of new deaths\n",
    " \n",
    "<br/>\n",
    " \n",
    " \n",
    "As for each country the data were reported under different name, we find the number a new deaths in a different way dependending on the country name:\n",
    " \n",
    "- ### Liberia ( `liberia` ):\n",
    "\n",
    " We took the number of new deaths as the `Totals` *value* of the `Variable` *Newly reported deaths*.  And we took care that this number was an `int`.\n",
    " \n",
    "- ### Guinea ( `guinea` ):\n",
    "\n",
    " We took the number of new deaths as the `Totals` value of the `Variable` *New deaths registered*.  And we took care that this number was an `int`.\n",
    "\n",
    " As sometimes the `Variable` name was *New deaths registered today* and not *New deaths registered*. We first renamed the `Variable` name in the same way: *New deaths registered*\n",
    " \n",
    "- ### Sierra Leone ( `sl` ):\n",
    "\n",
    " We took the number of new deaths as the sum of the `Totals` value of the `Variable` *death_suspected*, *death_probable*, *death_confirmed*.  And we took care that this number was an `int`.\n",
    " \n",
    " As for this country it was a cumulative number, we substracted the previous cumulative value of new deaths, (obtained from the the previous data frame saved in `list_` :  `list_[-1]`). For the first dataframe of Sierra Leone we choose to set the value of new death to 24, corresponding to the average value of August 2014. In this way it has no impact in the computation of the daily average per month. \n",
    " \n",
    " For the files with `NaN` value of new deaths the function return `new_death`= `NaN` \n",
    " \n",
    " \n",
    " "
   ]
  },
  {
   "cell_type": "code",
<<<<<<< HEAD
   "execution_count": 3,
=======
   "execution_count": 96,
>>>>>>> 5b8da627f3dde85c6b0a7a12d0b5e00d03bdfe9b
   "metadata": {},
   "outputs": [],
   "source": [
    "def find_new_death(df,list_, country):\n",
    "    if country=='liberia':\n",
    " \n",
    "        #NEW DEATH \n",
    "        new_death=int(df.loc[df['Variable'] == 'Newly reported deaths']['Totals'].values[0])\n",
    "            \n",
    "            \n",
    "    elif country=='guinea':\n",
    "        \n",
    "        df['Variable']=df['Variable'].replace(['New deaths registered today'], 'New deaths registered')\n",
    "            \n",
    "        #NEW DEATH\n",
    "        new_death=int(df.loc[df['Variable'] == 'New deaths registered']['Totals'].values[0])\n",
    "            \n",
    "            \n",
    "    elif country=='sl':\n",
    "           \n",
    "        #NEW DEATH\n",
    "        new_death=int((df.loc[df['Variable'] == 'death_suspected']['Totals'].values)[0])+int((df.loc[df['Variable'] == 'death_probable']['Totals'].values)[0])+int((df.loc[df['Variable'] == 'death_confirmed']['Totals'].values)[0])\n",
    "            \n",
    "            \n",
    "        if new_death!=0:\n",
    "\n",
    "            if list_==[]:\n",
    "\n",
    "                new_death==24  # average of August 2014 \n",
    "                    \n",
    "            else:\n",
    "\n",
    "                old_df=list_[-1]  # olf_dataframe\n",
    "                previous_death= int((old_df.loc[old_df['Variable'] == 'death_suspected']['Totals'].values)[0])+int((old_df.loc[old_df['Variable'] == 'death_probable']['Totals'].values)[0])+int((old_df.loc[old_df['Variable'] == 'death_confirmed']['Totals'].values)[0])\n",
    "            \n",
    "                new_death-=previous_death \n",
    "                    \n",
    "        else:\n",
    "            new_death=None\n",
    "    \n",
    "    \n",
    "    return df,new_death\n",
    "\n"
   ]
  },
  {
   "cell_type": "markdown",
   "metadata": {},
   "source": [
    "## Find the number of new cases :\n",
    "\n",
    "\n",
    "Each `csv` is red and transformed in dataframe called `df`.\n",
    "\n",
    "As for the number of new deaths, to obtain the number of new deaths reported in this dataframe, we created a function `find_new_death` which take as \n",
    "\n",
    "`Input`:\n",
    "\n",
    " - `df` the dataframe \n",
    " \n",
    " - `list_` the list of the previous dataframe\n",
    " \n",
    " - `country` the country name of the corresponding dataframe\n",
    " \n",
    "`Output`:\n",
    "\n",
    " - `df` the dataframe after some transformations\n",
    " \n",
    " - `new_cases` the number of new cases\n",
    " \n",
    "<br/>\n",
    " \n",
    " \n",
    "As for the number of new deaths, we found the number of new deaths in a differerent way for each country:\n",
    " \n",
    "- ### Liberia ( `liberia` ):\n",
    "\n",
    " We took the number of new cases as the sum of the `Totals` value of the `Variable` *New Case/s (Suspected)*, *New Case/s (Probable)*, *'New case/s (confirmed)*. And we took care that this number was an `int`.\n",
    " \n",
    " We noticed that for some file we had as `Totals` value of the `Variable` *New Case/s (Suspected)* the cumulative value corresponding to the `Variable` *Total suspected cases*. So when the `Totals` value of the `Variable` *New Case/s (Suspected)* was greater than 1000 (really unlikely compared to the others data) we set this value to the `Variable` *Total suspected cases*. And we set the ` Totals` value of the `Variable` *New Case/s (Suspected)* to 0. \n",
    " \n",
    " Then when `Totals` value of the `Variable` *New Case/s (Suspected)* was equal to 0, we recalculated this value as the difference between the  `Totals` value of the  `Variable` *Total suspected cases* of this dataframe and the one of the previous dataframe ( `previous_df =list_[-1]` ). In this way we obtained the correct value of *New Case/s (Suspected)*  for the dataframe for which we set it to 0 (when *New Case/s (Suspected)* was greater than 1000) but also for the dataframe where this value was missing.\n",
    " \n",
    " We did the same for *New Case/s (Probable)* and *New case/s (confirmed)*\n",
    " \n",
    "\n",
    "- ### Guinea ( `guinea` ):\n",
    "\n",
    " We took the number of new cases as the sum of the `Totals` value of the `Variable` *New cases of suspects*, *New cases of probables*, *New cases of confirmed*.  And we took care that this number was an `int`.\n",
    "\n",
    "\n",
    "- ### Sierra Leone ( `sl` ):\n",
    "\n",
    " We took the number of new deaths as the sum of the `Totals` value of the `Variable` *new_suspected'*, *new_probable*, *new_confirmed*.  And we took care that this number was an `int`.\n",
    "\n"
   ]
  },
  {
   "cell_type": "code",
<<<<<<< HEAD
   "execution_count": 4,
=======
   "execution_count": 97,
>>>>>>> 5b8da627f3dde85c6b0a7a12d0b5e00d03bdfe9b
   "metadata": {},
   "outputs": [],
   "source": [
    "def find_new_cases(df,list_, country):\n",
    "\n",
    "    \n",
    "    if country=='liberia':\n",
    "            \n",
    "        #NEW CASES\n",
    "        \n",
    "        # if New Case/s (Suspected) >1000 -> reset those Value to 'Total suspected cases'\n",
    "        # we aplly this also to probable and confirmed case\n",
    "        if int((df.loc[df['Variable'] == 'New Case/s (Suspected)']['Totals'].values)[0])>1000:\n",
    "                \n",
    "            ns= int((df.loc[df['Variable'] == 'New Case/s (Suspected)']['Totals'].values)[0])\n",
    "            df.Totals[df.index[df['Variable'] == 'Total suspected cases'][0]]=ns\n",
    "            df.Totals[df.index[df['Variable'] == 'New Case/s (Suspected)'][0]]=0\n",
    "                \n",
    "            np= int((df.loc[df['Variable'] == 'New Case/s (Probable)']['Totals'].values)[0])\n",
    "            df.Totals[df.index[df['Variable'] == 'Total probable cases'][0]]=np\n",
    "            df.Totals[df.index[df['Variable'] == 'New Case/s (Probable)'][0]]=0\n",
    "                \n",
    "            nc= int((df.loc[df['Variable'] == 'New case/s (confirmed)']['Totals'].values)[0])\n",
    "            df.Totals[df.index[df['Variable'] == 'Total confirmed cases'][0]]=nc\n",
    "            df.Totals[df.index[df['Variable'] == 'New case/s (confirmed)'][0]]=0\n",
    "             \n",
    "        if int((df.loc[df['Variable'] == 'New Case/s (Suspected)']['Totals'].values)[0])==0:\n",
    "            old_df=list_[-1]\n",
    "                \n",
    "            ts= int((df.loc[df['Variable'] == 'Total suspected cases']['Totals'].values)[0])\n",
    "            old_ts= int((old_df.loc[old_df['Variable'] == 'Total suspected cases']['Totals'].values)[0])\n",
    "            df.Totals[df.index[df['Variable'] == 'New Case/s (Suspected)'][0]]=ts-old_ts\n",
    "    \n",
    "                \n",
    "            tp= int((df.loc[df['Variable'] == 'Total probable cases']['Totals'].values)[0])\n",
    "            old_tp= int((old_df.loc[old_df['Variable'] == 'Total probable cases']['Totals'].values)[0])\n",
    "            df.Totals[df.index[df['Variable'] == 'New Case/s (Probable)'][0]]=tp-old_tp\n",
    "                \n",
    "            tc= int((df.loc[df['Variable'] == 'Total confirmed cases']['Totals'].values)[0])\n",
    "            old_tc= int((old_df.loc[old_df['Variable'] == 'Total confirmed cases']['Totals'].values)[0])\n",
    "            df.Totals[df.index[df['Variable'] == 'New case/s (confirmed)'][0]]=tc-old_tc\n",
    "                \n",
    "                \n",
    "            \n",
    "        new_cases=int((df.loc[df['Variable'] == 'New Case/s (Suspected)']['Totals'].values)[0])+int((df.loc[df['Variable'] == 'New Case/s (Probable)']['Totals'].values)[0])+int((df.loc[df['Variable'] == 'New case/s (confirmed)']['Totals'].values)[0])\n",
    "            \n",
    "            \n",
    "\n",
    "    elif country=='guinea':\n",
    "     \n",
    "        \n",
    "        #NEW CASES\n",
    "        new_cases= int(df.loc[df['Variable'] == 'New cases of suspects']['Totals'].values[0])+int(df.loc[df['Variable'] == 'New cases of probables']['Totals'].values[0])+int(df.loc[df['Variable'] == 'New cases of confirmed']['Totals'].values[0])\n",
    "            \n",
    "            \n",
    "           \n",
    "    elif country=='sl':\n",
    "   \n",
    "        #NEW CASES\n",
    "        new_cases=int((df.loc[df['Variable'] == 'new_suspected']['Totals'].values)[0])+int((df.loc[df['Variable'] == 'new_probable']['Totals'].values)[0])+int((df.loc[df['Variable'] == 'new_confirmed']['Totals'].values)[0])\n",
    "        \n",
    "\n",
    "    \n",
    "    \n",
    "    return df,new_cases"
   ]
  },
  {
   "cell_type": "markdown",
   "metadata": {},
   "source": [
    "## Create a new DataFrame\n",
    "\n",
    "path to the folder ebola:"
   ]
  },
  {
   "cell_type": "code",
<<<<<<< HEAD
   "execution_count": 5,
=======
   "execution_count": 98,
>>>>>>> 5b8da627f3dde85c6b0a7a12d0b5e00d03bdfe9b
   "metadata": {},
   "outputs": [],
   "source": [
    "path=DATA_FOLDER+'/ebola/'"
   ]
  },
  {
   "cell_type": "markdown",
   "metadata": {},
   "source": [
    "Read the name of the different folder, and keep those whose ending with data, in a `list` called *country_dir*:"
   ]
  },
  {
   "cell_type": "code",
<<<<<<< HEAD
   "execution_count": 6,
=======
   "execution_count": 99,
>>>>>>> 5b8da627f3dde85c6b0a7a12d0b5e00d03bdfe9b
   "metadata": {},
   "outputs": [],
   "source": [
    "#read the name of different folder, and keep those whose end with data\n",
    "list_dir=np.copy(os.listdir(path))\n",
    "country_dir=list_dir[[name.endswith('data') for name in list_dir]]"
   ]
  },
  {
   "cell_type": "markdown",
   "metadata": {},
   "source": [
    "For each country folder, all the `cvs` files names are read using `glob`, and the corresponding path is saved in `cvsFiles`. Then each `cvs` is red and transformed in a dataframe `df` . We renamed the columns index in the same way : `Variable` (and not `Description` etc...), `Date`, `Totals` ...\n",
    "\n",
    "Then we computed the number of `new_cases` and `new_death` using the function `find_new_cases` and  `find_new_death`. and if those number were not `NaN` then we created a new dataframe `df_cleaned`, which has for attribute `Date`,`Month`, `newdeaths`, `newdeaths`.\n",
    "\n",
    "For each country all those new datframes are concatenate in a `country frame`,the daily average per month is computed using the function `DataFrameresample('M').mean()`, and the name of the country is added as an attribute of `country frame`\n",
    "\n",
    "Finally all the country frame are concatenated to obtain the `country frame`."
   ]
  },
  {
   "cell_type": "code",
<<<<<<< HEAD
   "execution_count": 7,
=======
   "execution_count": 100,
>>>>>>> 5b8da627f3dde85c6b0a7a12d0b5e00d03bdfe9b
   "metadata": {},
   "outputs": [],
   "source": [
    "\n",
    "#list to store the data-frame of each coutry\n",
    "final_list=[]\n",
    "\n",
    "for country_name in country_dir:\n",
    "    \n",
    "    #country is the name of the folder without data\n",
    "    country=country_name.replace('_data', '')\n",
    "   \n",
    "    csvFiles = glob.glob( path+country_name+'/' \"/*.csv\")\n",
    "    \n",
    "    \n",
    "    list_ = []  #list cointaining each dataframe of a folder\n",
    "    list_cleaned=[]   #list cointaining each new dataframe of a folder\n",
    "\n",
    "    for files in csvFiles:\n",
    "        \n",
    "        df = pd.read_csv(files)\n",
    "\n",
    "        #to have the same columns name\n",
    "        df=df.rename(index=str, columns={\"Description\": \"Variable\", \n",
    "                                         \"date\": \"Date\",\n",
    "                                         \"variable\": \"Variable\", \n",
    "                                         \"National\":\"Totals\"})  \n",
    "        \n",
    "        df=df.fillna(0)\n",
    "        \n",
    "        df,new_death=find_new_death(df,list_, country)\n",
    "    \n",
    "        df,new_cases=find_new_cases(df,list_, country)\n",
    "           \n",
    "\n",
    "        if (new_death!=None and new_cases!=None):\n",
    "            #Create a new DataFrame\n",
    "            df_cleaned=pd.DataFrame({\n",
    "                    'Date':pd.to_datetime([df.Date[0]]),\n",
    "                    'Month': pd.to_datetime([df.Date[0]]).month,\n",
    "                    'newdeaths': new_death, \n",
    "                    'newcases': new_cases })\n",
    "            \n",
    "        \n",
    "            list_.append(df)\n",
    "            list_cleaned.append(df_cleaned)\n",
    "            \n",
    "    \n",
    "    #create country_frame\n",
    "    country_frame= pd.concat(list_cleaned)\n",
    "    \n",
    "    #Compute the daily average per month\n",
    "    country_frame=country_frame.set_index(['Date'])\n",
    "    country_frame.index = pd.to_datetime(country_frame.index)\n",
    "    country_frame=country_frame.resample('M').mean()\n",
    "    \n",
    "    #country name as an attribute\n",
    "    country_frame['Country']=country\n",
    "    #country_frame.reset_index()\n",
    "    \n",
    "    final_list.append(country_frame)\n",
    "\n",
    "\n",
    "#Create the final data frame\n",
    "finalframe=pd.concat(final_list)\n",
    "\n",
    "finalframe=finalframe.reset_index()\n",
    "finalframe.drop('Date', axis=1, inplace=True)"
   ]
  },
  {
   "cell_type": "markdown",
   "metadata": {},
   "source": [
    "### for *each country*, the *daily average per month* of *new cases* and *deaths*: "
   ]
  },
  {
   "cell_type": "code",
   "execution_count": 101,
   "metadata": {},
   "outputs": [
    {
     "data": {
      "text/html": [
       "<div>\n",
       "<style>\n",
       "    .dataframe thead tr:only-child th {\n",
       "        text-align: right;\n",
       "    }\n",
       "\n",
       "    .dataframe thead th {\n",
       "        text-align: left;\n",
       "    }\n",
       "\n",
       "    .dataframe tbody tr th {\n",
       "        vertical-align: top;\n",
       "    }\n",
       "</style>\n",
       "<table border=\"1\" class=\"dataframe\">\n",
       "  <thead>\n",
       "    <tr style=\"text-align: right;\">\n",
       "      <th></th>\n",
       "      <th></th>\n",
       "      <th>newcases</th>\n",
       "      <th>newdeaths</th>\n",
       "    </tr>\n",
       "    <tr>\n",
       "      <th>Country</th>\n",
       "      <th>Month</th>\n",
       "      <th></th>\n",
       "      <th></th>\n",
       "    </tr>\n",
       "  </thead>\n",
       "  <tbody>\n",
       "    <tr>\n",
       "      <th rowspan=\"3\" valign=\"top\">guinea</th>\n",
       "      <th>8.0</th>\n",
       "      <td>25.800000</td>\n",
       "      <td>3.400000</td>\n",
       "    </tr>\n",
       "    <tr>\n",
       "      <th>9.0</th>\n",
       "      <td>19.625000</td>\n",
       "      <td>3.562500</td>\n",
       "    </tr>\n",
       "    <tr>\n",
       "      <th>10.0</th>\n",
       "      <td>34.000000</td>\n",
       "      <td>15.000000</td>\n",
       "    </tr>\n",
       "    <tr>\n",
       "      <th rowspan=\"7\" valign=\"top\">liberia</th>\n",
       "      <th>6.0</th>\n",
       "      <td>5.714286</td>\n",
       "      <td>2.000000</td>\n",
       "    </tr>\n",
       "    <tr>\n",
       "      <th>7.0</th>\n",
       "      <td>11.909091</td>\n",
       "      <td>4.272727</td>\n",
       "    </tr>\n",
       "    <tr>\n",
       "      <th>8.0</th>\n",
       "      <td>37.222222</td>\n",
       "      <td>23.222222</td>\n",
       "    </tr>\n",
       "    <tr>\n",
       "      <th>9.0</th>\n",
       "      <td>63.833333</td>\n",
       "      <td>36.041667</td>\n",
       "    </tr>\n",
       "    <tr>\n",
       "      <th>10.0</th>\n",
       "      <td>45.560000</td>\n",
       "      <td>28.040000</td>\n",
       "    </tr>\n",
       "    <tr>\n",
       "      <th>11.0</th>\n",
       "      <td>49.333333</td>\n",
       "      <td>13.466667</td>\n",
       "    </tr>\n",
       "    <tr>\n",
       "      <th>12.0</th>\n",
       "      <td>19.888889</td>\n",
       "      <td>0.000000</td>\n",
       "    </tr>\n",
       "    <tr>\n",
       "      <th rowspan=\"5\" valign=\"top\">sl</th>\n",
       "      <th>8.0</th>\n",
       "      <td>27.944444</td>\n",
       "      <td>24.166667</td>\n",
       "    </tr>\n",
       "    <tr>\n",
       "      <th>9.0</th>\n",
       "      <td>43.703704</td>\n",
       "      <td>6.037037</td>\n",
       "    </tr>\n",
       "    <tr>\n",
       "      <th>10.0</th>\n",
       "      <td>70.928571</td>\n",
       "      <td>29.892857</td>\n",
       "    </tr>\n",
       "    <tr>\n",
       "      <th>11.0</th>\n",
       "      <td>83.157895</td>\n",
       "      <td>22.473684</td>\n",
       "    </tr>\n",
       "    <tr>\n",
       "      <th>12.0</th>\n",
       "      <td>51.250000</td>\n",
       "      <td>53.000000</td>\n",
       "    </tr>\n",
       "  </tbody>\n",
       "</table>\n",
       "</div>"
      ],
      "text/plain": [
       "                newcases  newdeaths\n",
       "Country Month                      \n",
       "guinea  8.0    25.800000   3.400000\n",
       "        9.0    19.625000   3.562500\n",
       "        10.0   34.000000  15.000000\n",
       "liberia 6.0     5.714286   2.000000\n",
       "        7.0    11.909091   4.272727\n",
       "        8.0    37.222222  23.222222\n",
       "        9.0    63.833333  36.041667\n",
       "        10.0   45.560000  28.040000\n",
       "        11.0   49.333333  13.466667\n",
       "        12.0   19.888889   0.000000\n",
       "sl      8.0    27.944444  24.166667\n",
       "        9.0    43.703704   6.037037\n",
       "        10.0   70.928571  29.892857\n",
       "        11.0   83.157895  22.473684\n",
       "        12.0   51.250000  53.000000"
      ]
     },
     "execution_count": 101,
     "metadata": {},
     "output_type": "execute_result"
    }
   ],
   "source": [
    "\n",
    "finalframe.set_index(['Country','Month'])\n"
   ]
  },
  {
   "cell_type": "markdown",
   "metadata": {},
   "source": [
    "\n",
    "### Plot of the *daily average per month* of *new cases* and *deaths*"
   ]
  },
  {
   "cell_type": "code",
   "execution_count": 102,
   "metadata": {},
   "outputs": [
    {
     "data": {
<<<<<<< HEAD
      "image/png": "iVBORw0KGgoAAAANSUhEUgAAAeIAAAEKCAYAAADO/lZMAAAABHNCSVQICAgIfAhkiAAAAAlwSFlz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\nxGZmZjn6f11WYwU8K54vAAAAAElFTkSuQmCC\n",
      "text/plain": [
       "<matplotlib.figure.Figure at 0x111f29f98>"
=======
      "image/png": "iVBORw0KGgoAAAANSUhEUgAAAeIAAAEKCAYAAADO/lZMAAAABHNCSVQICAgIfAhkiAAAAAlwSFlz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\nQmCC\n",
      "text/plain": [
       "<matplotlib.figure.Figure at 0x19abfce6278>"
>>>>>>> 5b8da627f3dde85c6b0a7a12d0b5e00d03bdfe9b
      ]
     },
     "metadata": {},
     "output_type": "display_data"
    },
    {
     "data": {
<<<<<<< HEAD
      "image/png": "iVBORw0KGgoAAAANSUhEUgAAAewAAAEKCAYAAADQN2b/AAAABHNCSVQICAgIfAhkiAAAAAlwSFlz\nAAALEgAACxIB0t1+/AAAIABJREFUeJzs3Xd8FHX6wPHPN21DQguhE7oYmhQNioIcKlhAbHgiSAti\nQ089xXreT72zYy9nQwPIoVEQBCkqnIgUERDB0DuETkggddO+vz9m1ixhk2yS3Z3s7vN+vfa1uzOz\nM8/O7MyzM/MtSmuNEEIIIWq2EKsDEEIIIUTFJGELIYQQfkASthBCCOEHJGELIYQQfkASthBCCOEH\nJGELIYQQfqDChK2UmqKU0uajWCmVq5RKVUr9oJQar5SKqMqClVJjnebb3xzW32nY2KrMVwhPUUq1\nUUo9Yz56lBrns9+qUqqFUuprpdTx0vtMoFBK7TW/11IvLsPy7amU6quUWqGUOu1YnreWZSVfbE8r\nKaV6OP2W2vhquWGVnF4BkUAL8zEAGKuUulZrneHp4ISwWBvgafP1XuB3i+J4E7jRomUHkjZYuD2V\nUgr4Gmjky+UKr+hByW9pKcbvyesqe0n8MsAGXAAsMof1AZIqu2Ct9RSttTIfSyv7eX+klKpldQxW\nU0pFWh2DH3KcDW4BagXTPhNgmlOSrCcDoVpr5YkZy35V83nk+K+1LvcBTAG0+ejvNDwC2O00rqc5\nPB7jX+QeIAuwAzuBV4Bop8+PLT1foL/TsLFANJBhvp9cKq4Z5vDjQHgZsYeZ8W8C0oEC4LD52bbm\nNDZznAamlvr8x+bwbKC2OawF8BFwAMgHDmHsfE2dPtfG6Xv8G3gJOAKkm+PHAT+bw/KB08AK4OZS\nyw8FXjS/42ngU+A653XkNK0N+D+Mg3qeud7mAxdUchufB/wE5GL8a5zgYvoRwCpz++YCvwLDypln\ngjm9HXiwnDgc008BJprbKgN43VwXt5q/pQxgNtCo1OdbYfx5POi0baYArcvYNv/C+Jd8sPQ8gWec\npiv9aMOZv9U7zW18FDhhbqdoN9Z7ufGWivWMRznzHOs03VBgGnDKXJevAGGlpr8KWGJ+/zzgD+Be\nQJnjmzvN7wFzWC2MfUkD481hDYBic9jjFXzvK83l5AFrMf707zU/u7Qy8ZnTXILxW98P5GD8JjcB\nTzi+rye3J3AO8IW53ewY++dK4Ak3t4vzY2mpaX7FON7kmOsm0QP7VQhwH7DenG8WxlnhgFLTuXVc\nMqe9HFgInDSXvwd4w2n8n9sTGARsML/Xatw7JilzO/xqxpttbnvnY14tjOPrNjOGdIwTyb5lHVfK\n2B6u8s89wFvm9j/jN1BqG5y1X5aa9y3Al0Am8A2w3Ry+uFSML5jDCyh1XDtjukoezPuXGveo07jH\nzWFXl/VlgORKrLCx5rC3zfennVZYBMZBSAPvlBN7ZDmx7AUizekciTkdiDCHhWLsiBr4rzmsBcZB\ntaz5NXRxoD3p9DrDHP9FOXENcor/Xy7GOy/fsY7CgP+VMb88oE8ltvEJF/MYUUFMjsfEMubpvA7c\nSdhpLuY9l5KE4Hh84fTZ1hgHWFdxHcV1EsxwMe0XVTjAu1ruSxWs8wrjpfoJ29X3u9tp2ttdrFPH\n412n6XaWWjf9nKb7xBw22GlYmb83oBPGwdV5WVkYBzTNmQnM3fjuLmdbvezp7Ynxp9jVfFLc3C7O\nj6Xm+Jcr+g7V2K+mlTHfYuAWp+ncPS4llrFd9jpNs5eSfbmw1HT7KeMky+nzSWXEMcUcH47x58LV\nNIXAtS6OK5VJ2K72nZdcbIMzHi7m7byN5gAPOa37Ni5+U/PKXS/ljXQRXOmEfYPTuP84HRCvBJqY\nK7UBxhmpI8hYN1eYIxl1djHM+eDQq5zYQ4FhGGcyNiAK4yDg+OxN5nR/cRo2yBx2hdOwa8xhn5jv\njwMXYfxx6IuRFJ03aBunzxYBY4DaQBdz/OVAN6AeRrKNx/gRa2CuOU19Sg5i+8310BpIcbE+RjkN\nG43xR6UNsNkc9ksltvHnQAxwKcaBVAO7zOnaUrLzvWtOV5+Sqx05QIyLeS43PxsDtHQjYRcB1wAt\nOXPHedpc3i/m+3wgxMXy7gPqms+ld3TnbZOH8QezMbDRxTz7l17XTrE6jzsB9DLnfdgctrMS67zM\neEsd/JaWN08X+9VO4FygO8ZZp8b8Z4/xe3T86Z0FNMW4ovUqJftqp1IHz33m+8edptlsDnve6TcQ\nUU58053iu8P83s87DVtahfi6YvxeG2LsT02Abyk58HpsewKxTtP9HeMY0AQYCDxawbZp4/TZZ5yG\nt8f4zWuM32Fbc1rHb7IIaF+V/cpcL47pnzTXa1PgR3PYQaf1485xqTYl+2Q2cLM5rAPwsIvfrGO5\n9TkzCfctZz05x7wNuNDc9hcBI138zqeb66AfJcfMPZRcJXK1Tzl/3lX+KXefdvX5MsYdxriCFI2x\nLzagZF98xpy+i9P0f/Vmwr7RaZwjYdswTu+3UpLInB+9K5OwzeFLzWE/lUqcW92IPxHjskqmi1gc\nVwUUJT/MT81h75vvj1JyWa2ss2vHY7WLHXO+i5g6Y9w2OMrZ/z63mtM4n8X80+mzzn84HAl7hotY\nnB/FQJSb27i903Dnf+ZNMS5RlbccTcmfG+d5lvmnqlQcjumXOQ1zJGc7JVdEXnCatpk5zLFT7S41\nzz3m8EMuto3zFZ+XXcyzf+l1XcYB3vkMKNkRbwXf1a14Sx38Kpuw73Eavtocts18f6Ub2/Iec9px\nTsOaY1zaK8S4DF2McbD80Rz/YwXxOW6j7XIaFknJWffSKsRXH+MP5B6MP1ylp2vqqe2JcRLg+COx\nBngK4zjYzI1t4/zbc07YdzkNH+M0fIzT8Dursl9x5r5S1sPxx8ed45Lzdnm1nOXuNac5TMkfgmuc\nPjvczZivLWOaz52mae00PMlp+LmljiuVSdjl7tOuPl/GuEdcxO7Yhnsxcs8/zfcZmMe4sh7VrYfd\nwen1PvN5Esa9o3iM5F1aVQpHvG8+91NKdQSuN99PK+9DSqmhGPceemH8C3QZizbW4gxz2A1KKRsl\npXK/0FoXmq8rKt3ZwMWwP0rFVA/4zpx/Y4wDwFkxAc2chh10ep3qYhkVxaUwDqruOFDGclu4sRxw\nYx24Yb/T6zzz+bjW2vE632m84zfW0HwuvX4c713FvsPFcpzn6S5X86moumNV4q0sV3E5vltltuUy\np2G9gYsxzv5+wPht9cXYx0pP64rjd/3nb8vcridLTVeZ+KZh3Ndug3FVr7TKHnPK3J5a6yKMk4Cj\nGPeQ/42R5A4qpT6u5HIcGjq9dt7/nH8brtaHO/uVW+uxEscl5/ltc2Peu7TWxeZrd/cxd5bhvM5S\ny3hd3ncv/f1Kq8o+7YqrbeTIZ60xrmoMNd9/6XSMc6nKCdusf32306DvzOe/ms8pQCttlIL8W1WX\nY3L86wOjgJfjstR/K/jczeZzHsbllDCMQlWuTDefYzDudzUpNRyMyyQAv+uSEu5/PjAueZRWegP0\nBuLM1y9h3JdXwLpS0x1yeu2cvFu6WIYjrmKggYu4QrTWB118zpU4p9ctnF4fdFoOwA1lLOesbVLR\nj9CFQjeHOXPEFldqeItS48uap3Yx3tUwVyqajytVibeyyovLef4PlrEtnwfQWu/EOFMC4/ZLI4zC\nTqvMYXdjXPID475ieRzz+fO3ZZZwLv1Hz634zJK3g83pFgNNzPGvuVi2R7an1vprjCsNPTAKFf0X\n44/LeKVUHzeX4cz5u8aV8fqs34Ob+5Xz53qUsR5X4P5x6bjT63g3ll+VfcOdZTh/L+fjlKt15viD\n7/zHrU0FMXjq2HDWNtJar8YoAAjwLMYtK4DPKppZpRO2UipcKdUT47JYW3PwbK21o06j419IAZCt\nlIrH+PdbZVrrAozL4GDcDwDj8vi+Mj7i4IhFY1wSr4+RjF0tIwXjrAGMEsoA27XWa5wmc1Rl66GU\nelQpVU8pVVspdZlSaiYw0o2v4/wvLRvQSqnbgPNLTbcR4x4ywO1KqXOVUq2BB13M0xFXCPCB2dCG\nTSnVXSn1BkbBPXf9WykVo5S6FLjJHLZLa30E44zK8W/5OaVUN6VUhNkgxd8xSpdb5Xvzua1SaoJS\nqo5SagIlv9Hvy/hcedKdXndWSlX0r7wyvBFvZazE2CcAHlFK9TF/M82VUuMxyj84W24+X+f0+fUY\nl7KvMYcVUpLEy7LCfG6nlLpDKVUX45Jg6bMXd+MLp+Q4ZgdylVIJGH8sSvPI9lRKvYNxn/UwxnFw\nkdPoqlwZWUzJfvWwuT+1xiighDlucVViLRXbm0qpc8x9Nl4p9QzwlTnO3ePSSoxbAgB3K6VuUkpF\nK6XaKaUewjMWOL2epJRKUEpFKaUuUEo5jrHO+8dzSqn6Sqm+lJyt7sMokQ0lZ90Xm/tZHMZl6+pw\n/i11MevYV4bjLNuRz/ZQso+VzY17IFMo//7Hz0B9p+ldlUjc6fTacb9grIth/Z2Glb7H1JqSghka\nGOdG7OMqiOWZUtM/Wmraf5Ya3wqjykNZ62KsLudelTkulpJqZI5HHsaPSnNmSUtXJbIPO70eY04X\njpEsy4prSgXraUoZ83c8nEuJl3dPbK+reVa0nZw+4+pe01IX837Gado2Tuv8eBlxHS813Vnbpox5\nRnFmKU8NpJb3W3X3e7sbrz7zfuBSN9bhWKf59K9gPd5VxvLPip8zC8RpoJ05fIXTsHILN5rTd+Ts\nUuK5mEmCM0uJuxUfxmX48vZzj27PcmLKwKl6Zxnb/Kzfnjnu1XLm+2p58bixzssr47K0CselypQS\nd96eLtdxGTEnlRHvFKdj3soypikErneal3P5lBxzfI7TsHLzTxm/gZaUVG10PJaXtw+W+n7OVZY1\n8C93tmVVLonbMS6PLsEoAHW5PrOVswcwfiAZGJckXsGoS1wt2jibdvzzygVmuvGxJIwD8SGMA8LX\nwPBypp9ByT9dKHXJXWu9H+O+1ccY95oKgGMYZxX/4Mx/sy5prdMwzlJ+w9ghNmHck9/pYvJnMS5P\npWGcbXxmLsch3ZxnAUZ91acxqgfYMf4F/4HRStbrFcXl5DKMAkR5GPeS79NaO+7vo7V+EuNKwkpK\n6mHvxLh1MKESy/EorfVejPuo0zD+VBWaz59hFM7ZW4V55mCcqW3izPvm1eaNeKsQw4cYZ8dLMH4v\njvq0XwO3lZrc+VL3Ua31bvO18xl1Rfev0Vpvxfj9O9bp7xj1dI+7mNbd+G7DKACXhXFseoQzb2U5\n5uep7fkyRiG+ExjHgCMY1Q4HaONKVKVprScC4zEuQedi7H+/AXeY46pjJHA/xhWRPIz1tBWj9s4/\nzOW7fVzSWidhtHK5COMYlI+RoGdXM05n4zD+sK2hpG59CuZVPPOYNwDjBGInxnY4hXHmfbnW+hun\nef0LoyxTmjmfjzBOzqpMa30AoxDuLiq+Xefq89mceQm8wsvhUFLsvcYzL1+twLgX/ZnWerTFIXmd\nUqo9Rn3Freb7hhhVXPph7CRxWuuzDnRVWM4UjBKpaA+1vCSEEKJsSqmvMMpZ/ay17ufOZyrblrgl\nlFJLMG7Mx2L8m5lkbUQ+czHwmVLqNMYZdlNKSjc+7YlkLYQQwneUUtMw6u03NQe5fQXaX7rXbI9R\nensXRsX5ylYT8lebMC7x5GGUWs/EuDx4o9b6JSsDE0IIUSWtMJL1QYzmfhe6+0G/uSQuhBBCBDN/\nOcMWQgghgppf3MOuqRo2bKjbtGljdRhCCOFX1q1bd0JrLf2CV5Ik7Gpo06YNa9eutToMIYTwK0qp\nihq9Ei7IJXEhhBDCD0jCFkIIIfyAJGwhhBDCD8g9bA8rKCggNTWVvLzKdlAVuCIjI4mLiyM83FXP\nh0IIIdwhCdvDUlNTqVOnDm3atKHyHbgEHq01aWlppKam0rZt24o/IISosXIKckhKSSJ5WzIZ9gzq\n2+ozLH4YiV0TiQqPsjq8gCeXxD0sLy+P2NhYSdYmpRSxsbFyxUEIP5dTkMOIBSNI2pREuj0djSbd\nnk7SpiRGLBhBTkGO1SEGPEnYXiDJ+kyyPoTwf0kpSaRmpmIvsp8x3F5kJzUzlaSUJIsiCx6SsIUQ\nQlQoeVvyWcnawV5kJ3lbso8jCj5yD9tC2fZCPly2i+mr9pGeU0BMVDgjL27NXf3aE23z3aZZu3Yt\n06ZN4+233/bZMoUQ/iXDnlGt8aL6JGFbJNteyI3/WcG+tBzshcUAnMwp4MOfdrMo5QizJ/TxWdJO\nSEggISHBJ8sSQvin+rb6pNvTyx0vvEsuiVvkw2W7zkjWDvbCYval5fDhsl3Vmv+///1vOnbsyMCB\nAxk+fDivvvoq/fv3/7Mp1RMnTuBoB33p0qVce+21ADzzzDOMGzeO/v37065duzPOuqdPn86FF15I\njx49uOuuuygqKgLgnnvuISEhgS5duvD0009XK24hRM00LH4Y4SGuq2baQm0Mix/m44iCj5xhe9mw\nD1edNezabs2YvmrfWcnawV5YzPRf9jP2krbcM33dGeOS77q4wmWuXbuWWbNmsX79egoLCzn//PO5\n4IIL3I5569at/Pjjj2RmZhIfH88999zDzp07SU5OZsWKFYSHhzNhwgT++9//Mnr0aJ5//nkaNGhA\nUVERV1xxBRs3bqRbt25uL08IUfMldk3k293fcjDrIJqSbpltoTbi6sSR2DXRwuiCgyRsi6TnFFQw\nPr/K816+fDnXX389tWrVAmDIkCGV+vzgwYOx2WzYbDYaN27M0aNHWbJkCevWraNXr14A5Obm0rhx\nYwC+/PJLPvroIwoLCzl8+DCbN2+WhC1EgIkKj2LWdbOkHraFJGF7WVlnxG/8sJ2T5STtmKgIGkRH\nuHVGXZrW2uXwsLAwiouNs/ry6kXbbLY/X4eGhlJYWIjWmjFjxvDiiy+eMe2ePXt49dVXWbNmDTEx\nMYwdO1bqXAsRgFYeWsm5Medyb897ubfnvVaHE5TkHrZFRl7cGluY69VvCwthZO9WVZ533759mTdv\nHnl5eWRlZTF//nzA6A503TrjEvvMmTMrNc8rrriCmTNncuzYMQBOnjzJvn37OH36NNHR0dSrV4+j\nR4+ycOHCKscthKiZcgpymLh0Iq/8+orVoQQ1OcO2yF392rMo5chZBc9sYSG0jo3irn7tqzzvXr16\ncd1119G9e3dat25NQkIC9erVY+LEidxyyy189tlnXH755ZWaZ+fOnXnuuee48sorKS4uJjw8nPfe\ne4/evXvTs2dPunTpQrt27ejTp0+V4xZC1Eyzd84msyCT2zrfZnUoQU2Vdfk0kCml9gKZQBFQqLVO\nUEo1AJKBNsBe4Batddl1GICEhATtKHXtsGXLFjp16uRWHH/Ww/5lP+k5+cRERTCydyuP1MPOysqi\ndu3a5OTk0K9fPz766CPOP//8as2zOiqzXoQQNUdRcRHXzr6W2FqxTB803SPzVEqt01pLXdJKCuYz\n7Mu01iec3j8OLNFav6SUetx8/5g3A4i2hfHQwHgeGhjv8XnfeeedbN68mby8PMaMGWNpshZC+K+l\nB5aSmpXK3y/4u9WhBL1gTtilXQ/0N19PBZbi5YTtTTNmzLA6BCFEANhycgtxteO4vFXlbqMJzwvW\nQmca+F4ptU4pdac5rInW+jCA+dzY1QeVUncqpdYqpdYeP37cR+EKIYQ17ut5H19f/zVhIXJ+Z7Vg\nTdh9tNbnA9cA9yql+rn7Qa31R1rrBK11QqNGjbwXoRBCWCwtNw2AWmG1LI5EQJAmbK31IfP5GDAb\nuBA4qpRqBmA+H7MuQiGEsNbhrMMMmDmA2TtmWx2KMAVdwlZKRSul6jheA1cCKcBcYIw52RjgG2si\nFEII683YOgOtNb2b9bY6FGEKuoQNNAGWK6U2AL8C87XWi4CXgIFKqR3AQPO9d9mz4McX4JV28Ex9\n4/nHF4zh1VC7dm0ADh06xM033wzAlClTuO+++6o13/Hjx7N58+ZqzUMIUfNlF2Qzc/tMrmx9Jc1q\nN7M6HGEKulIEWuvdQHcXw9OAK3wWiD0LJg+A9D1QaDblmZMGK96CzXNh/GKw1a7WIpo3b17pFs3K\nUlRUxOTJkz0yLyFEzTZ7x2yyCrIY1XmU1aEIJ8F4hl0zrHz7zGTtUJhnDF/5tuvPVcLevXvp2rXr\nn+8PHDjA1VdfTXx8PM8+++yfw8vqNrN27dr83//9HxdddBGrVq06o3tO6VJTiMCktear7V9xfuPz\nOa/ReVaHI5wE3Rm2zyUNPntYlxtgzeSzk7VDYR6s+QQuvAu+HH3muMT5VQ7l119/JSUlhaioKHr1\n6sXgwYOJjo4us9vM7Oxsunbtyr/+9a+z5iVdagoRmJRSfHrVp2TYM6wORZQiCdsqOSfLH29Wp/Ck\ngQMHEhsbC8BNN93E8uXLCQsLK7PbzNDQUIYOHepyXtKlphCBK7ZWLLG1Yq0OQ5QiCdvbyjojXvqi\ncc+6LLViITq2WmfUpSmlznpfVreZAJGRkYSGhp41XLrUFCIwbTy+kUlrJvFc3+doXbe11eGIUuQe\ntlV6jYewSNfjwiKh1+0eX+QPP/zAyZMnyc3NZc6cOfTp06fMbjPLI11qChGYpm2exq6MXTSqJY1C\n1URyhm2VS+43SoOXLngWFgkxbY3xHta3b19GjRrFzp07GTFiBAkJRmc5rrrNbN267H/X3bt3ly41\nhQgwB7MO8sO+HxjTZQxR4VFWhyNcCMruNT2lut1rYs8ySoOv+cS4Z10r1jizvuT+alfpqmmke00h\narZJayYxY8sMFg5dSNPopl5dlnSvWTVyhm0lW2247EnjIYQQFsnKz2LWjllc2eZKrydrUXWSsIUQ\nIsiFhYTxwPkPcH7j860ORZRDErYQQgS5yLBIhnccbnUYogJSSlwIIYLYioMr+HLblxQUF1gdiqiA\nJGwhhAhSWmve+/09pm6aSqg6u80FUbNIwhZCiCC14fgG/jjxB6M6jyJESTqo6WQLWSinIIf31r9H\nvy/60W1qN/p90Y/31r9HTkGOx5fl3HGHEEKA0VBK3Yi6XNf+OqtDEW6QhG2RnIIcRiwYQdKmJNLt\n6Wg06fZ0kjYlMWLBCK8kbSGEcDiQeYAl+5dwS/wt0lCKn5CEbZGklCRSM1OxF9nPGG4vspOamUpS\nSlKV552dnc3gwYPp3r07Xbt2JTk5ubrhCiECzOn803Rv1J1b42+1OhThJqnW5WWJixLPGnZVm6tI\n3pZ8VrJ2sBfZSd6WzIhOI3ho6UNnjEu6uuJEvmjRIpo3b878+UbHIadOneL999+vQvRCiEDVJbYL\n066ZZnUYohLkDNsiFfU1W52+aM877zwWL17MY489xs8//0y9evWqPC8hRODZcHwDGXnS37W/kTNs\nLyvrjPg/v/+HdHt6mZ+rb6tPTGSMW2fUpZ177rmsW7eOBQsW8MQTT3DllVdWeh5CiMBUUFzAxJ8m\n0r5eez4Y+IHV4YhKkDNsiwyLH4Yt1OZynC3UxrD4YVWe96FDh4iKimLkyJFMnDiR3377rcrzEkIE\nlsX7FnMk+4i0bOaHJGFbJLFrInF14s5K2rZQG3F14kjseva9b3f98ccfXHjhhfTo0YPnn3+ep556\nqrrhCiECgNaaqZum0qZuGy6Nu9TqcEQlySVxi0SFRzFj0AySUpJI3pZMhj2D+rb6DIsfRmLXxGpV\ns7jqqqu46qqrzhi2dOnSakYshPB364+tZ1PaJv7Z+5/SUIofkoRtoajwKO7teS/39rzX6lCEEEFg\n3dF1xNhiGNJ+iNWhiCqQhC2EEEHijm53MKzjMGqF1bI6FFEFck3EC7TWVodQo8j6EMJ6mfmZANSN\nqGtxJKKqJGF7WGRkJGlpaZKkTFpr0tLSiIyMtDoUIYLWKfsprpx5JZ9v/dzqUEQ1yCVxD4uLiyM1\nNZXjx49bHUqNERkZSVxcnNVhCBG0Zm6fSVZBFuc3Pt/qUEQ1SML2sPDwcNq2bWt1GEIIAUBBUQEz\ntszgomYXEd8g3upwRDXIJXEhhAhg3+37jmO5xxjTeYzVoYhqCtqErZQKVUqtV0p9a75vq5RarZTa\noZRKVkpFWB2jEEJU1+dbP6ddvXb0adHH6lBENQVtwgYeALY4vX8ZeENr3QFIB263JCohhPCgN/u/\nyfN9n5eGUgJAUG5BpVQcMBiYbL5XwOXATHOSqcAN1kQnhBCe0yiqEV0bdrU6DOEBQZmwgTeBR4Fi\n830skKG1LjTfpwItXH1QKXWnUmqtUmqtlAQXQtRUe0/tZdx349idsdvqUISHBF3CVkpdCxzTWq9z\nHuxiUpcVqbXWH2mtE7TWCY0aNfJKjEIIUV3Tt0zn92O/U9cmDaUEimCs1tUHuE4pNQiIBOpinHHX\nV0qFmWfZccAhC2MUQogqO2U/xTc7v+HadtfSsFZDq8MRHhJ0Z9ha6ye01nFa6zbArcD/tNa3AT8C\nN5uTjQG+sShEIYSoli+3fUleUR6jOo+yOhThQUGXsMvxGPCQUmonxj3tTyyORwghKi2/KJ8ZW2dw\nSfNL6BDTwepwhAcF4yXxP2mtlwJLzde7gQutjEcIIapLoxnXdRydGnSyOhThYUGdsIUQItDYQm1y\nKTxAySVxIYQIEBuOb2D2jtkUFBVYHYrwAknYQggRID7a+BFv/vYmxX82MSECiSRsIYQIALtP7WZZ\n6jJujb8VW6jN6nCEF8g9bCEChT0LVr4NayZDzkmIagC9xsMl94OtttXRCS+bvnk6ESER3BJ/i9Wh\nCC+RhC1EILBnweQBkL4HCvOMYTlpsOIt2DwXxi+WpB3A0vPSmbtrLkPaDyG2VqzV4QgvkUviQgSC\nlW+fmawdCvOM4SvftiYu4RPHco7Rrl47RnYaaXUowoskYQsRCNZMPjtZOxTmwRppByiQxTeI58sh\nX3JOzDlWhyK8SBK2EIEg52T543PTfBOH8Lnt6ds5nX/a6jCED0jCFiIQRDUof3xkjG/iED6ltebx\nnx/nnsX3WB2K8AFJ2EIEgp6jITSi7PHdh/suFuEzvxz+hR3pO7i5w80VTyz8niRsIfxdbjrsWQZa\nQ1ip+rdk7SGOAAAgAElEQVRhkdDwXLjsSWP8vAdg30pr4hQeN23zNGIjYxncbrDVoQgfkIQthD/L\nOgZThsDRP+CG96HPgxDVEJQynvs8AHf8aFTpOn0QdiyGpGtg1ng4LV2++7NdGbtYfnA5t3a8lYjy\nrq6IgCH1sIXwVxkH4LMb4NRBGP4FnHOFMfyyJ11PXy8O7vsVlr8BK96GrQug30S4+N6zz8xFjbfi\n4AoiQyMZFj/M6lCEjyittdUx+K2EhAS9du1aq8MQwWrWHbB9EYz4ElpfXLnPntwD3/0DjvwB966G\niCjvxCi86kTuCRrWamh1GJWmlFqntU6wOg5/Iwm7GiRhC0vlnYZTB6BJl6rPIzsNomOhIA8WPmpc\nQo9t77kYhVfkFeYRGRZpdRhVJgm7auQethD+JHUtfD4c8nMgsm71kjUYyRqMM+2Ur+E/vWHxs0ZT\np6JGshfZGTx7MFM3TbU6FOFjkrCF8Bd7lsHU6+DYFsitoKGUymrZC/62FroOheWvw7u94I+ZRsly\nUaPM3z2fYznH6Nigo9WhCB+ThC2EP9i2EKbfDPVbwbhFRgEyT6vTFG78AMZ9D7UbweoPJGHXMFpr\npm2aRscGHbmw6YVWhyN8TBK2EDXd5rmQPBKadIbEBUZi9aZWFxlVwW6dASEhkHUcFj1RcfOnwutW\nHlrJrlO7GN15NEopq8MRPiYJW4iarnFn6DgYRs+tuAlSTwkJhdqNjdd7foLVH8I75xudiBQX+SYG\ncZbPtnxGo1qNuLrN1VaHIiwgpcSrQUqJC6/a9SO06280gmK1o5tg4WOw92doeh5cM6nyVclEtR3J\nPsK+0/u4qNlFVodSLVJKvGrkDFuImkZr+N/zRqMof8y0OhpDky4wZh7cnGRcGv/1I6sjCkpNo5v6\nfbIWVScJW4iapLgYFj0Oy16B80dD15usjqiEUkY8962BQa8aw45tgZ9fh0K7tbEFuBO5J5iweALb\n07dbHYqwkCRsIWqKokKYe59ROrv3vTDkbeNeck0TEV1Sf3vzXFjyLPznYtj+vbVxBbDkbcksP7ic\niBBpMzyYScIWoqY4sgE2JkP/J+Cq52vGveuK9H8MRs4yYp3xV5gxDNJ2WR1VQMkrzCN5azJ/afkX\n2tRrY3U4wkKSsIWwmqPgZ4sLYMJq6P+4fyRrh3MGwD2rYOC/Ye9yWD/d6ogCyre7vyXdns7ozqOt\nDkVYTHrrEsJKeafhixHQ63bociM0PMfqiKomLAL63A/dboGI2saw3T9B9nGj9bRK/gHJKcghKSWJ\n5G3JZNgzqG+rz7D4YSR2TSQqPHg6KinWxXy2+TM6NehEQhMpVB3sgu4MWykVqZT6VSm1QSm1SSn1\nrDm8rVJqtVJqh1IqWSklN4uEd2WnwdQhsH9V4LQoVqep0fc2wLopMOt2SBpktFXuppyCHEYsGEHS\npiTS7eloNOn2dJI2JTFiwQhyCnK8E3sNVFRcxPXnXM/d3e+WhlJE8CVswA5crrXuDvQArlZK9QZe\nBt7QWncA0oHbLYxRBLrTh2DKIDi+FW79vGaVBveUoZNhyFtwYht82A/mP+xWa2lJKUmkZqZiLzqz\n5Lm9yE5qZipJKUneirjGCQ8NZ1zXcVze6nKrQxE1QNAlbG1wdEUUbj40cDngqPQ6FbjBgvBEMMhN\nh0+vhlMHjQJb515pdUTeERIKF4yFv62DXnfA2k9h67cVfix5W/JZydrBXmQneVuyhwOtmXZl7GLe\nrnkUFBVYHYqoIYLyHrZSKhRYB5wDvAfsAjK01oXmJKlAizI+eydwJ0CrVq28H6wIPJH1oedIOOcK\no6BZoKsVA4NeMe7Tx5r36Dd/A9GNXbaWlmHPKHd2FY0PFJ+mfMoP+36gX1w/6oXWszocUQME3Rk2\ngNa6SGvdA4gDLgQ6uZqsjM9+pLVO0FonNGrUyJthikBzaD0cSTEKYP3l0eBI1s4axRtn3VrDskmQ\ndDXMugNOHz5jsvq2+uXOpq6trjejrBGO5xxnwZ4F3HDODdSzSbIWhqBM2A5a6wxgKdAbqK+Uclxx\niAMOWRWXCED7VsKUIfDtg4FTwKyqlIJx38GlE2HzHHjnAlj+xp+tpQ2LH0ZEqOsyn6EqlKz8LN5c\n9yaZ+Zm+jNqnPt/6OUXFRYzsNNLqUEQNEnQJWynVSClV33xdCxgAbAF+BG42JxsDfGNNhCLg7FgM\nn90EdZvBX6f6Vx1rb4mIhiv+CfeuhnZ/gcXPwIFfAUjsmkis7exeyWwqlLjo5gxsPZBPUj5h0NeD\nmL55OvlF+T4O3rtyC3P5cvuXXNbyMlrVldtuokTQJWygGfCjUmojsAb4QWv9LfAY8JBSaicQC3xi\nYYwiUGyaA5/fCg07QOJCqOeyaETwatAOhn8Ody6FtpcCELXhC+YcPsGtmTnEFBWhtCamqIjEjFN8\neSSNSb2fJvnaZOIbxPPympeZtGaSpV/B0w5nH6ZRrUaM7iINpYgzSfea1SDda4pyaQ3//SvYM2FE\nMtQq/96sAOyZHH39XJrYy6hrHRYJfR6Ay55Ea83KQytpVbcVLeu0ZM+pPRzPOc6FzS70bcxe4Dgu\nB2rda+les2qC8QxbCO8rtBuXvm+ZCqO+lmTtph05R7i6WSzfRpfRmllhHqwxLn4ppejTog8t67QE\njFLVt39/O/csvsdve7U6cPoAWflZKKUCNlmLqpOELYQnaQ0/TTLqWduzjHu1EdFWR+UXtNZMWjOJ\nWsWavrl5ZU+Ym+Zy8FO9n+KhCx5iw7EN3Dz3Zp5a/hRHso94KVrveGbVM4xaOAq58ilckYQthKdo\nDT/8E358zqjCFBZpdUR+5eeDP7Pq8ComZBdQv7i47AlrxbocbAu1kdg1kYVDFzK682gW7FnA51s/\n91K0nrclbQu/HvmV69pfJ2fXwqWgbDhFCI8rLoL5DxntZ/e6A655BULk/7C7CooLmLRmEm3qtmFY\ny4tg5TvG5e/SQiOMBljKUc9Wj4m9JjK803DqRNQBYPXh1exI38Et8beUWWXMap9t/oyosCiGnjvU\n6lBEDSVHFCE8YfHTRrK+9GEYNEmSdSVtTdvK0ZyjPNLrEcL7PAgxbV1coVBQVABt+rk1zxa1W1A3\nwmhkZcn+Jby85mWum3MdC/cspFiXcwZvgaPZR1m4ZyE3dbjpz5iFKE2OKkJ4Qq/xcM0kuOL/pJ51\nFZzX6DwWDV3EpS0uNXr7Gr/YKA0e1dBYn1ENofcEqBcHX46EY1sqNf8nLnyCDwZ8QO3w2jy67FGG\nzx/OuqPrvPRtKu+n1J8oppgRnUZYHYqowaRaVzVIta4gZ880zqp73ytn1NWw7eQ2zo051737tif3\nGAX6lIJxiyCmTaWWVVRcxPw983ln/Tvccd4d3BJ/S9WC9oLUzFTi6sRZHYZPSLWuqpGjjBBVkXMS\npt0APzxttBEuqmRXxi6GfTuMaZunufeBBm1h1GwoyIWUryu9vNCQUK5rfx3f3vgtN3a4EYCZ22fy\nzxX/tKxEeUGx0RtXsCRrUXWSsIWorMyjMOVaOLIRhn0GcUHWiYcHTVo7iaiwKIa0H+L+h5p0hgmr\noO/fq7xcW6iN8JBwwOj9a/7u+Vw7+1qft1FerIu5Zd4tTP5jss+WKfyXJGwhKiNjv9HLVPpeuO0r\n6DjY6oj81s+pP7Pi4Aru6n4XDSLPbju8XHWbG5fFj26GL24z6rxX0fjzxjPvxnlntFG+cM/CKs+v\nMn468BM7M3bK2bVwiyRsISojfa+RHEbPgXb9LQ7GfxUUF/Dq2ldpVacVIzpWo6BV+l7YthC+GPFn\nb19V0aJ2C1689MU/2yivHV4bgPyifK+WKJ+6eSrNopsxoNUAry1DBA5J2EK4IzfdeG7bDx7YAC39\nv71qK6VmppJVkMXEhImEh4ZXfUYdB8H178Ken2DmOCgqrFZcnWM78/HAj+nboi8A7/3+HiPmj+DX\nw79Wa76ubDqxiXVH13Fbp9sIC5EmMUTFJGGLoJdTkMN769+j3xf96Da1G/2+6Md7698jp8DsgOLA\nr/BWD0iZZbyPKKOda+G2tvXaMv/G+fRv2b/6M+sxAq5+CbZ+C/Puh/JaSXODczve8THxpOWlcfv3\ntzNh8QSPtlE+bfM0osOjuanDTR6bpwhsUq2rGqRal//LKchhxIIRpGamYi8quaRqC7URVyeOGZ3v\nIerLRKjTBEZ/A/Wlf+LqWn14Nec3Pr96Z9au/Pgi7F9l9IwWXstjs7UX2ZmxZQYf//ExWflZPHbh\nY9zW6bZqzzc1M5Vt6du4otUVHojSv0i1rqqRhF0NkrD933vr3yNpU9IZydrBpsJITE/n3vDmRlWi\nOk0siDCw7D61m5u+uYlxXcdx//n3e3bmWkNxIYSGGy2iefgPwSn7KT7e+DHXn3M9HWI6cCL3BLZQ\n25/Nnwr3ScKuGrkkLoJa8rZkl8kawK4LSa5XF8Z+K8naQ15b+xq1wmp55Az1LEoZSTrvlNG4yuoP\nPTp7RxvlHWI6APDyry8z6OtBTN88nfyifLfnk1OQw8NLH2bbyW0ejU8EPknYIqhl2DPKH6+AqEpW\nORIurTi4gmWpy7ir213EltHjlkeER0OdprDwUdjwhdcWk9g1kfgG8ZVuo3z2ztl8v+978orK6UJU\nCBckYYugVj+k/J6bKhov3FNYXMikNZNoWael99vLDg2DoZ8YJfrnTICt872yGEeJ8g8GfEB0eDSP\nLnuUT1M+LfczRcVFTN88ne6NutO9UXevxCUCl9QlEEFt2OlMkqLCsLtoC9xWXMywLN+1ehXI0nLT\nsIXZ+Fu3v/mme8vwSLh1Bky7Hr5KhJGzoO2lHl+MUoo+LfrQu1lv5u+ZT5/mfQDYenIrISqEc2PO\nJacgh6SUJJK3JZNuN6oHdortRE5BDlHhUuNAuE8KnVWDFDrzfznPxjCieWNSw85O2o0KC/n24BGi\n/i/dougCS7EuRqHc6+TDU3JOGmfZV78ADdr5bLF3/3A3Kw+tZHC7wfxx4g+OZB85o6xERGgELeu0\nZMagGUGZtKXQWdXIJXER1KJqxTDj0FEST50mpqgIpTUxRUX0ycnhy4NHiKpsk5niLIv3LSY9L50Q\nFeLbZA1G+YMRXxjJWms4fdgni32538uM7jyaBbsXsO/0vrMKNuYX5ZOamUpSSpJP4hGBQRK2CG69\nxhNFCPdmnGbZ/oNs3HuAZfsP8sHREzQMiSD3gjGczj9tdZR+a++pvTzy0yO8v+F9q0OBxU/Dx5cZ\nzZl6maNEee2I2mVOYy+yk7wt2euxiMAhCVsEt0vuh4YdoPR91bBICmPaMCZ7I0/+/CRy66hqXlv7\nGrYwG3d2u9PqUKDbrUa3nNOuh0zfdKVZUc9fFdVSEMKZJGwRvA5vBHsmjF9idNUY1dCoyxvVEPo8\nQNj4JVzf4UZ+Sv3J/f6axZ9WHVrF0tSl3NntThrWamh1OEa3nCNnQdZx+Owm4/62l9W31a/WeCGc\nScIWwSnvlNEt4xcjICIaLnsSHt0FT2cYz5c9CbbajOg4ggGtBvDmujf5/djvVkftNwqLC3llzSvE\n1Y5jZKeRVodTIi4Bhs+AtB2QPMq4r+1Fw+KHYQu1uRxnC7UxLH6YV5cvAoskbBF8tIZv/w6nD8I1\nrxhn1WVQSvFsn2dpEt2ER5Y9win7KR8G6r+yC7JpW68tDyU85JtqXJXRrj/cnAT9Hi5323tCYtdE\n4urEnZW0HW3VJ3ZN9OryRWCRhC2Cz4YvjJ63LnsCWvaqcPK6EXV57S+v0SSqSUkPXqJc9Wz1eL3/\n6wxsPdDqUFzrdC20v9x4vXd5tbvlLEtUeBQzBs0gsUsiMbYYFIoYWwyJXRKDtkqXqDqph10NUg/b\nD6Xtgg/7QbPuMGYehIS6/VGtte+rJfmhOTvn0K1RN9rV81295yo7ugne7wM9boPr3gEXDegIz5N6\n2FUTdL9OpVRLpdSPSqktSqlNSqkHzOENlFI/KKV2mM8xVscqvCAqFrrcCDd9VKlkDcbl8cz8TCb+\nNFHuZ5dh/+n9PLvqWaZummp1KO5p0gX+8hj8Ph2+f8rr97SFqI6gS9hAIfCw1roT0Bu4VynVGXgc\nWKK17gAsMd+LQFJcDLXqw/XvQr24Ks1Co0k5kSL3s8vw2trXiAiJ4L4e91kdivv6Pw4X3Q2/vAfL\nJlkdjRBlCrqErbU+rLX+zXydCWwBWgDXA47TgqnADdZEKLxiz88w+XLIOFCt2TjuZ5/IPcE/lv9D\n6mc7WX14Nf878D/u6HYHjaIaWR2O+5SCq16E7sPhx+fhwK9WRySES0GXsJ0ppdoAPYHVQBOt9WEw\nkjrQuIzP3KmUWquUWnv8+HFfhSqqI+ckfH2nUee6VvXvdHRp2IWJCROlfraTouIiXlnzCs2jmzOq\n8yirw6m8kBC47l0YNh1aXmh1NEK4FLQJWylVG5gFPKi1drvtSa31R1rrBK11QqNGfnQWEay0hnn3\nQ/ZxGDoZbGU3FVkZjvrZ0zZNk5LjQEFxAZc0v4RHej1SZr3jGi80DDoNMV4f+h22LbI2HiFKCcru\nNZVS4RjJ+r9a66/NwUeVUs201oeVUs2AY9ZFKDzmt2mwZR4M/Dc07+mx2TrqZ+cV5knVHCAyLJKH\nEx62OgzPWfwM7FsJI2ca/WoLUQME3Rm2MurlfAJs0Vq/7jRqLjDGfD0G+MbXsQkPKy42Ena7/nCx\n5wtB1Y2oS+OoxhQVFzF/93yKdbHHl+EPZmyZwapDq6wOw7Nu/tTo4evz4XBwndXRCAEEYcIG+gCj\ngMuVUr+bj0HAS8BApdQOYKD5XvizkBAY+y0M/dSr9WuX7F/C4z8/zrRNwXc/+8DpA7y69lXm755v\ndSieFdUARs02qgFOHwrHtlodkRDBl7C11su11kpr3U1r3cN8LNBap2mtr9BadzCfvd8zgPCelFlG\nIbPwWhAd69VFDWw9kAGtBvDWb28FXf3s19e9TlhIGPeff7/VoXhe3WYweo7Rk9uqd6yORojgS9gi\nCOxcAjPHwYq3fbK4YG1vfM2RNSzev5jx542ncZTLShX+r0E7GPcdDH7D6kiEkIQtAkz2CZhzDzTq\nCJc+5LPFOtfPfnrl0z5brlUc1biaRTdjdOfRVofjXQ3aQliE8dv6+k6fdMsphCtBWUpcBCit4Zt7\nITcDRn5tXA73oS4Nu/DMxc/Qum5rny7XKjd3uJmGUQ2JDIu0OhTfOL4NNs2Gk7th1ByPVREUwl3S\n+Uc1SOcfNcyaT2D+Q3D1S9D7HqujITM/kzoRdawOQ3jSlnnw5Who+xcYkQxhflrn3GLS+UfVyCVx\nETg6DIS+DxntQlvs05RPGTp3KBl5GVaH4nGfpnzKrO2zrA7DGp2GGC2i7f4RZt3utW45hXBFErbw\nf0UFxuXw+q1gwNNG29AWu6jZRUZ74yv+EVD1s1MzU3l3/bv8duw3q0OxTs/bjLbHj26GXLmfLXxH\nErbwf98/BTOG1aiznS6xRnvjy1KXBVT97D+rcfUMwGpclXHxBLj7Z6jd2GigR24tCh+QhC382/bv\nYPUHENveaAu6BhnecTgDWw/kzd/eDIj62WuPrOWHfT8wrus4mkQ3sToc60VEG1d3Zt8Jy161OhoR\nBCRhC/+VeRTmTIAmXeGKmleVSinFs5c8S9t6bTmcfdjqcKqlWBfzyppXaBrdlDFdxlT8gWChQiEk\nDH58DlZ/ZHU0IsDVrFMSIdxVXAxz7ob8LBj6CYTXzKpFdSLq8NWQrwgL8e9dLUSF8Leef0OjqRXm\n/epy2fZCPly2i+mr9pGeU0BMVDgjL27NXf3aE22rQevS0S1n3mlY+AhE1oPuw6yOSgSoGvTLF6IS\nTqfCsS1w1QvQuKPV0ZTLkazn7ppLZn4mt3W6zeKIqubSuEt9spxseyE3/mcF+9JysBcaBfZO5hTw\n4U+7WZRyhNkT+tSspB0aZnQWMuOvRqM9tjrQcZDVUYkAJJfEhX+q3wruXQ0J46yOxC1aa5YeWMqk\nNZP87n72Bxs+4O3f3sZXbTZ8uGzXGcnawV5YzL60HD5ctssncVRKeCTcOgPaXgqRda2ORgQoSdjC\nv+TnwMp3jMI+kfVqRBUudzjuZzeLbsYjyx7xm/rZB7MO8vHGjzmUfQjlo3U9fdW+s5K1g72wmOm/\n7PdJHJVmq2O0gNamr/FemjAVHiYJW/iX756E7/8JB/2vHnCdiDq82v9V0nLT/KZ+9pvr3iREhfDg\n+Q/6bJnpOQUVjM/3USRV4PhT89s0eDdBuuUUHiUJW/iPLfNgXRL0uR9aXWR1NFXiXD979eHVVodT\nrvXH1rNo7yISuybSNLqpz5ZbLyq83PExURE+iqQa2vQ1So9/dgOk77U6GhEgalDJDSHKcfoQzP0b\nNOsBlz1ldTTVMrzjcDrFdqJn455Wh1ImrTWvrn2VxlGNGdtlrM+Wu/t4FpRzq9wWFsLI3q18Fk+V\nNWgHo2ZD0iCYeh10vBY2fmFcJo9qAL3GwyX3SwciolLkDFv4h7l/g8J8owpXmB+cYZVDKfVnst6U\ntqlG3s9WSvHMxc/wfN/niQqP8tlytx/NJDQEWsbUwhZ25uHJFhZC69go7urX3mfxVEuTLnDLZ5Cx\nH375D+SkAdp4XvEWTB4A9iyroxR+RM6whX+44v8gfR80PMfqSDzmlP0U4xaNI6FpAu9c/g4hqmb8\nf9Zao5SiQ0wHOtDBJ8vcdTyL9o1qc3XXZvTt0AiFUVp8+i/7Sc/JJyYqgpG9W9W8etgV2bfcqPZV\nVOq+fGEepO+BlW/DZU9aE5vwO9K9ZjVI95o+kHc6oKvJzNgygxd/fZGHL3iYsV3HWh0OAO+uf5f9\np/fzwqUveL3Bl6JizfPztzBt1V5mT+jDeXH1vLo8n3ulnXlmXYaohvBoDaym5mXSvWbV1Iy/9EK4\nYs+Cj/rD/563OhKvqWntjR/OOsyUTVNA4fVknZlXwPipa/h0xR5GXdyaTs0CsO/wiqp25ZaTzIUo\nRRK2qLkWPgYnd0O7/lZH4jWl62efsp+yNJ43fnsDgL+f/3evLufAyRxufn8Vy3ac4LkbuvL0kC6E\nhQbg4SiqQfnja8X6Jg4REAJwDxEBIeVr+H06XPowtOljdTRe5aiffcM5NxAdHm1ZHL8f+52FexYy\ntstYmtVu5tVlfbvxMIdP5TI18UJG9m7t1WVZqtd4CCujnXuloOdI38Yj/Jofld4QQSNjP8x7EFok\nQP/HrY7GJ7rEdqFLbBcA8ovyiQj1fUn4935/j8a1GjOuq/eae03PzicmOoK7/9KO63s0p3l973ck\nYqlL7ofNc40CZoV5JcNDwqG4AEL8u8aD8C05wxY1z4ntRl/DQydDaPmNaASarSe3Mnj2YEvuZ790\n6Uu81v81r1TjKi7WvPb9Nga8/hMHM3JRSgV+sgajnvX4xdDnAaOAmVLG86UPwahvoP9jVkco/IiU\nEq8GKSXuRYV2CLNZHYXPZeZncsu8WygoLmDmkJnUj6zv9WUWFBcQpsK81lZ4bn4RD3/1Owv+OMKw\nhJb8+4auRITJucKfMo8Yze0OmgS1vL+9awIpJV41steImuPAr7D2U9A6KJM1lNzPPpl30mftjX+8\n8WNGLhxJnvMlWw85ejqPYR+tYmHKEf4xqBMvDT1PknVpR1Ng02z47EbIrXmN6IiaQ/YcUTPknYJZ\nt8PyNyE/2+poLNUltguP9HqEZanLmLppqleXdST7CEkpSTSPbk5kWYWjquHtJTvYeSyLj0YlcEe/\ndj7r8cuvnDMAhn0GR/4w2h7PTbc6IlFDScIWNcP8h+HUQeO+tbSvzK3xtzKw9UA2HN/g1X6o3/zt\nTYp1MX+/wLPVuPLN7jH/MbgTc+7tw8DOTTw6/4ATfw3c+l84ugmmXS9dcwqXgjJhK6U+VUodU0ql\nOA1roJT6QSm1w3yOsTLGoLIhGf74yigR3vJCq6OpEZRSvND3Bd7o/4bXzko3Ht/I/N3zGdNlDM1r\nN/fIPLXWvL90Fze8t4IseyFREWGc2yQAG0TxhnOvgltnAAqKi6yORtRAQZmwgSnA1aWGPQ4s0Vp3\nAJaY74W35abDgonQ6hKjzrX4U2RYJEopDmYd5I11b3j8fva0zdNoWKsh488b75H52QuLmPjVRl5e\ntJV2jaIJC5HL35XWYSDc8SPUbmR0diNn2sJJUNbD1lovU0q1KTX4eqC/+XoqsBSQOhfeVisGbk6C\nRudCSKjV0dRIKw6u4NOUT6lvq09i10SPzff5vs+z99Rej1TjOpmdz12frWXN3nQeuKIDDw7oIPer\nqyrEPI/6ZgIc3Qxj5kJ0Q2tjEjVCsJ5hu9JEa30YwHxubHE8ge/0IeO5wwCo7wd9HFvkr+f+lYGt\nB/LWb295pH62vchOXmEetlAb8Q3iPRAhPDZrIxtTT/H28J78feC5kqw9ocdtRtO8U4dA1nGroxE1\ngCTsSlJK3amUWquUWnv8uOxEVbZ3ObzZDbYusDqSGs+5vfGJP02sdv/Zn6Z8ynVzrvNIu+WOAnFP\nD+nMF3f25rrunrkXLoD2l8GIZDi5B6ZeC1nHrI5IWEwSdomjSqlmAOazy71Da/2R1jpBa53QqFEj\nnwYYMHLT4es7jbPqtv2sjsYvONfPfvf3d6s8n6PZR0lKSaJrw67Us1WvK8upK/dy3+frKS7WxMVE\n0bOVlNP0uHZ/gdu+Mprr/WKE0UaBCFpBeQ+7DHOBMcBL5vM31oYToLSGeQ9A1lG4/XupwlUJXWK7\n8O4V79KjUY8qz+Pt9W9TWFzIQxc8VOV5FBYV869vNzNt1T4GdGpMflExkVL+wHvaXgq3zTQaE5Jb\nDUEtKM+wlVKfA6uAeKVUqlLqdoxEPVAptQMYaL4XnrZ+Omz+Bi5/ClpcYHU0fueS5pcQFR5FbmEu\nuzN2V+qzKSdSmLtrLqM7jyauTlyVln8qt4DEKWuYtmofd/Zrx4ejEogMl2TtdW36QJzZkue6KSXl\nP/csejcAABIjSURBVERQCcozbK318DJGXeHTQIKR/TS0vwIuecDqSPzao8seZUvaFr4a8hUxke5d\nip63ax6xkbHc0e2OKi1Ta80d09by2750Xh56HsN6SUFBn8s8At89BSvegjHfQr0WVkckfEg6/6gG\n6fyjioqLS6quiCrZlLaJUQtG0btZb9694l1CVMXrU2vNoexDtKhd9YP8mr0nKSzSXNw+tsrzENW0\nfzVMH2pU9Rr7LdSr2tUSK0nnH1UjR03hGz+/BtsWGa8lWVebo73xnw/+XGF743mFeZzIPYFSqkrJ\n+su1B3hnyQ4AerVpIMnaaq0uglGzIScNpgyGjANWRyR8RI6cwvt2/QhL/gXbF1odSUBxtDdeUf3s\naZunMfjrwRzNPlqp+RcXa15cuIVHZ27k170nKSzyfs9hwk0te8GoOUaNi30rrY5G+EhQ3sMWPpSd\nBrPvhobnwlUvWh1NQHHUzwaIjXR91nss5xiT/5hMn+Z9aBLtfgcc2fZCHkz+nR82H2Vk71Y8PaQL\nYaHy/75GibsA7v8dohoY74sKIVQO6YFM9kDhPVrD3Psg9yQM/QQiqt8EpjhTnYg6vN7/dVrWbYnW\n+qz2xt/+rfLVuIqKNSMmr2bJlqM8M6Qz/76+K+GSrGsmR7Le8zO8f7HRyIoIWPJ3THjPzsWwbYFx\nZt2sm9XRBDR7kZ2JSyeSW5TL9pPbybBnUDuiNpn5mYzsNJKWdVu6Pa/QEMXIi1rRcEAHLouXFnr9\nQmRdyD4OU66FsfOgQTurIxJeIH+bhfecMwBGfAkX3W11JAGvsKiQNUfXsPrwatLt6Wg0mfmZAKw8\ntJKcgpwK5/HtxkMsSjkMwF8TWkqy9ifNusOYeVCQYyTttF1WRyS8QBK28LyCPKPTAqWMPn6lVLjX\nTdk0hYLiApfjDmYdJCklqczPaq15e8kO7puxnv+u3o9U9fRTTc8zknZhnlF6XBpXCThyJBWet/gZ\n+OBSo5EH4RPJ25LJL8p3Oc5eZCd5W7LLcXkFRTyY/Duv/7Cdm3q2YPKYBOlpy5817Wo0qNL5Bqjt\nfiFD4R/kHrbwrB0/wOr3jcvgdZpaHU3QyLCX34OXq/F5BUWM+PgXftufwSNXxTOhf3tJ1oGgSWe4\nxmxZ+VQq5OcY/c0LvycJW3hO1jGYcw807gIDnrU6mqBS31afdHt6ueNLiwwPJaFNA+64tB3XnNfM\nm+EJK2gNs8Yb97PHzIPGHa2OSFSTXBIXnqE1zJkA9kwYOhnCI62OKKgMix+GLdTmcpwt1Maw+GF/\nvv/f1qNsOmT0hf3koE6SrAOVUjDkbeN56rVwdLPVEYlqkoQtqsaeBT++AK+0g2fqwyvtIecEXP5P\n45Kc8KnEronE1Yk7K2nbQm3E1YkjsWsiWmsm/7yb26eu5c3FOyyKVPhUo3Nh7HxQoWbS3mR1RKIa\nJGGLyrNnweQBRo9BOWmAhtw0OLbF6D7TnmV1hEEnKjyKGYNmkNglkRhbDApFjC2GxC6JzBg0g/CQ\nSJ6c/QfPzd/CVZ2b8tatVe9TW/iZhh2MpB0aAd89aXU0ohqkt65qCNreun58wUjWhXlnjwuLhD4P\nwGVyYKgpTucVcNe0dazancaE/u2ZeGU8ISFSuCzonNwNkfVLWkezkPTWVTVS6ExU3uoPXSdrMIav\n+cSvEna2vZAPl+1i+qp9pOcUEBMVzsiLW3NXv/ZE2/xnFynre4zr0xZbeAiv/bU7Qy/wv64YhYc4\nWj8rtMPcv0HvCdBcrrT4E/85Ggnfys+BE9vg2FY4vtW49H39u8a4vPKrEJGb5v34PCTbXsiN/1nB\nvrQc7IVGO9wncwr48KfdLEo5wuwJffwiaZf1PT4wv8fX91xC7chwi6MUNUL2CaOHr+3fweg50Lyn\n1REJN8k97GBXkAuHN8CGZCguMoYtfhZeaA4f9Yc5d8Oq9+Dgb1BktqQVeXYVoTPU8p/+kj9ctuuM\nJOdgLyxmX1oOHy6rWU08aq0pLCrGXlhEbn4RWfZCtNZlfo9883t89PNuiyIWNU69FsY9bVtdmHY9\nHFxndUTCTTX/1EF4RkEuhIRBaDjs/glWf2AUEkvfC5jlGOISILY9tO5j3ItuFA+NOxmX0kKdzs4u\nuqv8e9i9bvfFN/KI6av2nZXkHOyFxXz4026u696CcxrXZsOBDKat2kex1hQVa4q0prhY88hV8bRr\nVJtl248zefkeiovPHP/6LT1oFRvFN78f5P2lu/78fLE2esb68q6LaVovkk+W7+H9pTuNzzqN/+WJ\nK6gXFc5LC7fywU9n/4HY+fw1FX6P6b/s56GB8R5dd8KPxbSGxPlGu+PTboRRXxv7v6jRJGEHouw0\n2PX/7d15cJXVGcfx7y8JBEMUTAjWKqugKI4giMpSl7qMOFrXqaLUFcVaQe3YjlN1atvp1MEqiksV\nKbY6brhMi04LtiBWh3FBFDBKRXFBqbIOi2ELPv3jnJCbkIXcJPe9N3k+M8y975Y8h3vzPu857znn\nnRMS8uql1Yn5speg9yjYvjl0QNl/EAy6EMoGhMTctVc4vv/J4V99RkyED2bC+k9rJu2CTrBvn7A9\nR6yvqHv+7SrbKr9j1aat9OtezNpvt/HG8rXk5UG+RF6eyJfYsiO0TGyv/I4NW3aQr/DEqzyJjgV5\nVE0eVlxYQI+SIvKlsD1P5As65Icd+nbrzKkDv1e9XSI/DzoUhO0j+5VSWJBHfl7N7ZIaLcf6irqn\nLXXtWNeeoaY94yfhYt5lPe8l3gxN7iW+bTPMnwJvT4OKdaG35rBxIcEVFjftl+/YCmuXxXvMH4bX\noZeGh218uQCmnRT+CEv7hZpy2aFwxI9DDbol7CrLn8M9671KQ806nbIkaMhvX2ZdA8mupHNHFt52\nSgYjSk9bKYdLgBm7rio3fBWazFuZ9xJPj19WZUrV2OXUWmnF2tC0/MFMGPfvuhNdamLucgD0GgGb\nvoG7B4DFJtC8Aig5CLZuDMv7HQ7XvhHWFXRsnfIUFoee4DnUG7wuY4f34uFXl9fZnFxYkMfYY3sm\nEFXTtZVyuARUJeu3HgkP7hn7PPQ8NtGQXN08YWfK/Cm7NyFDWF7/Kbx2NxxzdXhghhk8exl8vSRs\nq0rMgy4KCbu4Oxx/M3TrF2rOpf1qJuYOnUITt2vU+OMOYtb7X+/WYauwII9epUWMP66FWiRaWVsp\nh0vQgDNC35bHz4Wxz4Vzjcsq3iTeDE1qEp/UN84K1oA+x8OlM8P7Jy8IHb3KDg2T9pcdGpqzC+qe\nL9qlb9f45Te+YH3FdvYt6sjYY3vm7jjsHC+HS9Cmr0NHtI0r4eJnoffIVvk13iSeHk/YzdCkhH17\nV3b1xq7PmKfhkNHNjss559K26Rv465mw8Su4fhF07tbiv8ITdnr8sjtTikoarmEXdfNk7ZxL3t77\nhREln89vlWTt0ucTp2TKsHFh2FNdcmzssnOujSvuDgPPDu8/ngOfzE02Hgd4ws6cERPDGOXaSTsH\nxy4759oJs/Cwn6fGhMTtEuUJO1MKi8PQrZHXh+ZvKbyOvL7+IV3OOZckCS6aAaX9Q9L+4MWQwCf1\nDf1yJvUNy/5I3YzwTmcpJJ0G3AvkA9PM7I6G9m+3j9d0zrUvFetC7/FV5WH0ys6USXqqWgmbUPHw\nTmfp8Rp2JCkfeAAYDRwGjJF0WLJROedcFigqgX4nAaqZrKF6Lon5UxIJrT3xhF3taOBjM1tuZtuB\np4GzEo7JOeeyw3tPUO/Q1MqtYZpi16o8YVc7AFiRsvxlXFeDpKslLZC0YPXq1RkLzjnnElWxruHt\nWxqZGMo1myfsaqpj3W6Xk2Y21cyOMrOjysrKMhCWc85lgaKShrfvVZqZONoxT9jVvgR6pCwfCKxM\nKBbnnMsuPpdE4jxhV3sb6C+pj6SOwIXAzIRjcs657OBzSSTOE3ZkZpXAdcBs4ENghpmVJxuVc85l\nCZ9LInE+DrsZfBy2c841nY/DTo/XsJ1zzrkc4AnbOeecywGesJ1zzrkc4AnbOeecywHe6awZJK0G\nPk/z8G7AmhYMJ0leluzTVsoBXpZs1Zyy9DIzn3mqiTxhJ0TSgrbSS9LLkn3aSjnAy5Kt2lJZcoU3\niTvnnHM5wBO2c845lwM8YSdnatIBtCAvS/ZpK+UAL0u2aktlyQl+D9s555zLAV7Dds4553KAJ2zn\nnHMuB3jCbgWSNicdQ0tqrDyS5knKieEdks6RZJIGJB1LuiTdIqlc0mJJ70k6Jo2fcYKkEa0RXzok\nHSjp75KWSfpE0r3xMbf17X+DpKJMxtiY+L26K2X5Jkm3JxhS2iTtjN+tckmLJP1ckueLhPkH4Nqb\nMcDrhOed5xxJw4EzgCFmdgRwMrAijR91ApAVCVuSgBeAv5lZf+BgoBj4fQOH3QBkVcIGtgHnSuqW\ndCAtYIuZDTazgcApwOnArxOOqd3zhN1KYg3mpZTl+yVdFt9/Juk3khZKWlJV25PUWdJ0SW9LelfS\nWQmFv5uGypOy7kpJk1OWr5J0dwbDbJCkYmAkcCUxYTfyOZ0uaamk1yVNSd0vQfsDa8xsG4CZrTGz\nlZKGSnpV0juSZkvaH3a1ftwjab6k9yUdLak3cA1wY6xF/SCx0gQ/BLaa2aMAZrYTuBG4Iv5N/DH+\nnSyWNEHSROD7wCuSXkkw7toqCT2nb6y9QVIvSXNiGeZI6impSzwX5MV9iiStkNQh04E3xMxWAVcD\n1ynIl3RnPE8tljS+al9Jv4yf1SJJdyQXddvkCTs5a8xsCPAn4Ka47hZgrpkNA04E7pTUOakA0/A0\n8KOUE87lwKMJxlPb2cAsM/sIWCdpSH07SuoEPAyMNrNRQLZMo/gy0EPSR5IelHR8/P++DzjfzIYC\n06lZO+1sZiOAa4HpZvYZ8BAwOdaiXstwGWobCLyTusLMNgJfAOOAPsCRsUXhCTObAqwETjSzEzMd\nbCMeAC6W1KXW+vuBx6rKAEwxsw3AIuD4uM+ZwGwz25GxaPeQmS0n5IvuhAveDfE8NQy4SlIfSaMJ\nf2PHmNkgYFJiAbdRnrCT80J8fQfoHd+fCtws6T1gHtAJ6JnxyNJkZt8Cc4EzYqtBBzNbknBYqcYQ\nLiqIr2Ma2HcAsNzMPo3LT7VmYHvKzDYDQwk1ntXAM8B44HDgX/G7cytwYMphT8Vj/wPsI6lrRoNu\nnIC6xpcKOA54yMwqAcxsXSYDa6p4ofEYMLHWpuHAk/H948Co+P4Z4IL4/sK4nK0UX08FLonftTeB\nUqA/4fbMo2ZWAdn/WeWigqQDaMMqqXlB1KnW9m3xdSfVn4OA88zsv60cWzoaK0+VacCvgKVkUe1a\nUimh6fVwSQbkE5LETOoul8hSscl4HjBP0hLgZ0C5mQ2v75BGlpNWDpyXukLSPkAPYDnZF29j7gEW\n0vD3v6pMM4E/SCohXIjNbeXY0iKpL+FctYrwtzHBzGbX2uc0cu+zyilew249nwOHSSqMzWMn7cEx\ns4EJsRMOko5szQCbaI/KY2ZvEk60F5EltdLofEKTZC8z621mPYCq2nNd5VoK9I33e6G6FpQoSYdI\n6p+yajDwIVAWO6QhqYOkgSn7XBDXjyI0ZW4ANgF7ZyjsxswBiiRdAiApH7gL+AvhFsA1kgritpJ4\nTDbFX0OsWc4gNB1XmU91R8eLCR0fq1pM3gLuBV6KF2NZRVIZ4RbK/RZm2poN/LTq1pekg+Otu5cJ\n/Q6K4vqS+n6mS4/XsFtYPLFsM7MVkmYAi4FlwLt7cPjvCFfni2PS/ozQIzgxaZZnBjDYzNZnIsY9\nNAao3QnmecKFxW7lMrMtkq4FZklaQzipZoNi4L7YrF0JfExoHp8KTIkXHQWE71F5PGa9pPnAPsAV\ncd2LwHOxY+OEJO9jm5lJOgd4UNJthIrEPwgtNTsJvcYXS9oBPEK4HzwV+Kek/2XhfWwIFxzXpSxP\nBKZL+gXhVsblKdueAZ4l9NzPFnvFJu8OhO/Z40BVB9JphNt4C+N5ajVwtpnNkjQYWCBpO9WfoWsh\nPjVpC5M0CHjEzI5OOpaWkE55Ym/qyWY2p/Uia32Sis1sczwpPQAsM7PJjR2XTSTNA24yswVJx+Kc\nax5vEm9Bkq4hNAPfmnQsLaGp5ZHUVdJHhDGcOZ2so6tiLaMc6ELoNe6cc4nwGrZzzjmXA7yG7Zxz\nzuUAT9jOOedcDvCE7ZxzzuUAT9jOOedcDvCE7ZxzzuWA/wNGiY2C5fVRUAAAAABJRU5ErkJggg==\n",
      "text/plain": [
       "<matplotlib.figure.Figure at 0x111f29fd0>"
=======
      "image/png": "iVBORw0KGgoAAAANSUhEUgAAAewAAAEKCAYAAADQN2b/AAAABHNCSVQICAgIfAhkiAAAAAlwSFlz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\nB3jBds4553KAF2znnHMuB/wfCCSP3ic0xbsAAAAASUVORK5CYII=\n",
      "text/plain": [
       "<matplotlib.figure.Figure at 0x19abfcfbf28>"
>>>>>>> 5b8da627f3dde85c6b0a7a12d0b5e00d03bdfe9b
      ]
     },
     "metadata": {},
     "output_type": "display_data"
    }
   ],
   "source": [
    "finalframe.Country  = finalframe.Country.astype('category')\n",
    "groups = finalframe.groupby('Country')\n",
    "\n",
    "fig, ax1 = plt.subplots()\n",
    "ax1.margins(0.05)\n",
    "for name, group in groups:\n",
    "    ax1.plot(group.Month, group['newcases'], marker='o', linestyle='--', ms=8, label=name)\n",
    "ax1.legend()\n",
    "plt.xticks([6,7,8,9,10,11,12],\n",
    "        ['June','July','Aug','Sept','Oct','Nov','Dec'])\n",
    "\n",
    "ax1.set_title( 'Daily average per month of new cases for each country', fontsize=15, fontweight='bold')\n",
    "\n",
    "\n",
    "fig, ax2 = plt.subplots()\n",
    "ax2.set_title( 'Daily average per month of new deaths for each country', fontsize=15, fontweight='bold')\n",
    "ax2.margins(0.05)\n",
    "for name, group in groups:\n",
    "    ax2.plot(group.Month, group['newdeaths'], marker='o', linestyle='--', ms=8, label=name)\n",
    "ax2.legend()\n",
    "plt.xticks([6,7,8,9,10,11,12],\n",
    "        ['June','July','Aug','Sept','Oct','Nov','Dec'])\n",
    "\n",
    "\n",
    "plt.show()"
   ]
  },
  {
   "cell_type": "markdown",
   "metadata": {},
   "source": [
    "## Task 2. RNA Sequences\n",
    "\n",
    "In the `DATA_FOLDER/microbiome` subdirectory, there are 9 spreadsheets of microbiome data that was acquired from high-throughput RNA sequencing procedures, along with a 10<sup>th</sup> file that describes the content of each. \n",
    "\n",
    "Use pandas to import the first 9 spreadsheets into a single `DataFrame`.\n",
    "Then, add the metadata information from the 10<sup>th</sup> spreadsheet as columns in the combined `DataFrame`.\n",
    "Make sure that the final `DataFrame` has a unique index and all the `NaN` values have been replaced by the tag `unknown`."
   ]
  },
  {
   "cell_type": "code",
<<<<<<< HEAD
   "execution_count": null,
   "metadata": {},
   "outputs": [],
   "source": []
  },
  {
   "cell_type": "code",
   "execution_count": 10,
=======
   "execution_count": 103,
>>>>>>> 5b8da627f3dde85c6b0a7a12d0b5e00d03bdfe9b
   "metadata": {},
   "outputs": [],
   "source": [
    "def merge_xls_files(regex):\n",
    "    all_data = pd.DataFrame()\n",
    "    list_ = glob.glob(regex)\n",
    "    for f in list_:\n",
    "        df = pd.read_excel(f,names = [\"MICROBIOME\", \"DATA\"])\n",
    "        # added the origin. It will be usefull to add the metadata from the 10th spreadshee\n",
    "        df['BARCODE']=re.search('MID[1-9]', f).group()\n",
    "        all_data = all_data.append(df)\n",
    "    return all_data"
   ]
  },
  {
   "cell_type": "markdown",
   "metadata": {},
   "source": [
    "We import the 9 MID files"
   ]
  },
  {
   "cell_type": "code",
   "execution_count": 104,
   "metadata": {},
   "outputs": [
    {
     "data": {
      "text/html": [
       "<div>\n",
       "<style>\n",
       "    .dataframe thead tr:only-child th {\n",
       "        text-align: right;\n",
       "    }\n",
       "\n",
       "    .dataframe thead th {\n",
       "        text-align: left;\n",
       "    }\n",
       "\n",
       "    .dataframe tbody tr th {\n",
       "        vertical-align: top;\n",
       "    }\n",
       "</style>\n",
       "<table border=\"1\" class=\"dataframe\">\n",
       "  <thead>\n",
       "    <tr style=\"text-align: right;\">\n",
       "      <th></th>\n",
       "      <th>MICROBIOME</th>\n",
       "      <th>DATA</th>\n",
       "      <th>BARCODE</th>\n",
       "    </tr>\n",
       "  </thead>\n",
       "  <tbody>\n",
       "    <tr>\n",
       "      <th>0</th>\n",
       "      <td>Archaea \"Crenarchaeota\" Thermoprotei Desulfuro...</td>\n",
       "      <td>2</td>\n",
       "      <td>MID1</td>\n",
       "    </tr>\n",
       "    <tr>\n",
       "      <th>1</th>\n",
       "      <td>Archaea \"Crenarchaeota\" Thermoprotei Sulfoloba...</td>\n",
       "      <td>3</td>\n",
       "      <td>MID1</td>\n",
       "    </tr>\n",
       "    <tr>\n",
       "      <th>2</th>\n",
       "      <td>Archaea \"Crenarchaeota\" Thermoprotei Thermopro...</td>\n",
       "      <td>3</td>\n",
       "      <td>MID1</td>\n",
       "    </tr>\n",
       "    <tr>\n",
       "      <th>3</th>\n",
       "      <td>Archaea \"Euryarchaeota\" \"Methanomicrobia\" Meth...</td>\n",
       "      <td>7</td>\n",
       "      <td>MID1</td>\n",
       "    </tr>\n",
       "    <tr>\n",
       "      <th>4</th>\n",
       "      <td>Archaea \"Euryarchaeota\" \"Methanomicrobia\" Meth...</td>\n",
       "      <td>1</td>\n",
       "      <td>MID1</td>\n",
       "    </tr>\n",
       "    <tr>\n",
       "      <th>5</th>\n",
       "      <td>Archaea \"Euryarchaeota\" \"Methanomicrobia\" Meth...</td>\n",
       "      <td>1</td>\n",
       "      <td>MID1</td>\n",
       "    </tr>\n",
       "    <tr>\n",
       "      <th>6</th>\n",
       "      <td>Archaea \"Euryarchaeota\" Archaeoglobi Archaeogl...</td>\n",
       "      <td>1</td>\n",
       "      <td>MID1</td>\n",
       "    </tr>\n",
       "    <tr>\n",
       "      <th>7</th>\n",
       "      <td>Archaea \"Euryarchaeota\" Archaeoglobi Archaeogl...</td>\n",
       "      <td>1</td>\n",
       "      <td>MID1</td>\n",
       "    </tr>\n",
       "    <tr>\n",
       "      <th>8</th>\n",
       "      <td>Archaea \"Euryarchaeota\" Halobacteria Halobacte...</td>\n",
       "      <td>1</td>\n",
       "      <td>MID1</td>\n",
       "    </tr>\n",
       "    <tr>\n",
       "      <th>9</th>\n",
       "      <td>Archaea \"Euryarchaeota\" Halobacteria Halobacte...</td>\n",
       "      <td>4</td>\n",
       "      <td>MID1</td>\n",
       "    </tr>\n",
       "  </tbody>\n",
       "</table>\n",
       "</div>"
      ],
      "text/plain": [
       "                                          MICROBIOME  DATA BARCODE\n",
       "0  Archaea \"Crenarchaeota\" Thermoprotei Desulfuro...     2    MID1\n",
       "1  Archaea \"Crenarchaeota\" Thermoprotei Sulfoloba...     3    MID1\n",
       "2  Archaea \"Crenarchaeota\" Thermoprotei Thermopro...     3    MID1\n",
       "3  Archaea \"Euryarchaeota\" \"Methanomicrobia\" Meth...     7    MID1\n",
       "4  Archaea \"Euryarchaeota\" \"Methanomicrobia\" Meth...     1    MID1\n",
       "5  Archaea \"Euryarchaeota\" \"Methanomicrobia\" Meth...     1    MID1\n",
       "6  Archaea \"Euryarchaeota\" Archaeoglobi Archaeogl...     1    MID1\n",
       "7  Archaea \"Euryarchaeota\" Archaeoglobi Archaeogl...     1    MID1\n",
       "8  Archaea \"Euryarchaeota\" Halobacteria Halobacte...     1    MID1\n",
       "9  Archaea \"Euryarchaeota\" Halobacteria Halobacte...     4    MID1"
      ]
     },
     "execution_count": 104,
     "metadata": {},
     "output_type": "execute_result"
    }
   ],
   "source": [
    "mid = merge_xls_files(DATA_FOLDER+'/microbiome/MID*.xls')\n",
    "mid.head(10)"
   ]
  },
  {
   "cell_type": "markdown",
   "metadata": {},
   "source": [
    "We import the metadata and fill the NaN values with unknown"
   ]
  },
  {
   "cell_type": "code",
   "execution_count": 105,
   "metadata": {},
   "outputs": [
    {
     "data": {
      "text/html": [
       "<div>\n",
       "<style>\n",
       "    .dataframe thead tr:only-child th {\n",
       "        text-align: right;\n",
       "    }\n",
       "\n",
       "    .dataframe thead th {\n",
       "        text-align: left;\n",
       "    }\n",
       "\n",
       "    .dataframe tbody tr th {\n",
       "        vertical-align: top;\n",
       "    }\n",
       "</style>\n",
       "<table border=\"1\" class=\"dataframe\">\n",
       "  <thead>\n",
       "    <tr style=\"text-align: right;\">\n",
       "      <th></th>\n",
       "      <th>BARCODE</th>\n",
       "      <th>GROUP</th>\n",
       "      <th>SAMPLE</th>\n",
       "    </tr>\n",
       "  </thead>\n",
       "  <tbody>\n",
       "    <tr>\n",
       "      <th>0</th>\n",
       "      <td>MID1</td>\n",
       "      <td>EXTRACTION CONTROL</td>\n",
       "      <td>unknown</td>\n",
       "    </tr>\n",
       "    <tr>\n",
       "      <th>1</th>\n",
       "      <td>MID2</td>\n",
       "      <td>NEC 1</td>\n",
       "      <td>tissue</td>\n",
       "    </tr>\n",
       "    <tr>\n",
       "      <th>2</th>\n",
       "      <td>MID3</td>\n",
       "      <td>Control 1</td>\n",
       "      <td>tissue</td>\n",
       "    </tr>\n",
       "    <tr>\n",
       "      <th>3</th>\n",
       "      <td>MID4</td>\n",
       "      <td>NEC 2</td>\n",
       "      <td>tissue</td>\n",
       "    </tr>\n",
       "    <tr>\n",
       "      <th>4</th>\n",
       "      <td>MID5</td>\n",
       "      <td>Control 2</td>\n",
       "      <td>tissue</td>\n",
       "    </tr>\n",
       "    <tr>\n",
       "      <th>5</th>\n",
       "      <td>MID6</td>\n",
       "      <td>NEC 1</td>\n",
       "      <td>stool</td>\n",
       "    </tr>\n",
       "    <tr>\n",
       "      <th>6</th>\n",
       "      <td>MID7</td>\n",
       "      <td>Control 1</td>\n",
       "      <td>stool</td>\n",
       "    </tr>\n",
       "    <tr>\n",
       "      <th>7</th>\n",
       "      <td>MID8</td>\n",
       "      <td>NEC 2</td>\n",
       "      <td>stool</td>\n",
       "    </tr>\n",
       "    <tr>\n",
       "      <th>8</th>\n",
       "      <td>MID9</td>\n",
       "      <td>Control 2</td>\n",
       "      <td>stool</td>\n",
       "    </tr>\n",
       "  </tbody>\n",
       "</table>\n",
       "</div>"
      ],
      "text/plain": [
       "  BARCODE               GROUP   SAMPLE\n",
       "0    MID1  EXTRACTION CONTROL  unknown\n",
       "1    MID2               NEC 1   tissue\n",
       "2    MID3           Control 1   tissue\n",
       "3    MID4               NEC 2   tissue\n",
       "4    MID5           Control 2   tissue\n",
       "5    MID6               NEC 1    stool\n",
       "6    MID7           Control 1    stool\n",
       "7    MID8               NEC 2    stool\n",
       "8    MID9           Control 2    stool"
      ]
     },
     "execution_count": 105,
     "metadata": {},
     "output_type": "execute_result"
    }
   ],
   "source": [
    "metadata = pd.read_excel(DATA_FOLDER+'/microbiome/metadata.xls')\n",
    "metadata = metadata.fillna('unknown')\n",
    "metadata.head(10)"
   ]
  },
  {
   "cell_type": "markdown",
   "metadata": {},
   "source": [
    "We merge the 2 datasets on the BARCODE"
   ]
  },
  {
   "cell_type": "code",
   "execution_count": 106,
   "metadata": {},
   "outputs": [
    {
     "data": {
      "text/html": [
       "<div>\n",
       "<style>\n",
       "    .dataframe thead tr:only-child th {\n",
       "        text-align: right;\n",
       "    }\n",
       "\n",
       "    .dataframe thead th {\n",
       "        text-align: left;\n",
       "    }\n",
       "\n",
       "    .dataframe tbody tr th {\n",
       "        vertical-align: top;\n",
       "    }\n",
       "</style>\n",
       "<table border=\"1\" class=\"dataframe\">\n",
       "  <thead>\n",
       "    <tr style=\"text-align: right;\">\n",
       "      <th></th>\n",
       "      <th>MICROBIOME</th>\n",
       "      <th>DATA</th>\n",
       "      <th>BARCODE</th>\n",
       "      <th>GROUP</th>\n",
       "      <th>SAMPLE</th>\n",
       "    </tr>\n",
       "  </thead>\n",
       "  <tbody>\n",
       "    <tr>\n",
       "      <th>0</th>\n",
       "      <td>Archaea \"Crenarchaeota\" Thermoprotei Desulfuro...</td>\n",
       "      <td>2</td>\n",
       "      <td>MID1</td>\n",
       "      <td>EXTRACTION CONTROL</td>\n",
       "      <td>unknown</td>\n",
       "    </tr>\n",
       "    <tr>\n",
       "      <th>1</th>\n",
       "      <td>Archaea \"Crenarchaeota\" Thermoprotei Sulfoloba...</td>\n",
       "      <td>3</td>\n",
       "      <td>MID1</td>\n",
       "      <td>EXTRACTION CONTROL</td>\n",
       "      <td>unknown</td>\n",
       "    </tr>\n",
       "    <tr>\n",
       "      <th>2</th>\n",
       "      <td>Archaea \"Crenarchaeota\" Thermoprotei Thermopro...</td>\n",
       "      <td>3</td>\n",
       "      <td>MID1</td>\n",
       "      <td>EXTRACTION CONTROL</td>\n",
       "      <td>unknown</td>\n",
       "    </tr>\n",
       "    <tr>\n",
       "      <th>3</th>\n",
       "      <td>Archaea \"Euryarchaeota\" \"Methanomicrobia\" Meth...</td>\n",
       "      <td>7</td>\n",
       "      <td>MID1</td>\n",
       "      <td>EXTRACTION CONTROL</td>\n",
       "      <td>unknown</td>\n",
       "    </tr>\n",
       "    <tr>\n",
       "      <th>4</th>\n",
       "      <td>Archaea \"Euryarchaeota\" \"Methanomicrobia\" Meth...</td>\n",
       "      <td>1</td>\n",
       "      <td>MID1</td>\n",
       "      <td>EXTRACTION CONTROL</td>\n",
       "      <td>unknown</td>\n",
       "    </tr>\n",
       "    <tr>\n",
       "      <th>5</th>\n",
       "      <td>Archaea \"Euryarchaeota\" \"Methanomicrobia\" Meth...</td>\n",
       "      <td>1</td>\n",
       "      <td>MID1</td>\n",
       "      <td>EXTRACTION CONTROL</td>\n",
       "      <td>unknown</td>\n",
       "    </tr>\n",
       "    <tr>\n",
       "      <th>6</th>\n",
       "      <td>Archaea \"Euryarchaeota\" Archaeoglobi Archaeogl...</td>\n",
       "      <td>1</td>\n",
       "      <td>MID1</td>\n",
       "      <td>EXTRACTION CONTROL</td>\n",
       "      <td>unknown</td>\n",
       "    </tr>\n",
       "    <tr>\n",
       "      <th>7</th>\n",
       "      <td>Archaea \"Euryarchaeota\" Archaeoglobi Archaeogl...</td>\n",
       "      <td>1</td>\n",
       "      <td>MID1</td>\n",
       "      <td>EXTRACTION CONTROL</td>\n",
       "      <td>unknown</td>\n",
       "    </tr>\n",
       "    <tr>\n",
       "      <th>8</th>\n",
       "      <td>Archaea \"Euryarchaeota\" Halobacteria Halobacte...</td>\n",
       "      <td>1</td>\n",
       "      <td>MID1</td>\n",
       "      <td>EXTRACTION CONTROL</td>\n",
       "      <td>unknown</td>\n",
       "    </tr>\n",
       "    <tr>\n",
       "      <th>9</th>\n",
       "      <td>Archaea \"Euryarchaeota\" Halobacteria Halobacte...</td>\n",
       "      <td>4</td>\n",
       "      <td>MID1</td>\n",
       "      <td>EXTRACTION CONTROL</td>\n",
       "      <td>unknown</td>\n",
       "    </tr>\n",
       "  </tbody>\n",
       "</table>\n",
       "</div>"
      ],
      "text/plain": [
       "                                          MICROBIOME  DATA BARCODE  \\\n",
       "0  Archaea \"Crenarchaeota\" Thermoprotei Desulfuro...     2    MID1   \n",
       "1  Archaea \"Crenarchaeota\" Thermoprotei Sulfoloba...     3    MID1   \n",
       "2  Archaea \"Crenarchaeota\" Thermoprotei Thermopro...     3    MID1   \n",
       "3  Archaea \"Euryarchaeota\" \"Methanomicrobia\" Meth...     7    MID1   \n",
       "4  Archaea \"Euryarchaeota\" \"Methanomicrobia\" Meth...     1    MID1   \n",
       "5  Archaea \"Euryarchaeota\" \"Methanomicrobia\" Meth...     1    MID1   \n",
       "6  Archaea \"Euryarchaeota\" Archaeoglobi Archaeogl...     1    MID1   \n",
       "7  Archaea \"Euryarchaeota\" Archaeoglobi Archaeogl...     1    MID1   \n",
       "8  Archaea \"Euryarchaeota\" Halobacteria Halobacte...     1    MID1   \n",
       "9  Archaea \"Euryarchaeota\" Halobacteria Halobacte...     4    MID1   \n",
       "\n",
       "                GROUP   SAMPLE  \n",
       "0  EXTRACTION CONTROL  unknown  \n",
       "1  EXTRACTION CONTROL  unknown  \n",
       "2  EXTRACTION CONTROL  unknown  \n",
       "3  EXTRACTION CONTROL  unknown  \n",
       "4  EXTRACTION CONTROL  unknown  \n",
       "5  EXTRACTION CONTROL  unknown  \n",
       "6  EXTRACTION CONTROL  unknown  \n",
       "7  EXTRACTION CONTROL  unknown  \n",
       "8  EXTRACTION CONTROL  unknown  \n",
       "9  EXTRACTION CONTROL  unknown  "
      ]
     },
     "execution_count": 106,
     "metadata": {},
     "output_type": "execute_result"
    }
   ],
   "source": [
    "df = pd.DataFrame()\n",
    "df = pd.merge(mid, metadata,on='BARCODE')\n",
    "df.head(10)"
   ]
  },
  {
   "cell_type": "markdown",
   "metadata": {},
   "source": [
    "Then we drop the BARCODE colunm because it is not usefull anymore"
   ]
  },
  {
   "cell_type": "code",
<<<<<<< HEAD
   "execution_count": 14,
=======
   "execution_count": 107,
>>>>>>> 5b8da627f3dde85c6b0a7a12d0b5e00d03bdfe9b
   "metadata": {},
   "outputs": [],
   "source": [
    "df = df.drop('BARCODE', 1)"
   ]
  },
  {
   "cell_type": "markdown",
   "metadata": {},
   "source": [
    "We pivot the table to have MICROBIOME in index and have the GROUP and SAMPLE in colunm. We also replace all the NaN values by the tag unknown."
   ]
  },
  {
   "cell_type": "code",
   "execution_count": 108,
   "metadata": {},
   "outputs": [
    {
     "data": {
      "text/html": [
       "<div>\n",
       "<style>\n",
       "    .dataframe thead tr:only-child th {\n",
       "        text-align: right;\n",
       "    }\n",
       "\n",
       "    .dataframe thead th {\n",
       "        text-align: left;\n",
       "    }\n",
       "\n",
       "    .dataframe tbody tr th {\n",
       "        vertical-align: top;\n",
       "    }\n",
       "</style>\n",
       "<table border=\"1\" class=\"dataframe\">\n",
       "  <thead>\n",
       "    <tr>\n",
       "      <th>GROUP</th>\n",
       "      <th colspan=\"2\" halign=\"left\">Control 1</th>\n",
       "      <th colspan=\"2\" halign=\"left\">Control 2</th>\n",
       "      <th>EXTRACTION CONTROL</th>\n",
       "      <th colspan=\"2\" halign=\"left\">NEC 1</th>\n",
       "      <th colspan=\"2\" halign=\"left\">NEC 2</th>\n",
       "    </tr>\n",
       "    <tr>\n",
       "      <th>SAMPLE</th>\n",
       "      <th>stool</th>\n",
       "      <th>tissue</th>\n",
       "      <th>stool</th>\n",
       "      <th>tissue</th>\n",
       "      <th>unknown</th>\n",
       "      <th>stool</th>\n",
       "      <th>tissue</th>\n",
       "      <th>stool</th>\n",
       "      <th>tissue</th>\n",
       "    </tr>\n",
       "    <tr>\n",
       "      <th>MICROBIOME</th>\n",
       "      <th></th>\n",
       "      <th></th>\n",
       "      <th></th>\n",
       "      <th></th>\n",
       "      <th></th>\n",
       "      <th></th>\n",
       "      <th></th>\n",
       "      <th></th>\n",
       "      <th></th>\n",
       "    </tr>\n",
       "  </thead>\n",
       "  <tbody>\n",
       "    <tr>\n",
       "      <th>Archaea \"Crenarchaeota\" Thermoprotei Acidilobales Caldisphaeraceae Caldisphaera</th>\n",
       "      <td>unnkown</td>\n",
       "      <td>15</td>\n",
       "      <td>unnkown</td>\n",
       "      <td>26</td>\n",
       "      <td>unnkown</td>\n",
       "      <td>unnkown</td>\n",
       "      <td>14</td>\n",
       "      <td>unnkown</td>\n",
       "      <td>unnkown</td>\n",
       "    </tr>\n",
       "    <tr>\n",
       "      <th>Archaea \"Crenarchaeota\" Thermoprotei Desulfurococcales Desulfurococcaceae Ignisphaera</th>\n",
       "      <td>8</td>\n",
       "      <td>14</td>\n",
       "      <td>16</td>\n",
       "      <td>28</td>\n",
       "      <td>unnkown</td>\n",
       "      <td>unnkown</td>\n",
       "      <td>23</td>\n",
       "      <td>unnkown</td>\n",
       "      <td>unnkown</td>\n",
       "    </tr>\n",
       "    <tr>\n",
       "      <th>Archaea \"Crenarchaeota\" Thermoprotei Desulfurococcales Desulfurococcaceae Stetteria</th>\n",
       "      <td>unnkown</td>\n",
       "      <td>unnkown</td>\n",
       "      <td>unnkown</td>\n",
       "      <td>1</td>\n",
       "      <td>unnkown</td>\n",
       "      <td>unnkown</td>\n",
       "      <td>unnkown</td>\n",
       "      <td>unnkown</td>\n",
       "      <td>unnkown</td>\n",
       "    </tr>\n",
       "    <tr>\n",
       "      <th>Archaea \"Crenarchaeota\" Thermoprotei Desulfurococcales Desulfurococcaceae Sulfophobococcus</th>\n",
       "      <td>2</td>\n",
       "      <td>4</td>\n",
       "      <td>2</td>\n",
       "      <td>5</td>\n",
       "      <td>unnkown</td>\n",
       "      <td>1</td>\n",
       "      <td>1</td>\n",
       "      <td>unnkown</td>\n",
       "      <td>unnkown</td>\n",
       "    </tr>\n",
       "    <tr>\n",
       "      <th>Archaea \"Crenarchaeota\" Thermoprotei Desulfurococcales Desulfurococcaceae Thermodiscus</th>\n",
       "      <td>unnkown</td>\n",
       "      <td>1</td>\n",
       "      <td>unnkown</td>\n",
       "      <td>unnkown</td>\n",
       "      <td>unnkown</td>\n",
       "      <td>unnkown</td>\n",
       "      <td>unnkown</td>\n",
       "      <td>unnkown</td>\n",
       "      <td>unnkown</td>\n",
       "    </tr>\n",
       "    <tr>\n",
       "      <th>Archaea \"Crenarchaeota\" Thermoprotei Desulfurococcales Desulfurococcaceae Thermosphaera</th>\n",
       "      <td>1</td>\n",
       "      <td>1</td>\n",
       "      <td>unnkown</td>\n",
       "      <td>2</td>\n",
       "      <td>unnkown</td>\n",
       "      <td>unnkown</td>\n",
       "      <td>2</td>\n",
       "      <td>unnkown</td>\n",
       "      <td>unnkown</td>\n",
       "    </tr>\n",
       "    <tr>\n",
       "      <th>Archaea \"Crenarchaeota\" Thermoprotei Desulfurococcales Pyrodictiaceae Hyperthermus</th>\n",
       "      <td>unnkown</td>\n",
       "      <td>unnkown</td>\n",
       "      <td>unnkown</td>\n",
       "      <td>unnkown</td>\n",
       "      <td>unnkown</td>\n",
       "      <td>unnkown</td>\n",
       "      <td>1</td>\n",
       "      <td>unnkown</td>\n",
       "      <td>unnkown</td>\n",
       "    </tr>\n",
       "    <tr>\n",
       "      <th>Archaea \"Crenarchaeota\" Thermoprotei Desulfurococcales Pyrodictiaceae Pyrodictium</th>\n",
       "      <td>1</td>\n",
       "      <td>3</td>\n",
       "      <td>5</td>\n",
       "      <td>2</td>\n",
       "      <td>unnkown</td>\n",
       "      <td>1</td>\n",
       "      <td>unnkown</td>\n",
       "      <td>unnkown</td>\n",
       "      <td>unnkown</td>\n",
       "    </tr>\n",
       "    <tr>\n",
       "      <th>Archaea \"Crenarchaeota\" Thermoprotei Desulfurococcales Pyrodictiaceae Pyrolobus</th>\n",
       "      <td>1</td>\n",
       "      <td>unnkown</td>\n",
       "      <td>unnkown</td>\n",
       "      <td>3</td>\n",
       "      <td>2</td>\n",
       "      <td>2</td>\n",
       "      <td>2</td>\n",
       "      <td>unnkown</td>\n",
       "      <td>unnkown</td>\n",
       "    </tr>\n",
       "    <tr>\n",
       "      <th>Archaea \"Crenarchaeota\" Thermoprotei Sulfolobales Sulfolobaceae Stygiolobus</th>\n",
       "      <td>5</td>\n",
       "      <td>4</td>\n",
       "      <td>6</td>\n",
       "      <td>14</td>\n",
       "      <td>3</td>\n",
       "      <td>5</td>\n",
       "      <td>10</td>\n",
       "      <td>unnkown</td>\n",
       "      <td>unnkown</td>\n",
       "    </tr>\n",
       "  </tbody>\n",
       "</table>\n",
       "</div>"
      ],
      "text/plain": [
       "GROUP                                              Control 1           \\\n",
       "SAMPLE                                                 stool   tissue   \n",
       "MICROBIOME                                                              \n",
       "Archaea \"Crenarchaeota\" Thermoprotei Acidilobal...   unnkown       15   \n",
       "Archaea \"Crenarchaeota\" Thermoprotei Desulfuroc...         8       14   \n",
       "Archaea \"Crenarchaeota\" Thermoprotei Desulfuroc...   unnkown  unnkown   \n",
       "Archaea \"Crenarchaeota\" Thermoprotei Desulfuroc...         2        4   \n",
       "Archaea \"Crenarchaeota\" Thermoprotei Desulfuroc...   unnkown        1   \n",
       "Archaea \"Crenarchaeota\" Thermoprotei Desulfuroc...         1        1   \n",
       "Archaea \"Crenarchaeota\" Thermoprotei Desulfuroc...   unnkown  unnkown   \n",
       "Archaea \"Crenarchaeota\" Thermoprotei Desulfuroc...         1        3   \n",
       "Archaea \"Crenarchaeota\" Thermoprotei Desulfuroc...         1  unnkown   \n",
       "Archaea \"Crenarchaeota\" Thermoprotei Sulfolobal...         5        4   \n",
       "\n",
       "GROUP                                              Control 2           \\\n",
       "SAMPLE                                                 stool   tissue   \n",
       "MICROBIOME                                                              \n",
       "Archaea \"Crenarchaeota\" Thermoprotei Acidilobal...   unnkown       26   \n",
       "Archaea \"Crenarchaeota\" Thermoprotei Desulfuroc...        16       28   \n",
       "Archaea \"Crenarchaeota\" Thermoprotei Desulfuroc...   unnkown        1   \n",
       "Archaea \"Crenarchaeota\" Thermoprotei Desulfuroc...         2        5   \n",
       "Archaea \"Crenarchaeota\" Thermoprotei Desulfuroc...   unnkown  unnkown   \n",
       "Archaea \"Crenarchaeota\" Thermoprotei Desulfuroc...   unnkown        2   \n",
       "Archaea \"Crenarchaeota\" Thermoprotei Desulfuroc...   unnkown  unnkown   \n",
       "Archaea \"Crenarchaeota\" Thermoprotei Desulfuroc...         5        2   \n",
       "Archaea \"Crenarchaeota\" Thermoprotei Desulfuroc...   unnkown        3   \n",
       "Archaea \"Crenarchaeota\" Thermoprotei Sulfolobal...         6       14   \n",
       "\n",
       "GROUP                                              EXTRACTION CONTROL  \\\n",
       "SAMPLE                                                        unknown   \n",
       "MICROBIOME                                                              \n",
       "Archaea \"Crenarchaeota\" Thermoprotei Acidilobal...            unnkown   \n",
       "Archaea \"Crenarchaeota\" Thermoprotei Desulfuroc...            unnkown   \n",
       "Archaea \"Crenarchaeota\" Thermoprotei Desulfuroc...            unnkown   \n",
       "Archaea \"Crenarchaeota\" Thermoprotei Desulfuroc...            unnkown   \n",
       "Archaea \"Crenarchaeota\" Thermoprotei Desulfuroc...            unnkown   \n",
       "Archaea \"Crenarchaeota\" Thermoprotei Desulfuroc...            unnkown   \n",
       "Archaea \"Crenarchaeota\" Thermoprotei Desulfuroc...            unnkown   \n",
       "Archaea \"Crenarchaeota\" Thermoprotei Desulfuroc...            unnkown   \n",
       "Archaea \"Crenarchaeota\" Thermoprotei Desulfuroc...                  2   \n",
       "Archaea \"Crenarchaeota\" Thermoprotei Sulfolobal...                  3   \n",
       "\n",
       "GROUP                                                 NEC 1             NEC 2  \\\n",
       "SAMPLE                                                stool   tissue    stool   \n",
       "MICROBIOME                                                                      \n",
       "Archaea \"Crenarchaeota\" Thermoprotei Acidilobal...  unnkown       14  unnkown   \n",
       "Archaea \"Crenarchaeota\" Thermoprotei Desulfuroc...  unnkown       23  unnkown   \n",
       "Archaea \"Crenarchaeota\" Thermoprotei Desulfuroc...  unnkown  unnkown  unnkown   \n",
       "Archaea \"Crenarchaeota\" Thermoprotei Desulfuroc...        1        1  unnkown   \n",
       "Archaea \"Crenarchaeota\" Thermoprotei Desulfuroc...  unnkown  unnkown  unnkown   \n",
       "Archaea \"Crenarchaeota\" Thermoprotei Desulfuroc...  unnkown        2  unnkown   \n",
       "Archaea \"Crenarchaeota\" Thermoprotei Desulfuroc...  unnkown        1  unnkown   \n",
       "Archaea \"Crenarchaeota\" Thermoprotei Desulfuroc...        1  unnkown  unnkown   \n",
       "Archaea \"Crenarchaeota\" Thermoprotei Desulfuroc...        2        2  unnkown   \n",
       "Archaea \"Crenarchaeota\" Thermoprotei Sulfolobal...        5       10  unnkown   \n",
       "\n",
       "GROUP                                                        \n",
       "SAMPLE                                               tissue  \n",
       "MICROBIOME                                                   \n",
       "Archaea \"Crenarchaeota\" Thermoprotei Acidilobal...  unnkown  \n",
       "Archaea \"Crenarchaeota\" Thermoprotei Desulfuroc...  unnkown  \n",
       "Archaea \"Crenarchaeota\" Thermoprotei Desulfuroc...  unnkown  \n",
       "Archaea \"Crenarchaeota\" Thermoprotei Desulfuroc...  unnkown  \n",
       "Archaea \"Crenarchaeota\" Thermoprotei Desulfuroc...  unnkown  \n",
       "Archaea \"Crenarchaeota\" Thermoprotei Desulfuroc...  unnkown  \n",
       "Archaea \"Crenarchaeota\" Thermoprotei Desulfuroc...  unnkown  \n",
       "Archaea \"Crenarchaeota\" Thermoprotei Desulfuroc...  unnkown  \n",
       "Archaea \"Crenarchaeota\" Thermoprotei Desulfuroc...  unnkown  \n",
       "Archaea \"Crenarchaeota\" Thermoprotei Sulfolobal...  unnkown  "
      ]
     },
     "execution_count": 108,
     "metadata": {},
     "output_type": "execute_result"
    }
   ],
   "source": [
    "df = df.pivot_table('DATA','MICROBIOME',['GROUP','SAMPLE'],fill_value='unnkown')\n",
    "df.head(10)"
   ]
  },
  {
   "cell_type": "markdown",
   "metadata": {},
   "source": [
    "Now we check if the index is unique"
   ]
  },
  {
   "cell_type": "code",
   "execution_count": 109,
   "metadata": {},
   "outputs": [
    {
     "data": {
      "text/plain": [
       "True"
      ]
     },
     "execution_count": 109,
     "metadata": {},
     "output_type": "execute_result"
    }
   ],
   "source": [
    "df.index.is_unique"
   ]
  },
  {
   "cell_type": "code",
   "execution_count": 18,
   "metadata": {},
   "outputs": [
    {
     "data": {
      "text/plain": [
       "774"
      ]
     },
     "execution_count": 18,
     "metadata": {},
     "output_type": "execute_result"
    }
   ],
   "source": [
    "len(df.index)"
   ]
  },
  {
   "cell_type": "markdown",
   "metadata": {},
   "source": [
    "Alright, everithing is great"
   ]
  },
  {
   "cell_type": "markdown",
   "metadata": {},
   "source": [
    "## Task 3. Class War in Titanic\n",
    "\n",
    "Use pandas to import the data file `Data/titanic.xls`. It contains data on all the passengers that travelled on the Titanic."
   ]
  },
  {
   "cell_type": "code",
   "execution_count": 110,
   "metadata": {},
   "outputs": [
    {
     "data": {
      "text/html": [
       "<hr><h2>Data frame:titanic3</h2>1309 observations and 14 variables, maximum # NAs:1188<hr>\n",
       "<TABLE BORDER>\n",
       "<tr><td>Name</td><td>Labels</td><td>Units</td><td>Levels</td><td>Storage</td><td>NAs</td></tr>\n",
       "<tr><td>pclass</td><td></td><td></td><td><a href=\"#pclass\"><div align=right>  3</div></a></td><td>integer</td><td><div align=right>   0</div></td></tr>\n",
       "<tr><td>survived</td><td>Survived</td><td></td><td><div align=right></div></td><td>double</td><td><div align=right>   0</div></td></tr>\n",
       "<tr><td>name</td><td>Name</td><td></td><td><div align=right></div></td><td>character</td><td><div align=right>   0</div></td></tr>\n",
       "<tr><td>sex</td><td></td><td></td><td><a href=\"#sex\"><div align=right>  2</div></a></td><td>integer</td><td><div align=right>   0</div></td></tr>\n",
       "<tr><td>age</td><td>Age</td><td>Year</td><td><div align=right></div></td><td>double</td><td><div align=right> 263</div></td></tr>\n",
       "<tr><td>sibsp</td><td>Number of Siblings/Spouses Aboard</td><td></td><td><div align=right></div></td><td>double</td><td><div align=right>   0</div></td></tr>\n",
       "<tr><td>parch</td><td>Number of Parents/Children Aboard</td><td></td><td><div align=right></div></td><td>double</td><td><div align=right>   0</div></td></tr>\n",
       "<tr><td>ticket</td><td>Ticket Number</td><td></td><td><div align=right></div></td><td>character</td><td><div align=right>   0</div></td></tr>\n",
       "<tr><td>fare</td><td>Passenger Fare</td><td>British Pound (\\243)</td><td><div align=right></div></td><td>double</td><td><div align=right>   1</div></td></tr>\n",
       "<tr><td>cabin</td><td></td><td></td><td><a href=\"#cabin\"><div align=right>187</div></a></td><td>integer</td><td><div align=right>   0</div></td></tr>\n",
       "<tr><td>embarked</td><td></td><td></td><td><a href=\"#embarked\"><div align=right>  3</div></a></td><td>integer</td><td><div align=right>   2</div></td></tr>\n",
       "<tr><td>boat</td><td></td><td></td><td><a href=\"#boat\"><div align=right> 28</div></a></td><td>integer</td><td><div align=right>   0</div></td></tr>\n",
       "<tr><td>body</td><td>Body Identification Number</td><td></td><td><div align=right></div></td><td>double</td><td><div align=right>1188</div></td></tr>\n",
       "<tr><td>home.dest</td><td>Home/Destination</td><td></td><td><div align=right></div></td><td>character</td><td><div align=right>   0</div></td></tr>\n",
       "</TABLE>\n",
       "<hr>\n",
       "<TABLE BORDER>\n",
       "<tr><td>Variable</td><td>Levels</td></tr>\n",
       "<tr><td><a name=\"pclass\">pclass</a></td><td>1st</td></tr>\n",
       "<tr><td></td><td>2nd</td></tr>\n",
       "<tr><td></td><td>3rd</td></tr>\n",
       "<tr><td><a name=\"sex\">sex</a></td><td>female</td></tr>\n",
       "<tr><td></td><td>male</td></tr>\n",
       "<tr><td><a name=\"cabin\">cabin</a></td><td></td></tr>\n",
       "<tr><td></td><td>A10</td></tr>\n",
       "<tr><td></td><td>A11</td></tr>\n",
       "<tr><td></td><td>A14</td></tr>\n",
       "<tr><td></td><td>A16</td></tr>\n",
       "<tr><td></td><td>A18</td></tr>\n",
       "<tr><td></td><td>A19</td></tr>\n",
       "<tr><td></td><td>A20</td></tr>\n",
       "<tr><td></td><td>A21</td></tr>\n",
       "<tr><td></td><td>A23</td></tr>\n",
       "<tr><td></td><td>A24</td></tr>\n",
       "<tr><td></td><td>A26</td></tr>\n",
       "<tr><td></td><td>A29</td></tr>\n",
       "<tr><td></td><td>A31</td></tr>\n",
       "<tr><td></td><td>A32</td></tr>\n",
       "<tr><td></td><td>A34</td></tr>\n",
       "<tr><td></td><td>A36</td></tr>\n",
       "<tr><td></td><td>A5</td></tr>\n",
       "<tr><td></td><td>A6</td></tr>\n",
       "<tr><td></td><td>A7</td></tr>\n",
       "<tr><td></td><td>A9</td></tr>\n",
       "<tr><td></td><td>B10</td></tr>\n",
       "<tr><td></td><td>B101</td></tr>\n",
       "<tr><td></td><td>B102</td></tr>\n",
       "<tr><td></td><td>B11</td></tr>\n",
       "<tr><td></td><td>B18</td></tr>\n",
       "<tr><td></td><td>B19</td></tr>\n",
       "<tr><td></td><td>B20</td></tr>\n",
       "<tr><td></td><td>B22</td></tr>\n",
       "<tr><td></td><td>B24</td></tr>\n",
       "<tr><td></td><td>B26</td></tr>\n",
       "<tr><td></td><td>B28</td></tr>\n",
       "<tr><td></td><td>B3</td></tr>\n",
       "<tr><td></td><td>B30</td></tr>\n",
       "<tr><td></td><td>B35</td></tr>\n",
       "<tr><td></td><td>B36</td></tr>\n",
       "<tr><td></td><td>B37</td></tr>\n",
       "<tr><td></td><td>B38</td></tr>\n",
       "<tr><td></td><td>B39</td></tr>\n",
       "<tr><td></td><td>B4</td></tr>\n",
       "<tr><td></td><td>B41</td></tr>\n",
       "<tr><td></td><td>B42</td></tr>\n",
       "<tr><td></td><td>B45</td></tr>\n",
       "<tr><td></td><td>B49</td></tr>\n",
       "<tr><td></td><td>B5</td></tr>\n",
       "<tr><td></td><td>B50</td></tr>\n",
       "<tr><td></td><td>B51 B53 B55</td></tr>\n",
       "<tr><td></td><td>B52 B54 B56</td></tr>\n",
       "<tr><td></td><td>B57 B59 B63 B66</td></tr>\n",
       "<tr><td></td><td>B58 B60</td></tr>\n",
       "<tr><td></td><td>B61</td></tr>\n",
       "<tr><td></td><td>B69</td></tr>\n",
       "<tr><td></td><td>B71</td></tr>\n",
       "<tr><td></td><td>B73</td></tr>\n",
       "<tr><td></td><td>B77</td></tr>\n",
       "<tr><td></td><td>B78</td></tr>\n",
       "<tr><td></td><td>B79</td></tr>\n",
       "<tr><td></td><td>B80</td></tr>\n",
       "<tr><td></td><td>B82 B84</td></tr>\n",
       "<tr><td></td><td>B86</td></tr>\n",
       "<tr><td></td><td>B94</td></tr>\n",
       "<tr><td></td><td>B96 B98</td></tr>\n",
       "<tr><td></td><td>C101</td></tr>\n",
       "<tr><td></td><td>C103</td></tr>\n",
       "<tr><td></td><td>C104</td></tr>\n",
       "<tr><td></td><td>C105</td></tr>\n",
       "<tr><td></td><td>C106</td></tr>\n",
       "<tr><td></td><td>C110</td></tr>\n",
       "<tr><td></td><td>C111</td></tr>\n",
       "<tr><td></td><td>C116</td></tr>\n",
       "<tr><td></td><td>C118</td></tr>\n",
       "<tr><td></td><td>C123</td></tr>\n",
       "<tr><td></td><td>C124</td></tr>\n",
       "<tr><td></td><td>C125</td></tr>\n",
       "<tr><td></td><td>C126</td></tr>\n",
       "<tr><td></td><td>C128</td></tr>\n",
       "<tr><td></td><td>C130</td></tr>\n",
       "<tr><td></td><td>C132</td></tr>\n",
       "<tr><td></td><td>C148</td></tr>\n",
       "<tr><td></td><td>C2</td></tr>\n",
       "<tr><td></td><td>C22 C26</td></tr>\n",
       "<tr><td></td><td>C23 C25 C27</td></tr>\n",
       "<tr><td></td><td>C28</td></tr>\n",
       "<tr><td></td><td>C30</td></tr>\n",
       "<tr><td></td><td>C31</td></tr>\n",
       "<tr><td></td><td>C32</td></tr>\n",
       "<tr><td></td><td>C39</td></tr>\n",
       "<tr><td></td><td>C45</td></tr>\n",
       "<tr><td></td><td>C46</td></tr>\n",
       "<tr><td></td><td>C47</td></tr>\n",
       "<tr><td></td><td>C49</td></tr>\n",
       "<tr><td></td><td>C50</td></tr>\n",
       "<tr><td></td><td>C51</td></tr>\n",
       "<tr><td></td><td>C52</td></tr>\n",
       "<tr><td></td><td>C53</td></tr>\n",
       "<tr><td></td><td>C54</td></tr>\n",
       "<tr><td></td><td>C55 C57</td></tr>\n",
       "<tr><td></td><td>C6</td></tr>\n",
       "<tr><td></td><td>C62 C64</td></tr>\n",
       "<tr><td></td><td>C65</td></tr>\n",
       "<tr><td></td><td>C68</td></tr>\n",
       "<tr><td></td><td>C7</td></tr>\n",
       "<tr><td></td><td>C70</td></tr>\n",
       "<tr><td></td><td>C78</td></tr>\n",
       "<tr><td></td><td>C80</td></tr>\n",
       "<tr><td></td><td>C82</td></tr>\n",
       "<tr><td></td><td>C83</td></tr>\n",
       "<tr><td></td><td>C85</td></tr>\n",
       "<tr><td></td><td>C86</td></tr>\n",
       "<tr><td></td><td>C87</td></tr>\n",
       "<tr><td></td><td>C89</td></tr>\n",
       "<tr><td></td><td>C90</td></tr>\n",
       "<tr><td></td><td>C91</td></tr>\n",
       "<tr><td></td><td>C92</td></tr>\n",
       "<tr><td></td><td>C93</td></tr>\n",
       "<tr><td></td><td>C95</td></tr>\n",
       "<tr><td></td><td>C97</td></tr>\n",
       "<tr><td></td><td>C99</td></tr>\n",
       "<tr><td></td><td>D</td></tr>\n",
       "<tr><td></td><td>D10 D12</td></tr>\n",
       "<tr><td></td><td>D11</td></tr>\n",
       "<tr><td></td><td>D15</td></tr>\n",
       "<tr><td></td><td>D17</td></tr>\n",
       "<tr><td></td><td>D19</td></tr>\n",
       "<tr><td></td><td>D20</td></tr>\n",
       "<tr><td></td><td>D21</td></tr>\n",
       "<tr><td></td><td>D22</td></tr>\n",
       "<tr><td></td><td>D26</td></tr>\n",
       "<tr><td></td><td>D28</td></tr>\n",
       "<tr><td></td><td>D30</td></tr>\n",
       "<tr><td></td><td>D33</td></tr>\n",
       "<tr><td></td><td>D34</td></tr>\n",
       "<tr><td></td><td>D35</td></tr>\n",
       "<tr><td></td><td>D36</td></tr>\n",
       "<tr><td></td><td>D37</td></tr>\n",
       "<tr><td></td><td>D38</td></tr>\n",
       "<tr><td></td><td>D40</td></tr>\n",
       "<tr><td></td><td>D43</td></tr>\n",
       "<tr><td></td><td>D45</td></tr>\n",
       "<tr><td></td><td>D46</td></tr>\n",
       "<tr><td></td><td>D47</td></tr>\n",
       "<tr><td></td><td>D48</td></tr>\n",
       "<tr><td></td><td>D49</td></tr>\n",
       "<tr><td></td><td>D50</td></tr>\n",
       "<tr><td></td><td>D56</td></tr>\n",
       "<tr><td></td><td>D6</td></tr>\n",
       "<tr><td></td><td>D7</td></tr>\n",
       "<tr><td></td><td>D9</td></tr>\n",
       "<tr><td></td><td>E10</td></tr>\n",
       "<tr><td></td><td>E101</td></tr>\n",
       "<tr><td></td><td>E12</td></tr>\n",
       "<tr><td></td><td>E121</td></tr>\n",
       "<tr><td></td><td>E17</td></tr>\n",
       "<tr><td></td><td>E24</td></tr>\n",
       "<tr><td></td><td>E25</td></tr>\n",
       "<tr><td></td><td>E31</td></tr>\n",
       "<tr><td></td><td>E33</td></tr>\n",
       "<tr><td></td><td>E34</td></tr>\n",
       "<tr><td></td><td>E36</td></tr>\n",
       "<tr><td></td><td>E38</td></tr>\n",
       "<tr><td></td><td>E39 E41</td></tr>\n",
       "<tr><td></td><td>E40</td></tr>\n",
       "<tr><td></td><td>E44</td></tr>\n",
       "<tr><td></td><td>E45</td></tr>\n",
       "<tr><td></td><td>E46</td></tr>\n",
       "<tr><td></td><td>E49</td></tr>\n",
       "<tr><td></td><td>E50</td></tr>\n",
       "<tr><td></td><td>E52</td></tr>\n",
       "<tr><td></td><td>E58</td></tr>\n",
       "<tr><td></td><td>E60</td></tr>\n",
       "<tr><td></td><td>E63</td></tr>\n",
       "<tr><td></td><td>E67</td></tr>\n",
       "<tr><td></td><td>E68</td></tr>\n",
       "<tr><td></td><td>E77</td></tr>\n",
       "<tr><td></td><td>E8</td></tr>\n",
       "<tr><td></td><td>F</td></tr>\n",
       "<tr><td></td><td>F E46</td></tr>\n",
       "<tr><td></td><td>F E57</td></tr>\n",
       "<tr><td></td><td>F E69</td></tr>\n",
       "<tr><td></td><td>F G63</td></tr>\n",
       "<tr><td></td><td>F G73</td></tr>\n",
       "<tr><td></td><td>F2</td></tr>\n",
       "<tr><td></td><td>F33</td></tr>\n",
       "<tr><td></td><td>F38</td></tr>\n",
       "<tr><td></td><td>F4</td></tr>\n",
       "<tr><td></td><td>G6</td></tr>\n",
       "<tr><td></td><td>T</td></tr>\n",
       "<tr><td><a name=\"embarked\">embarked</a></td><td>Cherbourg</td></tr>\n",
       "<tr><td></td><td>Queenstown</td></tr>\n",
       "<tr><td></td><td>Southampton</td></tr>\n",
       "<tr><td><a name=\"boat\">boat</a></td><td></td></tr>\n",
       "<tr><td></td><td>1</td></tr>\n",
       "<tr><td></td><td>10</td></tr>\n",
       "<tr><td></td><td>11</td></tr>\n",
       "<tr><td></td><td>12</td></tr>\n",
       "<tr><td></td><td>13</td></tr>\n",
       "<tr><td></td><td>13 15</td></tr>\n",
       "<tr><td></td><td>13 15 B</td></tr>\n",
       "<tr><td></td><td>14</td></tr>\n",
       "<tr><td></td><td>15</td></tr>\n",
       "<tr><td></td><td>15 16</td></tr>\n",
       "<tr><td></td><td>16</td></tr>\n",
       "<tr><td></td><td>2</td></tr>\n",
       "<tr><td></td><td>3</td></tr>\n",
       "<tr><td></td><td>4</td></tr>\n",
       "<tr><td></td><td>5</td></tr>\n",
       "<tr><td></td><td>5 7</td></tr>\n",
       "<tr><td></td><td>5 9</td></tr>\n",
       "<tr><td></td><td>6</td></tr>\n",
       "<tr><td></td><td>7</td></tr>\n",
       "<tr><td></td><td>8</td></tr>\n",
       "<tr><td></td><td>8 10</td></tr>\n",
       "<tr><td></td><td>9</td></tr>\n",
       "<tr><td></td><td>A</td></tr>\n",
       "<tr><td></td><td>B</td></tr>\n",
       "<tr><td></td><td>C</td></tr>\n",
       "<tr><td></td><td>C D</td></tr>\n",
       "<tr><td></td><td>D</td></tr>\n",
       "</TABLE>\n",
       "<hr>\n"
      ],
      "text/plain": [
       "<IPython.core.display.HTML object>"
      ]
     },
     "execution_count": 110,
     "metadata": {},
     "output_type": "execute_result"
    }
   ],
   "source": [
    "from IPython.core.display import HTML\n",
    "HTML(filename=DATA_FOLDER+'/titanic.html')"
   ]
  },
  {
   "cell_type": "markdown",
   "metadata": {},
   "source": [
    "For each of the following questions state clearly your assumptions and discuss your findings:\n",
    "1. Describe the *type* and the *value range* of each attribute. Indicate and transform the attributes that can be `Categorical`. \n",
    "2. Plot histograms for the *travel class*, *embarkation port*, *sex* and *age* attributes. For the latter one, use *discrete decade intervals*. \n",
    "3. Calculate the proportion of passengers by *cabin floor*. Present your results in a *pie chart*.\n",
    "4. For each *travel class*, calculate the proportion of the passengers that survived. Present your results in *pie charts*.\n",
    "5. Calculate the proportion of the passengers that survived by *travel class* and *sex*. Present your results in *a single histogram*.\n",
    "6. Create 2 equally populated *age categories* and calculate survival proportions by *age category*, *travel class* and *sex*. Present your results in a `DataFrame` with unique index."
   ]
  },
  {
   "cell_type": "markdown",
   "metadata": {
    "collapsed": true
   },
   "source": [
    "## Answer :"
   ]
  },
  {
   "cell_type": "markdown",
   "metadata": {},
   "source": [
    "- ### Create the DataFrame from titanic.xls "
   ]
  },
  {
   "cell_type": "markdown",
   "metadata": {},
   "source": [
    "We are using the function `read_excel` from pandas library to import the data"
   ]
  },
  {
   "cell_type": "code",
   "execution_count": 111,
   "metadata": {},
   "outputs": [],
   "source": [
    "passengers = pd.DataFrame()\n",
    "passengers = pd.read_excel(DATA_FOLDER + '/titanic.xls')"
   ]
  },
  {
   "cell_type": "markdown",
   "metadata": {},
   "source": [
    "- ### Describe the type and the value range of each attribute. Indicate and transform the attributes that can be `Categorical`."
   ]
  },
  {
   "cell_type": "markdown",
   "metadata": {},
   "source": [
    "To describe the type of each attribute from our dataFrame, we use the `dtypes` function from pandas library. \n",
    "\n",
    "It returns dtypes of all attibutes in `passengers`. "
   ]
  },
  {
   "cell_type": "code",
   "execution_count": 112,
   "metadata": {},
   "outputs": [
    {
     "data": {
      "text/plain": [
       "pclass         int64\n",
       "survived       int64\n",
       "name          object\n",
       "sex           object\n",
       "age          float64\n",
       "sibsp          int64\n",
       "parch          int64\n",
       "ticket        object\n",
       "fare         float64\n",
       "cabin         object\n",
       "embarked      object\n",
       "boat          object\n",
       "body         float64\n",
       "home.dest     object\n",
       "dtype: object"
      ]
     },
     "execution_count": 112,
     "metadata": {},
     "output_type": "execute_result"
    }
   ],
   "source": [
    "passengers.dtypes"
   ]
  },
  {
   "cell_type": "markdown",
   "metadata": {},
   "source": [
    "To describe the value range of each attribute from our dataFrame, we use the `describes()` function from pandas library. \n",
    "\n",
    "Generate various summary statistics such as mean, min and max, excluding NaN values."
   ]
  },
  {
   "cell_type": "code",
   "execution_count": 113,
   "metadata": {},
   "outputs": [
    {
     "data": {
      "text/html": [
       "<div>\n",
       "<style>\n",
       "    .dataframe thead tr:only-child th {\n",
       "        text-align: right;\n",
       "    }\n",
       "\n",
       "    .dataframe thead th {\n",
       "        text-align: left;\n",
       "    }\n",
       "\n",
       "    .dataframe tbody tr th {\n",
       "        vertical-align: top;\n",
       "    }\n",
       "</style>\n",
       "<table border=\"1\" class=\"dataframe\">\n",
       "  <thead>\n",
       "    <tr style=\"text-align: right;\">\n",
       "      <th></th>\n",
       "      <th>pclass</th>\n",
       "      <th>survived</th>\n",
       "      <th>age</th>\n",
       "      <th>sibsp</th>\n",
       "      <th>parch</th>\n",
       "      <th>fare</th>\n",
       "      <th>body</th>\n",
       "    </tr>\n",
       "  </thead>\n",
       "  <tbody>\n",
       "    <tr>\n",
       "      <th>count</th>\n",
       "      <td>1309.000000</td>\n",
       "      <td>1309.000000</td>\n",
       "      <td>1046.000000</td>\n",
       "      <td>1309.000000</td>\n",
       "      <td>1309.000000</td>\n",
       "      <td>1308.000000</td>\n",
       "      <td>121.000000</td>\n",
       "    </tr>\n",
       "    <tr>\n",
       "      <th>mean</th>\n",
       "      <td>2.294882</td>\n",
       "      <td>0.381971</td>\n",
       "      <td>29.881135</td>\n",
       "      <td>0.498854</td>\n",
       "      <td>0.385027</td>\n",
       "      <td>33.295479</td>\n",
       "      <td>160.809917</td>\n",
       "    </tr>\n",
       "    <tr>\n",
       "      <th>std</th>\n",
       "      <td>0.837836</td>\n",
       "      <td>0.486055</td>\n",
       "      <td>14.413500</td>\n",
       "      <td>1.041658</td>\n",
       "      <td>0.865560</td>\n",
       "      <td>51.758668</td>\n",
       "      <td>97.696922</td>\n",
       "    </tr>\n",
       "    <tr>\n",
       "      <th>min</th>\n",
       "      <td>1.000000</td>\n",
       "      <td>0.000000</td>\n",
       "      <td>0.166700</td>\n",
       "      <td>0.000000</td>\n",
       "      <td>0.000000</td>\n",
       "      <td>0.000000</td>\n",
       "      <td>1.000000</td>\n",
       "    </tr>\n",
       "    <tr>\n",
       "      <th>25%</th>\n",
       "      <td>2.000000</td>\n",
       "      <td>0.000000</td>\n",
       "      <td>21.000000</td>\n",
       "      <td>0.000000</td>\n",
       "      <td>0.000000</td>\n",
       "      <td>7.895800</td>\n",
       "      <td>72.000000</td>\n",
       "    </tr>\n",
       "    <tr>\n",
       "      <th>50%</th>\n",
       "      <td>3.000000</td>\n",
       "      <td>0.000000</td>\n",
       "      <td>28.000000</td>\n",
       "      <td>0.000000</td>\n",
       "      <td>0.000000</td>\n",
       "      <td>14.454200</td>\n",
       "      <td>155.000000</td>\n",
       "    </tr>\n",
       "    <tr>\n",
       "      <th>75%</th>\n",
       "      <td>3.000000</td>\n",
       "      <td>1.000000</td>\n",
       "      <td>39.000000</td>\n",
       "      <td>1.000000</td>\n",
       "      <td>0.000000</td>\n",
       "      <td>31.275000</td>\n",
       "      <td>256.000000</td>\n",
       "    </tr>\n",
       "    <tr>\n",
       "      <th>max</th>\n",
       "      <td>3.000000</td>\n",
       "      <td>1.000000</td>\n",
       "      <td>80.000000</td>\n",
       "      <td>8.000000</td>\n",
       "      <td>9.000000</td>\n",
       "      <td>512.329200</td>\n",
       "      <td>328.000000</td>\n",
       "    </tr>\n",
       "  </tbody>\n",
       "</table>\n",
       "</div>"
      ],
      "text/plain": [
       "            pclass     survived          age        sibsp        parch  \\\n",
       "count  1309.000000  1309.000000  1046.000000  1309.000000  1309.000000   \n",
       "mean      2.294882     0.381971    29.881135     0.498854     0.385027   \n",
       "std       0.837836     0.486055    14.413500     1.041658     0.865560   \n",
       "min       1.000000     0.000000     0.166700     0.000000     0.000000   \n",
       "25%       2.000000     0.000000    21.000000     0.000000     0.000000   \n",
       "50%       3.000000     0.000000    28.000000     0.000000     0.000000   \n",
       "75%       3.000000     1.000000    39.000000     1.000000     0.000000   \n",
       "max       3.000000     1.000000    80.000000     8.000000     9.000000   \n",
       "\n",
       "              fare        body  \n",
       "count  1308.000000  121.000000  \n",
       "mean     33.295479  160.809917  \n",
       "std      51.758668   97.696922  \n",
       "min       0.000000    1.000000  \n",
       "25%       7.895800   72.000000  \n",
       "50%      14.454200  155.000000  \n",
       "75%      31.275000  256.000000  \n",
       "max     512.329200  328.000000  "
      ]
     },
     "execution_count": 113,
     "metadata": {},
     "output_type": "execute_result"
    }
   ],
   "source": [
    "passengers.describe()"
   ]
  },
  {
   "cell_type": "markdown",
   "metadata": {},
   "source": [
    "From the observations of the types and values of the attributes of the dataframe `passengers`, we can convert the attibute `body` to an integer. We need to fill the NaN values first."
   ]
  },
  {
   "cell_type": "code",
<<<<<<< HEAD
   "execution_count": 21,
=======
   "execution_count": 114,
>>>>>>> 5b8da627f3dde85c6b0a7a12d0b5e00d03bdfe9b
   "metadata": {},
   "outputs": [],
   "source": [
    "passengers.body = passengers.body.fillna(\"0\")\n",
    "passengers.body = passengers.body.astype(int)"
   ]
  },
  {
   "cell_type": "markdown",
   "metadata": {},
   "source": [
    "We can also transform `sex`, `pclass` and `embarked` atibutes to `Categorical` attibutes. These attibutes can take on only a limited and fixed number of possible values.\n",
    "\n",
    "Converting these attibutes to a categorical variable will help us save some memory."
   ]
  },
  {
   "cell_type": "code",
<<<<<<< HEAD
   "execution_count": 22,
=======
   "execution_count": 115,
>>>>>>> 5b8da627f3dde85c6b0a7a12d0b5e00d03bdfe9b
   "metadata": {},
   "outputs": [],
   "source": [
    "passengers.sex  = passengers.sex.astype('category')\n",
    "passengers.pclass  = passengers.pclass.astype('category')\n",
    "passengers.embarked = passengers.embarked.astype('category')"
   ]
  },
  {
   "cell_type": "markdown",
   "metadata": {},
   "source": [
    "- ### Plot histograms for the travel class, embarkation port, sex and age attributes. For the latter one, use discrete decade intervals.\n",
    "\n",
    "A bar chart is the best way of representing categorical data. Regarding the age of the passengers, we will represent it in a histogram since it gives a discretized display of value frequency which is more suitable to represent non-categorical data.\n",
    "\n",
    "First, let's define a function to display a bar plot. We will reuse the same function to plot the `travel class`,`embarkation port` and `sex`."
   ]
  },
  {
   "cell_type": "code",
<<<<<<< HEAD
   "execution_count": 23,
=======
   "execution_count": 116,
>>>>>>> 5b8da627f3dde85c6b0a7a12d0b5e00d03bdfe9b
   "metadata": {},
   "outputs": [],
   "source": [
    "def bar_plot(title, data, n, xlabel, ylabel):\n",
    "    fig, ax = plt.subplots()\n",
    "    ax.set_title( title, fontsize=15, fontweight='bold')\n",
    "    ax.set(xlabel= xlabel)\n",
    "    ax.set(ylabel= ylabel)\n",
    "    sns.barplot(data[:n].keys(), data[:n], ax=ax)\n",
    "    locs, labels = plt.xticks()\n",
    "    plt.setp(labels,rotation=0) \n",
    "    plt.show()"
   ]
  },
  {
   "cell_type": "code",
   "execution_count": 117,
   "metadata": {},
   "outputs": [
    {
     "data": {
<<<<<<< HEAD
      "image/png": "iVBORw0KGgoAAAANSUhEUgAAAXoAAAEYCAYAAABSnD3BAAAABHNCSVQICAgIfAhkiAAAAAlwSFlz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\nzcwy56A3M8ucg97MLHMOejOzzP1/8MtYPim2LEYAAAAASUVORK5CYII=\n",
      "text/plain": [
       "<matplotlib.figure.Figure at 0x10f3408d0>"
=======
      "image/png": "iVBORw0KGgoAAAANSUhEUgAAAYgAAAEYCAYAAABGJWFlAAAABHNCSVQICAgIfAhkiAAAAAlwSFlz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\nEgSQc0MAAAAASUVORK5CYII=\n",
      "text/plain": [
       "<matplotlib.figure.Figure at 0x19ac013be80>"
>>>>>>> 5b8da627f3dde85c6b0a7a12d0b5e00d03bdfe9b
      ]
     },
     "metadata": {},
     "output_type": "display_data"
    }
   ],
   "source": [
    "bar_plot('Passengers per travel classes', passengers.groupby('pclass').size(), \n",
    "         len(passengers.groupby('pclass')),\n",
    "            \"Class\",\"Number of passengers\")"
   ]
  },
  {
   "cell_type": "markdown",
   "metadata": {},
   "source": [
    "This bar chart tells us that the passengers in class 3 are almost equal to the numbers of passengers travelling in classes 1 and 2 combined.\n",
    "\n",
    "Now, let's plot a bar chart of the number of passengers having embarked in the 3 differents ports of embarkation"
   ]
  },
  {
   "cell_type": "code",
   "execution_count": 118,
   "metadata": {},
   "outputs": [
    {
     "data": {
<<<<<<< HEAD
      "image/png": "iVBORw0KGgoAAAANSUhEUgAAAXoAAAEYCAYAAABSnD3BAAAABHNCSVQICAgIfAhkiAAAAAlwSFlz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\n6CWpcQa9JDXu/wMzxCx/7iiS7wAAAABJRU5ErkJggg==\n",
      "text/plain": [
       "<matplotlib.figure.Figure at 0x10f608a90>"
=======
      "image/png": "iVBORw0KGgoAAAANSUhEUgAAAYgAAAEYCAYAAABGJWFlAAAABHNCSVQICAgIfAhkiAAAAAlwSFlz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\nygnCzMxKOUGYmVkpJwgzMyv1/wEZAusP7s7O2AAAAABJRU5ErkJggg==\n",
      "text/plain": [
       "<matplotlib.figure.Figure at 0x19ac0093198>"
>>>>>>> 5b8da627f3dde85c6b0a7a12d0b5e00d03bdfe9b
      ]
     },
     "metadata": {},
     "output_type": "display_data"
    }
   ],
   "source": [
    "bar_plot('Passengers embarked per ports', passengers.groupby('embarked').size(), \n",
    "         len(passengers.groupby('embarked')),\n",
    "         \"Port\", \"Number of passengers\")    "
   ]
  },
  {
   "cell_type": "markdown",
   "metadata": {},
   "source": [
    "We can clearly see in this bar char that a large portion of the passengers have embarked from the port of Southhampton.\n"
   ]
  },
  {
   "cell_type": "code",
   "execution_count": 119,
   "metadata": {},
   "outputs": [
    {
     "data": {
<<<<<<< HEAD
      "image/png": "iVBORw0KGgoAAAANSUhEUgAAAXoAAAEYCAYAAABSnD3BAAAABHNCSVQICAgIfAhkiAAAAAlwSFlz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\nRU5ErkJggg==\n",
      "text/plain": [
       "<matplotlib.figure.Figure at 0x10f358860>"
=======
      "image/png": "iVBORw0KGgoAAAANSUhEUgAAAYgAAAEYCAYAAABGJWFlAAAABHNCSVQICAgIfAhkiAAAAAlwSFlz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\n",
      "text/plain": [
       "<matplotlib.figure.Figure at 0x19abf2709e8>"
>>>>>>> 5b8da627f3dde85c6b0a7a12d0b5e00d03bdfe9b
      ]
     },
     "metadata": {},
     "output_type": "display_data"
    }
   ],
   "source": [
    "bar_plot('Passengers gender', passengers.groupby('sex').size(), \n",
    "         len(passengers.groupby('sex')),\n",
    "        \"Sex\", \"Number of passengers\")"
   ]
  },
  {
   "cell_type": "markdown",
   "metadata": {},
   "source": [
    "The major portion of the passergers of the Titanic where men.\n",
    "\n",
    "Now we will plot the histogram of the age of passengers of the Titanic. We have noticed that the values of age < 0 might be faulty considering so tin order to not distort the histogram, we have decided to drop those values. "
   ]
  },
  {
   "cell_type": "code",
   "execution_count": 120,
   "metadata": {},
   "outputs": [],
   "source": [
    "passengers.loc[passengers['age']<1,'age'] = None"
   ]
  },
  {
   "cell_type": "markdown",
   "metadata": {},
   "source": [
    "Now that we have cleaned the data, we can plot a histogram.\n",
    "\n",
    "We choose bins=40 because we can see from the describtion of the dataframe that the age max is 80 years old, so the intervals will perfectily fit to the edge of the histogram."
   ]
  },
  {
   "cell_type": "code",
<<<<<<< HEAD
   "execution_count": 27,
=======
   "execution_count": 121,
>>>>>>> 5b8da627f3dde85c6b0a7a12d0b5e00d03bdfe9b
   "metadata": {},
   "outputs": [
    {
     "data": {
<<<<<<< HEAD
      "image/png": "iVBORw0KGgoAAAANSUhEUgAAAYIAAAEWCAYAAABrDZDcAAAABHNCSVQICAgIfAhkiAAAAAlwSFlz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\nCMzMas6FwMys5v4H1D8poXT44bcAAAAASUVORK5CYII=\n",
      "text/plain": [
       "<matplotlib.figure.Figure at 0x10f34bc18>"
=======
      "image/png": "iVBORw0KGgoAAAANSUhEUgAAAYIAAAEWCAYAAABrDZDcAAAABHNCSVQICAgIfAhkiAAAAAlwSFlz\nAAALEgAACxIB0t1+/AAAIABJREFUeJzt3XucXHV9//HXOwlIyGJCALchCEFEKLCCZkVuD7vLRaki\noVYpFDBQ2nhFtLESWhX9oTVWY0t/Vtt4KfHGigglBQtCykLpz4IJoMtVBMIlkgQxCWxIgcDn98f5\nLgzL7szZ7J4zJzvv5+Mxj5lzmXPeMzs7nznfc873KCIwM7PWNaHZAczMrLlcCMzMWpwLgZlZi3Mh\nMDNrcS4EZmYtzoXAzKzFuRDYy0i6Q1JXs3M0k6Q/kvSwpH5Jb2h2HrMiuRC0GEkrJR09aNzpkm4c\nGI6I/SOit8FyZkkKSZMKitpsXwY+HBFtEXHr4InptW9MhWKVpK9ImtiEnJUg6UJJmyXNaHYWGzkX\nAqukChSYPYA7GsxzYES0AUcBfwr8ReGpmmi4QidpCvDHwAbg1FJD2ZhwIbCXqd1qkHSwpOWSnpC0\nRtJX0mw3pPv16VfxoZImSPqkpAclrZX0HUlTa5b73jTtcUmfGrSez0i6RNL3JD0BnJ7W/TNJ6yU9\nKumrkratWV5I+qCkeyU9Kel8SXtJ+n8p78W18w96jUNmlfQKSf3AROAXku5r9H5FxN3AfwEHpGUv\nkHRfynSnpD+qWe9rJV0vaYOk30r6YRovSX+fsjwhqU/SwPJeIenLkh5Kf4N/ljQ5TeuS9Iik+em5\nj0o6o2Z9O0n697TMn0v6XO3Wn6R9JV0j6XeS7pF0Ys20CyV9XdJPJG0Euod5C/4YWA/8H2DuoPd5\nsqQlktZJukvSJyQ9UjN9V0k/lvSYpAckfaTR+20FiAjfWugGrASOHjTudODGoeYBfgaclh63AYek\nx7OAACbVPO/PgF8Dr0nzXgp8N03bD+gHjgC2JWt6ebZmPZ9JwyeQ/UCZDMwGDgEmpfXdBXy0Zn0B\nXA68EtgfeBpYltY/FbgTmDvM+zBs1pplv7bO+/jC9PTaVgNnpuH3ALum1/EnwEZgRpp2EfA3adp2\nwBFp/NuAFcA0QMDv1zzn74GlwHRgB+DfgS+kaV3AZrIv4W2AtwNPATum6T3ptn3K+fDA3xqYkobP\nSO/xG4DfAvul6ReS/co/fCDvMO/FMuDvgPaUZXbNtIXA9cCOwG7AL4FH0rQJ6TV/On0mXgPcD7yt\n2f8nrXZregDfSv6DZ1/y/WS/4AZuTzF8IbgB+Cyw86DlzOLlhWAZ8MGa4X3IvtwnpX/2i2qmbQ88\nw0sLwQ0Nsn8UuKxmOIDDa4ZXAOfUDC8C/mGYZQ2btWbZjQrBE8A64D7gc8CEYea9DZiTHn8HWAzs\nNmieI4FfkRW+CTXjRVZI9qoZdyjwQHrcBWwa9HdYm5YzMb2mfWqmfY4XC8GfAP81KMe/AOelxxcC\n32nwN9kdeB44KA1fDVxQM/0lX+zAn/NiIXgz8NCg5Z0L/Guz/09a7eamodZ0QkRMG7gBH6wz75nA\n64C7U9PCcXXm3RV4sGb4QbIi0J6mPTwwISKeAh4f9PyHawckvU7SFZJWp+aivwV2HvScNTWPNw0x\n3LYFWfN6Y0TsGBF7RcQnI+L5lPu9km5LTVrryZqMBnJ/guzL/WZlR2f9GUBE/CfwVeCfgLWSFkt6\nJbALWdFcUbO8q9L4AY9HxOaa4afS694lvaba97X28R7AmweWm5Z9CvB7w8w/lNOAuyLitjT8feBP\nJW2Thl/ydx9i/bsOWv9fM7K/gY2BZu+Qs4qLiHuBkyVNAN4FXCJpJ7JfxIP9huyfe8DuZE0Fa4BH\nyX51A1nbMbDT4NUNGv46cCtwckQ8KemjwLtH8XLyZt1ikvYAvkG2A/lnEfGcpNvIvvyJiNWkncqS\njgCulXRDRPw6Iv4R+EdJrwIuBv4KOI+soO0fEatGGOex9Jp2I9vaAHh1zfSHgesj4pg6y2jUPfF7\ngd0lrU7Dk8j+rm8na7Z7NK3/zmHW/0BE7N1gHVYwbxFYXZJOlbRL+rW7Po1+nuxL5nmydt0BFwEf\nk7SnpDayX/A/TL9WLwHeKemwtAP3M6Qvxzp2IGt+6Ze0L/CBsXpdDbKOxhSyL8/HANKO2wMGJkp6\nj6Td0uC6NO/zkt4k6c3pl/RG4H+B59P7/g3g71OBQNJMSW9rFCQiniPb9/EZSdun9/C9NbNcAbxO\n0mmStkm3N0n6/TwvVNKhwF7AwcBB6XYA8IOa9VwMnCtpR0kzgQ/XLOJm4ElJ56SdyhMlHSDpTXnW\nb2PHhcAaORa4Q9mRNBcAJ0XEptS083ngv9Nm/SHAt4Hvku1XeIDsy+wsgIi4Iz3uIfuV2E/Wlv10\nnXV/nOywzCfJvgx/OIava9isoxERd5Ltm/gZ2dZFB/DfNbO8CbgpvZ9LgbMj4n6yHd7fICsOD5I1\nm30pPeccsh3b/5OayK6lZuuqgQ+T7ThfTfZ6LyK95xHxJPBW4CSyLaTVwBeBV+Rc9lzg8ojoi4jV\nAzeyz8lxkqaT7cR+hOw9vpbsB8HA+p8DjiMrIA+Q7aj+ZsprJVKEL0xj5Uu/wtcDe0fEA83O0yok\nfRH4vYiY23DmYtb/AbIfE3/QjPXb0LxFYKWR9M7URDGF7PDRPrIjlKwg6TyB1ytzMNnO/8tKXP8M\nSYcrO29jH2B+meu3fLyz2Mo0h6x5QsBysl+G3iQt1g5kzUG7kjVVLSLbiVuWbckOSd2TbAuwB/ha\nieu3HNw0ZGbW4tw0ZGbW4raKpqGdd945Zs2alWvejRs3MmXKlGIDbaGqZqtqLqhutqrmgupmq2ou\nGL/ZVqxY8duI2KXhjM0+tTnPbfbs2ZHXddddl3veslU1W1VzRVQ3W1VzRVQ3W1VzRYzfbMDycBcT\nZmbWiAuBmVmLcyEwM2txLgRmZi3OhcDMrMW5EJiZtTgXAjOzFudCYGbW4lwIzMxa3FbRxYSVZ9aC\nK+tOX7nwHSUlMbOyeIvAzKzFuRCYmbU4FwIzsxbnQmBm1uJcCMzMWpwLgZlZi3MhMDNrcS4EZmYt\nrtBCIOljku6QdLukiyRtJ2m6pGsk3Zvudywyg5mZ1VdYIZA0E/gI0BkRBwATgZOABcCyiNgbWJaG\nzcysSYpuGpoETJY0Cdge+A0wB1iSpi8BTig4g5mZ1aHsQvcFLVw6G/g8sAn4aUScIml9RExL0wWs\nGxge9Nx5wDyA9vb22T09PbnW2d/fT1tb21i9hDFV1Wy1ufpWbag7b8fMqWVEesHW8J5VTVWzVTUX\njN9s3d3dKyKis9F8hXU6l9r+5wB7AuuBH0k6tXaeiAhJQ1aiiFgMLAbo7OyMrq6uXOvt7e0l77xl\nq2q22lynN+p07pSu4gPV2Bres6qparaq5gJnK7Jp6GjggYh4LCKeBS4FDgPWSJoBkO7XFpjBzMwa\nKLIQPAQcImn71AR0FHAXsBSYm+aZC1xeYAYzM2ugsKahiLhJ0iXALcBm4Faypp424GJJZwIPAicW\nlcHMzBor9MI0EXEecN6g0U+TbR2YmVkF+MxiM7MW50JgZtbiXAjMzFqcC4GZWYtzITAza3EuBGZm\nLa7Qw0dt/JlVpwuKlQvfUWISMxsr3iIwM2txLgRmZi3OhcDMrMW5EJiZtTgXAjOzFudCYGbW4nz4\nqFXGUIemzu/YzOkLrvShqWYF8haBmVmLK6wQSNpH0m01tyckfVTSdEnXSLo33e9YVAYzM2ussEIQ\nEfdExEERcRAwG3gKuAxYACyLiL2BZWnYzMyapKymoaOA+yLiQWAOsCSNXwKcUFIGMzMbgiKi+JVI\n3wZuiYivSlofEdPSeAHrBoYHPWceMA+gvb19dk9PT6519ff309bWNnbhx1BVs9Xm6lu1YYuX0zFz\n6qhyDLXu9smwZtPolz3Wqvq3hOpmq2ouGL/Zuru7V0REZ6P5Ci8EkrYFfgPsHxFragtBmr4uIuru\nJ+js7Izly5fnWl9vby9dXV2jiVyYqmarzVWvU7lGRntkz3BHDS3qm1S5o4aq+reE6marai4Yv9kk\n5SoEZTQN/SHZ1sCaNLxG0gyAdL+2hAxmZjaMMgrBycBFNcNLgbnp8Vzg8hIymJnZMAotBJKmAMcA\nl9aMXggcI+le4Og0bGZmTVLomcURsRHYadC4x8mOIjIzswrwmcVmZi2uYSGQNEXShPT4dZKOl7RN\n8dHMzKwMebYIbgC2kzQT+ClwGnBhkaHMzKw8eQqBIuIp4F3A1yLiPcD+xcYyM7Oy5CoEkg4FTgEG\nzviZWFwkMzMrU55CcDZwLnBZRNwh6TXAdcXGMjOzstQ9fFTSROD4iDh+YFxE3A98pOhgtvUZTfcU\nZtY8dbcIIuI54IiSspiZWRPkOaHsVklLgR8BGwdGRsSlwz/FzMy2FnkKwXbA48CRNeOCl3YbYWZm\nW6mGhSAizigjiJmZNUeeM4tfJ2mZpNvT8OslfbL4aGZmVoY8h49+g+zw0WcBIuKXwElFhjIzs/Lk\nKQTbR8TNg8ZtLiKMmZmVL8/O4t9K2otsBzGS3g08WmgqG5VGx/NX7bKPZtZceQrBh4DFwL6SVgEP\nAKfmWbikacA3gQPICsmfAfcAPwRmASuBEyNi3UiDm5nZ2GjYNBQR90fE0cAuwL4RcURErMy5/AuA\nqyJiX+BA4C5gAbAsIvYGlqVhMzNrkoZbBJL+ctAwwAZgRUTcVud5U4G3AKcDRMQzwDOS5gBdabYl\nQC9wzoiTm5nZmMizs7gTeD8wM93eBxwLfEPSJ+o8b0/gMeBfJd0q6ZvpGsbtETGwj2E10L7F6c3M\nbNQUEfVnkG4A3h4R/Wm4jaw76mPJtgr2G+Z5ncD/AIdHxE2SLgCeAM6KiGk1862LiB2HeP48YB5A\ne3v77J6enlwvqL+/n7a2tlzzlq2sbH2rNtSd3jFz6kuGa3M1em7Z2ifDmk0vz9xs/pyNXFVzwfjN\n1t3dvSIiOhvNl2dn8auAp2uGnyX7Vb9J0tPDPAfgEeCRiLgpDV9Ctj9gjaQZEfGopBnA2qGeHBGL\nyXZS09nZGV1dXTmiQm9vL3nnLVtZ2U5vdNTQKS/NUJur0XPLNr9jM4v6Jr0sc7P5czZyVc0Fzpan\nEHwfuEnS5Wn4ncAPUjPPncM9KSJWS3pY0j4RcQ9wVJr/TmAusDDdXz7cMszMrHh5+ho6X9JVwGFp\n1PsjYnl6fEqDp58FfF/StsD9wBlk+yUulnQm8CBw4hYlNzOzMZFniwDgFmDVwPySdo+Ihxo9KR1V\nNFT71FG5E5qZWaHyHD56FnAesAZ4DhDZyWGvLzaamZmVIc8WwdnAPhHxeNFhzMysfHnOI3iY7AQy\nMzMbh/JsEdwP9Eq6kprDSCPiK4WlMjOz0uQpBA+l27bpZrbVqdcjq3tjtVaX5/DRzwJI2j4inio+\nkpmZlSnPpSoPlXQncHcaPlDS1wpPZmZmpcizs/gfgLcBjwNExC/IehU1M7NxIE8hICIeHjTquQKy\nmJlZE+TZWfywpMOAkLQN2XkFdxUby8zMypJni+D9ZJernEnWzcRBadjMzMaBPEcN/ZbGncuZmdlW\nKk9fQ38HfA7YBFxF1sfQxyLiewVns4IMPqZ+fsfmyl2HwMzKk6dp6K0R8QRwHLASeC3wV0WGMjOz\n8uQpBANbDe8AfhQR7nfIzGwcyXPU0BWS7iZrGvqApF2A/y02lpmZlaXhFkFELCC7OllnRDwLbATm\n5Fm4pJWS+iTdJml5Gjdd0jWS7k33L7twvZmZlSfPzuL3AFdFxHOSPgm8kWzn8eqc6+hORx4NWAAs\ni4iFkhak4XNGmNtaTL1O48Adx5mNRp59BJ+KiCclHQEcDXwL+Poo1jkHWJIeLwFOGMWyzMxslBQR\n9WeQbo2IN0j6AtAXET8YGNdw4dIDZBe1eQ74l4hYLGl9RExL0wWsGxge9Nx5wDyA9vb22T09Pble\nUH9/P21tbbnmLVtZ2fpWjWx/fvtkWLOpoDCjlDdbx8ypdafXe08aPXco/pyNXFVzwfjN1t3dvSIi\nhrpu/EvkKQRXkJ1RfAxZs9Am4OaIOLDhwqWZEbFK0quAa4CzgKW1X/yS1kVE3f0EnZ2dsXz58kar\nA6C3t5eurq5c85atrGyNmlEGm9+xmUV9eY4bKF/ebI2ahsb6egT+nI1cVXPB+M0mKVchyNM0dCJw\nNfC2iFgPTCfneQQRsSrdrwUuAw4G1kiakULOANbmWZaZmRUjz1FDT0XEpcAGSbsD25CuTVCPpCmS\ndhh4DLwVuB1YCsxNs80FLt/C7GZmNgbyHDV0PLAI2JXs1/vuZIVg/wZPbQcuy3YDMAn4QURcJenn\nwMWSzgQeJNviMDOzJsnTMHw+cAhwbdpp3A2c2uhJEXE/8LL9CBHxOHDUSIOamVkx8uwjeDZ9eU+Q\nNCEirgMa7nwwM7OtQ54tgvWS2oAbgO9LWkt2drGZmY0DebYI5gBPAR8j64b6PuCdRYYyM7Py1N0i\nkHQCWbfTfRFxNS+eEWxmZuPEsFsEkr5GthWwE3C+pE+VlsrMzEpTb4vgLcCBqbO57YH/IjuCyMzM\nxpF6+wieiYjnIDupDFA5kczMrEz1tgj2lfTL9FjAXmlYQETE6wtPZ2ZmhatXCH6/tBRmZtY0wxaC\niHiwzCBmZtYcec4jMDOzccyFwMysxdU7j2BZuv9ieXHMzKxs9XYWz5B0GHC8pB4GHT4aEbcUmszM\nzEpRrxB8GvgUsBvwlUHTAjiyqFBmZlaeekcNXQJcIulTEbHFZxRLmggsB1ZFxHGSpgM/BGYBK4ET\nI2Ldli7fzMxGJ8+lKs+XdLykL6fbcSNcx9nAXTXDC4BlEbE3sCwNm5lZkzQsBJK+QPZlfme6nS3p\nb/MsXNJuwDuAb9aMnsOLvZguAU4YSWAzMxtbioj6M2TdShwUEc+n4YnArXm6mJB0CfAFYAfg46lp\naH1ETEvTBawbGB703HnAPID29vbZPT09uV5Qf38/bW1tueYtW1nZ+lZtGNH87ZNhzaaCwoxS3mwd\nM6fWnV7vPWn03KH4czZyVc0F4zdbd3f3iohoeEXJPFcoA5gG/C49zvVfk5qQ1kbECkldQ80TESFp\nyEoUEYuBxQCdnZ3R1TXkIl6mt7eXvPOWraxspy+4ckTzz+/YzKK+vB+FcuXNtvKUrrrT670njZ47\nFH/ORq6qucDZ8vz3fwG4VdJ1ZIeQvoV87fqHkx16+nZgO+CVkr4HrJE0IyIelTQDWLuF2c3MbAw0\nLAQRcZGkXuBNadQ5EbE6x/POBc4FSFsEH4+IUyV9CZgLLEz3l29ZdLMXzRrhVpCZvShXe0BEPAos\nHaN1LgQulnQm8CBw4hgt18zMtkApDcMR0Qv0psePA0eVsV6zsTDU1sb8js2cvuBKVi58RxMSmY0t\ndzpnZtbi6hYCSRMl3V1WGDMzK1/dQpCuWXyPpN1LymNmZiXLs49gR+AOSTcDGwdGRsTxhaUyM7PS\n5CkEnyo8hZmZNU2e8wiul7QHsHdEXCtpe2Bi8dHMzKwMeTqd+wvgEuBf0qiZwL8VGcrMzMqT5/DR\nD5F1F/EEQETcC7yqyFBmZlaePIXg6Yh4ZmBA0iSyK5SZmdk4kKcQXC/pr4HJko4BfgT8e7GxzMys\nLHkKwQLgMaAPeB/wE+CTRYYyM7Py5Dlq6HlJS4CbyJqE7olGV7MxM7OtRsNCIOkdwD8D95Fdj2BP\nSe+LiP8oOpyZmRUvzwlli4DuiPg1gKS9gCsBFwIzs3EgTyF4cqAIJPcDTxaUx2yr0uiCOO6m2rYG\nwxYCSe9KD5dL+glwMdk+gvcAPy8hm5mZlaDeFsE7ax6vAf4gPX4MmNxowZK2A24AXpHWc0lEnCdp\nOvBDYBawEjgxItaNOLmZmY2JYQtBRJwxymU/DRwZEf2StgFulPQfwLuAZRGxUNICssNTzxnluszM\nbAvlOWpoT+Assl/wL8zfqBvqdIhpfxrcJt0CmAN0pfFLyC5h6UJgZtYkanRKgKRfAN8iO6Hs+YHx\nEXF9w4VLE4EVwGuBf4qIcyStj4hpabqAdQPDg547D5gH0N7ePrunpyfXC+rv76etrS3XvGUrK1vf\nqg0jmr99MqzZVFCYUSojW8fMqXWnD/V+5s3VaNlFqOr/QFVzwfjN1t3dvSIiOhvNl6cQ3BQRb96i\nFC8uYxpwGdmWxY21X/yS1kXEjvWe39nZGcuXL8+1rt7eXrq6ukaRtjhlZWt0JMtg8zs2s6gvzwFk\n5SsjW6Mje4a7eH2eXM04aqiq/wNVzQXjN5ukXIUgz3/YBZLOA35K1u4PQETckjdMRKyXdB1wLLBG\n0oyIeFTSDGBt3uWYjTf1irYPPbWy5CkEHcBpwJG82DQUaXhYknYBnk1FYDJwDPBFYCkwF1iY7i/f\nsuhmZjYW8hSC9wCvqe2KOqcZwJK0n2ACcHFEXCHpZ8DFks4EHgROHOFyzcxsDOUpBLcD0xhhE05E\n/BJ4wxDjHweOGsmyzFqRz1q2suQpBNOAuyX9nJfuI6h7+KiZmW0d8hSC8wpPYWZmTZPnegQNzxcw\nM7OtV54zi5/kxWsUb0t2hvDGiHhlkcHMzKwcebYIdhh4nM4EngMcUmQoMzMrT55rFr8gMv8GvK2g\nPGZmVrI8TUPvqhmcAHQC/1tYImtopF1ImJnVk+eoodrrEmwmu4bAnELSmJlZ6fLsIxjtdQnMKm1r\n3cIaLvf8js0v9PNulke9S1V+us7zIiLOLyCPmZmVrN4WwcYhxk0BzgR2AlwIzMzGgXqXqlw08FjS\nDsDZwBlAD7BouOeZmdnWpe4+gnSh+b8ETiG7rOQbfaF5M7Pxpd4+gi+RXWh+MdAREf3DzVtl7sHR\nzKy+eieUzQd2BT4J/EbSE+n2pKQnyolnZmZFG7YQRMSEiJgcETtExCtrbjvk6WdI0qslXSfpTkl3\nSDo7jZ8u6RpJ96b7utcrNjOzYo2oi4kR2gzMj4j9yPom+pCk/YAFwLKI2BtYlobNzKxJCisEEfHo\nwAXuI+JJ4C5gJtlZyUvSbEuAE4rKYGZmjSkiGs812pVIs4AbgAOAhyJiWhovYN3A8KDnzAPmAbS3\nt8/u6enJta7+/n7a2tpeGO5btaHu/B0zp+Za7lgYnG1LNXpNI9U+GdZsGtNFjpmqZsubq9Hna6z/\nlpBle9X08j7XeY3V578I4zVbd3f3iojobDRf4YVAUhtwPfD5iLhU0vraL35J6yKi7n6Czs7OWL58\nea719fb20tXV9cJwlY4aGpxtS411lwjzOzazqC9Pt1Plq2q2vLkafb6K6N5ifsdmzjqlet2BjdXn\nvwjjNZukXIWgyH0ESNoG+DHw/Yi4NI1eI2lGmj4DWFtkBjMzq6+wn1qp2edbwF0R8ZWaSUuBucDC\ndH95URnMmm1r7dDOWkuR29yHA6cBfZJuS+P+mqwAXCzpTOBB4MQCM5iZWQOFFYKIuBHQMJOPKmq9\nZmY2MoXuIzAzs+qr3uEYJavXhut+iMysFXiLwMysxbkQmJm1OBcCM7MW50JgZtbiWn5ncVX5RCQz\nK4u3CMzMWpwLgZlZi3PTUIEGN+/M79jM6Wmcz1GwIo22adGfz9biLQIzsxbnLQIzexmfcd9avEVg\nZtbiXAjMzFqcC4GZWYsrrBBI+raktZJurxk3XdI1ku5N93WvVWxmZsUrcmfxhcBXge/UjFsALIuI\nhZIWpOFzCswwKlW68L1ZVYzm/8L/U9VU2BZBRNwA/G7Q6DnAkvR4CXBCUes3M7N8FBHFLVyaBVwR\nEQek4fURMS09FrBuYHiI584D5gG0t7fP7unpybXO/v5+2traXhjuW7VhFK9gbLVPhjWbsscdM6fW\nnbfM3LW5qqaq2aqaC6qbLU+uRv8XRRn8vVElo8nW3d29IiI6G83XtPMIIiIkDVuFImIxsBigs7Mz\nurq6ci23t7eX2nlPr1DnbfM7NrOoL3vLV57SVXfeMnPX5qqaqmarai6obrY8uRr9XxRl8PdGlZSR\nreyjhtZImgGQ7teWvH4zMxuk7J8NS4G5wMJ0f3nJ6zezCvPO5OYo8vDRi4CfAftIekTSmWQF4BhJ\n9wJHp2EzM2uiwrYIIuLkYSYdVdQ6tya+8IyZVYXPLDYza3EuBGZmLc6FwMysxbkQmJm1OBcCM7MW\n50JgZtbiXAjMzFqcC4GZWYtzITAza3HV66LQzGwY9c7Idz9EW85bBGZmLc5bBGbW8vpWbah7DZDx\nvrXhLQIzsxbnQmBm1uLcNGRmLaHejub5HSUGqSBvEZiZtbimbBFIOha4AJgIfDMifKUyMxuVIi/2\nNJplN9rR3GjZFx47ZYvXnVfpWwSSJgL/BPwhsB9wsqT9ys5hZmaZZjQNHQz8OiLuj4hngB5gThNy\nmJkZoIgod4XSu4FjI+LP0/BpwJsj4sOD5psHzEuD+wD35FzFzsBvxyjuWKtqtqrmgupmq2ouqG62\nquaC8Zttj4jYpdFMlT1qKCIWA4tH+jxJyyOis4BIo1bVbFXNBdXNVtVcUN1sVc0FztaMpqFVwKtr\nhndL48zMrAmaUQh+DuwtaU9J2wInAUubkMPMzGhC01BEbJb0YeBqssNHvx0Rd4zhKkbcnFSiqmar\nai6obraq5oLqZqtqLmjxbKXvLDYzs2rxmcVmZi3OhcDMrMWNq0Ig6VhJ90j6taQFTc7ybUlrJd1e\nM266pGsk3Zvud2xCrldLuk7SnZLukHR2FbJJ2k7SzZJ+kXJ9tgq5avJNlHSrpCsqlmulpD5Jt0la\nXrFs0yRdIuluSXdJOrTZ2STtk96rgdsTkj7a7Fw1+T6WPv+3S7oo/V8Unm3cFIIKdl1xIXDsoHEL\ngGURsTewLA2XbTMwPyL2Aw4BPpTep2Znexo4MiIOBA4CjpV0SAVyDTgbuKtmuCq5ALoj4qCaY82r\nku0C4KqI2Bc4kOz9a2q2iLgnvVcHAbOBp4DLmp0LQNJM4CNAZ0QcQHYwzUmlZIuIcXEDDgWurhk+\nFzi3yZlmAbfXDN8DzEiPZwD3VOB9uxw4pkrZgO2BW4A3VyEX2bkuy4AjgSuq9LcEVgI7DxrX9GzA\nVOAB0gHDD1f9AAAD2UlEQVQpVcpWk+WtwH9XJRcwE3gYmE52ROcVKWPh2cbNFgEvvokDHknjqqQ9\nIh5Nj1cD7c0MI2kW8AbgJiqQLTW/3AasBa6JiErkAv4B+ATwfM24KuQCCOBaSStStyxQjWx7Ao8B\n/5qa1L4paUpFsg04CbgoPW56rohYBXwZeAh4FNgQET8tI9t4KgRblcjKe9OO3ZXUBvwY+GhEPFE7\nrVnZIuK5yDbZdwMOlnRAs3NJOg5YGxErhpunyX/LI9J79odkzXxvqZ3YxGyTgDcCX4+INwAbGdSk\n0cz3LZ3Mejzwo8HTmpUrtf3PISuiuwJTJJ1aRrbxVAi2hq4r1kiaAZDu1zYjhKRtyIrA9yPi0ipl\nA4iI9cB1ZPtYmp3rcOB4SSvJeso9UtL3KpALeOFXJBGxlqyt++CKZHsEeCRt1QFcQlYYqpANssJ5\nS0SsScNVyHU08EBEPBYRzwKXAoeVkW08FYKtoeuKpcDc9HguWft8qSQJ+BZwV0R8pSrZJO0iaVp6\nPJlsv8Xdzc4VEedGxG4RMYvsM/WfEXFqs3MBSJoiaYeBx2TtybdXIVtErAYelrRPGnUUcGcVsiUn\n82KzEFQj10PAIZK2T/+nR5HtYC8+WzN20hS4s+XtwK+A+4C/aXKWi8ja+Z4l+3V0JrAT2U7He4Fr\ngelNyHUE2ablL4Hb0u3tzc4GvB64NeW6Hfh0Gt/096wmYxcv7ixuei7gNcAv0u2Ogc98FbKlHAcB\ny9Pf9N+AHauQDZgCPA5MrRnX9Fwpx2fJfgDdDnwXeEUZ2dzFhJlZixtPTUNmZrYFXAjMzFqcC4GZ\nWYtzITAza3EuBGZmLc6FwKwBSSdICkn7NjuLWRFcCMwaOxm4Md2bjTsuBGZ1pD6ZjiA7IfCkNG6C\npK+lfvavkfQTSe9O02ZLuj51Anf1QNcAZlXmQmBW3xyyPvV/BTwuaTbwLrIuxvcDTiPrAn2gD6f/\nC7w7ImYD3wY+34zQZiMxqdkBzCruZLILrEDW6dzJZP83P4qI54HVkq5L0/cBDgCuybqKYSJZNyNm\nleZCYDYMSdPJLkbTISnIvtiDrJfPIZ8C3BERh5YU0WxMuGnIbHjvBr4bEXtExKyIeDXZVbd+B/xx\n2lfQTtYZHWRXktpF0gtNRZL2b0Zws5FwITAb3sm8/Nf/j4HfI+tR9k7ge2SX1dwQEc+QFY8vSvoF\nWc+uh5UX12zLuPdRsy0gqS0i+iXtBNwMHB5ZH/xmWx3vIzDbMlekC+lsC5zvImBbM28RmJm1OO8j\nMDNrcS4EZmYtzoXAzKzFuRCYmbU4FwIzsxb3/wH3N/9NaYyEMgAAAABJRU5ErkJggg==\n",
      "text/plain": [
       "<matplotlib.figure.Figure at 0x19abf006588>"
>>>>>>> 5b8da627f3dde85c6b0a7a12d0b5e00d03bdfe9b
      ]
     },
     "metadata": {},
     "output_type": "display_data"
    }
   ],
   "source": [
    "passengers.age.hist(bins=40)\n",
    "plt.xlabel(\"Age\")\n",
    "plt.ylabel(\"Number of Passengers\")\n",
    "plt.title(\"Histogram of Passenger Age\");\n",
    "plt.show()"
   ]
  },
  {
   "cell_type": "markdown",
   "metadata": {},
   "source": [
    "This histogram have an almost normal distribution. The statistics show that median is 28 year old, and mean is 30 year old. You can also tell that the distribution is normal when you have similar median and mean.\n",
    "\n",
    "Besides, the plot show that the ages are distributed around ~ 25."
   ]
  },
  {
   "cell_type": "markdown",
   "metadata": {},
   "source": [
    "- ### Calculate the proportion of passengers by cabin floor. Present your results in a pie chart."
   ]
  },
  {
   "cell_type": "markdown",
   "metadata": {},
   "source": [
    "The first letter on the cabin number is indicating the floor. First, we wrote a function to convert the cabin to floor."
   ]
  },
  {
   "cell_type": "code",
<<<<<<< HEAD
   "execution_count": 28,
=======
   "execution_count": 122,
>>>>>>> 5b8da627f3dde85c6b0a7a12d0b5e00d03bdfe9b
   "metadata": {},
   "outputs": [],
   "source": [
    "def string_to_floor(x):\n",
    "    #We keep just the last letter of the cabin the avoid the exception (e.g. for F G63 we just keep G)\n",
    "    x=re.sub('[^a-zA-Z]+', '',x)\n",
    "    x=x[-1]\n",
    "    \n",
    "    floor_list=['A','B','C','D','E','F','G']\n",
    "    \n",
    "    #If x does not belong to the floor list, we return None\n",
    "    if (x in  floor_list):\n",
    "        return x\n",
    "    else:\n",
    "        return None"
   ]
  },
  {
   "cell_type": "markdown",
   "metadata": {},
   "source": [
    "We need to fill the Na values for the function define previously to work properly."
   ]
  },
  {
   "cell_type": "code",
<<<<<<< HEAD
   "execution_count": 29,
=======
   "execution_count": 123,
>>>>>>> 5b8da627f3dde85c6b0a7a12d0b5e00d03bdfe9b
   "metadata": {},
   "outputs": [],
   "source": [
    "passengers.cabin = passengers.cabin.fillna('Unknown')\n",
    "passengers.floor = passengers.cabin.apply(lambda x : string_to_floor(x))\n",
    "passengers.floor = passengers.floor.astype('category')"
   ]
  },
  {
   "cell_type": "markdown",
   "metadata": {},
   "source": [
    "Plot a pie chart showing the proportion of passengers by cabin floor."
   ]
  },
  {
   "cell_type": "code",
<<<<<<< HEAD
   "execution_count": 30,
=======
   "execution_count": 124,
>>>>>>> 5b8da627f3dde85c6b0a7a12d0b5e00d03bdfe9b
   "metadata": {},
   "outputs": [
    {
     "data": {
<<<<<<< HEAD
      "image/png": "iVBORw0KGgoAAAANSUhEUgAAAWQAAADuCAYAAAAOR30qAAAABHNCSVQICAgIfAhkiAAAAAlwSFlz\nAAALEgAACxIB0t1+/AAAIABJREFUeJzsnXl8XHW5/9/fc+bMlpmTfWuaNm2TZmvaTulCW7qldKGB\nsCmKClGQtYryU7zovUoU1Lpc3C7KvSpa13sVUJCi7JuArC0MbVq6pWmzbzOTfbbz++NM2gJdks4k\nM0nP+/U6rybTc57zTDL5zDPf77MITdMwMDAwMIg/UrwdMDAwMDDQMQTZwMDAIEEwBNnAwMAgQTAE\n2cDAwCBBMATZwMDAIEEwBNnAwMAgQTAE2cDAwCBBMATZwMDAIEEwBNnAwMAgQTAE2cDAwCBBMATZ\nwMDAIEEwBNnAwMAgQTAE2cDAwCBBMATZwMDAIEEwBNnAwMAgQTAE2cDAwCBBMATZwMDAIEEwBNnA\nwMAgQTAEeQIihAgJIXYIId4SQrwphFgWb58MDAyiRxgz9SYeQoheTdMcka83AF/RNG1VnN0yMDCI\nEiNCnvioQHe8nTAwMIgeU7wdMDgjbEKIHYAVyAUq4+yPgYFBDDCWLCYg71uyWAr8ApijTcRfZm2y\nDNjfd9hO8L0tckUACEb+Pf7r9z82AHQBndR6B8fp2RgYRIUhyBOQ4wU58n0rUKFpWlsc3TpGbbId\nPXLPBXIix4m+TgfM4+BRP9B5iqMDOAIcAI5Q6w2Pg08GBh/AEOQJyPsi5BLgn0C2pmmhcXOiNjkd\nKH7fMVvTtHwhhHPc/Ig9fuAQujh/8Kj1+uLom8EkxxDkCYgQIgS4h79Fz7LYFvMb1SYLoAgoJSK6\nmqYVA6VCiLSY329i0AXsQf/5vwW8DbxtCLVBLDAE2eAYtclZwBJgSVjTzgUWSUKocfZqIqABf6LW\n+9F4O2IwsTGyLM5WapNtwAIi4qtpLJUlMXX4vyUh4ufbxEMAf4q3EwYTH0OQzxZ0AV6hadq6kMY6\nWVAuhDBBRHwN/Y2GvcBf4+2EwcTHEOTJir7+Oz8U1jYGwlxollkkCaEIITAZ4htr7jYyMwxigSHI\nk4naZDWsaesGg1ymSKxXZJEhSwLZqMccS9qBX8fbCYPJgSHIE53a5JShoPaRkMbVVhOLJSFMdiXe\nTp1V/FesC08qtlZku2vcrbG0aTAxMLIsJiK1yXbfkPahsMa1TjPLZEkYb6zxoR+YRq23M1YGK7ZW\nLEfPK28EXjv+cNe4PbG6j0FiYgjyRKE2Wen1a5sCIa53WlhrkoQl3i4ZcA+13s9Ea0R1qanA54Gu\nvGvzrjA5TSdqp6oB+9DF+QXg7+4a96Fo722QWBiRVYIz8O/q6oGgdpPDLDY5zMJx+isMxgNN00JC\niLtjZG4NMN0yxTJTdsgn6209XKRTBHwMoGJrRR3w98jxvLvG7Y+RPwZxwoiQE5DG/+d0hDRuTbOJ\n6x3mY7nBBgnFn6n1XhGtEdWl2oG7ga7sD2VvsE61LjhDU73A00QE2oieJyZGhJxAvHOzY67TLL6W\n4xAXWkzGkkSC870Y2VkKWJQ0RbFMscyLwo4DqI4cRvQ8QTEi5Djzx8vtwpUrfTzFKr6YnSTmCaNC\nbiLwHLXe1dEaUV2qAnwfGMq8MPNce6F9RdSenZg+9Oj5UWCbu8Z9eIzuYxAlRoQcJ+o2O1IUWXx5\nU5HpmmSryIi3PwajIlbR8XwgWbJJjdbp1oUxsnkikoCLIodWsbXiWeBXwAPuGnf/GN7XYJQYEfI4\n85tLbXmLpsjfnJkqfdRYlpiQ7ALmUOuN6g9HdakScCdgT1ubVuKscG6MiXejw4feg+M+d4375Tjc\n3+B9GII8Tnx3nTV/TYHpe3OypEtsiiHEE5hrqPX+KlojqkstA76ExKGp10+9RbbKKTHwLRp2o1cc\n/sZd426Osy9nLYYgjzHfrLTmnj9T/s6cLPnDSWZhjbc/BlHRBMyg1hvVBpnqUgXwRWB68tLknJQl\nKZfHxLvYEAIeQ1/SeNjYDBxfjDXkMeKOVZbMjYWmLZ871/xRh1nY4+2PQUz4cbRiHGEaUA4ccpQ5\nLouBvVgiA5siR1vF1op7gJ+6a9wd8XXr7MCIkGPMlXMU9aZF5m/Pz5GvVi1GIcckogfIp9brjdaQ\n6lKvAxY6KhzW9LXpV0fv2pgzAPwW+IG7xr073s5MZgxBjhHVxYrjotmmT1fNNn15ilPKirc/BjHn\nbmq9X4jWiOpSM4HvAEdyr8q90pxuLozetXFDQ0+du9td43463s5MRowliyipLlakojTp/P9Yaf7+\nwinyHMlIJJ6MBIEfxsjWaiBsm2HLmGBiDHr5dhVQVbG14nXgDneN+9E4+zSpMCLkKKguVqbVzFO+\nv6HQdKHDLGzx9sdgzPgdtd6rojWiulQn8J9Ae/YV2VXWKdZoKvMShX+hC/Pj8XZkMmBEyGdAdbFi\nXzVdvv7HF1j/rSBFyom3PwZjTqwKQZYBJnOW2WbJsVTEyGa8ORd4rGJrxQvA19w17mfj7M+ExoiQ\nR0F1sSJyHOLcq+YqP16WLy+QJWHM4pj8PE6td0O0RlSXakEvk+7LrM5cYZ9pP1lXt4nOM8Bt7hr3\nG/F2ZCJiCMoIqS5Wcpfkyd+5q9KybcV000JDjM8aYhUdLwAccpKs2abZzomRzURkDfBqxdaKX1Zs\nrciOtzMTDSNCPg3VxYoErLlqrvKNS0pMixXZmM5xFrGdWu+ZtsM8iupSZeBbgCl9fXqFo8yxLnrX\nJgQ+4C7gR0aBycgworxTUF2spExxitu/c77lvg+XK8sMMT7r+H6M7JQBWcIk+uyz7OfGyOZEQAW+\nC7xTsbXiwng7MxEwIuSTUF2slK2aLt95/TnmDU6LSIq3PwbjTgMwi1pvMBojkTLprwA5KeelTE1e\nmHxJTLybmPwNuNld4z4Sb0cSFSPiex/VxYrZLHPJLUvM/145Q64w8orPWn4QrRhHmAEUAoccpY6o\nJ4xMcC4CVlVsrfgy8DN3jduIBt+HsWRxHNXFSk6eU9x59wbrT86faZpriPFZiwf4RYxsXQAMOV3O\nQjlJNio49WWMe4BnK7ZWzIq3M4mGESGjp7MB55ZkSLd+ZYVlQ4pVqPH2ySCu/Ixab2+0RlSXmgMs\nBA475zqjTp2bZKwE3qrYWnE7cI8RLeuc9RFyJIvisuX58h13rrFcZIjxWc8Q8OMY2VoLBO1F9mwl\nVSmIkc3JRBLwE+DRiq0VmfF2JhE4qwW5ulixANdfVmr6/BeXmc+3mM6efsWHvWHWbO2j9J5eyn/a\ny4/+NQTAbY8PUvJfvcz9WS+X/l8/nsETBy7XPDRA1vd6mPPT9waS//bEIHN/1svVfxk4+thv3/If\ntT8B+B213pZojaguNRm9b0Wreo66PGqvJjcbgR0VWytWxtuReHPWCnJ1saICX/jMYvP1n5xvPk+W\nhBxvn8YTkwT/ud5K3WYH/7o2iXteC7CrPcS6WSbeuTmJt29yMDtN4tsvnFhIPzlf4R+feG+bZ++g\nxktHQrx9k4OQpuFuDTEQ0Pj1WwFuXmQej6cVFZqechSrVLcVgGzJtTjM2eayGNmczEwBnq7YWvHV\niq0VZ60unZVPvLpYyTHLfO0bayw162eZXPH2Jx7kOiUW5OrvQU6LoDRTotGnsX6WCZOk72WeO1Xm\nSE/4hNevnG4izfbePU9JgD+koWkaAwFQZPjeS35uWWxGkRN/f1QI8Qi13qj7/aou1Yre4L01+dzk\npcLYHB4pMvAN9N4YZ2WV31knyNXFSpFd4evfX2+9Yn6OPDve/iQC9Z4w25tDLJn63g8J9+0IcEHh\nyPd9nRbB5aUKrv/uY0aKRLJF8FpTiItLlFi7PFbEqkx6MWAzqSbJOtV6Vr7hR8n5wPaKrRVjOYk7\nITmrBLm6WFlklvn3b6+1ri9IkfLj7U8i0OvXuPxP/fxwoxXVciyQ++bzQ5gk+HjF6MT0S8st7LjR\nwX9usPLVZ4b4xmoLv3jTzxV/7ueu5xN6HfkVar0vRGtEdakmoBroTFmeskjIYsK8GyUYucBzFVsr\nEmne4Jhz1ghydbGy2CTx2S3nW5fNSJUK4u1PIhAI6WL88QqFy0qP6cbWHX4e2Rvk95fZONNP29ub\nQwDMTpf4zVsB/vRhO++0hdjbGYqJ72NArKLjCiBdmMWgbYZtcYxsnq3YgT9HUuPOCs4KQa4uVlyS\nYPO31loWFqZJRfH2JxHQNI1rHx6kNEPm/y21HH38H/uCfOdFPw9/1IZdOfOlz68+M8Q31lgIhCEU\nSdSQBPQHovV8TNgH/CVaI5Ey6WrAl7I0ZZ5kloyS++gRwLcrtlb8qmJrReLvDEfJpBfk6mJljoBb\n7lxjcZVkyKXx9idRePFwiN++HeDpg0Hm39vL/Ht7eXRvgM88OkCPX2Pdb/uZf28vNz6ip6819YTZ\n9Pv+o9df+UA/S3/Zx57OMFPv7uGXbx5r5vXX3QEWTZGZ4pRIsQqWTpWp+FkvQsC8nIRMZrmbWu+J\ndy9HRxEwA4EnqThpaQzsGRzjk8DjFVsrJnWdwKRuLlRdrBQDX7pjlcV1zhTZ2FwxOBHtwHRqvQOn\nPfM0qC71c0CJukhNTV2e+pHoXTM4Aa8CG9017u54OzIWTNoIubpYmQV88fbzzBWGGBucgntiJMZ5\nwHygzTHHMVmngSQCi9HzlTPi7chYMCkFubpYKQBu++R8pWBZvmlRvP0xSFgG0BvdxILzgUBSadJU\nJVkxMnjGlvnozYkm3TzLSSfI1cVKFnDbyuly2sXFpsp4+2OQ0PyKWm9HtEZUl5qK3iynVXWpRnQ8\nPpSjp8VNjbcjsWRSCXJ1sWIHPjc9WTg3LzJvMubeGZwMTdPCwN0xMrcKwDrVmqJkKsUxsmlwemYD\nT1ZsrUiPtyOxYtIIVqRr2yeBnGSr8Lrbwm/1DGmeOLtlkKAIIR6k1rs/WjuqS7WjN8dpTV5ilEnH\ngWLgkYqtFfbTnjkBmEz9kFejtzuse7s1HHy7degJ4Inl+XLu6gK5vDRTLlMtIjW+LhokELEqBDkX\nsJhSTYplimVejGwajI5zgT9VbK24xF3jjsWUl7gxmQT5XeAJ4Bz0JiVDQOeLh0PNLx4ONQNPLp0q\n56yZIZeXZshlyVaRFk9nDeLK89R6X43WiOpSFfRCkPaUZSlLhDEEN55UAf8DXBNvR6Jh0uUhVxcr\nVvSPMUvQpzWYAD/QARx991ycJ2dXzpDLyjLlshSrmJQpNAYn5SJqvY9Ea0R1qQuBz0g2qTHvmrxb\nJUWyxcA3g+i4y13j/mq8nThTJp0gH0+kAf3x4qxwAnFeOEXKqpxhKivPlMtSbcKYXDC5qQPKqfVG\n9cJXXaqE3ioyKa0yrdg513lBTLwziAWXuWvcUZfCx4NJLcjHExHnInRxXowuzgF0cT7aYWFBrpS5\ndoaprDxLLkuzCWMo5eTjWmq990VrRHWppcC/IXFo6vVTb5GtckoMfDOIDT5gobvGvTfejoyWCSnI\nBbdv+xaQDPwZeL5+S9Wo+hBUFytmdHFejC7QZvSIuZ3jxHletpR+/kxT2ZwsqTzdLp2VDbMnGc1A\nAbVe/2nPPAWRJkJfBAqSz03OSjk35UMx8c4glriBc9017v7TnplATBhBthctKQDy0zfeUiwnpfz8\nuP9qRe/UdT/wbP2WqlH1d6wuVhR0cV6IvltrRRfnDvTlDQDmZElp62eZyuZkSWUZdik3qidjEC++\nTK13S7RGVJc6Dfg60JB3bd51JqfJeD0kJr9z17ivircTo2FCCLK9aEk68A1T6pSc1FU11UJWTrab\n3c4xcX6mfkvVqFJgIuI8C1gELAUsQIj3iXNphpS6odBUVpEllWUmSVNG/4wM4kAvkE+tN+rcdNWl\nXgcsdFQ4LOlr02uid81gDLnBXeP+n3g7MVISXpDtRUsU4EsIkZ++fvMFsiNt2ggv7QT+ii7OT9Vv\nqRpVJ97qYsWELs7nAMsBG3rk3ImeUgdAcbqUsrHQVFaRLZVlJUl5o7mHwbjyA2q9/y9aI6pLzQC+\nCxzJvSr3SnO6uTB61wzGkF6gwl3jro+3IyNhIgjyRcCHnOdclGMrcK0/QzNdwMPoa85P1m+pGtUa\nYkScZwILgPPQJxkMR85HxbkoTUreWGgqnZstlWclialG0VbCEARmUettiNaQ6lI/DGy0FdiGsi7J\nuil61wzGgSfdNe518XZiJCS0INuLlkwHapXMgsGU8z7+aSHJsUi896CL8/3A4/VbqkY16K26WJE5\nJs7LAQe6OHcCg8PnzUoV6sZCpXRutlSW4xDTDHGOK7+n1vuJaI2oLtWB3v+iPfuK7CrrFKtRmTdx\nuM5d4/5FvJ04HQkryPaiJWbgDoRITt/wmYvlpNSx6OrkA/6GHjk/Vr+lavA057+HiDgXoIvzCk4i\nzgUpwnlBoal0fo5clu0Q0yRDnceb+dR634rWiOpS1wMfVTKV7twrcz8vjOZVEwkfUO6ucR+JtyOn\nIpEF+RLgYsf8C7LssxZtGodb9gCPoEfOf6/fUjWqpuWR5kYFgAtdnFUgjC7OR21NSxaOTUWm0nnZ\nclmuU0w3xHnMeYJa75kudR1Fdalm4D+B/szqzPPsM+1Gm82Jx9/cNe7qeDtxKhJSkCMpbndINrUj\nff3Nm4XJPN4lqb3Ao+iR86P1W6pGlcsYEefpHBPnZHRx7gKO2pqqiqRNRaaS+Tly+RSnKDDEeUxY\nT633iWiNqC51KXC9nCS35H0q71ZhEpbTXmSQiJzvrnE/FW8nTkbCCbK9aIkEfBmYkrzsSpcltyje\nwyL70cX5fuCR+i1VfaO5OCLO09CnHKwAUgENPXI+Ks65DmGvmm0qceXIZXmqmCEJ4+NwDNhBrTfq\n8V2RMulvAeb0delzHOWOCbFBZHBC3kSv4otK+IQQOcAP0VNkh4B64POapr0bjd1E7E41HyhSMqb7\nzDmzlsTbGfSMig9FjoGC27f9Az1yfqR+S1XP6S5+eE8gjP7Lqq8uVh4C8tGf40p0odaAruZere8X\nbwbehMCb2UnCVjXbVLIgVy7Lc4qZRqP9M+b7MbJTDuQIk2iwF9oT4TVpcOYsAK4E/nCmBiI9r/8C\nbNU07aORx+YD2ehdJ8+YhIqQ7UVLLOiRCKlrr69SUnISefrCIPAYeuT8cP2WKt9oLq4uVgQwFZiH\nLs7DHec6gaNReFaSsFYVmUpcuXJZvipmypKQY+L95KcBPdUtqv64kTLpLwO5KeelTE1emHxJTLwz\niCf1QLG7xn1GJfRCiEqgVtO0lTH1isSLkFcDaZa8Un+CizHoJdYXR46hgtu3PYEeOT9Uv6XKe7qL\nH94T0IDDwOHqYmUbkAfM5b2Rc3dbn9b7qx2BHb/aEdiRbhOWqtmm4nNy5bJpyaLQEOdT8sNoxTjC\nDPRRQfVJJUlXxMCeQfwpADYDPzjD6+cAb8TMm+OISYQshLgUeBAo1TRt95nYsBctUdGnOHSlVn66\nWkmdUha1Y/HBDzyJHjn/tX5LVfdoLo5EzlM4Js7DTY260TNBAEi1Yq6arRQvnKKLs0kymqMfhwe9\nTLo3WkOqS70ZmOt0OR1pq9I+Hr1rBglCEzDjTKJkIcQtwAxN026NtVOxEuQ/AbnAU5qm1Z6JDXvR\nkguBS5WM6X0pK6/+zCSZTRYAnkYX57/Ub6nqHM3FEXHOASrQB2kON7F5jzgnWzBfOFuZvXCKXDY9\nRRQZ4swWar1fjtaI6lKzgS3A4Sk1Uz6hpCozonfNIIH4lLvG/evRXiSEWAvcMRZLFlELshDCAewB\n1gAPa5pWMlob9qIlNvQcT2/KiqvWmbNmnBOVU4lJEHgWfVnjL/VbqtpHc3FEnLM5Js556MsaHvSk\ndwBUC8qmIlPR4jy5fHqyVKTIQomR/xMFP3qLzeZoDaku9Upgrb3QHsq8MPP66F0zSDDecde4K0Z7\nUSRY/BfwC03Tfh55bBFg1zTtuWgcioUgfwJYo2natUKIl4DPaJr25mhs2IuWrAGulp0ZHWnn3/D5\nGJVIJzIh4Dn0yPnB+i1VraO5OCLOWehrWcevOXsjBwBOM8qmIlPhojy5bEaKNFuRhTlWTyCBuY9a\n77XRGlFdajJ6lkZrzkdzLrbkWOZE75pBArLGXeN+drQXCSGmoKe9nYO+wV+PnvYWVVP8WAjyNuCH\nmqY9EVlbydc07baRXh/p5vY9wK8uumSBddrctVE5NPEIAy+gR84P1G+pahmtgepiJRM9cl6JXpAy\nLM6+yNfYFUybikyFS/LkshmpUrF5EoqzpmmaEKKcWm9dtLZUl1oFXG7OMftyPpJzyyRZQjP4IA+4\na9wJM2AgKkEWQqQDR4A29D98OfLvdG2Ehu1FS84BPgvUZ1z4hc9KlqSzeRp0GHgRPXK+v35LVdNo\nDVQXKxkci5wLIg/70AVaA7CZkDcVmQoX58lls9KkYrM8aarOHqHWe1G0RlSXakVvIuTLuiRrta3A\nZuQeT14CQI67xt0Vb0cg+rS3DwG/0TTthuEHhBDPobeofGGENtYBPuv0eflnuRgDSOjVfCuAHxbc\nvu1l9Mj5/votVSNqivLwnkAH+lr1s9XFSjp6UcNK9A51AL6BIN4H6oJ7HqgL7rGakDcWmmaeO1Uu\nn5UqFVtMwhrrJzWOfC9GdhYBdpNq6rHmWxfEyKZBYqIAlwK/jLcjEH2E/CywRdO0fxz32C3o6W+n\n7RVrL1qSRWQXO2XFVZvMWTMWnrEzkxsNeIVjkfOh0RqoLlbS0MV5BTDcVL0HfVNQAzDLSBsLTTOX\nTpXLCtOkEotJTKSx9q9S6406klVdqgx8ByBjY4YrqSSpMmrPDBKdx9017g3xdgLiXKlnL1pyAfBh\nJPlI5kW3fUGYzPa4OTOxeI1jkfPB0V5cXaykoovzeehFD6A3VOomIs6KhLSh0DRjWb4uzlaTSPTf\nzYep9d4frRHVpc4HPi8UcXjqdVNvlcxSUgx8SyjC/jAHv30QLaihhTTURSrZl2Zz+N7DDNQPIGSB\nbaaNvJo8hOmDS+fd/+ym/W96klDmRZmknpdKOBCm4UcNBLoDpFWmkb42HYDGXzWSVpmGbXpCv7cH\n0ZctRpWWOhbETZDtRUsEeiQirNPnpasLL/5UXByZ+LyBHjn/uX5L1f7RXlxdrKQApejLGsPVkR8Q\n53WzTAXL8uWy2elSaQKK835gNrXeUU0ffz+RMumvAWmpq1JnqC416vXoRETTNMJDYWSrjBbUOPCt\nA+R+LJdQXwjHXAcAR+49gr3YTnpl+nuuDfYG2f/1/cy6YxZCCPbV7qOwtpC+d/sY2D9A1mVZ7L9j\nP4V3FjLQMEDXk13kXTMhJptd765x//z0p40t8Uwvm4rev6HBnDt7cRz9GDGBziO0P/ydo98HPS2k\nnPcJ1EUXH31ssOFt2h64C1OKXmBnn72MlOVXEur30v7gNwkP9ZKy4irss/Umdm0P3Ena+psxOd/7\nwh8F50SObxfcvm0HeuT85/otVSNKv3l4T8ADvAy8XF2sJKOL83nAcKVkXyBM96N7gwce3Rs8YJLY\ndv5M0/Tl+XL57HSp1KaIRIgg745WjCMUom+EHkoqTpq0VXlCCGSrXnWvhfQoGQHOec6j59hm2gh2\nfbDyvPedXhzlDkwOXToc5Q563D3IdplwIIwWPhbgtT3YxpSaCTMD+BLgrBbk4Y/KKKm5s+Lox4hR\n0qcy5VM/AUALhzjy05qjwno81vxysj50x3se69v1HElzKkkqXUnbn+/APnsp/ftewZw9Kxoxfj/z\nI8c3C27f9jbHIucRlbM/vCfgRU94/1d1saLyXnEWQH8wTNc/9gXr/7EvWC8JHj1/pjxteb6prDhD\nKrMrwhGrJzIKOoBfxcjWJmBQXagWy3Y5Zr+UREQLa+y/Yz/+Nj9pa9Owzzr2oUcLanhe8pD7sdwP\nXBfsDqKkHas1UlIVgt1Bkhcl43nJw4FvHCBjUwa+7T5sBTaU1AlTl7S8YmuF5K5xx+KN/YyJpyAv\nAnySPcUm2ZInzNvoMIOH3kJJycWUnDWi84VsQgv60UIBEAItHKLn9YfIvPxrY+Xi3MjxjYLbt+3k\n2JrzzpFc/PCegA99I/GV6mLFiS7Oy9FT6gTQH9boenx/6NDj+0OHBPy9coY8bcV0U1lxulSWZBbO\nU5iPJfdQ6x3VdJcTobrUKehvZg2OCkdV9G4lNkISFN5ZSKgvRMNPGhg8Moh1qp5g0/SbJpJmJ5FU\n/MEPPydb4hSyIP/GfP2coEb9f9Yz7XPTaP5jM4HOACnLU1Bd6tg9oehJRs/lj3rUVzTERZAjpdJF\nQKN1+tySiZh031f3PPbSE5eyDzXupum+zyA70kldcw3mzOkkla2i4+Hv0bfzaVJWfZKeN7eRVL4W\nSRmXLLPyyFFbcPu2Oo5Fzu6RXPzwnkAP8CrwanWx4gBK0MW5Aj33vF+DzqcOhhqeOhhqEPCP1QVy\n/srpeuTsMIux+kscAP4rRrbWAYGkkqQ8JVnJj5HNhEdOkkkqSaLX3Yt1qpW2v7YR7Aky7ZPTTni+\nkqbQt/vYjIZAd4CkkvcKd+fTnaQsT2Fgn75BmH9zPgfuPJDoggz6p8GzT5DRc2IFEFZS88ZieOmY\nooUCDOx7ldRVNR/4P3N2IXk33YdktjGw/zXa/3IXedf/HMmSRNaHawEIDfbie+UBMi/9Cp1//zHh\nwV7UxZdiySsdD/dLga8CXy24fdse4AF0cd4xkosf3hPoBV4HXq8uVpLQxXkpenQ5LM5dz9SHDj9T\nHzos4LEV0+W8VdNNZSUZUpnTIlJi+Fx+Ta23I1ojqktNRU8HbFYXqAlTtTVWBH1BhCyQk2TC/jC9\nu3rJ2JRB13Nd9LzTw4wvzUBIJ46RHHMctN7fSqgvBOhrytkfyj76/6G+ED1v9VDwxQJ6tvfomfVA\nOBDXlYCRsgK4J54OxEuQS9D7OSAnpWaf5tyEY+DAG5izZyEnpX7g/yTLsbU426xFaI//jFC/F9me\nfPRx74t/JHnpFfTteg5zTiFJZatpe/BOcq789rj4fxzFwFeArxTcvm0fxyLnEfUieXhPoA89y+ON\n6mLFzge8FLDBAAAgAElEQVTFeVCDzucPhRqfPxRqBJ44b5o8ZXWBXFaSIZepFvHBH+AI0TQtLIS4\n+0yvfx8rAWGZaklWMpVE78MdNUFvkCM/P6JvwGmQvDgZdb7KO9e8g5KucODOAwCoC1WyLs5i4OAA\nXc/o2RImh4ms6iz2f11P6Mm6OOvoBh9A20NtZF2UhRACxxwHnU91su8/9pG2ZkLUfC2PtwNxSXuz\nFy35MnpzHG/Gxbd/UTKZE2GnfsS0P/QdbDMW4Jj7wdFqod5upKQUhBAMNe2h/a9byLvpPoZXZQJd\njXhe+B2ZF/8bvtcfQpgsJJWupPVPXyX3qv8c76dyMg5wLHJ+bbQXVxcrNnSxX4o+MkdGnzvWiZ7z\nCcCyfDl3dYFcVpYpl6kWMdq/2Aeo9UYdzaou1Y5eJt2VfXn2emu+dTJ2GjQYOaq7xn3a0WxjxbhH\nyJH84+lAh+zMSJpoYhwODDJYv4P0jZ85+ljP9kcBcLo20bfnn/Ru/ztIEsJkIaP6Sxy/RO55/rek\nrLwKgKTSVbQ/eBc9rz9M8oqEyrKaCdwG3FZw+7ZDRCoEgVfqt1Sd9h384T2BAWAHsKO6WLGii/MS\nYCH6a24I6HzpcKj5pcOhZuCpJXlyduUMubw0Uy5LsYqRZDjEqkz6XMBiSjUplimWeTGyaTBxmYX+\n2o0L4x4h24uWpAPfBQ7bZi2a6Zx/wVXj6oBBNBwmEjkDL49EnI8nIs6z0cV5Ebo4+9FT145Gzoum\nSFmVM0xl5VlyeYpVZJzA1AvUeqNuDq66VAX9tRjIqMpYklSUFPOG4wYTjg+5a9wPxOvm8VhDPrpm\nLDvSzngN0SAu5AOfjxyNBbdvewA9cn6xfkvVaXdtHt4TGATeBt6uLlZ+gy7OiyOHCV2UO15rCre9\n1uRvA55dkCtlnj/TVFaaIc1Jt0vD4hyradLzgFTJKjXaCmyLYmTTYGJTePpTxo54CbIAkCxJE2q5\nwuA95AG3RI7mgtu3PYgeOb8wQnEeAtyAu7pY+S16GuRi9OhZISLObzaH299s9j8HHNxYaPrnzYvM\nKvC3aJ1XXaqEPqDWk7IsxSUpUkI3WzAYN+JapBYPQc4i8vFUMtvjUdllEHty0af4bgZaI+J8P/Bc\n/Zaq0OkufnhPwA/sBHZWFyu/R49SFhFZ30XPyAn8Y1/wTzdvG4h6cGmEYmAqEg322fYPllsanK3E\ntUgtHoKchr5uiDBbjQh58pEN3BQ52gpu3/ZX9Mj5mVGI8y5gV3Wx8gd0cV4IHInkQMeKKqA/eXFy\nmWyVY5kbbTCxiasmxUOQUxkWZMVqRMiTmyzg+sjRERHn+4Gn6rdUfbBzzft4eE8gANRFjpihutRp\n6JWLDY5yxyWxtG0w4TmLBVk2TZbRQQanJwP4dOToKrh920Po4vxE/ZaqwDj7sg4IOOY4ppucpgnX\nR8VgTIlra9l4CHIyoE9ZFpIUh/sbxJ804FORw3OcOD9ev6XKP5Y3Vl1qBrAMaHTOd350LO9lMCE5\neyLkSFGImUjZtL91/1uSxdjYOysIhxUtHLICCNnUJ9uTj0hWZ4cw2/oihTOVwIKC27f9rX5L1fYx\n9GQ1euP9cKAzcERJVQqELCZMj0iDMSeuMyXHO0IWkcMJ0PP6Q2+P8/0NEgMn+tJVCno59XPA6/17\nXxnTETqRadIXoBei0PH3jufNWeYdaZVp6yw5ljljeW+DCUPUrVyjYbwFWUOfRp0zzvc1SCy6gYbj\nvl8AtKGL81gyBDwBbAAGgVZ/m9/X8r8tDySVJr2asizlApPT9MGu7AZnE9543jxuM/WO3P5CJvD1\nuNzcIJHoAeojx0Hg0NQtK8Y0SlFdah5wJXo/507AB4BApK5Ine+Y41g7GYebGoyI59017lXxuvm4\nCvK6ouUSej9esbFoxZSPzK16bNxuHgWDwSE+9IfP4g8GCIVDbCpezRdWXPOec/51eAdff+on1LUd\n4J7qO6gqWQ3A/s4GPvu3bxAMh/j2hi9wTt4cguEgV/3pNu67/NvYxqdBfdwIa9pgMBxsCoSCjUNB\nf+NAYKDRN9TX1NLb0birbW/j643veCKn7nli74vjlm0RGWhaAVwFZALN6BE0kl0yp5+fvspWYFsi\nJCGPl08GCcEj7hp33IbbjrcglwD/DgxlOzJsWzZ88WPjdvMo0DSN/sAASWY7gVCQy36/ma+vvYUF\neeVHzznsbaZ3qJ//fvV/WVe4/Kggf/2p/2LNzCXkJ+fw7ef+m/+59C5+9cYDOMx2PlxxQZyeUewI\nhkOh3qG+Xu9Qb69nwNvTNeDtae/r6m3p6eg54mvpa+/rAj2VyAyE0UVvMHL0A62SoHVhoeOlNKeS\nFXls+xf+75ExzbYYRnWpZvSNvg+ht1NviviJJc+SlrY6bb050zzpeyQbHOUP7hp33Fovjvca8vAf\n5JGwFp4wvQOEECSZ9fTEYDhIMBzk/VOn8pNzj557PIosMxgcYiA4hEky4R3s4Yl9L/L7KxKm9/Ep\nCWvhcJ9/wNvr7/f4Bns83QO+7o7+bk9zT7vnsLfJc8TbEtD0nWkreplzGH2vYPgH0SmgLc1pGsxM\nVoRql5PtZjlNMYksSTALuAgIDQVDjwC//ML/PTKuG72+7T4/8LjqUl9Fnzy8BugF2ocah7qaf9/8\nv855zpnJi5M3ykly5nj6ZhAXmuJ58/EW5KOls/2BwdNWaiUSoXCITVuvo767kZoFl+CaUjai62oW\nXMbnH/km/lCALRu+yA9f3Mpnl179AeGOF2EtrA0EBr09Q/0e31Cvp3vA6+ns93haezs8DZ4mT4O3\neTCshY8XXI1jgpsKdAFHUh2mwUxVEclJsmq3yKlmXXDz0KPPfCHem1oWCIV6mr297+5pad9xqNPT\nAOzZ2dgSt6wb33afB/i16lKfBT6G3uuiHejteavnQM87PfemrUpbmFSatNpoRDSp2RPPm49akIUQ\n2cAP0Bu/dKNX3X1X07S/jODyo4Lc5+8P+EOBIbOsTIhqPVmSeexT9+Ed7OG6v/wHu9sPUJI587TX\n5anZ/PljPwbgYPcRWns7KEyfxuceuQt/KMBtKz7NzLSxm6mpaZo2EBzs6T0quL7uzv5uT2tvp+ew\nt9lzyNM0EAwHTya4yZGvW5Ltcn9mskJKkinJbpHSzCYpS5aYgj4YcpoQ4rS/x2Ao5G/29h7Z19bR\nUd/Z3ahp1APPAm8CjWPyAxglvu2+etWlbgFcwCfQhyk0ESLQ9XTXq77Xfe6089PWWPOtCyficF6D\n0zJxBDnyAvwrsFXTtI9FHpsOVI/QxHs2bfr8/R6zLXlCzdRLtjpZmj+fZw+8MiJBPp7vPv9zvrTi\n09z3xgNcUraO/OQcfvDir/jJRV87Y380TWMwONTb6+/v9g31ejwDvkiE2+k54m3uPug5MhAIBc0c\nW1YAfVlhWHABWp02uTcrWdFSkkxJSVYp1WySMiOCuxSYLoQ4o6gwFA4HuvoG9u1v6zz8bmtHczAc\n7kFPfXwdqN/Z2HLaVp333Pi0GUjefG9l+5n4MFp8231h4A3Vpe4EzkdfyggDzUFfcKDtwbZHbQW2\n11NXpm5Q0pTRvQgMEp2JI8jo1VR+TdPuHX5A07RDwE9GeL2Xo3NooWeoz5M6AQS5s9+DSZJJtjoZ\nCAzxwqE3uHnJ6PYjX27YQY4jkxlp+QwEBpGEQBYSA4Gh0147GBzq6x3q9/QM9Xo8gz2ezn5Pd1tf\np+eIt8VzsPtw32DQr3BMcAXHBNcZ+bctySr5spKVUGqSKSnJKqeaFSnDJJEjhFikadp0IUTMKibD\nmhb29A/sP9je3bC7pa1pKBjqA14GXgH272xsOe1y1T03Pi2HtfAaSUhXApcBHwaeHKkPdSWlKtBb\nurvujMcd+7b7BoFHVJf6L+By9JJrH9A5UD/QNlA/8Ft1oVqsnqNukG2yMWxh4uNx17jb4unAaAW5\nHP3j5ZnShx4ly0DIO9jjOc35CUFbbye3bvsWIS1EWNO4qGQN5xcu4/sv/JK5OcWsLzqPHc11XPfg\nf+Ad6uHJfS9x9z/v46lP/wbQo9ifvPQbfnqJnnb98XkXccsjdxIMh/jW+i8wFPQP9Pr7u4cFt6vf\n49EFt7W73nOkt88/YOKY4EpEsgAAB7rgttrMkicrWdFSHSabwyqnWBSRYZLFFCHEOZqmFQgh1JM9\nv1h88tY0TfMNDjUc6ug+uKu5ranfH+gHXkMX4j07G1tGlDXxw+v+sdwfGLzBotiqTbIyHMFrEVuj\n4RrgqrqS0s+V7q775yivfQ++7b4O4L9Vl/o0+jLGDPR+LP2+1317et7q2ZdWmXZuUlHSSmES5mju\nZRBXdsbbgVGlvQkhbgFmaJp2a+T7e9DXEP2apo1oBM66ouV3oa9V9n18XvXC8wuXVY3e7YmFPxQY\n7PX3e3qG+jzeSITb3tfpafK1eeq7j/R4h3plTiy4Enp6WJvFJLqyUpRQmkOxOmxHBTdXEmJaRHDj\nEqH1Dg41NXR599c1tzV6Bwb70Uc0vQDU7WxsGVGBx4+ue2zeUGDgBrPJcrlismSd4JS6zfdWnnYX\ndY3TOQ+9NPr/fpo39VvAcPOg/wNuK91dd3hET+oUqC5VRp9q8jH0dL4mIgMXlHTFkVaZttYyxTLf\nWF6ekGxx17i/HE8HRhsh70T/6AaApmmbhRAZ6OuBI6UVfZZaX73nSOso75+QBEJBf5+/3+Mb6uv2\nDukRbntfl6e5p81zsPuIr3vAJzgmuCaObW4OC3CbYhKHs1QllOY0mZ02OcVqltJNssgRevFCQeTn\nfELG+49/wB9oP9Lt3VvX3NbU0dvfg77u9hywc2djy4hGqP/4+sdnDfr7rzfJ5o9aFOs0k3zK/j7/\nGqFrS4C5QMlAOHy+7VgzwY8A1XUlpd8DvlO6u65/hPY+gG+7LwS8pLrUt4CN6I3u/UBroDPQ2/rn\n1ofsRfbXUs5L2agkK2O3W2swFjwbbwdGK8hPA98SQtykadrPIo+Ntn/ofmA+0LmrbX9c12tGSjAc\nDPT5B45GuF0D3m5dcNs99d1HvB393fBewR3OVDCjN9BpM8miKVM1+dNVRXHa5BSrIqUrssgRgnx0\nwU3otfShQNDT5PW9u7u5vanZ29MNHEJ/Ab+9s7GleyQ27rnx6Sl9gz3XmmTTxy2KrTjJetJVlPfz\nyulOWON0CvQq0IYsk8lkk6T3v4HZgK8Bn6orKf230t11fxzpzU+Eb7uvD3hAdakvAlcA56BnHXn6\n9/Y39e/tvy9lWUqFc57zfMkijfiJGsSNIBDV0lYsGJUga5qmCSEuAX4ghPgSep5mH/BvozBzNPG6\ne8A71O8f8NnNtri+YEPhULDPP+Dt8fd1e/XiB097X5enpafdU+9p9Lb2doQ4JrjDFWca+jDOVKBd\nljiQoSrBDKdictpl1WaW0hVZZEcEtwrInWhpUoFQqK/F27Pn3daOpkOdnnb0TzfPADt2NraM6M30\nnhufTusf6rlaEtLVFsU+P8nqPJOfwWkFGVDRs0Ya5lqts09xXj7wh7qS0s3A50p3171xBv4cxbfd\n16K61J+gvxlcBRQALcCg5yWP2/emb3fa2rTl9pn25UIW8eg/bjAyXnfXuPvi7cSoXyCapjVzbG3u\nTHjPH3JLb0fDzLT8MW19GAqHQ/2BAW/PUN/R4oeOvu7u5t52T4OnydPkaw1qegRlRRfZ4QhXItIi\nUggOZTgVf4ZqklS7KdlmltIUk8iWBFPRu4flCSEmfMP9YCg82N7b9+7e1o4j+9s72zSNLvRIeDvQ\nuLOx5bSbDvfc+HTSgL/vCjTtGovZvtRucUbTD6IffTr16ZiK/jtjhtmcN4LzlwOv1pWUbgW+XLq7\n7oyXz3zbfRqwS3WpX0PfU/kI+uuoKTwYDnRs63jWnG3enlaZts6SbSk/pTGDePFsvB2A+EwMGc4l\nlYDwux0H90cryGEtHO4PDPp6h/q6vZFc3I6+Lk9Lb4fnsLfZc9jb7A9r2snKe1OBLgGH05ymwQxV\nkZLtstNuOVreOxVYC0wVYnJGOHqucP/efW1dh99tbW8JhbXhXOHXgEMjzBW2DPr7Lw5roWutin21\nzZwUq2yDNzbfW3na4ajoBRwA5JqUqSO0LaFPLflQXUnpXcAPS3fXnXEPDd92XwB4RnWpb6B/KlqP\n3l+3zd/q97b8seX+pPKkV1POTdlotPlMOB6OtwMQB0F+Yu+LgXVFy/ei90T2vNywff/G2StPeY1e\n3jvk6/X3eXyDvR7PoM/T0dfd3dLb4TnibfEe8jQOhrSwhRNXm6Wgr+01pSaZ+jOTFZGcJDvtZr3a\nTNKLH1ahV5udNZMjhnOFD7R3NexuaW/y67nCLwGvAvt2NracVgTvufFpeSgwuD4YDlxnVWwbrGb7\nWMwjG8lyBegpmb0CSDeZRhIhH48T+A5wXV1J6RdLd9c9NMrr34Nvu88H/FF1qS+gt/mcQ6TNZ9/O\nvoa+XX0/T12R6nLMcVQabT4TggZGvnE8psQr4nsN+DjgafA293gGfG1mk9nWqy8pdHsGezydfd2e\n1r4OzxFvi6fe0/j+arORlvcOV5stR682i3mZdjis8cMn/0myzcq1K96b+dfdN8D/vrqDgUAQTdPY\nNLeE0twsDnZ08eAb7yBLEp8410WGM4kBf4Dfvvwm161cPGZZE5Fc4UP1Hd31dc1tjf3+wAD67+Il\n4N0zyRW2KNZky9hOvRnJhp4MFAJtJRZLhnLmv+dC4K91JaVPALeW7q6LKi/Vt913RHWp30fP/Bhe\nX25GY6j7+e43fW/4dqatTVtptPmMO39217jj0xj+fcRLkPcSWe8D+H+PfvsXGtrwGu77y3uHN/xa\nnTa5JzNZCacmmRx2i5RqUaRMWa82WxKpNhv3ibEv7D1ItupgMPDB4rMn6/YyL38Kywqn0+Lt4Zcv\nvMa/X1jJc3sOcPWyc+ju6+el/Yeonl/GE7v2sra0cEzEuHdwqLGhy3vguFzht9B3lM84V1iRx63+\nYSQRchaRdMISi3WkyxWnYh2wo66k9F7ga6W760aURXIiIuvLb6kutQ69k9zl6K/r5lBfaKj94fYn\nLFMtb6StTttgzjCfajPSYOz4XbwdGCZegtyIXoKaD0gaWi/QmmSRvJl6tZndYZVTzIqUaZLIFkIs\njBQ/nLS8Nx4JDJ7+Aeqa21hbWsjz7x78oE+Io0I9GAii2vTATZYkAqEQ/lAIWZLo6O3DNzDIrKz0\nmPnW7w+0N34wV/hZ9Fzh3pHYGM4VVmTzR82nzxUeC5o231s5kmKOqUTafU4zK6NdrjgZJuAzwMfq\nSkrvAH5WurtuJGvZJyTS5vOxSJvPS4GV6BlK7UNHhrqaf9f8R+d856zkRckb5ST5pDnnBjHnbXeN\ne0e8nRgmLoL8xN4XQ+uKlt+JvhPteWLvi0Pfv6LqVSHESav9EjFj7KEdu7hwbimDwRO3ZlhfXsT/\nPP8qL+6rxx8McsOqcwGoLJnF/a+7UWSJK5fM55G36tgwJ/oe6JFc4T27m9ubm709HvSRSM8xPrnC\nY8FI148LiVTLZZlMsYiQjycNvVfLDXUlpZ8v3V33VDTGfNt93cB9qkt9Br3abzbDbT539Ozvcff8\nLG112qKkkqTVkiJN7nEyicEv4u3A8cQta6Cpf78HfUpDYXleTvaq2TOssYwQx5pdTa04LGampiWz\nr+3Eszm3NzSxsGAqq4tnUt/RzR9e3cEXN6wkLzWZW85fDsD+9k5Um74s/tuX30QWgovml+G0jmwZ\n1B8M9bb6evbsaeloaujydKDnCj8NvDXOucJjwWg29Hx2IUzJknyi0utYMAd4sq6k9CHgC6W76/ZH\nY8y33XdQdanfBhai76dMA5oJEeh6qusV3+u+t9PWplVa863nTLT89QlEF3BfvJ04nnimcUnoa2oh\nwHe4y/vKrKz0ijj6MyrqO7rZ1dTG7uanCYbDDAYC/OFf2/nYua6j57x68DDXrVwMQEFGKsFQiL4h\n/1Gx1TSNp3bt4xNLF/CXN99hQ/lsuvr6+efeg1xQUXLSewdD4cH2nt49e9s6G9+XK/wm0DTCXGHH\ngL/vCuAai2I7N8pc4bFiJBt6VmAKcHiuzZYvjX0u+MXABXUlpT8E7irdXTeiUvETEWnz+arqUt3o\nbT4vZrjNpzc40PZg2zbbDNtrqStTNyqpyoyYeG9wPD9LhGKQ44mbIO9sbAmW5+W8BKwA/Ac6uhrP\nDUzrtiqmCdHGcNPcEjbN1UVzX1snz+058B4xBkix29jb2sGiGfm0+noIhsI4LMc2w16vP0JpbhZ2\ns0IgFEIIfWnGH/xg2m8oHA509vbv3d/eefjd1o7hXOHngDeIf67wWBBmZD1S8ohk3RSZLbFerjgZ\nZuBLwNV1JaVfAX5durvujHfpfdt9A8DfjmvzuRS9VW3XwMGBtoGDA79JXpxc6lzgXC9b5ZRYPAED\nhhh52+BxI96FDm+gR8kANHR5XpudnbE+jv5EzT/e2UN+agrledlcNK+U+1938/y7BxFC8JHF846u\nhfuDIV6vP8L1q5YAsHL2TLa+9CayJPhERNgjucL7DrR3HX5frvBwX+HR5gpvtJrtE2X80M7N91aO\nZPPx6IZenhKzDb2RkoP+kffmSJvPl6Ix5tvua1dd6n+jLzm9p82n91VvnW+77920yrSlSbOTVgjZ\naPMZJb9117gTrrnZuE6dfj/leTlm4G70oZKDDovZevk5c/6fLElnTYHG+9E0TfMNDB2q7+w+WKf3\nFR5AL9Z4mRHmCt9z49MiEPIP5wpfdFxf4YnELzbfW3nd6U5a43TehL6+2/793Cm32qW4NvL5I/Cl\n0t11R6I1FGnzuRS9TYENaOb4Np9r08635FrmGcvLo0fTtKAQYo67xh3X6SAnIq4R8s7GFn95Xs5j\n6CNyDvcO+QfbevrcucnOBfH0Kx70DA41Hu7y7N/V1NbkGxwazhV+Adg9ilzh+XqusPVyxWTOHMdc\n4bFgNB3efFNMJkecxRj0qryL60pKvwN8r3R33Yh+byci0ubzn6pL3Y7e43kTx7f5/FPrX+3F9tdS\nl6VuNCXHPLNkUiOE+HkiijHEf8kC9I/glxLpbbGzsfXVs0WQ+/3+tiPdvr11TW3NnX39PcBujvUV\nHmmucOGgv/8GRTZ/xKxY8+OQKzxWjCTDIgV9akpXhdWWKJteduDrwLV1JaVfKt1d93/RGIu0+bz/\nuDafCxhu87mnv7F/T/8vU5anzHXOdZ4vWSRn1N5PcjRN8woh7oi3Hycj7oK8s7Glszwv53X0Ruyt\nDV2eVt/AYINqs06Lt29jwVAg6Gn0+PbsbmlvatFzhevRW1q6dza2jGik1T03Pp3XN9RzrUkyfdyi\n2GbHOVd4LOhlZON0jnZ4KxhZh7fxZBrwv8e1+dwejTHfdl+z6lJ/DJQBV3N8m88XPW/73vTVpVWm\nnWefaV9mtPk8OUKIb7lr3OMyLPdMSJRf3JPA0aKQfW2dryyYnjdpBPkEucItHOsrPKIXxz03Pp3e\nP9R7tSTE1RbFPi/JkjC5wmPBa5vvrRzJcNKC4S9ylIT92L4CeL2upPQ+4N9Ld9ed8VCGSBn2TtWl\n/kfE7hUMt/kcCAc6tnU8Y84xb09bk7bOkm057cirsw1N0w4KIX4Ubz9ORaII8j50kXICPTsON+8q\nzslsTbKYE3qKxqkIhsKDbT29e/a2djQeaO9q1fSPmc+g9xUeTa7wR4FPWRTbErvFkYi5wmPBaApC\neiQQabJpylg6FCUS8GngirqS0juBH5XurgucqbFIm8+nI20+L0LPYR4AWv0tfk/LH1v+7JjjmJ58\nbvIFJodpwv4NxRohxG3uGvfpx7zHkTHLshBChHhvY/FLNE2rP9n55Xk5y4Dr0T/CMycve/biGflX\njolzY0QkV/jdfe2dR/bqucI+4Hn0fNqGUeQKXxLWwtdaFdtqSZo8i8Kj4NLN91b+9VQnRDq8/Qxo\nnWO1pt+cnnHT+LgWE95Fr/Z7JBbGVJeaj16GXQZ0AHqxikCkrkxd4Ch3VEpmadwbbyUY97tr3B+O\ntxOnYywj5AFN0+aP4vzXgMuIRMnvNLa+W5KTmfBryWFNC3X3Dew/0NHVsKelvTmKXOENwXDgeqti\nWz+BcoXHipFEyDmADIRKLONWEBIrZgN/qyspfQy9zWddNMZ8232HVZf6XWAeepvP6ehtPv3dz3W/\n4XvD90762vTV1unWxUKa+FNtRoumae1CiAnxhj2WEXKvpmkn7c52IsrzchYCn0VvisPMjLS8VcUz\nPp1ouZaapmnegcH6+k5P/W49V7gf/Q3lZWDPzsaW034cvefGp0UwFDhvKDAwnCs86XbmzpDDm++t\nPO2b8BqnczFwI9Bwa0bmRUUWy0TNzAkCPwXuKN1dN6JN3VOhulQLUIke3ICevxwGsOZb01NXp240\np5sLo73PBONyd437wXg7MRLGMkK2CSGG29od1DTt0hFcsx04jD5WqftAR1dj2ZSst7NUx9wx83IU\n9AwOHWno8hzY1dTW3DM41Afs4Fhf4cGR2PjRdY+5IrnClykmc+YkSlOLFSNdP54NBGBMOryNJybg\nFvQ2n18D/ifKNp9DwN9Vl/oKejrpCvSslY7Bw4Odzb9t/r3T5SxMXpS8QbZP/jafmqb94Z1PvjMh\nxBgSa8mCnY0tofK8nN8BXwY8gPbS/kNPXjSvtDRe1Xv9fn/bkS7v3l3N7U1dff29nFGu8BNFg/6+\nGxTZfMUkyxUeC0bV4c0pSWZVkjLH0qFxIgM9Ur4pUob9TDTGfNt9XcAvI20+P05kogrQ17O9Z1+v\nu/dA6urUxUklSask0+Rs86lpWpMQ4rPx9mM0JEqWxfHsQd8EmwM0d/UN9Lzb0vF46ZSsqvFyYDAQ\n7G7y+N7d3dzW1OLrPdNc4al9g75rTbLycYtiK5qEucJjxUgq9OxANnB4ntU2fZK1p6wAnq4rKf0L\n+nFV5fIAAB3ESURBVMbfBycfjALfdt8B1aV+Ez2t9GNAOtCsBbVA15Nd//K97ns7fW16pWWqZcFk\n+jlqmhYQQlzmrnF3xduX0ZBwgryzsUUrz8v5MzAfvauW/+UDDa/npjhLUuy2WWN1X38w1Nvi69m9\np6W96XCXtxN97e0Z9L7Co8kVrtH7CtvmGSI8aoLoDadOx9EOb7MsCVcQEisuBTbVlZT+APhm6e66\nEX0aOxGRNp+vqC71bfRJ2Beht71tCXqC/a0PtD5im2l7LXVF6kYlVSmIhfMJwGZ3jXukn7YShoTa\n1Due8ryc9egftQ4CpCfZ1aq5JTeZ5Nh9vIphrvCVwKesim2JENJZt4sdQ7ZvvrfytJtza5zOSvRs\ngkNfzsz6SL7ZfPLm0ZODZvRlvN9E0+ZzGNWlZqEPh1hCpM3n8P9NhjafWki7751r3rk23n6cCWMW\nIUcjxhGeQp+mkA+0dvb1+3Y1tf59bn7uSDYHT8rRXOG2SK6wdoa5woH+S8Ph8LVWxbbKZk4yFoVj\nw0gjmjL0eXRkmEyTNUI+nlzg1xxr8xnVyHrfdl+b6lJ/hv43NjwNuxUY8L7qrfPt8O1Nr0xfai+y\nrxCymFCvbS2ovSFMEyPF7UTEtf3m6SjPy8kG7kJPdh8CuHh+2UfSHfZRRURHc4Xbuxr2tLQ3+UOh\nfuBF9LaWI84V9gcGNwbDgessim2DLJkm5UZInPnU5nsrf32qEyId3n4M9ExTFOvtWdm3jotniYMG\n/B64vXR3XWO0xlSXauJYm08rx7f5zFCc6ZXp55tzzXMnwvKyFtJahSzOcde4o/65xIuEFmSA8ryc\nVcC1wAGAZJs1qXp+6U2KLCed6rrjc4XrmtqaBwKBPvRc4ZfQ+wqPKFfYHxxaEQgODecKG920xpay\nzfdWnrJIYo3TmQ58D2jY5HSWXagmJ3z11RjRB2wBvl+6u25EKZenQnWpDqAK2ECkzSeRxk32Ynte\n6vLUC0xq4n4a0UJaj5DFEneNO6oim3gzEQRZAm5FzzttBijKzpi2vHB6zYnmp/UMDh1p6PQc2NV8\nNFd4O3o0PJpc4QXH5QpP+lzNBMELpG6+t/KUL8g1Tudc4HPA4ZvS09dVWG3LxsW7xKUeuK10d939\nsTCmutQpwEfQN9W70H8vAKSclzLPWeFcm2htPrWQNqSFtdU7P70zqqWcRCDhBRmgPC8nHX3pog89\nyZ2ls6YtKs3N2gTQP+RvPdzt3VfX3Nbc1Tcw3Ff4WWDXKHKFZw/6+25QTOYrzCbrRC40mKg8ufne\nynWnO2mN03kJcCFw5OvZOZ/KNJkSurR+HHkOvc3nW9EaUl2qQM/zvgrIQm/8NQQg2SVzemX6CttM\n21Ihibg3u9LCWijsD1fvumHXo/H2JRYkXNrbiYj0TP4v9MGSQ0Dg5f0Nr/mDIbmx29vf4uv1oi9p\nPMuZ5Qp/wqLYCo00tbgymg29HhNIqbKcO5YOTTBWAW/WlZT+AviP0t11Z9zzN9Lm851Im8+V6G0+\nZaA53B/2tz/S/pQl1/JG2pq09eYsc2lMvD8DNE3TwkPhT+26cXKIMUyQCHmY8rycC9DH5ATRB1s2\noQ+EfHsUucIZ/UM9V0tCvtqi2IyZZIlD9eZ7K/92qhPWOJ0m9A5vzfOs1qwb0jNuGB/XJhxe4BvA\nT6Jp8zmM6lKTgYvRBxIPoFf8AeCocBQkL0neON5tPjVN00L9oZvrbq67dzzvO9ZMiAj5OB5DH5Ez\nBLwJNI8wV9g53Ff4/7d35uFNnXe+/xxJlmXZ8m6DIQGZJVgQQRYCxNkutNmaO02mTdvpM51MZzrt\nzVNy2+nc3iYzuZnOve3cNt1v07RuJk3TLJ0kTSBLaRZITGgQhCQ4WICMgVi2Md7kTYu1HZ1z/3hl\nIIHEMrbQ4vfzPOdBFu85+h2Bv3r1Wy0FRWuthbaczxV+bPsP2d+5G1tROXd/9jcAbHn7d7g8Wygp\nEimkn1zzJVYsWHvauQe79vC06340XaOx4RNcd7Hocvrwq/+X48PvceGCdXxy7T8A8OI7jzK/ahEr\n7Vek+5ZS2SHXkRz1tazQkrUBpiygDPgx8BVPg+OfHG2eae0g/S3+MeCR0otLX0dsiBwk23wG3UFv\n8EDw1xVXV1xasqJkvaEg/W0+dU1PqKPqP7R9o+3hdL/WuSanBDmZI/xMKmvvv/01SyQ+fku+5gqv\nu+B6rllxM4803/u+59evvJWPr/rsh56naQme2vlz7rjpB5QX1/DDTV/Fab8cTROZf//ymQf56XNf\nJxwNElOjdA60ceOlf5PWewE6NjZtSGWSxnzENyPOKyiQfv7JWQZs8TQ4XkS0+ZzWYE9/i7/zjG0+\nNWIj20fePtHmc4HlsnS1+dQTuhobjN3Wfmf7f6bj+pkmpwQ5FX74d89fBvrdhQVF11sKrHmbK7xk\n3kqGAn1TPs870EZ16XyqS8WAjUuWrKfV62KV/QriahRN11A1FYPByJa3H+amy744w5afkVT9xw2I\nlKxc7/B2rrkR+LinwXE/8G+ONs/YZCd8GMky7JbSi0sPAh9DlHgD9CYCicjAswMvWRZY3q64puL6\nmW7zqalaLD4Yv7X9rvaPdG3lMnkhyE57ownRzWpNRXHNtTev+8q1s7VwY8f+Z9nT/goLapbxqctv\nx1r4/gylsXEfFSUnm6NVFNfgHfAwt2IhFSW13PvM7axZ+nEGx3rQ0Tm/eum5MHsqguwvNxgLbQaD\nTEecGgXAPwJ/7Wlw3AP8h6PNk8rcwjOSbPP5p1PafF7JRJvProiv99Hex0svKV1aurr0eqPVWDVd\n47WYNh73xT/Z/s/tr073WtlMzvtSk/wF8G3gypHQYNeO/c8+ltAS0w5m5BpXLf8L/u3zj3LXrQ9Q\naq1k067T4x1njuGKwOatV2zkn299gI+t+ix/fOu33LT6i7y093F+s/X/sNOzJZ2mp9LhrRiRgjW+\nssgyXwZjz5oaoAmRkXHNdC/mb/EP+Vv8DwLfAQaBeqAYwL/Xf7jnoZ5fBg8EX9FV/axn2alBdSBy\nLLI238UY8keQXYgk9iAQf6//QO+b7a/8QdO1s94B5CKl1koMBiMGxcAVjpvoHGg7bU15cTUjwZMJ\nKSOhQcqK37+BafXuZEHNMmJqhN7hDr507b+yp30rsfi0C8LORBxRvDMZEx3eWGwulAG96bMK2O5p\ncDztaXDYp3sxf4v/KKJW4FdAIbAAMOmqrg1tHdp1/PHj90WORfbqU0zrivlinuCB4Mqj//vo/una\nmAvkhSC7va5+4P8B5UARQKt35+G9R7dvmup/gFxmLDR04vG+jjeoq7SftmZhbQODYz34/L2oiTh7\njzSzcuHJYrdEQmW7exMfX/VZYmoUkjtRHR1VU9Nh9r6NTRtSUfoFJLfy8wqk/3gG+TTg8TQ4vutp\ncHxkO4LJ8Lf4E/4W/27gLuAFRFZMHaCoI2qo/+n+Fwb/OPhAfDTemcr1It2RPw29OnRJ9y+7+6dj\nVy6RU3nIk+G0N07M5DtOsrLo8mU3XrzS3vjJfPuK+9tt3+Vw7z6CkTFKiyr4xOq/5fDxfRwbOooC\nVNrm8vmrvkFZcRWjIR+/f/3HfPUT3wPgQNebPO26H13XWLfsRm645K9PXLe59RmKCktYt+x6dF3n\n4Vf/neMjXlacv4Zb1n0lHbdy/8amDXdMtmi9zfY1YCkw9JO6ed+0GAzTEg/JGelBtPl8bIbafM4B\nPoNojj+KaG8LQNm6shW2i2zXGi3Gsg+epyd0bfzo+E98f/J9K1mkMmvIK0EGcNobrwS+DBwjOXPt\n6hU3r11+/mU3ZNQwyYdx28amDY9+1IJkh7dfAKP1ZnPx/6yp/Xq6jLm7t5fXQ0EqjUaer18EwC98\ngzw9NkaFUVQK/2N1DdeUnN5d1p9I8K99fRyORVGA786t46KiIn48OMCfgyEaLIV8v05ktzw/NsaY\nluBvKirTdSvTYTeiDHvPdC+ULMNehkiTm0+yzSeAodBgqtxQ2WhdYr1yos1nIpTwh9pDX+78WedT\n033tXCQvXBan4va63gAeQfRRNgHsOPDcm4d6WrZl1DDJh5FKhkU1whUVX5HmgpC/LCvjgfPOP+35\n2yoq2GyvZ7O9/oxiDPC9gX6uLC5mS/0iNtnrWWQ2E0gkaAmHeba+noQO7dEIEU1js3+MvyqvSOet\nTId1wG5Pg+N3ngbHtMrT/S1+3d/ib0ME3R8CbIjfTaMW1VTfi74dfU/0/SLSHTkaOR45NNw8vGa2\nijHkoSAneQ14CuF3NAI0u5/Z2erd+byua/n1lSC3GQYOp7DuREBvodmcVv/xaquVMuPUfy2CiQRv\nh8N8ukx8AzcrCqVGIwYF4rqOrutEdQ0TCg8ND/OF8goKstuNpgC3Ae2eBse/eBochdO5mL/Fr/pb\n/DuAO4GtwHmIuYjm2GCsuv+Z/vv6n+pf0/eHvmkVr+Q6eSnIbq9LB7YAzyKqiQoAXG0vtuxp3/ak\npiXSEp2STJk9k7XbTLKYpCDPyVBByO9HRrilo4O7e3sZS5w+z6A7HqfSaOTuvl4+5e3gnr5exjWN\nYoOR60psfKrTy/yCAmxGI/sjYT5my6oOlh9FCfDviMDfp6Z7MX+LP+Bv8T8B/C/Eh3Ed8Bhwn7/F\n75/u9XOdvBRkOCHKm4FHEZ/GFoCWjh2Hdhx8/jE1ET/rvEjJjDGVDm/+AkUxVBiNc9Np0Jn4q/IK\nXl60mE12OzUmEz8YOL3KO4HOwUiEz5VXsMleT5Fi4MFhkfXypaoqNtvrubN2Dj/3DXJHdQ1Pj47y\njeM9NA35zvXtnC31wDOeBsdrngaHc7oX87f4e4CfAl/zt/hfSVYAznryVpBBiLLb69qKyI2cSzJh\nve3YO51b333ytzE1ctaTfCUzQioFIQWIbzlBp8Uy16go57y6tNpkwqgoGBSFz5SX4Y6ET1szx1TA\nHJOJVUVFAFxns3Ew8v5svomf7WYzz/nH+Om8+RyORvHGYum/iZljPdDiaXD8ytPgmFa1ZNK/HJgh\nu/KCvBbkCdxe127gR0AFohMWnYNt/VvefuQ34Vho+CNPlqSTVKL4dQh/pnZBhgpCBtWTHq5tgSBL\nC093p9aYTMwtKKAjJr547R4Psdj8/nX3+Qb579XVqLrORCTDgEIk9+qXjMDtCP/y1z0NjrxowZAN\nzApBBnB7XfuB7yGqiKoA+ke7Rp978z8e8o+PHMuocbOTIxubNgxNvozzSP4/PRcd3r55vIfPd3bi\njcVYf/QIz4yO8qPBAW7u6OCWjg72jI9zV61o/Tugxvlvx7pPnHt37Ry+dbyXWzo6aItG+UrVyQrI\nbYEAF1qKqDUVUGo0sqqoiJs7OgBosORs25UK4GdAq6fBcX2mjckH8i4PeTKc9sb5wDcRwjwAYDQU\nGK696HMbFtYsuyLfCkiymMc3Nm34wmSL1ttsf48oLOi/d27dHTbj9BvVSNLGFkSbz1QyZyRnYNbs\nkCdwe109iKjxMCItzpDQ4tpLex/bttOz5bGYGg1l1sJZQ6oBPQfgrzQaLSUGgxTj7OYm4ICnwfEj\nT4NDzkM7C2adIAO4vS4fohHK64AdMYWE/V27j27e1fSrkeDA0QyaN1tIJaBnQxSFhFdZis6T315y\nggLgfwCHPQ2OL3saHLNSY86WWftmub2uCKKi7+eIQN9cgJHQYOjJN+577FDP3q2zrVvcOSQKvJvC\nuvmABrDIbJYd3nKLWuAB4G1Pg+OqTBuTK8xaQYYTaXFvI5LUjyF2yybQaXZvcr3W+oeHIrHxkY+8\niORsaNnYtCGVXK8FEw/q5MimXOViYIenwTFpAynJLBfkCdxe1yBwL/A8os6+FOBIr7vnqZ33/Xpg\n9Nis6MV6DknVf7wCCAFUGY1yh5yD6LoeR5RL/zLTtuQCUpCTuL2uuNvr2gR8H9GUaB7AeDQQ3bS7\n6Zl9HTufT2jqrJtCkiZS8R8bgAuAwBKzubLQYChKv1mSmWRYVf07QqHbHG2eH0xnXNRsQgryB3B7\nXR7gHuAgolzUDLDr0IstW95+5NfDMuA3E6Ta4c0MxJdb0tvhTTKzJHRde3M8tOcnvsFrbj/W/USm\n7cklZl0ecqo47Y0GxFTdzwPjwImmA6vsVyy9aNHV1xeZi2Ua1tTxbWzaUDPZovU22yXAHUDXHVXV\nNy63WNak3zTJdOlX477nxvwPvhsJ39scCIxm2p5cQ5Y8fghur0sDtjrtjYeBv0XslgeB0D7vzsP7\nu/YcvWr5f127pG7lNSZjwbRaE84yUvUfLwYSAHNMJrlDznJUXVffCIXe3Dw29k9x9LeaAwG50zsL\npMtiEtxelxeRs9zEKcMbE1pc275/866nXfffd3y4Y8rDG2cxUwno+QsVxViegQ5vktQ5Eo12/mrI\nd89TY6OfeCXg3yPF+OyRO+QUcHtdCWC3097YCtyAqEhSgb7RkC/0/J7fvGCvdbx1+bIbbigrrlqY\nUWOzn1QCemZEtsuxlZai+UZFMabfLMlUGVDjg1v8/ua3wuHvAAekEE8fKchTwO11jQObnPbGnXxg\neKN3wNPnHfA8vHrJhhXOhZdfW1hQdNrwRgk6qXV4mzexfmmhLAjJNoKJRHBrMPDOtmDwfh22NAcC\n45m2KV+QQb2zxGlv/NDhjYUmi+mqFTdfUT9n+RVGg7Egg2ZmG20bmzY4Jlu03ma7Evh7oOtbNbWf\ntpvNF6bfNMlkxHQ9tisU2v+C3//IuK490RwI9GfapnxD7pDPkuREkjanvfHbwBXA5xCpWsejakTd\ntu/J1ytKat9Zu/TadedVL11tMppk4C91/3EDEAGoNsmCkEyj6brujkTaN/vHnhtQ1QeBI9I9kR6k\nIE8Tt9elAq877Y17Eb7l6xD+5f6R4EDwpZbHt5VYyt5Ye8F1l9lrHesKTGZrRg3OLFPq8FZrMllL\nDMasHc2c72i6rr8Xi3X+0e/f0R6L3gfsbQ4EZIFHGpGCPEO4va4A8ITT3rgDEfi7EtEYpy8YGYu8\n2vqHPxeaLLvWXHDdJUvqnI2z1MecSkCvFNH4vMtpsSxNv0mSDxLX9WhrONz+cjDgPhaPPwJsbw4E\n5AzKc4D0IacJp72xBlFY8jFEemE/EAMwGkyGSxZds3zpvIvWllorZkvTnDBQurFpw0dO/F5vsy1H\ntG/s/nJl5fqLi6xXnxPrJAQTibE3x8fbXg4GDgU17WVEwG4s03bNJqQgpxmnvbEM+C/AjYg8Zh/J\nhjkAS+qc850LG9fWlM1fYVAM+ZwXvnNj04YrJ1u03ma7EbgV6L6nds4X6goKFqfftNnNgBo/vj0Y\nOrQjFDygwZ8AlxTizCBdFmnG7XWNAc857Y3bgLUIP/NCIAgMHel19xzpdW+qss3deuni9ZedX730\n0jz1M0+lICSoAFWyQi9taLquvReLvfdKINC2PxppBZ4D3m0OBHJqBHa+IQV5BlAUJQG4T3nqCV3X\nv3/qGrfXFQJec9obX0eIzk2IbmYq0DcU6Au88u5/vmY0mLavOH/NokVzL3TWlM5rMBpN5nN1H2km\n1Q5vSwDfssLCarOi5Oz0z2wlpuuR1nC4/cWAv61XVXcBLwHtMliXHUhBnhnCuq5flMrCZNVfq9Pe\n6EZMVN4AXIUYre5PaOpoa6frSGun60ihyWK6cOHlF9jnOC6sKpmz1GAw5vK/Vyo75FrECCDVUSg7\nvM0kPlU9vjcc7nwl4D80ruvbgNeaA4HeTNsleT/ShzwDKIoS1HW95GzPd9obS4ELEb7micyCUeCE\nH89aaCtcubCxYUHtMmd5cXV9jvmb+zY2baibbNF6m2018FWg62tV1Tc1WCyr029a/jKkqj0HIpH3\ndoSCfcdVtR/4I7CrORDwZ9o2yZnJ5R1XNlGkKMqpM+K+p+v6k6me7Pa6/IALcDntjVXASoQ4L0SU\nGw+PRwPB3e0v79vd/vK+Mmu11Wm/fMX51UsvLC2qWJADwz+n0uFNBZhTIP3HZ8OQqvYcjEbe2xEM\n9fao8XGgA3gR2Cf9w9mPFOSZIWWXxWS4va4hoNlpb9wOzAEu4qQ4a4BvbNw3/sbBF94C3qopm192\n4YK1K+oq6h22orL5imLIRnWeUoc3q6KYygzGOek0KJ8YVtXjB6ORoztCob5j8XgQ6EJMVHc3BwK+\nSU6XZBFSkLOUZGl2H/CS0974MsLffClwDVCDEOfBwbGesWb3JhfgsppLzEvnrVo4r3JRfVXpXHtx\nYelcJTu2z6kE9AoRPUGOrSwqOs+gKLnkkjnnTIjwn0Ohvu73i/D+5kBgMMPmSc4SKcg5QFKcu4Fu\np73xeUSz/NWIasCJneT4eCw4us+78/A+787DACWWcsvSeSvt8yrr7ZUlc+qthbbaDOizBryVwroJ\nF4W+xFw4W4plUiau69EBVe06Go0e3zkeGuiOx0MIEd4BtEoRzg9kUG8GOEPa20u6rt+V7tdNjpmq\nAxYhXBsrEFkKBkSe8yjJqRsAZdZq65I6p72u0l5fWTLHbi0sqU63jcCBjU0bJu3Wtt5muxr4ItB1\nZ03tZxaazcvTblkWo+p6fFBVuzrjMW9rODLYGglHNBFP6EaIsLs5EBjIsJmSGUbukGcAXdcz0kA9\nOWaqJ3n82WlvNCJ2mvXAJYiuaSZAAQJj4z7/O0ebD3KUgwCVJXNKFtc57dWldfNKiypqiwtLa80F\nFtsMm5mq/3g5yfalNbOwICSqaeO+hHqsJx4/tj8SGXw3HB5XhQADHEW8j25gUHZay1+kIOcRyRzn\nruTxutPeaEL4nhcjBPoCTo7tCg4H+0PDh/v3A/snrlFiKbPMr1pcW1M6r7asuLrGVlReW1xYWjuN\n6sFU/McK4sPDX2cylVgNhrxuvKTruj6maQP9arzbG4v1uCORkfdisVMLM7xAC9AOdDUHApGMGCo5\n50hBzmOSrUG9yeNVp71xYjTSYkTesx0oQfh5DUAiGBkLHerZ23uoZ2/XqdcqL64unle5qLa6tK62\nzFpVYysqr7UW2mpTGPCayg65DCgFRp2WInvKN5jlJHRdDWra8FgiMTScSPgGVHWoOx4bOxSNxoKa\nZkLsgHVEapobOAx4mwOBcCbtlmQOKcizCLfXFUN8/T0KvALgtDcWIyrkahEDXOsRKXZFCLFQgPho\nyBcaDfm6EeJxgjJrtbWipKa01FppK7GU2ayFNluByVw3v3JRl8lYUMopu++P4Lzka1FvNudUQE/X\ndcK67vcnEr6RRGJoKKEO9cZVX0csNtIVj8U18T4WIT70FIRv/yDifekGjjcHAvHM3YEkm5CCPMtJ\n9tjoSB5vwonxVDZOCvVChFAvAMycFBfD2LgvPjbuiwK9QCdCWCuBjUkfdyrYJx6UG42Vmq5rmU57\n03UdFaIxXQ/HdC0c1fRwVNfDEV0LBxJacEBVfd3x2NDhaDQ0rusFgBXxLWPCv1sIDAEHEO/LAMLX\nP3K2PuBTgscFiAKa3wE/03Vd9qHIE2SWhSRlkkJdjhhVVcpJ0a5JPleZfH6X2+t6INXrrrfZ7kRk\ni4xOPFduMBZWmYzWCqPRWmY0Wm0Go7XEYLAWGRSLAcWggKIoKAYwKCiKAooCBvGcIh4n14i/UwwG\n8SGiqLoej+h6OKxp4XFdC4c0LRxMaOGAlgiPJbTISCIRHk6o4WR6iil5mBE73UJE5oqSPHzAMYRb\nqC/58xDgn+ng26kl+oqi1AK/B3bquv7tmXwdSeaQgiyZUZKBRD0ZYEyJ9TbbdxDZIRM774lDBeLJ\nY2IXOOF3nepjA0JYCzgpshMpgqdem1NeXwfGEW4GPyJY2s1J0R0+l+6GD/ZMURRlESLHu1qXv8h5\ngRRkScZZb7MVI3bW1lOOYsRuvAKxEzcjxFNBdMY70+MP/mw45bEGBJKHP/nnWPLP8Icc0WxKMTtT\nEytFUUaABl3X5QToPED6kCUZpzkQCHHKFBXJlMiG0njJDCH7BUgkOUrSZZFABAwleYAUZIkkB1EU\npQZoAn4h/cf5g/QhSyQ5whnS3h4FfiLT3vIHKcgSiUSSJUiXhUQikWQJUpAlEokkS5CCLJFIJFmC\nFGSJRCLJEqQgSyQSSZYgBVkikUiyBCnIEolEkiVIQZZIJJIsQQqyRCKRZAlSkCUSiSRLkIIskUgk\nWYIUZIlEIskSpCBLJBJJliAFWSKRSLIEKcgSiUSSJUhBlkgkkixBCrJEIpFkCf8fPzaoXlCzYm8A\nAAAASUVORK5CYII=\n",
      "text/plain": [
       "<matplotlib.figure.Figure at 0x1122e84e0>"
=======
      "image/png": "iVBORw0KGgoAAAANSUhEUgAAAWQAAADuCAYAAAAOR30qAAAABHNCSVQICAgIfAhkiAAAAAlwSFlz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\nkiFIQZZIJJIM4f8D7zijYf/uJVgAAAAASUVORK5CYII=\n",
      "text/plain": [
       "<matplotlib.figure.Figure at 0x19abefe8a20>"
>>>>>>> 5b8da627f3dde85c6b0a7a12d0b5e00d03bdfe9b
      ]
     },
     "metadata": {},
     "output_type": "display_data"
    }
   ],
   "source": [
    "explode = [0.1]*7\n",
    "labels = passengers.floor.value_counts().sort_index().index.categories\n",
    "\n",
    "fig1, ax1 = plt.subplots()\n",
    "ax1.pie(passengers.floor.value_counts().sort_index(), \n",
    "        explode=explode,\n",
    "        labels=labels, \n",
    "        autopct='%1.1f%%',\n",
    "        shadow=True, startangle=180,counterclock=False)\n",
    "\n",
    "plt.show()"
   ]
  },
  {
   "cell_type": "markdown",
   "metadata": {},
   "source": [
    "The pie chart clearly shows that half of the passengers' cabin were situated on floors B and C."
   ]
  },
  {
   "cell_type": "markdown",
   "metadata": {},
   "source": [
    "- ### For each travel class, calculate the proportion of the passengers that survived. Present your results in pie charts."
   ]
  },
  {
   "cell_type": "code",
<<<<<<< HEAD
   "execution_count": 31,
=======
   "execution_count": 125,
>>>>>>> 5b8da627f3dde85c6b0a7a12d0b5e00d03bdfe9b
   "metadata": {},
   "outputs": [
    {
     "data": {
      "text/html": [
       "<div>\n",
       "<style>\n",
       "    .dataframe thead tr:only-child th {\n",
       "        text-align: right;\n",
       "    }\n",
       "\n",
       "    .dataframe thead th {\n",
       "        text-align: left;\n",
       "    }\n",
       "\n",
       "    .dataframe tbody tr th {\n",
       "        vertical-align: top;\n",
       "    }\n",
       "</style>\n",
       "<table border=\"1\" class=\"dataframe\">\n",
       "  <thead>\n",
       "    <tr style=\"text-align: right;\">\n",
       "      <th>pclass</th>\n",
       "      <th>1</th>\n",
       "      <th>2</th>\n",
       "      <th>3</th>\n",
       "    </tr>\n",
       "  </thead>\n",
       "  <tbody>\n",
       "    <tr>\n",
       "      <th>survived</th>\n",
       "      <td>0.619195</td>\n",
       "      <td>0.429603</td>\n",
       "      <td>0.255289</td>\n",
       "    </tr>\n",
       "    <tr>\n",
       "      <th>died</th>\n",
       "      <td>0.380805</td>\n",
       "      <td>0.570397</td>\n",
       "      <td>0.744711</td>\n",
       "    </tr>\n",
       "  </tbody>\n",
       "</table>\n",
       "</div>"
      ],
      "text/plain": [
       "pclass           1         2         3\n",
       "survived  0.619195  0.429603  0.255289\n",
       "died      0.380805  0.570397  0.744711"
      ]
     },
<<<<<<< HEAD
     "execution_count": 31,
=======
     "execution_count": 125,
>>>>>>> 5b8da627f3dde85c6b0a7a12d0b5e00d03bdfe9b
     "metadata": {},
     "output_type": "execute_result"
    }
   ],
   "source": [
    "survivors_by_class = passengers[['pclass','survived']].groupby(['pclass']).mean()\n",
    "\n",
    "survivors_by_class['died']= 1-survivors_by_class['survived']\n",
    "#survivors_by_class.pivot_table(survivors_by_class,['survived','died'],'pclass')\n",
    "survivors_by_class = survivors_by_class.transpose()\n",
    "survivors_by_class"
   ]
  },
  {
   "cell_type": "code",
<<<<<<< HEAD
   "execution_count": 32,
=======
   "execution_count": 126,
>>>>>>> 5b8da627f3dde85c6b0a7a12d0b5e00d03bdfe9b
   "metadata": {},
   "outputs": [
    {
     "data": {
<<<<<<< HEAD
      "image/png": "iVBORw0KGgoAAAANSUhEUgAAA2sAAAFFCAYAAAByjHX/AAAABHNCSVQICAgIfAhkiAAAAAlwSFlz\nAAALEgAACxIB0t1+/AAAIABJREFUeJzs3XecHHX9x/HXZ8uVvbJ3l3qpF8imNwjhTCCEZoAAoRfp\nRUWKgmCJ7cdIEyuIFEFQpChFQZBDUIQgKkgTkKKgEpUOAS69Xb6/P75zyWZzNbm72bt9Px+PfVx2\n5jszn9mdncxnvmXMOYeIiIiIiIjkl1jUAYiIiIiIiMjmlKyJiIiIiIjkISVrIiIiIiIieUjJmoiI\niIiISB5SsiYiIiIiIpKHlKyJiIiIiIjkISVrIj3AzE4wM5f1Wmpmz5rZGWaWiDq+LRHu00mtTHdm\nVtfzUbXPzAab2d1m9n4Y51lRxyQtM7NpZhaYWU0L85yZXdCF2wrMbPeuWt/WMrNdw33ctYe3e72Z\nLerJbXaWmVWF39f2UcfSHjNbaGYLu2A9eX1eFZHuo2RNpGcdBswEDgEeB34A/F+kEW25E4DNkjWg\nAb+Pb/ZoNB33f8Ac4GR8nLdEG460YRpwLrBZstYNzgXyJlkDnsYfn09HHUgeqsJ/X3mfrImIbK1e\neUdfpBd7xjn3z/DfvzWz0cBZtJKwmZkBSefcmp4KsD1mVuycW93afOfcu8C7PRhSZ40HnnXO3Rl1\nIIWgveNFNmVmccCcc0uAx6KOJypdee7TMSgivZlq1kSi9QRQYWYDAcxskZndZGYnmdnfgTXAvuG8\nWjO7wczeM7PVZvacmR2TvbKspjK7mNmvzGyZmS02syvMrDSnbGfXd7uZfQj8JWzWMwfYKatp58Kc\nZeqy1pM0swvC/VsT/r3AzJJZZerC5U4xs/PM7E0z+9DMfm1mw9r7IM37rJn9I9zGm2Z2uZlVZq8f\n2BWYnRV3XSvra26GdkjYNOwDM1tiZjebWb+csmeY2aNh08oPzewxM9s3p0zCzM43s3+Z2arwc/+j\nme2cVeYoM/tr+L01mtnfzOyUnPXMMbPfm29Ku9zM7jezSTllFobr3tPMnjazFWb2vJkd2MJ+fszM\n/h7G9Dczm99S0y0z629mV5nZ6+Hx8ncz+2ROmRaPl3DeDDP7XXg8rjCzf5vZlS1+meG6gJ+Eb19p\n7fsys8+Y2avh5/GwmU3MmT/XzO4Nj4fmz+Ec80lRcxkX/vMrWdsJ2ohtjJndaWbvhJ/bf8P9TeR8\nDrmxBlnb2rBtM7vQzBaY2av43/xky2kGaWZXmtnbltNs2syKw2Pz0qxp7X5XYbk9wuNjVXhcnpJb\npo3PoDnur5jZa2a20sz+YGbTWih7cPibWBH+Pm43sxE5ZVo99+WUqwNeDd/+KOv7OiGc33zs7x/+\nllYDp4Xz2vydhp/l+2b23Ra2e0S4nWlZ09r9LXaUmZWZ2cXh97DazN4ys1+a2aA2ljnSzB40s3fN\nnzP+ambHt1DuTDN7KfyOPjCzJ83soKz5e5nZn82fc5aZP4f21hYfIn2OatZEojUKaAKWZU3bDd/8\n6+vAO8AiMysDHgaqgS8D/wOOAW40s5Rz7pqc9d4E3AZcCeyIr7krwzddZAvWdzPwc+BQ/Hnjv+E2\n4kDzBd6SNvbzp8DhwEXAH/HNu74KbAMclVP2S8Cf8U0sBwLfDbc/p431A1wYLnsF8GtgAnA+MNXM\n5uCbZc4ErsZ/5qeFy7XXXPNS4AHgY0Am3Ich+O+pWR1wLbAI//nsD9xjZvOcc78Jy3wR+CzwFeAZ\noBLYgbCJn/mk7SbgMuDz+Jtp4/BNvgjL7AvchW9qekzWeh8xsynOuf9lxbQt8H3gG8B7wDnAL8xs\nXHPtrpl9FP/Z3h3O7x/ubwnwctZ2K4E/AaVAgL9Y3gu4ynytxQ9yPrNNjhczKwfuxzf9PQFYGn5m\ns2hdA3AB/jg5DHgtnJ79fR0D/AM4EygCvg3cFe7jurDMNsDv8U2OV+E/8wAYACwIy8wEHgWuxx8f\nZG2vJfcAHwKn4j/bocA8tvwG6AnAv4HPAcuBN4B0Tpkbwu3NBe7Nmr4f/hi5ETr+XZnZ+HA9TwJH\nAsVh+XL876MjjsOfC84Ilz8P+L2ZZZxz74fb+RRwFT7xPg+oCLfzcHjMLs1a32bnvha2+SZwMHAH\n/ti+O5z+r6wyY/C/o/Pxn+v74fQ62vidOudWm9ltwFFm9gXnXPbncAzwvHPumXC/OvNbbJOZFQG/\nC/f9G/ga1TT+e6sG3m5l0W2AXwAXA+uBXYBrzazUOffDcN1H48+h5wGP4I+LKWw872yD/wx/EZZZ\ngz/PbdPR+EWkmznn9NJLr25+4S/GHDAWf5FQjU9ymoBfZZVbBKwABucsf0a4/K450x/AX9TEc7bz\nw5xyXwm3NWYL13dJC/u0EPhjG/taF76fFL4Pcsp9NZw+JXxfF75/OKfc58LpQ9r4fGvwF+LX50w/\nJlx2fta0PwILO/Cd7Roue1/O9KPD6Xu0slws/I5/C9yVNf0e4I42tvc54P12Yvon8PucaZX4hOHS\nnO9mLZDJmjYwPAa+nDXtz8Dz+GZ3zdO2D/dvYda0r4WfbyZn2z8Kt51o63jBJ0gbvust+N2MbmGe\nA17BN5VrnnZoOH1WK+uz8Lv5CvABEMtZ3wUdiKl/7jHV3m8ga3oAuBb24w2gtJXjb9esaS8DP88p\n9yvgxS34rm4O35dllRmOv1hf1IHPwbWwfF143J0fvi8HGoEf5yxbF27nrKxpi2jh3NfKtuvC7X+8\nhXkL8YnLtHbW0drvdKdw3XtlTRsQ7tcXtvC32Ob5Bn9jaouOqRb250f4Zt7N0y8Hnm5jvc2/mcr2\nPne99NIrmpeaQYr0rL/j/9N/H1/rdTObD9LxmHPurZxpuwCvO+cW5ky/CX8hMSFn+m0572/B/2e+\n4xaub2v6d+2Ste7cbcHmNWYNOe//Fv4dQes+gr+zn7uNW4B1LWyjM3I/y9vxF4MzmyeY2XQzu8fM\n3g63txb4KD45b/YEMC9sOrZzeDednPnVYVOw/cysKnummWXwtWU3m29SmQibxK3A1wrtkrO+V5xz\nrzS/cc69g0/ER4Tri+OTqF8651xWuafZ2Mys2d745oyv5mz7fqAf7R8vr+Broq42s2PMbDhd43fO\nubVZ7zc7Vsw3973azP6DTxDW4mvsqvAJbGctxtfWXGxmnwi/l611n3NuZQfK3QQcYGYVAOZHydwH\nX+vWrKPf1UzgXufc8uYFna8N+lMn4s5dfhG+Vqj5tzETn8DkHrOv4c+FucdsS+e+LbHIhTVg2Try\nO3XO/QlfS3ds1qJH4s+fN4fr6exvsT1zgbecc3e3W3LT/cmY2c/N7PVwX9YCH2fz8840M/uB+WbR\nqZzVPBMud4uZHWphk3wRyR9K1kR61kHADHzztjLn3HEubC6UpaVmeTWtTH8ra3623GYzze+HbuH6\ntmZkx+Z15a6jtW3lfh7NAwOUdHYbzjeFW9zCNjpjk8/S+QEPPiD8LMPE4/fhNj6Nb9o3A7gvJ+aL\n8CPYzcc3R1psZj8xs/7heh/GN/cbjk923jWzB8xsSrh880XUdWy8MGt+7Ye/EM+W+zmC/yybY+oP\nJPEJXJv7HG57lxa2e3s4P3fbud9DI76J2xv4mxT/Nd937JAWtt0ZbR4rZhbDN/HaD5+g7Y7/bi7M\nLtcZYWL7UXzzwW8AL5vvf3dqp6PfqKO/rxvxMR8avj8S/x3enFWmo99VLS03r2utyV1LWlu++TzT\nfMw+0EI8k2nnuNkKm62nE79T8EnxQWHzXfCJ24POudfD9539LbanH/B6u6WyhLH9DpiKb847G78/\nP8bfuGrW3Hy2Hp+wv29md1jYn9L5JtF74a8HbwTeMrO/hE3HRSQPqM+aSM963m0cDbI1roVp77Pp\n3dJmg8O/i3OmDwJeyHkPGy8IOru+lmLqqOYL6sFs2q+ktW1t7TY27Hd4t7vfVm5jkw7+YY1YNRs/\ny73x/UsOd869llVukzvYYQ3QN4Fvmtlg/EXd94AUcERY5hf4fmXl+GZw3wTuMz/ASvM+fAl/8Zur\ns6PmvYe/uGzpTvogfF+kZovxSd2ZrazrHznvNztewpqOQ8LvZAf8ftxmZlOdc893MvaO2jbc1rHO\nuQ21rma2/9as1Dn3b+A4MzP8xfIZwJVmtsj5PoqrwqK5taetXcR36PflnHvVzP6Eb977k/DvQrdp\n/6iOfldvknNsh1od0KKDZQex8bfRfMyewKbno2ZLc95vzXmmvfV06HcauhF/Y+UgM/sLPgnKHrij\nO36LnR2YZCYwEpjtnPtj80TLGYAmvLlwNb5Wuxpfi/dd4FZ8Aodz7iHgITMrxjcDPQ9oMLM659x7\nnYxLRLqYatZEeoeHgWFmtlPO9KPwF2Yv5Uw/POf9kfime49v4fpashrfWb09D2fFkO3o8O8fOrCO\n9jwWxpO7jSPwN6Ue3myJjsv9LA/DnzsfDd83X+xtaI5nZmPwFz0tcs695Zy7Fn+ht9lFmnNumXPu\nHvxFVi3+Iv8f+H49E51zT7bweq4zO+X84AlP4hMoy4p9On7gm2z34WuD/9vKtnMvutva7jrn3GP4\nvlUx/KMUWtNcU9aR46wlLX03STYee9nWdHY7znsGODuc1Pxd/ifnffNF9NzOrL8VNwK7mh8lciab\nNoGEjn9Xj+Kb5ZZlxTicNo7bFuQuX4dvktz82/gzPiEb3UosuUl+R23JcdHh36lz7l/4fTg2fC3H\nD2jSrEt/i/h+c4M7eROhpf2pBg5obQHn3AfOuVvxTbtbOu+sds49CHwLPyBV7nlARCKgmjWR3uF6\n/J3yO8zsK/g+H0fjm2Od4jYdtQz8RdS38RcBO+LvEt/gnHt5C9fXkheB08zsCHyN2dKWLr6ccy+Y\n2c+BILxg/TP+IvNr+MESOnthsxnn3Ptm9j3gS2a2HD/K3Xh807c/snk/uM6YaGY/wfd/G4NvQvew\nc+734fwH8P1fbjA/5HctfjS7/5J1Q8zM7gKexT/k+ANgO/zd/qvD+efhayUewjcXHAZ8Bv9svnfD\nMqfjRzsswl9wvRcuMwt/cf69Tu7bufhj5E4zuwbfNDLAN1Fdn1XuEnzi+4iZXYK/WC3DJwWznXOt\nXiCGce8HfBI/GMar4bKfwV/IP9rGoi+Gf083s5/iL0yfcx1/9tZL+MTpQjNrCpf/bBvb2tfM7sN/\nP284595oYV+m4EfZvBU/yEQcX3O0DngwLPYE/jfx7bApZvPw8cW569sCt+FHOrwJWAn8Mmd+R7+r\nC/A3Hn4bniuK8MdtZ5pBrsxavjhcfkkYA865JWb2eeAKMxsA/AY/4MhQfD/Shc65n3Vie83extdu\nHWlmz+GTqVedc23VoHfod5rlBvzIspOBO51zG0bsdc65Lv4t3gR8Avi5mX0D3+ewAt888VLn3N9b\nWObP+M/6CjM7F/8dfzWMY8NIouHvuvl39g7+HHYs/nffPFrnLvhz5v/w54Av4c9B3VXjLSKdsSWj\nkuill16de9HGqHY55RYBN7UyrxZ/V/09/MXfc8AxrWxnF/yw0svwTQSvYPPR5jqzvpZG4xuM/w9+\nKVmjB9LCqGX4fjUX4C+c14Z/L2DTkfzqaGGEN1oYFa+Vz8fwF+L/wNeSvBnud2VOuc6OBnkwPrn9\nMNzXnwH9c8oejh8wYRW+udeR4TKLssqcg68BXIy/yP0HPjFKhvP3xfcpeTP8Pv6H7xMzJGdbM/Ej\nS34Qbm8RPpGcmVVmIS2P1LmIzUfMPCqMZXUY+0HAX/EXqNnlqvEX4a+Gn+87+L532SP6tXi84Jvc\n3houuwr/0PR7gfoOfA/n4pvVNWUfV7QwemPWMXRC1rRp4Xe+An9T4jz8IAy5x+hOwFNhfI6c0Uuz\nyg3EP4ri5XCd7+NrbvfKKTcx/B6W4ROCs2l9NMjNRqGkjeMe3//MAT9rJcZ2v6uw3J7hd70aP2jK\nKeQct218Lw5/4+LL4ee6KtzGZqMw4h9r8BA+uViJT3J/DEzoyLmvle0fiE+w12Z/57Ry7Hf0d5rz\nGa4O1z23lfV19LfYkfNNOf7RE80D4byJH05/YM5vK/uY3T38/lbibw58JvcYwzffXBgeA6vDY+IS\nwvNiuA934c83q8Pt3g6M7eh3oZdeenXvy5zrqibiIhI12/gg4Yxrv2+ctCFsZvYQ8FHnXEv9Uvqk\nsH/cP4ELnXPnRx2P5CfzD/e+0Dn31ahjERHpy9QMUkSkQJlZKX6QkwfwNazbAF/A1xhdG2FoIiIi\ngpI1EZFC1oRvzno5fhCT5fimbIc557pqGHURERHZQmoGKSIiIiIikoc0dL+IiIiIiEgeUrImIiIi\nIiKSh5SsiYiIiIiI5CElayIiIiIiInlIyZp0KzNbZGZ7Rh2HiEg2nZtEJF/p/CTZlKwVODM7w8ye\nNLPVZnZ9C/PPNbO3zOx2MyuOIEQRKTBmVmxm15nZf8xsqZn91cz2ySmjc5OIRMLMbjKzN81siZm9\nbGYfz5mv85N0GSVr8gZwAfDj3BlmlgF2BEYCfwWO6dnQRKRAJYD/AXOANPA14DYzqwOdm0Qkct8A\n6pxzlcB84AIzmw46P0nXU7JW4JxzdzjnfgUsbmF2HLDwb/OrRWb2CTN7KbwL/qKZbd9CmR3N7FEz\n+zC8I3W5mRWF88zMLjGzd8ys0cyeM7NJ4bx54TqXmtnrZva5rth3EclPzrnlzrnAObfIObfeOXcP\n8CowPSyic5OIRMY594JzbnXz2/C1bfhe5yfpUkrWpFXOub8DzwH/wV8k3dhSOTM7DAiA44Dmu0wt\nJX9NwGeB/sBMYA/gtHDeXGAXYAxQBRyRtY7rgFOccxXAJODBrdszEelNzGwQ/tzwAujcJCLRM7Mr\nzWwF8HfgTeBe0PlJup6SNWmTc26Bc26Ac+5A59zKVop9HPiWc+4J5/3TOfefFtb1lHPuMefcOufc\nIuBqfDMngLVABTAOMOfcS865N7PmTTCzSufcB865p7t0J0Ukb5lZErgZ+Gl4EQTo3CQi0XLOnYY/\nN8wG7gBWZ83T+Um6jJI16QrDgX+1V8jMxpjZPWGn2yXARfg7RTjnHgQuB64A3jaza8ysMlz0EGAe\n8B8ze9jMZnbLXohIXjGzGP6u9BrgjC1Yhc5NItJtnHNNzrk/AsOAUzu5uM5P0iFK1qQr/I+NbbXb\nchW+uUAm7JT7ZXy7bgCcc5c556YDE/FV+p8Ppz/hnDsAGAj8Crita8MXkXxjZoZvxjMIOMQ5t3YL\nVqNzk4j0hAQdO9dk0/lJOkTJWoEzs4SZlRB2gjWzEjNLdHI11wKfM7PpYWfX0WY2soVyFcASYJmZ\njSPrLpSZzTCz+rDJ03JgFdBkZkVmdrSZpcOLtSX49tsi0rddBYwH9m+jGVF7dG4SkS5lZgPN7Egz\nKzezuJntBXyMzvcJ0/lJOkTJmnwVWAkswA8vuzKc1mHOuduBC4GfAUvxd3BqWij6OeCosMyPgFuz\n5lWG0z7Ad8pdDHwnnHcssCis/v8UGgZXpE8LL1hOAaYBb5nZsvB1dGfWo3OTiHQDh0+YXsOfF74D\nnOWcu6tTK9H5STrInHNRxyAiIiIiIiI5VLMmIiIiIiKSh5SsiYiIiIiI5CElayIiIiIiInlIyZqI\niIiIiEgeUrImIiIiIiKSh5SsiYiIiIiI5CElayIiIiIiInlIyZqIiIiIiEgeUrImIiIiIiKSh5Ss\niYiIiIiI5CElayIiIiIiInlIyZqIiIiIiEgeUrImIiIiIiKSh5SsiYiIiIiI5CElayIiIiIiInlI\nyZqIiIiIiEgeUrImIiIiIiKSh5SsiYiIiIiI5CElayIiIiIiInlIyZqIiIiIiEgeUrImIiIiIiKS\nh5SsiYiIiIiI5CElayIiIiIiInlIyZqIiIiIiEgeUrImIiIiIiKSh5SsiYiIiIiI5CElayIiIiIi\nInkoEXUAUuCC9FzAgCZgLfAh8C7wLkHj2ihDExERERGJkjnnoo5BClmQXgqUtzJ3Y+IG7wD/BV4M\nXy8QNL7fIzGKiIiIiERAyZr0uPljkzXAXMDdcUTp9YmYlWzhqt6iOXGDZ4GHCRr/2UVhioiIiIhE\nSs0gJQqjgYOAD9c74luxnsHha/cNU4L0a8BC4CFgIUHjv7di/SIiIiIikVGyJlusbkGDAZVAddar\nFIgDqxddvO/9bSy+HHjToKurdocBx4QvCNL/AR4EfgH8Tv3gRApD3YKGBDAIf0MnDSTx/+clgL8s\nunjftyIMT0QKVHjtNAB/vVLOxnNTEli86OJ9H40wPMlDStakVXULGpLAtuFrm6y/2wC1+Aug1mrG\nXgOG90CY7RkJnBi+3idI3wncAjxE0NgUaWQissXqFjSUAVPD1yg21rQ3v/rjBy9qyf7APT0QpogU\nmLoFDeXAWHwyNryFv0OA4lYW/w0wrwfClF5EyZoAULegIQ5MAHbIek2l9RNKb1QDnBy+3iFI/xL4\nOUHjI9GGJSJtqVvQMBjYDpgWvrbD3zzS42dEJFJ1CxpGAzOBWeHfSbR+I1uk05SsFbC6BQ1T8AN9\nzMWfZMqijahHDQROBU4lSD8HXAbcTNC4KtqwRKRuQUMlsCewD7AXUdTSB+mB+AGM1oavNeHfFfiW\nA4s2ewWNH/R4nCLSY+oWNJQCM9iYmM3EN2kU6TZK1gpIeAG0H/7i56P4powCU4BrgYsJ0tcAVxI0\nvh5xTCIFpW5Bw2R88599nHOzzCwZRRzzxyaLgSGHjE/UHD+tqF8rxbZvcWqQXgL8h40J3D+AR4C/\nETRq6GWRXqhuQUMFcABwJP7aqSjaiKTQKFnr48K7QPsBH3PO7WO2xcPkF4L+wJeBL4RNJL9D0Phk\nxDGJ9Fl1Cxpm4PuT7o/vzwGAWWtdzXrE7sAxf/5fE8dP6/SylcDk8JXtPYL0H9g4Uu0LSt5E8lfW\ntdORzrl5unaSKClZ64PCkYb2Ao5xzh1gZuUQ+QVQb5IAjgCOCAck+QpB40sRxyTSJ9QtaKgBjnXO\nnWxmuUlNPkgAK5NxPuzCdfYHDg5fAO8SpB/GJ28LCRpf6MJticgWqFvQUATsjU/Q9te1k+QLJWt9\nSN2ChmrgROfcaWa2Legk0wUOAuYTpG8EziVo/G/UAYn0NuENpD2Bk51zB5pZcYGfmwYAh4YvCNLv\nAL8GfkzQ+OcI4xIpOHULGjLAmc65o82sCnTtJPlFyVofULegYapz7gzgaDMr1Ummy8WBE4CPEaSv\nAi4kaHwv2pBE8l84vP5p4Q2kOtBFUCsG0jxSbZB+CfgJcANB49vRhiXSd9UtaJjjnDsH2NfMYnl/\nbgrS44EfAuuAJmAV8D7wbtbrvfDv28B/9YiivkHJWi9Wt6DhI865r5vZ3Lw/yfQNxcBZ+Auqc4HL\ndCIU2VzdgoZyfwPJfd4sVqPzU6eMB74FXESQbgCuA+7VuUZk64W1/Ac6t/6rZrHte8O5af7YZBwo\nuW5+Sf8BZbFdOrHoaoL0y/hRbV8K/74IvELQuKYbQpVuomStF6pb0PARt77pQovFd+8NJ5o+qAL4\nHnAUQfrjBI3PRh2QSD6oW9BQ6Zz7NM59zmKxqtafSS0dkMCPQHcA8CZB+gZ8M8mXow1LpPepW9AQ\nAw5165vOtVh8glmvekTjIcC8Hz65tuZrczr16NtiWh7waC1B+ing4fD1R4LGpV0SqXQLJWu9SN2C\nhh3d+qaLLBbfw2J63mIe2AF4kiD9XeDrBI0row5IJAp1CxrSzq0/C8fZFotVoptIXa0W+CLwRYL0\nQuB8gsYHow1JpHeoW9BwsFvfdLHF4pleeu1UBSwrTbK2i9aXBD4Svr4INBGk/4pP3BYCD+iZs/lF\nyVovULegYbhrWvc9YvFDLBbXVVB+SeBPdocSpE8haPx91AGJ9JS6BQ0x59afiuMin6RFHVFB2BXY\nNRxN8lyCxocjjkckL9UtaMi4dWuusUTRrr00SespcfzN5x2Ac4BlBOl7gNuB3+hGdPSUrOWxugUN\nJW7dmq8RS3zO4gk9hDG/bQs8QJC+FjiToHFF1AGJdKeRn79rhnPrfxJLFE1UkhaJOcBCgvRDwNcI\nGv8UdUAi+aBuQUPp+jUrz7dE8ZmWKNJ1bueV4x8AfiQ+cWsAbkOJW2R6VaPdQjLy87+a79at/Zcl\nir5ssZgStd7j48BTBOmpUQci0h3qFjSkR5z9i+uJxf8SSxRNjDoeYTfgjwTpOwnSmaiDEYnSyM/d\neaBbt+bfsaLScywWU6K29crxz539JfA2QfpygvS4iGMqODqQ80zdgoaa9atX/DRWnNov6lhki40D\n/kKQPpug8cqogxHpKiPO+eWJFot/L1ZUWhV1LLKZA4F9CdI/xPehXRx1QCI9pW5Bw6j1a1ZdFysq\n2S3qWPqwCuB04HSC9O+BHwC/JmhcH21YfZ+StTwy/DM3HxErSl0dK06lo45FtloxcAVBemfgEwSN\ny6MOSGRLjfz8XaPc+nW3xpIlM6KORdqUBD4NHEeQDvCPF9GFlPRZdQsaEuvXrAwsUfz5WFGJWiH1\nnD3C13/C58/+iKDx/Yhj6rPUDDIPjDjnjqrhZ95yTzxVdYslipSo9S0fAx4nSI+NOhCRLTHs9BtO\nBl5QotarpIFLgIcI0nURxyLSLYZ/5mcj169Z8UysqPQr6i4SmZHAxcAigvR5BGldw3YDJWsRG3b6\nDXtj9mq8tGLfqGORbjMBeIwgvWvUgYh01NBTri0ddvoNdycq+l1r8URp1PHIFtkFeI4gfWLUgYh0\npSEfv+q4WFHpi7GilPrN5ocK4GvAvwnSCwjSqagD6kuUrEUklam3Yaf++JJ4efW9sUSR+n/0fVXA\n/QTpj0UdiEh7hn7y6u3jpRX/TFT02z/qWGSrVQA/DgcgGRB1MCJbY8jJV8SHfuq6G5P9hv/UEkVK\nCPJPDfANfNJ2JkG6U0/xlpYpWYtA7XHfG1Cz1+lPJtKDzjKLadDrwlEE3EyQ/mLUgYi0Zugp134x\nkR78WKykfEjUsUiXOhB4niCtBFx6pdoTLxsVL6t+IVk1+BgzXTrluUHApcArBOlDow6mt9MAIz1s\nyImX7ZaEMcndAAAgAElEQVTsN/yXseJUddSxSCQMuJggPQL4DEFjU9QBiQAMOfnKslhJ+d3J6trd\no45Fus1A4G6C9HXAWQSNy6IOSKQjhpx85WHJmmE/iSWLy6KORTplOHA7Qfpe4AyCxlejDqg3Us1a\nD6o98bLPJgfU/VaJmgCnAXeoXbfkg0GHnzcmXlb9YqKinxK1wnAy8Gw4Wq0IZjbfzBZ00bq67CbA\ngPlfsKGfuvaaZP/htypR69XmAS8QpL9EkE5GHUxvo2StB6Qy9Yna4y/9SdHAbb5rsbhqM6XZfKCB\nIK3BGyQyAw89d17x0PFPxlOVI6KORXrUNsBCgvSpUQciPcPMWr3+cM7d7Zy7uCfjaU/1rieWFQ8d\n98dkVe0n1GWkTygFLgL+qhtFnaNkrZtV7jA/VbXL8Q8U12ZOMDWyls3tCtxFkC6JOhApPIOOuODT\npXXb/SpWnKqIOhaJRBy4kiB9MUFa/z/1EmZWZmYNZvasmT1vZkeY2SIz6x/O38HMFob/DszsGjP7\nLXCDmf3FzCZmrWuhmU03sxPM7HIzS4frioXzU2b2PzNLmtm2ZnafmT1lZo+Y2biwzCgze9TMnjCz\n87tiH9OzjhyRGrfz04n0oFldsT7JKxOBPxCkf6Brn45RstaNqnc/ubZihwOeKhowck7UsUhe+yi+\nSaSeEyM9IpWpjw068sJvl4yccqklkmqSIl8EbtI5qNfYG3jDOTfVOTcJuK+d8tOBA5xzRwG3AIcD\nmFktMMQ591RzQedcI/As0Hzdsj9wv3NuLXAN8Gnn3HTgc8CVYZnvA1c552YAb23tzlXtcuyEiml7\n/zlZNXjM1q5L8pYBZwBPEqSnRB1MvlOy1k2qdzspUzZhzpPJqsHjoo5FeoV98J1wdeEs3SqVqU9W\n7njwjSUjp55jsbj+D5BmR+EfL6JHyeS/vwF7mtk3zWx2mGC15W7n3Mrw37cBh4X/Phy4vYXytwJH\nhP8+ErjVzMqBWcDtZvYMcDVQG5bZCfh5+O8bO703Wap3P3lGxZS9FiYqBwzdmvVIrzEReJwg/emo\nA8ln+o+6G1TNPnp62cRdH0mU99PQ19IZ84FbCNLq1yjdIpWpL01/5PC7SoZPOkrNsqUFuwJ/DEer\nlTzlnHsZX1v2N+AbZvZ/wDo2XtPlNi1bnrXs68BiM5uCT8huaWETdwP7mFlNuJ0Hw3V/6JyblvUa\nnx3W1u5XzdzTdi+fvOdv4+XVeh5gYSkGLiNI/5IgnY46mHykZK2LVe30sVnlU/e+L1Heb1DUsUiv\ndDDwU/Ufka6WytRXVuxwwJ3FQ8ftE3UsktcmAo8SpKdFHYi0zMyGACucczcB3wG2BxbhEyuAQ9pZ\nxS3AF4C0c+5vuTOdc8uAx/HNG+9xzjU555YAr5rZYWEMZmZTw0X+hK+BAzh6S/ap37wzDyyfsOtd\n8dJK1ewWroOBp3Xu2ZyStS5UtfNRO5VvN+/uRHlN/6hjkV7tKOC8qIOQviOVqa8qn7rXbaUjp+4V\ndSzSKwzBDwAwN+pApEWTgcfD5ohfAS4Avg5838weAdp7fucv8MnVbW2UuRU4Jvzb7GjgZDN7FngB\nOCCcfiZwupk9AXS6ZqT/fmefWDZu9s9iJWXlnV1W+pxtgEcI0vtFHUg+UXOrLpKedcTsyun7/ype\nVl0TdSzSJ3yVIP13gsabow5EerdUpr6ibNLu15duu6MSNemMCvyjRU4kaLwp6mBkI+fc/cD9Lcza\nbEAO51zQwrS3ybn+c85dD1yf9f4X+EEgssu8ih/cJHd9rwIzsyZ16BEAqUy9lYycenL51L1+EEuW\naFRAaVaOHyX7bILG70cdTD5QzVoXKJ86t75i6t63K1GTLnYdQXpm+8VEWpbK1KfKxs/5UWrMrPnq\noiZbIAFcT5DeP+pApG9JZeot2X/kSeWT9rxEiZq0IAZcSpC+nCAdjzqYqClZ20qpcTttXznjoFsT\n6YHqoyZdrRj4FUF6ZNSBSO+TytSXpMbudEVq3OzD9EBZ2Qpx4FY9xFa6SipTb/HKAYdX7nDAt9X0\nUdpxOvBrgnRBPwtUydpWSGXqM+kdD76pqP8IXUxLdxmITlTSSalMfVHp6B2/WzZh12MtFtN5XrZW\nKf48NCnqQKT3i5VU7J7e8ZDvx8uqqqOORXqFffCj1BZspYj+E99CqUz90Irt97upeMi48e2XFtkq\nk4GbNUKkdEQqU58oGrTtl8sn7v5xi8ULvvmIdJkq/HPYdHNStlgqUz+tcsaB16g1knTSFOAhgvTg\nqAOJgpK1LZDK1PdLjZv9o9JR2+8YdSxSMPYHPhN1EJLfUpn6WKy04lMV2+93piWKiqKOR/qcIfiE\nTSMeS6elMvWZiun7/7ho4Khtoo5FeqXxwEKCdG27JfsYJWudlMrUlxfVjrm4bNzsj0YdixScb+r5\nI9Ims30qdzz08/FUWs8qku4yFj9KZFnUgUjvkcrUD0qN3fmK0rrttos6FunVxuITtiFRB9KTlKx1\nQipTn4iXVZ9duf3+R1g8occeSE8rBn5OkE5FHYjkn1SmfnLFdvMuKOo/fETUsUiftyNwB0E6GXUg\nkv9SmfqK4mETv102Yc7uUccifcIYfMI2NOpAeoqStQ5KZeoNix1SWX/oKbGSMg32IFEZB1wadRCS\nX1KZ+trSbXb4Vknd9qp5lZ4yFz+sv/rSSqtSmfpkLFV1VsW0fQ5WH1rpQhkKKGFTstZxMyqnz/9q\nsrq2oKpeJS99giB9SNRBSH5IZerLkgPqgvIpH91dz1KTHnYUEEQdhOSnVKbegKMqdzjgpFhxSs1m\npauNBu4lSFdGHUh3U7LWAalM/fDSUdPPLxk5RcMWS774EUF6eNRBSLRSmfp4rKTiU5UzDjrC4kkN\nKCJR+CpBWn24pSUzUuNmf7JowMi6qAORPmsKcDtBuk93TVKy1o5Upr4iXl6zoGzynrOjjkUkSzVw\nRdRBSOT2q9h+30/GSyvSUQciBSsG3FSII7RJ61KZ+gGJ6qGfLRs3e0bUsUifNxe4OuogupOStTak\nMvUx4ITKGQftF0sWl0Ydj0iO/QnSB0UdhEQjlamfUjJy6hnFtWPGRB2LFLyB+MGP1CdJSGXqE8ST\nn0zveNDuFk9oEBrpCScRpL8adRDdRcla23Yum7DrUcmaoRpdTfLV9wnS5VEHIT0rlalPx0rKP10+\nZa+PRB2LSGgO8PWog5C8sHfldvseES+vGRh1IFJQzidIHxN1EN1ByVorUpn6wYmaoaenxsyaHnUs\nIm0Yji6QCkrYaf+YyhkHzYkVlShRl3zyJYL0LlEHIdFJZepHFw+beEbxiMnq4y9RuI4gvXPUQXQ1\nJWstSGXqk5h9snLGQXNUhS+9wJl6WHZBmVG6zQ6HFg0clYk6EJEcMeCGQhidTTaXytSXxUorz6zY\nbt5OpqFpJRpFwC0E6QFRB9KVlKy1bO/ySXvsmyivGRR1ICIdEAd+SJDW77mPS2Xqa2Kp9Kllk/ZQ\np33JVyOBH0QdhPSsrGH694kVlarGX6I0FLixLz0DUhd3OVKZ+lHxygHHlG67o2oqpDepB06OOgjp\nPuHF0LGVMw7aJZYs1jOLJJ8dp2dBFpwdi4eOP6Ro4Khtow5EBNgL+HLUQXQVJWtZUpn6BHBi5fT5\nO1g8oWcWSW8TEKQ1amnfNatk5NT9ivqP2CbqQEQ64GqC9OCog5Dul8rUV2N2YvmUubrJLfnk6wTp\nOVEH0RWUrG1q95IRU+qTNUN1MSS90RDgjKiDkK6XytT3x2LHl03cXRdD0lv0A74RdRDSIw4qGz9n\nQjyVVtcRySdx/CNFev2opErWQqlMfX9iicPLJu+p0R+lN/uiOvf3LWHzxyPKJu42Pl5a0T/qeEQ6\n4XiC9PZRByHdJ5WpH2XFqT1KR9fre5Z8VAvcGHUQW0vJGhsuhg4tn7znxHhJeb+o4xHZCv2Ac6IO\nQrpUxorLdkptO0MXQ9LbGPD9qIOQ7pHK1MeAoyumzZugfrSSx+YSpD8edRBbQ8maNzZeVr1b6ajt\ndTEkfcFnCdKqgekDUpn6OHBUxbR9xlmiKBV1PCJbYGeC9OFRByHdYodE9ZDti4eMmxx1ICLt+A5B\nekjUQWypgk/WUpn6JHBcxfb7T9agItJHVNCHRkEqcDMSVbWTi4eMmxJ1ICJb4ZsE6ZKog5Cuk8rU\nlwJHV2y/31SLxeJRxyPSjjRwZdRBbKmCT9aA2YnqIWOTA0aOizoQkS50KkG6NuogZMuFF0Mfq9hu\n3mRdDEkvVwecHXUQ0qXmloycNi5ZNVgDsklvcQBB+rCog9gSBZ2spTL1aeDw8om7b2NmfebheSJA\nCXB61EHIVtmzeOiE0cmaoZmoAxHpAl/SUP59QypTPwCz+WWTdlfXEeltfkCQrok6iM4q6GQN2DVe\nVlOZHFCn9tbSF52ipke9UypT3w+YXzZhzvioYxHpIuXARVEHIVsnHJDtsNJtZwyPl5Srb7T0NoOA\nS6IOorMKNllLZepTwD7lk/esUxMj6aP6A8ds7UrMLDCzz5nZeWa2ZyeWqzOz57d2+wXqwKJBo/sl\nKgeMijoQkS50goby7/VGA/Wp0fW6kSS91XEE6Z2iDqIzCjZZA2ZZcaqsaPC2+o9D+rIzu2pFzrn/\nc8490FXrk5alMvUDgZ3LJswZE3UsIl3MgEujDkK2yn7FwyZUxMuqh0UdiMhW+E7UAXRGQSZrqUx9\nEXBA+aQ9hls8WRx1PCLdaBJBusO1Yc3M7Ctm9g8zewAYG0673swODf893cweNrOnzOx+M6vNmv6s\nmT2K+sxtqT0TVbWpRPWQCVEHItINZm/JOUmil8rUDwOmpMburHOT9HYf6U2DjSSiDiAi04knK4uH\nTpgedSAiPeAsoMM1YmY2HTgS2A5/jngaeCprfhL4AXCAc+5dMzsCuBA4CfgJ8Gnn3MNm9u2u24XC\nkMrUVwG7l0/aY1sNeiR9WKfOSZI3PprsN7w0kR40NoqNr1vyLu81fI+mZR9gFqN82l5U7nAAH/7x\nZpY9ez+xVBqA6l2Oo3TbGZst/9pVJxErKoVYDIvFqT3eV/J+sPAnrPz3UxQNHEX//c4BYNnzD7J+\n1VIqdzig53ZQeto3CNJ3ETSuiTqQ9hRcshY+ZPag8glzamPJ4vKo4xHpAfMI0hmCxlc6WH42cKdz\nbgWAmd2dM38sMAn4XZhPxIE3zSwNVDnnHg7L3Qjss9XRF5ZdYmVVpckBI6dGHYhIN5pHkB5D0Phy\n1IFIx6Qy9TXAzmUTdxsT2X2kWJzq3U6mePBo1q9ewZs/PYuSuu0AqNjhQNL1B7e7ikEfu4h4mNQB\nrF+9nNWvv8SQky7n3V9/mzXvLiJRVcvy5x9g4GHndduuSF7YFjiNXtA0uxCbQU7GbGDJyGmqVZNC\nYcDJnVzGtbO+F5xz08LXZOfc3HB6W8tJGzYMejRpzzqLxQvuRpoUFKML+9NKj9gtXlZTmuw3YkpU\nASTKaygePBqAWHGKZL/hNC1dvJVrNVzTOpxzuHVrsFicJY/fQcX0+ZhOw4XgawTpqqiDaE9BJWvh\nkLMHpjIzB8SKU73uOQsiW+EYgnRHf+9/AA4ys1IzqwD2z5n/D2CAmc0E3yzSzCY65z4EGs1s57Dc\n0V0SeeGYaUWl5cW1GQ16JIXg+N5wkSSQytSXAXPLJu0+Ml9Gz17X+DZr3v43xUN8i8ylT9/DGz8+\ng/fuvZSmVctaXsiMd277P968/kyWPnMf4JO+1NhZvHn9Z0ikB2HFZax582VSmY/01K5ItGqAr0Qd\nRHsK7bbBGKCudNsZ20UdiEgPGwrsAfyuvYLOuafN7FbgGeA/wCM589eEA41cFjZ9TOCbEbwAnAj8\n2MxWAPd37S70XeGgR/NTY2b1t3hSz8aTQlAGfAJQ39b8N9OKSkuLB+fHjaT1a1by7p0XUbPHJ4gV\np6jYbh7pWUeCGR8+chMfPHgt/eedtdlyg4/+FomKfjQt/5C3b/0qyX7DKBk+iXT9oaTrDwVg8W8u\no2r2MSx99n5WvfpXkgPrqJp1ZE/vovSs0wjSFxM0bm01bbcpmJq1sFZtfvHwyel4Kl0bdTwiETiu\nowWdcxc658Y65+Y6505yzn3HOXeCc+4X4fxnnHO7OOemOucmOud+FE5/Kpw20zkXOOcmddfO9DHT\ngMrioeM1ypoUkk8TpAvtpnGvEt5I2r9s3C6DLBH9jSTXtI5377yIsgm7kho7C4B4WTUWi2MWo2Lq\nXqx5s+WukImKfmH5KlJjZrL6jU3LrXn7X75c9VCWP/8gAw5cwNp3/8Pa91/vxj2SPJACzog6iLYU\nTLIGjAAmlo7abkTUgYhE5ECCdGnUQcimwhtJ+ySqh7h4WbXOT1JIhgPtjwohUZoGpIuHjJ0YdSDO\nORb/5vsk+w2ncseDNkxft+z9Df9e8fKjJPuP3GzZ9WtWsX71ig3/XvXqXykasGm5Dx+5ifTOR8P6\ndeDW+4kWw61b3Q17I3nm0wTpVNRBtKaQ7mjtRSy+Olk9ZFzUgYhEpBzYF/hF1IHIJmqButSYWaM0\nWr8UoLOA26IOQjYX3kjaP9lvuIuXVQ2NOp7Vr7/I8hceIjmgjjd+8mnAD9O//KU/sObtf4MZifRA\navbylSTrli5m8X2XMeiwr9O04kPeveMCv6L16ymbMIfSbTaOM7fi5UcpGpzZUPtWPGQcb1x3OsmB\ndRQN3KZnd1Si0A8/ENsPog6kJQWRrKUy9aXAjNJR26csUZS3mbNIDzgSJWv5ZgawvmjgKA3XL4Vo\nJkF6R4LGx6MORDYzFBhWmvlIXmQrJcMmMvKL92w2vaVnqoFv9jjosK8DkKwazJCTLm913akxM0mN\nmbnhffXuJ1Pd6UGUpZc7hyB9FUHjuqgDyVUozSDHAvHioRPGRx2ISMT2zeeq/kITPvdxj5K6aaWx\nolKNjCeF6rNRByAt2hFoKhpQF9lw/SI9aCRwRNRBtKRQkrVZagIpAkAJsFvUQcgGY4DykpHTdCNJ\nCtlBBOmKqIOQjVKZ+gSwW8mIKSW6kSQF5ItRB9CSPp+shU0gty8dNT1tiaQGVxCBvaIOQDaYbcmS\n9cnqIRoFUgpZMTAv6iBkExmgvHjE5EzUgYj0oMkE6V2iDiJXn0/WgHFArHiYmkCKhPaOOgDZ8KDZ\nHVOj66stniiKOh6RiGlUyPwyC1iTrBmqaycpNJ+MOoBchZCs7UQssTpZVasmkCJehiCdFx3GC9xk\nIFY0aJvRUQcikgfmEaSLow5CNjxbbceSEVNKYskSNU+VQnMIQbom6iCy9elkLZWpTwHTSreZXpUP\nD3MUySNqChm93YClifQgJWsi/tEic6MOQgDflzZZPGLy2KgDEYlACXBs1EFk69PJGr4JZLx46HhV\n44tsSk0hIxQ2gRxdPGyiHicistFB7ReRHlAPrElWqwmkFKzjow4gW19P1nYinliVrK7V3SGRTe1G\nkE5GHUQBGw1Y8ZBxqlUT2Wg+QToedRCFrLkJZLLfiKZYUUll1PGIRGQ7gvTkqINo1meTtY1NIHeo\nsriaQMqWWbXOseOPljH1h8uYeOUyzn1oFQC///c6tr96GdN+uIydf7ycf76/frNlF69Yz24/XU75\nRUs4496VG6avXufY+6blTLpyGVc+sWbD9E/+eiV/fbOp+3fKq8A/Q0eiMQ1Ym6wZqpHWRDbqB8yJ\nOogCNxpIFg8dNzzqQEQilje1a302WQPGA7GiAaNGRh2I9F7FcXjw+DKe/VQ5z5xSxn3/Wsdjr63j\n1IZV3HxwKc98qpyjJie54A+rN1u2JGGcv1sx35m76b2C+/+1jum1cZ47tYxrnvLJ2rNvNbHewXa1\nPXpTeUZPbky8VKY+BuwQL6teGUulh0Qdj0ie0aiQ0RoHNCVrhunaSQrdxwjSFnUQ0LeTtZ2AFYmK\n/sOiDkR6LzOjvMj/Vteuh7VNYIAZLFntAGhc5RhSsfnvuazI2HlEgpLEptOTMVi5DtZlVcZ97aHV\nnLdbjw+EVtDJmpnNN7MFXbSuZZ0oPhQoK6mbNtzM8uI/ApE8cmC+XCAVqGnAknhF/7qoAxGJ2BDy\n5Dop0X6R3ieVqU8Ak4nF346lKmujjkd6t6b1junX+KaOp88oon5Ygmv3L2Hez1ZSmoDKYuOxj5d1\neH0f3TbBjc+tpf7a5Xxhp2Lu/sdaptfGGVLR4/dO8uIk1J3MLOGcW9fSPOfc3cDdPRwS+JHWKBow\nSv3VRDY3FN9E+y9RB1JowoGPhiX7DV+q/moiAMwHHo86iL5aszYIiBXXjhlgsXifTEil58RjxjOf\nKue1syt4/I0mnn+niUseW8O9R5Xy2tkVnDgtydn3r+rw+hIx42eHpPjrKeUcNiHBpY+t4ZxZRZx9\n/yoOvW0Fd/9jbTfuzSZGE6SrempjW8PMysyswcyeNbPnzewIM1tkZv3D+TuY2cLw34GZXWNmvwVu\nMLO/mNnErHUtNLPpZnaCmV1uZulwXbFwfsrM/mdmSTPb1szuM7OnzOwRMxsXlhllZo+a2RNmdn4n\nd+cjwJJ4Zf9RXfHZiPRB86MOoECNBFzxkHF1UQcikicOiDoA6LvJ2jDAkgPqhkYdiPQdVSXGriMT\n/OaVdTz7dhP1w/x9gCMmJfnz/7ZsYJArn1jD8VOTPPq/JoricOuhpS32f+smBuzQUxvbSnsDbzjn\npjrnJgH3tVN+OnCAc+4o4BbgcAAzqwWGOOeeai7onGsEnmXjwAb7A/c759YC1wCfds5NBz4HXBmW\n+T5wlXNuBvBWR3cilakvB7ZNVNU6PWxWpFU7Rx1AgRoDuEQ/9VcTCU0iSG8TdRB9NVkbA6xNVA1W\nfzXZKu8uX8+Hq3zftJVrHQ+8uo7xA2I0roKXF/sE7Xf/8tM664OVjnteWcdxU5OsWOuIme8Lt6rF\nRnvdprc0hfwbsKeZfdPMZocJVlvuds41D8F5G3BY+O/DgdtbKH8rcET47yOBW82sHJgF3G5mzwBX\nA83NqncCfh7++8ZO7MdIwBXVZnQjSaR1MwjSahXT87YDGhPqryaSLfLatb56MpwALEmU1ShZk63y\n5jLH8b9aQdN6WO/g8IlJ9huT5Ef7wyG3rSRmUF1i/PiAUgDu/sdannyjifN28yNA1l26lCWrHWua\n4Fd/X8dvj00xYYAf8fG8h1fz1dnFmBl7jU5wxRNrmHzVcj41vagnd7FXJGvOuZfNbDowD/hG2MRx\nHRtvOOU+nmN51rKvm9liM5uCT8hOaWETd4frrcHXyj0IlAEfOuemtRbWFuzKKIBk9VCdm0RaV4pP\nHJ6IOpBCET7uaHiiZuiSWFFpOup4RPLIfOCSKAPoc8laeMIZFCutfMeKU/2ijkd6tymD4vz1lPLN\nph80PslB4zd/pvT8sUnmj904fdFZrbd0u2TvjflFScL47bEdH6SkC02NYqOdZWZDgPedczeFIy+e\nACzCJ1a/AQ5pZxW3AF8A0s65v+XOdM4tM7PH8c0b73HONQFLzOxVMzvMOXd7OHLjFOfcs8Cf8DVw\nNwFHd2JXJgJL4xX9VLMm0radULLWk8L+auPVBFJkU7MJ0jUEje9HFUBfbAY5FN9BdqhGxRZp14he\n0txoMvB42BzxK8AFwNeB75vZI0B7nQZ/gU+ubmujzK3AMeHfZkcDJ5vZs8ALbGwOcSZwupk9AXTo\nLnQqUx8HtgGWxksrB3dkGZECNivqAApMBnCJqkF69qPIpuLALlEG0Bsu0jprBGDJfsN051qkfQn8\nHdV/RR1IW5xz9wP3tzBrTAtlgxamvU3O+c45dz1wfdb7X+AHXcku8yp+cJPc9b0KzMyadHEb4Tcb\nDCSS/UemLZ7o0bauIr3QR6IOoMBsDyyJl1aqRZLI5nYGfhXVxvtizdp4YHmicqD6hIh0zLZRB1Ag\nagGKBtTp2Y8i7RtOkFbi0APCZ9MOB5bGSsr7Rx2PSB6KdITaPpWspTL1BowFlsbLqlSzJtIxStZ6\nxkhgfaJqkJpAinTMdlEHUCD6AViyJG7JEg0uIrK57QnSqag23qeSNaAGKEvWDEtZoiiyD1Wkl1Gy\n1jPGAMtiqSrduRbpGCVrPaMf4JL9R/RTX3+RFiWB+qg23tf6rA0DXKJ6iJpOiHSckrVulsrUx/A1\na+/GilPVPbFNt76JN3/6WRIV/Rh46Lm8d+/3WfPWKwAkq4fQb9/PEisq3Wy5xkdvY9lzv4NYjJo9\nPknpNtNpWtHIu3dcyPrVy6iafSypMb673ju/PJ+auaeRqNApV7qFkrWe0R+IJaoG64cs0rqdgYei\n2HBfq1kbBbh4WbWq8UU6Tsla96vC35lrihWVVvXEBpc+eTfJfsM3vK/Z4xMMOelyhpx0OfHKASx9\n+p7Nllnz3n9Z/tIfGHLylQw87Ou8/7urcOubWP7iw5RN2p3Bx3yHJY/fAcCKf/6FokHbKlGT7tTa\nMw6law0H1iQq+qvWX6R1kfVb62vJ2khgRSxV2SMXQyJ9xIioAygAVYCLlVYUWzxZ3N0bW7fkPVb+\n+wnKp87dMC1W7FuGO+dw69aQM/AlACtfeYyy8btgiSTJqsEkqmpZ8+bLWDyBW7cG17QWzHDrm1j6\n5F1U1h/c3bsihW0sQXrzB1pKVxsJrIiribZIWz5CkI6knXBfS9YGAaviJRWqWRPpuEqCdDzqIPq4\nKsASVUN65EbSB7+/hqpdTyK3/8l7DZfy2uXHsvb916iYvt9myzUtW0y8csCG9/GK/qxbupiyCXNY\n9erTvHP7uaR3OoqlTzdQNnEPYsmSzdYh0oVihKOoSvcIB2YbBqyMlaqaXKQNlUR0c7vPJGvhCac/\nsNqKU6pZE+k4wycT0n1qgFiisn+3f84r/vk4sbIqigeP3mxe/33PYtjpPyXZbzgrXnpks/nOtbBC\nM2LFZQw8LKD2+EspGjyalf96gtTYWSz+zWW8e+dFrH79pW7YExEANLJz9yoDSoC1seIy1ayJtG1i\nFLOC73QAACAASURBVBvtM8ka/oSTwPcJUc2aSOfURB1AH1cLrI6XVXd7srb69RdZ+cpfeO2qk3j3\n7m+x6j/P8d6vv7NhvsXilI2bzYqX/7zZsomKfjQteXfD+6al75Eo3/TQaPzTz0nPPJzlLz5M0eDR\n9Jt3Fh/84Ybu2yEpdEOiDqCP6w+sj1cOKLd4oijqYETy3IQoNtqXRoNMA+sBLFlcEXEsIr1Nj4xQ\nWMBqgVWx0u7vT1s95wSq55wAwKr/PseSx++k337nsPaDN0hWD8E5x8p/Pk6yZthmy5aOrue9X3+b\nyhkHsW7ZYtZ98AZFtWM2zF/7/us0LXufkhGTWfPOv7GE737n+8CJdAvVrHWvfoDFU1V63JFI+yKp\nWetLyVoVQCxVVWoW60s1hiI9QTVr3WsQsCpWUhZRc1PH4oZLWL96BeBIDhxFv7mnA7Dilb+w5q1X\nqJp9DEUDRlI2bjZvXHcqxOLUfPRULLaxO+OHf7iRql2OBaBs/BzeveMClj55N+nZR0exU1IYlKx1\nr0EAseIydUAVaZ9q1rZSJRCLl1Xr7pBI56lmrZukMvVx/Of7v1iytLwnt10yYgolI6YAMPiYb7dY\nJpWpJ5XZ+KzP9KwjSM86osWyAw5csOHf8bIqBh/7nRbLiXQhNYPsXv2ANbFidR8R6YBIkrW+VANV\nARBPpcuiDkSkF1LNWvepBBzgiCe6fdh+kT5GNWvdqwJYZ8lS1ayJtK+cIN3jI0L2pWStBlgbK61Q\nsibSeern2X2akzUsFlcHfpHOUbLWvcqBdf/P3p3HR1Xe/f9/XbMkIYQdZBE0VTEu4EYtdetqrZVK\nN2ur3nc3u3i332532+8v37ZqqrXSSt2t+44CgqIDEVRk34Y17AzDEgKEQNZJJpOZOcv1++OcAEJI\nJiSZM8v1fDzyIOScmfkE4+R8znVd78uVk6eaNUVJzPkdn9K9Mq9Zy+2tpkEqSuc5stFjljjaoKlm\nTVE6TU2D7Fm9AUN4ctWov6IkJunvSZnUrPUD4q7cfDWypihKKjnWoLlUNLaidFIBJf36Ol1EBusN\n6MKbq0bWFCUxw5P9gpnUrPUHNFxud4dnKoqiJE8uIHC5XcLlUu9PitJ5aipkz7GaNY9q1hQlQapZ\n64K+gIaU0ulClMQ1xmSd0zUoSg/LAYQrt7caVVOU03OG0wVkovzR411AHqALj1c1a4qSGDUNsgty\nAUM1a+ll0rL49KguI07Xoag1az3IbtbyVbOmKKdHjUj3jFxaw4/cOapZU5TEqJG1LjCtP1SzlgZ0\n7D3+ArVmw9Nr4tMMUxoO16QoPSUPkCJHNWuKcprUzaSecVyzptbTKkqCVLPWBSYg1MhaWtgMbARG\nAiwsN/bP2qH7nC1JySRCiAuEEF8WQhSc8PUbHSgnHzCEx+tx4LUVRUkhQojPCCGutD+/SAjxv0KI\nmxwqJw+7WVMUJWFJb9Z65OJBCPFjKeXLPfHc7ZCoZi2V9CssLh1aPmnC4RMP+AKaNrHI+yzwV2AI\nUP3aRm3TmX3E4KtGea5LeqUKQMaMbAohfgP8CtgOvCiE+K2U8j378D+AeUkuKR8wMPSM+TfOANVO\nF6B0SkaMrAkh7gW+BniEEB8B44FFQLEQ4nIp5QNJLunY1Edpmkl+7YwkpZRIQ8c0NWkaGqapS2lo\nmIYmTUO3/9SkoVufG7omTV2TsUh+zhnnzHUXDFjl9PegdCifkn55lISiyXrBnrrT+zfAiWYNiVRv\nOKmhD/BuYXHpF8snTTjpB9oX0MITi7yPAPdihcM0TloWX/Dvr7oGnTfQdVGyi1VocLqAbvQzYJyU\nMiyEKARmCiEKpZSP4cxFXx5gSj2uO/Daysk2l0+a4He6CKVTMqJZA24BLsOaflgFjJRSNgohHgL8\nQLKbtaOkzNxrJylN02qaTA3T0DAN3WqkDE2api5N3f5c1zAMXZq6Jg1dw9B1aWhWQ2Vo1ud6vPVD\nl3pck1pMk3pMN+MtmtSimtTjp3tTbiTwYiTo39ed37vSY3oBqd+sCSE2neoQMPR0n7cL1Mha6vks\n8BJwe1sHfQHt8MQi72NAMRCTELtnYXTWYzfm9R/S26U2Qk2ueqcL6EZuKWUYQEpZLoT4AlbDdjbO\nXPTpgJC6ppq11PBEIie5RMY0CErq0KWUBhARQuyWUjYCSClbhBBONEvHvWZymzVpmgbS0KVpNVDW\n6JN5XBOl6xj2KJSp67SOQBm6hqHp0tA1qWtWE9XaQBlxXWoxTWoxzdRjuoxHNVNr0TD07vjeXFhB\nN642Ps/Buil3/NdbQ3HkcX+e6vpUABrQ0g11KsmR1ECeroysDQW+yskXeQJY0YXnPV3W/4yqWUs1\ntxUWlwbKJ034W1sHfQEtMLHI+wLwC2BfOI5+3+LY1EnX5/2sd45QG6EmTyY1a1VCiMuklGUA9gjb\n17FuHIx1oJ4Y4JJ6TDVrDpOm0Shc7imJnHvDuZ7ze7oeJWGZ0jjHhRD5UsoIMK71i0KIfnyicUqa\nY69pmqY1Tc/U5Cem8R0/CmXomHrrND4NU7eaJnvkCUPTrNEnu4EyNLtxam2iopqpRXUZj3THNkuC\nthun1s9zsaagn/h16LiBEsf92fq5BsSx3s/jWI1V7ISP6HF/Ru3ztOM+9HY+j0WCftWspY+0adbm\nAAWtF0THE0Is6sLzni47YMRUzVrqubewuHRH+aQJ009xfAXWgs2bgfJ9IRl+3B+f+serc37idQtv\n8srMapm0390PsH75HSWl1IEfCCGedaAeDXCZpz89Ruku0nyxfNLEji6IBMA1ozzjk1CRkphMadY+\nJ6WMwUnTDr3ADx2o52gNdfOfeaMbnk9w6tEnN9b32dbXJZ9snE7VQB3fREms99bW5un4P6MnfH78\nR5z2m6a2mis9EvSra0vleL2S+WKn3axJKe9s51ib0956mNWsqej+VCSAVwqLS8vbWiviC2hyYpF3\nFjAMuBzYv/KAUTV1i/bOf1/i/Z4QmfJ7OqVlzMialPJAO8eWJ7MWWxxwSS2qRtYcJKU0hdv7aHvn\nTCzyCmDc9ee4BwzoJYYkqTQlS7Q2am18vQaoSXI5YF03ebFmSh3fRLX+0u1sA2Vivd+1fpw48tTW\n6FOUxJum4z83VAOlOChtRtZSjRUwoqZBpqo8rMCRz5RPmrD/xIO+gGZMLPK+iLV+bShweOY2fcfI\nvq75X/qU5/pkF5uFMqZZS0ExwIVpmFJKKdTdB2cY2rzyyd+q6OCsc4Czbj7fe3EySlISpv6f6Rn1\nwAdYDdvxzVOMxJumo59Hgn41e0DJFqpZO00qYCT1DQNmFxaXXls+aUL4xIO+gNYyscj7OFZCZH+g\n4dFV8eXDCsTgi4a4L0t2sVlEAiGni8hgcVovNqWpI9xqaq8DhCfnoQRO+/I5A0TO2f2FWq+mZLxI\n0B8D3nS6DiUxHldG7Y2c7tJjGmQKMgGkFktalKZyWi4F3iwsLv1m+aQJJy2o9gW0WjvS/69Yd/da\nShbF5jx2Y96A4X1cZye72CxRT0koY2ObU4BB69oQ09BwqWYt2aSuBfZN/uai9s6ZWOQdCIy/Y2zO\np1xq9DPVqJuwSuop6SewQkx6Hfdnr+7+2qzv9erjEuSot6XslWnNmjCa69QIQeq7GfgX8Me2DvoC\n2t6JRd6ngd8AFVEd/d5FsemTb8j7Wd9cMSCZhWaJvU4XkOGOrlUztVjY7cnJd7KYrORy/TuBs64p\nyMFzyVDX5T1ej9JZR5wuQEkTJf3cnNzw9FQjlZuMb8ntUk1aCkpqcmcmNWsxIFcPHVbNWnr4g50Q\n+UJbB30Bbe3EIu9bwK3A3qqwbJm8IvbmX67LvTPXI5I6VzgL7Ha6gAyn07qmVos20qvPGQ7Xk1Wk\naYQ6iuufWOTNAW78/hjvUPX+kpIOOV2A0gUl/XLo4dGn4z5XMxeUZEjqLL5MataOAOfpocP1Upqm\nEC41tzf1/aewuHRX+aQJi05x/H2sSP+rgX1lVWbNK2XajJ+N897hEkL99+0+qlnrWWHsZs2MRZoc\nriX7SPOFBOL6LwXyrzvLc0UySlI6xUCNrDmrpN8NWPvCnW4j5T75SRUlramRtdN0GBiDlFJqsUaR\n06u/0wUpHfICbxcWl362fNKE4IkHfQHNnFjkfQ04AzgbqCwN6ntG9hVzJ5zvnZDsYjPYHqcLyHBH\nGzQz1tzoZCHZxo7rf7y9c+y4/q9/5Rx3HxXXn5IOqzW1jvsWcJfTRShKClHN2mk6hD38bcZbQi7V\nrKWLgcAcu2E7KT7eF9BiE4u8TwF3A4OA2mfXaWtH9HENuXy4+zPJLjZDqZG1ntWItXcRZrRJjawl\nk6HNTTSu/+vne8cko6SeVPhoE31yBW4BHhes/XkB35sZIVBj9ToNUUn/PEHZXQUnPXbeLp3fzoti\nmJKfXpFD8bXWcpw73omw+bDJ18/38I8vWzNE718c45KhLr5xQVJmnKkpkA6YWOT1AD8Ght79udzL\nrzxTDY4pynGSOg0yk6aShWhNhIw1q3Vr6eV8YGZhcWmbNw98Aa0BeATIAXoD3L8kNq8iZO5KXokZ\nTTVrPasZe2sRIxJSI2tJlGBc//XnDhC5mRLXv/CH+ZTdVcDan1sN2fRbrL+X3VXAdy708u0LT26w\nDFPyq/dbmHtHPtt+VcDULRrbqg02Hba2zdr0PwUsrTAIRSWHmkxWVxrJatQAKpP1QsoneIFrgAEt\nulQjm4rySUkdWcu0Zk0CGNFwg8O1KJ33JeCpUx30BbQDwJPAECBHN5H3LIzNrG+R1ckqMEPFgQNO\nF5HJIkG/CTQAOUa4XjVrSSJ1bUf5pAmL2zunNa7/9iyI65dS8tY2jdvGnHxPbPVBg/MGujhngIsc\nt+D7F3t5b4eO1wUtGphSEjckbhfcszDGfV9ISgheKzWy5gwN65qqSTdpdroYRUkxqlk7TQ3YG8+a\nkUY1spaefl5YXPr7Ux30BbTNwOvASMBV1yJjDy6LvRnVZSRpFWaePWo9SFLUArlGU7WaBpksLnei\ncf3uS4a6LuvxepJACLjh9Qjjngvz3Lr4J44trTAY2lswetDJ09kONklG9T12OTCyr+Bgk8mFQ9yc\n1c/FFc82c+tFXnbVmUjg8uFJnRKnRtacYWDPCAhFpWrWFOWYZkpC8Y5P6z6Z1Kw1YTVrwmiuV81a\n+ppcWFzaXnjIAuAj4CyAHTVmwzNr49MMUxpJqS7zbHS6gCxRDeQa4bqINA29w7OVLrHi+l0dxfXn\nkmFx/ct/0pv1vyhg7h35PLUmzpJ9x37Upm7WuG1M21MXZRtbTrcOMz56Yx5ldxXwh6tzuXthjPu+\nmMsDS2LcOiPC8+uScr2iRtYc4AtoEmtLJHdNRKqbTIpyTNLfkzKmWYsE/QZQD+TqjdVqGmT6cgFT\nC4tLx7Z10P4FMg3YApwJsGCvsX/WDt2XvBIzynqnC8gS1dgbqJrRsIoh72nSfKF80oSOFoBnXFz/\niD7Wr/Qzerv41gUeVh+07mHppuSdHTrfO0WzNrKvYH/jsQH2A43y6HO1em+HxqeHu2mOS7ZUG7z1\n3Xxe36QR0dro9LqXatac0wh4DzfLsNOFKEoKUc1aFx0BcvWGQ2pkLb31AWYXFpe2uXmwL6BpwDNY\nU8uGALy2Udu0cr++NHklZgzVrCVHDfb7rdHccNjhWjKaHdf/WHvnHBfX3zdT4vqb45KmmDz6+Ye7\nDcacYU1XnL/H4ILBLkb2bftX/pVnugnWmuytN4kbkmlbNSYWHVvbphmSx/xx/nRNDhHt2KibKSHe\n83Ma1DRI59QBOQcaTTWypijHJP09KdOatSogT2pRXerxpK5jMqNhqmf9g4PP38XB5+8idnA7zTuW\nUfnCL9n3z5uJHTppG7GjGte+R+WLv6TyhV/SuOa9o1+vX/QylS/9H2rmHFt6Ed6ygMa177X1NJnm\nbODdwuLSNqcn+QJaGHgU67qhL8CkZfEFu+vM7ckrMSNscLqALFGNnVZrNNVUOVxLZjO098snTdjf\nwVnnAqNuLkr/uP5Wh5sl177czKXPhPnMC81MGO3hxvOshmvalpOnQFY2mdz0hvVr0uMSPHlTHl+d\nEuHCp8LcepGXi884ti7tqTVxfnipl3yv4JKhLiQw9ukw14xy0z+vx3NZVLPmnBog51CTjBimSoRU\nFFvS35MyaZ81sIYmcwGMaLjaUzDw7GS9cN3Hz5F3zjiGfOvPSENDajFcuQUM+dafqf3gyVM+Ll5d\nTnjjBwz7wcMIt5cjb91Dr3M/jbt3f2IHtzPiJ09SPfsh4tXlePoPp3nLfM747n3J+racdhXwInBH\nWwd9Aa1qYpH3MaAYiEmI3bMwOuvRG/P6DentGpHMQtPULkpCtU4XkSUOYw9IaPWVh3sxzuFyMleC\ncf1fPm+gK+esfmJ0jxeUJOcMcLGxjf3TAF75Zq+Tvjaij4v378g/+vebRnu5aXTb0yR/99lj6Y9C\nCKZ+J7/N83pAHSUhNQ3SObVArgSiOs29c+jjdEGKkgLUNMguOrqpstF4pKM7q93GjEWI7t9KwSU3\nACDcXlx5BXgHj8I7aGS7j9VqD5A74gJc3jyEy03uqDFEgisBgTR0pJRIPY5wuWlc/Q59xk1EuDOt\nx27X7YXFpfec6qAvoAWwGrozAXdTHO3+JbFpzXG1IDoBq5wuIIuEsDbR9MYP71bTIHuIHde/pL1z\nJhZ5BwHjbxvjPSfT4/ozgApAclYt4AaIaOp3qqLY1DTILqrD3mstXlNRkawX1RuqcOf3pfb9R6l8\n+TfUzn0cM57Y5uY5g88mun8LRksjphalZc9ajMYaXLn55BddzaFXfoOn31BEbm/ih3aSP/qzPfzd\npKSSwuLS77VzfDkwGyshUpQ3yKbH/fE3NUNqySkvbalmLUkiQb8E9gIFZktj1Iy3qHW1PSGxuP6r\nMymuP8OpZs1ZYezp201x1B6RimJRI2td1Lq5r4gd2LZfyrYCibufNA3iVbvpc/lNjPjx4whvLo2r\nZiT0WO/gUfQdfwtHpt/NkbfuJeeMT4HLWivQb/wtjPjxEwz80k8JLZ1C/+v+i6aNH1D97iQaVkzr\nyW8p1QjglcLi0s+0ddBOiHwHWIu1BxsrDxhV07Zo7yTpRyBdrXS6gCyzEygAMCKNat1aN+tMXP9t\nGRTXn+HKnC4gy4Wxb4BXN5tqyryiWHYn+wUzqlmLBP0xYB/Qx2xpjJrRcHUyXtfTZzDuPoPJHVEE\nQH7RNcQPJ/7fss+lNzD8R48x7I5/4srrg3fAJ5dbtT6XZ8CZNG9ZwJBvFqNV70OrO9h930TqywPe\nKywuHdXWQV9AM4AXsBr2oQAztuk7FpUbHyevxPQhpaxGhYskW+vNJIxwrZoK2d2k+XzCcf1ne9Si\nwfRwWs2aEKJECPFHIcR9QojrO/G4QiHEltN5zQx1dOrjgUaZlOspRUlxESBpM/daZVSzZtuEnQ5o\nNNUk5R/UXTAAT9/BaLXWtVh030a8g89K+PFGs7UtnN54hMjOleRf9PlPHG9YOoV+194Bpg6tgUzC\nhdRj3fMNpI9hWJH+ba6i9wW0FuBxQAP6AzyyKr5sW7WhptKcQAjxESUhNeyYXEdH0/SGKhWa0I2k\nlIZwex9v7xw7rv/mG8519+2fJwYnqTTlNEkp40CX0n2llPdIKed3U0nZqA7rOlHsrjdVs6YoEHDi\n2ikTm7Vd2N+XVncgad3vwOvvombOZCpf+j/Ej+yl71W3Etm5ggNP/ZBY5Q6OzPwbh6ffDYDeVMvh\nGfcefWz1u/+g8oX/4cjM+xj4lbtw5x3rRSI7V5IzbDSePoNw5RWQO+ICKl/8FQjIOeOcZH17qeRS\n4I3C4tI2f3Z9Aa0WK9K/D9ALoGRRbPahJjPpd0JS3DynC8hCrRc7Irp/c3mypmlnhcTj+kd+/fzM\nievPZEKIDZSE4p04/y9CiIAQYj5QZH/tFSHELfbn44QQi4UQ64QQHwghhh/39Y1CiJXAr3rie0lX\nvoAWx4rvz9t02KhWb1mKwg4nXjQTYwWPXpTHKgMVvS+4LikvmjP0HIb/8NFPfC3//KvJP//qk871\n9BnE0O/+7ejfh93xr1M+b/75V5F//lVH/z7gS3cygDu7oeK0NhH4J/Cntg76AtqeiUXep4HfABVR\nHf3eRbFpk2/I+1nfXDEgmYWmIimlFEJ86HQd2SYS9Gv5o8cfBHqbkVDYbGk85M7vp7aY6AYJxvVf\nn2lx/Rku4TW1QohxwPeBy7Gua9YD64477gWeAL4hpawWQnwPeAD4CfAy8Gsp5WIhRCI/R9mmHLio\nMUZNOE5Dn1xr1oqiZClHpkln3MhaJOhvxLoT1EuvrwyZ8ahKMMpMfywsLj1l1+oLaGuBt7ATIqvC\nsuXfK2Jvxg2ZdXNH27CRkpBaM+WMjUA/AL2hao/DtWQEO65/aXvn2HH9n7l9rIrrTyOdSau9Dpgl\npYxIKRsB3wnHi4AxwEdCiDLgr8BIIUQ/oL+UcrF93utdLToD7cGepVLXotatKVlvkxMvmnHNmm0z\n9gWREa5V098y19OFxaVfaOf4+8BSrIaNDVVmzStl2gwzy+dyCCHUFEjnbMfetyh+ePdeh2vJDC73\n5ATOusaO67+8x+tRuktn02rbe18XwFYp5WX2x1gp5Q3217P690ECqrD+nTjSrJo1JeupZq0b7QC8\nAFr9IdWsZS4v8HZhcel5bR30BTQTeA1rHeNwgDk79d3zdulzk1diSvrA6QKyWDnWxaGI7t9cIU1D\nd7ietGbH9b/R3jnHxfUPy3GL3CSVpnSBlLKSklBnfncvAb4lhOglhOgD3HzC8QAwRAhxFVjTIoUQ\nF0spG4CQEOJa+7w7ulx85qnGbmj3hUw1I0PJZg2dfF/qNpnarB39x4wf3q2atcw2EJhTWFza5jx6\nX0CLAU9h7RczCOCZtdqaDYeM1ckrMXXYFyfLna4jW0WC/gjWtKK+UovpRnN9R6EYSnuk+VyCcf29\nrjvbc0UySlK6TgixojPnSynXA9Oxov7fxppRcfzxOHAL8E8hxEb7vNYF5T8GnrIDRlq6WHomqsG+\nVlxz0FDvV0o2c2xv2kxt1o4AUSAnXrXziDQ0tU4psxUBMwuLS9sMzPEFtAashMhcoDfA/Uti8ypC\nZtI3NnSaEGIGJSHN6Tqy3Dpa163VVap1a6dJxfVntNmdfYCU8gEpZZGU8gYp5U+klJOllD+SUs60\nj5dJKT8npbxUSnmxlPJ5++vr7K9dJaUskVKqtNDj2Dc8q4Fe22vM+ogmmzp6jKJkqHbXRvekjGzW\nIkG/BLYBfZFS6o3Vu5yuSelxXwaePNVBX0Dbj5UGNgTI0U3kPQtjM+qzb8F0u1PGlKQIYk8rilXt\nVM3a6bLi+g90cJaK608zUkodmON0HconbMO+wVTZZKrRNSVbqWatB2wG8gFilYGtDteiJMcvCotL\nf3eqg76AthmrWRkJuOpaZOzBZbE3o7qMJK1CBxmmrMRa26E4qwIwAHfs4PZDphZrdrqgdJRoXP/o\nga5cFdefVpZREqpzugjlE7YBOQC76qRaWqJkHSllDFjj1OtncrN2dIpby+41QWnqaupXdvh3YXHp\nhHaOzwc+wk6I3FFjNjyzNj7NMKWRlOoc5BJMoSSkks8cFgn6NayLn/5IKbW6A+pmUidJXduu4voz\nkxBiltM1KCepwJ4NUFZlqGZNyTpCiNWUhBxbUpXJzVol1sLY3lKL6nrD4Z1OF6QkhQuYWlhcOrat\ng76AJoFpWBsbngmwYK+xf9YO/cR9eTKOEEJNgUwd64ACgOi+TZsdriX9JBjX3ycH99ihrst6vB6l\nO73rdAHKSY4AMcC7+qBRFTdk3OmCFCXJHJsCCRncrNnr1hZhJwDGDu1Ud6+zRx9gdmFx6RltHfQF\nNA14BqgFBgO8tlHbtOqAvix5JSaXbsrtlIQc2R9EadNW7Aj/2P7NB8x4S4PTBaULaRoNwuV6s71z\nWuP6v6/i+tOKKeUGp6KxlVOzt8HZBvTTTeThsFTr1pRso5q1HrSx9ZOW3WuC0tDV3aDscTbwbmFx\naZsXar6AFsZKiHRjNXc8uDT+8e46c3vySkwej0u85nQNyjGRoL8Oa++nAQBa9T41upYoKZ9PIK7/\nMqHi+tOOS02BTGVHcwB21poqGEnJGlJKDejUdiLdzZFmTQgxUQhR3E3PFW7ncCVW5Kw9FfLQju54\nTSVtXAW8dKqDvoBWhdWwDQJyJXDPwuis6mbzUJLqSwrTeqN52ek6lJMsxp4K2bJ3vWrWEmDF9XsS\niev/+g3nelRcf/pRUyBT1z7sdWsf79XVtZSSNYQQiykJNTpZQ481a0KINve8ApBS+qSUk3rqtVud\nOBUyWrGprKdfU0k5txcWl959qoO+gBYAXsRav+ZuiqPdvyQ2tTmeOXvJ6CYzKQkddroO5SStUyFd\n8cO7qo2WpiNOF5TyDK00gbj+84CRE873tLluVUlNppR7KAmpmxap6yCgA54tR8y6hqisdbogRUkS\nx28iddisCSF6CyFKhRAbhRBbhBDfE0KUC2HdsRRCfFoIscj+vEQI8ZwQ4kPgNSGEXwhx8XHPtUgI\nMU4I8SMhxJNCiH72c7ns4/lCiP1CCK8Q4lwhxDwhxDohxFIhxAX2OZ8SQqwUQqwRQtyfwPe4ERAA\nLXvW7TXjLaHO/iMpae9vhcWlt7ZzfBnWJqxnAaK8QTY9sTo+VTdlRiSI5rhFImEMSpJFgv4mrPen\nQQDakb3qQrUDCcb1f+X8Qa7cs1Vcf1pRUyBTm73Wez32+9XOWkONrinZwvEAukRG1m4EKqWUl0op\nxwDzOjh/HPANKeXtWKl7twIIIYYDI6SU61pPlFKGsC5WPm9/6WbgA3t+6HPAr6WU44A/Av+xz3kM\neFpKeSVQlUD9h7BiZ/sBxI/sVaNr2UcArxQWl17Z1kE7IfIdYC3WHmys2G8cmrpZe0fK9E66dVre\ngwAAIABJREFUj+pyDSWh9U7XoZzSUqAXQGT3ms3p/vPWk6SubSufNKHdECA7rv/Tt43xnqPS+tOO\n43evlQ6tAfIAVuw3Ag7Xoig9zg49cjxQJ5FmbTNwvRDin0KI6+wGqz0+KWWL/flbwHftz28FZrRx\n/nTge/bn3wemCyEKgKuBGUKIMuBZYLh9zjXAVPvz1zsq3p4K+SHQH6AluKpMXRBlpV6Ar7C4dFRb\nB30BzcCaDlkJDAWYsU3fsXif8XHySux+OW56fLqx0iXbsacW6fUHQ0ZTze6OHpC1Eovrv1bF9acf\nw5R7cXgBv5KQndgptovKjQNRXUacLkhRelKqjPh32KxJKXdijZZtBh4UQtyDdXHR+ti8Ex7SfNxj\nDwK1QohLsBqyaW28hA/4mhBioP06C+znbpBSXnbcx4XHl5XQd3fMRsAA3FrdgQYjXFfeyccrmWEY\nVsPWu62DvoAWwRq51bCb+4dXxpdtqzY2tnV+qosbstIlxHtO16GcWiToj2LdrR4MEN1XttrZilJT\nJ+L6v3rbWBXXn27cLvEYJSHT6TqU9tkpyjuB/qZE7q4z1f61SqZLiWuoRNasjQAiUsopwGTgCqAc\nq7EC+E4HTzEN+L9APynlSWsypJRhYDXWRfIcKaUhpWwE9gohvmvXIIQQl9oPWY41AgdwR0f1A0SC\n/jDWBdEQgNiBLWsTeZySkS4D3igsLm3zZ98X0GqwEiL7YE9PK1kUm32oyUy7vX8EPEZJyHC6DqVD\nS4FcgEhwVdCMReodrif1SPlc+aQJsQ7OukxAr2vPUnH96cQwZQSVVptOVmBvd7Om0sjIrW4UBcCU\nsjxV9qdNZBrkWGC1PR3xL8Dfgb8BjwkhlmKNWLVnJlZz9VY750wH/sv+s9UdwJ1CiI1YqWnfsL/+\nW+BXQog12OvQErQE+4KoefuSbWa0WSUZZa9vwKmnB/oC2h7gaaypt56ojlGyKDa9MSbT5iJaM2ST\n1y2ecboOJSE7gcNAH6SUsUOBNU4XlEo6Edd/81fP8/RTcf3pRTN53elYbKVTjjZoswP6rhZNNrd3\nsqKkK5cQbzhdQyuRLeu38kePdwP/xpri1tx7zJcv7V10zTcdLktx1p3lkyacch+2iUXem7HWXO4F\n5OXDXIP/8rncn6bDFKtwXJYU/KPxb07XoSQmf/T4a4E7gX2uXn1yB331178Xbk/K/5wlg9Tj7+2b\n/K1236snFnlHA39+/Gt51xT2d6kUyDQhpZRCiCJKQkGna1ESY98Y+TvWEpimuz+Xe8OVZ7qvcrgs\nRelW9nvTeZSEUmIDeEc2xXZCJOg3sBL/BgM0b124SU03ynrPFBaXfr6d46VYU9RGAWyoMmteKdNm\nmCl+hyOmy1BBjkgk4lxJHeuBOOA1W5pi8SN7VYKnTcX1Z66YwULVqKUXOz15ATAA4P2gtsHZipSe\nEqgxuOyZ8NGPvg828uiqY7PRJ6+IIf7WSE2k7eWm7vsajz524tRjWTR3vBPhkqfD/Pnj6NGv3b84\nxns7Ume3JN1keao0apBFzZrND4SBfKQpo/s2LnW6IMVRXuDtwuLS89o66AtoJvAasAc7jXTOTn33\nvF363OSV2HnNmpxESUildKWRSNAfAeZjheDQvG3hKinNrA9ckLq2tXzShOXtnTOxyDsYFdeflnLc\n/NPpGpTT0nozybXukFl9pNk86Gg1So8oGuym7K4Cyu4qYN3Pe5PvFXzrAi8A+0MmH+3ROavfqd9z\ne3k4+njfbfkAbDpsrZza9D8FLK0wCEUlh5pMVlcafMN+7lSQastIsqpZiwT9MWAWdtBIeNvCjWa8\npcHZqhSHDQLmFBaX9m/roC+gxYAnsZr8gQDPrNXWlFUZKbmuqEWT1QN7uR52ug7ltCzE2hPQpTdU\nNep1B7c4XZDjXO5/J3CWiutPQzFd7nH9rfFDp+tQOs8X0OqxUrYHAaw+aKjRtQz38V6Dcwe6OLu/\n1Tb8/oMo/7o+j87eHvO6oEUDU0rihsTtgnsWxrjvC6kz698wZRPwttN1HC+rmjXbCqztBXph6Ga0\nYnO7m6wqWaEImFlYXOpp66AvoDVgJUTmAb0B7lscm1sRMlNuT6wWnRJKQnGn61A6LxL01wArsff5\na962eKlM8Sm3PSnBuP484Ibbx3qHp8NaUuUYtwt1Uym9LQTyAd7epm/RTak7XI/Sg6Zt0bhtjDXy\n5QtonNnHxaXD3O0+JqrDp58L89kXmnnXnuJ44RA3Z/VzccWzzdx6kZdddSYSuHx4+8+VZG9QEop2\nfFryZF2zZu9r9C5wBkDzlo/LTC2qkqiUL2ONoLXJF9D2A09g/dx4dRN578LYjPoWWZ2sAjvSHJcH\nB/YSzzpdh9IlHwA5gIgf2VOj1VRk7x1raT6bQFz/5QJ6XaPi+tOKbsqwxyVecboOpUu2AxEgt7ZF\nxnbVmducLkjpGXFD4gvofPciDxFN8sDSGPd9seN7YxW/L2Dtzwt48zu9+N28KLvrrJn9j96YR9ld\nBfzh6lzuXmg91wNLYtw6I8Lz65y/1+x2ieedruFEWdes2ZYDLUCeNDQjtn9Lu2silKzxi8Li0t+e\n6qAvoG0GpmAFjrhqW2Rs0rLY1KguU2J9WFSX/6v2VUt7+4Et2DeTwhvnLZKmkXV3rK24fu8T7Z1j\np9J9/avnefr2zxODklSa0g0MkxcpCanI9zTmC2gaVtDIEOvvut/ZipSeMjeoc8VwF0MLXOyuM9lb\nL7n0mTCFjzZxoFFyxbPNVIVPXmI9oo/VYpwzwMUXCj1sqPrk5cl7OzQ+PdxNc1yypdrgre/m8/om\njYjm3ISSuCHLKAmlXMBXVjZrkaC/BfDRekG05eP1phYLO1uVkiL+XVhcelM7x+fbH2cBbK8x659d\nG59umNLRJqm62Vw16F9N7e1lqKSBSNAvsebK9wJceuhwU7wquMrhspLP0OaUT5rQUWjBecCICaM9\nY5NRktI9dFNGcz1CBYtkBj/gBlhWYVQebDTLnS1H6QlTj5sCOXaomyN/6kP576yPkX0F63/Rm2EF\nn2wn6lskMd1qumoiJsv3G1w05Ng5miF5zB/nT9fkENE4uvbNlBB38GrK4+Lvzr36qWVls2ZbihWV\nnSu1mB47sE2Nrilg/eKZVlhcOqatg3Zs8VSs0Y8zAT7ea1S8u0OfnbwSP0kzpFYdkT9w6vWV7hUJ\n+sux1tYOA2gqm7tM6vEWR4tKss7E9Z+l4vrTSmOMJygJHXK6DqVbHASC2EEjc3fp6joqw0Q0yUd7\nDL59YcdJjWsrDX7qs35Vba8x+PTzzVz6TJgvvhqh+JocLhpybF3aU2vi/PBSL/lewSVDXUhg7NNh\nrhnlpn+eM6m+MV1WuISY5ciLdyBrNsVuS/7o8ROA7wAVwpvnGfS13/7O5c3t7XRdSkooB8aXT5pw\npK2DE4u8fYC/YgWO1AD8+bqcL392pOfapFVo21VnPHHe4+HfJPt1lZ6TP3r8GcAkoBLQ+1xx82d7\nferyrzpcVlJIXdu6b/I327xZ0sqO6/9XyRdyL75iuPszSSpN6aKIJhvyvWIEJaGsuvmQySYWeccA\nf8T6ncnL38i7a1C+a6ijRSnKaYjq8n/y/t6YUpH9rbJ5ZA1gMaABOVKL6tG96+Y7XZCSMgqBWYXF\npW2uovUFtCbgEayRuD4ADy6Nf7y7ztyetAqB+hZZdTgs/5DM11R6XiToPwJ8iL2/X3jjvDVZs82I\nyz05gbOu7ZuLZ8wZrkt7vB6l29S1yLtVo5ZxtmHdVOoLsGCvoUbXlLQTN2Rtnke85HQdp5LVzVok\n6A8DpdjTjcKb55fpTbXljhalpJKrgRdPddAX0KqAx7CmgORK4J6F0Vk1ETMpU3yklBxsMn9xzUvN\nWjJeT0m6uYAO5EpDM1r2rFvodEE9TZpGvXC5prZ3Tmtc/21jvMNUXH/6aIjK3SP7up5yug6le/kC\nmomVsD0QYNoWbWs4LkPOVqUonaObPJLK2x5ldbNmW4iVDJkP0LShdI40TZWop7S6o7C49K+nOugL\naDuAl7DWr7mb4mj3L45NjWiyqacL298oPxrzn7Cvp19HcUYk6A8B72HfTGreumCTEa6rcLaqHqbi\n+jNWc1z+kpJQ9q67yGwbgBCQr5mYyyqMlU4XpCiJ0k3ZnO8VjztdR3uyvlmLBP1NwGvYG9Fq1eW1\nsYPbljhblZJi7issLv1uO8eXAnOAswGxt0E2PeGPT9VN2WMjXo0xGTrQaN7eU8+vpIyFQBj7ZlLj\n+lJfpkb5dyau/8bzPP1UXH/6qG42l5z5cNOHTteh9Aw7xt+HHeP/Sll8nRpdU9JFVOdJSkI9foO9\nK7K+WbOtATbTmr62bvZyIxpOmc2OFccJ4NXC4tIr2zpoJ0S+jfVzNBJg+X7j0LQt2qyeCPAxTCnX\nVhq/vPrF5ppuf3IlpdjbjEzj6M2kvbWx/VsXO1tVDzG02eWTJlR2cNZoYMRNKq4/beimNAzJz52u\nQ+lxK4EYkBPR0D/YpWf8tG0l/cV0GSrIEfc7XUdHVLMGRIJ+E3gd8AA50tCM5i0fz87mpEzlJL2A\n9wqLS0e2ddAX0Ays9W2V2Pv3vbVV3754n/Fxdxeyocr0Pboq3u66HiWjrMTaKmIYQOP62SuMSGPG\nRZ8nGtdfZMX1n9fjBSndorpZThk2uSngdB1Kz/IFtAjWDJNhAK9v0jbVRswqZ6tSlPY1ROX9lISa\nna6jI6pZs0WC/sPAO8AIgOi+jfu1mn3rnK1KSTHDgdmFxaVtbu9g/7J6DDCA/gAPr4wv215tbOyu\nAg42mgdeXB//L3s0T8kC9s2k17BuJuViGmbTxrk+KU3T4dK6jdS1LeWTJqxo7xw7rn/cbWO95wrh\nzD48SudEddncN1f81uk6lKT5GIgA+aZEztimf+R0QYpyKk0xeWBogetRp+tIhGrWPukjrE0eBwI0\nrnl3vqnFws6WpKSYy4A3CotL2/x/xxfQarAi/ftgjcZx76LY7ENNZpeDIaK6jC/Yq9/29Nq4+pnM\nMvbNpKnYUf7xykBVvHJn5kRkJx7X7x5zhuuyHq9H6RZHmuV9vf/RqNYuZQlfQGsBpmPPLnk/qO+p\nCJm7na1KUdrWrMn/pSSUFoGCqlk7TiTo17CS/foBbrOlMdq8fYlK21NO9A2sDYvb5Atoe4BnsC6s\nPVEdo2RRbHpjTNZ35UWXVRiT/3tWy7KuPIeS1hYBu7EvhBrXvrvYjIbTft2iHdc/rb1zWuP6bx/r\nHZbjFjlJKk3pgkNN5qazHmn6l9N1KEm3EjiMdR3Fq2XxD021pkRJMXUtcsOwyU0znK4jUapZO0Ek\n6N+NNcI2AqAluDIYq9rld7YqJQX9qbC49CenOugLaGuAGcBZgDgUlpGHV8amxg3ZUSx5mzYdNlY8\n7o/fc5q1KhkgEvQbWDeT8gCv1ONG06aP3kv76ZCdiesf5RmXlJqULoloMrr+kPF9p+tQks8X0HTg\nDewZSmsqzSPbq80yZ6tSlGNMKaVuyl84XUdnqGatbbOARuw7Q42rZnxktDSqhbLKiZ4pLC79fDvH\nS4FlwCiA9YfM6lfLtBmdvcu4t97c/+Tq+DftEBMli0WC/oNYa2vPBIjt33wgum/jfGerOn1SSj2B\nuH4XcPPXRnv69VNx/WlhXaXxjwlvRrY7XYfimM3ADuwo/8f98flRXbY4W5KiWA6H5TtnPNS0xuk6\nOkM1a22IBP3NwH+AAYBXGprRuObdmdLUe2zfLCUteYG3C4tLz23roC+gmcCrwB7stUazd+q7P9il\nz0v0BWoiZui5dfE7nlsXV1tJKK0+APZjXwg1rZu9Uquv3OZsSacpsbj+84DhKq4/PeyqM9c+tCL+\ngNN1KM6xA7CmA70B16GwjMwN6mqfPcVx4bgMxQzudLqOzlLN2ilEgv4gMBN73yytury2Zdfq952t\nSklBg4A5hcWl/ds66AtoMeBJrI2NBwI8vVZbXVZldHhXJ6LJ2EsbtP/74LLY0u4sWElv9traZ4Ac\n7BCb0Ipp75nR5lpHCzsNicb1XzDYlTuqr4rrT3WhqGxaXqHfYt+oUrKYvXZ7CfaSkpfLtLLKJrPc\n0aKUrBeoMf9Y+GhT2oUeqWatffOAbdijIuHN88vi1fs2OFuSkoIuAGYUFpd62jroC2gNwKNYF9a9\nAe5bHJu7v52ULMOU5tTN2lPLKowXeqJgJb3Z0yGfw3pvcpvRcLxx7bvT02n0347rX9neOROLvEOA\ncd8fo+L6U51hSnPJPv3XP3y3ZZ/TtSgpYybWRtn5AE+ujs/WTak7W5KSrfbWmyvGPRdOy2sq1ay1\nIxL068ALWPtmFQCElr9ZaoTruhzDrmSc64FTrr3xBbT99vEzAK9uIu9ZGJvREJVtpvnN2an73gvo\nf1F3qJV2rAXmYq+JjB/eXR0JrEyf9FoV159RVh0w3n5+vfaa03UoqcMX0BqB14GhAFuOmHWLyo0F\nzlalZKOIJiOBWuM2p+s4XapZ60Ak6K/FmnI0BPBIQzMalk+dbsZb0m4YVelxdxUWl/7mVAd9AW0T\nVkrWKMBV2yJjDy6NvRnVZeT485bs01e/uEG70xfQoj1cr5LGIkG/xLpzHQSGATRvW7glfnj3akcL\nS4A0jTrhck1t75zWuP47xnqHq7j+1La7ztz9z+XxH9trlRTleKuBTdjvUU+ujq86HDYPOFuSkm0C\nNWbJjVMiaTvQopq1BESC/k0cF8NuhGsjjWt9U9NpypGSNA8XFpd+rZ3jHwHzsX6W2F5j1j+3Lj7d\nMKUBsGK/vnXyivitvoBWl4RalTR33Po1HWsjdhpWTv9AD9el9lQ0K64/3sFZVwjIu1rF9ae0xphs\nnrNT+44voDU7XYuSeuzZIa9hXW/mmRL5xOr4u5ohO/r/X1G6xb4Gc/29i2KJzORIWapZS9z7wApa\npxwdChxu3rbkHbXXo3ICNzCtsLj04rYO2neepwJbsePX5+8xKt7Zrs9dW2kEH1oe/4EvoKX2hbaS\nUuzR/6eAwYAXQzcblrw61WhpOuxwaW3qRFz/1+24/oFJKk3ppJgutXe2a7/77bzoRqdrUVKXL6BV\nA29ir//fdNisnbVDn+NsVUo2aIjKxlUHjG+n+6i/atYSFAn6TeAVYB/2/OtIYNmOaPmGhGPYlazR\nFyshckhbB30BrXU0pA77Avv1TVr9fYtjP521Q1ufxDqVDBEJ+rdjRWWPAlxmS1OsYdmUKWYsUu9w\naSczNF/5pAmHOjhLxfWnOMOU5pRN2n/e2a6/5HQtSlpYgnWTcjjAlE3a5s2HDfX7TukxuinN+Xv0\n33xvZiTtb4CrZq0TIkF/FCuGXQP6AzStn+OPHti2xNHClFRUCLxbWFya29ZBX0BrAh7BGok7G3jd\nF9DUz5HSFfOABVg/T8JorA6HVr71uqnFUmp6mvDkJDIdRcX1pzApJVO3aLPfC+h/VSFISiLsn5MX\nsK6f+gA8sDQ2t67FTMkZAEr6W7rPeOu1jZkReqSatU6ypxw9ipUOWQDQ6J+5MJYGi/qVpLsaePFU\nB30BrQqYDDyNtY5NUU6bPfo/BViDPV1bq62ob1z77hRpaDFHi7NJXducaFz/bWO856m4/tQ0Z6e+\n5K2t+s98AS3sdC1K+rDXYv8Ha0aJJ6KhP7wyPkOtX1O6W6DG2PHIqvid6T79sZVq1k5DJOjfgzUq\nMojWTWmXvTFXqz2wydHClFR0R2Fx6V9PddAX0Hb7AtryTHlDUZxlbzfyPBAARgLEKwNVTWXzpkrT\ncH5/o8Ti+q/rl4v74jNcl/Z4PUqnLd2nb3x+vfbf9jokRekUX0DbBszCfn9S69eU7lbXIhtn7dC/\n4wtokY7PTg+qWTtNkaB/K9ai/mFALkD9klff0xqqAo4WpqSilBjVULJDJOiPYb03VWLHZUfLN+xr\n3rZopnQwEcmO65/W3jl2XP9Xbldx/SmprMrY9ciq+Pd9AS1tI7CVlDAH2M5x69c2HDLU7CSlyzRD\nGvN2ab8tnh/d5nQt3Uk1a10QCfrXYk1zOxPwYhpm/aKX3tLqD213uDQlRZjxlnvLJ014yOk6lOwS\nCfrDWKP/jVh7RBIJLA80b10w3bERNimfVnH96WtXnXHwX8tj//XOdm2H07Uo6c0X0FpnABxdv3b/\nkti88gZzp6OFKWlNSsmcnfqz07borzpdS3dTzVoXRYL+JViRtKMAD4Zu1i98cYZWd2Czw6UpDpJS\nEgmuWlMz+6FXnK5FyU6RoL8e+DdgAAPBatiaNrw/RRp6Ukd7rbh+z1PtndMa13+TiutPOZVNZu3k\nFfFfvLlZ8ztdi5IZjlu/NgjI0U3kXxdEZ1Y3mx0lxSpKm+bvMRa+XKb9MROXlahmrXt8wLFNs71I\nU9YvenlW/MjetQ7XpThAmqbZvGXB0vCmD++KBP1qupDimEjQfxh4CBBYi/qJlm/Y17j6nVdMPZ68\nlMjE4vpHA8O/NtpzSTJKUhJTEzFDD6+M/6mySb7vdC1KZrHXr72GtX7N3RhD+9vi2JvhuAw5XJqS\nZtZWGtueWB2/wxfQWpyupSeoZq0bRIJ+iTUHeyrWCFsOUsqGpa+Xxg7uWOpsdUoySUPXmjbM+Tiy\nc/nvI0G/2kNGcVwk6N8PPABEsdewxSp3VIWWT33JjLck5aJIeHISmQp8w4VWXP+5PV6QkpCKkHnk\n7gWxv+6sNV/NxLvVSkpYCLyPveVIRUiGJ6+IvRE3pFrrrSRkR41R8fDK2Hd9AS1jR2VVs9ZN7IZt\nHtbG2SOBPIDQqrcWRHatniOlqfaiyXBSj0dD/rfnRsvLfh8J+tc5XY+itIoE/VXAP4AaYASAVrOv\nrmHJ6y8a0XCPpvpJPb6pfNKEVe2dY8f1X/F9FdefMrZXG/uK50cnH2ySz6q91JSeYt8EmAGswt5y\nZP0hs/qF9dp0w5Tq505p1/6QWf3wyviP3tysZVSgyIlUs9aNIkG/jAT9C7D2zRoO9AYIb5y3Llw2\nb4rUtaijBSo9xow2hxqWv/lO/FDg93ZSqKKklEjQXwf8E6jAvijSQ1VN9Qtfetlort/fYy/s8iQc\n1z9GxfWnhJX79R1//jj2SDjOE76Apjldj5LZfAHNAF4C9mAnRM7bpe+dtkWbaUrVsCltOxw26x9e\nGftdVVgucrqWnqaatR4QCfpXYi3s74+9sL9lz9q9DSumvmDGmuscLU7pdlpD1f66Bc9P0Woq/mjv\nwacoKSkS9DdhvTdtAQoBYUYaWuo+eubV+JE9a7r79ey4/untnXNcXP8wr4rrd5SVpqatf3BZ/EFD\n8pQvoG4wKslh/6w9gZVgOxhg+lZ9+5ubtZlqhE05UVXYrPv7kthfd9fLqaczRVsIUSKE+KMQ4j4h\nxPWdeFyhEGJLZ1+vq1Sz1kMiQf8m4H6sJLbhAFp1eW3dghee15tq9zpanNJtohWbNtYveP41s6Xx\nnkjQn7HzpZXMEQn6W7D2YVuB1bC5paEZDUunvN+8Y9ksaRrdN5LSibj+a85Scf1OMkxpvLpRW/bc\nOu1e4HU7Xl1RksYX0ELAw4DESonkra369jc2azNUw6a0OtRk1t67MPbPfSH5XFfX0kop75FSzu+u\n2nqKatZ6kJ0EeB+wH3vxrBkJRevmPzMldnDHUic3qFW6Rhq61rTxg8WNa959ESkftKeYKUpaiAT9\ncaw9In1Y7029AZq3LtgUWjm9W2YA2HH9T7Z3Tmtc/4TzPf375qq4fqfEDRl/zB//+J3t+v/zBbQ5\nKkxEcYodEvFP+6+DAGZu03dM2aS9pRo2pbLJrLlnYWzyobB8tLM3lIQQfxFCBIQQ84Ei+2uvCCFu\nsT8fJ4RYLIRYJ4T4QAgx/LivbxRCrAR+1d3fUyJUs9bD7L2OHgJWAp8CPJiGGVr11oJw2dwpphZL\nXny20i2MlsaahmVT5rbs8j8M/CcS9Kv/hkraiQT9RiTofxvrTnZf7M2z41W7jtTNf+45rf7Q9i69\ngKG9Vz5pQlUHZ1lx/ed5xnbptZTTFo7L5r8vic1ZVG78wRfQljldj6L4AtoBYJL910EAb2/XA3bD\nZjhXmeKkA41m9d0LYv863Cwf9gW0jmZsfIIQYhzwfeBy4NvAlScc92JNw71FSjkOaw3lA/bhl4Hf\nSCmv6ur3cLpUs5YEkaA/BrwATMda2N8PoGXP2j31C198Wm+s3u1kfUpipJRED27fWPvBU+9pNRX3\nRIJ+XyToV784lLQWCfrLgHuBOqy9IoUZbYrVL3j+rZbyso9ON8m2M3H9I1VcvyMqQubB/zc/+lZZ\nlfkHX0BL+joMRTkVX0A7SBsN28tl2jTNkJ26UFfSX0XIPHzPwtiD1RH5aGcbNdt1wCwpZURK2Yg1\nq+R4RcAY4CMhRBnwV2CkEKIf0F9Kudg+7/XT/R66QjVrSRIJ+s1I0F+K1am7gDMBYTTVNNd99PSU\nln0b50vTVBf+KcrUok1Na9+d17hqxjwM7Z5I0L/R6ZoUpbvY0f4PAMuxZgDkAjSt861oXP3Oi0ZL\n4+HOPJ/UtU3lkyb42zunNa7/trEqrj/ZDFMa7wc1/2/mRt/YF5L/zxfQyp2uSVFOZDdsD2KtYRts\nfU3f9dCK+MvNcdnkaHFK0mysMvb8fx9FH6iJyCe7mE7b3vRuAWyVUl5mf4yVUt5gf93xaeGqWUuy\nSNC/E7ibY2lsOQBNa99bHlr+5jM9GqGtnBat9kCg7sP/vB+t2DwN+Fsk6K90uiZF6W6RoD+KNfXj\nRWAoMAAgdmBbZe28J56LVmz6WJpGYmsE3J5ERtU+1y8X98VDVFx/MtW1yOp7F8Xef2atNtuU/MMX\n0DrViCtKMvkCWiXWCJuB9b7EqgNG1Z8/jj5fGzE7mmatpLkPdulldy+M/atZ4+kuNmpLgG8JIXoJ\nIfoAN59wPAAMEUJcBda0SCHExVLKBiAkhLjWPu+OLtRw2oTKuHBG/ujxLuCLWP/hI1gYuYRPAAAS\nTUlEQVSb1QJQcNlNV/YqvOx64faoGGsHmfGWUPPWhf6WPWt3Ac8Bm+zNzxUlo+WPHv8p4C7gDOAg\noAN4hxQO6nPF12/2FAw8+1SPlaZRK1zuEe2lQE4s8vYCHvnlld5zbzzPm3BssnL6pJT4DxplD6+M\nb4nqzADmqj3UlHRhj8T/DqthOwDQL5ec+7+Ud0thf9doR4tTup1uSv21jdrKd3fozwNTuyOdVgjx\nF+AHwD6sn6FtWFMf50gpZwohLgMex1qq5AEelVI+b693ewnrWv0DrHVtY7paT6dqV82as/JHjz8b\nuBMrke0gEAfw9B/et++nv/F1T78z1JtQkklpmrGDO/xN62fvlVpsNfBqJOhvcLouRUmm/NHjc4Gb\ngIlYv6SqW48VXHrjuF6fuvwrwu3NPfFx0tAf2PfQN/7a3nNPLPJe4xLc+dq3en2zb64Y0N21K5/U\nHJdNz6+PL1+w19gCPOMLaGqdtJJ2JhZ5e2PdRBoLVACmx4W4+3O5N14+3P0ZZ6tTuktEk5FHVsYX\n+w8ajwDzVTqtatZSQv7o8V7gS8B3AQ04Oi0l//yrzs8fffVXXHm9BztVXzbRm2r3Na2bvUarragB\npgLLIkG/igtWslb+6PFnAT/BmrZdSesNpX5D+/QZd/ON3gEjLmo9V0pTF8I1qr0USDuu/x83n+8p\n+tm4nG/2bPVKoMbY+Y+l8Q31UTkXmOELaBGna1KU0zWxyOsFbgOux9oWSQP46RXeK24a7fmaxyU8\nTtandM2RZrP6gSWxj/c2yAd9AW2T0/WkCtWspZD80eOHAT8CLgSqgBYAXG5XwSU3XJF39qVfcHly\nejtXYeYyo+Ga5p0r/S3BlbXAUmCmGk1TFEv+6PEerBtKt2JNiTzajOWOGjuy90Wf/4qnYOBZUo/P\n3Df5W99t77kmFnmLgOKnbsq7blQ/l0qB7CExXUZnbNNWvbVV34Y9jVvdoVYywcQirwBuAG7Hurkd\nAfj0CNcZv/5M7i0DeokhTtannJ5VB/TND6+ML4rqTPYFtAqn60klqllLMfZatqux7hz1Ag5h3zly\n5RXk9Lnspmtzho++Srjc6u5RNzDjLaGWPeuWNm9bVIc0K4FXIkF/wOm6FCUV5Y8ePxRrzv8YrHW2\nrYlsQ3tf9Hl6X/j5Z8onTWg3KXVikffXFw1xXf3gl3O/r1Igu59hSnNDlbn+qdXxXbUt0g+86gto\n9U7XpSjdbWKRdxzWtMgY9rr/ghw8f74u92tjznBf4WhxSsKiuoy8tEFbMW+Xvgx4whfQ6pyuKdWo\nZi1F5Y8e3xv4KjABKwWpCjAB3H0G9y4Y8+Wrcoae+2nh9py0ZkTpmKnFmqMVm5eFN394CEOPA7OA\nBZGgX+3foijtsG8oXYF1Q2kg1p3tocCDdtrtKU0s8p4B/PO+L+ZefNkw95Xtnat03t56M/D02viG\nHTVmMzAFWOILaGoat5KxJhZ5RwD/A4zEmhZpAtw+1nvxty/03JzjFuoaKYXtD5kVDyyNra5skj6s\nadpRp2tKRapZS3H5o8cPAb4JXMOxRf4SwNWrb17B2Os/kzv8/PHCk5PvYJlpw4yGa6L7t/ibty06\nIvW4CcwDPowE/Y1O16Yo6SR/9Pgc4FrgFqAWuKejtNSJRd7v9M/jGy9O7PU9r1uotNtuUt1sVr65\nWVv58V6jGdiIlZ52yOm6FCUZJhZ5c7Heh76KdfOoGeCCwa7+/3tVzreHFbhGOVmfcjJTSnP+HmPt\nf9bE15uS54AyNU371FSzlibsKO1bgIuBKNYbkgQQOb28BRd/6YrcMy+40pXbe5CDZaYsvalmb8ue\ndatadvmbsPa2WwiURoL+WodLU5S0Zs8CEJGgP9zeea1x/bluGn50mXfM5ws91xXkiL7JqTIz1UbM\nw+8F9OXv7tCbsMJf3gC2qYseJdvY69guA35uf+kwWDsa/2ycd9xXzvFcn+sReU7VpxxzqMnc/8Tq\n+IYtR8xVwPO+gFbT4YOynGrW0kj+6PECK+J/AvBpjiVHGq3n5BVefnavwsvHeQYMvzDb17VJXYtq\ndQe2RIKrNsarggLrfXs58H4k6Fd3nRUliSYWea8Bfoq1xw15Htw/uNR7+RcKPdcW5Ih+zlaXXupb\nZHVpUFs2Y6veIK0gqmnAyu7Yi0hR0pm9H9vPgfM5bjukUX1F799+NufG8we5k7o/lnJMTJcts3fq\ny1/fqFVKeBt4X71nJUY1a2kqf/T4EVhD/tdhjbDV0JoeCbjy+/fqfcG1l+YMG32Zu1efoQ6VmXRS\nmqbRWL0renD7xpbgqoNSj/fHGon8AFgSCfrVwlVFccDEIu/VWHtKSqw1uDpYTdt/X+K97OpR7isH\n5buy5r2qs0wpzfIGuXPBXn3TnJ162JTogA9Y5AtozU7Xpyipwo73/zLWbKRPpNfefL7n3O+N8U5Q\n+zsm19YjxqaHV8a3VkfkAeAFX+D/b+9ef+O47jOOP2dmZ7XcJbkkxZsu4VKOKUrWLVKcqEYgJ0DS\noEBQFinQvEnQoujb/k8BkqJFgLwi4KCua7ttlNisb6llyaUoixIpiRJvy9suyZ2dOX1xZsWVq0iK\nbWmH1PcDDHZJLRejN4PznPM7vxM+cn8zHkRY2+XyI+f3S/ozuTa2nXL72haVlEhKUtBb6mkbPvtS\n0Fc67ueLB1tzp0+PtdZGlfJsuHDjSvXqO59GG0sFuVLHJbnBzHvVqYnNR38LgKdtbDTYL/es+r7c\nSvecktAmSa8c9gf/4sXM2eN93qlcxrS16DZTZW3bLn9wJ/ro11fCT2bXbIdcJcVrkt4anwzXH/Pn\nwHMraWj0M0lnJM0r2cvWnlXmH7+dvfCtg/4rgW+CVt7jXre8aed//lHt3f+8GS3KNXJ7Y3wy3G71\nfe02hLU9IjkH6ZjcIOhM8usVSQ80zsh0Hyy2HTl3POgtHfUL3UPG8/xnfKtfCRuFW/W1hc/ChRvX\nNq9/eDWqLOckdcgN/N6VK3ecqk5NRI/8IgDPXBLa/lzuYFtPbmLl/upQLiP/r0YzR78zlDk7VDQv\nes9Zj/8ottG15fjKm9PRh69fq69aNxG3LekNSf8+PhmutvgWgV0h2cv2TUl/Jykvt7czklxp5D+c\ny144M+C97HtmV46F0mpt2y6/drX+zq8uh0ux1SVJ/zQ+Gd597B/ioQhre1Cy2nZO0quSDiW/XpO0\nqqYVNxPsy+S+dmoo6D8ynCkOlPx816G0hrc43N6IKsu36iv3ZsOF6Zmt2ct3ZOMuuYBmJV2V9Jak\nT6pTE9WW3iyAJzI2GnTL7b/9oaReuX2482pabSsVTfuPjwdnzh3wv9GVM72tudNnY3nTzv/37ejD\nX18J/3e+Yjsk+ZKuSfo3SZdoaw18MWOjQbtcZ+3vy22NmFcyHhrp8Yp/fzb47kt93jeet4mhr9pG\nza6+8Vn94i8/DufrsSqSfiHpfZoefTmEtT0uaf1/Uq7F9gvJrzflVt0eOFPMZLJ+dvDFgaDn8IDf\n2TfgF7oH/VzHgMkEz6yDkrVWNtxei7c2FqPN1YV6ee52be7qbLh8a0XSPrlznQK5h+ykpHckfVqd\nmqCbELBLjY0GnqQjckeUfEeujHldUllNE0zfLfmHvzecOVHqMsM9bWZgtw+swsjW7qzbmWvL8fS7\nt6LrE7ejuqSC3CrjW3JNQ2iGBHxFxkaDYUl/LVeBtK7kMG1JOj3g7f/bM8H3Rnq8k7v80fLMVUO7\n8fZ0/eLP/xDO1SJFcscivT4+GT6ySzCeDGHtOZIfOd8jaUSuve1pSTm5fSNbcitvD521zXQd6Mx0\nH+zxC12dfltn0cu1d3r7CkWTbes0maDNGD8r388a43mPuwcbhVs2rFXi+nbFhlsbtrZViWvVjahS\nLtdX7i7WFm4u2lo1TO6rXa78x0t+3pD0nqSPJV2rTk2wqR7YY8ZGg5zcBNMPJI3KHXK7JLcf977e\nvMldGPKHTvT7peEuU+rNmwOeMY99BrVSPbb1exv21mflePqDO9H0xZnodhgrJ2m/3HPuE0lvyrXf\nrz3yywB8IUlp5IuS/kaua+Sq3MSQJOlEn9fzkxPB+ZP93ln2tD3aYjW+e3Emev+fL4WLW3XFcqXa\nr49PhuXH/S2eHGHtOZUfOe9JGpQ0JDcwOia3amXlglFdLhxtypUmPZbxA9/sywdeti0rSTaqRzYK\nIxvVY9VrkY3Ch+0fM3IrZvnk8pruYVbSJbkyoFlJy487dBfA3pE0CHhZLrgV5Z4LFbnB1QMtn4v7\nlL1QynztVL9XOtLtDfflzcFW70OJYhstVu3c9XI8/dHdePq/btZnq6F8SV1yzz3JDRLfljQxPhku\ntOxmgedMEtpekvQTuWORVpJLkpsQ+ump4Ny3Dvkv0z1yR2NP7W+m6u+/fSOqS8pI+g+5VvxUOT0F\nhDXclx853yZpILmG5WaeBuVWuGLthCiT/Bx97mp8prES5jV9PpArbbJNV+PfluTC2A257nCLkuaq\nUxPszwCgsdHAl3RYrpT7tNwAKyP3/KjKhbcHJpXas8qc7Pd7D3WY4kC7Ke5v84pdORU795lixz7T\n1ZZR+5ctdbLWarOu9dUtW17ZsitLm7Y8X7HlW2txebocr1wv2zXrnn1dkhrdLTck/Y9chcC0pCX2\ncwCtk5Rhn5b0Y7kJ7G25PW2x5B4yPzqa+foPXsi8XCqakVZPArVKpWbXPpiLPviXS+Hl2+u2IDeO\n+52k18Ynw3stvr09jbCGx8qPnM/KlSMWm1475FbC2j53SW7GO5IbPIXJ+zW5ULYuN1ipJFe5OjVB\nuQ+AJ5aEt4Nyk0pnJJ2Qmwzy5MLbhtyAK/5j35HLyD/S5XUOFb3iYLspFrIm5xsZz8jzPXmekecZ\nmXqsKIwUhbGt12NFtUj1lS1bnVmNV64uxSvV8IEVvkDuOZhLLiX38bGkP8iFs3uEMyB9msojfyi3\noh/Lhbb7reZ78yb3l0czx84d8E8c7jQv+F66S6+/rGpo1ycX408vztSvvDkdrcdWHXLjuX+V9C7l\njs8GYQ0AsKslM+ODcuHttFyzksY+sFg7K/2R3N7c7eT1iUq8m/jaCWJtTd+v5H1F0j259uCfJdfc\n+ORDS8ABpNTYaNAn6RW54NZo+rOspgmg/oLJ/Wgkc+ybB/0Thzr2TnCr1Oza5FL86W9v1q+8NR3d\ns65Tb0bSlKTfSLo8Phn+qc9OfAmENQDAnpMEuIJcJUDj6pcLdQNyA5BGKc+jmKbXxtECc5JuywWz\nFbl9Z2UOewX2lrHRICu3cv+qpFNyEzYPDW6vlvzhk/3+cKloSt27qFtt0vho9tpyPP3enej6b29G\ni0lA8+UqFS4m122qAlqDsAYAeC4lA7FGV1yv6TLa2Ytbb3ofMlgBnk9jo0FB0nG540VOa2c1vazk\noO2G/oLJXRjySyf7/eGhoin1tJn+tOx126rbzbsbdvZ6OZ75ZD6a/d1MdHuzrkAuoDX+TxclfSjp\nOpUBrUdYAwAAAJ7Q54Jbc8Ojh3arzXgyL/V5PUf3e31DRa/vQLvp682bvmLO9GY8k3ka91ip2bXy\nll1cqNjFO+vxwo0Vu3hlIVqYXbMVuT2+Re30GliT9Hu5gDZNQEsXwhoAAADwBYyNBhm5brVH5M6x\nPSYX3jy5vbEVuXLC/9fwyEgabDf5wXaT7yuYQnfOFLrbTKFzn8m3Z00h66txzltzTaUxRqrHiio1\nW92oqbq2baur27a6vGmri1VbnV2NN1a31WjeFsg1hCsk96Xkni5rp/HRPFUD6UVYAwAAAL4CSXg7\nKBfevi7X+OiAds6R9bXT6CiUVJNbifuiA3JPLpA1jkhqnFkbJ6+bcscjTcudWzsjaZFwtnsQ1gAA\nAICnJDlupFtSX3IdSV675MoRC8lH/+hxIw/R3OV2Xa6UsSx3Zu0dSQty59ZuEMx2N8IaAAAA0CJJ\n99q8dsoV75c/Nn2s8T6SK6tsXDXC2N5GWAMAAACAFNoTB/gBAAAAwF5DWAMAAACAFCKsAQAAAEAK\nEdYAAAAAIIUIawAAAACQQoQ1AAAAAEghwhoAAAAApBBhDQAAAABSiLAGAAAAAClEWAMAAACAFCKs\nAQAAAEAKEdYAAAAAIIUIawAAAACQQoQ1AAAAAEghwhoAAAAApBBhDQAAAABSiLAGAAAAAClEWAMA\nAACAFCKsAQAAAEAKEdYAAAAAIIUIawAAAACQQoQ1AAAAAEghwhoAAAAApBBhDQAAAABSiLAGAAAA\nAClEWAMAAACAFPo/P7xMlHb6AGgAAAAASUVORK5CYII=\n",
      "text/plain": [
       "<matplotlib.figure.Figure at 0x112455ba8>"
=======
      "image/png": "iVBORw0KGgoAAAANSUhEUgAAA2sAAAFFCAYAAAByjHX/AAAABHNCSVQICAgIfAhkiAAAAAlwSFlz\nAAALEgAACxIB0t1+/AAAIABJREFUeJzs3XecHVXdx/HP75Ytd8vd3fS+SbghJKSQwhJaQiiBAKF3\nRJqCFEFBjYoPA6LiY0NAEERBikqRJkF4UAiCgAhKV0EgiBBqyKbXPc8fZza5udnN7mbL3N37fb9e\n95W9c8/M/ObO3Mn5zTlzxpxziIiIiIiISH6JRR2AiIiIiIiIbE7JmoiIiIiISB5SsiYiIiIiIpKH\nlKyJiIiIiIjkISVrIiIiIiIieUjJmoiIiIiISB5SsibSBczsRDNzWa+lZva8mZ1lZomo49sa4Tad\n3Mx0Z2a1XR9Vy8ysv5nda2aLwjjPjTomaZqZTTSzwMxqmvjMmdklHbiuwMxmdtTy2svMZoTbOKOL\n13uDmS3oynW2lZlVhftrUtSxtMTM5pvZ/A5YTl6fV0Wk8yhZE+laRwDTgMOAp4ErgP+JNKKtdyKw\nWbIGzMNv48Iujab1/geYDpyCj/M30YYjWzARuBDYLFnrBBcCeZOsAX/DH59/izqQPFSF3195n6yJ\niLRXt7yiL9KNPeec+3f49/+Z2UjgHJpJ2MzMgKRzbk1XBdgSMyt2zq1u7nPn3IfAh10YUlttBzzv\nnLsr6kAKQUvHi2zKzOKAOeeWAE9FHU9UOvLcp2NQRLoztayJROsZoNLM+gKY2QIzu9nMTjazfwJr\ngP3DzwaY2Y1m9pGZrTazF8zs+OyFZXWV2d3M7jazZWb2sZn9xMxKc8q2dXm3m9li4C9ht57pwC5Z\nXTvn58xTm7WcpJldEm7fmvDfS8wsmVWmNpzvNDO72MwWmtliM/udmQ1u6Ys07wtm9q9wHQvN7Eoz\nq8xePjAD2C0r7tpmltfYDe2wsGvYJ2a2xMxuMbNeOWXPMrMnw66Vi83sKTPbP6dMwsy+aWavm9mq\n8Ht/3Mx2zSpzrJn9PdxvS8zsRTM7LWc5083sj+a70i43swfNbPucMvPDZe9lZn8zsxVm9pKZHdLE\ndh5jZv8MY3rRzOY01XXLzPqY2U/N7J3wePmnmX02p0yTx0v42VQzeyg8Hlea2RtmdlWTOzNcFnB9\n+Pa15vaXmX3ezN4Mv49HzWxszuf7mNn94fHQ+D2cZz4paizjwj+/nrWeYAuxjTKzu8zsg/B7+0+4\nvYmc7yE31iBrXRvWbWbfMrO5ZvYm/jc/znK6QZr/Db9vOd2mzaw4PDZ/nDWtxX0VltszPD5Whcfl\nablltvAdNMb9dTP7b7hP/2RmE5soe2j4m1gR/j5uN7OhOWWaPffllKsF3gzf/ixrf50Yft547B8Y\n/pZWA2eEn23xdxp+l4vM7IdNrPfIcD07ZE1r8bfYWmZWZmaXhvthtZm9Z2a/NbN+W5jnaDN72Mw+\nNH/O+LuZfbqJcueY2T/CffSJmT1jWecCM5tlZk+YWX24nH+ZWXft8SHS46hlTSRaI4D1wLKsaXvg\nu39dBHwALDCzMuBRoBr4GvA2cDxwk5mlnHPX5iz3ZuA24CpgR3zLXRm+6yJbsbxbgF8Dh+PPG/8J\n1xEHGit4S7awnb8EjgS+DTwO7Ax8Pdz+Y3PKfhV4At/Fsi/wg3BdM7awfIBvhfP+BPgdMAb4JjDB\nzKbju2VOA67Bf+dnhPO11F3zMuAPwDFAJtyGgfj91Gg4cAPwOv47ORC4z8z2c849EJb5CvCFcLuf\nAyqBKYRd/MwnbTcDlwNfwl9MG43v8kVYZn/gHnxX0+OzlvuYmY13zr2dFdNI4MfAd4CPgPOA281s\ndGPrrpntjd+39wJfBPqE21sCvJq13kr8fisFAnxleRZwtflWiytyvrNNjhczKwcexHf9PRFYCtTi\nj4PmzAMuAS7Adx/+bzg9e38dD/wL3zpdBHwPuCfcxnVhmRHAfPxvYTn+Ow/CbZ0blpkGPInfh9eE\n0xrX11xsnwCfw3+3g4DZbP0F0BOBN4DzwxjfBdI5ZW7CH7P7APdnTT8Af4zcCK3fV2a2XbicZ4Cj\ngeKwfDn+99EaJ+DPBWeF818M/NHMMs65ReF6TgeuxifeFwMV4XoeDY/ZpVnL2+zc18Q6FwKHAnfi\nj+17w+mvZ5UZhf8dfRP/vS4Kp2/xd+qcW21mtwHHmNmXnHPZ38OngJecc38Pt6stv8UtMrMi4CFg\nAnApvkU1jd9v1cD7zcw6Ergb+F9gHbA7cJ2ZlTrnfhou+zj8OfRi4DH8cTGejeedEfjv8I6wzBr8\neW5Ea+MXkU7mnNNLL706+YWvjDlgW3yyU41PctYDd2eVWwCsAPrnzH9WOP+MnOl/wFdq4jnr+WlO\nua+H6xq1lcv7URPbNB94fAvbWhu+3z58H+SUuyCcPj58Xxu+n59T7vxw+sAtfL81wGrghpzpx4fz\nzsma9njuOppZ5oxw3gdyph8XTt+zmfli4T7+P+CerOn3AXduYX3nA4taiOnfwB9zplXiE4bLcvbN\nWiCTNa1veAx8LWvaE8BL+G53jdMm5+4H4BvAquzlhdN/Fq47saXjBZ8gbdjXW/G72aaJzxzwGr6r\nXOO0w8PpOzezPAv3zdfxyVYsZ3mXtCKm3rnHVEu/gazpAeCa2I53gdJmjr8ZWdNeBX6dU+5u4JWt\n2Fe3hO/LssoMwVfWF7Tie3BNzF8bHnffDN+XA/XAL3LmHR6u59ysaQto4tzXzLprw/Wf2sRn84EG\nYGILy2jud7pLuOxZWdP6hNv15a38LW7xfIO/MLVVx1QT2/MzfDfvxulXAn/bwnIbfzOVLX3veuml\nVzQvdYMU6Vr/xP+nvwh/pf8WNh+k4ynn3Hs503YH3nHOzc+ZfjO+IjEmZ/ptOe9/g//PfMetXF57\n7u/aPWvZuesC350y2/05718M/x1K83bCt6zkruM3+CvOuetoi9zv8nZ8ZXBa4wQzm2xm95nZ++H6\n1gJ745PzRn8FZoddx3YNr6aT83l12BXsADOryv7QzDL4K+m3mO9SmQi7xK3AtwrtnrO815xzrzW+\ncc59gE/Eh4bLi+OTqN8651xWuWfZ2M2s0b747oxv5qz7QaAXLR8vrwGLgWvM7HgzG0LHeMg5tzbr\n/WbHivnuvteY2Vv4BGEtvsWuCp/AttXH+NaaS83sM+F+aa8HnHMrW1HuJuAgM6sAMN8dd3Y4vVFr\n99U04H7n3PLGGZ1vDfpzG+LOnX8BvlWo8bcxDZ/A5B6zb+PPhbnHbFPnvq2xwDn3XO7E1vxOnXN/\nxre8fSpr1qPx589bwuW09bfYkn2A95xz97ZYctPtyZjZr83snXBb1gKnsvl5Z6KZXWG+W3QqZzHP\nhfP9xswOt7BLvojkDyVrIl3rEGAqvntbmXPuBBd2F8rSVLe8mmamv5f1ebbcbjON7wdt5fLaM7Jj\n47Jyl9HcunK/j8aBAUraug7nu8J93MQ62mKT79L5AQ8+Ifwuw8Tjj+E6zsZ37ZsKPJAT87fxI9jN\nwXdH+tjMrjez3uFyH8V39xuCT3Y+NLM/mNn4cP7GStTP2Vgxa3wdgK+IZ8v9HsF/l40x9QaS+ARu\ni9scrnv3JtZ7e/h57rpz90M9vovbu/iLFP8xf+/YYU2suy22eKyYWQzfxesAfII2E79vvpVdri3C\nxHZvfPfB7wCvmr//7nNtjn6j1v6+bsbHfHj4/ih8a0r2RYrW7qsBNN29rrkud01pbv7G80zjMfuH\nJuIZRwvHTTtstpw2/E7Bf58Hh93FwSduDzvn3gnft/W32JJewDstlsoSdi1u7Do5F9gNvz2/wHdJ\nbXQjvrtuHT5hX2Rmd1p4P6XzXaJn4euDNwHvmb+Xrz0XuESkA+meNZGu9ZLbOBpkc1wT0xax6dXS\nRv2zPs/WD3g55z1srBC0dXlNxdRajcvqz6b3lTS3rvauY8N2h1e7e7VzHZvc4B+2iFWz8bvcF39/\nyZHOuf9mldvkCnbYAvRd4Ltm1h9fqfshkMJXunHO3QHcEVbEZoTlHzA/wMrH4aK+iq/85mrrqHkf\n4SuXTV1J74e/F6nRx/ik7pxmlvWvnPebHS9hS8dh4T6Zgt+O28xsgnPupTbG3lojw3V9yjm3IaEx\nswPbs1Dn3BvACWZm+MryWcBVZrbAOfd7fDdE8K292ZqrxLfq9+Wce9PM/ozv3nt9+O98t+n9Ua3d\nVwvJObZDzQ5o0cqy/dj422g8Zk9k0/NRo6U579tznmlpOa36nYZuwl9YOdTM/oJPgrIH7uiM32Jb\nByaZBgwDdnPOPd440XIGoAkvLlyDb9Wuxrfi/QC4FZ/A4Zx7BHjEzIrx3UAvBuaZWa1z7qM2xiUi\nHUwtayLdw6PAYDPbJWf6sfiK2Ss504/MeX80vuveX7ZyeU1Zjb9ZvSV/yooh23Hhv/NbsYyWPIWv\nIOWuo7HloT3ryP0uj8CfO58M3zdW9jZ0xzOzUfhKT5Occ+85567DV/Q2q6Q555Y55+7DV7IG4Cv5\n/8Lf1zPWOfdME68X2rJRzg+e8Aw+gbKs2Cfj7ynK9gC+Nfg/zaw7t9K9pfWuc849hb+3KoZ/lEJz\nGlvKWnOcNaWpfZNk47GXbU1b1+O85/CDs8DGfflWzvvGSvQ+bVl+M24EZpgfJXIam3aBhNbvqyfx\n3XIbW48aW5+aPW6bkDt/Lb5LcuNv4wl8QrZNM7HkJvmttTXHRat/p86518PYPxW+luMHNGnUob9F\n/H1z/dt4EaGp7akGDmpuBufcJ865W/Fdu5s676x2zj2MH7CkjM3PAyISAbWsiXQPN+CvlN9pZl/H\nj1R3HL471mlu01HLwFeivoevBOyIv0p8Y9Y9TG1dXlNeAc4ws6PwLWZLm6p8OedeMrNfA0FYYX0C\nX8n8Bn6whBdz52kr59wiM/sB8FUzW46/7207fNe3x/Ejtm2tsWZ2Pf7+t1H4LnTznXN/DD//A/7+\nlxvDGAbgR7P7D1kXxMzsHuB5/EOOPwF2wF/tvyb8/GJ8q8Qj+O6Cg4HP45/N92FY5kz8aIdF+ArX\nR+E8O+Mr55sNOd6CC/HHyF1mdi2+a2SA76LakFXuR/jE9zEz+xG+slqGTwp2c841W0EM4z4A+Cx+\nMIw3w3k/j6/IP7mFWRsvGpxpZr/EV0xfcK1/9tY/8InTt8xsfTj/F7awrv3N7AH8/nnXOfduE9sy\nHj/K5q34QSbi+JajdcDDYbG/4n8T3wu7YjYOH1+cu7ytcDtwBb6r3kr8KH7ZWruvLsFfePi/8FxR\nhN/3bekGuTJr/mL8cb8kjAHn3BIz+xLwEzPrA/weP+DIIPx9pPOdc79qw/oavY9v3TrazF7AJ1Nv\nOuc+3sI8rfqdZrkJP7LsOOAu59yGEXudc66Df4s3A58Bfm1m38FfVKvAd0+8zDn3zybmeQL/Xf/E\nzC7E7+MLwjg2jCQa/q4bf2cf4M9hn8L/7htH69wdf858G38O+Cr+HNRZLd4i0hZbMyqJXnrp1bYX\nWxjVLqfcAuDmZj4bgK9AfISv/L0AHN/MenbHDyu9DN8F8CdsPtpcW5bX1Gh8/fH/wS8la/RAmhi1\nDF8RvARfcV4b/nsJm47kV0sTI7zRxKh4zXw/hq+I/wvfSrIw3O7KnHJtHQ3yUHxyuzjc1l8BvXPK\nHokfMGEVvrvX0eE8C7LKnIdvAfwYX8n9F75ynAw/3x9/T8nCcH+8jb8nZmDOuqbhR5b8JFzfAnwi\nOS2rzHyaHqlzAZuPmHlsGMvqMPZDgL/jK6jZ5arxlfA3w+/3A/y9d9kj+jV5vOC73N4azrsK/9D0\n+4G6VuyHC/Hd6tZnH1c0MXpj1jF0Yta0ieE+X4G/KHExfhCG3GN0F+DZMD5HzuilWeX64h9F8Wq4\nzEX4lupZOeXGhvthGT4h+CLNjwa52SiUbOG4xydsDvhVMzG2uK/CcnuF+3o1ftCU08g5brewXxz+\nwsXXwu91VbiOzUZhxA+C8gg+uViBH3DmF8CY1pz7mln/wfgEe232PqeZY7+1v9Oc73B1uOx9mlle\na3+LrTnflOMfPdE4EM5CfCLeN+e3lX3Mzgz330r8xYHP5x5j+O6b88NjYHV4TPyI8LwYbsM9+PPN\n6nC9twPbtnZf6KWXXp37Muc6qou4iETNNj5IOONavjdOtiDsZvYIsLdzrqn7Unqk8P64fwPfcs59\nM+p4JD+Zf7j3t5xzF0Qdi4hIT6ZukCIiBcrMSvGDnPwB38I6AvgyvvXjughDExEREZSsiYgUsvX4\n7qxX4gcxWY7vynaEc66jhlEXERGRraRukCIiIiIiInlIQ/eLiIiIiIjkISVrIiIiIiIieUjJmoiI\niIiISB5SsiYiIiIiIpKHlKxJpzKzBWa2V9RxiIhk07lJRPKVzk+STclagTOzs8zsGTNbbWY3NPH5\nJWa2yMx+Z2YlEYQoIgXGzIrN7Odm9paZLTWz58xsv5wyOjeJSCTM7GYze8/MlpjZq2Z2as7nOj9J\nh1GyJu8ClwC/yP3AzEYBE4F+wBPAp7o2NBEpUAngbWA6kAYuAG4zs1rQuUlEIncpMMI5VwnMAS4x\ns8mg85N0PCVrBc45d6dz7m7g4yY+tvAVo4Vjxcw+Y2b/CK+Cv2Jmk5oos6OZPWlmi81soZldaWZF\n4WdmZj8ysw/CK1Uvmtn24Wezw2UuNbN3zOz8dm+4iOQt59xy51zgnFvgnGtwzt0HvAlMDovo3CQi\nkXHOveScW9H4NnyNDN/r/CQdSsmaNMs59y/gOeA/wFTg5qbKmdkRQACcADReZWoq+VsPfAHoDUwD\n9gTOCD/bB9gdGIW/kn5k1jJ+DpzmnKsAtgcebt+WiUh3Ymb98OeGl0HnJhGJnpldZWYrgH8CC4H7\nQecn6XhK1mSLnHNfd871c84d7Jxb2UyxU4H/dc791Xn/ds691cSynnXOPeWcW+ecWwBcg+/mBLAW\nqABGA+ac+4dzbmHWZ2PMrNI594lz7m8dupEikrfMLAncAvzSOffPxuk6N4lIlJxzZ+DPDbsBdwKr\nsz7T+Uk6jJI16QhDgNdbKmRmo8zsvsabcoFv468U4Zx7GLgS+AnwgZlda2aV4ayHAbOBt8zsUTOb\n1ilbISJ5xcxiwE3AGuCsrViEzk0i0mmcc+udc48Dg4HPtXF2nZ+kVZSsSUd4m419tbfkanx3gUx4\nU+7X8P26AXDOXe6cmwyMwTfpfymc/lfn3EFAX+Bu4LaODV9E8o2ZGb4bTz/gMOfc2q1YjM5NItIV\nErTuXJNN5ydpFSVrBc7MEuGwsnEgbmYlZpZo42KuA843s8nhza7bmNmwJspVAEuAZWY2mqyrUGY2\n1czqwi5Py4FVQIOZFZnZcWaWDitrS4CGrdhUEelerga2Aw7cQjeilujcJCIdysz6mtnRZlZuZnEz\nmwUcA/yxjYvS+UlaRcmaXACsBOYCx4d/X9CWBTjnbge+BfwKWIq/glPTRNHzgWPDMj8Dbs36rDKc\n9gnwFv4G2e+Fn30KWBA2/58OHNeW+ESkewkrLKfhh79+z8yWha82/fZ1bhKRTuDwCdN/8eeF7wPn\nOufubdNCdH6SVjLnXNQxiIiIiIiISA61rImIiIiIiOQhJWsiIiIiIiJ5SMmaiIiIiIhIHlKyJiIi\nIiIikoeUrImIiIiIiOQhJWsiIiIiIiJ5SMmaiIiIiIhIHlKyJiIiIiIikoeUrImIiIiIiOQhJWsi\nIiIiIiJ5SMmaiIiIiIhIHlKyJiIiIiIikoeUrImIiIiIiOQhJWsiIiIiIiJ5SMmaiIiIiIhIHlKy\nJiIiIiIikoeUrImIiIiIiOQhJWsiIiIiIiJ5SMmaiIiIiIhIHlKyJiIiIiIikoeUrImIiIiIiOQh\nJWsiIiIiIiJ5SMmaiIiIiIhIHlKyJiIiIiIikoeUrImIiIiIiOQhJWsiIiIiIiJ5SMmaiIiIiIhI\nHkpEHYAUuCC9D2DAemAtsBj4EPiQoH5tlKGJiIiIiETJnHNRxyCFLEgvBcqb+XRj4gYfAP8BXglf\nLxPUL+qSGEVEREREIqBkTbrcnG2TNcA+gLvzqNIbEjEr2cpFvUdj4gbPA48S1P+7g8IUEREREYmU\nukFKFLYBDgEWNzji7VhO//A1c8OUIP1fYD7wCDCfoP6NdixfRERERCQyStZkq9XOnWdAJVCd9SoF\n4sDqBZfu/+AWZl8OLDTo6KbdwcDx4QuC9FvAw8AdwEO6D06kMNTOnZcA+uEv6KSBJP7/vATwlwWX\n7v9ehOGJSIEK60598PWVcjaem5LAxwsu3f/JCMOTPKRkTZpVO3deEhgZvkZk/TsCGICvADXXMvZf\nYEgXhNmSYcBJ4WsRQfou4DfAIwT16yONTES2Wu3ceWXAhPA1nI0t7Y2v3vjBi5pyIHBfF4QpIgWm\ndu68cmBbfDI2pIl/BwLFzcz+e2B2F4Qp3YiSNQGgdu68ODAGmJL1mkDzJ5TuqAY4JXx9QJD+LfBr\ngvrHog1LRLakdu68/sAOwMTwtQP+4pEePyMikaqdO28bYBqwc/jv9jR/IVukzZSsFbDaufPG4wf6\n2Ad/kimLNqIu1Rf4HPA5gvQLwOXALQT1q6INS0Rq586rBPYC9gNmEUUrfZDuix/AaG34WhP+uwLf\nc2DBZq+g/pMuj1NEukzt3HmlwFQ2JmbT8F0aRTqNkrUCElaADsBXfvbGd2UUGA9cB1xKkL4WuIqg\n/p2IYxIpKLVz543Dd//Zzzm3s5klo4hjzrbJYmDgYdslaj49sahXM8UmNTk1SC8B3mJjAvcv4DHg\nRYJ6Db0s0g3Vzp1XARwEHI2vOxVFG5EUGiVrPVx4FegA4Bjn3H5mWz1MfiHoDXwN+HLYRfL7BPXP\nRByTSI9VO3feVPz9pAfi7+cAwKy5W826xEzg+CfeXs+nJ7Z53kpgXPjK9hFB+k9sHKn2ZSVvIvkr\nq+50tHNutupOEiUlaz1QONLQLOB459xBZlYOkVeAupMEcBRwVDggydcJ6v8RcUwiPULt3Hk1wKec\nc6eYWW5Skw8SwMpknMUduMzewKHhC+BDgvSj+ORtPkH9yx24LhHZCrVz5xUB++ITtANVd5J8oWSt\nB6mdO68aOMk5d4aZjQSdZDrAIcAcgvRNwIUE9f+JOiCR7ia8gLQXcIpz7mAzKy7wc1Mf4PDwBUH6\nA+B3wC8I6p+IMC6RglM7d14GOMc5d5yZVYHqTpJflKz1ALVz501wzp0FHGdmpTrJdLg4cCJwDEH6\nauBbBPUfRRuSSP4Lh9c/I7yAVAuqBDWjL40j1QbpfwDXAzcS1L8fbVgiPVft3HnTnXPnAfubWSzv\nz01Bejvgp8A6YD2wClgEfJj1+ij8933gP3pEUc+gZK0bq507byfn3EVmtk/en2R6hmLgXHyF6kLg\ncp0IRTZXO3deub+A5L5kFqvR+alNtgP+F/g2QXoe8HPgfp1rRNovbOU/2LmGC8xik7rDuWnOtsk4\nUPLzOSW9+5TFdm/DrKsJ0q/iR7X9R/jvK8BrBPVrOiFU6SRK1rqh2rnzdnIN679lsfjM7nCi6YEq\ngB8CxxKkTyWofz7qgETyQe3ceZXOubNx7nyLxaqafya1tEICPwLdQcBCgvSN+G6Sr0Yblkj3Uzt3\nXgw43DWsv9Bi8TFm3eoRjYcBs3/6zNqab0xv06Nvi2l6wKO1BOlngUfD1+ME9Us7JFLpFErWupHa\nufN2dA3rv22x+J4W0/MW88AU4BmC9A+AiwjqV0YdkEgUaufOSzvXcC6OL1osVokuInW0AcBXgK8Q\npOcD3ySofzjakES6h9q58w51DesvtVg8003rTlXAstIkaztoeUlgp/D1FWA9Qfrv+MRtPvAHPXM2\nvyhZ6wZq584b4tav+yGx+GEWi6sWlF8S+JPd4QTp0wjq/xh1QCJdpXbuvJhzDZ/D8W2fpEUdUUGY\nAcwIR5O8kKD+0YjjEclLtXPnZdy6NddaomhGN03Sukocf/F5CnAesIwgfR9wO/B7XYiOnpK1PFY7\nd16JW7fmG8QS51s8oYcw5reRwB8I0tcB5xDUr4g6IJHONOxL90x1ruH6WKJorJK0SEwH5hOkHwG+\nQVD/56gDEskHtXPnlTasWflNSxSfY4ki1XPbrhz/APCj8YnbPOA2lLhFplt12i0kw7509xy3bu3r\nlij6msViStS6j1OBZwnSE6IORKQz1M6dlx76xTtuIBb/SyxRNDbqeIQ9gMcJ0ncRpDNRByMSpWHn\n33WwW7fmjVhR6XkWiylRa79y/HNnfwu8T5C+kiA9OuKYCo4O5DxTO3deTcPqFb+MFacOiDoW2Wqj\ngb8QpL9IUH9V1MGIdJSh5/32JIvFfxgrKq2KOhbZzMHA/gTpn+Lvof046oBEukrt3HnDG9as+nms\nqGSPqGPpwSqAM4EzCdJ/BK4AfkdQ3xBtWD2fkrU8MuTztxwVK0pdEytOpaOORdqtGPgJQXpX4DME\n9cujDkhkaw370j3DXcO6W2PJkqlRxyJblATOBk4gSAf4x4uoIiU9Vu3ceYmGNSsDSxR/KVZUol5I\nXWfP8PVW+PzZnxHUL4o4ph5L3SDzwNDz7qwacs5v7ounqn5jiSIlaj3LMcDTBOltow5EZGsMPvPG\nU4CXlah1K2ngR8AjBOnaiGMR6RRDPv+rYQ1rVjwXKyr9um4Xicww4FJgAUH6YoK06rCdQMlaxAaf\neeO+mL0ZL63YP+pYpNOMAZ4iSM+IOhCR1hp02nWlg8+88d5ERa/rLJ4ojToe2Sq7Ay8QpE+KOhCR\njjTw1KtPiBWVvhIrSum+2fxQAXwDeIMgPZcgnYo6oJ5EyVpEUpk6G/y5X/woXl59fyxRpPs/er4q\n4EGC9DFRByLSkkGfvWZSvLTi34mKXgdGHYu0WwXwi3AAkj5RByPSHgNP+Ul80Ok/vynZa8gvLVGk\nhCD/1ADfwSdt5xCk2/QUb2makrUIDDjhh31qZp35TCLd71yzmAa9LhxFwC0E6a9EHYhIcwaddt1X\nEun+T8VKygdGHYt0qIOBlwjSSsClWxpw0uXD42XVLyer+h9vpqpTnusHXAa8RpA+POpgujsNMNLF\nBp50+R7V4h+MAAAgAElEQVTJXkN+GytOVUcdi0TCgEsJ0kOBzxPUr486IBGAgadcVRYrKb83WT1g\nZtSxSKfpC9xLkP45cC5B/bKoAxJpjYGnXHVEsmbw9bFkcVnUsUibDAFuJ0jfD5xFUP9m1AF1R2pZ\n60IDTrr8C8k+tf+nRE2AM4A71a9b8kG/Iy8eFS+rfiVR0UuJWmE4BXg+HK1WBDObY2ZzO2hZHXYR\noM+cL9ug06+7Ntl7yK1K1Lq12cDLBOmvEqSTUQfT3ShZ6wKpTF1iwKcvu76o74gfWCyu1kxpNAeY\nR5DW4A0Smb6HXzi7eNB2z8RTlUOjjkW61AhgPkH6c1EHIl3DzJqtfzjn7nXOXdqV8bSkesZJZcWD\nRj+erBrwGd0y0iOUAt8G/q4LRW2jZK2TVU6Zk6ra/dN/KB6QOdHUyVo2NwO4hyBdEnUgUnj6HXXJ\n2aW1O9wdK05VRB2LRCIOXEWQvpQgrf+fugkzKzOzeWb2vJm9ZGZHmdkCM+sdfj7FzOaHfwdmdpOZ\n/Rm4ycyeMrOxWcuaH5Y/0cyuNLO0mb1lZrGsdb1tZkkzG2lmD5jZs2b2mJmNDssMN7MnzexFM7uk\nI7YxvfPRQ1Ojd/1bIt1v545YnuSVscCfCNJXqO7TOkrWOlH1zFMGVEw56NmiPsOmRx2L5LW98V0i\n9ZwY6RKpTF2s39Hf+l7JsPGXWSKpLinyFeBmnYO6jX2Bd51zE5xz2wMPtFB+DLCXc+4Y4FbgSAAz\nGwAMcM4901jQOVcPPAc01lsOAB50zq0FrgXOds5NBs4HrgrL/Bi42jk3DljY3o2r2v1TYyom7vtE\nsqr/qPYuS/KWAWcBzxCkx0cdTL5TstZJqvc4OVM2Zvozyar+o6OORbqF/fA34ariLJ0qlalLVu54\n6E0lwyacZ7G4/g+QRsfiHy+iR8nkvxeBvc3su2a2W5hgbcm9zrmV4d+3AY2j8x0J3NFE+VuBo8K/\njwZuNbNyYGfgdjN7DrgGGBCW2QX4dfj3TW3emizVM0+ZWjF+1vxEZZ9B7VmOdBtjgacJ0mdHHUg+\n03/UnaBqt+Mml42d8ViivJeGvpa2mAP8hiCt+xqlU6QydaXpnY68p2TI9seqW7Y0YQbweDhareQp\n59yrwCR80naJmf0PsI6NdbrcrmXLs+Z9B/jYzMbjE7Jbm1jFvcC+ZlYDTAYeDpe92Dk3Meu1XXZY\n7d2umn3OmFk+bq//i5dX63mAhaUYuJwg/VuCdDrqYPKRkrUOVrXLMTuXT9j3gUR5r35RxyLd0qHA\nL3X/iHS0VKausmLKQXcVDxq9X9SxSF4bCzxJkJ4YdSDSNDMbCKxwzt0MfA+fuC3AJ1YAh7WwiFuB\nLwNp59wLuR8655YBf8V3b7zPObfeObcEeNPMjghjMDObEM7yZ3wLHMBxW7NNvWafc3D5mBn3xEsr\n1bJbuA4F/qZzz+aUrHWgql2P3aV8h9n3Jsprekcdi3RrxwIXRx2E9BypTF1V+YRZt5UOmzAr6lik\nWxiIHwBgn6gDkSaNA54OuyNeCFwCXAT82MyeAVp6fucd+OTqti2UuRU4nk1b3o4DTjGz54GXgYPC\n6ecAZ5rZi0Cbuy/2PuCLJ5WN3u1XsZKy8rbOKz3OCOAxgvQBUQeST9TdqoOkdz5qt8rJB94dL6uu\niToW6REuIEj/k6D+lqgDke4tlamrKNt+5g2lI3dUoiZtUYF/tMhJBPU3Rx2MbOScexB4sImPNhuQ\nwzkXNDHtfXLqf865G4Abst7fgR8EIrvMm/jBTXKX9yYwLWvSBVsIf4NUps5Khk04pXzCrCtiyRKN\nCiiNyvGjZH+RoP7HUQeTD9Sy1gHKJ+xTVzFh39uVqEkH+zlBelrLxUSalsrUpcq2m/6z1Kid5+gW\nNdkKCeAGgvSBUQciPUsqU2fJ3sNOLt9+rx8pUZMmxIDLCNJXEqTjUQcTNSVr7ZQavcukyqmH3JpI\n99U9atLRioG7CdLDog5Eup9Upq4kte0uP0mN3u0IPVBW2iEO3KqH2EpHSWXqLF7Z58jKKQd9T10f\npQVnAr8jSBf0s0CVrLVDKlOXSe946M1FvYeqMi2dpS86UUkbpTJ1RaXb7PiDsjEzPmWxmM7z0l6l\n+PPQ9lEHIt1frKRiZnrHw34cL6uqjjoW6Rb2w49SW7CNIvpPfCulMnWDKiYdcHPxwNHbtVxapF3G\nAbdohEhpjVSmLlHUb+TXysfOPNVi8YLvPiIdpgr/HDZdnJStlsrUTaycevC16o0kbTQeeIQg3T/q\nQKKgZG0rpDJ1vVKjd/tZ6fBJO0YdixSMA4HPRx2E5LdUpi4WK604vWLSAedYoqgo6nikxxmIT9g0\n4rG0WSpTl6mYfOAvivoOHxF1LNItbQfMJ0gPaLFkD6NkrY1SmbryogGjLi0bvdveUcciBee7ev6I\nbJHZfpU7Hv6leCqtZxVJZ9kWP0pkWdSBSPeRytT1S227609Ka3fYIepYpFvbFp+wDYw6kK6kZK0N\nUpm6RLys+ouVkw48yuIJPfZAulox8GuCdCrqQCT/pDJ14yp2mH1JUe8hQ6OORXq8HYE7CdLJqAOR\n/JfK1FUUDx77vbIx02dGHYv0CKPwCVubn+nXXSlZa6VUps6w2GGVdYefFisp02APEpXRwGVRByH5\nJZWpG1A6Ysr/ltROUsurdJV98MP6615aaVYqU5eMparOrZi436G6h1Y6UIYCStiUrLXe1MrJcy5I\nVg8oqKZXyUufIUgfFnUQkh9SmbqyZJ/aoHz83jP1LDXpYscCQdRBSH5KZeoMOLZyykEnx4pT6jYr\nHW0b4H6CdGXUgXQ2JWutkMrUDSkdPvmbJcPGa9hiyRc/I0gPiToIiVYqUxePlVScXjn1kKMsntSA\nIhKFCwjSuodbmjI1NXq3zxb1GVYbdSDSY40HbidI9+hbk5SstSCVqauIl9fMLRu3125RxyKSpRr4\nSdRBSOQOqJi0/2fjpRXpqAORghUDbi7EEdqkealMXZ9E9aAvlI3ebWrUsUiPtw9wTdRBdCYla1uQ\nytTFgBMrpx5yQCxZXBp1PCI5DiRIHxJ1EBKNVKZufMmwCWcVDxg1KupYpOD1xQ9+pHuShFSmLkE8\n+dn0jofMtHhCg9BIVziZIH1B1EF0FiVrW7Zr2ZgZxyZrBml0NclXPyZIl0cdhHStVKYuHSspP7t8\n/Kydoo5FJDQduCjqICQv7Fu5w/5Hxctr+kYdiBSUbxKkj486iM6gZK0ZqUxd/0TNoDNTo3aeHHUs\nIlswBFWQCkp40/7xlVMPmR4rKlGiLvnkqwTp3aMOQqKTytRtUzx47FnFQ8fpHn+Jws8J0rtGHURH\nU7LWhFSmLonZZyunHjJdTfjSDZyjh2UXlKmlI6YcXtR3eCbqQERyxIAbC2F0NtlcKlNXFiutPKdi\nh9m7mIamlWgUAb8hSPeJOpCOpGStafuWb7/n/onymn5RByLSCnHgpwRp/Z57uFSmriaWSn+ubPs9\nddO+5KthwBVRByFdK2uY/v1iRaVq8ZcoDQJu6knPgFTlLkcqUzc8Xtnn+NKRO6qlQrqTOuCUqIOQ\nzhNWhj5VOfWQ3WPJYj2zSPLZCXoWZMHZsXjQdocV9R0+MupARIBZwNeiDqKjKFnLksrUJYCTKifP\nmWLxhJ5ZJN1NQJDWqKU9184lwyYcUNR76IioAxFphWsI0v2jDkI6XypTV43ZSeXj99FFbsknFxGk\np0cdREdQsrapmSVDx9clawapMiTd0UDgrKiDkI6XytT1xmKfLhs7U5Uh6S56Ad+JOgjpEoeUbTd9\nTDyV1q0jkk/i+EeKdPtRSZWshVKZut7EEkeWjdtLoz9Kd/YV3dzfs4TdH48qG7vHdvHSit5RxyPS\nBp8mSE+KOgjpPKlM3XArTu1Zuk2d9rPkowHATVEH0V5K1thQGTq8fNxeY+Ml5b2ijkekHXoB50Ud\nhHSojBWX7ZIaOVWVIeluDPhx1EFI50hl6mLAcRUTZ4/RfbSSx/YhSJ8adRDtoWTN2zZeVr1H6fBJ\nqgxJT/AFgrRaYHqAVKYuDhxbMXG/0ZYoSkUdj8hW2JUgfWTUQUinmJKoHjipeODocVEHItKC7xOk\nB0YdxNYq+GQtlalLAidUTDpwnAYVkR6igh40ClKBm5qoGjCueODo8VEHItIO3yVIl0QdhHScVKau\nFDiuYtIBEywWi0cdj0gL0sBVUQextQo+WQN2S1QP3DbZZ9joqAMR6UCfI0gPiDoI2XphZeiYih1m\nj1NlSLq5WuCLUQchHWqfkmETRyer+mtANukuDiJIHxF1EFujoJO1VKYuDRxZPnbmCDPrMQ/PEwFK\ngDOjDkLaZa/iQWO2SdYMykQdiEgH+KqG8u8ZUpm6PpjNKdt+pm4dke7mCoJ0TdRBtFVBJ2vAjHhZ\nTWWyT636W0tPdJq6HnVPqUxdL2BO2Zjp20Udi0gHKQe+HXUQ0j7hgGxHlI6cOiReUq57o6W76Qf8\nKOog2qpgk7VUpi4F7Fc+bq9adTGSHqo3cHx7F2JmgZmdb2YXm9lebZiv1sxeau/6C9TBRf226ZWo\n7DM86kBEOtCJGsq/29sGqEttU6cLSdJdnUCQ3iXqINqiYJM1YGcrTpUV9R+p/zikJzunoxbknPsf\n59wfOmp50rRUpq4vsGvZmOmjoo5FpIMZcFnUQUi7HFA8eExFvKx6cNSBiLTD96MOoC0KMllLZeqK\ngIPKt99ziMWTxVHHI9KJtidIt7o1rJGZfd3MXjWzx4Ftw2k3mNnh4d+TzexRM3vWzB40swFZ0583\ns+fRPXNba69E1YBUonrgmKgDEekEu23NOUmil8rUDQbGp7bdVecm6e526k6DjSSiDiAik4knK4sH\njZkcdSAiXeBcoNUtYmY2GTgamIg/R/wNeDbr8yRwBXCQc+5DMzsK+BZwMnA9cJZz7k9m9r2O24TC\nkMrUVQEzy7ffc6QGPZIerE3nJMkbeyd7DSlNpPttG8XK1y35kI/m/ZCG5YsBo3ziLCqnHMTix29h\n2fMPEkulAaje/QRKR07dbP7/Xn0ysaJSiMWwWJwBn/aNvJ/Mv56VbzxLUd/h9D7gPACWvfwIDSuW\nUDn1oC7bPuly3yFI30NQvybqQFpScMla+JDZQ8rHTB8QSxaXRx2PSBeYTZDOENS/1sryuwF3OedW\nAJjZvTmfbwtsDzwU5hNxYKGZVQFVzrk/heVuAvZrd/SFZfdYWVVpss+wCVEHItKJZhOkRxHUvxp1\nINI6qUxdDbBr2dg9RkV2HSkWp3qPUyjuvw0Nq1ew8JfnUlK7AwAVUw4mXXdoi4vod8y3iYdJHUDD\n6uWsee91Bp58JR///nLWfLiARNUAlr/4EH2PuLjTNkXywkjgDLpB1+xC7AY5DrO+JcMmqlVNCoUB\np3Tw8l52zk0MX+Occ/t04PIL0oZBj7bfq9Zi8YK7kCYFxejA+2mlS+wRL6spTfYaOj6qABLlNRT3\n3waAWHGKZK8hrF/6cTuXariGdTjnaFi7GovFWfL0nVRMOhDTabgQfIMgXRV1EC0pqGQtHHL24FRm\nWp9YcarbPWdBpB2OJ0i39vf+J+BgMys1swrgwJzP/wX0MbNp4LtFmtlY59xiYLGZ7RqWO65DIi8c\n06yotLx4QEaDHkkh+HR3qCQJpDJ1ZcA+ZdvPHJYvo2evq3+fNe+/QfFA3yNz6d9+x7u/OIuP7r+M\n9auWNT2TGe/fegELbziHpc89APikr3TkFBbe8Hni5dVYcRlrFr5KatS0rtoUiVYN8PWog2hJoV02\nGAXUlo6cukPUgYh0sUHAnsBDLRV0zv3NzG4Fngc+AP6a8/macKCRy80sjT+PXAa8DJwE/MLMHPB/\nHbsJPVc46NGc1Kide1s8qWfjSSEoAz4D6N7W/DfNikpLi/vnx4WkhjUr+fCub1Oz52eIFaeo2GE2\n6Z2PBjMWP3Yznzx8Hb1nn7vZfP2P+y6Jit6sX76Y92+9gGSvwZQM2Z503eGk6w4H4OPfX0561+NY\n+vyDrHrz7yT71lK189FdvYnStc4gSF9KUN/eZtpOUzAta2Gr2pziIePS8VR6QNTxiETghNYWdM59\nyzk3yjm3q3PuWOfc951zJzrn7gg/f845t7tzboJzbqxz7mfh9GfDaROdc192zm3fWRvTw0wEKosH\nbadR1qSQnE2QLrSLxt1KeCHpwLLRu/ezRPQXktz6dXx417cpGzOD1LY7AxAvq8ZiccxiVEyYxZqF\nTd8KmajoHZavIjVqGqvf3bTcmvdfxzlHsmYwK/75OH0Onsu6T95j7aJ3OnejJGop4Kyog9iSgknW\ngKHA2NLhOwyNOhCRiBxMkC6NOgjZVHghab9E9UAXL6vW+UkKyRCg5VEhJEoTgXTxwG3HRh2Ic46P\nf/9jkr2GULnjIRumr1u2aMPfK159kmTvYZvN27BmFQ2rV2z4e9Wbf6eoz6blFj92M1W7HQ8N68A1\n+IlmuHWrO2FrJM+cTZBORR1EcwrpitYsYvHVyeqBo6MORCQi5cD+wB1RByKbGADUpkbtPFyj9UsB\nOhe4LeogZHPhhaQDk72GuHhZ1aCo41n9zissf/kRkn1qeff6swE/TP/yf/yJNe+/AWYk0n2pmeUb\nSdYt/ZiPH7icfkdcxPoVi/nwzkv8ghoaKBszndIRG8eZW/HqkxT134ZERS8AivqO4N2fn0myby1F\nfUd07YZKFHrhB2K7IupAmlIQyVoqU1cKTC0dPilliaK8zZxFusDRKFnLN1OBhqK+wzVcvxSiaQTp\nHQnqn446ENnMIGBwaWanvMhWSgaPZdhX7ttselPPVANIVPSi3xEXAZCs6s/Ak69sdtmpUdM2GVSk\neuYpVHfoIMrSDZxHkL6aoH5d1IHkKpRukNsC8eJBY7aLOhCRiO2fz039hSZ87uOeJbUTS2NFpRoZ\nTwrVF6IOQJq0I7C+qE9tZMP1i3ShYcBRUQfRlEJJ1nZWF0gRAEqAPaIOQjYYBZSXDJuoC0lSyA4h\nSFdEHYRslMrUJYA9SoaOL9GFJCkgX4k6gKb0+GQt7AI5qXT45LQlkhpcQQRmRR2AbLCbJUsaktUD\nNQqkFLJiYHbUQcgmMkB58dBxmagDEelC4wjSu0cdRK4en6wBo4FY8WB1gRQJ7Rt1ALLhQbM7prap\nq7Z4oijqeEQiplEh88vOwJpkzSDVnaTQfDbqAHIVQrK2C7HE6mTVAHWBFPEyBOm8uGG8wI0DYkX9\nRmwTdSAieWA2Qbo46iBkw7PVdiwZOr4klixR91QpNIcRpGuiDiJbj07WUpm6FDCxdMTkqnx4mKNI\nHlFXyOjtASxNpPspWRPxjxbZJ+ogBPD30iaLh47bNupARCJQAnwq6iCy9ehkDd8FMl48aDs144ts\nSl0hIxR2gdymePBYPU5EZKNDWi4iXaAOWJOsVhdIKVifjjqAbD09WduFeGJVsnqArg6JbGoPgnQy\n6iAK2DaAFQ8crVY1kY3mEKTjUQdRyBq7QCZ7DV0fKyqpjDoekYjsQJAeF3UQjXpssraxC+SUKour\nC6RsnVXrHDv+bBkTfrqMsVct48JHVgHw3Hvr2em65Uz86TKmXLuMp99Z3+T8J9+zkr7fW8r2Vy3b\nZPpXHlrF+KuXccJdKzdMu/mFNVz21OrO25hNVeCfoSPRmAisTdYM0khrIhv1AqZHHUSB2wZIFg8a\nPSTqQEQiljetaz02WQO2A2JFfYYPizoQ6b6K4/Dwp8t4/vRynjutjAdeX8dT/13Hlx9axYXTi3ju\n9HIu3qOYLz+0qsn5T5yY5IHjN+3lVr/K8bf31vPC58opisOL769n5VrH9c+t5cypXToo4NSuXJl4\nqUxdDJgSL6teGUulB0Ydj0ie0aiQ0RoNrE/WDFbdSQrdMQRpizoI6NnJ2i7AikRF78FRByLdl5lR\nXuR/q2sbYO16MMAMloSNYPWrYGBF07/n3YclqCnd9LOY+eU451ix1pGMw/efWMPZOxaRjHfpeaGg\nkzUzm2NmcztoWctaLrXBIKCspHbiEDPLi/8IRPLIwflSQSpQE4El8YretVEHIhKxgeRJPSkRdQCd\nIZWpSwDjiMXfj6UqB0Qdj3Rv6xsck69dzr8XNXDm1CLqBie4bJYx6+YVnP/QKhocPHFyWauXV1Fs\nzM4k2OGa5ew5PEG62PjLO+v5xvQuH7U6L05CncnMEs65dU195py7F7i3i0MCP9IaRX2G6341kc0N\nwnfR/kvUgRSacOCjwcleQ5bqfjURAOYAT0cdRE9tWesHxIoHjOpjsXiPTEil68RjxnOnl/PfL1bw\n9LvreemD9Vz9zFp+NKuEt79QwY9mlXDKvStbXlCWL+9SzHOnl/ODWSV845HVXLxHMdf9bQ1H3r6C\nS/7UZfetbUOQruqqlbWHmZWZ2Twze97MXjKzo8xsgZn1Dj+fYmbzw78DM7vJzP4M3GRmT5nZ2Kxl\nzQ/Ln2hmV5pZ2szeMrNY1rreNrOkmY00swfM7Fkze8zMRodlhpvZk2b2opld0sbN2QlYEq/sPbwj\nvhuRHmhO1AEUqGGAKx44ujbqQETyxEFRBwA9N1kbDFiyT+2gqAORnqOqxNijNsED/17HL59fw6Hb\n+esAR4xJNDvASEv+vnA9zsG2vWLc/spabjsixeufNPDax1u3vDYyYEpXrKgD7Au865yb4JzbHnig\nhfJjgL2cc8cAtwJHApjZAGCAc+6ZxoLOuXrgOTYObHAA8KBzbi1wLXC2c24ycD5wVVjmx8DVzrlx\nwMLWbkQqU1cOjExUDXB62KxIs3aNOoACNQpwiV66X00ktD1BekTUQfTUZG0UsDZR1V/3q0m7fLi8\ngcWrHAAr1zoeemMdo3vHGFgR49G3fEL18JvryfTaup/SNx5ZzTdnFrO2AdY3+GkxYMXajoi+VbpL\nV8gXgb3N7LtmtluYYG3Jvc65xubO24DDw7+PBO5oovytwFHh30cDt5pZObAzcLuZPQdcAzR2q94F\n+HX4901t2I5hgCsakNGFJJHmTSVIq1dM19sBqE/ofjWRbJG3rvXUk+EYYEmirEbJmrTLwmWOT9+9\ngvUN0ODgyLFJDhiVpKrEOOeBVaxrgJIEXHtAKQDvLm3g1HtXcf9xfgTIY367gvkL1vPRCsfgHy7l\nohnFnDLJj/h49z/XMmWgT/wAJvaPM+7qZYzvF2NC/y571FC3SNacc6+a2SRgNnCJmf0RWMfGC065\nj+dYnjXvO2b2sZmNxydkpzexinuBb5tZDTAZeBgoAxY75yY2F9ZWbMpwgGT1IJ2bRJpXik8c/hp1\nIIUifNzRkETNoCWxotJ01PGI5JE5wI+iDKDHJWvhCadfrLTyAytO9Yo6HunexveL8/fTyjebvuvQ\nBM9+dvPpAytiGxI1gF8fltqsTKODRyc5ePTG51J/f58Svt/OeLfChK5fZduZ2UBgkXPuZjNbDJwK\nLMAnVr8HDmthEbcCXwbSzrkXcj90zi0zs7/iuzfe55xbDywxszfN7Ajn3O3hyI3jnXPPA3/Gt8Dd\nDBzXhk0ZCyyNV/RSy5rIlu2CkrWuFN6vtp26QIpsajeCdA1B/aKoAuiJ3SAH4W+QHaRRsUVaNLSb\ndDcaBzwddke8ELgEuAj4sZk9A7R0k98d+OTqti2UuRU4Pvy30XHAKWb2PPAyG7tDnAOcaWYv4s85\nLUpl6uLACGBpvLSyf2vmESlgO0cdQIHJAC5R1U/PfhTZVBzYPcoAukMlra2GApbsNVhXrkValsBf\nUX096kC2xDn3IPBgEx+NaqJs0MS098k53znnbgBuyHp/B37Qlewyb+IHN8ld3pvAtKxJF2wh/Eb9\ngUSy97C0xRNd+vRzkW5op6gDKDCTgCXx0kr1SBLZ3K7A3VGtvCe2rG0HLE9U9tU9ISKtMzLqAArE\nAICiPrV69qNIy4YQpJU4dIHw2bRDgKWxkvLeUccjkociHaG2RyVrqUydAdsCS+NlVWpZE2kdJWtd\nYxjQkKjqpy6QIq2zQ9QBFIheAJYsiVuyRIOLiGxuEkG6+UEIOlmPStaAGqAsWTM4ZYmiyL5UkW5G\nyVrXGAUsi6WqdOVapHWUrHWNXoBL9h7aS/f6izQpCdRFtfKeds/aYMAlqgeq64RI6ylZ62SpTF0M\n37L2Yaw4Vd0V63QN61n4yy+QqOhF38MvZPGfbmLFv/8CZsRTVfSafS6Jis1PlSvfeJZFf7wWGhoo\nn7AP6Z2OAOCT+dez8o1nKeo7nN4HnAfAspcfoWHFEiqnRv4YGumZlKx1jd5ALFHVX3UnkebtCjwS\nxYp7WsvacMDFy6rVjC/SekrWOl8V/src+lhRaVVXrHDpM/eS7DVkw/vKusMYePKVDDzpCkpHTqX+\niV9vNo9rWM+ih66m7xEXMfDUq1j+yqOs+eg/NKxezpr3XmfgyVdi8SRrPlxAw9rVLH/xISom7d8V\nmyOFqblnHErHGgKsSVT0Vqu/SPMiu2+tpyVrw4AVsVRll1SGRHqIoVEHUACqABcrrSi2eLK4s1e2\nbslHrHzjr5RP2GfDtFjxxp7hbu0qcga+BGDNwldJVA0gWdUfiycp2253Vr72FGC4hnU452hYuxqL\nxVny9J1UTDoQi/e0DhqSR7YlSCdbLibtNAxYEVcXbZEt2YkgHUk/4Z6WrPUDVsVLKtSyJtJ6lQTp\neNRB9HBVgCWqBnbJhaRP/ngtVTNOJvf+k0/+dCP/vepElr8yn6rdjt9svnVLPyZR2WfD+3hFb9Yv\n+5hYcYrSkVNYeMPniZdXY8VlrFn4KqlR0zZbhkgHihGOoiqdIxyYbTCwMlbaRL9oEWlUSUQXt3tM\nshaecHoDq604pZY1kdYzfDIhnacGiCUqe3f697zi308TK6uiuP82m31WvfsJDD7jBsrGzGDps/e1\nabnpusMZeNIV1Mw8lfrHbia963Esff5BPrz7UhY/8ZuOCl8kl0Z27lxlQAmwNlZcppY1kS0bG8VK\neyRRpWQAACAASURBVEyyhj/hJPD3hKhlTaRtaqIOoIcbAKyOl1V3erK2+p1XWPnaX/jv1Sfz4b3/\ny6q3XuCj331/kzJlY2ew4tU/bzZvoqIX65Z8uOH9+qUfES/f9GL7mvdfxzlHsmYwK/75OH0Onsu6\nT95j7aJ3OmeDpNANjDqAHq430BCv7FNu8URR1MGI5LkxUay0J91skAYaACxZXBFxLCLdTZeMUFjA\nBgCrYqWdfz9t9fQTqZ5+IgCr/vMCS56+i94Hns/aRe+QrPGNFCte+wvJmsGbzVs0YBTrPnmXtYvf\nI1HRi+X/+BO9D/zSJmUWP3YzNbPOgoZ14Br8RDPcutWdul1SsNSy1rl6ARZPVelxRyIti6RlrScl\na1UAsVRVqVmsJ7UYinQFtax1rn7AqlhJWWTdTRc/+kvWLvovWIxEZR9qZp0J+PvUPn7gcvodcREW\ni1Oz9+l8cNv/gGugfNzeFPUZtmEZK159kqL+22wY8r+o7wje/fmZJPvWUtR3RCTbJT2ekrXO1Q8g\nVlxWEnUgIt2AWtbaqRKIxcuqdXVIpO3UstZJUpm6OP77fTuWLC3vynWXDB1PydDxAPQ55GtNlklU\n9KLfERdteF86ciqDRk5tsmxq1LRNBhWpnnkK1ZzSgRGLbEbdIDtXL2BNrFi3j4i0QiTJWk9qgaoA\niKfSZVEHItINqWWt81QCDnDEE50+bL9ID6OWtc5VAayzZKla1kRaVk6Q7vIRIXtSslYDrI2VVihZ\nE2k73efZeRqTNSwW1w38Im2jZK1zlf8/e/cdHld153/8faZIsiy5dwwogBEBOxgccGjJbkKA4OCQ\nDSnAbsqSwiabtpvd1S+hKBCCkzh0Qu8G29hgGFvYgLGN+7jK3eNxkZssWV0ajWbmlvP74165ytLI\n1sydcl7Po8dj3Tuar4wY3e8953wOoLty8lSzpijxuTDZL5h5zVpubzUNUlG6z5GNHrPEkQZNNWuK\n0m1qGmRi9QYM4clVo/6KEp+kvydlUrPWF4i5cvPVyJqiKKnkaIPmUtHYitJNBZT27eN0ERmsN6AL\nb64aWVOU+AxP9gtmUrPWD9Bwud1OF6IoinKMXEDgcruEy6XenxSl+9RUyMSxmjWPatYUJU6qWTsD\nfQANKaXThSjxa47KeqdrUJQEywGEK7e3GlVTlNMzxOkCMlH+qPEuIA/QhcermjVFiY+aBnkGcgFD\nNWvpZdLS2PSILsNO16GoNWsJZDdr+apZU5TTo0akEyOX9vAjd45q1hQlPmpk7QyY1h+qWUsDOvYe\nf4E6s/GZ1bFphikNh2tSlETJA6TIUc2aopwmdTMpMY5p1tR6WkWJk2rWzoAJCDWylhY2ARuAkQAL\nK4z9s7brPmdLUjKJEOIiIcRXhBAFJ3z+JgfKyQcM4fF6HHhtRVFSiBDiSiHEFfbji4UQ/yWEuNmh\ncvKwmzVFUeKW9GYtIRcPQogfSSlfScTX7oRENWuppG9RSdnQikkTqk884Ato2sRi73PAPcBgoOb1\nDdrGswrFoKvO9lyX9EoVgIwZ2RRC/Ar4BbANeEkI8Wsp5fv24T8D85JcUj5gYOgZ82+cAWqcLkDp\nlowYWRNC3A98DfAIIT4GxgMLgRIhxGVSyoeSXNLRqY/SNJP82hlJSimRho5patI0NExTl9LQMA1N\nmoZu/6lJQ7ceG7omTV2T0XB+zpDz5roL+q90+ntQupRPad88SpsiyXrBRN3p/SPgRLOGRKo3nNRQ\nCLxXVFL2zxWTJpz0A+0LaKGJxd5HgfuxwmGaJy2NLfj7ja6BFwxwXZzsYhUanS6gB/0EGCelDAkh\nioCZQogiKeXjOHPRlweYUo/pDry2crJNFZMm+J0uQumWjGjWgNuAsVjTD6uAkVLKZiHEZMAPJLtZ\nO0LKzL12ktI0rabJ1DANDdPQrUbK0KRp6tLU7ce6hmHo0tQ1aegahq5LQ7MaKkOzHuux9g9d6jFN\nalFN6lHdjLVpUotoUo+d7k25kcBL4aB/b09+70rC9AJSv1kTQmw81SFg6Ol+3TOgRtZSzxeAl4E7\nOjroC2jVE4u9jwMlQFRC9L6FkVmP35TXb3Bvl9oINbkanC6gB7mklCEAKWWFEOKfsBq2c3Hmok8H\nhNQ11aylhifjOcklMqZBUFKHLqU0gLAQYpeUshlAStkmhHCiWTrmNZPbrEnTNJCGLk2rgbJGn8xj\nmihdx7BHoUxdp30EytA1DE2Xhq5JXbOaqPYGyojpUotqUotqph7VZSyimVqbhqH3xPfmwgq6cXXw\nOAfrptyxn28PxZHH/Hmq61MBaEBbD9SpJEdSA3nOZGRtKHAjJ1/kCWD5GXzd02X9z6iatVRze1FJ\nWaBi0oQ/dnTQF9ACE4u9LwI/A/aGYugPfBqdOun6vJ/0zhFqI9TkyaRmrVoIMVZKWQ5gj7B9HevG\nwRgH6okCLqlHVbPmMGkazcLlnhLPuTec77kw0fUoccuUxjkmhMiXUoaBce2fFEL05bjGKWmOvqZp\nmtY0PVOTx03jO3YUytAx9fZpfBqmbjVN9sgThqZZo092A2VoduPU3kRFNFOL6DIW7oltlgQdN07t\nj3OxpqCf+HnouoESx/zZ/lgDYljv5zGsxip6wkfkmD8j9nnaMR96J4+j4aBfNWvpI22atTlAQfsF\n0bGEEIvO4OueLjtgxFTNWuq5v6ikbHvFpAnTT3F8OdaCzVuAir1NMvSEPzb1d1fn/LvXLbzJKzOr\nZdJ+d9/H+uV3hJRSB74vhHjOgXo0wGWe/vQYpadI86WKSRO7uiASANec7RmfhIqU+GRKs/ZFKWUU\nTpp26AV+4EA9R2qon//smz3w9QSnHn1yY32fHX1ecnzjdKoG6tgmSmK9t7Y3T8f+GTnh8bEfMTpv\nmjpqrvRw0K+uLZVj9Urmi512syalvKuTYx1Oe0swq1lT0f2pSACvFpWUVXS0VsQX0OTEYu8sYBhw\nGbB/xQGjaupm7d1/+5z3u0Jkyu/plJYxI2tSygOdHFuWzFpsMcAltYgaWXOQlNIUbu9jnZ0zsdgr\ngHHXn+fu37+XGJyk0pQs0d6odfD5WqA2yeWAdd3kxZopdWwT1f5Lt7sNlIn1ftf+ceLIU0ejTxHi\nb5qOfWyoBkpxUNqMrKUaK2BETYNMVXlYgSNXVkyasP/Eg76AZkws9r6EtX5tKFA9c6u+fWQf1/wv\nf8ZzfbKLzUIZ06yloCjgwjRMKaUU6u6DMwxtXsXkb+7r4qzzgHNuudB7STJKUuKm/p9JjAbgQ6yG\n7djmKUr8TdORx+GgX80eULKFatZOkwoYSX3DgNlFJWXXVkyaEDrxoC+gtU0s9j6BlRDZD2h8bGVs\n2bACMejiwe6xyS42i0igyekiMliM9otNaeoIt5ra6wDhyflbHKd95bz+IufcfkKtV1MyXjjojwJv\nOV2HEh+PK6P2Rk536TENMgWZAFKLJi1KUzktlwJvFZWU3VoxacJJC6p9Aa3OjvS/B+vuXlvpouic\nx2/K6z+80HVusovNEg2UNmVsbHMKMGhfG2IaGi7VrCWb1LXA3sm3LursnInF3gHA+DvH5HzGpUY/\nU426CaukntK+AivEpNcxf/bq6c/N+m6vQpcgR70tZa9Ma9aE0VqvRghS3y3AX4HfdXTQF9D2TCz2\nPgP8CtgX0dHvXxSdPvmGvJ/0yRX9k1loltjjdAEZ7shaNVOLhtyenHwni8lKLtff4zjrmoIcPJ8b\n6ros4fUo3XXY6QKUNFHa183JDU+iGqncZHxLbpdq0lJQUpM7M6lZiwK5elO1atbSw3/bCZEvdnTQ\nF9DWTCz2vg18B9hTFZJtk5dH3/rDdbl35XpEUucKZ4FdTheQ4XTa19RqkWZ6FQ5xuJ6sIk2jqau4\n/onF3hzgpu+N9g5V7y8p6ZDTBShnoLRvDgkefTrmsZq5oCRDUmfxZVKzdhi4QG+qbpDSNIVwqbm9\nqe8fRSVlOysmTVh0iuMfYEX6Xw3sLa8ya18t12b8ZJz3TpcQ6r9vz1HNWmKFsJs1MxpucbiW7CPN\nF+OI678UyL/uHM/lyShJ6RYDNbLmrNK+N2DtC3e6jZT75C+qKGlNjaydpmpgNFJKqUWbRU6vfk4X\npHTJC7xTVFL2hYpJE4InHvQFNHNisfd1YAhwLlBZFtR3j+wj5k640Dsh2cVmsN1OF5DhjjRoZrS1\n2clCso0d1/9EZ+fYcf1f/+p57kIV15+SqtWaWsd9E7jb6SIUJYWoZu00HcIe/jZjbU0u1ayliwHA\nHLthOyk+3hfQohOLvU8D9wIDgbrn1mprRhS6Bl823H1lsovNUGpkLbGasfYuwoy0qJG1ZDK0ufHG\n9X/9Qu/oZJSUKEWPtVCYK3AL8LhgzU8L+O7MMIFaq89pjEj65QnK7y446bnzdur8el4Ew5T8+PIc\nSq61luL838cR5u7UGTvMzevftMLPpmyMURuW/OYLSVmuA2oKpCMmFns9wI+Aofd+MfeyK85Sg2OK\ncoykToPMpKlkTbQnQkZb1bq19HIhMLOopKzDmwe+gNYIPArkAL0BHlwcnbevydyZvBIzmmrWEqsV\ne2sRI9ykRtaSKM64/uvP7y9yMyGuf+EP8im/u4A1P7Uasum3WX8vv7uAb33Wy7989uTlPIYp+cUH\nbcy9M5+tvyhg6maNrTUGTRHJuiqDjf9RQI4bNlUbtGmSV8o1fnFFTjK/rcpkvphyhBe4Bujfpks1\nsqkox0vqyFqmNWsSwIiEGh2uRem+LwNPn+qgL6AdAJ4CBgM5uom8b2F0ZkObrElWgRkqBhxwuohM\nFg76TaARyDFCDapZSxKpa9srJk34tLNz2uP678jwuH4pJW9v1bh99Mn3w1YdNLhggIvz+rvIcQu+\nd4mX97fruARohvXcsCbxumHy8hi/vDIHrzup/1RqZM0ZGtY1VYtu0up0MYqSYlSzdpoasTeeNcPN\namQtPf20qKTst6c66Atom4A3gJGAq75NRh9eGn0rostw0irMPLvVepCkqANyjZYaNQ0yWVzueOP6\n3Z8b6hqb8HoSTAi4/vUw454P8fza2HHHluwzGNpbMGrgyVPZDrZIzu5z9FJgZB/BwRaTwlzBzaM8\nXPZcK8MLXPTNFfgPGtx6UdLD9tTImjMM7BkBTRGpmjVFOaqV0qZY16f1nExq1lqwmjVhtDaoZi19\nTS4qKessPGQB8DFwDsD2WrPx2TWxaYYpjaRUl3k2OF1AlqgBco1QfViaht7l2coZseL6XV3F9eeS\nQXH9S3/Um/K7C5h7Zz5Pr46xeO/RH7OpmzRuH939Jut/r8ml/O4C/n5jHvcujPLAP+fy4roY35kR\n5k+Loz1ZfmfUyJoDfAFNYm2J5K4NS3WTSVGOSvp7UsY0a+Gg3wAagFy9uUZNg0xfLmBqUUnZmI4O\n2r9ApgGbgbMAFuwx9s/arvuSV2JGWed0AVmiBnsDVTMSUjHkiSbNFysmTehqAXhGxfWfZY+ODent\n4psXeVh10Lp/pZuSd7frfPcUzdpZhYL9zUcH1w80S84qPP7SYP0hAymheKCLGVs13v52PrsaTIJ1\nSblHppo15zQD3upWGXK6EEVJIapZO0OHgVy98ZAaWUtvhcDsopKyDjcP9gU0DXgWa2rZYIDXN2gb\nV+zXlySvxIyhmrXkqMV+vzVaG6sdriWj2XH9j3d2zjFx/X0yIa6/NSZpicojjz/aZTB6iDXlcf5u\ng4sGuRjZp+Nf91ec5SZYZ7KnwSRmSKZt0ZhYfPzatnsXRnnwy7loJhh2X+cCwlrCvqVjqWmQzqkH\ncg40m2pkTVGOSvp7UqY1a1VAntQiutRjSV3HZEZC1Mz6MwdfuJuDL9xN9OA2WrcvpfLFn7P3L7cQ\nPXTSNmJHNK95n8qXfk7liz+nefX7Rz7fsOgVKl/+T2rnHF16Edqy8LhzMti5wHtFJWUdTk/yBbQQ\n8BjW1Nc+AJOWxhbsqje3Ja/EjLDe6QKyRA12Wq3RUlvlcC2ZzdA+qJg0YX8XZ50PnH1LcXrH9ber\nbpVc+0orlz4b4soXW5kwysNNF1gN17TNJ0+BrGwxuflN61ekxyV46uY8bpwS5rNPh/jOxV4uGXJ0\nbdt72zU+P8LFiEIX/fIEY4e5GfNMiIghuXRYUuLcVbPmnFog51CLDBumSoRUFFvS35MyaZ81sIYm\ncwGMSKjGUzDg3GS9cP0nz5N33jgGf/P3SENDalFcuQUM/ubvqfvwqVM+L1ZTQWjDhwz7/iMIt5fD\nb99HrwuuwJ3fl1jVLkb8+1PUzX2CWE0Fnn7Dad30MUO+/UCyvi2nXQW8BNzZ0UFfQKuaWOx9HCgB\nohKi9y2MzHrspry+g3u7RiSz0DS1k9KmOqeLyBLV2AFIWkNldS/GOVxO5oozrv8rFwxw5ZzTV4xK\neEFJcF5/Fxs62D8N4NVbe530uRGFLj64M//I328e5eXmUR1Pk7z1Iu9xoSKTb8hj8hnW2w31lDap\naZDOqQNyJRDRae2dQ6HTBSlKClDTIM/QkU2VjebDXd1Z7TFmtJXI/i0UfO4GAITbiyuvAO+gs/EO\nHNnpc7W6A+QML8blzUO43OSePZrwjuWAQJo6UkpMLYpwuWle9S6Fl9+CcGdaj92pO4pKyu471UFf\nQAtgNXRnAe6WGNqDi6PTWmNqQXQcVjpdQBZpwtpE0xur3qWmQSaIHde/uLNzJhZ7BwLjbx/tPS+T\n4/ozhApAclYd4AYIa+p3qqLY1DTIM1SPvddarHbfvmS9qN5YjTu/D3UfPEblK7+ibu4TmLH4NjfP\nGXQu0QNbMNqaMbUIbbvXYDTX4srNp9f5n+fQq7/CXdAfkdub2KEd5F94VYK/m5RUWlRS9t1Oji8D\nZmMlRIqKRtnyhD/2lmbI5KyoSF+qWUuScNAvgT1AgdnWHDFjbWpdbSLEF9d/dabE9WcB1aw5K4Q9\nfbslhtojUlEsamTtDLVv7iuiB7bul1LKZLyoNA1iVbsovOxmRvzoCYQ3l+aVM+J6rnfQ2fQZfxuH\np9/L4bfvJ2fIeSCs/yx9x9/GiB89yYAv/5imJVPoe+2dtGz4kJr3JtG4fFoiv6VUI4BXi0rKruzo\noJ0Q+S6wBmsPNlYcMKqmbdbeTdKPQLpa4XQBWWYHUABghJvVurUe1p24/tszJK4/C5Q7XUCWC2Hf\nAK9pNdWUeUWx7Er2C2ZUsxYO+qPAXqDQbGuOmJFQTTJe11M4CHfhIHJHFAOQX3wNser4/1sWXnoD\nw3/4OMPu/Is1fXLAWccdj1XvQkqJd8BIwtuXMvjWEvSGKrT6gz36faS4POD9opKyszs66AtoBvAi\nVsM+FGDGVn37ogrjk+SVmD6klDWocJFka7+ZhBGqU1Mhe5o0X4g7rv9cj1o0mB5Oq1kTQpQKIX4n\nhHhACHF9N55XJITYfDqvmaGOTH080CyTcj2lKCkuDCRt5l67jGrWbBux0wGNltqk/IO6C/rj6TMI\nrc66Fovs3YB30DlxP99otbaF05sPE96xgt4Xf+m4441LptDvun8FU4f2QCYhkHrSNiVNFcOwIv07\nXEnvC2htwBOABvQDeHRlbOnWGkNNpTmBEOJjSpvUsGNyHRlN0xurVGhCD5JSGsLtfaKzc+y4/ltu\nON/dp1+eGJSk0pTTJKWMAWeU7iulvE9KOb+HSspG9VjXiWJXg6maNUWBgBPXTpnYrO3E/r60+gNJ\n634HXH83tXMmU/nyfxI7vIc+V32H8I7lHHj6B0Qrt3N45h+pnn4vAHpLHdUz7j/y3Jr3/kzli//B\n4ZkPMOCrd+PKO9qLhHesIGfYBXgKB+LKKyBnyHlUvvQLpBGzpkxmn0uBN4tKyjr82fUFtDqsSP9C\noBdA6aLo7EMtZtLvhKS4eU4XkIXaL3ZEZP+mimRN084K8cf1j/z6hZkR15/phBDrKW2KdeP8Pwgh\ndgghlgLF9udeFULcZj8eJ4T4VAixVgjxoRBi+DGf3yCE2AD8IhHfS7ryBbQYVnx/3sZqo0a9ZSkK\n25140UyMFTxyUR6tDOzrfdF1SXnRnKHnMfwHjx33ufwLryb/wqtPOtdTOJCh3/7jkb8Pu/Ovp/y6\n+RdedVyoSP8v30V/7uqBitPaROAvwP90dNAX0HZPLPY+A/wK2BfR0e9fFJ02+Ya8n/TJFf2TWWgq\nklJKIcRHTteRbcJBv5Y/avxBoLcZbgqZbc2H3Pl91RYTPSDOuP7rMymuPwvEvaZWCDEO+B4wFuu6\nZh2w9pjjXuBJ4BtSyhohxHeBh4B/B14B/lNKuVgIEc/PUbapAC5ujlIbitFYmGvNWlGULOXINOmM\nG1kLB/3NWHeCeukNlU1mLKISjDLT74pKyk7ZtfoC2hrgbeyEyKqQbPv78uhbMUNm3dzRDmygtEmt\nmXLGBqAvgN5YtdvhWjKCHde/pLNz7Lj+K+8Yo+L600h30mqvA2ZJKcNSymbAd8LxYmA08LEQohy4\nBxgphOgH9JNStm/38MaZFp2BdmPPUqlvU+vWlKy30YkXzbhmzbYJ+4LICNWp6W+Z65mikrJ/6uT4\nB8ASrIaN9VVm7avl2gwzy+dyCCHUFEjnbMPetyhWvWuPw7VkBpc7nj2ar7Hj+i9LeD1KT+nJtFoB\nbJFSjrU/xkgpb+jBr5/JqrD+/Tjcqpo1JeupZq0HbQe8AFrDIdWsZS4v8E5RSdkFHR30BTQTeB1r\nHeNwgDk79F3zdupzk1diSvrQ6QKyWAVWFLaI7N+0T5qG7nA9ac2O63+zs3OOiesfluMWuUkqTTkD\nUspKSpu687t7MXCrEKKXEKIQuOWE4wFgsBDiKrCmRQohLpFSNgKNQohr7fPuPOPiM08Ndnz/3iZT\nzchQslljN9+XekymNmtH/jFj1btUs5bZBgBzikrKOpxH7wtoUeBprP1iBgI8u0Zbvf6QsSp5JaYO\n++JkmdN1ZKtw0B/GmlbUR2pR3Wht6CoUQ+mMNJ+PM66/13Xnei5PRknKmRNCLO/O+VLKdcB0rGnG\nc4HVJxyPAbcBf7GDRMqB9gXlPwKetqdHqimyJ6vFvlZcfdBQ71dKNnNsb9pMbdYOAxEgJ1a147A0\nNLVOKbMVAzOLSso6DMzxBbRGrITIXKA3wIOLo/P2NZlJ39jQaUKIGZQ2aU7XkeXW0r5urb5SrVs7\nTSquP6PN7u4TpJQPSSkvlFJeK6W8Q0o5WUr5QynlTPt4uZTyi1LKS6WUl0gpX7A/v9b+3Fgp5f9K\nKVVa6DHsG541QK9ttWZDWJMtXT1HUTJUp2ujEykjm7Vw0C+BrUAfpJR6c81Op2tSEu4rwFOnOugL\naPux0sAGAzm6ibxvYXRGQ/YtmO50ypiSFEHsaUXRqh2qWTtdVlz/gS7OUnH9aUZKqQNznK5DOc5W\n7BtMlS2mGl1TspVq1hJgE5APEK0MbHG4FiU5flZUUvabUx30BbRNWM3KSMBV3yajDy+NvhXRZThp\nFTrIMGUl1toOxVn7AANwRw9uO2Rq0VanC0pH8cb1jxrgylVx/WllKaVN9U4XoRxnK5ADsLNeqqUl\nStaRUkY5YXp1MmVys3ZkilvbrtVBaepq6ld2+HtRSdmETo7PBz7GTojcXms2PrsmNs0wpZGU6hzk\nEkyhtCmrkzBTQTjo17AufvohpdTqD6ibSd0kdW2biuvPTEKIWU7XoJxkH/ZsgPIqQzVrStYRQqyi\ntMmxJVWZ3KxVYi2M7S21iK43Vu9wuiAlKVzA1KKSsjEdHfQFNAlMw9rY8CyABXuM/bO26yfuy5Nx\nhBBqCmTqWAsUAET2btzkcC3pJ864/sIc3GOGusYmvB6lJ73ndAHKSQ4DUcC76qBRFTNkzOmCFCXJ\nHJsCCRncrNnr1hZhJwBGD+1Qd6+zRyEwu6ikbEhHB30BTQOeBeqAQQCvb9A2rjygL01eicmlm3Ib\npU2O7A+idGgLdoR/dP+mA2asrdHpgtKFNI1G4XK91dk57XH931Nx/WnFlHK9U9HYyqnZ2+BsBfrq\nJrI6JNW6NSXbqGYtgTa0P2jbtTooDV3dDcoe5wLvFZWUdXih5gtoIayESDdWc8fDS2Kf7Ko3tyWv\nxOTxuMTrTtegHBUO+uux9n7qD6DV7FWja/GS8oU44vrHChXXn3ZcagpkKjuSA7CjzlTBSErWkFJq\nQLe2E+lpjjRrQoiJQoiSHvpaoU4OV2JFztpTIQ9t74nXVNLGVcDLpzroC2hVWA3bQCBXAvctjMyq\naTUPJam+pDCtN5pXnK5DOcmn2FMh2/asU81aHKy4fk88cf1fv+F8j4rrTz9qCmTq2ou9bu2TPbq6\nllKyhhDiU0qbmp2sIWHNmhCiwz2vAKSUPinlpES9drsTp0JG9m0sT/RrKinnjqKSsntPddAX0ALA\nS1jr19wtMbQHF0entsYyZy8Z3WQmpU3VTtehnKR9KqQrVr2zxmhrOex0QSnP0MriiOu/ABg54UJP\nh+tWldRkSrmb0iZ10yJ1HQR0wLP5sFnfGJF1ThekKEni+E2kLps1IURvIUSZEGKDEGKzEOK7QogK\nIaw7lkKIzwshFtmPS4UQbwghlgFvCCFWCiEuOeZrLbLP/6EQ4ikhRF8hxF4hhOuY19ovhPAKIc4X\nQswTQqwVQiwRQlxkn/MZIcQKIcQmIcSf4vgeNwACoG332j1mrK2pu/9IStr7Y1FJ2Xc6Ob4UaxPW\ncwBR0ShbnlwVm6qbMiMSRHPcIp4wBiXJwkF/C9b700AA7fAedaHahTjj+r964UBX7rkqrj+tqCmQ\nqc1e670O+/1qR52hRteUbOF4AF08I2s3AZVSykullKOBeV2cfzFwvZTydmA68B0AIcRwYLiUck37\niVLKJqAc+JL9qa8DH9rzQ58HfimlHAf8DviHfc7jwDNSyjFAPNPVDmHFzvYFiB3eo0bXso8AXi0q\nKbuio4N2QuS7wBqsPdhYvt84NHWT9q6U6Z10H9Hlakqb1jldh3JKS4BeAOFdqzel+89bIkldU+eg\n4AAAIABJREFU21oxaUKnIUB2XP/nbx/tPU+l9acdx+9eK11aDeQBLN9vBByuRVESzg49cjxQJ55m\nbRPwVSHEX4QQ19kNVmd8Uso2+/HbwG324+8AMzs4fzrwXfvx94DpQogC4GpghhCiHHgOGG6fcw0w\n1X78RlfF21MhPwL6AbQFV5arC6Ks1AvwFZWUnd3RQV9AM7CmQ1YCQwFmbNW3f7rX+CR5Jfa8HDcJ\nn26snJFt2FOL9IaDTUZL7a6unpC14ovrv1bF9acfw5R7cHgBvxKXHdgptosqjAMRXYadLkhREilV\nRvy7bNaklDuAy7Gatj8JIe7Durhof27eCU9pPea5B4E6IcTnsBqy6R28hA+4SQgxABgHLLC/dqOU\ncuwxH589tqy4vrujNgAG4NbqDzQaofqKbj5fyQzDsBq23h0d9AW0MNbIrYbd3D+yIrZ0a42xoaPz\nU13MkJUuId53ug7l1MJBfwTrbvUggMje8lXOVpSauhHXf+PtY1Rcf7pxu8TjlDaZTtehdM5OUd4B\n9DMlcle9qfavVTJdSlxDxbNmbQQQllJOAf6G1bhVYDVWAN/q4ktMB/4X6CulPGmfJyllCOti5XFg\njpTSkFI2A3uEEN+2axBCiEvtpyzDGoEDuLOr+gHCQX/7awwGiB7YvKbzZygZbCzwZlFJWYc/+76A\nVouVEFmIPT2tdFF09qEWM+32/hHwOKVNhtN1KF1aAuQChIMrg2Y03OBwPalHyucrJk2IdnHWWAG9\nrj1HxfWnE8OUYVRabTpZjr3dzepKIyO3ulEUAFPKilTZnzaeaZBjgFX2dMT7gT8BfwQeF0KswRqx\n6sxMrObq7U7OmQ78K8ePvN0J3CWE2ICVmvYN+/O/Bn4hhNiEleAXr8XYF0St2xZvNSOtKskoe30D\nTj090BfQdgPPYE299UR0jNJF0enNUZk2F9GaIVu8bvGs03UocdkBVAOFSCmjhwKrnS4olXQjrv+W\nGy/w9FVx/elFM3nD6VhspVuONGizA/rONk22dnayoqQrlxBvOl1DO5Et67fyR413A3/HmuLW2nv0\nVy7tXXzNrQ6XpTjrropJE065D9vEYu8twLeBPYC8bJhr0B++mPvjdJhiFYrJ0oI/N//R6TqU+OSP\nGn8tcBew19WrMHfgjb/8rXB7Uv7nLBmkHnt/7+RvdvpePbHYOwr4/RNfy7umqJ9LpUCmCSmlFEIU\nU9oUdLoWJT72jZE/YS2Babn3i7k3XHGW+yqHy1KUHmW/N11AaVNKbADvyKbYTggH/QZW4t8ggNYt\nCzeq6UZZ79mikrIvdXK8DGuK2tkA66vM2lfLtRlmit/hiOqyqSBHxBNxrqSOdUAM8JptLdHY4T0q\nwdOm4vozV9RgoWrU0oudnrwA6A/wQVBb72xFSqIEag3GPhs68tHn4WYeW3l0Nvrfl0cRf2ymNtzx\nctOix1oY84z13M8/Hzry+f/7OMLnngnx/VltRz43ZWPsuK/tNN1kWao0apBFzZrND4SAfKQpI3s3\nLHG6IMVRXuCdopKyCzo66AtoJvA6sBs7jXTODn3XvJ363OSV2H2tmpxEaZNK6Uoj4aA/DMzHCsGh\ndevClVKaWR+4IHVtS8WkCcs6O2disXcQKq4/LeW4+YvTNSinpf1mkmvtIbPmcKt50NFqlIQoHuSm\n/O4Cyu8uYO1Pe5PvFXzzIi8A+5tMPtqtc07fzt9zF/4gn/K7C1jz0wIAmiKSdVUGG/+jgBw3bKo2\naNMkr5Rr/OKKnIR/T/FKtWUkWdWshYP+KDALO2gktHXhBjPW1uhsVYrDBgJzikrK+nV00BfQosBT\nWE3+AIBn12iry6uMlFxX1KbJmgG9XI84XYdyWhZi7Qno0hurmvX6g5udLshxLvff4zhLxfWnoagu\nd7v+2PyR03Uo3ecLaA1YKdsDAVYdNNToWob7ZI/B+QNcnNvPaht++2GEv16fR3dvj7kEaAZIKQlr\nEq8bJi+P8csrc/C6U+Nmm2HKFuAdp+s4VlY1a7blWNsL9MLQzci+TZ1usqpkhWJgZlFJmaejg76A\n1oiVEJkH9AZ44NPo3H1NZsrtidWmU0ppU8zpOpTuCwf9tcAK7H3+Wrd+ukSm+JTbRIozrj8PuOGO\nMd7h6bCWVDnK7ULdVEpvC4F8gHe26pt1U+oO16Mk0LTNGrePtkbV3t+ucVahi0uHuTt9jhBw/eth\nxj0f4vm11mVJYa7g5lEeLnuuleEFLvrmCvwHDW61R+xSxJuUNkWcLuJYWdes2fsavQcMAWjd/Em5\nqUVUEpXyFawRtA75Atp+4EmsnxuvbiLvXxid0dAma5JVYFdaY/LggF7iOafrUM7Ih0AOIGKHd9dq\ntfuy9461NJ+LI67/MgG9rlFx/WlFN2XI4xKvOl2Hcka2AWEgt65NRnfWm1udLkhJjJgh8QV0vn2x\nh7Am+fPSKA/8c9f3xpb+qDfldxcw9858nl4dY/Feq5//32tyKb+7gL/fmMe9C62v9eK6GN+ZEeZP\ni51ft+Z2iRecruFEWdes2ZYBbUCeNDQjun9zp2silKzxs6KSsl+f6qAvoG0CpmAFjrjq2mR00tLo\n1IguU2J9WESX/6X2VUt7+4HN2DeTQhvmLZKmkXV3rK24fu+TnZ1jp9J9/cYLPH365YmBSSpN6QGG\nyUuUNqnI9zTmC2gaVtDIYOvvut/ZipREmRvUuXy4i6EFLnbVm+xpkFz6bIiix1o40Cy5/LlWqkIn\nL7E+q4/VYgzp7eKbF3lYdfD4y5P1hwykhOKBLmZs1Xj72/nsajAJ1jl3GRMzZDmlTSkX8JWVzVo4\n6G8DfLRfEG3+ZJ2pRUOdP0vJEn8vKim7uZPj8+2PcwC21ZoNz62JTTdM6WiTVNNqrhz415bO9jJU\n0kA46JdYc+V7AS69qbolVhVc6XBZyWdocyomTegqtOACYMSEUZ4xyShJ6Rm6KSO5HqGCRTKDH3AD\nLN1nVB5sNiucLUdJhKnHTIEcM9TN4f8ppOI31sfIPoJ1P+vNsILj24nWmKQlKo88/miXweghx0+b\nvHdhlAe/nItmgmH3ei4grCX8Wzolj4s/Offqp5aVzZptCVZUdq7Uonr0wFY1uqaA9YtnWlFJ2eiO\nDtqxxVOxRj/OAvhkj7Hvve367OSVeDzNkFpNWH7fqddXelY46K/AWls7DKClfO5SqcfaOn1ShulO\nXP85Kq4/rTRHeZLSpkNO16H0iINAEDtoZO5OXV1HZZjWmOTj3Qb/8tmu15RVtpjc/KY10ai6VXLt\nK61c+myIK19sZcIoDzddcDQW4L3tGp8f4WJEoYt+eYKxw9yMeSZExJBdroVLlKgu97mEmOXIi3ch\nazbF7kj+qPETgG8B+4Q3zzPwa7/+jcub29vpupSUUAGMr5g04XBHBycWewuBe7ACR2oBfn9dzle+\nMNJzbdIqtO2sN5684InQr5L9ukri5I8aPwSYBFQCeuHlt3yh12cuu9HhspJC6tqWvZNv7fBmSTs7\nrv+vpf+Ue8nlw91XJqk05QyFNdmY7xUjKG3KqpsPmWxisXc08Dus35m88o28uwfmu4Y6WpSinIaI\nLv8j70/NKRXZ3y6bR9YAPgU0IEdqET2yZ+18pwtSUkYRMKuopKzDVbS+gNYCPIo1ElcI8PCS2Ce7\n6s1tSasQaGiTVdUh+d/JfE0l8cJB/2HgI+z9/UIb5q3Omm1GXO7JcZx1bZ9cPKOHuC5NeD1Kj6lv\nk/eqRi3jbMW6qdQHYMEeQ42uKWknZsi6PI942ek6TiWrm7Vw0B8CyrCnG4U2zS/XW+oqHC1KSSVX\nAy+d6qAvoFUBj2NNAcmVwH0LI7Nqw2ZSpvhIKTnYYv7smpdbHZzhrSTQXEAHcqWhGW271y50uqBE\nk6bRIFyuqZ2d0x7Xf/to7zAV158+GiNy18g+rqedrkPpWb6AZmIlbA8AmLZZ2xKKySZnq1KU7tFN\nHk3lbY+yulmzLcRKhswHaFlfNkeapkrUU9rdWVRSds+pDvoC2nbgZaz1a+6WGNqDn0anhjXZkujC\n9jfLj0f/I+RL9OsozggH/U3A+9g3k1q3LNhohOr3OVtVgqm4/ozVGpM/p7Qpe9ddZLb1QBOQr5mY\nS/cZK5wuSFHipZuyNd8rnnC6js5kfbMWDvpbgNexN6LVairqoge3Lna2KiXFPFBUUvbtTo4vAeYA\n5wJiT6NsedIfm6qbMmEjXs1R2XSg2bwjUV9fSRkLgRD2zaTmdWW+TI3y705c/00XePqquP70UdNq\nLj7rkZaPnK5DSQw7xt+HHeP/anlsrRpdU9JFROcpSpsSfoP9TGR9s2ZbDWyiPX1t7exlRiSUMpsd\nK44TwGtFJWVXdHTQToh8B+vnaCTAsv3GoWmbtVmJCPAxTCnXVBo/v/ql1toe/+JKSrG3GZnGkZtJ\ne+qi+7d86mxVCWJosysmTajs4qxRwIibVVx/2tBNaRiSnzpdh5JwK4AokBPW0D/cqWf8tG0l/UV1\n2VSQIx50uo6uqGYNCAf9JvAG4AFypKEZrZs/mZ3NSZnKSXoB7xeVlI3s6KAvoBlY69sqsffve3uL\nvu3TvcYnPV3I+irT99jKWKfrepSMsgJrq4hhAM3rZi83ws0ZF30eb1x/sRXXf0HCC1J6RE2rnDJs\nckvA6TqUxPIFtDDWDJNhAG9s1DbWhc0qZ6tSlM41RuSDlDa1Ol1HV1SzZgsH/dXAu8AIgMjeDfu1\n2r1rna1KSTHDgdlFJWUdbu9g/7J6HDCAfgCPrIgt3VZjbOipAg42mwdeWhf7V3s0T8kC9s2k17Fu\nJuViGmbLhrk+KU3T4dJ6jNS1zRWTJizv7Bw7rn/c7WO85wshklSZciYiumztkyt+7XQdStJ8AoSB\nfFMiZ2zVP3a6IEU5lZaoPDC0wPWY03XEQzVrx/sYa5PHAQDNq9+bb2rRkLMlKSlmLPBmUUlZh//v\n+AJaLVakfyHWaBz3L4rOPtRinnEwRESXsQV79NufWRNTP5NZxr6ZNBU7yj9WGaiKVe7InIjs+OP6\n3aOHuMYmvB6lRxxulQ/0/nOzWruUJXwBrQ2Yjj275IOgvntfk7nL2aoUpWOtmvwvSpvSIlBQNWvH\nCAf9GlayX1/AbbY1R1q3LVZpe8qJvoG1YXGHfAFtN/As1oW1J6JjlC6KTm+OyoYzedGl+4zJ/zar\nbemZfA0lrS0CdmFfCDWvee9TMxJK+3WLdlz/tM7OaY/rv2OMd1iOW+QkqTTlDBxqMTee82jLX52u\nQ0m6FUA11nUUr5XHPjLVmhIlxdS3yfXDJrfMcLqOeKlm7QThoH8X1gjbCIC24IpgtGqn39mqlBT0\nP0UlZf9+qoO+gLYamAGcA4hDIRl+ZEV0asyQXcWSd2hjtbH8CX/svtOsVckA4aDfwLqZlAd4pR4z\nWjZ+/H7aT4fsTlz/2Z5xSalJOSNhTUbWHTK+53QdSvL5ApoOvIk9Q2l1pXl4W41Z7mxVinKUKaXU\nTfkzp+voDtWsdWwW0Ix9Z6h55YyPjbZmtVBWOdGzRSVlX+rkeBmwFDgbYN0hs+a1cm1Gd+8y7mkw\n9z+1KnarHWKiZLFw0H8Qa23tWQDR/ZsORPZumO9sVadPSqnHEdfvAm752ihP374qrj8trK00/jzh\nrfA2p+tQHLMJ2I4d5f+EPzY/oss2Z0tSFEt1SL475G8tq52uoztUs9aBcNDfCvwD6A94paEZzavf\nmylNPWH7ZilpyQu8U1RSdn5HB30BzQReA3ZjrzWavUPf9eFOfV68L1AbNpueXxu78/m1MbWVhNLu\nQ2A/9oVQy9rZK7SGyq3OlnSa4ovrvwAYruL608POenPN35bHHnK6DsU5dgDWdKA34DoUkuG5QV3t\ns6c4LhSTTVGDu5yuo7tUs3YK4aA/CMzE3jdLq6moa9u56gNnq1JS0EBgTlFJWb+ODvoCWhR4Cmtj\n4wEAz6zRVpVXGV3e1QlrMvryeu1/H14aXdKTBSvpzV5b+yyQgx1i07R82vtmpLXO0cJOQ7xx/RcN\ncuWe3UfF9ae6pohsWbZPv82+UaVkMXvt9mLsJSWvlGvllS1mhaNFKVkvUGv+ruixlrQLPVLNWufm\nAVuxR0VCm+aXx2r2rne2JCUFXQTMKCop83R00BfQGoHHsC6sewM88Gl07v5OUrIMU5pTN2lPL91n\nvJiIgpX0Zk+HfB7rvcltRkKx5jXvTU+n0X87rn9FZ+dMLPYOBsZ9b7SK6091hinNxXv1X/7gvba9\nTteipIyZWBtl5wM8tSo2Wzel7mxJSrba02AuH/d8KC2vqVSz1olw0K8DL2Ltm1UA0LTsrTIjVH/G\nMexKxrkeOOXaG19A228fHwJ4dRN538LojMaI7DDNb84O3fd+QP+DukOtdGINMBd7TWSseldNOLAi\nfdJrVVx/Rll5wHjnhXXa607XoaQOX0BrBt4AhgJsPmzWL6owFjhblZKNwpoMB+qM252u43SpZq0L\n4aC/DmvK0WDAIw3NaFw2dboZa0u7YVQl4e4uKin71akO+gLaRqyUrLMBV12bjD68JPpWRJfhY89b\nvFdf9dJ67S5fQIskuF4ljYWDfol15zoIDANo3bpwc6x61ypHC4uDNI164XJN7eyc9rj+O8d4h6u4\n/tS2q97c9ZdlsR/Za5UU5VirgI3Y71FPrYqtrA6ZB5wtSck2gVqz9KYp4bQdaFHNWhzCQf9Gjolh\nN0J14eY1vqnpNOVISZpHikrKvtbJ8Y+B+Vg/S2yrNRueXxubbpjSAFi+X98yeXnsO76AVp+EWpU0\nd8z6NR1rI3YaV0z/UA/Vp/ZUNCuuP9bFWZcLyLtaxfWntOaobJ2zQ/uWL6C1Ol2Lknrs2SGvY11v\n5pkS+eSq2HuaIbv6/19ResTeRnPd/Yui8czkSFmqWYvfB8By2qccHQpUt25d/K7a61E5gRuYVlRS\ndklHB+07z1OBLdjx6/N3G/ve3abPXVNpBP+2LPZ9X0BL7QttJaXYo/9PA4MAL4ZuNi5+barR1lLt\ncGkd6kZc/9ftuP4BSSpN6aaoLrV3t2m/+fW8yAana1FSly+g1QBvYa//31ht1s3ars9xtiolGzRG\nZPPKA8a/pPuov2rW4hQO+k3gVWAv9vzrcGDp9kjF+rhj2JWs0QcrIXJwRwd9Aa19NKQe+wL7jY1a\nwwOfRn88a7u2Lol1KhkiHPRvw4rKPhtwmW0t0calU6aY0XCDw6WdzNB8FZMmHOriLBXXn+IMU5pT\nNmr/eHeb/rLTtShpYTHWTcrhAFM2aps2VRvq952SMLopzfm79V99d2Y47W+Aq2atG8JBfwQrhl0D\n+gG0rJvjjxzYutjRwpRUVAS8V1RSltvRQV9AawEexRqJOxd4wxfQ1M+RcibmAQuwfp6E0VwTalrx\n9humFk2p6WnCkxPPdBQV15/CpJRM3azNfj+g36NCkJR42D8nL2JdPxUCPLQkOre+zUzJGQBK+luy\n13j79Q2ZEXqkmrVusqccPYaVDlkA0OyfuTCaBov6laS7GnjpVAd9Aa0KmAw8g7WOTVFOmz36PwVY\njT1dW6vb19C85r0p0tCijhZnk7q2Kd64/ttHey9Qcf2pac4OffHbW/Sf+AJayOlalPRhr8X+B9aM\nEk9YQ39kRWyGWr+m9LRArbH90ZWxu9J9+mM71aydhnDQvxtrVGQg7ZvSLn1zrlZ3YKOjhSmp6M6i\nkrJ7TnXQF9B2+QLaskx5Q1GcZW838gIQAEYCxCoDVS3l86ZK03B+f6P44vqv65uL+5IhrksTXo/S\nbUv26hteWKf9m70OSVG6xRfQtgKzsN+f1Po1pafVt8nmWdv1b/kCWrjrs9ODatZOUzjo34K1qH8Y\nkAvQsPi197XGqoCjhSmpKCVGNZTsEA76o1jvTZXYcdmRivV7W7cumikdTESy4/qndXaOHdf/1TtU\nXH9KKq8ydj66MvY9X0BL2whsJSXMAbZxzPq19YcMNTtJOWOaIY15O7Vfl8yPbHW6lp6kmrUzEA76\n12BNczsL8GIaZsOil9/WGg5tc7g0JUWYsbb7KyZN+JvTdSjZJRz0h7BG/5ux9ogkHFgWaN2yYLpj\nI2xSPqPi+tPXznrj4F+XRf/13W3adqdrUdKbL6C1zwA4sn7twcXReRWN5g5HC1PSmpSSOTv056Zt\n1l9zupaeppq1MxQO+hdjRdKeDXgwdLNh4UsztPoDmxwuTXGQlJJwcOXq2tl/e9XpWpTsFA76G4C/\nAwYwAKyGrWX9B1OkoSd1tNeK6/c83dk57XH9N6u4/pRT2WLWTV4e+9lbmzS/07UomeGY9WsDgRzd\nRN6zIDKzptXsKilWUTo0f7ex8JVy7XeZuKxENWs940OObprtRZqyYdErs2KH96xxuC7FAdI0zdbN\nC5aENn50dzjoV9OFFMeEg/5q4G+AwFrUT6Ri/d7mVe++auqx5KVExhfXPwoY/rVRns8loyQlPrVh\ns+mRFbH/qWyRHzhdi5JZ7PVrr2OtX3M3R9H++Gn0rVBMNjlcmpJm1lQaW59cFbvTF9DanK4lEVSz\n1gPCQb/EmoM9FWuELQcpZeOSN8qiB7cvcbY6JZmkoWst6+d8Et6x7LfhoF/tIaM4Lhz07wceAiLY\na9iildurmpZNfdmMtSXlokh4cuKZCnzDZ624/vMTXpASl31N5uF7F0Tv2VFnvpaJd6uVlLAQ+AB7\ny5F9TTI0eXn0zZgh1VpvJS7ba419j6yIftsX0DJ2VFY1az3EbtjmYW2cPRLIA2ha+faC8M5Vc6Q0\n1V40GU7qsUiT/525kYry34aD/rVO16Mo7cJBfxXwZ6AWGAGg1e6tb1z8xktGJJTQVD+pxzZWTJqw\nsrNz7Lj+y7+n4vpTxrYaY2/J/Mjkgy3yObWXmpIo9k2AGcBK7C1H1h0ya15cp003TKl+7pRO7W8y\nax5ZEfvhW5u0jAoUOZFq1npQOOiX4aB/Ada+WcOB3gChDfPWhsrnTZG6FnG0QCVhzEhrU+Oyt96N\nHQr81k4KVZSUEg7664G/APuwL4r0pqqWhoUvv2K0NuxP2Au7PHHH9Y9Wcf0pYcV+ffvvP4k+Gorx\npC+gaU7Xo2Q2X0AzgJeB3dgJkfN26numbdZmmlI1bErHqkNmwyMror+pCslFTteSaKpZS4Bw0L8C\na2F/P+yF/W271+xpXD71RTPaWu9ocUqP0xqr9tcveGGKVrvvd/YefIqSksJBfwvWe9NmoAgQZrix\nrf7jZ1+LHd69uqdfz47rn97ZOcfE9Q/zqrh+R1lpatq6h5fGHjYkT/sC6gajkhz2z9qTWAm2gwCm\nb9G3vbVJm6lG2JQTVYXM+j8tjt6zq0FOPZ0p2kKIUiHE74QQDwghru/G84qEEJu7+3pnSjVrCRIO\n+jcCD2IlsQ0H0Goq6uoXvPiC3lK3x9HilB4T2bdxQ8OCF14325rvCwf9GTtfWskc4aC/DWsftuVY\nDZtbGprRuGTKB63bl86SptFzIyndiOu/5hwV1+8kw5TGaxu0pc+v1e4H3rDj1RUlaXwBrQl4BJBY\nKZG8vUXf9uYmbYZq2JR2h1rMuvsXRv+yt0k+f6ZraaWU90kp5/dUbYmimrUEspMAHwD2Yy+eNcNN\nkfr5z06JHty+xMkNapUzIw1da9nw4afNq997CSkftqeYKUpaCAf9Maw9In1Y7029AVq3LNjYtGJ6\nj8wAsOP6n+rsnPa4/gkXevr1yVVx/U6JGTL2uD/2ybvb9P/nC2hzVJiI4hQ7JOIv9l8HAszcqm+f\nslF7WzVsSmWLWXvfwujkQyH5WHdvKAkh/iCE2CGEWAoU2597VQhxm/14nBDiUyHEWiHEh0KI4cd8\nfoMQYgPwi57+nuKhmrUEs/c6+huwAvgM4ME0zKaVby8Ilc+dYmrR5MVnKz3CaGuubVw6ZW7bTv8j\nwD/CQb/6b6iknXDQb4SD/new7mT3wd48O1a183D9/Oef1xoObTujFzC09ysmTajq4iwrrv8Cz5gz\nei3ltIVisvVPi6NzFlUY/+0LaEudrkdRfAHtADDJ/utAgHe26QG7YTOcq0xx0oFms+beBdG/VrfK\nR3wBrasZG8cRQowDvgeMBW4GrjjhuBdrGu5tUspxWGsoH7IPvwL8Ukrp2Jpq1awlQTjojwIvAtOx\nFvb3BWjbvWZ3w8KXntGba3Y5WZ8SHyklkYPbNtR9+PT7Wu2++8JBvy8c9KtfHEpaCwf95cD9QD3W\nXpHCjLREGxa88HZbRfnHp5tk2524/pEqrt8R+5rMg/9vfuTt8irzv30BLenrMBTlVHwB7SAdNGyv\nlGvTNEN260JdSX/7mszq+xZGH64Jy8e626jZrgNmSSnDUspmrFklxyoGRgMfCyHKgXuAkUKIfkA/\nKeVi+7w3Tvd7OBOqWUuScNBvhoP+MqxO3QWcBQijpba1/uNnprTt3TBfmqa68E9RphZpaVnz3rzm\nlTPmYWj3hYP+DU7XpCg9xY72fwhYhjUDIBegZa1vefOqd18y2pqru/P1pK5trJg0wd/ZOe1x/beP\nUXH9yWaY0vggqPl/NTfy5t4m+f98Aa3C6ZoU5UR2w/Yw1hq2Qdbn9J1/Wx57pTUmWxwtTkmaDVXG\n7v/7OPJQbVg+lcB0WgFskVKOtT/GSClvSNBrdZtq1pIsHPTvAO7laBpbDkDLmveXNS1769mERmgr\np0WrOxCo/+gfH0T2bZoG/DEc9Fc6XZOi9LRw0B/BmvrxEjAU6A8QPbC1sm7ek89H9m38RJpGfGsE\n3J54RtW+2DcX9yWDVVx/MtW3yZr7F0U/eHaNNtuU/NkX0LrViCtKMvkCWiXWCJuB9b7EygNG1e8/\nibxQFza7mmatpLkPd+rl9y6M/rVV45kzbNQWA7cKIXoJIQqBW044HgAGCyGuAmtapBDiEillI9Ao\nhLjWPu/OM6jhtAmVceGM/FHjXcA/Y/2HD2NtVgtAwdibr+hVNPZ64faoGGsHmbG2ptZZjcGJAAAS\nO0lEQVQtC/1tu9fsBJ4HNtqbnytKRssfNf4zwN3AEOAgoAN4BxcNLLz867d4Cgace6rnStOoEy73\niM5SICcWe3sBj/78Cu/5N13gjTs2WTl9Ukr8B43yR1bENkd0ZgBz1R5qSrqwR+J/g9WwHQDom0vO\ng1/Ou62on2uUo8UpPU43pf76Bm3Fe9v1F4CpPZFOK4T4A/AD4DDWfqPrsKY+zpFSzhRCjAWewFqq\n5AEek1K+YK93exlrhPcj4GYp5egzradbtatmzVn5o8afC9yFlch2EIgBePoN79Pn89/4uqfvEPUm\nlGRSmmb04HZ/y7rZe6QWXQW8Fg76G52uS1GSKX/U+FyshdgTsW4o1bQfK7j0pnG9PnPZV4Xbm3vi\n86ShP7T3b9+4p7OvPbHYe41LcNfr3+x1a59c0b+na1eO1xqTLS+siy1bsMfYDDzrC2hqnbSSdiYW\ne3tj3UQag3WxbXpciHu/mHvTZcPdVzpbndJTwpoMP7oi9qn/oPEoMF+l06pmLSXkjxrvBb4MfBvQ\ngCPTUvIvvOrC/FFXf9WV13uQU/VlE72lbm/L2tmrtbp9tcBUYGk46FdxwUrWyh81/hzg37GmbVfS\nfkOp79DCwnG33OTtP+Li9nOlNHUhXGd3lgJpx/X/+ZYLPcU/GZdza2KrVwK1xo4/L4mtb4jIucAM\nX0ALO12TopyuicVeL3A7cD3WtkgawI8v915+8yjP1zwu4XGyPuXMHG41ax5aHP1kT6N82BfQNjpd\nT6pQzVoKyR81fhjwQ+CzQBXQBoDL7Sr43A2X55176T+5PDm9naswc5mRUG3rjhX+tuCKOmAJMFON\npimKJX/UeA/WDaXvYE2JPNKM5Z49ZmTvi7/0VU/BgHOkHpu5d/I3v93Z15pY7C0GSp6+Oe+6s/u6\nVApkgkR1GZmxVVv59hZ9K/Y0bnWHWskEE4u9ArgBuAPr5nYY4PMjXEN+eWXubf17icFO1qecnpUH\n9E2PrIgtiuhM9gW0fU7Xk0pUs5Zi7LVsV2PdOeoFHMK+c+TKK8gpHHvztTnDR10lXG5196gHmLG2\nprbda5e0bl1UjzQrgVfDQX/A6boUJRXljxo/FPg+1jz/WqA9kW1o74u/RO/PfunZikkTOk1KnVjs\n/eXFg11XP/yV3O+pFMieZ5jSXF9lrnt6VWxnXZv0A6/5AlqD03UpSk+bWOwdhzUtMoq97r8gB8/v\nr8v92ugh7ssdLU6JW0SX4ZfXa8vn7dSXAk/6Alq90zWlGtWspaj8UeN7AzcCE7BSkKoAE8BdOKh3\nweivXJUz9PzPC7fnpDUjStdMLdoa2bdpaWjTR4cw9BgwC1gQDvrV/i2K0gn7htLlWDeUBmDd2R4K\nPGyn3Z7SxGLvEOAvD/xz7iVjh7mv6Oxcpfv2NJiBZ9bE1m+vNVuBKcBiX0BT07iVjDWx2DsC+A9g\nJNa0SBPgjjHeS/7ls55bctxCXSOlsP1N5r6HlkRXVbZIH9Y07YjTNaUi1ayluPxR4wcDtwLXcHSR\nvwRw9eqTVzDm+itzh184Xnhy8h0sM22YkVBtZP9mf+vWRYelHjOBecBH4aC/2enaFCWd5I8anwNc\nC9wG1AH3dZWWOrHY+61+eXzjpYm9vut1C5V220NqWs3KtzZpKz7ZY7QCG7DS0w45XZeiJMPEYm8u\n1vvQjVg3j1oBLhrk6vdfV+X8y7AC19lO1qeczJTSnL/bWPOP1bF1puR5oFxN0z411aylCTtK+zbg\nEiCC9YYkAUROL2/BJV++PPesi65w5fYe6GCZKUtvqd3Ttnvtyrad/hasve0WAmXhoL/O4dIUJa3Z\nswBEOOgPdXZee1x/rpvGH471jv5Skee6ghzRJzlVZqa6sFn9fkBf9t52vQUr/OVNYKu66FGyjb2O\nbSzwU/tT1WDtdPyTcd5xXz3Pc32uR+Q5VZ9y1KEWc/+Tq2LrNx82VwIv+AJabZdPynKqWUsj+aPG\nC6yI/wnA5zmaHGm0n5NXdNm5vYouG+fpP/yz2b6uTepaRKs/sDkcXLkhVhUUWO/by4APwkG/uuus\nKEk0sdh7DfBjYC9Angf39y/1XvZPRZ5rC3JEX2erSy8NbbKmLKgtnbFFb5RWENU0YEVP7EWkKOnM\n3o/tp8CFHLMd0tl9RO9ffyHnpgsHupO6P5ZyVFSXbbN36Mve2KBVSngH+EC9Z8VHNWtpKn/U+BFY\nQ/7XYY2w1dKeHgm48vv16n3RtZfmDBs11t2rcKhDZSadlKZpNNfsjBzctqEtuPKg1GP9sEYiPwQW\nh4N+tXBVURwwsdh7NdaekhJrDa4OVtP2b5/zjr36bPcVA/NdWfNe1V2mlGZFo9yxYI++cc4OPWRK\ndMAHLPIFtFan61OUVGHH+38FazbScem1t1zoOf+7o70T1P6OybXlsPH/27vX3jiu+47jvzOzs1ru\nklyS4k2XcCnHFCXrFilOVSOQEyBpECAIgwRonrRoEPRpX0tfQYEAbdGiQB4RcFDXtd02Sm3Wt9Sy\n5FKURYmURIm35W2X5M7OnD44s+LKVSTVtrRD6vsBBruklovRk8H5nfM///PxX79Tu7xQtbck/c34\nZPjI/c14EGFtl8uPnN8v6Y/l2th2yu1rW1RSIilJQW+pp2347EtBX+m4ny8ebM2dPj3WWhtVyrPh\nwo0r1avvfBptLBXkSh2X5AYz71WnJjYf/S0Anrax0WC/3LPqe3Ir3XNKQpskvXLYH/zhi5mzx/u8\nU7mMaWvRbabK2rZd/uBO9NGvr4SfzK7ZDrlKitckvTU+Ga4/5s+B51bS0OjPJZ2RNK9kL1t7Vpm/\n+qPshW8d9F8JfBO08h73uuVNO/+rj2rv/vvNaFGukdsb45Phdqvva7chrO0RyTlIx+QGQWeSX69I\neqBxRqb7YLHtyLnjQW/pqF/oHjKe5z/jW/1K2Cjcqq8tfBYu3Li2ef3Dq1FlOSepQ27g965cueNU\ndWoieuQXAXjmktD2J3IH23pyEyv3V4dyGfk/Gc0c/fZQ5uxQ0bzoPWc9/qPYRteW4ytvTkcfvn6t\nvmrdRNy2pDck/ev4ZLja4lsEdoVkL9s3Jf1CUl5ub2ckudLIvzyXvXBmwHvZ98yuHAul1dq2XX7t\nav2df7ocLsVWlyT9/fhkePexf4iHIqztQclq2zlJr0o6lPx6TdKqmlbcTLAvk/vaqaGg/8hwpjhQ\n8vNdh9Ia3uJweyOqLN+qr9ybDRemZ7ZmL9+RjbvkApqVdFXSW5I+qU5NVFt6swCeyNho0C23//YH\nknrl9uHOq2m1rVQ07T89Hpw5d8D/RlfO9LbmTp+N5U07/1+3ow9/fSX8n/mK7ZDkS7om6V8kXaKt\nNfDFjI0G7XKdtb8ntzViXsl4aKTHK/7ybPCdl/q8bzxvE0NftY2aXX3js/rFv/s4nK/Hqkj6W0nv\n0/ToyyGs7XFJ6/+Tci22X0h+vSm36vbAmWImk/Wzgy8OBD2HB/zOvgG/0D3o5zoGTCZ4Zh2UrLWy\n4fZavLWxGG2uLtTLc7drc1dnw+VbK5L2yZ3rFMg9ZCclvSPp0+rUBN2EgF1qbDTwJB2RO6Lk23Jl\nzOuSymqaYPpOyT/83eHMiVKXGe5pMwO7fWAVRrZ2Z93OXFuOp9+9FV2fuB3VJRXkVhnfkmsaQjMk\n4CsyNhoMS/qZXAXSupLDtCXp9IC3/y/OBN8d6fFO7vJHyzNXDe3G29P1i7/6fThXixTJHYv0+vhk\n+MguwXgyhLXnSH7kfI+kEbn2tqcl5eT2jWzJrbw9dNY203WgM9N9sMcvdHX6bZ1FL9fe6e0rFE22\nrdNkgjZj/Kx8P2uM5z3uHmwUbtmwVonr2xUbbm3Y2lYlrlU3okq5XF+5u1hbuLloa9Uwua92ufIf\nL/l5Q9J7kj6WdK06NcGmemCPGRsNcnITTN+XNCp3yO2S3H7c+3rzJndhyB860e+XhrtMqTdvDnjG\nPPYZ1Er12Nbvbdhbn5Xj6Q/uRNMXZ6LbYaycpP1yz7lPJL0p136/9sgvA/CFJKWRL0r6U7mukaty\nE0OSpBN9Xs/PTwTnT/Z7Z9nT9miL1fjuxZno/X+4FC5u1RXLlWq/Pj4Zlh/3t3hyhLXnVH7kvCdp\nUNKQ3MDomNyqlZULRnW5cLQpV5r0WMYPfLMvH3jZtqwk2age2SiMbFSPVa9FNgoftn/MyK2Y5ZPL\na7qHWUmX5MqAZiUtP+7QXQB7R9Ig4GW54FaUey5U5AZXD7R8Lu5T9kIp87VT/V7pSLc33Jc3B1u9\nDyWKbbRYtXPXy/H0R3fj6f+4WZ+thvIldck99yQ3SHxb0sT4ZLjQspsFnjNJaHtJ0s/ljkVaSS5J\nbkLoz04F5751yH+Z7pE7GntqfzNVf//tG1FdUkbSv8m14qfK6SkgrOG+/Mj5NkkDyTUsN/M0KLfC\nFWsnRJnk5+hzV+MzjZUwr+nzgVxpk226Gv+2JBfGbsh1h1uUNFedmmB/BgCNjQa+pMNypdyn5QZY\nGbnnR1UuvD0wqdSeVeZkv997qMMUB9pNcX+bV+zKqdi5zxQ79pmutozav2ypk7VWm3Wtr27Z8sqW\nXVnatOX5ii3fWovL0+V45XrZrln37OuS1OhuuSHpv+UqBKYlLbGfA2idpAz7tKSfyk1gb8vtaYsl\n95D50dHM17//QublUtGMtHoSqFUqNbv2wVz0wT9eCi/fXrcFuXHc7yS9Nj4Z3mvx7e1phDU8Vn7k\nfFauHLHY9NohtxLW9rlLcjPekdzgKUzer8mFsnW5wUolucrVqQnKfQA8sSS8HZSbVDoj6YTcZJAn\nF9425AZc8R/6jlxG/pEur3Oo6BUH202xkDU538h4Rp7vyfOMPM/I1GNFYaQojG29HiuqRaqvbNnq\nzGq8cnUpXqmGD6zwBXLPwVxyKbmPjyX9Xi6c3SOcAenTVB75A7kV/VgutN1vNd+bN7kfH80cO3fA\nP3G407zge+kuvf6yqqFdn1yMP704U7/y5nS0Hlt1yI3n/lnSu5Q7PhuENQDArpbMjA/KhbfTcs1K\nGvvAYu2s9Edye3O3k9cnKvFu4msniLU1fb+S9xVJ9+Tag3+WXHPjkw8tAQeQUmOjQZ+kV+SCW6Pp\nz7KaJoD6Cyb3o5HMsW8e9E8c6tg7wa1Ss2uTS/Gnv71Zv/LWdHTPuk69GUlTkn4j6fL4ZPj/fXbi\nSyCsAQD2nCTAFeQqARpXv1yoG5AbgDRKeR7FNL02jhaYk3RbLpityO07K3PYK7C3jI0GWbmV+1cl\nnZKbsHlocHu15A+f7PeHS0VT6t5F3WqTxkez15bj6ffuRNd/ezNaTAKaL1epcDG5blMV0BqENQDA\ncykZiDW64npNl9HOXtx60/uQwQrwfBobDQqSjssdL3JaO6vpZSUHbTf0F0zuwpBfOtnvDw8VTamn\nzfSnZa/bVt1u3t2ws9fL8cwn89Hs72ai25t1BXIBrfF/uijpQ0nXqQxoPcIaAAAA8IQ+F9yaGx49\ntFttxpN5qc/rObrf6xsqen0H2k1fb970FXOmN+OZzNO4x0rNrpW37OJCxS7eWY8XbqzYxSsL0cLs\nmq3I7fEtaqfXwJqk/5QLaNMEtHQhrAEAAABfwNhokJHrVntE7hzbY3LhzZPbG1uRKyf8Pw2PjKTB\ndpMfbDf5voIpdOdMobvNFDr3mXx71hSyvhrnvDXXVBpjpHqsqFKz1Y2aqmvbtrq6bavLm7a6WLXV\n2dV4Y3VbjeZtgVxDuEJyX0ru6bJ2Gh/NUzWQXoQ1AAAA4CuQhLeDcuHt63KNjw5o5xxZXzuNjkJJ\nNbmVuC86IPfkAlnjiKTGmbVx8ropdzzStNy5tTOSFglnuwdhDQAAAHhKkuNGuiX1JdeR5LVLrhyx\nkHz0Dx438hDNXW7X5UoZy3Jn1t6RtCB3bu0GwWx3I6wBAAAALZJ0r81rp1zxfvlj08ca7yO5ssrG\nVSOM7W2ENQAAAABIoT1xgB8AAAAA7DWENQAAAABIIcIaAAAAAKQQYQ0AAAAAUoiwBgAAAAApRFgD\nAAAAgBQirAEAAABAChHWAAAAACCFCGsAAAAAkEKENQAAAABIIcIaAAAAAKQQYQ0AAAAAUoiwBgAA\nAAApRFgDAAAAgBQirAEAAABAChHWAAAAACCFCGsAAAAAkEKENQAAAABIIcIaAAAAAKQQYQ0AAAAA\nUoiwBgAAAAApRFgDAAAAgBQirAEAAABAChHWAAAAACCFCGsAAAAAkEKENQAAAABIof8F7DBJuhlt\niS4AAAAASUVORK5CYII=\n",
      "text/plain": [
       "<matplotlib.figure.Figure at 0x19abdac4e48>"
>>>>>>> 5b8da627f3dde85c6b0a7a12d0b5e00d03bdfe9b
      ]
     },
     "metadata": {},
     "output_type": "display_data"
    }
   ],
   "source": [
    "f, axes = plt.subplots(1,3, figsize=(15,5))\n",
    "for ax, col in zip(axes, survivors_by_class.columns):\n",
    "    survivors_by_class[col].plot(kind='pie',explode = (0, 0.1),startangle=90, shadow = True,autopct = '%1.1f%%',title=str(col)+\"° class\",  ax=ax, fontsize=10)\n",
    "f.suptitle('Proportion of passengers that surived per travel class', fontsize=16)\n",
    "plt.show()"
   ]
  },
  {
   "cell_type": "markdown",
   "metadata": {},
   "source": [
    "- ### Calculate the proportion of the passengers that survived by travel class and sex. Present your results in a single histogram."
   ]
  },
  {
   "cell_type": "code",
<<<<<<< HEAD
   "execution_count": 33,
=======
   "execution_count": 127,
>>>>>>> 5b8da627f3dde85c6b0a7a12d0b5e00d03bdfe9b
   "metadata": {},
   "outputs": [
    {
     "data": {
      "text/html": [
       "<div>\n",
       "<style>\n",
       "    .dataframe thead tr:only-child th {\n",
       "        text-align: right;\n",
       "    }\n",
       "\n",
       "    .dataframe thead th {\n",
       "        text-align: left;\n",
       "    }\n",
       "\n",
       "    .dataframe tbody tr th {\n",
       "        vertical-align: top;\n",
       "    }\n",
       "</style>\n",
       "<table border=\"1\" class=\"dataframe\">\n",
       "  <thead>\n",
       "    <tr style=\"text-align: right;\">\n",
       "      <th></th>\n",
       "      <th>pclass</th>\n",
       "      <th>sex</th>\n",
       "      <th>survived</th>\n",
       "    </tr>\n",
       "  </thead>\n",
       "  <tbody>\n",
       "    <tr>\n",
       "      <th>0</th>\n",
       "      <td>1</td>\n",
       "      <td>female</td>\n",
       "      <td>96.527778</td>\n",
       "    </tr>\n",
       "    <tr>\n",
       "      <th>1</th>\n",
       "      <td>1</td>\n",
       "      <td>male</td>\n",
       "      <td>34.078212</td>\n",
       "    </tr>\n",
       "    <tr>\n",
       "      <th>2</th>\n",
       "      <td>2</td>\n",
       "      <td>female</td>\n",
       "      <td>88.679245</td>\n",
       "    </tr>\n",
       "    <tr>\n",
       "      <th>3</th>\n",
       "      <td>2</td>\n",
       "      <td>male</td>\n",
       "      <td>14.619883</td>\n",
       "    </tr>\n",
       "    <tr>\n",
       "      <th>4</th>\n",
       "      <td>3</td>\n",
       "      <td>female</td>\n",
       "      <td>49.074074</td>\n",
       "    </tr>\n",
       "    <tr>\n",
       "      <th>5</th>\n",
       "      <td>3</td>\n",
       "      <td>male</td>\n",
       "      <td>15.212982</td>\n",
       "    </tr>\n",
       "  </tbody>\n",
       "</table>\n",
       "</div>"
      ],
      "text/plain": [
       "  pclass     sex   survived\n",
       "0      1  female  96.527778\n",
       "1      1    male  34.078212\n",
       "2      2  female  88.679245\n",
       "3      2    male  14.619883\n",
       "4      3  female  49.074074\n",
       "5      3    male  15.212982"
      ]
     },
<<<<<<< HEAD
     "execution_count": 33,
=======
     "execution_count": 127,
>>>>>>> 5b8da627f3dde85c6b0a7a12d0b5e00d03bdfe9b
     "metadata": {},
     "output_type": "execute_result"
    }
   ],
   "source": [
    "survivor_by_travel_and_sex = passengers[['pclass','sex','survived']].groupby(['pclass','sex']).mean().reset_index()\n",
    "survivor_by_travel_and_sex['survived'] = survivor_by_travel_and_sex['survived']*100\n",
    "survivor_by_travel_and_sex"
   ]
  },
  {
   "cell_type": "code",
<<<<<<< HEAD
   "execution_count": 34,
=======
   "execution_count": 128,
>>>>>>> 5b8da627f3dde85c6b0a7a12d0b5e00d03bdfe9b
   "metadata": {},
   "outputs": [
    {
     "data": {
<<<<<<< HEAD
      "image/png": "iVBORw0KGgoAAAANSUhEUgAAAiUAAAEjCAYAAADt3HFrAAAABHNCSVQICAgIfAhkiAAAAAlwSFlz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\nRK5CYII=\n",
      "text/plain": [
       "<matplotlib.figure.Figure at 0x1123a6e80>"
=======
      "image/png": "iVBORw0KGgoAAAANSUhEUgAAAiUAAAEjCAYAAADt3HFrAAAABHNCSVQICAgIfAhkiAAAAAlwSFlz\nAAALEgAACxIB0t1+/AAAIABJREFUeJzt3Xu8FWXZ//HPF1DxgGciEgueRExFIhE10xA1PJVmppb6\nQFpqB5V+Zp4PeSgrsqcsj+kDKuUhNUx9TEVJTQRRVFDwjIiiIAQKCoFcvz/u2bhYrL33Wpu99wyb\n7/v1Wq+9Z9bMPdecr7nvmVmKCMzMzMzy1i7vAMzMzMzASYmZmZkVhJMSMzMzKwQnJWZmZlYITkrM\nzMysEJyUmJmZWSGskUmJpI0lnS/pCxW+GyNpTA5hVUXSVyVNkrRIUkjauJ7hhkg6pp7+IWmrlo/W\n8iKpe7aN/1eF76ZJurEZpzVU0iHNVV5rkTRc0rQcphuSzm9kmBbfTyUdLOn/tVT5zUXSgGxZDGiG\nsqZJGr7qUa1eqtnmimKNTEqAjYHzgJWSEuAH2adwJHUARgJvAl8BdgXer2fwIcBKSYmtMbqTtvGV\nkpIWMBRY7ZIS4ELg63kHkaODgcInJbZm6dCShUtaJyIWt+Q0aiVpnYa+j4jnWyuWJtgC6ATcEhEP\n5x2Mtawi7j9FJknAWhHxn2qGj4hXWjikNsPborWaiGjwA5wPBNAbeAj4AJgJXAC0KxluQDbcIcA1\nwGxgXsn3+wJjgQ+B+cDfgF5l0xoDPAocBEwGFgNTgcMqxFVLeV8FJmbl/TiLs/wzpGScMWXl9ALu\nAOZl03sc2Lee5dQTuBtYALwOnFu6nBpYzl2B64F3szifBY6qUH7pZ0w9ZY2pb1hSDUoAu5BqXd4D\n3gJ+D3QsK2c94JfAa8B/sr9nNTY/pKv0INU4XQrMyrabu4DuZcMeATyYbS8LsvU0uEKZJwNTsuX/\nb2AC8PWS7wcBj2XbwgLgBeDcsjL6AHdm438I/AvYvWyY4cAMoC/wSBb3S8AJFWLaO4t3EfAy8N1s\n/Gm1Lkca2H+ArUnb36xsWtOBW4EO9Sz/urLKPwOy76cBN2bLfgqwMFueXyorZyfgr9ny+DBbpj8H\n1i0ZZlqF6QxvYNv4JDAi2+YWk44ldwGfKIt9QNl4Q7L+3cumfSOpRnAqsAQ4HJgLXFph2odlZfQt\nWdfTsv/XqXa8rN+XgdGkmsqFwD+A7cvGaw9clM3jB6T9crusrPMb2Yfq5ncP0rFtATAH+GPd8s9i\nng38toHxt6mn/OEV1lvdsqhbB5W2xa2AG0jb8IfAq8AVwCYlZZ9K2s43qzDd54FRTdw3BjS0zErW\ny/2k48BC4Bng2LJtZnhJd2fgKuDFbB29AfwZ2KKs3Ab3QWAD4LKs/+JsuAfqW/5NOP5Fti2dlC2j\n94F/Ats14zbX4L5Zw/q6gXSu/ExJv09l83hro+uwipV8fjZDr2QT/wrwm/KZLNlw3gT+REoaDs6+\n2xf4KNtYvgZ8m3QQn1268rMF+DbpZP4d4IBsoSwD9iwZrpbyZmUL7pgsxj6kKtsgHWB3yT6dS8YZ\nU2FhvgocRUpw7s2mv1+F5TQZOIV0wvpd1u87jSzj9Uk7xWzgOGA/UsIQwHHZMN2AQ7N+F2Yxb1tP\nedsCT5F2yF1Kh+Xjg9VLpMRyb+CcbH5+VlJGB9JJeQ6pen6vbP0vAn7TyPx0z6bxBvD3bD1+h7SR\nv0i6mq0b9izSjrZvFssFpJPLCSXDHAksJSV4ewL7A6eTHWxITRSLs2W2LzAQOB74ZUkZXyAdpB7N\nluP+pARlMbBj2cH6PdLJ+nhgH9JBKlhxG9w2G/cRUjX4YcAk0kFpWq3LkYb3n5eA8cA3SAfdb5NO\nxmvXs/w3JCWEAZxYsg1sWHJgfh14IlsWB5IOhvOAjUvKOZTUBHRQNt0fkPbPm0qG6Zut13tLpvPZ\nBraN+7Nt4EjSCfebwJVkyQa1JyVvkva5b2XL9rNZeTOB9mVl/B2YVLauS9dVteMdQNoeR2XL5iBS\nQvxvYMuS4S4kHbuGkY6bZ5KOo7UkJdNLxj+bdCIoPan+Ktu2yi8oxlLPRUv2/WdJF0+zStZbXbJW\ntw4qbYt7kE5Kh2TbxJBsfY4tKXsL0vHkB2XT3DEr9xtN3DcGNLLMDsrWyz9JJ/u9SRczF5RtM6XL\nrxcpmTgsm58jSPvFtNJlSiP7ICl5ewc4NltGX8/W2y6NxNzo8S8bLrKY/kE65x1KOq+9TMnFySpu\nc43tm9Wur07ZNB8lJUntSAn865QcX+qNo9EBPj7Znl7W/xpStrZx2YZzR4UyJmQrtXTh9cgW/qUl\n/cZkZexS0q896SrokSaWtwz4fFk83bPpfLdCrGNYMSkZRtrQtyqL6QXgqQrL6Ttl5U0C7mtkGf+I\nygfiB0gHjfZZ91aU1Oo0UuYY4NEK/YdkZfysrP9dwIsl3Udnw+1RYSf6DyXZc4Vp1C3f51kxg94t\n639sPeO1I2341wDPlPT/Q+myrjBeXbK2YQPDjCYlGmuX9Guf9ftbSb/hrJyArEPaEa8u6fdnUhK5\nXkm/rqQddFqty5F69h9g86z/1xpb52Xj1ZW3d4XvppFOoKVXt/2y4b9dT3nK1s1RpH1qs7Lybqwy\nrgXASVXEXb4v1G233cum+wHwybJh67azQSX9OpOODz8tW9fTmjDey8DosmluSKrl/J+se5NsXq8s\nG+40aktKysc/i3TC3zrr/q+s++iSYXbIxj2ikWkMB2Y0sA5WOpZXGLYD8CVWrkm6n5JEJev3P9l2\nt04T940BDcShbHuYQAM1uZQlJRW+bw9smU3v69Xug6TEeKVatlo+1HP8y74L0jmv9IKu7rj3xWba\n5hrbN6s+JwD9s/3mZ6TEaCllNbH1fWq50fWWsu6bSFVW25f1v6O0Q9L6pKvUmyNiaV3/iHiNVH3+\n5bLx34iIx0uG+4hUTdZfUrsmlDctIp6ubhYr2gN4PCJeLovpL8DnJW1YNvzdZd2TgU9XMY03I2JM\nWf8bSQfFbWsNugrlcU5ixTj3JWW2j0nqUPcB7gPWIl1ZNeavEbGsriMi/kVqCti1rp+knpL+IulN\n0ka8hNQM0quknCdIy/oySXtLWq9sOk9n490k6VBJnyj9UtK6pO3iVmBZybyIlPjtUVbeBxHxUEnc\ni0lXEKXLZxfgnoj4oGS4maQr5lK1Lsc7yrrnkGrpLpH0PUk9aR5jI+LfJd2Tsr/L51HShpJ+KekV\nUq3QElLVrEjNlE3xBHCqpJMl9c7uA1kVj0fE26U9su3sFdJBtM4RpIP+yPoKqma8bPl/FhhZtj4/\nINVO1G1LvUk1oJWOm7WoNH470kGfiHiVdPV8fMkwx5MS5ttrnFa58m0RSWtLOlPSVEkfkraJR7Kv\nS/fZ64Fd6p4eypbRt0j3w9Xdm9Icx5g6vYDPAH8qPeZUQ9L3JT0jaQHp5Dm9bH6q2QefAIZky6af\npPZVTrua41+d+yNiSUl3+T67qttcY/tm1esrIsaTauDPIiUmF0fEo9UEUUtS8k493VuU9Z9Z1r0J\n6SBW3h9SVfCmjUynrt/apBN0reVVGq4WmzYwLWXxlJpb1r0Y6LgK06j7vrlVirP0JuBPkHbyJWWf\n8dn3m1UxjfrW5RYAkjYgXVH1ITXH7E66j+G6sliuB74P7Ew6AM+VdLuk7gBZwjiItD3fALwt6XFJ\ndQnqpqQroHMqzM+PgE0kle4LpSfrOuXrsSupFquxea51Oa6wHUS67NiHdAX4C+BFSa9K+n6Faddi\nhfVfcqIoncf/BU4g3W+0D2nd/LDCcLU4nNRs9lPSfVNvSjq3bPnXor79+0bg4OwiBlKi8WBEvNlI\neY2NV5fwXsvK6/RAPl6fXbO/9R03q1XNcfdyYDdJ22dxHwX8b1R5w28DKi3bX5BqhW8kNWP15+Mn\nr0q3idtJzaV1Cd5XSMvu+pJhmuMYU6du2Bk1jIOkE0nL7wHSfPTn45NrR6h6HzyRdG/KMaST+yxJ\nv61wAVU67WqPf3UqHbOXx8mqb3ON7Zu1rq+6Zu8g3QtVlVqevulCyhZLuyG1O5aKsu5/Z/0+WaHM\nT7Lygu5SYbgupOqh2cC6NZZXHk+t5jYwraDyCawp06iUGX+y5PvWNofUZnlYPd9Pq6KM+tZlXc3V\nrqSNfPfSLDrLvpfLDgpXAVdJ2oSP72u6mZSokNVsPJQ9XbUbqW327ixxmUdqcvgjKx4US6dR09UV\n6YD9iQr9y+e51uW40vaaXQ3/d3bl0oeUSF0uaVpE/F8tQVdLUkdSG/35EfG7kv69V6XciJhFSmx+\nKKkXMJh0JTWbdMPkomzQtctGre8EVd/+fQPpfphDJI0jHewHVxFiY+PNyf6eQTqRlatLBOpO6F2A\n50q+r7RPNKS+8UuPu/eQtqPjSfeRdQKurnE6lVRatkcA10fERXU9spPriiNGLJR0B+n+hPNIidKr\nWW1UneY4xtR5N/tbfpHcmCNITXGn1PWQ1KN8oMb2wYhYQNomzpD0GVLTyiWk7eG0eqZd1fGvBqu0\nzVWxb1a9vrJEZgQpSexEujelqtcG1HJ1Uh7IEaQ2qEkVhl0uIhYCTwLfLK3SylbcF0n3PpTaUtIu\nJcO1J91wMz4iljWhvErqMsx1qxj2n6RqyO5lMR0OTIyI96ooo5ppdJO0W1n/b5OuxpvymPJiqpu/\n+txLaltdEBETKnzebawA4NDSK+Bs/rqRqrkh3ckNKduuG2YT0smwooj4d0TcTKqiLG86JCIWR8SD\npBsA1wd6ZNvMI6SDyVOV5qeKeSn3OLB/6ZWQpK6khKhUcyzHunmLrCmy7t0SK81/iVq28UrWIdUu\nLSnrP6SeadU8nYh4ISLOJCX2dfPyeva3fN4OqLHsV0hNaUdnn4VU0ZxRxXgvkA6+29WzPp/Nhns2\nG7fScbMWlcZfBowriXkZKWk/mnSyfCCqe9y5KettPVbeJr5Tz7DXA5+VNIh0M3j5C/uabd8gNa9O\nA75bY5NgLfNT1T4YEa9HxG9I58aG9tGaj3+NaK5trr59s5b1dQbpXqNvk2qPvi6ptImxXrVkZN/L\nTjBPkKrKv0u6ippfxbjnkO5huEvS5aR7UX5GemzrN2XDvgPcLOk8Uob2fdLjWKVVZbWUV8k7pKzv\nCEl1K/K1iJhTYdjfkg7E92cxvUd6CmFrajxQNmA46S7x2yWdRcoujyRVGR6f3cNSq+eBH0g6nNRO\n/n5EvFDD+CNJO+doSb8hXYGtTWpP/xrpbvwPGhgfUob8N0lXkZrefkG6WauutuIx0vL8Y7Zs1yc9\nYfAusFFdIZKuJt1UPZaUpG1NOgDfl31/Aqkt/x7SEz+bk3aKt0j39EA6iDwM/EPStaSris1J9ye1\nj4jTa1g2kB67OzQrbxjpJH4OadsqrXVZpeUoaQfSU1w3k26wbE/aHpeSHiWsz4vZMMdImks6Ab0Q\nEfW9bG8FETFf0uPAKZJmktbJMVS+En0e2F3SgaQmx3cjYlqFedmIVLswko8f4T2I1AR6XzbdmZL+\nSbrifJe0vo+iaS+Bu4FUO9abdNPmglUdLyJC0g+BUZLWJiXH75KuRr8ITI+ISyNinqTfAmdJej+b\nv51IT2fUYn9Jv87G70+qdbg+Il4qG+5aUrNKH9ITItV4Htg0a4aYACyKiAYvMkknpsGSJpG2x0NI\n813JaNI+eC0p+bmh7PvmOMYAy9fLUFIC+aCkK0nnj8+RbsA8r4H5OU3SmaRmiIGk/Xq5avZBSWNJ\nTR+TSBfrXyatixENhF3V8a9aq7LNVbNvUuX6krQzaVv8WUSMzcq/HLhU0sMRMaWxGWnsjuDzSdV4\n25PeU/Ih6cBzIZWfJV/pbv/s+/L3ioyi/veKfI2P31PyAnD4qpRXTzwHk3bKJZQ80UL97yn5Wzad\nRTT8npIOZf2HU/beinri6UraaSu+pyQbppanbz5JOkm/n40zJus/JOveqlL8Zf06Zv2nZjHNJSWl\n55fPZ9l43bNp1L2nZDbpRsC7STUXpcMOJD2O+iEpeTqpPBZSNeIY0glqMakK8bd8/Ijrrtn6f4OP\nn6+/tcL28DnSTV915cwgHUj2L1tflZ5IqLRd7ENqilpMato8nnRz4MRalyP17D+kJqIRfPwehbmk\nmrVB9S3/knGPz+JaSsnTC9TztAwrP+bfHfi/bBuaRXoK6oDSsrLhtuHjd7oE9TzdQErcriJVLS8g\nHZCfoOyJH1Jt2t9JzW5vkx7d/y6Vn76p96kf0gF1cTbeVyp8P5wK+2Zj45Vsc3eRriQXZbHcBOxa\nMkzdOyPeJm3fY0g3rVfzJMSQbLg9SNv2gmzdL39PSYVx/kFKAurdN8uGX590w35dE/u0hrbF7LvN\ns/n8d/YZSTrxVTwuAb/Ovnusnhhq2TcGVDFPA0nnqQXZ5xlKnohk5UeC1yU1Tcwmbed3kZ7kXL6O\nqGIfJD0mPZGP348yiQaeZCmLt8HjX8m+eVFZv+7ly72p2xzV75sNri/SU2ivZMunXdl4k7J5Xaeh\nZaJshHopvS//PNKjSEsbHHgVKf3mTIeI+FJLTsdaVtbU9RrwvYj4U77RtJ6sbf1l4O6IqPWK2KzJ\nsmr/6aRHks/JOx6zpmrR18ybtWWSLiNVwb5FesneyaSr7N81NJ5Zc5HUmVSTezLpHsHL843IbNU4\nKTFruo6katu6p8PGk6q8n21wLLPmcwDp0e3ppNeTr+orEMxy1WjzjZmZmVlraOoLi8zMzMyalZMS\nMzMzKwQnJWZmZlYITkrMzMysEJyUmJmZWSE4KTEzM7NCcFJiZmZmheCkxMzMzArBSYmZmZkVgpMS\nMzMzKwQnJWZmZlYITkrMzMysEPwrwS1M0nXAgcCsiNg+67cpcDPQHZgGHBYR/86+OwM4FvgIOCki\n/tHYNDbffPPo3r17S4RvZtYmPfnkk+9GROe847AV+VeCW5ikPYAFwPUlScmvgLkRcYmk04FNIuI0\nSdsCfwH6A58CHgC2joiPGppGv379YsKECS06H2ZmbYmkJyOiX95x2IrcfNPCIuJhYG5Z74OAEdn/\nI4CDS/rfFBGLI+I14GVSgmJmZtbmOSnJR5eImJn9/zbQJft/C+CNkuFmZP1WIuk4SRMkTZg9e3bL\nRWpmZtZKnJTkLFL7Wc1taBFxdUT0i4h+nTu7WdTMzFZ/vtE1H+9I6hoRMyV1BWZl/d8EtiwZrlvW\nz8ysUUuWLGHGjBksWrQo71AKo2PHjnTr1o211lor71CsCk5K8nEnMBi4JPs7qqT/nyVdSrrRtScw\nPpcIzWy1M2PGDDp16kT37t2RlHc4uYsI5syZw4wZM+jRo0fe4VgV3HzTwiT9BRgL9JI0Q9KxpGRk\nH0kvAXtn3UTEc8AtwPPAvcAPG3vyxsyszqJFi9hss82ckGQksdlmm7nmaDXimpIWFhHfquerveoZ\n/mLg4paLyMzaMickK/LyWL24psTMzMwKwUmJmZmZFYKbb9YwO556fd4h1OTJX/933iGYmVkrcU2J\nmZnVbOHChRxwwAH06dOH7bffnptvvpknn3ySL3/5y+y4444MGjSImTNnsnTpUnbaaSfGjBkDwBln\nnMFZZ52Vb/BWWK4pMTOzmt1777186lOf4u677wZg/vz57LfffowaNYrOnTtz8803c9ZZZ3Hdddcx\nfPhwDj30UC677DLuvfdexo0bl3P0VlROSszMrGa9e/fmlFNO4bTTTuPAAw9kk002YfLkyeyzzz4A\nfPTRR3Tt2hWA7bbbjqOPPpoDDzyQsWPHsvbaa+cZuhWYkxIzM6vZ1ltvzVNPPcU999zD2WefzcCB\nA9luu+0YO3ZsxeEnTZrExhtvzKxZsyp+bwa+p8TMzJrgrbfeYr311uOoo47i1FNPZdy4ccyePXt5\nUrJkyRKee+45AG6//Xbmzp3Lww8/zIknnsi8efPyDN0KzDUlZmZWs0mTJnHqqafSrl071lprLa64\n4go6dOjASSedxPz581m6dClDhw6lS5cunH766YwePZott9ySH/3oR5x88smMGDEi71mwAnJSYmZm\nNRs0aBCDBg1aqf/DDz+8Ur8XX3xx+f8nnXRSi8Zlqzc335iZmVkhOCkxMzOzQnBSYmZmZoXgpMTM\nzMwKwUmJmZmZFYKTEjMzMysEPxJsZtZGNfevglfzq92///3vueKKK/jCF77AyJEjm3X6AOeffz4b\nbLABP/nJT5q9bMufkxIzM2s2l19+OQ888ADdunXLOxRbDbn5xszMmsUJJ5zAq6++yn777cfFF1/M\nMcccQ//+/enbty+jRo0CYPjw4Rx88MHss88+dO/enT/84Q9ceuml9O3bl1122YW5c+cCcM0117DT\nTjvRp08fvvGNb/DBBx+sNL1XXnmFfffdlx133JHdd9+dqVOntur8WvNzTYnZaqK5q+JbQzXV/dZ2\nXHnlldx777089NBDXHrppQwcOJDrrruOefPm0b9/f/bee28AJk+ezMSJE1m0aBFbbbUVv/zlL5k4\ncSI//vGPuf766xk6dCiHHHII3/ve9wA4++yzufbaaznxxBNXmN5xxx3HlVdeSc+ePRk3bhw/+MEP\nePDBB1t9vq35OCkxM7Nmd99993HnnXcybNgwABYtWsT06dMB2HPPPenUqROdOnVio4024qtf/SoA\nvXv35tlnnwVS4nL22Wczb948FixYsNIr7RcsWMBjjz3GN7/5zeX9Fi9e3BqzZi3ISYmZmTW7iOC2\n226jV69eK/QfN24c66yzzvLudu3aLe9u164dS5cuBWDIkCH87W9/o0+fPgwfPpwxY8asUM6yZcvY\neOONefrpp1t2RqxV+Z4SMzNrdoMGDeKyyy4jIgCYOHFiTeO///77dO3alSVLllR8imfDDTekR48e\n3HrrrUBKgp555plVD9xy5ZoSM7M2Ks97es455xyGDh3KDjvswLJly+jRowd33XVX1eNfeOGF7Lzz\nznTu3Jmdd96Z999/f6VhRo4cyfe//30uuugilixZwhFHHEGfPn2aczaslakui7XVV79+/WLChAlV\nDbu63SzpGyU/trqtO/D6a21Tpkzhc5/7XN5hFE6l5SLpyYjol1NIVg8335iZmVkhOCkxMzOzQnBS\nYmZmZoXgpMTMzMwKwUmJmZmZFYKTEjMzMysEv6fEzKyNmn5B72Yt79PnTmrW8sqNGTOGYcOG1fQ+\nE2tbXFNiZmZmheCkxMzMms20adPYZpttGDJkCFtvvTVHHnkkDzzwALvtths9e/Zk/PjxjB8/nl13\n3ZW+ffvyxS9+kRdeeGGlchYuXMgxxxxD//796du3L6NGjcphbqy1OSnJiaQfS3pO0mRJf5HUUdKm\nku6X9FL2d5O84zQzq9XLL7/MKaecwtSpU5k6dSp//vOfefTRRxk2bBg///nP2WabbXjkkUeYOHEi\nF1xwAWeeeeZKZVx88cUMHDiQ8ePH89BDD3HqqaeycOHCHObGWpPvKcmBpC2Ak4BtI+JDSbcARwDb\nAqMj4hJJpwOnA6flGKqZWc169OhB797pfpbtttuOvfbaC0n07t2badOmMX/+fAYPHsxLL72EJJYs\nWbJSGffddx933nknw4YNA2DRokVMnz7dr9Fv45yU5KcDsK6kJcB6wFvAGcCA7PsRwBiclJjZamad\nddZZ/n+7du2Wd7dr146lS5dyzjnnsOeee3LHHXcwbdo0BgwYsFIZEcFtt91Gr169WitsKwA33+Qg\nIt4EhgHTgZnA/Ii4D+gSETOzwd4GutRXhqTjJE2QNGH27NktHrOZWXOZP38+W2yxBQDDhw+vOMyg\nQYO47LLLqPvR2IkTJ7ZWeJYj15TkILtX5CCgBzAPuFXSUaXDRERIqvcnnCPiauBqSL8S3ILhmtlq\nqqUf4W2qn/70pwwePJiLLrqIAw44oOIw55xzDkOHDmWHHXZg2bJl9OjRw48KrwGclORjb+C1iJgN\nIOl24IvAO5K6RsRMSV2BWXkGaWZWq+7duzN58uTl3aU1IaXfvfjii8v7X3TRRQAMGDBgeVPOuuuu\ny1VXXdXyAVuhuPkmH9OBXSStJ0nAXsAU4E5gcDbMYMDPwJmZ2RrDNSU5iIhxkv4KPAUsBSaSmmI2\nAG6RdCzwOnBYflGamZm1LiclOYmI84DzynovJtWamJk1SUSQKmANWH6jrK0e3HxjZtZGdOzYkTlz\n5vhEnIkI5syZQ8eOHfMOxarkmhIzszaiW7duzJgxA78m4GMdO3akW7dueYdhVXJSYmbWRqy11lr0\n6NEj7zDMmszNN2ZmZlYITkrMzMysEJyUmJmZWSE4KTEzM7NCcFJiZmZmheCkxMzMzArBSYmZmZkV\ngpMSMzMzKwQnJWZmZlYITkrMzMysEJyUmJmZWSE4KTEzM7NCcFJiZmZmheCkxMzMzArBSYmZmZkV\ngpMSMzMzKwQnJWZmZlYITkrMzMysEJyUmJmZWSE4KTEzM7NCcFJiZmZmheCkxMzMzArBSYmZmZkV\ngpMSMzMzKwQnJWZmZlYITkrMzMysEJyUmJmZWSE4KTEzM7NCcFJiZmZmheCkxMzMzArBSYmZmZkV\ngpOSHEnaWNJfJU2VNEXSrpI2lXS/pJeyv5vkHaeZmVlrcFKSr98B90bENkAfYApwOjA6InoCo7Nu\nMzOzNs9JSU4kbQTsAVwLEBH/iYh5wEHAiGywEcDB+URoZmbWupyU5KcHMBv4X0kTJf1J0vpAl4iY\nmQ3zNtCl0siSjpM0QdKE2bNnt1LIZmZmLcdJSX46AF8AroiIvsBCyppqIiKAqDRyRFwdEf0iol/n\nzp1bPFgzM7OW1iHvAIpO0vvUkxgARMSGTSx6BjAjIsZl3X8lJSXvSOoaETMldQVmNbF8MzOz1YqT\nkkZERCcASRcCM4EbAAFHAl1Xody3Jb0hqVdEvADsBTyffQYDl2R/R63aHJiZma0enJRU72sR0aek\n+wpJzwDnrkKZJwIjJa0NvAp8h9SkdoukY4HXgcNWoXwzM7PVhpOS6i2UdCRwE6k551uk+0CaLCKe\nBvpV+GqvVSnXzMxsdeQbXav3bVKtxTvZ55tZPzMzM2sGrimpUkRMI71DxMzMzFqAa0qqJGlrSaMl\nTc66d5AnvQEdAAALTElEQVR0dt5xmZmZtRVOSqp3DXAGsAQgIp4Fjsg1IjMzszbESUn11ouI8WX9\nluYSiZmZWRvkpKR670r6LNmL1CQdSnpviZmZmTUD3+havR8CVwPbSHoTeI30AjUzMzNrBk5Kqvd6\nROyd/Wheu4h4P++AzMzM2hI331TvNUlXA7sAC/IOxszMrK1xUlK9bYAHSM04r0n6g6Qv5RyTmZlZ\nm+GkpEoR8UFE3BIRhwB9gQ2Bf+YclpmZWZvhpKQGkr4s6XLgSaAj/rE8MzOzZuMbXaskaRowEbgF\nODUiVunH+MzMzGxFTkqqt0NEvJd3EGZmZm2Vk5JGSPppRPwKuFhSlH8fESflEJaZmVmb46SkcVOy\nvxNyjcLMzKyNc1LSiIj4e/bvpIh4KtdgzMzM2jA/fVO930iaIulCSdvnHYyZmVlb45qSKkXEnpI+\nSXoM+CpJGwI3R8RFOYdmZquBHU+9Pu8Qavbkr/877xBsDeOakhpExNsR8XvgBOBp4NycQzIzM2sz\nnJRUSdLnJJ0vaRJwGfAY0C3nsMzMzNoMN99U7zrgJmBQRLyVdzBmZmZtjZOSKkhqD7wWEb/LOxYz\nM7O2ys03VYiIj4AtJa2ddyxmZmZtlWtKqvca8C9JdwLLf/cmIi7NLyQzM7O2w0lJ9V7JPu2ATjnH\nYmZm1uY4KalSRPws7xjMzMzaMiclVZL0EFDpB/kG5hCOmZlZm+OkpHo/Kfm/I/ANYGlOsZiZmbU5\nTkqqFBFPlvX6l6TxuQRjZmbWBjkpqZKkTUs62wH9gI1yCsfMzKzNcVJSvSdJ95QIWAJMA47NMyAz\nM7O2xC9Pq95pwOcjogdwA+ldJR/kG5KZmVnb4aSkemdHxHuSvgQMBP4EXJFzTGZmZm2Gk5LqfZT9\nPQC4JiLuBlbptfOS2kuaKOmurHtTSfdLein7u8kqxmxmZrbacFJSvTclXQUcDtwjaR1WffmdDEwp\n6T4dGB0RPYHRWbeZmdkawUlJ9Q4D/gEMioh5wKbAqU0tTFI3Uq3Ln0p6HwSMyP4fARzc1PLNzMxW\nN376pkoR8QFwe0n3TGDmKhT5P8BPWfF3dLpk5QK8DXSpb2RJxwHHAXz6059ehTDMzMyKwTUlOZB0\nIDCrwgvZlouIoMJr7Uu+vzoi+kVEv86dO7dEmGZmZq3KNSX52A34mqT9Sa+s31DSjcA7krpGxExJ\nXYFZuUZpZmbWilxTkoOIOCMiukVEd+AI4MGIOAq4ExicDTYYGJVTiGZmZq3OSUmxXALsI+klYO+s\n28zMbI3g5pucRcQYYEz2/xxgrzzjMTMzy4trSszMzKwQnJSYmZlZITgpMTMzs0JwUmJmZmaF4KTE\nzMzMCsFJiZmZmRWCkxIzMzMrBL+nxApt+gW98w6hZp8+d1LeIZiZrZZcU2JmZmaF4KTEzMzMCsFJ\niZmZmRWCkxIzMzMrBCclZmZmVghOSszMzKwQnJSYmZlZITgpMTMzs0JwUmJmZmaF4KTEzMzMCsFJ\niZmZmRWCkxIzMzMrBCclZmZmVghOSszMzKwQnJSYmZlZITgpMTMzs0JwUmJmZmaF4KTEzMzMCsFJ\niZmZmRWCkxIzMzMrBCclZmZmVghOSszMzKwQnJSYmZlZITgpMTMzs0JwUmJmZmaF4KTEzMzMCsFJ\nSU4kbSnpIUnPS3pO0slZ/00l3S/ppezvJnnHamZm1hqclORnKXBKRGwL7AL8UNK2wOnA6IjoCYzO\nus3MzNo8JyU5iYiZEfFU9v/7wBRgC+AgYEQ22Ajg4HwiNDMza11OSgpAUnegLzAO6BIRM7Ov3ga6\n1DPOcZImSJowe/bsVonTzMysJTkpyZmkDYDbgKER8V7pdxERQFQaLyKujoh+EdGvc+fOrRCpmZlZ\ny3JSkiNJa5ESkpERcXvW+x1JXbPvuwKz8orPzMysNTkpyYkkAdcCUyLi0pKv7gQGZ/8PBka1dmxm\nZmZ56JB3AGuw3YCjgUmSns76nQlcAtwi6VjgdeCwnOIzMzNrVU5KchIRjwKq5+u9WjMWMzOzInDz\njZmZmRWCkxIzMzMrBCclZmZmVghOSszMzKwQfKOrmZlVNP2C3nmHUJNPnzsp7xBsFTkpMbMWs7qd\n1MAnNrM8ufnGzMzMCsFJiZmZmRWCkxIzMzMrBCclZmZmVghOSszMzKwQnJSYmZlZITgpMTMzs0Jw\nUmJmZmaF4KTEzMzMCsFJiZmZmRWCkxIzMzMrBCclZmZmVghOSszMzKwQnJSYmZlZITgpMTMzs0Jw\nUmJmZmaF4KTEzMzMCsFJiZmZmRWCkxIzMzMrBCclZmZmVghOSszMzKwQnJSYmZlZITgpMTMzs0Jw\nUmJmZmaF4KTEzMzMCsFJiZmZmRWCkxIzMzMrBCclBSRpX0kvSHpZ0ul5x2NmZtYanJQUjKT2wB+B\n/YBtgW9J2jbfqMzMzFqek5Li6Q+8HBGvRsR/gJuAg3KOyczMrMU5KSmeLYA3SrpnZP3MzMzatA55\nB2BNI+k44Lisc4GkF/KMp6V8BjYH3s07jpqcp7wjKAyvv9Xbarf+alt3n2mpMKzpnJQUz5vAliXd\n3bJ+K4iIq4GrWyuovEiaEBH98o7Dmsbrb/Xm9Wetzc03xfME0FNSD0lrA0cAd+Yck5mZWYtzTUnB\nRMRSST8C/gG0B66LiOdyDsvMzKzFOSkpoIi4B7gn7zgKos03UbVxXn+rN68/a1WKiLxjMDMzM/M9\nJWZmZlYMTkqskCRdJ2mWpMl5x2K1k7SlpIckPS/pOUkn5x2TVUdSR0njJT2Trbuf5R2TrTncfGOF\nJGkPYAFwfURsn3c8VhtJXYGuEfGUpE7Ak8DBEfF8zqFZIyQJWD8iFkhaC3gUODkiHs85NFsDuKbE\nCikiHgbm5h2HNU1EzIyIp7L/3wem4DcTrxYiWZB1rpV9fPVqrcJJiZm1KEndgb7AuHwjsWpJai/p\naWAWcH9EeN1Zq3BSYmYtRtIGwG3A0Ih4L+94rDoR8VFEfJ70Run+ktyEaq3CSYmZtYjsfoTbgJER\ncXve8VjtImIe8BCwb96x2JrBSYmZNbvsZslrgSkRcWne8Vj1JHWWtHH2/7rAPsDUfKOyNYWTEisk\nSX8BxgK9JM2QdGzeMVlNdgOOBgZKejr77J93UFaVrsBDkp4l/RbX/RFxV84x2RrCjwSbmZlZIbim\nxMzMzArBSYmZmZkVgpMSMzMzKwQnJWZmZlYITkrMzMysEJyUmFmzkTRAkh8fNbMmcVJiZmZmheCk\nxMwaJKm7pKmSRkqaIumvktaTtJOkxyQ9I2m8pE5l4/WXNFbSxGy4Xln/7bLhn5b0rKSektaXdHdW\n1mRJh+czt2aWpw55B2Bmq4VewLER8S9J1wE/Ak4ADo+IJyRtCHxYNs5UYPeIWCppb+DnwDey8X4X\nESMlrQ20B/YH3oqIAwAkbdQ6s2VmReKkxMyq8UZE/Cv7/0bgLGBmRDwBUPcLwOknb5bbCBghqScQ\nwFpZ/7HAWZK6AbdHxEuSJgG/kfRL4K6IeKTF58jMCsfNN2ZWjfLfo3ivinEuBB6KiO2BrwIdASLi\nz8DXSDUr90gaGBEvAl8AJgEXSTq32SI3s9WGkxIzq8anJe2a/f9t4HGgq6SdACR1klRe87oR8Gb2\n/5C6npL+C3g1In4PjAJ2kPQp4IOIuBH4NSlBMbM1jJMSM6vGC8APJU0BNgEuAw4HLpP0DHA/WU1I\niV8Bv5A0kRWbig8DJkt6GtgeuB7oDYzP+p0HXNSSM2NmxeRfCTazBknqTrrPY/ucQzGzNs41JWZm\nZlYIrikxMzOzQnBNiZmZmRWCkxIzMzMrBCclZmZmVghOSszMzKwQnJSYmZlZITgpMTMzs0L4/5f4\nK6oL6IchAAAAAElFTkSuQmCC\n",
      "text/plain": [
       "<matplotlib.figure.Figure at 0x19abf01d748>"
>>>>>>> 5b8da627f3dde85c6b0a7a12d0b5e00d03bdfe9b
      ]
     },
     "metadata": {},
     "output_type": "display_data"
    }
   ],
   "source": [
    "sns.barplot(x=\"pclass\", y=\"survived\", hue=\"sex\", data=survivor_by_travel_and_sex);\n",
    "plt.suptitle('proportion of the passengers that survived by travel class and sex', fontsize=16)\n",
    "plt.show()"
   ]
  },
  {
   "cell_type": "markdown",
   "metadata": {},
   "source": [
    "This histogram show that the phrase \"Women and children first\" actually worked for the Titanic. More than twice as many women as men have survived.\n",
    "Almost 100% of the women travelling in 1st class survived the sinking, 90% in 2nd class and 50% in 3rd class.\n",
    "The mortality is much higher for the 3rd class due to the fact that the cabins were in the lowest floors of the Titanic. "
   ]
  },
  {
   "cell_type": "markdown",
   "metadata": {},
   "source": [
    "- ### Create 2 equally populated age categories and calculate survival proportions by age category, travel class and sex. Present your results in a DataFrame with unique index"
   ]
  },
  {
   "cell_type": "code",
<<<<<<< HEAD
   "execution_count": 35,
=======
   "execution_count": 129,
>>>>>>> 5b8da627f3dde85c6b0a7a12d0b5e00d03bdfe9b
   "metadata": {},
   "outputs": [],
   "source": [
    "median_age=passengers.age.median()\n",
    "\n",
    "def old_or_young(age,median_age):\n",
    "    if age <median_age:\n",
    "        return 'young'\n",
    "    elif  age >= median_age:\n",
    "        return 'old'\n",
    "    else:\n",
    "        return None\n",
    "\n",
    "\n",
    "passengers['age_category']= passengers.age.apply(lambda x : old_or_young(x,median_age))\n",
    "passengers.age_category  = passengers.age_category.astype('category')"
   ]
  },
  {
   "cell_type": "code",
<<<<<<< HEAD
   "execution_count": 36,
=======
   "execution_count": 130,
>>>>>>> 5b8da627f3dde85c6b0a7a12d0b5e00d03bdfe9b
   "metadata": {},
   "outputs": [
    {
     "data": {
      "text/html": [
       "<div>\n",
       "<style>\n",
       "    .dataframe thead tr:only-child th {\n",
       "        text-align: right;\n",
       "    }\n",
       "\n",
       "    .dataframe thead th {\n",
       "        text-align: left;\n",
       "    }\n",
       "\n",
       "    .dataframe tbody tr th {\n",
       "        vertical-align: top;\n",
       "    }\n",
       "</style>\n",
       "<table border=\"1\" class=\"dataframe\">\n",
       "  <thead>\n",
       "    <tr style=\"text-align: right;\">\n",
       "      <th></th>\n",
       "      <th>pclass</th>\n",
       "      <th>age_category</th>\n",
       "      <th>sex</th>\n",
       "      <th>survived</th>\n",
       "    </tr>\n",
       "  </thead>\n",
       "  <tbody>\n",
       "    <tr>\n",
       "      <th>0</th>\n",
       "      <td>1</td>\n",
       "      <td>old</td>\n",
       "      <td>female</td>\n",
       "      <td>96.774194</td>\n",
       "    </tr>\n",
       "    <tr>\n",
       "      <th>1</th>\n",
       "      <td>1</td>\n",
       "      <td>old</td>\n",
       "      <td>male</td>\n",
       "      <td>30.894309</td>\n",
       "    </tr>\n",
       "    <tr>\n",
       "      <th>2</th>\n",
       "      <td>1</td>\n",
       "      <td>young</td>\n",
       "      <td>female</td>\n",
       "      <td>95.000000</td>\n",
       "    </tr>\n",
       "    <tr>\n",
       "      <th>3</th>\n",
       "      <td>1</td>\n",
       "      <td>young</td>\n",
       "      <td>male</td>\n",
       "      <td>51.851852</td>\n",
       "    </tr>\n",
       "    <tr>\n",
       "      <th>4</th>\n",
       "      <td>2</td>\n",
       "      <td>old</td>\n",
       "      <td>female</td>\n",
       "      <td>88.461538</td>\n",
       "    </tr>\n",
       "    <tr>\n",
       "      <th>5</th>\n",
       "      <td>2</td>\n",
       "      <td>old</td>\n",
       "      <td>male</td>\n",
       "      <td>7.777778</td>\n",
       "    </tr>\n",
       "    <tr>\n",
       "      <th>6</th>\n",
       "      <td>2</td>\n",
       "      <td>young</td>\n",
       "      <td>female</td>\n",
       "      <td>90.000000</td>\n",
       "    </tr>\n",
       "    <tr>\n",
       "      <th>7</th>\n",
       "      <td>2</td>\n",
       "      <td>young</td>\n",
       "      <td>male</td>\n",
       "      <td>20.000000</td>\n",
       "    </tr>\n",
       "    <tr>\n",
       "      <th>8</th>\n",
       "      <td>3</td>\n",
       "      <td>old</td>\n",
       "      <td>female</td>\n",
       "      <td>34.782609</td>\n",
       "    </tr>\n",
       "    <tr>\n",
       "      <th>9</th>\n",
       "      <td>3</td>\n",
       "      <td>old</td>\n",
       "      <td>male</td>\n",
       "      <td>13.043478</td>\n",
       "    </tr>\n",
       "    <tr>\n",
       "      <th>10</th>\n",
       "      <td>3</td>\n",
       "      <td>young</td>\n",
       "      <td>female</td>\n",
       "      <td>51.456311</td>\n",
       "    </tr>\n",
       "    <tr>\n",
       "      <th>11</th>\n",
       "      <td>3</td>\n",
       "      <td>young</td>\n",
       "      <td>male</td>\n",
       "      <td>18.840580</td>\n",
       "    </tr>\n",
       "  </tbody>\n",
       "</table>\n",
       "</div>"
      ],
      "text/plain": [
       "   pclass age_category     sex   survived\n",
       "0       1          old  female  96.774194\n",
       "1       1          old    male  30.894309\n",
       "2       1        young  female  95.000000\n",
       "3       1        young    male  51.851852\n",
       "4       2          old  female  88.461538\n",
       "5       2          old    male   7.777778\n",
       "6       2        young  female  90.000000\n",
       "7       2        young    male  20.000000\n",
       "8       3          old  female  34.782609\n",
       "9       3          old    male  13.043478\n",
       "10      3        young  female  51.456311\n",
       "11      3        young    male  18.840580"
      ]
     },
<<<<<<< HEAD
     "execution_count": 36,
=======
     "execution_count": 130,
>>>>>>> 5b8da627f3dde85c6b0a7a12d0b5e00d03bdfe9b
     "metadata": {},
     "output_type": "execute_result"
    }
   ],
   "source": [
    "survivor_by_travel_and_sex_and_age = passengers[['pclass','age_category','sex','survived']].groupby(['pclass','age_category','sex']).mean().reset_index()\n",
    "survivor_by_travel_and_sex_and_age['survived'] = survivor_by_travel_and_sex_and_age['survived']*100\n",
    "survivor_by_travel_and_sex_and_age"
   ]
  },
  {
   "cell_type": "code",
<<<<<<< HEAD
   "execution_count": 37,
=======
   "execution_count": 131,
>>>>>>> 5b8da627f3dde85c6b0a7a12d0b5e00d03bdfe9b
   "metadata": {},
   "outputs": [
    {
     "data": {
<<<<<<< HEAD
      "image/png": "iVBORw0KGgoAAAANSUhEUgAAAn4AAAEdCAYAAACSWGoJAAAABHNCSVQICAgIfAhkiAAAAAlwSFlz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\nQmCC\n",
      "text/plain": [
       "<matplotlib.figure.Figure at 0x1123759b0>"
=======
      "image/png": "iVBORw0KGgoAAAANSUhEUgAAAn4AAAEdCAYAAACSWGoJAAAABHNCSVQICAgIfAhkiAAAAAlwSFlz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\nEj8AAICC+P/ilbqpJzsR1QAAAABJRU5ErkJggg==\n",
      "text/plain": [
       "<matplotlib.figure.Figure at 0x19ac0122c18>"
>>>>>>> 5b8da627f3dde85c6b0a7a12d0b5e00d03bdfe9b
      ]
     },
     "metadata": {},
     "output_type": "display_data"
    }
   ],
   "source": [
    "sns.factorplot(x=\"pclass\", y=\"survived\", hue=\"sex\",col=\"age_category\",kind='bar', data=survivor_by_travel_and_sex_and_age);\n",
    "plt.suptitle('Survival proportions by age category, travel class and sex', fontsize=10)\n",
    "plt.show()"
   ]
  },
  {
   "cell_type": "code",
<<<<<<< HEAD
   "execution_count": 38,
=======
   "execution_count": 132,
>>>>>>> 5b8da627f3dde85c6b0a7a12d0b5e00d03bdfe9b
   "metadata": {},
   "outputs": [
    {
     "data": {
      "text/plain": [
       "True"
      ]
     },
<<<<<<< HEAD
     "execution_count": 38,
=======
     "execution_count": 132,
>>>>>>> 5b8da627f3dde85c6b0a7a12d0b5e00d03bdfe9b
     "metadata": {},
     "output_type": "execute_result"
    }
   ],
   "source": [
    "survivor_by_travel_and_sex_and_age.index.is_unique"
   ]
  }
 ],
 "metadata": {
  "kernelspec": {
   "display_name": "Python [default]",
   "language": "python",
   "name": "python3"
  },
  "language_info": {
   "codemirror_mode": {
    "name": "ipython",
    "version": 3
   },
   "file_extension": ".py",
   "mimetype": "text/x-python",
   "name": "python",
   "nbconvert_exporter": "python",
   "pygments_lexer": "ipython3",
   "version": "3.6.1"
  }
 },
 "nbformat": 4,
 "nbformat_minor": 2
}
