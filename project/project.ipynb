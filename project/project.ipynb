{
 "cells": [
  {
   "cell_type": "markdown",
   "metadata": {},
   "source": [
    "# Musical genre evolution\n",
    "\n",
    "**\"When the words fail, music speaks\"**,* Hans Christian Andersen *"
   ]
  },
  {
   "cell_type": "markdown",
   "metadata": {},
   "source": [
    "## Abstract\n",
    "\n",
    "Our goal was originally to draw an identikit-picture of the different music genres and subgenres. The [Million song](https://labrosa.ee.columbia.edu/millionsong/) dataset provides several criteria like the duration, danceability, loudness, etc... We also wanted to analyze the most prolific types of music over time and understand their evolution.\n",
    "\n",
    "Since Milestone 1, our idea has evolved. A closer look at the dataset revealed that some information that we wanted to be part of our identikit, such as the energy and the danceability, was missing for a lot of songs in the dataset. Conversely, the location of the song and the date are well defined so we decided to make full use of this information. The goal now, would be to analyse the music genre evolution both geographically and over time. The idea is to show the most popular genre in a certain region at a given year.\n",
    "\n",
    "The original idea of drawing the portrait of a genre has not been completly dropped but it has became a secondary concern. After having analysed the evolution of genre we will try to find if there is a correlation between the genre and the hotesness or familiarity of the artist."
   ]
  },
  {
   "cell_type": "markdown",
   "metadata": {},
   "source": [
    "# NOTEBOOK OVERVIEW\n",
    "## 1. Dataset description\n",
    "\n",
    "## 2. Find the genre of a song\n",
    "** 2.1 Defining genre and subgenre**\n",
    "\n",
    "** 2.2 Create a first dictionary using beautiful soup**\n",
    "\n",
    "** 2.3 Enrich our dictionary **\n",
    "\n",
    "## 3. Create our dataframe\n",
    "** 3.1 get_genre() **\n",
    "\n",
    "** 3.2 get_location() **\n",
    "\n",
    "** 3.3 create_data_frame() **\n",
    "\n",
    "## 4. First data analysis on different features\n",
    "** 4.1 Genre**\n",
    "\n",
    "** 4.2 Year **\n",
    "\n",
    "** 4.3 Hotttnesss and familiarity **\n",
    "\n",
    "** 4.4 Duration **\n",
    "\n",
    "** 4.5 Map visualization **\n",
    "\n",
    "## 5. Future work\n"
   ]
  },
  {
   "cell_type": "code",
   "execution_count": null,
   "metadata": {},
   "outputs": [],
   "source": [
    "import pandas as pd\n",
    "import numpy as np\n",
    "\n",
    "from sklearn.linear_model import LinearRegression, LogisticRegression\n",
    "from sklearn.preprocessing import OneHotEncoder\n",
    "from pandas.plotting import scatter_matrix\n",
    "from sklearn.model_selection import cross_val_predict\n",
    "from sklearn.model_selection import cross_val_score\n",
    "from scipy import stats\n",
    "import seaborn as sns\n",
    "import re\n",
    "\n",
    "import tables as tb\n",
    "\n",
    "import pickle\n",
    "import requests\n",
    "import geocoder\n",
    "from bs4 import BeautifulSoup\n",
    "from collections import*\n",
    "import matplotlib\n",
    "import matplotlib.pyplot as plt\n",
    "from PythonSrc.hdf5_getters import *\n",
    "\n",
    "import PythonSrc.hdf5_getters as GETTERS\n",
    "\n",
    "import os\n",
    "import sys\n",
    "import time\n",
    "import glob\n",
    "import datetime\n",
    "\n",
    "\n",
    "import unidecode\n",
    "\n",
    "%matplotlib inline"
   ]
  },
  {
   "cell_type": "markdown",
   "metadata": {},
   "source": [
    "## 1. Dataset description"
   ]
  },
  {
   "cell_type": "markdown",
   "metadata": {},
   "source": [
    "The Million Song Dataset is a collection of audio features and metadata for a million contemporary popular music tracks.\n",
    "\n",
    "The data are available on h5 files and a python [library](https://github.com/tbertinmahieux/MSongsDB/tree/master/PythonSrc) exists to manage them. To access the different fields in the HDF5 song files provided in the dataset, we mainly use the file `hdf5_getters.py`.\n",
    "\n",
    "The entire dataset is 280 GB, so we have to use the cluster to work on it. As there were many problems lately with the cluster we decide to work on subset of 10.000 songs provided on the [Million Song DatasetMillion Song Dataset website](https://labrosa.ee.columbia.edu/millionsong/). This subset is organised as the entire dataset. \n",
    "The `MillionSongSubset` folder contains a folder `data` which contains all the h5 files in different subfodlder, and a folder `AdditionalFiles` which contains 2 files:\n",
    "\n",
    "- `subset_unique_terms.txt`\n",
    "- `subset_unique_mbtags.txt`\n",
    "\n",
    "with all the different tags that could define a song, for examples, the song *Soul Deep* from *The Box Tops* has the tags:\n",
    "\n",
    "`'blue-eyed soul' 'pop rock' 'blues-rock' 'beach music' 'soft rock'\n",
    " 'soul' 'classic rock' 'oldies' 'power pop' 'psychedelic rock' 'rock'\n",
    " 'sunshine pop' 'blues' 'singer-songwriter' 'pop' 'united states'\n",
    " 'male vocalist' \"rock 'n roll\" '60s' 'am pop' 'r&b' 'american'\n",
    " 'male' 'psychedelic' 'classic' 'vocal' 'americana' 'game music'\n",
    " 'mod' 'trippy' 'french' 'germany' 'canada' '70s' 'belgium' 'cover'\n",
    " 'nederland' 'confident'`\n",
    " \n",
    "Those tags will be useful to define the genre of the song. That's why the first part of our work was to define what is a genre and a subgenre. And try to macth all those tags to a genre. And it's not a easy task to classify music genre and classify certain song.\n"
   ]
  },
  {
   "cell_type": "code",
   "execution_count": null,
   "metadata": {
    "collapsed": true
   },
   "outputs": [],
   "source": [
    "# Path to the Million Song Dataset \n",
    "msd_subset_path='MillionSongSubset'\n",
    "data_path='data/millionsong_total.csv'\n",
    "msd_subset_data_path=os.path.join(msd_subset_path,'data')\n",
    "msd_subset_addf_path=os.path.join(msd_subset_path,'AdditionalFiles')\n",
    "assert os.path.isdir(msd_subset_path),'wrong path' # sanity check"
   ]
  },
  {
   "cell_type": "markdown",
   "metadata": {},
   "source": [
    "## 2. Find the genre of a song\n",
    "### 2.1 Defining genre and subgenre"
   ]
  },
  {
   "cell_type": "markdown",
   "metadata": {},
   "source": [
    "Our work is based on the different genres and there are so many genres and fusion of genres that it's not easy to choose the main category. This website https://www.quora.com/What-is-the-basic-difference-between-different-genres-of-music-jazz-rock-pop-blues-rap-and-so-on provides us with 12 genres we found meaningfull:\n",
    "- Blues\n",
    "- Country\n",
    "- Electronica\n",
    "- Folk\n",
    "- Hip hop (note: we prefer Hip hop than R&B for the name of this category)\n",
    "- Jazz\n",
    "- Metal\n",
    "- Orchestral\n",
    "- Pop\n",
    "- Reggae\n",
    "- Rock\n",
    "- World\n",
    "\n",
    "This website also provides us with a list of subgenre for each genre that will be the baseline of our dictionary to match tags to a genre."
   ]
  },
  {
   "cell_type": "markdown",
   "metadata": {},
   "source": [
    "### 2.2 Create a first dictionary using beautiful soup\n",
    "\n",
    "So our first task was to scrap the [website](https://www.quora.com/What-is-the-basic-difference-between-different-genres-of-music-jazz-rock-pop-blues-rap-and-so-on) to create a dictionary that associate a subgenre to its genre.\n",
    "\n",
    "We create a function **clean_words** to have the terms in the same format:\n",
    "- without numbers\n",
    "- without special caracters !?-/;\n",
    "- without capital letters\n",
    "- without accent\n",
    "- without space a the begining and end of the string, and just one space between words\n",
    "- we also change the word 'hip hop' to 'hiphop' and 'r&b' to 'rnb' as there are common words for the tags."
   ]
  },
  {
   "cell_type": "code",
   "execution_count": null,
   "metadata": {
    "collapsed": true
   },
   "outputs": [],
   "source": [
    "def clean_word(w):\n",
    "    #INPUT: word to \"clean\"\n",
    "    #OUTPUT: the word after several \"cleaning\" \n",
    "    \n",
    "    w=w.lower()     # change capital letter to lower ones\n",
    "    w=unidecode.unidecode(w) #remove accent\n",
    "    w=re.sub(r'r&b','rnb', w) #change 'r&b' to 'rnb'\n",
    "    w=re.sub(r'[^\\w+]',' ', w)  #remove caracter\n",
    "    w=re.sub(r'[\\b\\d+\\b]',' ', w) #remove number\n",
    "    w=' '.join(w.split()) #remove double spaces and spaces at the begining and at the end\n",
    "    w=re.sub(r'hip hop','hiphop', w) # change 'hip hop' to 'hiphop'\n",
    "  \n",
    "    return w"
   ]
  },
  {
   "cell_type": "code",
   "execution_count": null,
   "metadata": {},
   "outputs": [],
   "source": [
    "# example of the cleaning done by clean_word()\n",
    "clean_word(' --> 90s    Hip hop!!   ')"
   ]
  },
  {
   "cell_type": "markdown",
   "metadata": {
    "collapsed": true
   },
   "source": [
    "The scraping takes care of updating the name of the category *r&b* to *hiphop*, and separating the subgenres that were seprated by a `'\\'` on the website (e.g. `Irish/Celtic/Gaelic`) into different subgenres. "
   ]
  },
  {
   "cell_type": "markdown",
   "metadata": {},
   "source": [
    "**Build a dictionary of the subgenres from the [website](https://www.quora.com/What-is-the-basic-difference-between-different-genres-of-music-jazz-rock-pop-blues-rap-and-so-on)** "
   ]
  },
  {
   "cell_type": "code",
   "execution_count": null,
   "metadata": {
    "collapsed": true
   },
   "outputs": [],
   "source": [
    "url = \"https://www.quora.com/What-is-the-basic-difference-between-different-genres-of-music-jazz-rock-pop-blues-rap-and-so-on\""
   ]
  },
  {
   "cell_type": "code",
   "execution_count": null,
   "metadata": {
    "scrolled": false
   },
   "outputs": [],
   "source": [
    "\n",
    "r = requests.get( url )\n",
    "page_body = r.text\n",
    "soup = BeautifulSoup(page_body, 'html.parser')\n",
    "\n",
    "# Find all genres\n",
    "genres = soup.findAll(\"p\", class_=\"qtext_para\")\n",
    "\n",
    "# Where we will store the words of our dictionary\n",
    "genre_dict = {}\n",
    "genre_list = []\n",
    "\n",
    "for genre in genres :\n",
    "    if genre.find('i') :\n",
    "        \n",
    "        # Classify the genre as a subgenre of its own genre\n",
    "        genre_name = genre.find('i').text\n",
    "        genre_name = clean_word(genre_name) #genre_name.replace(\":\", \"\").lower()\n",
    "        \n",
    "        # Change the genre rnb to hiphop\n",
    "        if genre_name=='rnb':\n",
    "            genre_name='hiphop'\n",
    "    \n",
    "        genre_dict[genre_name] = genre_name\n",
    "        genre_list.append(genre_name)\n",
    "        \n",
    "        \n",
    "        # Find the subgenres\n",
    "        subgenres = genre.find_next_sibling('ul')\n",
    "        if subgenres : \n",
    "            subgenres = subgenres.findAll('li')\n",
    "            \n",
    "            # Add the subgenres to the disctionary\n",
    "            for subgenre in subgenres :\n",
    "                subgenre_name = subgenre.find('i').text\n",
    "                # If there is a / add all word separatly\n",
    "                if '/' in subgenre_name:\n",
    "                    for subsubgenre_name in subgenre_name.split(\"/\"):\n",
    "                        genre_dict[ clean_word(subsubgenre_name)] = genre_name\n",
    "                else  : \n",
    "                    genre_dict[clean_word(subgenre_name)] = genre_name\n",
    "\n",
    "print(\"Dictionary of \" + str( len(genre_dict) ) + \" subgenres : \")                \n",
    "genre_dict"
   ]
  },
  {
   "cell_type": "code",
   "execution_count": null,
   "metadata": {},
   "outputs": [],
   "source": [
    "genre_list"
   ]
  },
  {
   "cell_type": "markdown",
   "metadata": {},
   "source": [
    "Finally, we notice that some basics music subgenres are missing from our dictionary such as *R&B*, *minimal*, *opera*... Let's associate these terms with the corresponding genre. We also delete alternative as it doesn't belong exclusively to the genre *Rock*"
   ]
  },
  {
   "cell_type": "code",
   "execution_count": null,
   "metadata": {
    "collapsed": true
   },
   "outputs": [],
   "source": [
    "genre_dict[\"electro\"] = \"electronica\"\n",
    "genre_dict[\"electronic\"] = \"electronica\"\n",
    "genre_dict[\"minimal\"] = \"electronica\"\n",
    "genre_dict[\"opera\"] = \"orchestral\"\n",
    "genre_dict[\"rnb\"]= \"hiphop\"\n",
    "\n",
    "del genre_dict['alternative']"
   ]
  },
  {
   "cell_type": "markdown",
   "metadata": {},
   "source": [
    "We have build a dictionary containing 137 entries."
   ]
  },
  {
   "cell_type": "markdown",
   "metadata": {},
   "source": [
    "### 2.3 Enrich our dictionary "
   ]
  },
  {
   "cell_type": "markdown",
   "metadata": {},
   "source": [
    "This dictionary should match the maximum of tags contained in :\n",
    "\n",
    "- `subset_unique_terms.txt`\n",
    "- `subset_unique_mbtags.txt`\n",
    "\n",
    "We first combine those 2 lists, clean each tags with the function `clean_word()` and keep just those that are unique. This is done by the function  `create_list_unique_terms` which takes as input, the path to the folder containing the lists, and the name of those two files and gives as output the combined list.\n",
    "\n",
    "To enrich our dictionary, we then check for each tags of this list if they are already present on our dictionary.\n",
    "If not we check each word of the tag separatfly, if they belong to our dictionary. If yes we add the entire tag with the found category. We did this check in the reverse order, as the main genre is usually at the end of the tag: (e.g. *'french rap'*, *'british rock'*)\n",
    "\n",
    "For example: `'lovers rock'` doesn't belong to our dictionary so we check the word separatly in reverse order:  `'rock'`, `'lovers'`. As `'rock'` belong to our dictionary, we add  `genre_dict['lovers rock']='rock'`."
   ]
  },
  {
   "cell_type": "code",
   "execution_count": null,
   "metadata": {
    "collapsed": true
   },
   "outputs": [],
   "source": [
    "def create_list_unique_terms(path,list_of_terms_names):\n",
    "    \"\"\"    \n",
    "    INPUT:  - path: the path to the folder 'AdditionalFiles'\n",
    "            - list_of_terms_names: name of the list of tags to combine\n",
    "    OUTPUT: - list_unique_terms: a list of \"cleaned\" unique tags.\n",
    "    \"\"\"\n",
    "          \n",
    "    \n",
    "    list_unique_terms=[]\n",
    "    for l_name in list_of_terms_names:\n",
    "        terms= open(os.path.join(path,l_name), 'r') \n",
    "        for t in terms:\n",
    "            clean_t=clean_word(t)\n",
    "            if clean_t not in list_unique_terms and len(clean_t)>0:\n",
    "                list_unique_terms.append(clean_t)\n",
    "                \n",
    "    return list_unique_terms\n",
    "\n",
    "def enrich_dictionary(genre_dict,path,list_of_terms_names):\n",
    "    \"\"\" \n",
    "    INPUT: - genre_dict: the dictionary to enrich\n",
    "           - path: the path to the folder 'AdditionalFiles'\n",
    "           - list_of_terms_names: name of the list of tags to combine\n",
    "    OUTPUT: - genre_dict: the enriched dictionary \n",
    "            - list_not_in_dict : the list of tags we didn't manage to match to a genre\n",
    "    \"\"\"\n",
    "    \n",
    "    # List of terms extracted from : 'subset_unique_terms.txt','subset_unique_mbtags.txt'\n",
    "    list_unique_terms=create_list_unique_terms(path,list_of_terms_names)\n",
    "    list_not_in_dict=[]\n",
    "\n",
    "    \n",
    "    # Counter for word : already in dictionary, added in dictionary, still not in dictionary:\n",
    "    original_len=len(genre_dict)\n",
    "    already_in_dict=0\n",
    "    add_in_dict=0\n",
    "    not_in_dict=0\n",
    "\n",
    "    for t in list_unique_terms:\n",
    "        if t in genre_dict:\n",
    "            already_in_dict+=1\n",
    "        else :\n",
    "         \n",
    "            for w in list(reversed(t.split())):\n",
    "                if w in genre_dict:\n",
    "                    category=genre_dict[w]\n",
    "                    genre_dict[t]=category\n",
    "                    add_in_dict+=1\n",
    "                    break\n",
    "   \n",
    "        if t not in genre_dict:\n",
    "            not_in_dict+=1\n",
    "            list_not_in_dict.append(t)\n",
    "            \n",
    "    print('\\n #tags that were already in our second dictionary:', already_in_dict,'/', original_len )\n",
    "    print(' #tags we added in our dictionary :',add_in_dict)\n",
    "    print(' #tags we did not catch',not_in_dict)\n",
    "            \n",
    "    return genre_dict,list_not_in_dict\n",
    "        \n",
    "            "
   ]
  },
  {
   "cell_type": "code",
   "execution_count": null,
   "metadata": {},
   "outputs": [],
   "source": [
    "list_of_terms_names=['subset_unique_terms.txt','subset_unique_mbtags.txt']\n",
    "genre_dict,list_not_in_dict=enrich_dictionary(genre_dict,msd_subset_addf_path,list_of_terms_names)"
   ]
  },
  {
   "cell_type": "markdown",
   "metadata": {},
   "source": [
    "As you can see on the 137 tags of our first dictionary, 121 were present in the list which is good.\n",
    "We successfully match 1213 other terms to a genre which gives us a dictionary of 1350 tags"
   ]
  },
  {
   "cell_type": "code",
   "execution_count": null,
   "metadata": {},
   "outputs": [],
   "source": [
    "#final lenght of our dictionary\n",
    "print(len(genre_dict))"
   ]
  },
  {
   "cell_type": "markdown",
   "metadata": {},
   "source": [
    "Looking at some of the 2396 tags we didn't manage to match, we see that for the most they don't belong to a genre we defined."
   ]
  },
  {
   "cell_type": "code",
   "execution_count": null,
   "metadata": {},
   "outputs": [],
   "source": [
    "for i in range(20):\n",
    "    print(list_not_in_dict[i])"
   ]
  },
  {
   "cell_type": "markdown",
   "metadata": {},
   "source": [
    "\n",
    "## 3. Create our dataframe\n",
    "\n",
    "### 3.1 get_genre() \n",
    "\n",
    "The function get_genre(), takes as input the H5 file and the song_idx (as a H5 could contains dofferent songs). With the function  `get_artist_terms()` we get the list of tags of the corresponding song e.g. for the song *Soul Deep* from *The Box Tops*, we get:\n",
    "\n",
    "`'blue-eyed soul' 'pop rock' 'blues-rock' 'beach music' 'soft rock'\n",
    " 'soul' 'classic rock' 'oldies' 'power pop' 'psychedelic rock' 'rock'\n",
    " 'sunshine pop' 'blues' 'singer-songwriter' 'pop' 'united states'\n",
    " 'male vocalist' \"rock 'n roll\" '60s' 'am pop' 'r&b' 'american'\n",
    " 'male' 'psychedelic' 'classic' 'vocal' 'americana' 'game music'\n",
    " 'mod' 'trippy' 'french' 'germany' 'canada' '70s' 'belgium' 'cover'\n",
    " 'nederland' 'confident'`\n",
    "\n",
    " \n",
    "Each of those tags are associated with a weight, that gives the importance of this tags for the song. For the song *Soul Deep* from *The Box Tops*, we get using the function `get_artist_terms_weight()` :\n",
    " \n",
    "  `  1.0         0.8459884   0.83068957  0.79929112  0.7882742   0.78409474\n",
    "0.78162137  0.77157135  0.76701044  0.76259756  0.74642957  0.72313246\n",
    "0.71631195  0.69145399  0.68487963  0.68092924  0.66818023  0.65671327\n",
    "0.64044927  0.62919326  0.62628879  0.62208271  0.60905077  0.60905061\n",
    "0.60905036  0.60905025  0.6090495   0.60681945  0.60252961  0.59761364\n",
    "0.56556785  0.55928456  0.55928206  0.5592817   0.55928128  0.55631773\n",
    "0.54045413  0.53544559`\n",
    " \n",
    " Using the dictionary  that we created,  we match each of those tags to a genre, and add its weight. \n",
    " For each genre we obtain a cumulative weight. For the song *Soul Deep* from *The Box Tops*, we get \n",
    " \n",
    "- rock: 4.34\n",
    "- pop: 3.6502041969675059\n",
    "- hiphop: 2.41\n",
    "- blues: 1.5470015243727424,\n",
    "- orchestral: 0.60905025347785446\n",
    "- folk , metal, jazz,world, country, electronica: 0\n",
    "\n",
    "Then we return the genre with the maximum cumulative weight, e.g *rock, 4.34* for the previous example.\n",
    "\n",
    "As all our study is based on the genre of the song we decide not to take the songs for which the cumulative weight was lower than 1 because this means that just one tag is refering to this genre and it could be biased.            \n"
   ]
  },
  {
   "cell_type": "code",
   "execution_count": null,
   "metadata": {},
   "outputs": [],
   "source": [
    "def clean_genre_terms(g):\n",
    "    g = g.replace(\"[\", \"\")\n",
    "    g = g.replace(\"]\", \"\")\n",
    "    return g.split(';')   \n",
    "    \n",
    "def get_genre(terms,weight):\n",
    "    genre_weight = {x: 0 for x in genre_list}\n",
    "    match = False\n",
    "    \n",
    "    terms = clean_genre_terms(terms)\n",
    "    weight = clean_genre_terms(weight)\n",
    "\n",
    "\n",
    "    for t_idx,t in enumerate(terms):\n",
    "        t = clean_word(t)\n",
    "        if t in genre_dict:\n",
    "            match=True\n",
    "            genre_weight[genre_dict[t]]+=float(weight[t_idx])\n",
    "    if match==False:\n",
    "        return pd.Series({'genre':0,'weigth':0})\n",
    "    else:\n",
    "        genre=max(genre_weight, key=lambda k: genre_weight[k])\n",
    "        return pd.Series({'genre':genre,'weigth':genre_weight[genre]})"
   ]
  },
  {
   "cell_type": "markdown",
   "metadata": {},
   "source": [
    "### 3.2 get_location() \n"
   ]
  },
  {
   "cell_type": "markdown",
   "metadata": {},
   "source": [
    "`get_location()`, takes as input the H5 file and the song_idx. When the latitude and longitude is not provided it looks if the location is provided, and try to associate the location to a latitude and longitude using gecoder. Below is an example of how geocoder works:"
   ]
  },
  {
   "cell_type": "code",
   "execution_count": null,
   "metadata": {},
   "outputs": [],
   "source": [
    "def get_location(location,lat,lng):\n",
    "    \"\"\"\n",
    "    INPUT: - row : dataframe row\n",
    "    OUTPUT: - the latitude and the longitude of the song producer location\n",
    "    \"\"\"\n",
    "    # Clean parameters\n",
    "    lat = float(lat)\n",
    "    lng = float(lng)\n",
    "    location = ' '.join(location.split())\n",
    "    \n",
    "    # search for location only if we don't already have the information\n",
    "    if np.isnan(lat) and location != \"\":\n",
    "        g = geocoder.arcgis(location)\n",
    "        try:\n",
    "            lat,lng = g.latlng\n",
    "        except:\n",
    "            print(\"except\")\n",
    "            lat,lng = np.nan,np.nan\n",
    "            \n",
    "    return pd.Series({\"artist_latitude\":lat,\"artist_longitude\":lng})   "
   ]
  },
  {
   "cell_type": "markdown",
   "metadata": {},
   "source": [
    "get_location is very long so we created a function to display the process progress"
   ]
  },
  {
   "cell_type": "code",
   "execution_count": null,
   "metadata": {},
   "outputs": [],
   "source": [
    "def get_location_progress_bar(location,lat,lng,index):\n",
    "    if index%23127 == 0:\n",
    "        print(\"Run {}%\".format(index/462546))\n",
    "    return get_location(location,lat,lng)  "
   ]
  },
  {
   "cell_type": "markdown",
   "metadata": {},
   "source": [
    "### 3.3 create_data_frame() \n",
    "**create_data_frame**\n",
    "\n",
    "Given the path of the Million Song data folder, the function `create_data_frame` loads each h5 files and for each song of this h5 files, extracts:\n",
    "    \n",
    "- The genre (with get_genre)\n",
    "- the weight of genre\n",
    "- the year,                        todo transform year to a pd.date? \n",
    "- the location (latitude, longitude)\n",
    "- the duration of the song\n",
    "- Familiarity – this corresponds to how well known an artist is.  You can look at familiarity as the likelihood that any person selected at random will have heard of the artist.  Beatles have a familiarity close to 1, while a band like ‘Hot Rod Shopping Cart’ has a familiarity close to 0.\n",
    "- Hotttnesss – this corresponds to how much buzz the artist is getting right now. This is derived from many sources, including mentions on the web, mentions in music blogs, music reviews, play counts, etc."
   ]
  },
  {
   "cell_type": "code",
   "execution_count": null,
   "metadata": {},
   "outputs": [],
   "source": [
    "def create_data_frame(df):\n",
    "    df = df.copy()\n",
    "    \n",
    "    # Interesting columns\n",
    "    columns = ['title',\n",
    "               'artist_name',\n",
    "               'year',\n",
    "               'duration',\n",
    "               'ArtistLocation',\n",
    "               'artist_latitude',\n",
    "               'artist_longitude',\n",
    "               'artist_familiarity',\n",
    "               'song_hotttnesss',\n",
    "               'artist_hotttnesss',\n",
    "               'loudness', \n",
    "               'tempo',\n",
    "               'artist_terms',\n",
    "               'ArtistTermWeight']\n",
    "    \n",
    "    # Keep interesting colunms\n",
    "    df = df[columns]\n",
    "    \n",
    "    # Get genre\n",
    "    print(\"Start get_genre\")\n",
    "    df[['genre','weigth']] = df.apply(lambda row: get_genre(row[\"artist_terms\"],\n",
    "                                                            row[\"ArtistTermWeight\"]), axis=1)\n",
    "    # Delete the songs without genre\n",
    "    df = df.loc[df.weigth > 0]\n",
    "    # Delete useless colunms\n",
    "    df = df.drop(['artist_terms','ArtistTermWeight'],axis=1)\n",
    "    print(\"get_genre finished\")\n",
    "                 \n",
    "    # Add latitute and longitude\n",
    "    print(\"Start get_location\")\n",
    "    df[['artist_latitude','artist_longitude']] =df.reset_index().apply(lambda row: get_location_progress_bar(row[\"ArtistLocation\"],\n",
    "                                                 row[\"artist_latitude\"],\n",
    "                                                 row[\"artist_longitude\"],\n",
    "                                                 row[\"index\"]), axis=1)\n",
    "    \n",
    "    return df"
   ]
  },
  {
   "cell_type": "code",
   "execution_count": null,
   "metadata": {
    "scrolled": true
   },
   "outputs": [],
   "source": [
    "cache_path = \"cache/\"\n",
    "def get_data(name_file):\n",
    "    '''Create and cache JSON data, return as a dataframe.'''\n",
    "    path = cache_path + name_file\n",
    "    try:        \n",
    "        f = open(path, 'rb')\n",
    "        df = pickle.load(f)   \n",
    "        print('Loaded {} from cache'.format(path))\n",
    "    except (OSError, IOError) as e:\n",
    "        print('Create dataframe')\n",
    "        # Load data\n",
    "        df = pd.read_csv(data_path)\n",
    "        # Create the dataframe\n",
    "        df = create_data_frame(df)   \n",
    "        # Save the dataframe\n",
    "        df.to_pickle(path)\n",
    "        print('Cached at {}'.format(path))\n",
    "    return df\n",
    "\n",
    "def save_data(df,name_file):\n",
    "    path = cache_path + name_file\n",
    "    df.to_pickle(path)"
   ]
  },
  {
   "cell_type": "code",
   "execution_count": null,
   "metadata": {},
   "outputs": [],
   "source": [
    "file_name = \"new_df123\"\n",
    "df = get_data(file_name)\n",
    "df.to_csv(cache_path + file_name)"
   ]
  },
  {
   "cell_type": "markdown",
   "metadata": {},
   "source": [
    "##### ADD COUNTRY"
   ]
  },
  {
   "cell_type": "code",
   "execution_count": null,
   "metadata": {
    "collapsed": true
   },
   "outputs": [],
   "source": [
    "def get_country(row):\n",
    "    if np.isnan(row.latitude) :\n",
    "        a=1\n",
    "        return None\n",
    "    else:\n",
    "        latlng=(row.latitude, row.longitude)\n",
    "        g = geocoder.reverse(latlng)\n",
    "        country=g.country\n",
    "\n",
    "        return country\n",
    "    \n",
    "#df['country']=df.apply(lambda address: get_country(address),raw=True,axis=1)"
   ]
  },
  {
   "cell_type": "markdown",
   "metadata": {},
   "source": [
    "## 4. First data analysis on different features\n",
    "### 4.1 Genre\n"
   ]
  },
  {
   "cell_type": "code",
   "execution_count": null,
   "metadata": {},
   "outputs": [],
   "source": [
    "fig = plt.figure(figsize=(8,6))\n",
    "df.groupby('genre')['genre'].count().plot('bar',title='#songs for the different genre')"
   ]
  },
  {
   "cell_type": "markdown",
   "metadata": {},
   "source": [
    "**Choose color(meaningfull) for each genre: **\n",
    "https://xkcd.com/color/rgb/\n",
    "\n",
    "As we will compare the different genre we try to attribute to each genre a \"meaningfull\" color (e.g metal:black, blues: light blue ...) "
   ]
  },
  {
   "cell_type": "code",
   "execution_count": null,
   "metadata": {
    "collapsed": true
   },
   "outputs": [],
   "source": [
    "genre_color={'blues':'#75bbfd','country':'#653700','electronica':'#9a0eea','folk':'#f97306','jazz':'#fac205',\n",
    "             'pop':'#ff81c0','metal':'#000000','rock':'#2242c7','orchestral':'#929591','hiphop':'#e50000',\n",
    "             'reggae':'#02ab2e','world':'#a0bf16'}"
   ]
  },
  {
   "cell_type": "code",
   "execution_count": null,
   "metadata": {},
   "outputs": [],
   "source": [
    "plt.figure(figsize=(20, 2))\n",
    "for i,genre in enumerate(genre_color):\n",
    "    plt.plot(2*i,0, marker='o',c=genre_color[genre], markersize=10)\n",
    "    plt.text(2*i-0.1*len(genre),0.01, genre, fontsize=16)\n",
    "    plt.xticks([])\n",
    "    plt.yticks([])"
   ]
  },
  {
   "cell_type": "code",
   "execution_count": null,
   "metadata": {
    "scrolled": false
   },
   "outputs": [],
   "source": [
    "fig = plt.figure(figsize=(10,5))\n",
    "ax = fig.add_subplot(111)\n",
    "plt.title('distribution of the cumulative weight')\n",
    "sns.distplot(df['genreweight'],ax=ax)"
   ]
  },
  {
   "cell_type": "markdown",
   "metadata": {},
   "source": [
    "\n",
    "### 4.2 Year\n",
    "\n"
   ]
  },
  {
   "cell_type": "code",
   "execution_count": null,
   "metadata": {},
   "outputs": [],
   "source": [
    "print(\"Number of row w/o value for year : \", len( df[ df['year']==0 ] ) )"
   ]
  },
  {
   "cell_type": "code",
   "execution_count": null,
   "metadata": {},
   "outputs": [],
   "source": [
    "fig = plt.figure(figsize=(10,5))\n",
    "ax = fig.add_subplot(111)\n",
    "plt.title('Year distribution')\n",
    "df['year'] = df['year'].astype(int)\n",
    "sns.distplot(df.loc[df['year']!=0,'year'],ax=ax)"
   ]
  },
  {
   "cell_type": "code",
   "execution_count": null,
   "metadata": {
    "collapsed": true
   },
   "outputs": [],
   "source": [
    "df=df[df['genreweight']>2]"
   ]
  },
  {
   "cell_type": "code",
   "execution_count": null,
   "metadata": {
    "collapsed": true
   },
   "outputs": [],
   "source": [
    "df['genre'].unique()"
   ]
  },
  {
   "cell_type": "code",
   "execution_count": null,
   "metadata": {
    "collapsed": true
   },
   "outputs": [],
   "source": [
    "def count_genre(year,genre,step,country=0):\n",
    "    \n",
    "        \n",
    "    df1=df[df['genre']==genre]\n",
    "    df1=df1[df1['year']>=year]\n",
    "    df1=df1[df1['year']<year+step]\n",
    "    if country!=0:\n",
    "        df1=df1[df1['country']==country]\n",
    "    \n",
    "    nbr=len(df1)\n",
    "    \n",
    "    return nbr\n",
    "\n",
    "\n",
    "step=3\n",
    "year_df=pd.DataFrame(np.arange(1960,2011-step,step),columns=['year'])\n",
    "for genre in df['genre'].unique():\n",
    "    year_df[genre]=year_df.year.apply(lambda x: count_genre(x,genre,step,'DE'))\n",
    "  \n",
    "year_df=year_df.set_index('year')"
   ]
  },
  {
   "cell_type": "code",
   "execution_count": null,
   "metadata": {
    "collapsed": true
   },
   "outputs": [],
   "source": [
    "year_df = year_df.divide(year_df .sum(axis=1), axis=0)"
   ]
  },
  {
   "cell_type": "code",
   "execution_count": null,
   "metadata": {
    "scrolled": true
   },
   "outputs": [],
   "source": [
    "year_df.head(10)"
   ]
  },
  {
   "cell_type": "code",
   "execution_count": null,
   "metadata": {},
   "outputs": [],
   "source": [
    "fig=plt.figure(figsize=(14,5))\n",
    "ax = fig.add_subplot(111)\n",
    "year_df.plot(kind='area',color = [genre_color[x] for x in  year_df.columns],ylim=[0,1],alpha=0.6, stacked=True,ax=ax)\n",
    "plt.legend(loc=3, fontsize=10, bbox_to_anchor=(1,0))\n",
    "\n",
    "#plt.annotate(\"hiphop\", fontsize=14, xy=(1995, 0.05), weight = 'bold')\n",
    "#plt.annotate(\"rock\", fontsize=18, xy=(1975, 0.4), weight = 'bold')\n",
    "#plt.annotate(\"jazz\", fontsize=14, xy=(1962, 0.7), weight = 'bold')\n",
    "#plt.annotate(\"country\", fontsize=12, xy=(1965, 0.9), weight = 'bold')\n",
    "#plt.annotate(\"metal\", fontsize=12, xy=(2000, 0.9), weight = 'bold')\n",
    "#plt.annotate(\"pop\", fontsize=14, xy=(1995, 0.75), weight = 'bold')\n",
    "#plt.annotate(\"reagge\", fontsize=12, xy=(1976, 0.97), weight = 'bold')\n",
    "#plt.annotate(\"electronica\", fontsize=12, xy=(1997, 0.56), weight = 'bold')\n",
    "#plt.annotate(\"blues\", fontsize=12, xy=(1982, 0.68), weight = 'bold')"
   ]
  },
  {
   "cell_type": "markdown",
   "metadata": {},
   "source": [
    "The aim is to obtain something like this:"
   ]
  },
  {
   "cell_type": "markdown",
   "metadata": {},
   "source": [
    "<img src=\"https://newartistmodel.com/wp-content/uploads/2014/11/Screen-Shot-2014-10-28-at-11.22.14-PM.png\">"
   ]
  },
  {
   "cell_type": "code",
   "execution_count": null,
   "metadata": {
    "collapsed": true
   },
   "outputs": [],
   "source": [
    "import plotly\n",
    "import plotly.plotly as py\n",
    "import plotly.graph_objs as go\n",
    "\n",
    "def year_pie_chart(year,year_end=0):\n",
    "    if year_end==0:\n",
    "        df1=df[df['year']==year]\n",
    "        \n",
    "    else:\n",
    "        df1=df[df['year']>=year]\n",
    "        df1=df1[df1['year']<year_end]\n",
    "        \n",
    "    fig1, ax1 = plt.subplots()\n",
    "    count=df1.genre.value_counts()\n",
    "    labels=count.index\n",
    "    colors=[genre_color[x] for x in labels]\n",
    "    ax1.pie(count,autopct='%1.1f%%',shadow=True, startangle=0,counterclock=False,labels=count.index,colors=colors)\n",
    "    "
   ]
  },
  {
   "cell_type": "code",
   "execution_count": null,
   "metadata": {},
   "outputs": [],
   "source": [
    "year_pie_chart(1960,2010)"
   ]
  },
  {
   "cell_type": "markdown",
   "metadata": {},
   "source": [
    "## Tempo, loudness"
   ]
  },
  {
   "cell_type": "code",
   "execution_count": null,
   "metadata": {},
   "outputs": [],
   "source": [
    "for genre in df['genre'].unique():\n",
    "    g = sns.jointplot(x=\"tempo\", y=\"loudness\", data=df[df['genre']==genre],xlim=[0,250], ylim=[0,-40], kind=\"kde\",color=genre_color[genre])\n",
    "    g.plot_joint(plt.scatter, s=30, linewidth=1, marker=\"+\",color=genre_color[genre])\n",
    "    g.ax_joint.collections[0].set_alpha(0)\n",
    "    g.set_axis_labels(\"$tempo$\", \"$loudness$\");  \n",
    "    g.fig.suptitle(genre)"
   ]
  },
  {
   "cell_type": "code",
   "execution_count": null,
   "metadata": {},
   "outputs": [],
   "source": [
    "fig = plt.figure(figsize=(16,10))\n",
    "ax = fig.add_subplot(111)\n",
    "for genre in df['genre'].unique():\n",
    "    dt=df[df['genre']==genre]\n",
    "    g =sns.distplot(dt['tempo'],hist=False,label=genre,color=genre_color[genre],ax=ax)\n",
    "    #g.set(xlim=(0, 700),ylim=(0,0.0125))\n",
    "  \n",
    "\n",
    "fig = plt.figure(figsize=(16,10))\n",
    "ax = fig.add_subplot(111)\n",
    "for genre in df['genre'].unique():\n",
    "    dt=df[df['genre']==genre]\n",
    "    g =sns.distplot(dt['loudness'],hist=False,label=genre,color=genre_color[genre],ax=ax)\n",
    "    #g.set(xlim=(0, 700),ylim=(0,0.0125))"
   ]
  },
  {
   "cell_type": "markdown",
   "metadata": {},
   "source": [
    "## 4.3 Hotttnesss & Familiarity"
   ]
  },
  {
   "cell_type": "code",
   "execution_count": null,
   "metadata": {
    "collapsed": true
   },
   "outputs": [],
   "source": [
    "def count_hotttness(year,genre,step,n_most):\n",
    "    df1=df[df['year']>=year]\n",
    "    df1=df1[df1['year']<year+step]\n",
    "    df1=df1.sort_values(['hotttnesss'], ascending=[0])\n",
    "    if len(df1)>n_most:\n",
    "        df1=df1.head(n_most)\n",
    "    df1=df1[df1['genre']==genre]\n",
    "   \n",
    "    nbr=len(df1)\n",
    "    return nbr\n",
    "\n",
    "def count_familiarity(year,genre,step,n_most):\n",
    "    df1=df[df['year']>=year]\n",
    "    df1=df1[df1['year']<year+step]\n",
    "    df1=df1.sort_values(['familiarity'], ascending=[0])\n",
    "    if len(df1)>n_most:\n",
    "        df1=df1.head(n_most)\n",
    "    df1=df1[df1['genre']==genre]\n",
    "   \n",
    "    nbr=len(df1)\n",
    "    return nbr\n",
    "\n",
    "step=3\n",
    "n_most=10\n",
    "\n",
    "h_df=pd.DataFrame(np.arange(1960,2011-step,step),columns=['year'])\n",
    "for genre in df['genre'].unique():\n",
    "    h_df[genre]=h_df.year.apply(lambda x: count_hotttness(x,genre,step,n_most))\n",
    "h_df=h_df.set_index('year')\n",
    "\n",
    "\n",
    "f_df=pd.DataFrame(np.arange(1960,2011-step,step),columns=['year'])\n",
    "for genre in df['genre'].unique():\n",
    "    f_df[genre]=f_df.year.apply(lambda x: count_familiarity(x,genre,step,n_most))\n",
    "f_df=f_df.set_index('year')\n"
   ]
  },
  {
   "cell_type": "code",
   "execution_count": null,
   "metadata": {
    "collapsed": true
   },
   "outputs": [],
   "source": [
    "def area_plot(df_,title):\n",
    "    df_ = df_.divide(df_ .sum(axis=1), axis=0)\n",
    "    fig=plt.figure(figsize=(14,5))\n",
    "    ax = fig.add_subplot(111)\n",
    "    df_.plot(kind='area',color = [genre_color[x] for x in df_.columns],ylim=[0,1],alpha=0.6, stacked=True,ax=ax,title=title)\n",
    "    plt.legend(loc=3, fontsize=10, bbox_to_anchor=(1,0))"
   ]
  },
  {
   "cell_type": "code",
   "execution_count": null,
   "metadata": {},
   "outputs": [],
   "source": [
    "area_plot(h_df,'10 most hotttnesss song')"
   ]
  },
  {
   "cell_type": "code",
   "execution_count": null,
   "metadata": {},
   "outputs": [],
   "source": [
    "area_plot(f_df,'10 most familiar song')"
   ]
  },
  {
   "cell_type": "code",
   "execution_count": null,
   "metadata": {},
   "outputs": [],
   "source": [
    "print('hotttnesss=0',len(df[df['hotttnesss']==0]))\n",
    "print('familiarity=0',len(df[df['familiarity']==0]))"
   ]
  },
  {
   "cell_type": "code",
   "execution_count": null,
   "metadata": {},
   "outputs": [],
   "source": [
    "fig = plt.figure(figsize=(10,5))\n",
    "g = sns.jointplot(x=\"familiarity\", y=\"hotttnesss\", data=df, kind=\"kde\",xlim=[0,1], ylim=[0,1])\n",
    "g.plot_joint(plt.scatter, s=30, linewidth=1, marker=\"+\")\n",
    "g.ax_joint.collections[0].set_alpha(0)\n",
    "g.set_axis_labels(\"$familiarity$\", \"$hotttnesss$\");"
   ]
  },
  {
   "cell_type": "markdown",
   "metadata": {},
   "source": [
    "We can see a correlation between hotttnesss and familiarity."
   ]
  },
  {
   "cell_type": "code",
   "execution_count": null,
   "metadata": {},
   "outputs": [],
   "source": [
    "for genre in df['genre'].unique():\n",
    "    g = sns.jointplot(x=\"familiarity\", y=\"hotttnesss\", data=df[df['genre']==genre], kind=\"kde\",xlim=[0,1], ylim=[0,1],color=genre_color[genre])\n",
    "    g.plot_joint(plt.scatter, s=30, linewidth=1, marker=\"+\",color=genre_color[genre])\n",
    "    g.ax_joint.collections[0].set_alpha(0)\n",
    "    g.set_axis_labels(\"$familiarity$\", \"$hotttnesss$\");\n",
    "    g.fig.suptitle(genre)"
   ]
  },
  {
   "cell_type": "markdown",
   "metadata": {},
   "source": [
    "## 4.4 Song duration"
   ]
  },
  {
   "cell_type": "markdown",
   "metadata": {},
   "source": [
    "The song duration looks like a perfect gaussian , we could have expect to see 2 pics. "
   ]
  },
  {
   "cell_type": "code",
   "execution_count": null,
   "metadata": {},
   "outputs": [],
   "source": [
    "print('#duration=0 : ',len(df[df['duration']==0]))\n",
    "fig = plt.figure(figsize=(10,5))\n",
    "ax = fig.add_subplot(111)\n",
    "sns.distplot(df['duration'][df['duration']!=0],ax=ax)"
   ]
  },
  {
   "cell_type": "markdown",
   "metadata": {},
   "source": [
    "Looking at the distribution of the different genre separetly. One can see that some genre have a more broader distribution than others. The distrbution of elctronic music is really flat as there is longer songs."
   ]
  },
  {
   "cell_type": "code",
   "execution_count": null,
   "metadata": {},
   "outputs": [],
   "source": [
    "fig = plt.figure(figsize=(16,10))\n",
    "ax = fig.add_subplot(111)\n",
    "for genre in df['genre'].unique():\n",
    "    dt=df[df['genre']==genre]\n",
    "    g =sns.distplot(dt['duration'][dt['duration']!=0],hist=False,label=genre,color=genre_color[genre],ax=ax)\n",
    "    g.set(xlim=(0, 700),ylim=(0,0.0125))\n",
    "    "
   ]
  },
  {
   "cell_type": "markdown",
   "metadata": {},
   "source": [
    "### Map visualization\n",
    "Let's display the rock music evolution over time"
   ]
  },
  {
   "cell_type": "code",
   "execution_count": null,
   "metadata": {},
   "outputs": [],
   "source": [
    "import folium\n",
    "from folium import plugins\n",
    "\n",
    "map_hooray = folium.Map([48., 5.], tiles='stamentoner', zoom_start=2) \n",
    "\n",
    "data = df.loc[df.genre == \"rock\"]\n",
    "\n",
    "# Ensure you're handing it floats\n",
    "#data['latitude'] = data['latitude'].astype(float)\n",
    "#data['longitude'] = data['longitude'].astype(float)\n",
    "\n",
    "# Filter the DF for rows, then columns, then remove NaNs\n",
    "heat_df = data.dropna()\n",
    "heat_df = data.loc[data.year != 0]\n",
    "heat_df = heat_df[['latitude', 'longitude']]\n",
    "\n",
    "# Create weight column, using date\n",
    "heat_df['Weight'] = data['year']\n",
    "heat_df['Weight'] = heat_df['Weight'].astype(float)\n",
    "heat_df = heat_df.dropna(axis=0, subset=['latitude','longitude', 'Weight'])\n",
    "\n",
    "# List comprehension to make out list of lists\n",
    "heat_data = [[[row['latitude'],row['longitude']] for index, row in heat_df[heat_df['Weight'] == i].iterrows()] for i in range(1955,2000)]\n",
    "\n",
    "# Plot it on the map\n",
    "hm = plugins.HeatMapWithTime(heat_data,auto_play=True,max_opacity=0.8)\n",
    "hm.add_to(map_hooray)\n",
    "# Display the map\n",
    "map_hooray"
   ]
  },
  {
   "cell_type": "markdown",
   "metadata": {},
   "source": [
    "## 5. Future Work\n",
    "### Visualizations\n",
    "\n",
    "#### Music genre analysis\n",
    "- Display what define a music genre\n",
    "- Draw portraits of musical genres\n",
    "#### Music genre evolution over time and location\n",
    "- Display a music genre propagation over time on an interactive map\n",
    "- Display the music genres production over time"
   ]
  }
 ],
 "metadata": {
  "kernelspec": {
   "display_name": "Python [default]",
   "language": "python",
   "name": "python3"
  },
  "language_info": {
   "codemirror_mode": {
    "name": "ipython",
    "version": 3
   },
   "file_extension": ".py",
   "mimetype": "text/x-python",
   "name": "python",
   "nbconvert_exporter": "python",
   "pygments_lexer": "ipython3",
   "version": "3.6.1"
  }
 },
 "nbformat": 4,
 "nbformat_minor": 2
}
